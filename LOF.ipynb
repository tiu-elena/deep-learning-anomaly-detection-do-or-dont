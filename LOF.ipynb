{
 "cells": [
  {
   "cell_type": "markdown",
   "id": "123c1709-aadd-4c93-a80a-0a0c44290983",
   "metadata": {},
   "source": [
    "# LOF"
   ]
  },
  {
   "cell_type": "code",
   "execution_count": 2,
   "id": "2520ef24",
   "metadata": {},
   "outputs": [],
   "source": [
    "import warnings\n",
    "warnings.filterwarnings('ignore')"
   ]
  },
  {
   "cell_type": "markdown",
   "id": "11e4854b-87bd-490e-88e4-9a64631dc5bb",
   "metadata": {
    "tags": []
   },
   "source": [
    "## Libraries import"
   ]
  },
  {
   "cell_type": "code",
   "execution_count": 3,
   "id": "feba20a1-5d20-4127-888b-b0e4c72f4757",
   "metadata": {},
   "outputs": [],
   "source": [
    "import pandas as pd\n",
    "from sklearn.metrics import confusion_matrix, classification_report,precision_recall_curve\n",
    "from sklearn import metrics\n",
    "from sklearn.neighbors import LocalOutlierFactor\n",
    "from sklearn.preprocessing import MinMaxScaler, OneHotEncoder\n",
    "import time"
   ]
  },
  {
   "cell_type": "markdown",
   "id": "f1d347c9",
   "metadata": {},
   "source": [
    "## Prediction translation"
   ]
  },
  {
   "cell_type": "code",
   "execution_count": 4,
   "id": "b35bd585-3d7d-4fba-9687-81c7a9a37040",
   "metadata": {},
   "outputs": [],
   "source": [
    "def def_outlier(df):\n",
    "    if (df['y_pred'] in [-1]):\n",
    "        val = 1\n",
    "    else:\n",
    "        val = 0\n",
    "    return val"
   ]
  },
  {
   "cell_type": "markdown",
   "id": "b7db27ee-405e-4faa-a7e9-6b8cdf41d437",
   "metadata": {
    "jp-MarkdownHeadingCollapsed": true,
    "tags": []
   },
   "source": [
    "## Arrhythmia"
   ]
  },
  {
   "cell_type": "markdown",
   "id": "0f43ce42",
   "metadata": {},
   "source": [
    "**Dataset source**: http://odds.cs.stonybrook.edu/arrhythmia-dataset/ (data is transformed from .mat to .csv format)\n",
    "\n",
    "Shebuti Rayana (2016). ODDS Library [http://odds.cs.stonybrook.edu]. Stony Brook, NY: Stony Brook University, Department of Computer Science.\n",
    "\n",
    "**Additional sources**:\n",
    "\n",
    "Liu, Fei Tony, Kai Ming Ting, and Zhi-Hua Zhou. “Isolation forest.” 2008 Eighth IEEE International Conference on Data Mining. IEEE, 2008.\n",
    "\n",
    "K. M. Ting, J. T. S. Chuan, and F. T. Liu. “Mass: A New Ranking Measure for Anomaly Detection.“, IEEE Transactions on Knowledge and Data Engineering, 2009.\n",
    "\n",
    "F. Keller, E. Muller, K. Bohm.“HiCS: High-contrast subspaces for density-based outlier ranking.” ICDE, 2012."
   ]
  },
  {
   "cell_type": "code",
   "execution_count": 5,
   "id": "a433c409-f51f-402b-8581-759c81670d7b",
   "metadata": {
    "scrolled": true
   },
   "outputs": [],
   "source": [
    "data = pd.read_csv('./arrhythmia.csv', sep = ',')"
   ]
  },
  {
   "cell_type": "code",
   "execution_count": 6,
   "id": "9f34ed3a-f570-4f95-b4f0-d1dfed0f46e3",
   "metadata": {},
   "outputs": [],
   "source": [
    "# dropping columns that consist only of 0's\n",
    "data = data.drop(columns = ['Col15', 'Col63', 'Col65', 'Col79', 'Col127', 'Col128','Col135', 'Col137', 'Col139','Col141',\n",
    "'Col147', 'Col152', 'Col153','Col160','Col200', 'Col260', 'Col270'])"
   ]
  },
  {
   "cell_type": "code",
   "execution_count": 7,
   "id": "a2922c1c-284f-420b-954d-ecf924697f54",
   "metadata": {},
   "outputs": [
    {
     "data": {
      "text/html": [
       "<div>\n",
       "<style scoped>\n",
       "    .dataframe tbody tr th:only-of-type {\n",
       "        vertical-align: middle;\n",
       "    }\n",
       "\n",
       "    .dataframe tbody tr th {\n",
       "        vertical-align: top;\n",
       "    }\n",
       "\n",
       "    .dataframe thead th {\n",
       "        text-align: right;\n",
       "    }\n",
       "</style>\n",
       "<table border=\"1\" class=\"dataframe\">\n",
       "  <thead>\n",
       "    <tr style=\"text-align: right;\">\n",
       "      <th></th>\n",
       "      <th>Col1</th>\n",
       "      <th>Col2</th>\n",
       "      <th>Col3</th>\n",
       "      <th>Col4</th>\n",
       "      <th>Col5</th>\n",
       "      <th>Col6</th>\n",
       "      <th>Col7</th>\n",
       "      <th>Col8</th>\n",
       "      <th>Col9</th>\n",
       "      <th>Col10</th>\n",
       "      <th>...</th>\n",
       "      <th>Col265</th>\n",
       "      <th>Col266</th>\n",
       "      <th>Col267</th>\n",
       "      <th>Col268</th>\n",
       "      <th>Col269</th>\n",
       "      <th>Col271</th>\n",
       "      <th>Col272</th>\n",
       "      <th>Col273</th>\n",
       "      <th>Col274</th>\n",
       "      <th>y</th>\n",
       "    </tr>\n",
       "  </thead>\n",
       "  <tbody>\n",
       "    <tr>\n",
       "      <th>0</th>\n",
       "      <td>75.0</td>\n",
       "      <td>0.0</td>\n",
       "      <td>190.0</td>\n",
       "      <td>80.0</td>\n",
       "      <td>91.0</td>\n",
       "      <td>193.0</td>\n",
       "      <td>371.0</td>\n",
       "      <td>174.0</td>\n",
       "      <td>121.0</td>\n",
       "      <td>-16.0</td>\n",
       "      <td>...</td>\n",
       "      <td>-0.3</td>\n",
       "      <td>0.0</td>\n",
       "      <td>9.0</td>\n",
       "      <td>-0.9</td>\n",
       "      <td>0.0</td>\n",
       "      <td>0.9</td>\n",
       "      <td>2.9</td>\n",
       "      <td>23.3</td>\n",
       "      <td>49.4</td>\n",
       "      <td>1</td>\n",
       "    </tr>\n",
       "    <tr>\n",
       "      <th>1</th>\n",
       "      <td>56.0</td>\n",
       "      <td>1.0</td>\n",
       "      <td>165.0</td>\n",
       "      <td>64.0</td>\n",
       "      <td>81.0</td>\n",
       "      <td>174.0</td>\n",
       "      <td>401.0</td>\n",
       "      <td>149.0</td>\n",
       "      <td>39.0</td>\n",
       "      <td>25.0</td>\n",
       "      <td>...</td>\n",
       "      <td>-0.5</td>\n",
       "      <td>0.0</td>\n",
       "      <td>8.5</td>\n",
       "      <td>0.0</td>\n",
       "      <td>0.0</td>\n",
       "      <td>0.2</td>\n",
       "      <td>2.1</td>\n",
       "      <td>20.4</td>\n",
       "      <td>38.8</td>\n",
       "      <td>0</td>\n",
       "    </tr>\n",
       "    <tr>\n",
       "      <th>2</th>\n",
       "      <td>54.0</td>\n",
       "      <td>0.0</td>\n",
       "      <td>172.0</td>\n",
       "      <td>95.0</td>\n",
       "      <td>138.0</td>\n",
       "      <td>163.0</td>\n",
       "      <td>386.0</td>\n",
       "      <td>185.0</td>\n",
       "      <td>102.0</td>\n",
       "      <td>96.0</td>\n",
       "      <td>...</td>\n",
       "      <td>0.9</td>\n",
       "      <td>0.0</td>\n",
       "      <td>9.5</td>\n",
       "      <td>-2.4</td>\n",
       "      <td>0.0</td>\n",
       "      <td>0.3</td>\n",
       "      <td>3.4</td>\n",
       "      <td>12.3</td>\n",
       "      <td>49.0</td>\n",
       "      <td>0</td>\n",
       "    </tr>\n",
       "    <tr>\n",
       "      <th>3</th>\n",
       "      <td>55.0</td>\n",
       "      <td>0.0</td>\n",
       "      <td>175.0</td>\n",
       "      <td>94.0</td>\n",
       "      <td>100.0</td>\n",
       "      <td>202.0</td>\n",
       "      <td>380.0</td>\n",
       "      <td>179.0</td>\n",
       "      <td>143.0</td>\n",
       "      <td>28.0</td>\n",
       "      <td>...</td>\n",
       "      <td>0.1</td>\n",
       "      <td>0.0</td>\n",
       "      <td>12.2</td>\n",
       "      <td>-2.2</td>\n",
       "      <td>0.0</td>\n",
       "      <td>0.4</td>\n",
       "      <td>2.6</td>\n",
       "      <td>34.6</td>\n",
       "      <td>61.6</td>\n",
       "      <td>0</td>\n",
       "    </tr>\n",
       "    <tr>\n",
       "      <th>4</th>\n",
       "      <td>75.0</td>\n",
       "      <td>0.0</td>\n",
       "      <td>190.0</td>\n",
       "      <td>80.0</td>\n",
       "      <td>88.0</td>\n",
       "      <td>181.0</td>\n",
       "      <td>360.0</td>\n",
       "      <td>177.0</td>\n",
       "      <td>103.0</td>\n",
       "      <td>-16.0</td>\n",
       "      <td>...</td>\n",
       "      <td>-0.4</td>\n",
       "      <td>0.0</td>\n",
       "      <td>13.1</td>\n",
       "      <td>-3.6</td>\n",
       "      <td>0.0</td>\n",
       "      <td>-0.1</td>\n",
       "      <td>3.9</td>\n",
       "      <td>25.4</td>\n",
       "      <td>62.8</td>\n",
       "      <td>1</td>\n",
       "    </tr>\n",
       "  </tbody>\n",
       "</table>\n",
       "<p>5 rows × 258 columns</p>\n",
       "</div>"
      ],
      "text/plain": [
       "   Col1  Col2   Col3  Col4   Col5   Col6   Col7   Col8   Col9  Col10  ...  \\\n",
       "0  75.0   0.0  190.0  80.0   91.0  193.0  371.0  174.0  121.0  -16.0  ...   \n",
       "1  56.0   1.0  165.0  64.0   81.0  174.0  401.0  149.0   39.0   25.0  ...   \n",
       "2  54.0   0.0  172.0  95.0  138.0  163.0  386.0  185.0  102.0   96.0  ...   \n",
       "3  55.0   0.0  175.0  94.0  100.0  202.0  380.0  179.0  143.0   28.0  ...   \n",
       "4  75.0   0.0  190.0  80.0   88.0  181.0  360.0  177.0  103.0  -16.0  ...   \n",
       "\n",
       "   Col265  Col266  Col267  Col268  Col269  Col271  Col272  Col273  Col274  y  \n",
       "0    -0.3     0.0     9.0    -0.9     0.0     0.9     2.9    23.3    49.4  1  \n",
       "1    -0.5     0.0     8.5     0.0     0.0     0.2     2.1    20.4    38.8  0  \n",
       "2     0.9     0.0     9.5    -2.4     0.0     0.3     3.4    12.3    49.0  0  \n",
       "3     0.1     0.0    12.2    -2.2     0.0     0.4     2.6    34.6    61.6  0  \n",
       "4    -0.4     0.0    13.1    -3.6     0.0    -0.1     3.9    25.4    62.8  1  \n",
       "\n",
       "[5 rows x 258 columns]"
      ]
     },
     "execution_count": 7,
     "metadata": {},
     "output_type": "execute_result"
    }
   ],
   "source": [
    "data.head()"
   ]
  },
  {
   "cell_type": "code",
   "execution_count": 8,
   "id": "7a470d6c-c28d-4798-aec0-2361530d8bf8",
   "metadata": {},
   "outputs": [
    {
     "data": {
      "text/plain": [
       "(452, 258)"
      ]
     },
     "execution_count": 8,
     "metadata": {},
     "output_type": "execute_result"
    }
   ],
   "source": [
    "data.shape"
   ]
  },
  {
   "cell_type": "code",
   "execution_count": 9,
   "id": "937686a7-6d97-4ed0-890a-4575bd4403f9",
   "metadata": {},
   "outputs": [
    {
     "data": {
      "text/html": [
       "<div>\n",
       "<style scoped>\n",
       "    .dataframe tbody tr th:only-of-type {\n",
       "        vertical-align: middle;\n",
       "    }\n",
       "\n",
       "    .dataframe tbody tr th {\n",
       "        vertical-align: top;\n",
       "    }\n",
       "\n",
       "    .dataframe thead th {\n",
       "        text-align: right;\n",
       "    }\n",
       "</style>\n",
       "<table border=\"1\" class=\"dataframe\">\n",
       "  <thead>\n",
       "    <tr style=\"text-align: right;\">\n",
       "      <th></th>\n",
       "      <th>Col1</th>\n",
       "    </tr>\n",
       "    <tr>\n",
       "      <th>y</th>\n",
       "      <th></th>\n",
       "    </tr>\n",
       "  </thead>\n",
       "  <tbody>\n",
       "    <tr>\n",
       "      <th>0</th>\n",
       "      <td>386</td>\n",
       "    </tr>\n",
       "    <tr>\n",
       "      <th>1</th>\n",
       "      <td>66</td>\n",
       "    </tr>\n",
       "  </tbody>\n",
       "</table>\n",
       "</div>"
      ],
      "text/plain": [
       "   Col1\n",
       "y      \n",
       "0   386\n",
       "1    66"
      ]
     },
     "execution_count": 9,
     "metadata": {},
     "output_type": "execute_result"
    }
   ],
   "source": [
    "pd.pivot_table(data,\n",
    "             values = 'Col1',\n",
    "               index = 'y', \n",
    "              aggfunc = 'count')"
   ]
  },
  {
   "cell_type": "markdown",
   "id": "9f3a7613-82a2-4c4c-beb5-2f26971f5fc0",
   "metadata": {
    "jp-MarkdownHeadingCollapsed": true,
    "tags": []
   },
   "source": [
    "### LOF"
   ]
  },
  {
   "cell_type": "code",
   "execution_count": 10,
   "id": "e2085f36-1efc-4468-88b5-899fe2588a72",
   "metadata": {},
   "outputs": [],
   "source": [
    "min_max_scaler = MinMaxScaler(feature_range=(0, 1))\n",
    "train_data = min_max_scaler.fit_transform(data.copy())\n",
    "train_data = pd.DataFrame(train_data)\n",
    "train_data.columns = data.columns"
   ]
  },
  {
   "cell_type": "code",
   "execution_count": 11,
   "id": "352cf2fc-8c1f-4033-9f43-9cebf90f9822",
   "metadata": {},
   "outputs": [
    {
     "name": "stdout",
     "output_type": "stream",
     "text": [
      "0.859375\n"
     ]
    }
   ],
   "source": [
    "start = time.process_time()\n",
    "lof = LocalOutlierFactor(n_neighbors=10, contamination=.1)\n",
    "y_pred = lof.fit_predict(train_data.loc[:, train_data.columns != 'y'])\n",
    "y_scores = lof.negative_outlier_factor_\n",
    "end = time.process_time()\n",
    "arrhythmia_lof_train_test_time = end - start\n",
    "print(end - start)"
   ]
  },
  {
   "cell_type": "code",
   "execution_count": 12,
   "id": "0dfc856f-bad3-49e5-b15b-42739a0a4c89",
   "metadata": {},
   "outputs": [],
   "source": [
    "train_data['y_pred'] = y_pred\n",
    "train_data['prediction'] = train_data.apply(def_outlier, axis = 1)\n",
    "train_data['y_scores'] = -y_scores"
   ]
  },
  {
   "cell_type": "code",
   "execution_count": 13,
   "id": "1379958d-4d1a-41b8-bc45-cf0cbaa5d8c4",
   "metadata": {},
   "outputs": [
    {
     "data": {
      "text/plain": [
       "array([[354,  32],\n",
       "       [ 52,  14]], dtype=int64)"
      ]
     },
     "execution_count": 13,
     "metadata": {},
     "output_type": "execute_result"
    }
   ],
   "source": [
    "confusion_matrix(train_data['y'], train_data['prediction'])"
   ]
  },
  {
   "cell_type": "code",
   "execution_count": 14,
   "id": "311fc61b",
   "metadata": {},
   "outputs": [
    {
     "data": {
      "text/plain": [
       "0.7202072538860104"
      ]
     },
     "execution_count": 14,
     "metadata": {},
     "output_type": "execute_result"
    }
   ],
   "source": [
    "fpr, tpr, _ = metrics.roc_curve(train_data['y'], train_data['y_scores'])\n",
    "arrhythmia_lof_auc = metrics.auc(fpr, tpr)\n",
    "metrics.auc(fpr, tpr)"
   ]
  },
  {
   "cell_type": "code",
   "execution_count": 15,
   "id": "9d70d396",
   "metadata": {},
   "outputs": [
    {
     "name": "stdout",
     "output_type": "stream",
     "text": [
      "              precision    recall  f1-score   support\n",
      "\n",
      "           0       0.87      0.92      0.89       386\n",
      "           1       0.30      0.21      0.25        66\n",
      "\n",
      "    accuracy                           0.81       452\n",
      "   macro avg       0.59      0.56      0.57       452\n",
      "weighted avg       0.79      0.81      0.80       452\n",
      "\n"
     ]
    }
   ],
   "source": [
    "arrhythmia_lof_report = classification_report(train_data['y'], train_data['prediction'], target_names = ['0','1'], output_dict=True)\n",
    "print(classification_report(train_data['y'], train_data['prediction'], target_names = ['0','1']))"
   ]
  },
  {
   "cell_type": "code",
   "execution_count": 16,
   "id": "31099023",
   "metadata": {},
   "outputs": [
    {
     "name": "stdout",
     "output_type": "stream",
     "text": [
      "0.3377937812666328\n"
     ]
    }
   ],
   "source": [
    "precision, recall, thresholds = precision_recall_curve(train_data['y'], train_data['y_scores'])\n",
    "arrhythmia_lof_auc_precision_recall = metrics.auc(recall, precision)\n",
    "print(arrhythmia_lof_auc_precision_recall)"
   ]
  },
  {
   "cell_type": "markdown",
   "id": "f718677d-53c1-46f9-9efc-346cdacdb947",
   "metadata": {
    "jp-MarkdownHeadingCollapsed": true,
    "tags": []
   },
   "source": [
    "## Cardiotocography"
   ]
  },
  {
   "cell_type": "markdown",
   "id": "41f294fa",
   "metadata": {},
   "source": [
    "**Dataset source**: http://odds.cs.stonybrook.edu/cardiotocogrpahy-dataset/ (data is transformed from .mat to .csv format)\n",
    "\n",
    "Shebuti Rayana (2016). ODDS Library [http://odds.cs.stonybrook.edu]. Stony Brook, NY: Stony Brook University, Department of Computer Science.\n",
    "\n",
    "**Additional sources:**\n",
    "\n",
    "C. C. Aggarwal and S. Sathe, “Theoretical foundations and algorithms for outlier ensembles.” ACM SIGKDD Explorations Newsletter, vol. 17, no. 1, pp. 24–47, 2015.\n",
    "\n",
    "Saket Sathe and Charu C. Aggarwal. LODES: Local Density meets Spectral Outlier Detection. SIAM Conference on Data Mining, 2016."
   ]
  },
  {
   "cell_type": "code",
   "execution_count": 17,
   "id": "1f2814fa-e915-4614-9e0a-8d54d4e7fbad",
   "metadata": {},
   "outputs": [],
   "source": [
    "data = pd.read_csv('./Cardiotocography.csv')"
   ]
  },
  {
   "cell_type": "code",
   "execution_count": 18,
   "id": "b9687121-a76a-4e0b-83da-42725fddaeb7",
   "metadata": {},
   "outputs": [
    {
     "data": {
      "text/plain": [
       "(1831, 22)"
      ]
     },
     "execution_count": 18,
     "metadata": {},
     "output_type": "execute_result"
    }
   ],
   "source": [
    "data.shape"
   ]
  },
  {
   "cell_type": "code",
   "execution_count": 19,
   "id": "d07338e9-ea55-4352-b6ab-960b2f4ab6d4",
   "metadata": {},
   "outputs": [],
   "source": [
    "data['y'] = data['y'].astype(int)"
   ]
  },
  {
   "cell_type": "code",
   "execution_count": 20,
   "id": "cf4c6400-faca-46d0-bfe4-1736250774f1",
   "metadata": {},
   "outputs": [
    {
     "data": {
      "text/html": [
       "<div>\n",
       "<style scoped>\n",
       "    .dataframe tbody tr th:only-of-type {\n",
       "        vertical-align: middle;\n",
       "    }\n",
       "\n",
       "    .dataframe tbody tr th {\n",
       "        vertical-align: top;\n",
       "    }\n",
       "\n",
       "    .dataframe thead th {\n",
       "        text-align: right;\n",
       "    }\n",
       "</style>\n",
       "<table border=\"1\" class=\"dataframe\">\n",
       "  <thead>\n",
       "    <tr style=\"text-align: right;\">\n",
       "      <th></th>\n",
       "      <th>Col1</th>\n",
       "    </tr>\n",
       "    <tr>\n",
       "      <th>y</th>\n",
       "      <th></th>\n",
       "    </tr>\n",
       "  </thead>\n",
       "  <tbody>\n",
       "    <tr>\n",
       "      <th>0</th>\n",
       "      <td>1655</td>\n",
       "    </tr>\n",
       "    <tr>\n",
       "      <th>1</th>\n",
       "      <td>176</td>\n",
       "    </tr>\n",
       "  </tbody>\n",
       "</table>\n",
       "</div>"
      ],
      "text/plain": [
       "   Col1\n",
       "y      \n",
       "0  1655\n",
       "1   176"
      ]
     },
     "execution_count": 20,
     "metadata": {},
     "output_type": "execute_result"
    }
   ],
   "source": [
    "pd.pivot_table(data,\n",
    "             values = 'Col1',\n",
    "               index = 'y', \n",
    "              aggfunc = 'count')"
   ]
  },
  {
   "cell_type": "code",
   "execution_count": 21,
   "id": "f0a69a5f-f775-4f9f-a759-5e071ad45d35",
   "metadata": {},
   "outputs": [
    {
     "data": {
      "text/html": [
       "<div>\n",
       "<style scoped>\n",
       "    .dataframe tbody tr th:only-of-type {\n",
       "        vertical-align: middle;\n",
       "    }\n",
       "\n",
       "    .dataframe tbody tr th {\n",
       "        vertical-align: top;\n",
       "    }\n",
       "\n",
       "    .dataframe thead th {\n",
       "        text-align: right;\n",
       "    }\n",
       "</style>\n",
       "<table border=\"1\" class=\"dataframe\">\n",
       "  <thead>\n",
       "    <tr style=\"text-align: right;\">\n",
       "      <th></th>\n",
       "      <th>Col1</th>\n",
       "      <th>Col2</th>\n",
       "      <th>Col3</th>\n",
       "      <th>Col4</th>\n",
       "      <th>Col5</th>\n",
       "      <th>Col6</th>\n",
       "      <th>Col7</th>\n",
       "      <th>Col8</th>\n",
       "      <th>Col9</th>\n",
       "      <th>Col10</th>\n",
       "      <th>...</th>\n",
       "      <th>Col13</th>\n",
       "      <th>Col14</th>\n",
       "      <th>Col15</th>\n",
       "      <th>Col16</th>\n",
       "      <th>Col17</th>\n",
       "      <th>Col18</th>\n",
       "      <th>Col19</th>\n",
       "      <th>Col20</th>\n",
       "      <th>Col21</th>\n",
       "      <th>y</th>\n",
       "    </tr>\n",
       "  </thead>\n",
       "  <tbody>\n",
       "    <tr>\n",
       "      <th>0</th>\n",
       "      <td>0.004912</td>\n",
       "      <td>0.693191</td>\n",
       "      <td>-0.203640</td>\n",
       "      <td>0.595322</td>\n",
       "      <td>0.353190</td>\n",
       "      <td>-0.061401</td>\n",
       "      <td>-0.278295</td>\n",
       "      <td>-1.650444</td>\n",
       "      <td>0.759072</td>\n",
       "      <td>-0.420487</td>\n",
       "      <td>...</td>\n",
       "      <td>-0.798376</td>\n",
       "      <td>1.854728</td>\n",
       "      <td>0.622631</td>\n",
       "      <td>0.963083</td>\n",
       "      <td>0.301464</td>\n",
       "      <td>0.193113</td>\n",
       "      <td>0.231498</td>\n",
       "      <td>-0.289786</td>\n",
       "      <td>-0.493294</td>\n",
       "      <td>0</td>\n",
       "    </tr>\n",
       "    <tr>\n",
       "      <th>1</th>\n",
       "      <td>0.110729</td>\n",
       "      <td>-0.079903</td>\n",
       "      <td>-0.203640</td>\n",
       "      <td>1.268942</td>\n",
       "      <td>0.396246</td>\n",
       "      <td>-0.061401</td>\n",
       "      <td>-0.278295</td>\n",
       "      <td>-1.710270</td>\n",
       "      <td>0.759072</td>\n",
       "      <td>-0.420487</td>\n",
       "      <td>...</td>\n",
       "      <td>-0.798376</td>\n",
       "      <td>1.854728</td>\n",
       "      <td>0.278625</td>\n",
       "      <td>0.963083</td>\n",
       "      <td>0.301464</td>\n",
       "      <td>0.129265</td>\n",
       "      <td>0.093563</td>\n",
       "      <td>-0.256385</td>\n",
       "      <td>-0.493294</td>\n",
       "      <td>0</td>\n",
       "    </tr>\n",
       "    <tr>\n",
       "      <th>2</th>\n",
       "      <td>0.216546</td>\n",
       "      <td>-0.272445</td>\n",
       "      <td>-0.203640</td>\n",
       "      <td>1.050988</td>\n",
       "      <td>0.148753</td>\n",
       "      <td>-0.061401</td>\n",
       "      <td>-0.278295</td>\n",
       "      <td>-1.710270</td>\n",
       "      <td>1.106509</td>\n",
       "      <td>-0.420487</td>\n",
       "      <td>...</td>\n",
       "      <td>-1.332931</td>\n",
       "      <td>0.314688</td>\n",
       "      <td>2.342663</td>\n",
       "      <td>-0.488279</td>\n",
       "      <td>0.061002</td>\n",
       "      <td>0.065417</td>\n",
       "      <td>0.024596</td>\n",
       "      <td>-0.256385</td>\n",
       "      <td>1.140018</td>\n",
       "      <td>0</td>\n",
       "    </tr>\n",
       "    <tr>\n",
       "      <th>3</th>\n",
       "      <td>0.004912</td>\n",
       "      <td>0.727346</td>\n",
       "      <td>-0.203640</td>\n",
       "      <td>1.212171</td>\n",
       "      <td>-0.683598</td>\n",
       "      <td>-0.061401</td>\n",
       "      <td>-0.278295</td>\n",
       "      <td>-1.710270</td>\n",
       "      <td>1.106509</td>\n",
       "      <td>-0.420487</td>\n",
       "      <td>...</td>\n",
       "      <td>-1.332931</td>\n",
       "      <td>0.314688</td>\n",
       "      <td>1.654650</td>\n",
       "      <td>-0.488279</td>\n",
       "      <td>0.061002</td>\n",
       "      <td>0.193113</td>\n",
       "      <td>0.093563</td>\n",
       "      <td>-0.323186</td>\n",
       "      <td>1.140018</td>\n",
       "      <td>0</td>\n",
       "    </tr>\n",
       "    <tr>\n",
       "      <th>4</th>\n",
       "      <td>-0.100905</td>\n",
       "      <td>0.363595</td>\n",
       "      <td>1.321366</td>\n",
       "      <td>1.027120</td>\n",
       "      <td>0.141359</td>\n",
       "      <td>-0.061401</td>\n",
       "      <td>-0.278295</td>\n",
       "      <td>-0.992364</td>\n",
       "      <td>-0.051613</td>\n",
       "      <td>-0.420487</td>\n",
       "      <td>...</td>\n",
       "      <td>-0.085638</td>\n",
       "      <td>-0.565334</td>\n",
       "      <td>0.278625</td>\n",
       "      <td>-0.488279</td>\n",
       "      <td>-0.059229</td>\n",
       "      <td>0.065417</td>\n",
       "      <td>0.024596</td>\n",
       "      <td>-0.456787</td>\n",
       "      <td>1.140018</td>\n",
       "      <td>0</td>\n",
       "    </tr>\n",
       "  </tbody>\n",
       "</table>\n",
       "<p>5 rows × 22 columns</p>\n",
       "</div>"
      ],
      "text/plain": [
       "       Col1      Col2      Col3      Col4      Col5      Col6      Col7  \\\n",
       "0  0.004912  0.693191 -0.203640  0.595322  0.353190 -0.061401 -0.278295   \n",
       "1  0.110729 -0.079903 -0.203640  1.268942  0.396246 -0.061401 -0.278295   \n",
       "2  0.216546 -0.272445 -0.203640  1.050988  0.148753 -0.061401 -0.278295   \n",
       "3  0.004912  0.727346 -0.203640  1.212171 -0.683598 -0.061401 -0.278295   \n",
       "4 -0.100905  0.363595  1.321366  1.027120  0.141359 -0.061401 -0.278295   \n",
       "\n",
       "       Col8      Col9     Col10  ...     Col13     Col14     Col15     Col16  \\\n",
       "0 -1.650444  0.759072 -0.420487  ... -0.798376  1.854728  0.622631  0.963083   \n",
       "1 -1.710270  0.759072 -0.420487  ... -0.798376  1.854728  0.278625  0.963083   \n",
       "2 -1.710270  1.106509 -0.420487  ... -1.332931  0.314688  2.342663 -0.488279   \n",
       "3 -1.710270  1.106509 -0.420487  ... -1.332931  0.314688  1.654650 -0.488279   \n",
       "4 -0.992364 -0.051613 -0.420487  ... -0.085638 -0.565334  0.278625 -0.488279   \n",
       "\n",
       "      Col17     Col18     Col19     Col20     Col21  y  \n",
       "0  0.301464  0.193113  0.231498 -0.289786 -0.493294  0  \n",
       "1  0.301464  0.129265  0.093563 -0.256385 -0.493294  0  \n",
       "2  0.061002  0.065417  0.024596 -0.256385  1.140018  0  \n",
       "3  0.061002  0.193113  0.093563 -0.323186  1.140018  0  \n",
       "4 -0.059229  0.065417  0.024596 -0.456787  1.140018  0  \n",
       "\n",
       "[5 rows x 22 columns]"
      ]
     },
     "execution_count": 21,
     "metadata": {},
     "output_type": "execute_result"
    }
   ],
   "source": [
    "data.head()"
   ]
  },
  {
   "cell_type": "markdown",
   "id": "4aa02f39-84ae-4238-b790-deed53d96da2",
   "metadata": {
    "jp-MarkdownHeadingCollapsed": true,
    "tags": []
   },
   "source": [
    "### LOF"
   ]
  },
  {
   "cell_type": "code",
   "execution_count": 22,
   "id": "e8c35a25-403c-4e3a-bac6-833d613611a5",
   "metadata": {},
   "outputs": [],
   "source": [
    "min_max_scaler = MinMaxScaler(feature_range=(0, 1))\n",
    "train_data = min_max_scaler.fit_transform(data.copy())\n",
    "train_data = pd.DataFrame(train_data)\n",
    "train_data.columns = data.columns"
   ]
  },
  {
   "cell_type": "code",
   "execution_count": 23,
   "id": "22a3dff2-20ab-494f-b749-a96eea0608c2",
   "metadata": {},
   "outputs": [
    {
     "name": "stdout",
     "output_type": "stream",
     "text": [
      "0.171875\n"
     ]
    }
   ],
   "source": [
    "# value of n_neighbours is taken as max(10, 0.01*|D|)\n",
    "start = time.process_time()\n",
    "lof = LocalOutlierFactor(n_neighbors=18, contamination=.1, novelty=False)\n",
    "y_pred = lof.fit_predict(train_data.loc[:, train_data.columns != 'y'])\n",
    "y_scores = lof.negative_outlier_factor_\n",
    "end = time.process_time()\n",
    "cardio_lof_train_test_time = end - start \n",
    "print(end - start)"
   ]
  },
  {
   "cell_type": "code",
   "execution_count": 24,
   "id": "08583bac-0dd1-425c-9321-1683db09c95f",
   "metadata": {},
   "outputs": [],
   "source": [
    "train_data['y_pred'] = y_pred\n",
    "train_data['prediction'] = train_data.apply(def_outlier, axis = 1)\n",
    "train_data['y_scores'] = -y_scores"
   ]
  },
  {
   "cell_type": "code",
   "execution_count": 25,
   "id": "b68a1f83-37fc-4a52-bf99-73e9404e765e",
   "metadata": {},
   "outputs": [
    {
     "data": {
      "text/plain": [
       "array([[1513,  142],\n",
       "       [ 135,   41]], dtype=int64)"
      ]
     },
     "execution_count": 25,
     "metadata": {},
     "output_type": "execute_result"
    }
   ],
   "source": [
    "confusion_matrix(train_data['y'], train_data['prediction'])"
   ]
  },
  {
   "cell_type": "code",
   "execution_count": 26,
   "id": "ebe67916",
   "metadata": {},
   "outputs": [
    {
     "data": {
      "text/plain": [
       "0.6298441362263115"
      ]
     },
     "execution_count": 26,
     "metadata": {},
     "output_type": "execute_result"
    }
   ],
   "source": [
    "fpr, tpr, _ = metrics.roc_curve(train_data['y'], train_data['y_scores'])\n",
    "cardio_lof_auc = metrics.auc(fpr, tpr)\n",
    "metrics.auc(fpr, tpr)"
   ]
  },
  {
   "cell_type": "code",
   "execution_count": 27,
   "id": "f5fc9226",
   "metadata": {},
   "outputs": [
    {
     "name": "stdout",
     "output_type": "stream",
     "text": [
      "              precision    recall  f1-score   support\n",
      "\n",
      "           0       0.92      0.91      0.92      1655\n",
      "           1       0.22      0.23      0.23       176\n",
      "\n",
      "    accuracy                           0.85      1831\n",
      "   macro avg       0.57      0.57      0.57      1831\n",
      "weighted avg       0.85      0.85      0.85      1831\n",
      "\n"
     ]
    }
   ],
   "source": [
    "cardio_lof_report = classification_report(train_data['y'], train_data['prediction'], target_names = ['0','1'], output_dict = True)\n",
    "print(classification_report(train_data['y'], train_data['prediction'], target_names = ['0','1']))"
   ]
  },
  {
   "cell_type": "code",
   "execution_count": 28,
   "id": "1f300d2a",
   "metadata": {},
   "outputs": [
    {
     "name": "stdout",
     "output_type": "stream",
     "text": [
      "0.18629568436456756\n"
     ]
    }
   ],
   "source": [
    "precision, recall, thresholds = precision_recall_curve(train_data['y'], train_data['y_scores'])\n",
    "cardio_lof_auc_precision_recall = metrics.auc(recall, precision)\n",
    "print(cardio_lof_auc_precision_recall)"
   ]
  },
  {
   "cell_type": "markdown",
   "id": "1563ee67-06dc-4374-b602-f4d623f6ac25",
   "metadata": {
    "tags": []
   },
   "source": [
    "## ForestCover"
   ]
  },
  {
   "cell_type": "markdown",
   "id": "4f4e820a",
   "metadata": {},
   "source": [
    "**Dataset source**: http://odds.cs.stonybrook.edu/forestcovercovertype-dataset/ (data is transformed from .mat to .csv format)\n",
    "\n",
    "Shebuti Rayana (2016). ODDS Library [http://odds.cs.stonybrook.edu]. Stony Brook, NY: Stony Brook University, Department of Computer Science.\n",
    "\n",
    "**Additional sources:**\n",
    "\n",
    "Liu, Fei Tony, Kai Ming Ting, and Zhi-Hua Zhou. “Isolation forest.” 2008 Eighth IEEE International Conference on Data Mining. IEEE, 2008.\n",
    "\n",
    "K. M. Ting, J. T. S. Chuan, and F. T. Liu. “Mass: A New Ranking Measure for Anomaly Detection.“, IEEE Transactions on Knowledge and Data Engineering, 2009.\n",
    "\n",
    "Kai Ming Ting, Guang-Tong Zhou, Fei Tony Liu & Tan Swee Chuan. (2010). Mass Estimation and Its Applications. Proceedings of The 16th ACM SIGKDD Conference on Knowledge Discovery and Data Mining 2010. pp. 989-998.\n",
    "\n",
    "Swee Chuan Tan, Kai Ming Ting & Fei Tony Liu. (2011). Fast Anomaly Detection for Streaming Data. Proceedings of the International Joint Conference on Artificial Intelligence 2011. pp.1151-1156."
   ]
  },
  {
   "cell_type": "code",
   "execution_count": 29,
   "id": "bff11aeb-e777-439f-a989-dbdd142d1027",
   "metadata": {},
   "outputs": [],
   "source": [
    "data = pd.read_csv('./ForestCover.csv')"
   ]
  },
  {
   "cell_type": "code",
   "execution_count": 30,
   "id": "bc232f7a-8630-46bf-b1a0-b8b8dbee4688",
   "metadata": {},
   "outputs": [
    {
     "data": {
      "text/plain": [
       "(286048, 11)"
      ]
     },
     "execution_count": 30,
     "metadata": {},
     "output_type": "execute_result"
    }
   ],
   "source": [
    "data.shape"
   ]
  },
  {
   "cell_type": "code",
   "execution_count": 31,
   "id": "725ab3d0-b18f-4f66-8201-4d1cd3423964",
   "metadata": {},
   "outputs": [
    {
     "data": {
      "text/html": [
       "<div>\n",
       "<style scoped>\n",
       "    .dataframe tbody tr th:only-of-type {\n",
       "        vertical-align: middle;\n",
       "    }\n",
       "\n",
       "    .dataframe tbody tr th {\n",
       "        vertical-align: top;\n",
       "    }\n",
       "\n",
       "    .dataframe thead th {\n",
       "        text-align: right;\n",
       "    }\n",
       "</style>\n",
       "<table border=\"1\" class=\"dataframe\">\n",
       "  <thead>\n",
       "    <tr style=\"text-align: right;\">\n",
       "      <th></th>\n",
       "      <th>Col2</th>\n",
       "    </tr>\n",
       "    <tr>\n",
       "      <th>y</th>\n",
       "      <th></th>\n",
       "    </tr>\n",
       "  </thead>\n",
       "  <tbody>\n",
       "    <tr>\n",
       "      <th>0</th>\n",
       "      <td>283301</td>\n",
       "    </tr>\n",
       "    <tr>\n",
       "      <th>1</th>\n",
       "      <td>2747</td>\n",
       "    </tr>\n",
       "  </tbody>\n",
       "</table>\n",
       "</div>"
      ],
      "text/plain": [
       "     Col2\n",
       "y        \n",
       "0  283301\n",
       "1    2747"
      ]
     },
     "execution_count": 31,
     "metadata": {},
     "output_type": "execute_result"
    }
   ],
   "source": [
    "pd.pivot_table(data,\n",
    "             values = 'Col2',\n",
    "               index = 'y', \n",
    "              aggfunc = 'count')"
   ]
  },
  {
   "cell_type": "code",
   "execution_count": 32,
   "id": "ba2e2eaf-a650-494b-ba31-fe2afc4c7d42",
   "metadata": {},
   "outputs": [
    {
     "data": {
      "text/html": [
       "<div>\n",
       "<style scoped>\n",
       "    .dataframe tbody tr th:only-of-type {\n",
       "        vertical-align: middle;\n",
       "    }\n",
       "\n",
       "    .dataframe tbody tr th {\n",
       "        vertical-align: top;\n",
       "    }\n",
       "\n",
       "    .dataframe thead th {\n",
       "        text-align: right;\n",
       "    }\n",
       "</style>\n",
       "<table border=\"1\" class=\"dataframe\">\n",
       "  <thead>\n",
       "    <tr style=\"text-align: right;\">\n",
       "      <th></th>\n",
       "      <th>Col1</th>\n",
       "      <th>Col2</th>\n",
       "      <th>Col3</th>\n",
       "      <th>Col4</th>\n",
       "      <th>Col5</th>\n",
       "      <th>Col6</th>\n",
       "      <th>Col7</th>\n",
       "      <th>Col8</th>\n",
       "      <th>Col9</th>\n",
       "      <th>Col10</th>\n",
       "      <th>y</th>\n",
       "    </tr>\n",
       "  </thead>\n",
       "  <tbody>\n",
       "    <tr>\n",
       "      <th>0</th>\n",
       "      <td>2804</td>\n",
       "      <td>139</td>\n",
       "      <td>9</td>\n",
       "      <td>268</td>\n",
       "      <td>65</td>\n",
       "      <td>3180</td>\n",
       "      <td>234</td>\n",
       "      <td>238</td>\n",
       "      <td>135</td>\n",
       "      <td>6121</td>\n",
       "      <td>0</td>\n",
       "    </tr>\n",
       "    <tr>\n",
       "      <th>1</th>\n",
       "      <td>2785</td>\n",
       "      <td>155</td>\n",
       "      <td>18</td>\n",
       "      <td>242</td>\n",
       "      <td>118</td>\n",
       "      <td>3090</td>\n",
       "      <td>238</td>\n",
       "      <td>238</td>\n",
       "      <td>122</td>\n",
       "      <td>6211</td>\n",
       "      <td>0</td>\n",
       "    </tr>\n",
       "    <tr>\n",
       "      <th>2</th>\n",
       "      <td>2579</td>\n",
       "      <td>132</td>\n",
       "      <td>6</td>\n",
       "      <td>300</td>\n",
       "      <td>-15</td>\n",
       "      <td>67</td>\n",
       "      <td>230</td>\n",
       "      <td>237</td>\n",
       "      <td>140</td>\n",
       "      <td>6031</td>\n",
       "      <td>0</td>\n",
       "    </tr>\n",
       "    <tr>\n",
       "      <th>3</th>\n",
       "      <td>2886</td>\n",
       "      <td>151</td>\n",
       "      <td>11</td>\n",
       "      <td>371</td>\n",
       "      <td>26</td>\n",
       "      <td>5253</td>\n",
       "      <td>234</td>\n",
       "      <td>240</td>\n",
       "      <td>136</td>\n",
       "      <td>4051</td>\n",
       "      <td>0</td>\n",
       "    </tr>\n",
       "    <tr>\n",
       "      <th>4</th>\n",
       "      <td>2742</td>\n",
       "      <td>134</td>\n",
       "      <td>22</td>\n",
       "      <td>150</td>\n",
       "      <td>69</td>\n",
       "      <td>3215</td>\n",
       "      <td>248</td>\n",
       "      <td>224</td>\n",
       "      <td>92</td>\n",
       "      <td>6091</td>\n",
       "      <td>0</td>\n",
       "    </tr>\n",
       "  </tbody>\n",
       "</table>\n",
       "</div>"
      ],
      "text/plain": [
       "   Col1  Col2  Col3  Col4  Col5  Col6  Col7  Col8  Col9  Col10  y\n",
       "0  2804   139     9   268    65  3180   234   238   135   6121  0\n",
       "1  2785   155    18   242   118  3090   238   238   122   6211  0\n",
       "2  2579   132     6   300   -15    67   230   237   140   6031  0\n",
       "3  2886   151    11   371    26  5253   234   240   136   4051  0\n",
       "4  2742   134    22   150    69  3215   248   224    92   6091  0"
      ]
     },
     "execution_count": 32,
     "metadata": {},
     "output_type": "execute_result"
    }
   ],
   "source": [
    "data.head()"
   ]
  },
  {
   "cell_type": "markdown",
   "id": "f47e771e-2ab7-4fc5-bdef-1a58d22933dc",
   "metadata": {
    "jp-MarkdownHeadingCollapsed": true,
    "tags": []
   },
   "source": [
    "### LOF"
   ]
  },
  {
   "cell_type": "code",
   "execution_count": 33,
   "id": "33f7d6b3-01eb-4557-8c59-2bfc2cb9f364",
   "metadata": {},
   "outputs": [],
   "source": [
    "min_max_scaler = MinMaxScaler(feature_range=(0, 1))\n",
    "train_data = min_max_scaler.fit_transform(data.copy())\n",
    "train_data = pd.DataFrame(train_data)\n",
    "train_data.columns = data.columns"
   ]
  },
  {
   "cell_type": "code",
   "execution_count": 34,
   "id": "de426fb1-d43b-44d7-9068-5b8793c95d81",
   "metadata": {},
   "outputs": [
    {
     "name": "stdout",
     "output_type": "stream",
     "text": [
      "827.75\n"
     ]
    }
   ],
   "source": [
    "start = time.process_time()\n",
    "lof = LocalOutlierFactor(n_neighbors=2860, contamination=.1)\n",
    "y_pred = lof.fit_predict(train_data.loc[:, train_data.columns != 'y'])\n",
    "y_scores = lof.negative_outlier_factor_\n",
    "end = time.process_time()\n",
    "forestcover_lof_train_test_time = end - start\n",
    "print(end - start)"
   ]
  },
  {
   "cell_type": "code",
   "execution_count": 35,
   "id": "8a55eeea-2bcb-4fec-9a7d-67bf5a45be93",
   "metadata": {},
   "outputs": [],
   "source": [
    "train_data['y_pred'] = y_pred\n",
    "train_data['prediction'] = train_data.apply(def_outlier, axis = 1)\n",
    "train_data['y_scores'] = -y_scores"
   ]
  },
  {
   "cell_type": "code",
   "execution_count": 36,
   "id": "02f52b21-7740-4372-bb3f-57b5cce7e8e9",
   "metadata": {},
   "outputs": [
    {
     "data": {
      "text/plain": [
       "array([[257323,  25978],\n",
       "       [   120,   2627]], dtype=int64)"
      ]
     },
     "execution_count": 36,
     "metadata": {},
     "output_type": "execute_result"
    }
   ],
   "source": [
    "confusion_matrix(train_data['y'], train_data['prediction'])"
   ]
  },
  {
   "cell_type": "code",
   "execution_count": 37,
   "id": "246bfe1b",
   "metadata": {},
   "outputs": [
    {
     "data": {
      "text/plain": [
       "0.9780153986188571"
      ]
     },
     "execution_count": 37,
     "metadata": {},
     "output_type": "execute_result"
    }
   ],
   "source": [
    "fpr, tpr, _ = metrics.roc_curve(train_data['y'], train_data['y_scores'])\n",
    "forestcover_lof_auc = metrics.auc(fpr, tpr)\n",
    "metrics.auc(fpr, tpr)"
   ]
  },
  {
   "cell_type": "code",
   "execution_count": 38,
   "id": "da9b8be5-4380-4597-bbb1-68fde39e08bf",
   "metadata": {},
   "outputs": [
    {
     "name": "stdout",
     "output_type": "stream",
     "text": [
      "              precision    recall  f1-score   support\n",
      "\n",
      "           0       1.00      0.91      0.95    283301\n",
      "           1       0.09      0.96      0.17      2747\n",
      "\n",
      "    accuracy                           0.91    286048\n",
      "   macro avg       0.55      0.93      0.56    286048\n",
      "weighted avg       0.99      0.91      0.94    286048\n",
      "\n"
     ]
    }
   ],
   "source": [
    "forestcover_lof_report = classification_report(train_data['y'], train_data['prediction'], target_names = ['0','1'], output_dict = True)\n",
    "print(classification_report(train_data['y'], train_data['prediction'], target_names = ['0','1']))"
   ]
  },
  {
   "cell_type": "code",
   "execution_count": 39,
   "id": "90ac9861",
   "metadata": {},
   "outputs": [
    {
     "name": "stdout",
     "output_type": "stream",
     "text": [
      "0.24822150921582237\n"
     ]
    }
   ],
   "source": [
    "precision, recall, thresholds = precision_recall_curve(train_data['y'], train_data['y_scores'])\n",
    "forestcover_lof_auc_precision_recall = metrics.auc(recall, precision)\n",
    "print(forestcover_lof_auc_precision_recall)"
   ]
  },
  {
   "cell_type": "markdown",
   "id": "96e7ab52-cd86-4205-829f-82354fd330c0",
   "metadata": {
    "jp-MarkdownHeadingCollapsed": true,
    "tags": []
   },
   "source": [
    "## Annthyroid"
   ]
  },
  {
   "cell_type": "markdown",
   "id": "64097ab9",
   "metadata": {},
   "source": [
    "**Dataset source**: http://odds.cs.stonybrook.edu/annthyroid-dataset/ (data is transformed from .mat to .csv format)\n",
    "\n",
    "Shebuti Rayana (2016). ODDS Library [http://odds.cs.stonybrook.edu]. Stony Brook, NY: Stony Brook University, Department of Computer Science.\n",
    "\n",
    "**Aditional sources:**\n",
    "\n",
    "Abe, Naoki, Bianca Zadrozny, and John Langford. “Outlier detection by active learning.” Proceedings of the 12th ACM SIGKDD international conference on Knowledge discovery and data mining. ACM, 2006.\n",
    "\n",
    "Liu, Fei Tony, Kai Ming Ting, and Zhi-Hua Zhou. “Isolation forest.” 2008 Eighth IEEE International Conference on Data Mining. IEEE, 2008.\n",
    "\n",
    "K. M. Ting, J. T. S. Chuan, and F. T. Liu. “Mass: A New Ranking Measure for Anomaly Detection.“, IEEE Transactions on Knowledge and Data Engineering, 2009."
   ]
  },
  {
   "cell_type": "code",
   "execution_count": 40,
   "id": "74880b01-a430-41cc-988f-647cb4ca4ff3",
   "metadata": {},
   "outputs": [],
   "source": [
    "data = pd.read_csv('./annthyroid.csv')"
   ]
  },
  {
   "cell_type": "code",
   "execution_count": 41,
   "id": "be075faf-1275-4bc7-bffb-874175a5fb4c",
   "metadata": {},
   "outputs": [
    {
     "data": {
      "text/html": [
       "<div>\n",
       "<style scoped>\n",
       "    .dataframe tbody tr th:only-of-type {\n",
       "        vertical-align: middle;\n",
       "    }\n",
       "\n",
       "    .dataframe tbody tr th {\n",
       "        vertical-align: top;\n",
       "    }\n",
       "\n",
       "    .dataframe thead th {\n",
       "        text-align: right;\n",
       "    }\n",
       "</style>\n",
       "<table border=\"1\" class=\"dataframe\">\n",
       "  <thead>\n",
       "    <tr style=\"text-align: right;\">\n",
       "      <th></th>\n",
       "      <th>Col1</th>\n",
       "      <th>Col2</th>\n",
       "      <th>Col3</th>\n",
       "      <th>Col4</th>\n",
       "      <th>Col5</th>\n",
       "      <th>Col6</th>\n",
       "      <th>y</th>\n",
       "    </tr>\n",
       "  </thead>\n",
       "  <tbody>\n",
       "    <tr>\n",
       "      <th>0</th>\n",
       "      <td>0.73</td>\n",
       "      <td>0.00060</td>\n",
       "      <td>0.015</td>\n",
       "      <td>0.120</td>\n",
       "      <td>0.082</td>\n",
       "      <td>0.146</td>\n",
       "      <td>0</td>\n",
       "    </tr>\n",
       "    <tr>\n",
       "      <th>1</th>\n",
       "      <td>0.24</td>\n",
       "      <td>0.00025</td>\n",
       "      <td>0.030</td>\n",
       "      <td>0.143</td>\n",
       "      <td>0.133</td>\n",
       "      <td>0.108</td>\n",
       "      <td>0</td>\n",
       "    </tr>\n",
       "    <tr>\n",
       "      <th>2</th>\n",
       "      <td>0.47</td>\n",
       "      <td>0.00190</td>\n",
       "      <td>0.024</td>\n",
       "      <td>0.102</td>\n",
       "      <td>0.131</td>\n",
       "      <td>0.078</td>\n",
       "      <td>0</td>\n",
       "    </tr>\n",
       "    <tr>\n",
       "      <th>3</th>\n",
       "      <td>0.64</td>\n",
       "      <td>0.00090</td>\n",
       "      <td>0.017</td>\n",
       "      <td>0.077</td>\n",
       "      <td>0.090</td>\n",
       "      <td>0.085</td>\n",
       "      <td>0</td>\n",
       "    </tr>\n",
       "    <tr>\n",
       "      <th>4</th>\n",
       "      <td>0.23</td>\n",
       "      <td>0.00025</td>\n",
       "      <td>0.026</td>\n",
       "      <td>0.139</td>\n",
       "      <td>0.090</td>\n",
       "      <td>0.153</td>\n",
       "      <td>0</td>\n",
       "    </tr>\n",
       "  </tbody>\n",
       "</table>\n",
       "</div>"
      ],
      "text/plain": [
       "   Col1     Col2   Col3   Col4   Col5   Col6  y\n",
       "0  0.73  0.00060  0.015  0.120  0.082  0.146  0\n",
       "1  0.24  0.00025  0.030  0.143  0.133  0.108  0\n",
       "2  0.47  0.00190  0.024  0.102  0.131  0.078  0\n",
       "3  0.64  0.00090  0.017  0.077  0.090  0.085  0\n",
       "4  0.23  0.00025  0.026  0.139  0.090  0.153  0"
      ]
     },
     "execution_count": 41,
     "metadata": {},
     "output_type": "execute_result"
    }
   ],
   "source": [
    "data.head()"
   ]
  },
  {
   "cell_type": "code",
   "execution_count": 42,
   "id": "f83c1dd7-907d-4135-a293-180dd4327d11",
   "metadata": {},
   "outputs": [
    {
     "data": {
      "text/plain": [
       "(7200, 7)"
      ]
     },
     "execution_count": 42,
     "metadata": {},
     "output_type": "execute_result"
    }
   ],
   "source": [
    "data.shape"
   ]
  },
  {
   "cell_type": "code",
   "execution_count": 43,
   "id": "1d67fa9a-8257-4681-8366-9a701af73c7a",
   "metadata": {},
   "outputs": [
    {
     "data": {
      "text/html": [
       "<div>\n",
       "<style scoped>\n",
       "    .dataframe tbody tr th:only-of-type {\n",
       "        vertical-align: middle;\n",
       "    }\n",
       "\n",
       "    .dataframe tbody tr th {\n",
       "        vertical-align: top;\n",
       "    }\n",
       "\n",
       "    .dataframe thead th {\n",
       "        text-align: right;\n",
       "    }\n",
       "</style>\n",
       "<table border=\"1\" class=\"dataframe\">\n",
       "  <thead>\n",
       "    <tr style=\"text-align: right;\">\n",
       "      <th></th>\n",
       "      <th>Col1</th>\n",
       "    </tr>\n",
       "    <tr>\n",
       "      <th>y</th>\n",
       "      <th></th>\n",
       "    </tr>\n",
       "  </thead>\n",
       "  <tbody>\n",
       "    <tr>\n",
       "      <th>0</th>\n",
       "      <td>6666</td>\n",
       "    </tr>\n",
       "    <tr>\n",
       "      <th>1</th>\n",
       "      <td>534</td>\n",
       "    </tr>\n",
       "  </tbody>\n",
       "</table>\n",
       "</div>"
      ],
      "text/plain": [
       "   Col1\n",
       "y      \n",
       "0  6666\n",
       "1   534"
      ]
     },
     "execution_count": 43,
     "metadata": {},
     "output_type": "execute_result"
    }
   ],
   "source": [
    "pd.pivot_table(data,\n",
    "             values = 'Col1',\n",
    "               index = 'y', \n",
    "              aggfunc = 'count')"
   ]
  },
  {
   "cell_type": "markdown",
   "id": "202604bd-3f54-46a1-92c7-7a6c1acc0645",
   "metadata": {
    "jp-MarkdownHeadingCollapsed": true,
    "tags": []
   },
   "source": [
    "### LOF"
   ]
  },
  {
   "cell_type": "code",
   "execution_count": 44,
   "id": "4cbeac0d-c7fa-45d4-8c37-ef68398b0377",
   "metadata": {},
   "outputs": [],
   "source": [
    "min_max_scaler = MinMaxScaler(feature_range=(0, 1))\n",
    "train_data = min_max_scaler.fit_transform(data.copy())\n",
    "train_data = pd.DataFrame(train_data)\n",
    "train_data.columns = data.columns"
   ]
  },
  {
   "cell_type": "code",
   "execution_count": 45,
   "id": "be87241f-ffd1-45c7-89f1-f5ff3994e699",
   "metadata": {},
   "outputs": [
    {
     "name": "stdout",
     "output_type": "stream",
     "text": [
      "0.671875\n"
     ]
    }
   ],
   "source": [
    "start = time.process_time()\n",
    "\n",
    "lof = LocalOutlierFactor(n_neighbors=72, contamination=.1, novelty=False)\n",
    "y_pred = lof.fit_predict(train_data.loc[:, train_data.columns != 'y'])\n",
    "y_scores = lof.negative_outlier_factor_\n",
    "\n",
    "end = time.process_time()\n",
    "annthyroid_lof_train_test_time = end - start\n",
    "print(end - start)"
   ]
  },
  {
   "cell_type": "code",
   "execution_count": 46,
   "id": "128b4801-7c80-433c-af0e-cea1a153644a",
   "metadata": {},
   "outputs": [],
   "source": [
    "train_data['y_pred'] = y_pred\n",
    "train_data['prediction'] = train_data.apply(def_outlier, axis = 1)\n",
    "train_data['y_scores'] = -y_scores"
   ]
  },
  {
   "cell_type": "code",
   "execution_count": 47,
   "id": "4b82b49e-56d7-4082-9817-df8256b07bc8",
   "metadata": {},
   "outputs": [
    {
     "data": {
      "text/plain": [
       "array([[6132,  534],\n",
       "       [ 348,  186]], dtype=int64)"
      ]
     },
     "execution_count": 47,
     "metadata": {},
     "output_type": "execute_result"
    }
   ],
   "source": [
    "confusion_matrix(train_data['y'], train_data['prediction'])"
   ]
  },
  {
   "cell_type": "code",
   "execution_count": 48,
   "id": "2a5791c9",
   "metadata": {},
   "outputs": [
    {
     "data": {
      "text/plain": [
       "0.7161421198299605"
      ]
     },
     "execution_count": 48,
     "metadata": {},
     "output_type": "execute_result"
    }
   ],
   "source": [
    "fpr, tpr, _ = metrics.roc_curve(train_data['y'], train_data['y_scores'])\n",
    "annthyroid_lof_auc = metrics.auc(fpr, tpr)\n",
    "metrics.auc(fpr, tpr)"
   ]
  },
  {
   "cell_type": "code",
   "execution_count": 49,
   "id": "2d3e2848-6d52-472e-9fb1-97f04740cec4",
   "metadata": {},
   "outputs": [
    {
     "name": "stdout",
     "output_type": "stream",
     "text": [
      "              precision    recall  f1-score   support\n",
      "\n",
      "           0       0.95      0.92      0.93      6666\n",
      "           1       0.26      0.35      0.30       534\n",
      "\n",
      "    accuracy                           0.88      7200\n",
      "   macro avg       0.60      0.63      0.61      7200\n",
      "weighted avg       0.90      0.88      0.89      7200\n",
      "\n"
     ]
    }
   ],
   "source": [
    "annthyroid_lof_report = classification_report(train_data['y'], train_data['prediction'], target_names = ['0','1'], output_dict = True)\n",
    "print(classification_report(train_data['y'], train_data['prediction'], target_names = ['0','1']))"
   ]
  },
  {
   "cell_type": "code",
   "execution_count": 50,
   "id": "6a7130e0",
   "metadata": {},
   "outputs": [
    {
     "name": "stdout",
     "output_type": "stream",
     "text": [
      "0.20158425964287524\n"
     ]
    }
   ],
   "source": [
    "precision, recall, thresholds = precision_recall_curve(train_data['y'], train_data['y_scores'])\n",
    "annthyroid_lof_auc_precision_recall = metrics.auc(recall, precision)\n",
    "print(annthyroid_lof_auc_precision_recall)"
   ]
  },
  {
   "cell_type": "markdown",
   "id": "8c02c6cb-54b6-4c76-af0d-27bdcdfe0c35",
   "metadata": {
    "tags": []
   },
   "source": [
    "## Credit card"
   ]
  },
  {
   "cell_type": "markdown",
   "id": "b232ed64",
   "metadata": {},
   "source": [
    "**Dataset source**: https://www.kaggle.com/mlg-ulb/creditcardfraud\n",
    "\n",
    "**Additional sources:**\n",
    "\n",
    "Andrea Dal Pozzolo, Olivier Caelen, Reid A. Johnson and Gianluca Bontempi. Calibrating Probability with Undersampling for Unbalanced Classification. In Symposium on Computational Intelligence and Data Mining (CIDM), IEEE, 2015\n",
    "\n",
    "Dal Pozzolo, Andrea; Caelen, Olivier; Le Borgne, Yann-Ael; Waterschoot, Serge; Bontempi, Gianluca. Learned lessons in credit card fraud detection from a practitioner perspective, Expert systems with applications,41,10,4915-4928,2014, Pergamon\n",
    "\n",
    "Dal Pozzolo, Andrea; Boracchi, Giacomo; Caelen, Olivier; Alippi, Cesare; Bontempi, Gianluca. Credit card fraud detection: a realistic modeling and a novel learning strategy, IEEE transactions on neural networks and learning systems,29,8,3784-3797,2018,IEEE\n",
    "\n",
    "Dal Pozzolo, Andrea Adaptive Machine learning for credit card fraud detection ULB MLG PhD thesis (supervised by G. Bontempi)\n",
    "\n",
    "Carcillo, Fabrizio; Dal Pozzolo, Andrea; Le Borgne, Yann-Aël; Caelen, Olivier; Mazzer, Yannis; Bontempi, Gianluca. Scarff: a scalable framework for streaming credit card fraud detection with Spark, Information fusion,41, 182-194,2018,Elsevier\n",
    "\n",
    "Carcillo, Fabrizio; Le Borgne, Yann-Aël; Caelen, Olivier; Bontempi, Gianluca. Streaming active learning strategies for real-life credit card fraud detection: assessment and visualization, International Journal of Data Science and Analytics, 5,4,285-300,2018,Springer International Publishing\n",
    "\n",
    "Bertrand Lebichot, Yann-Aël Le Borgne, Liyun He, Frederic Oblé, Gianluca Bontempi Deep-Learning Domain Adaptation Techniques for Credit Cards Fraud Detection, INNSBDDL 2019: Recent Advances in Big Data and Deep Learning, pp 78-88, 2019\n",
    "\n",
    "Fabrizio Carcillo, Yann-Aël Le Borgne, Olivier Caelen, Frederic Oblé, Gianluca Bontempi Combining Unsupervised and Supervised Learning in Credit Card Fraud Detection Information Sciences, 2019\n",
    "\n",
    "Yann-Aël Le Borgne, Gianluca Bontempi Machine Learning for Credit Card Fraud Detection - Practical Handbook"
   ]
  },
  {
   "cell_type": "code",
   "execution_count": 51,
   "id": "abaad9a8-e22d-40a5-9e2b-1611697c48c8",
   "metadata": {},
   "outputs": [],
   "source": [
    "data = pd.read_csv('./creditcard.csv')"
   ]
  },
  {
   "cell_type": "code",
   "execution_count": 52,
   "id": "f805c4b2-f0cf-4b91-bd69-60bb6acf57d6",
   "metadata": {},
   "outputs": [],
   "source": [
    "data = data.drop(columns = ['Time'])"
   ]
  },
  {
   "cell_type": "code",
   "execution_count": 53,
   "id": "c53f52a7-5385-452d-b93e-0526c104f5c4",
   "metadata": {},
   "outputs": [
    {
     "data": {
      "text/plain": [
       "(284807, 30)"
      ]
     },
     "execution_count": 53,
     "metadata": {},
     "output_type": "execute_result"
    }
   ],
   "source": [
    "data.shape"
   ]
  },
  {
   "cell_type": "code",
   "execution_count": 54,
   "id": "64fd85a8",
   "metadata": {},
   "outputs": [
    {
     "data": {
      "text/html": [
       "<div>\n",
       "<style scoped>\n",
       "    .dataframe tbody tr th:only-of-type {\n",
       "        vertical-align: middle;\n",
       "    }\n",
       "\n",
       "    .dataframe tbody tr th {\n",
       "        vertical-align: top;\n",
       "    }\n",
       "\n",
       "    .dataframe thead th {\n",
       "        text-align: right;\n",
       "    }\n",
       "</style>\n",
       "<table border=\"1\" class=\"dataframe\">\n",
       "  <thead>\n",
       "    <tr style=\"text-align: right;\">\n",
       "      <th></th>\n",
       "      <th>V1</th>\n",
       "      <th>V2</th>\n",
       "      <th>V3</th>\n",
       "      <th>V4</th>\n",
       "      <th>V5</th>\n",
       "      <th>V6</th>\n",
       "      <th>V7</th>\n",
       "      <th>V8</th>\n",
       "      <th>V9</th>\n",
       "      <th>V10</th>\n",
       "      <th>...</th>\n",
       "      <th>V21</th>\n",
       "      <th>V22</th>\n",
       "      <th>V23</th>\n",
       "      <th>V24</th>\n",
       "      <th>V25</th>\n",
       "      <th>V26</th>\n",
       "      <th>V27</th>\n",
       "      <th>V28</th>\n",
       "      <th>Amount</th>\n",
       "      <th>Class</th>\n",
       "    </tr>\n",
       "  </thead>\n",
       "  <tbody>\n",
       "    <tr>\n",
       "      <th>0</th>\n",
       "      <td>-1.359807</td>\n",
       "      <td>-0.072781</td>\n",
       "      <td>2.536347</td>\n",
       "      <td>1.378155</td>\n",
       "      <td>-0.338321</td>\n",
       "      <td>0.462388</td>\n",
       "      <td>0.239599</td>\n",
       "      <td>0.098698</td>\n",
       "      <td>0.363787</td>\n",
       "      <td>0.090794</td>\n",
       "      <td>...</td>\n",
       "      <td>-0.018307</td>\n",
       "      <td>0.277838</td>\n",
       "      <td>-0.110474</td>\n",
       "      <td>0.066928</td>\n",
       "      <td>0.128539</td>\n",
       "      <td>-0.189115</td>\n",
       "      <td>0.133558</td>\n",
       "      <td>-0.021053</td>\n",
       "      <td>149.62</td>\n",
       "      <td>0</td>\n",
       "    </tr>\n",
       "    <tr>\n",
       "      <th>1</th>\n",
       "      <td>1.191857</td>\n",
       "      <td>0.266151</td>\n",
       "      <td>0.166480</td>\n",
       "      <td>0.448154</td>\n",
       "      <td>0.060018</td>\n",
       "      <td>-0.082361</td>\n",
       "      <td>-0.078803</td>\n",
       "      <td>0.085102</td>\n",
       "      <td>-0.255425</td>\n",
       "      <td>-0.166974</td>\n",
       "      <td>...</td>\n",
       "      <td>-0.225775</td>\n",
       "      <td>-0.638672</td>\n",
       "      <td>0.101288</td>\n",
       "      <td>-0.339846</td>\n",
       "      <td>0.167170</td>\n",
       "      <td>0.125895</td>\n",
       "      <td>-0.008983</td>\n",
       "      <td>0.014724</td>\n",
       "      <td>2.69</td>\n",
       "      <td>0</td>\n",
       "    </tr>\n",
       "    <tr>\n",
       "      <th>2</th>\n",
       "      <td>-1.358354</td>\n",
       "      <td>-1.340163</td>\n",
       "      <td>1.773209</td>\n",
       "      <td>0.379780</td>\n",
       "      <td>-0.503198</td>\n",
       "      <td>1.800499</td>\n",
       "      <td>0.791461</td>\n",
       "      <td>0.247676</td>\n",
       "      <td>-1.514654</td>\n",
       "      <td>0.207643</td>\n",
       "      <td>...</td>\n",
       "      <td>0.247998</td>\n",
       "      <td>0.771679</td>\n",
       "      <td>0.909412</td>\n",
       "      <td>-0.689281</td>\n",
       "      <td>-0.327642</td>\n",
       "      <td>-0.139097</td>\n",
       "      <td>-0.055353</td>\n",
       "      <td>-0.059752</td>\n",
       "      <td>378.66</td>\n",
       "      <td>0</td>\n",
       "    </tr>\n",
       "    <tr>\n",
       "      <th>3</th>\n",
       "      <td>-0.966272</td>\n",
       "      <td>-0.185226</td>\n",
       "      <td>1.792993</td>\n",
       "      <td>-0.863291</td>\n",
       "      <td>-0.010309</td>\n",
       "      <td>1.247203</td>\n",
       "      <td>0.237609</td>\n",
       "      <td>0.377436</td>\n",
       "      <td>-1.387024</td>\n",
       "      <td>-0.054952</td>\n",
       "      <td>...</td>\n",
       "      <td>-0.108300</td>\n",
       "      <td>0.005274</td>\n",
       "      <td>-0.190321</td>\n",
       "      <td>-1.175575</td>\n",
       "      <td>0.647376</td>\n",
       "      <td>-0.221929</td>\n",
       "      <td>0.062723</td>\n",
       "      <td>0.061458</td>\n",
       "      <td>123.50</td>\n",
       "      <td>0</td>\n",
       "    </tr>\n",
       "    <tr>\n",
       "      <th>4</th>\n",
       "      <td>-1.158233</td>\n",
       "      <td>0.877737</td>\n",
       "      <td>1.548718</td>\n",
       "      <td>0.403034</td>\n",
       "      <td>-0.407193</td>\n",
       "      <td>0.095921</td>\n",
       "      <td>0.592941</td>\n",
       "      <td>-0.270533</td>\n",
       "      <td>0.817739</td>\n",
       "      <td>0.753074</td>\n",
       "      <td>...</td>\n",
       "      <td>-0.009431</td>\n",
       "      <td>0.798278</td>\n",
       "      <td>-0.137458</td>\n",
       "      <td>0.141267</td>\n",
       "      <td>-0.206010</td>\n",
       "      <td>0.502292</td>\n",
       "      <td>0.219422</td>\n",
       "      <td>0.215153</td>\n",
       "      <td>69.99</td>\n",
       "      <td>0</td>\n",
       "    </tr>\n",
       "  </tbody>\n",
       "</table>\n",
       "<p>5 rows × 30 columns</p>\n",
       "</div>"
      ],
      "text/plain": [
       "         V1        V2        V3        V4        V5        V6        V7  \\\n",
       "0 -1.359807 -0.072781  2.536347  1.378155 -0.338321  0.462388  0.239599   \n",
       "1  1.191857  0.266151  0.166480  0.448154  0.060018 -0.082361 -0.078803   \n",
       "2 -1.358354 -1.340163  1.773209  0.379780 -0.503198  1.800499  0.791461   \n",
       "3 -0.966272 -0.185226  1.792993 -0.863291 -0.010309  1.247203  0.237609   \n",
       "4 -1.158233  0.877737  1.548718  0.403034 -0.407193  0.095921  0.592941   \n",
       "\n",
       "         V8        V9       V10  ...       V21       V22       V23       V24  \\\n",
       "0  0.098698  0.363787  0.090794  ... -0.018307  0.277838 -0.110474  0.066928   \n",
       "1  0.085102 -0.255425 -0.166974  ... -0.225775 -0.638672  0.101288 -0.339846   \n",
       "2  0.247676 -1.514654  0.207643  ...  0.247998  0.771679  0.909412 -0.689281   \n",
       "3  0.377436 -1.387024 -0.054952  ... -0.108300  0.005274 -0.190321 -1.175575   \n",
       "4 -0.270533  0.817739  0.753074  ... -0.009431  0.798278 -0.137458  0.141267   \n",
       "\n",
       "        V25       V26       V27       V28  Amount  Class  \n",
       "0  0.128539 -0.189115  0.133558 -0.021053  149.62      0  \n",
       "1  0.167170  0.125895 -0.008983  0.014724    2.69      0  \n",
       "2 -0.327642 -0.139097 -0.055353 -0.059752  378.66      0  \n",
       "3  0.647376 -0.221929  0.062723  0.061458  123.50      0  \n",
       "4 -0.206010  0.502292  0.219422  0.215153   69.99      0  \n",
       "\n",
       "[5 rows x 30 columns]"
      ]
     },
     "execution_count": 54,
     "metadata": {},
     "output_type": "execute_result"
    }
   ],
   "source": [
    "data.head()"
   ]
  },
  {
   "cell_type": "code",
   "execution_count": 55,
   "id": "ff70cce9",
   "metadata": {},
   "outputs": [
    {
     "data": {
      "text/html": [
       "<div>\n",
       "<style scoped>\n",
       "    .dataframe tbody tr th:only-of-type {\n",
       "        vertical-align: middle;\n",
       "    }\n",
       "\n",
       "    .dataframe tbody tr th {\n",
       "        vertical-align: top;\n",
       "    }\n",
       "\n",
       "    .dataframe thead th {\n",
       "        text-align: right;\n",
       "    }\n",
       "</style>\n",
       "<table border=\"1\" class=\"dataframe\">\n",
       "  <thead>\n",
       "    <tr style=\"text-align: right;\">\n",
       "      <th></th>\n",
       "      <th>V1</th>\n",
       "    </tr>\n",
       "    <tr>\n",
       "      <th>Class</th>\n",
       "      <th></th>\n",
       "    </tr>\n",
       "  </thead>\n",
       "  <tbody>\n",
       "    <tr>\n",
       "      <th>0</th>\n",
       "      <td>284315</td>\n",
       "    </tr>\n",
       "    <tr>\n",
       "      <th>1</th>\n",
       "      <td>492</td>\n",
       "    </tr>\n",
       "  </tbody>\n",
       "</table>\n",
       "</div>"
      ],
      "text/plain": [
       "           V1\n",
       "Class        \n",
       "0      284315\n",
       "1         492"
      ]
     },
     "execution_count": 55,
     "metadata": {},
     "output_type": "execute_result"
    }
   ],
   "source": [
    "pd.pivot_table(data,\n",
    "             values = 'V1',\n",
    "               index = 'Class', \n",
    "              aggfunc = 'count')"
   ]
  },
  {
   "cell_type": "markdown",
   "id": "fb6d8b4c-6552-45c5-80ab-9d9bc90d9ceb",
   "metadata": {
    "jp-MarkdownHeadingCollapsed": true,
    "tags": []
   },
   "source": [
    "### LOF"
   ]
  },
  {
   "cell_type": "code",
   "execution_count": 56,
   "id": "8eec127e-fef5-4765-a3ce-34adbe9fa276",
   "metadata": {},
   "outputs": [],
   "source": [
    "min_max_scaler = MinMaxScaler(feature_range=(0, 1))\n",
    "train_data = min_max_scaler.fit_transform(data.copy())\n",
    "train_data = pd.DataFrame(train_data)\n",
    "train_data.columns = data.columns"
   ]
  },
  {
   "cell_type": "code",
   "execution_count": 57,
   "id": "d416503d-8905-42ac-a4c0-3fd68c687ffc",
   "metadata": {},
   "outputs": [
    {
     "name": "stdout",
     "output_type": "stream",
     "text": [
      "3076.515625\n"
     ]
    }
   ],
   "source": [
    "start = time.process_time()\n",
    "\n",
    "lof = LocalOutlierFactor(n_neighbors=2848, contamination=.1, novelty=False)\n",
    "y_pred = lof.fit_predict(train_data.loc[:, train_data.columns != 'Class'])\n",
    "y_scores = lof.negative_outlier_factor_\n",
    "\n",
    "end = time.process_time()\n",
    "creditcard_lof_train_test_time = end - start\n",
    "print(end - start)"
   ]
  },
  {
   "cell_type": "code",
   "execution_count": 58,
   "id": "13f150c0-0201-4853-8473-3704b0ce52af",
   "metadata": {},
   "outputs": [],
   "source": [
    "train_data['y_pred'] = y_pred\n",
    "train_data['prediction'] = train_data.apply(def_outlier, axis = 1)\n",
    "train_data['y_scores'] = -y_scores"
   ]
  },
  {
   "cell_type": "code",
   "execution_count": 59,
   "id": "07b648a0-ab9a-409e-b49e-c853cef0ed25",
   "metadata": {},
   "outputs": [
    {
     "data": {
      "text/plain": [
       "array([[256280,  28035],\n",
       "       [    46,    446]], dtype=int64)"
      ]
     },
     "execution_count": 59,
     "metadata": {},
     "output_type": "execute_result"
    }
   ],
   "source": [
    "confusion_matrix(train_data['Class'], train_data['prediction'])"
   ]
  },
  {
   "cell_type": "code",
   "execution_count": 60,
   "id": "0e6157bb",
   "metadata": {},
   "outputs": [
    {
     "data": {
      "text/plain": [
       "0.9599787265041109"
      ]
     },
     "execution_count": 60,
     "metadata": {},
     "output_type": "execute_result"
    }
   ],
   "source": [
    "fpr, tpr, _ = metrics.roc_curve(train_data['Class'], train_data['y_scores'])\n",
    "creditcard_lof_auc = metrics.auc(fpr, tpr)\n",
    "metrics.auc(fpr, tpr)"
   ]
  },
  {
   "cell_type": "code",
   "execution_count": 61,
   "id": "40d12082-efdc-4887-9c47-eef09d98b559",
   "metadata": {},
   "outputs": [
    {
     "name": "stdout",
     "output_type": "stream",
     "text": [
      "              precision    recall  f1-score   support\n",
      "\n",
      "           0       1.00      0.90      0.95    284315\n",
      "           1       0.02      0.91      0.03       492\n",
      "\n",
      "    accuracy                           0.90    284807\n",
      "   macro avg       0.51      0.90      0.49    284807\n",
      "weighted avg       1.00      0.90      0.95    284807\n",
      "\n"
     ]
    }
   ],
   "source": [
    "creditcard_lof_report = classification_report(train_data['Class'], train_data['prediction'], target_names = ['0','1'], output_dict = True)\n",
    "print(classification_report(train_data['Class'], train_data['prediction'], target_names = ['0','1']))"
   ]
  },
  {
   "cell_type": "code",
   "execution_count": 62,
   "id": "51ae2c14",
   "metadata": {},
   "outputs": [
    {
     "name": "stdout",
     "output_type": "stream",
     "text": [
      "0.452637682764581\n"
     ]
    }
   ],
   "source": [
    "precision, recall, thresholds = precision_recall_curve(train_data['Class'], train_data['y_scores'])\n",
    "creditcard_lof_auc_precision_recall = metrics.auc(recall, precision)\n",
    "print(creditcard_lof_auc_precision_recall)"
   ]
  },
  {
   "cell_type": "markdown",
   "id": "03cd6004",
   "metadata": {
    "jp-MarkdownHeadingCollapsed": true,
    "tags": []
   },
   "source": [
    "## Mammography"
   ]
  },
  {
   "cell_type": "markdown",
   "id": "185835b4",
   "metadata": {},
   "source": [
    "**Dataset source**: http://odds.cs.stonybrook.edu/mammography-dataset/ (data is transformed from .mat to .csv format)\n",
    "\n",
    "Shebuti Rayana (2016). ODDS Library [http://odds.cs.stonybrook.edu]. Stony Brook, NY: Stony Brook University, Department of Computer Science.\n",
    "\n",
    "**Additional sources:**\n",
    "\n",
    "Abe, Naoki, Bianca Zadrozny, and John Langford. “Outlier detection by active learning.” Proceedings of the 12th ACM SIGKDD international conference on Knowledge discovery and data mining. ACM, 2006.\n",
    "\n",
    "Liu, Fei Tony, Kai Ming Ting, and Zhi-Hua Zhou. “Isolation forest.” 2008 Eighth IEEE International Conference on Data Mining. IEEE, 2008.\n",
    "\n",
    "K. M. Ting, J. T. S. Chuan, and F. T. Liu. “Mass: A New Ranking Measure for Anomaly Detection.“, IEEE Transactions on Knowledge and Data Engineering, 2009."
   ]
  },
  {
   "cell_type": "code",
   "execution_count": 63,
   "id": "2fa86495-b3c3-420b-9869-e218b46ddddd",
   "metadata": {},
   "outputs": [],
   "source": [
    "data = pd.read_csv('./mammography.csv')"
   ]
  },
  {
   "cell_type": "code",
   "execution_count": 64,
   "id": "9903d321-6749-4ad3-a74f-5a36ad1922ac",
   "metadata": {},
   "outputs": [
    {
     "data": {
      "text/html": [
       "<div>\n",
       "<style scoped>\n",
       "    .dataframe tbody tr th:only-of-type {\n",
       "        vertical-align: middle;\n",
       "    }\n",
       "\n",
       "    .dataframe tbody tr th {\n",
       "        vertical-align: top;\n",
       "    }\n",
       "\n",
       "    .dataframe thead th {\n",
       "        text-align: right;\n",
       "    }\n",
       "</style>\n",
       "<table border=\"1\" class=\"dataframe\">\n",
       "  <thead>\n",
       "    <tr style=\"text-align: right;\">\n",
       "      <th></th>\n",
       "      <th>Col1</th>\n",
       "      <th>Col2</th>\n",
       "      <th>Col3</th>\n",
       "      <th>Col4</th>\n",
       "      <th>Col5</th>\n",
       "      <th>Col6</th>\n",
       "      <th>y</th>\n",
       "    </tr>\n",
       "  </thead>\n",
       "  <tbody>\n",
       "    <tr>\n",
       "      <th>0</th>\n",
       "      <td>0.230020</td>\n",
       "      <td>5.072578</td>\n",
       "      <td>-0.276061</td>\n",
       "      <td>0.832444</td>\n",
       "      <td>-0.377866</td>\n",
       "      <td>0.480322</td>\n",
       "      <td>0</td>\n",
       "    </tr>\n",
       "    <tr>\n",
       "      <th>1</th>\n",
       "      <td>0.155491</td>\n",
       "      <td>-0.169390</td>\n",
       "      <td>0.670652</td>\n",
       "      <td>-0.859553</td>\n",
       "      <td>-0.377866</td>\n",
       "      <td>-0.945723</td>\n",
       "      <td>0</td>\n",
       "    </tr>\n",
       "    <tr>\n",
       "      <th>2</th>\n",
       "      <td>-0.784415</td>\n",
       "      <td>-0.443654</td>\n",
       "      <td>5.674705</td>\n",
       "      <td>-0.859553</td>\n",
       "      <td>-0.377866</td>\n",
       "      <td>-0.945723</td>\n",
       "      <td>0</td>\n",
       "    </tr>\n",
       "    <tr>\n",
       "      <th>3</th>\n",
       "      <td>0.546088</td>\n",
       "      <td>0.131415</td>\n",
       "      <td>-0.456387</td>\n",
       "      <td>-0.859553</td>\n",
       "      <td>-0.377866</td>\n",
       "      <td>-0.945723</td>\n",
       "      <td>0</td>\n",
       "    </tr>\n",
       "    <tr>\n",
       "      <th>4</th>\n",
       "      <td>-0.102987</td>\n",
       "      <td>-0.394994</td>\n",
       "      <td>-0.140816</td>\n",
       "      <td>0.979703</td>\n",
       "      <td>-0.377866</td>\n",
       "      <td>1.013566</td>\n",
       "      <td>0</td>\n",
       "    </tr>\n",
       "  </tbody>\n",
       "</table>\n",
       "</div>"
      ],
      "text/plain": [
       "       Col1      Col2      Col3      Col4      Col5      Col6  y\n",
       "0  0.230020  5.072578 -0.276061  0.832444 -0.377866  0.480322  0\n",
       "1  0.155491 -0.169390  0.670652 -0.859553 -0.377866 -0.945723  0\n",
       "2 -0.784415 -0.443654  5.674705 -0.859553 -0.377866 -0.945723  0\n",
       "3  0.546088  0.131415 -0.456387 -0.859553 -0.377866 -0.945723  0\n",
       "4 -0.102987 -0.394994 -0.140816  0.979703 -0.377866  1.013566  0"
      ]
     },
     "execution_count": 64,
     "metadata": {},
     "output_type": "execute_result"
    }
   ],
   "source": [
    "data.head()"
   ]
  },
  {
   "cell_type": "code",
   "execution_count": 65,
   "id": "8e43cae7-bae2-4513-8a6b-1d1fc1767200",
   "metadata": {},
   "outputs": [
    {
     "data": {
      "text/html": [
       "<div>\n",
       "<style scoped>\n",
       "    .dataframe tbody tr th:only-of-type {\n",
       "        vertical-align: middle;\n",
       "    }\n",
       "\n",
       "    .dataframe tbody tr th {\n",
       "        vertical-align: top;\n",
       "    }\n",
       "\n",
       "    .dataframe thead th {\n",
       "        text-align: right;\n",
       "    }\n",
       "</style>\n",
       "<table border=\"1\" class=\"dataframe\">\n",
       "  <thead>\n",
       "    <tr style=\"text-align: right;\">\n",
       "      <th></th>\n",
       "      <th>Col1</th>\n",
       "    </tr>\n",
       "    <tr>\n",
       "      <th>y</th>\n",
       "      <th></th>\n",
       "    </tr>\n",
       "  </thead>\n",
       "  <tbody>\n",
       "    <tr>\n",
       "      <th>0</th>\n",
       "      <td>10923</td>\n",
       "    </tr>\n",
       "    <tr>\n",
       "      <th>1</th>\n",
       "      <td>260</td>\n",
       "    </tr>\n",
       "  </tbody>\n",
       "</table>\n",
       "</div>"
      ],
      "text/plain": [
       "    Col1\n",
       "y       \n",
       "0  10923\n",
       "1    260"
      ]
     },
     "execution_count": 65,
     "metadata": {},
     "output_type": "execute_result"
    }
   ],
   "source": [
    "pd.pivot_table(data,\n",
    "             values = 'Col1',\n",
    "               index = 'y', \n",
    "              aggfunc = 'count')"
   ]
  },
  {
   "cell_type": "code",
   "execution_count": 66,
   "id": "67a6e1ef",
   "metadata": {},
   "outputs": [
    {
     "data": {
      "text/plain": [
       "(11183, 7)"
      ]
     },
     "execution_count": 66,
     "metadata": {},
     "output_type": "execute_result"
    }
   ],
   "source": [
    "data.shape"
   ]
  },
  {
   "cell_type": "markdown",
   "id": "883df8bd",
   "metadata": {
    "jp-MarkdownHeadingCollapsed": true,
    "tags": []
   },
   "source": [
    "### LOF"
   ]
  },
  {
   "cell_type": "code",
   "execution_count": 67,
   "id": "492f94ac",
   "metadata": {},
   "outputs": [],
   "source": [
    "min_max_scaler = MinMaxScaler(feature_range=(0, 1))\n",
    "train_data = min_max_scaler.fit_transform(data.copy())\n",
    "train_data = pd.DataFrame(train_data)\n",
    "train_data.columns = data.columns"
   ]
  },
  {
   "cell_type": "code",
   "execution_count": 68,
   "id": "93e7ce56",
   "metadata": {},
   "outputs": [
    {
     "name": "stdout",
     "output_type": "stream",
     "text": [
      "1.15625\n"
     ]
    }
   ],
   "source": [
    "start = time.process_time()\n",
    "\n",
    "lof = LocalOutlierFactor(n_neighbors=111, contamination=.1, novelty=False)\n",
    "y_pred = lof.fit_predict(train_data.loc[:, train_data.columns != 'y'])\n",
    "y_scores = lof.negative_outlier_factor_\n",
    "\n",
    "end = time.process_time()\n",
    "mammography_lof_train_test_time = end - start\n",
    "print(end - start)"
   ]
  },
  {
   "cell_type": "code",
   "execution_count": 69,
   "id": "39f6b6e4",
   "metadata": {},
   "outputs": [],
   "source": [
    "train_data['y_pred'] = y_pred\n",
    "train_data['prediction'] = train_data.apply(def_outlier, axis = 1)\n",
    "train_data['y_scores'] = -y_scores"
   ]
  },
  {
   "cell_type": "code",
   "execution_count": 70,
   "id": "b141ddc1",
   "metadata": {},
   "outputs": [
    {
     "data": {
      "text/plain": [
       "array([[9941,  982],\n",
       "       [ 123,  137]], dtype=int64)"
      ]
     },
     "execution_count": 70,
     "metadata": {},
     "output_type": "execute_result"
    }
   ],
   "source": [
    "confusion_matrix(train_data['y'], train_data['prediction'])"
   ]
  },
  {
   "cell_type": "code",
   "execution_count": 71,
   "id": "b0382980",
   "metadata": {},
   "outputs": [
    {
     "data": {
      "text/plain": [
       "0.8587715406446524"
      ]
     },
     "execution_count": 71,
     "metadata": {},
     "output_type": "execute_result"
    }
   ],
   "source": [
    "fpr, tpr, _ = metrics.roc_curve(train_data['y'], train_data['y_scores'])\n",
    "mammography_lof_auc = metrics.auc(fpr, tpr)\n",
    "metrics.auc(fpr, tpr)"
   ]
  },
  {
   "cell_type": "code",
   "execution_count": 72,
   "id": "4730d445",
   "metadata": {},
   "outputs": [
    {
     "name": "stdout",
     "output_type": "stream",
     "text": [
      "              precision    recall  f1-score   support\n",
      "\n",
      "           0       0.99      0.91      0.95     10923\n",
      "           1       0.12      0.53      0.20       260\n",
      "\n",
      "    accuracy                           0.90     11183\n",
      "   macro avg       0.56      0.72      0.57     11183\n",
      "weighted avg       0.97      0.90      0.93     11183\n",
      "\n"
     ]
    }
   ],
   "source": [
    "mammography_lof_report = classification_report(train_data['y'], train_data['prediction'], target_names = ['0','1'], output_dict = True)\n",
    "print(classification_report(train_data['y'], train_data['prediction'], target_names = ['0','1']))"
   ]
  },
  {
   "cell_type": "code",
   "execution_count": 73,
   "id": "8e9c85dd",
   "metadata": {},
   "outputs": [
    {
     "name": "stdout",
     "output_type": "stream",
     "text": [
      "0.12627233589595446\n"
     ]
    }
   ],
   "source": [
    "precision, recall, thresholds = precision_recall_curve(train_data['y'], train_data['y_scores'])\n",
    "mammography_lof_auc_precision_recall = metrics.auc(recall, precision)\n",
    "print(mammography_lof_auc_precision_recall)"
   ]
  },
  {
   "cell_type": "markdown",
   "id": "74377696-aba0-4a6a-b9f5-620f26843c9d",
   "metadata": {
    "jp-MarkdownHeadingCollapsed": true,
    "tags": []
   },
   "source": [
    "## Shuttle"
   ]
  },
  {
   "cell_type": "markdown",
   "id": "ad1dd547",
   "metadata": {},
   "source": [
    "**Dataset source**: http://odds.cs.stonybrook.edu/shuttle-dataset/ (data is transformed from .mat to .csv format)\n",
    "\n",
    "Shebuti Rayana (2016). ODDS Library [http://odds.cs.stonybrook.edu]. Stony Brook, NY: Stony Brook University, Department of Computer Science.\n",
    "\n",
    "**Additional sources:**\n",
    "\n",
    "Abe, Naoki, Bianca Zadrozny, and John Langford. “Outlier detection by active learning.” Proceedings of the 12th ACM SIGKDD international conference on Knowledge discovery and data mining. ACM, 2006.\n",
    "\n",
    "Liu, Fei Tony, Kai Ming Ting, and Zhi-Hua Zhou. “Isolation forest.” 2008 Eighth IEEE International Conference on Data Mining. IEEE, 2008.\n",
    "\n",
    "K. M. Ting, J. T. S. Chuan, and F. T. Liu. “Mass: A New Ranking Measure for Anomaly Detection.“, IEEE Transactions on Knowledge and Data Engineering, 2009.\n",
    "\n",
    "Kai Ming Ting, Guang-Tong Zhou, Fei Tony Liu & Tan Swee Chuan. (2010). Mass Estimation and Its Applications. Proceedings of The 16th ACM SIGKDD Conference on Knowledge Discovery and Data Mining 2010. pp. 989-998.\n",
    "\n",
    "Swee Chuan Tan, Kai Ming Ting & Fei Tony Liu. (2011). Fast Anomaly Detection for Streaming Data. Proceedings of the International Joint Conference on Artificial Intelligence 2011. pp.1151-1156."
   ]
  },
  {
   "cell_type": "code",
   "execution_count": 74,
   "id": "a424b386-3e5e-49d5-bf08-d4da0ac643d7",
   "metadata": {},
   "outputs": [],
   "source": [
    "data = pd.read_csv('./shuttle.csv', sep = ',')"
   ]
  },
  {
   "cell_type": "code",
   "execution_count": 75,
   "id": "b4ecddb9-b1c1-4601-a92b-8219448586d9",
   "metadata": {},
   "outputs": [
    {
     "data": {
      "text/html": [
       "<div>\n",
       "<style scoped>\n",
       "    .dataframe tbody tr th:only-of-type {\n",
       "        vertical-align: middle;\n",
       "    }\n",
       "\n",
       "    .dataframe tbody tr th {\n",
       "        vertical-align: top;\n",
       "    }\n",
       "\n",
       "    .dataframe thead th {\n",
       "        text-align: right;\n",
       "    }\n",
       "</style>\n",
       "<table border=\"1\" class=\"dataframe\">\n",
       "  <thead>\n",
       "    <tr style=\"text-align: right;\">\n",
       "      <th></th>\n",
       "      <th>Col1</th>\n",
       "      <th>Col2</th>\n",
       "      <th>Col3</th>\n",
       "      <th>Col4</th>\n",
       "      <th>Col5</th>\n",
       "      <th>Col6</th>\n",
       "      <th>Col7</th>\n",
       "      <th>Col8</th>\n",
       "      <th>Col9</th>\n",
       "      <th>y</th>\n",
       "    </tr>\n",
       "  </thead>\n",
       "  <tbody>\n",
       "    <tr>\n",
       "      <th>0</th>\n",
       "      <td>50</td>\n",
       "      <td>21</td>\n",
       "      <td>77</td>\n",
       "      <td>0</td>\n",
       "      <td>28</td>\n",
       "      <td>0</td>\n",
       "      <td>27</td>\n",
       "      <td>48</td>\n",
       "      <td>22</td>\n",
       "      <td>1</td>\n",
       "    </tr>\n",
       "    <tr>\n",
       "      <th>1</th>\n",
       "      <td>53</td>\n",
       "      <td>0</td>\n",
       "      <td>82</td>\n",
       "      <td>0</td>\n",
       "      <td>52</td>\n",
       "      <td>-5</td>\n",
       "      <td>29</td>\n",
       "      <td>30</td>\n",
       "      <td>2</td>\n",
       "      <td>0</td>\n",
       "    </tr>\n",
       "    <tr>\n",
       "      <th>2</th>\n",
       "      <td>37</td>\n",
       "      <td>0</td>\n",
       "      <td>76</td>\n",
       "      <td>0</td>\n",
       "      <td>28</td>\n",
       "      <td>18</td>\n",
       "      <td>40</td>\n",
       "      <td>48</td>\n",
       "      <td>8</td>\n",
       "      <td>0</td>\n",
       "    </tr>\n",
       "    <tr>\n",
       "      <th>3</th>\n",
       "      <td>37</td>\n",
       "      <td>0</td>\n",
       "      <td>79</td>\n",
       "      <td>0</td>\n",
       "      <td>34</td>\n",
       "      <td>-26</td>\n",
       "      <td>43</td>\n",
       "      <td>46</td>\n",
       "      <td>2</td>\n",
       "      <td>0</td>\n",
       "    </tr>\n",
       "    <tr>\n",
       "      <th>4</th>\n",
       "      <td>85</td>\n",
       "      <td>0</td>\n",
       "      <td>88</td>\n",
       "      <td>-4</td>\n",
       "      <td>6</td>\n",
       "      <td>1</td>\n",
       "      <td>3</td>\n",
       "      <td>83</td>\n",
       "      <td>80</td>\n",
       "      <td>1</td>\n",
       "    </tr>\n",
       "  </tbody>\n",
       "</table>\n",
       "</div>"
      ],
      "text/plain": [
       "   Col1  Col2  Col3  Col4  Col5  Col6  Col7  Col8  Col9  y\n",
       "0    50    21    77     0    28     0    27    48    22  1\n",
       "1    53     0    82     0    52    -5    29    30     2  0\n",
       "2    37     0    76     0    28    18    40    48     8  0\n",
       "3    37     0    79     0    34   -26    43    46     2  0\n",
       "4    85     0    88    -4     6     1     3    83    80  1"
      ]
     },
     "execution_count": 75,
     "metadata": {},
     "output_type": "execute_result"
    }
   ],
   "source": [
    "data.head()"
   ]
  },
  {
   "cell_type": "code",
   "execution_count": 76,
   "id": "94d4c917",
   "metadata": {},
   "outputs": [
    {
     "data": {
      "text/plain": [
       "(49097, 10)"
      ]
     },
     "execution_count": 76,
     "metadata": {},
     "output_type": "execute_result"
    }
   ],
   "source": [
    "data.shape"
   ]
  },
  {
   "cell_type": "code",
   "execution_count": 77,
   "id": "f09c4dcc-609d-4c38-b7ae-69187b451e02",
   "metadata": {},
   "outputs": [
    {
     "data": {
      "text/html": [
       "<div>\n",
       "<style scoped>\n",
       "    .dataframe tbody tr th:only-of-type {\n",
       "        vertical-align: middle;\n",
       "    }\n",
       "\n",
       "    .dataframe tbody tr th {\n",
       "        vertical-align: top;\n",
       "    }\n",
       "\n",
       "    .dataframe thead th {\n",
       "        text-align: right;\n",
       "    }\n",
       "</style>\n",
       "<table border=\"1\" class=\"dataframe\">\n",
       "  <thead>\n",
       "    <tr style=\"text-align: right;\">\n",
       "      <th></th>\n",
       "      <th>Col1</th>\n",
       "    </tr>\n",
       "    <tr>\n",
       "      <th>y</th>\n",
       "      <th></th>\n",
       "    </tr>\n",
       "  </thead>\n",
       "  <tbody>\n",
       "    <tr>\n",
       "      <th>0</th>\n",
       "      <td>45586</td>\n",
       "    </tr>\n",
       "    <tr>\n",
       "      <th>1</th>\n",
       "      <td>3511</td>\n",
       "    </tr>\n",
       "  </tbody>\n",
       "</table>\n",
       "</div>"
      ],
      "text/plain": [
       "    Col1\n",
       "y       \n",
       "0  45586\n",
       "1   3511"
      ]
     },
     "execution_count": 77,
     "metadata": {},
     "output_type": "execute_result"
    }
   ],
   "source": [
    "pd.pivot_table(data,\n",
    "             values = 'Col1',\n",
    "               index = 'y', \n",
    "              aggfunc = 'count')"
   ]
  },
  {
   "cell_type": "markdown",
   "id": "e5c981ff-7737-44e2-b83d-50d2f15e71c4",
   "metadata": {
    "jp-MarkdownHeadingCollapsed": true,
    "tags": []
   },
   "source": [
    "### LOF"
   ]
  },
  {
   "cell_type": "code",
   "execution_count": 78,
   "id": "66545afe",
   "metadata": {},
   "outputs": [],
   "source": [
    "min_max_scaler = MinMaxScaler(feature_range=(0, 1))\n",
    "train_data = min_max_scaler.fit_transform(data.copy())\n",
    "train_data = pd.DataFrame(train_data)\n",
    "train_data.columns = data.columns"
   ]
  },
  {
   "cell_type": "code",
   "execution_count": 79,
   "id": "baa63ee5-dd93-4042-a547-bd275a1e26ac",
   "metadata": {},
   "outputs": [
    {
     "name": "stdout",
     "output_type": "stream",
     "text": [
      "13.5625\n"
     ]
    }
   ],
   "source": [
    "start = time.process_time()\n",
    "\n",
    "lof = LocalOutlierFactor(n_neighbors=491, contamination=.1, novelty=False)\n",
    "y_pred = lof.fit_predict(train_data.loc[:, train_data.columns != 'y'])\n",
    "y_scores = lof.negative_outlier_factor_\n",
    "\n",
    "end = time.process_time()\n",
    "shuttle_lof_train_test_time = end - start\n",
    "print(end - start)"
   ]
  },
  {
   "cell_type": "code",
   "execution_count": 80,
   "id": "482acfbf-3ae3-4956-98df-b74d785d0fb5",
   "metadata": {},
   "outputs": [],
   "source": [
    "train_data['y_pred'] = y_pred\n",
    "train_data['prediction'] = train_data.apply(def_outlier, axis = 1)\n",
    "train_data['y_scores'] = -y_scores"
   ]
  },
  {
   "cell_type": "code",
   "execution_count": 81,
   "id": "6010a783-4804-4b92-893d-7efba13a91ff",
   "metadata": {},
   "outputs": [
    {
     "data": {
      "text/plain": [
       "array([[41343,  4243],\n",
       "       [ 2844,   667]], dtype=int64)"
      ]
     },
     "execution_count": 81,
     "metadata": {},
     "output_type": "execute_result"
    }
   ],
   "source": [
    "confusion_matrix(train_data['y'], train_data['prediction'])"
   ]
  },
  {
   "cell_type": "code",
   "execution_count": 82,
   "id": "11370b6e",
   "metadata": {},
   "outputs": [
    {
     "data": {
      "text/plain": [
       "0.5099668080049211"
      ]
     },
     "execution_count": 82,
     "metadata": {},
     "output_type": "execute_result"
    }
   ],
   "source": [
    "fpr, tpr, _ = metrics.roc_curve(train_data['y'], train_data['y_scores'])\n",
    "shuttle_lof_auc = metrics.auc(fpr, tpr)\n",
    "metrics.auc(fpr, tpr)"
   ]
  },
  {
   "cell_type": "code",
   "execution_count": 83,
   "id": "68898ef3-2b07-4b31-8644-230e77c143e9",
   "metadata": {},
   "outputs": [
    {
     "name": "stdout",
     "output_type": "stream",
     "text": [
      "              precision    recall  f1-score   support\n",
      "\n",
      "           0       0.94      0.91      0.92     45586\n",
      "           1       0.14      0.19      0.16      3511\n",
      "\n",
      "    accuracy                           0.86     49097\n",
      "   macro avg       0.54      0.55      0.54     49097\n",
      "weighted avg       0.88      0.86      0.87     49097\n",
      "\n"
     ]
    }
   ],
   "source": [
    "shuttle_lof_report = classification_report(train_data['y'], train_data['prediction'], target_names = ['0','1'], output_dict = True)\n",
    "print(classification_report(train_data['y'], train_data['prediction'], target_names = ['0','1']))"
   ]
  },
  {
   "cell_type": "code",
   "execution_count": 84,
   "id": "2219ee0b",
   "metadata": {},
   "outputs": [
    {
     "name": "stdout",
     "output_type": "stream",
     "text": [
      "0.1373105149137827\n"
     ]
    }
   ],
   "source": [
    "precision, recall, thresholds = precision_recall_curve(train_data['y'], train_data['y_scores'])\n",
    "shuttle_lof_auc_precision_recall = metrics.auc(recall, precision)\n",
    "print(shuttle_lof_auc_precision_recall)"
   ]
  },
  {
   "cell_type": "markdown",
   "id": "fe5ee8ce-7b98-40ba-935f-2a1f91d141c3",
   "metadata": {
    "jp-MarkdownHeadingCollapsed": true,
    "tags": []
   },
   "source": [
    "## mnist"
   ]
  },
  {
   "cell_type": "markdown",
   "id": "91116830",
   "metadata": {},
   "source": [
    "**Dataset source**: http://odds.cs.stonybrook.edu/mnist-dataset/ (data is transformed from .mat to .csv format)\n",
    "\n",
    "Shebuti Rayana (2016). ODDS Library [http://odds.cs.stonybrook.edu]. Stony Brook, NY: Stony Brook University, Department of Computer Science.\n",
    "\n",
    "**Additional sources:**\n",
    "\n",
    "Bandaragoda, Tharindu R., et al. “Efficient Anomaly Detection by Isolation Using Nearest Neighbour Ensemble.” 2014 IEEE International Conference on Data Mining Workshop. IEEE, 2014."
   ]
  },
  {
   "cell_type": "code",
   "execution_count": 85,
   "id": "a092626d-fd14-4efd-848b-04c865df948b",
   "metadata": {},
   "outputs": [],
   "source": [
    "data = pd.read_csv('./mnist.csv')"
   ]
  },
  {
   "cell_type": "code",
   "execution_count": 86,
   "id": "dce30806-daa4-4424-9d34-5590b12cc572",
   "metadata": {},
   "outputs": [],
   "source": [
    "data = data.drop(columns = ['Col1','Col4', 'Col7', 'Col22', 'Col27', 'Col29', 'Col38', 'Col41', 'Col51', 'Col53', 'Col54', 'Col61', 'Col62', 'Col71', 'Col73', 'Col79', 'Col87', 'Col88', 'Col89', 'Col90',\n",
    "'Col92', 'Col100'])"
   ]
  },
  {
   "cell_type": "code",
   "execution_count": 87,
   "id": "a977b2ca-e0c7-4440-8019-ecccfafd0794",
   "metadata": {},
   "outputs": [
    {
     "data": {
      "text/html": [
       "<div>\n",
       "<style scoped>\n",
       "    .dataframe tbody tr th:only-of-type {\n",
       "        vertical-align: middle;\n",
       "    }\n",
       "\n",
       "    .dataframe tbody tr th {\n",
       "        vertical-align: top;\n",
       "    }\n",
       "\n",
       "    .dataframe thead th {\n",
       "        text-align: right;\n",
       "    }\n",
       "</style>\n",
       "<table border=\"1\" class=\"dataframe\">\n",
       "  <thead>\n",
       "    <tr style=\"text-align: right;\">\n",
       "      <th></th>\n",
       "      <th>Col2</th>\n",
       "    </tr>\n",
       "    <tr>\n",
       "      <th>y</th>\n",
       "      <th></th>\n",
       "    </tr>\n",
       "  </thead>\n",
       "  <tbody>\n",
       "    <tr>\n",
       "      <th>0</th>\n",
       "      <td>6903</td>\n",
       "    </tr>\n",
       "    <tr>\n",
       "      <th>1</th>\n",
       "      <td>700</td>\n",
       "    </tr>\n",
       "  </tbody>\n",
       "</table>\n",
       "</div>"
      ],
      "text/plain": [
       "   Col2\n",
       "y      \n",
       "0  6903\n",
       "1   700"
      ]
     },
     "execution_count": 87,
     "metadata": {},
     "output_type": "execute_result"
    }
   ],
   "source": [
    "pd.pivot_table(data,\n",
    "             values = 'Col2',\n",
    "               index = 'y', \n",
    "              aggfunc = 'count')"
   ]
  },
  {
   "cell_type": "code",
   "execution_count": 88,
   "id": "67c2f6ad-e7a7-41df-81e1-5baf06f853d9",
   "metadata": {},
   "outputs": [
    {
     "data": {
      "text/plain": [
       "(7603, 79)"
      ]
     },
     "execution_count": 88,
     "metadata": {},
     "output_type": "execute_result"
    }
   ],
   "source": [
    "data.shape"
   ]
  },
  {
   "cell_type": "code",
   "execution_count": 89,
   "id": "d6dc2a2e-c4ab-404c-bf0b-d549f2b7c4ee",
   "metadata": {},
   "outputs": [
    {
     "data": {
      "text/html": [
       "<div>\n",
       "<style scoped>\n",
       "    .dataframe tbody tr th:only-of-type {\n",
       "        vertical-align: middle;\n",
       "    }\n",
       "\n",
       "    .dataframe tbody tr th {\n",
       "        vertical-align: top;\n",
       "    }\n",
       "\n",
       "    .dataframe thead th {\n",
       "        text-align: right;\n",
       "    }\n",
       "</style>\n",
       "<table border=\"1\" class=\"dataframe\">\n",
       "  <thead>\n",
       "    <tr style=\"text-align: right;\">\n",
       "      <th></th>\n",
       "      <th>Col2</th>\n",
       "      <th>Col3</th>\n",
       "      <th>Col5</th>\n",
       "      <th>Col6</th>\n",
       "      <th>Col8</th>\n",
       "      <th>Col9</th>\n",
       "      <th>Col10</th>\n",
       "      <th>Col11</th>\n",
       "      <th>Col12</th>\n",
       "      <th>Col13</th>\n",
       "      <th>...</th>\n",
       "      <th>Col86</th>\n",
       "      <th>Col91</th>\n",
       "      <th>Col93</th>\n",
       "      <th>Col94</th>\n",
       "      <th>Col95</th>\n",
       "      <th>Col96</th>\n",
       "      <th>Col97</th>\n",
       "      <th>Col98</th>\n",
       "      <th>Col99</th>\n",
       "      <th>y</th>\n",
       "    </tr>\n",
       "  </thead>\n",
       "  <tbody>\n",
       "    <tr>\n",
       "      <th>0</th>\n",
       "      <td>-73.804153</td>\n",
       "      <td>198.205963</td>\n",
       "      <td>-13.124617</td>\n",
       "      <td>-1.1501</td>\n",
       "      <td>-0.141633</td>\n",
       "      <td>179.249390</td>\n",
       "      <td>114.661163</td>\n",
       "      <td>-80.736702</td>\n",
       "      <td>130.659348</td>\n",
       "      <td>162.649841</td>\n",
       "      <td>...</td>\n",
       "      <td>-15.392716</td>\n",
       "      <td>188.055649</td>\n",
       "      <td>-4.469967</td>\n",
       "      <td>158.381409</td>\n",
       "      <td>-137.100632</td>\n",
       "      <td>27.131416</td>\n",
       "      <td>-2.274633</td>\n",
       "      <td>-0.00065</td>\n",
       "      <td>-12.351267</td>\n",
       "      <td>0</td>\n",
       "    </tr>\n",
       "    <tr>\n",
       "      <th>1</th>\n",
       "      <td>-73.804153</td>\n",
       "      <td>197.205963</td>\n",
       "      <td>-13.124617</td>\n",
       "      <td>-1.1501</td>\n",
       "      <td>-0.141633</td>\n",
       "      <td>179.249390</td>\n",
       "      <td>-44.338833</td>\n",
       "      <td>-80.736702</td>\n",
       "      <td>128.659348</td>\n",
       "      <td>190.649841</td>\n",
       "      <td>...</td>\n",
       "      <td>-15.392716</td>\n",
       "      <td>186.055649</td>\n",
       "      <td>-4.469967</td>\n",
       "      <td>123.381416</td>\n",
       "      <td>-137.100632</td>\n",
       "      <td>157.131409</td>\n",
       "      <td>-2.274633</td>\n",
       "      <td>-0.00065</td>\n",
       "      <td>-12.351267</td>\n",
       "      <td>0</td>\n",
       "    </tr>\n",
       "    <tr>\n",
       "      <th>2</th>\n",
       "      <td>-73.804153</td>\n",
       "      <td>-53.794033</td>\n",
       "      <td>-13.124617</td>\n",
       "      <td>-1.1501</td>\n",
       "      <td>-0.141633</td>\n",
       "      <td>-73.750618</td>\n",
       "      <td>-44.338833</td>\n",
       "      <td>170.263306</td>\n",
       "      <td>130.659348</td>\n",
       "      <td>46.649849</td>\n",
       "      <td>...</td>\n",
       "      <td>-15.392716</td>\n",
       "      <td>188.055649</td>\n",
       "      <td>-4.469967</td>\n",
       "      <td>157.381409</td>\n",
       "      <td>-137.100632</td>\n",
       "      <td>-93.868584</td>\n",
       "      <td>-2.274633</td>\n",
       "      <td>-0.00065</td>\n",
       "      <td>-12.351267</td>\n",
       "      <td>0</td>\n",
       "    </tr>\n",
       "    <tr>\n",
       "      <th>3</th>\n",
       "      <td>-73.804153</td>\n",
       "      <td>86.205963</td>\n",
       "      <td>-13.124617</td>\n",
       "      <td>-1.1501</td>\n",
       "      <td>-0.141633</td>\n",
       "      <td>76.249382</td>\n",
       "      <td>208.661163</td>\n",
       "      <td>107.263298</td>\n",
       "      <td>130.659348</td>\n",
       "      <td>190.649841</td>\n",
       "      <td>...</td>\n",
       "      <td>-15.392716</td>\n",
       "      <td>188.055649</td>\n",
       "      <td>-4.469967</td>\n",
       "      <td>157.381409</td>\n",
       "      <td>-137.100632</td>\n",
       "      <td>74.131416</td>\n",
       "      <td>-2.274633</td>\n",
       "      <td>-0.00065</td>\n",
       "      <td>-12.351267</td>\n",
       "      <td>0</td>\n",
       "    </tr>\n",
       "    <tr>\n",
       "      <th>4</th>\n",
       "      <td>-27.804153</td>\n",
       "      <td>199.205963</td>\n",
       "      <td>-13.124617</td>\n",
       "      <td>-1.1501</td>\n",
       "      <td>-0.141633</td>\n",
       "      <td>179.249390</td>\n",
       "      <td>-44.338833</td>\n",
       "      <td>-80.736702</td>\n",
       "      <td>130.659348</td>\n",
       "      <td>91.649849</td>\n",
       "      <td>...</td>\n",
       "      <td>-15.392716</td>\n",
       "      <td>188.055649</td>\n",
       "      <td>-4.469967</td>\n",
       "      <td>22.381416</td>\n",
       "      <td>-137.100632</td>\n",
       "      <td>159.131409</td>\n",
       "      <td>-2.274633</td>\n",
       "      <td>-0.00065</td>\n",
       "      <td>-12.351267</td>\n",
       "      <td>0</td>\n",
       "    </tr>\n",
       "  </tbody>\n",
       "</table>\n",
       "<p>5 rows × 79 columns</p>\n",
       "</div>"
      ],
      "text/plain": [
       "        Col2        Col3       Col5    Col6      Col8        Col9       Col10  \\\n",
       "0 -73.804153  198.205963 -13.124617 -1.1501 -0.141633  179.249390  114.661163   \n",
       "1 -73.804153  197.205963 -13.124617 -1.1501 -0.141633  179.249390  -44.338833   \n",
       "2 -73.804153  -53.794033 -13.124617 -1.1501 -0.141633  -73.750618  -44.338833   \n",
       "3 -73.804153   86.205963 -13.124617 -1.1501 -0.141633   76.249382  208.661163   \n",
       "4 -27.804153  199.205963 -13.124617 -1.1501 -0.141633  179.249390  -44.338833   \n",
       "\n",
       "        Col11       Col12       Col13  ...      Col86       Col91     Col93  \\\n",
       "0  -80.736702  130.659348  162.649841  ... -15.392716  188.055649 -4.469967   \n",
       "1  -80.736702  128.659348  190.649841  ... -15.392716  186.055649 -4.469967   \n",
       "2  170.263306  130.659348   46.649849  ... -15.392716  188.055649 -4.469967   \n",
       "3  107.263298  130.659348  190.649841  ... -15.392716  188.055649 -4.469967   \n",
       "4  -80.736702  130.659348   91.649849  ... -15.392716  188.055649 -4.469967   \n",
       "\n",
       "        Col94       Col95       Col96     Col97    Col98      Col99  y  \n",
       "0  158.381409 -137.100632   27.131416 -2.274633 -0.00065 -12.351267  0  \n",
       "1  123.381416 -137.100632  157.131409 -2.274633 -0.00065 -12.351267  0  \n",
       "2  157.381409 -137.100632  -93.868584 -2.274633 -0.00065 -12.351267  0  \n",
       "3  157.381409 -137.100632   74.131416 -2.274633 -0.00065 -12.351267  0  \n",
       "4   22.381416 -137.100632  159.131409 -2.274633 -0.00065 -12.351267  0  \n",
       "\n",
       "[5 rows x 79 columns]"
      ]
     },
     "execution_count": 89,
     "metadata": {},
     "output_type": "execute_result"
    }
   ],
   "source": [
    "data.head()"
   ]
  },
  {
   "cell_type": "markdown",
   "id": "83171dd9-bcc7-4f0f-812d-dae61281759b",
   "metadata": {
    "jp-MarkdownHeadingCollapsed": true,
    "tags": []
   },
   "source": [
    "### LOF"
   ]
  },
  {
   "cell_type": "code",
   "execution_count": 90,
   "id": "86163b95-6051-41d1-a3bd-5ebac55b06d9",
   "metadata": {},
   "outputs": [],
   "source": [
    "min_max_scaler = MinMaxScaler(feature_range=(0, 1))\n",
    "train_data = min_max_scaler.fit_transform(data.copy())\n",
    "train_data = pd.DataFrame(train_data)\n",
    "train_data.columns = data.columns"
   ]
  },
  {
   "cell_type": "code",
   "execution_count": 91,
   "id": "8c32baf5-4353-4624-ae62-874b0f0e634a",
   "metadata": {},
   "outputs": [
    {
     "name": "stdout",
     "output_type": "stream",
     "text": [
      "3.328125\n"
     ]
    }
   ],
   "source": [
    "start = time.process_time()\n",
    "\n",
    "lof = LocalOutlierFactor(n_neighbors=76, contamination=.1, novelty=False)\n",
    "y_pred = lof.fit_predict(train_data.loc[:, train_data.columns != 'y'])\n",
    "y_scores = lof.negative_outlier_factor_\n",
    "\n",
    "end = time.process_time()\n",
    "mnist_lof_train_test_time = end - start\n",
    "print(end - start)"
   ]
  },
  {
   "cell_type": "code",
   "execution_count": 92,
   "id": "a2a1812a-672a-4b32-a1ca-feea659ea87f",
   "metadata": {},
   "outputs": [],
   "source": [
    "train_data['y_pred'] = y_pred\n",
    "train_data['prediction'] = train_data.apply(def_outlier, axis = 1)\n",
    "train_data['y_scores'] = -y_scores"
   ]
  },
  {
   "cell_type": "code",
   "execution_count": 93,
   "id": "0d6cacb7-8a5a-457c-b67d-d187b9067c46",
   "metadata": {},
   "outputs": [
    {
     "data": {
      "text/plain": [
       "array([[6403,  500],\n",
       "       [ 439,  261]], dtype=int64)"
      ]
     },
     "execution_count": 93,
     "metadata": {},
     "output_type": "execute_result"
    }
   ],
   "source": [
    "confusion_matrix(train_data['y'], train_data['prediction'])"
   ]
  },
  {
   "cell_type": "code",
   "execution_count": 94,
   "id": "c7ecabde",
   "metadata": {},
   "outputs": [
    {
     "data": {
      "text/plain": [
       "0.7818577844001573"
      ]
     },
     "execution_count": 94,
     "metadata": {},
     "output_type": "execute_result"
    }
   ],
   "source": [
    "fpr, tpr, _ = metrics.roc_curve(train_data['y'], train_data['y_scores'])\n",
    "mnist_lof_auc = metrics.auc(fpr, tpr)\n",
    "metrics.auc(fpr, tpr)"
   ]
  },
  {
   "cell_type": "code",
   "execution_count": 95,
   "id": "1394d311-8b13-4c84-924b-5980e585fa38",
   "metadata": {},
   "outputs": [
    {
     "name": "stdout",
     "output_type": "stream",
     "text": [
      "              precision    recall  f1-score   support\n",
      "\n",
      "           0       0.94      0.93      0.93      6903\n",
      "           1       0.34      0.37      0.36       700\n",
      "\n",
      "    accuracy                           0.88      7603\n",
      "   macro avg       0.64      0.65      0.64      7603\n",
      "weighted avg       0.88      0.88      0.88      7603\n",
      "\n"
     ]
    }
   ],
   "source": [
    "mnist_lof_report = classification_report(train_data['y'], train_data['prediction'], target_names = ['0','1'], output_dict = True)\n",
    "print(classification_report(train_data['y'], train_data['prediction'], target_names = ['0','1']))"
   ]
  },
  {
   "cell_type": "code",
   "execution_count": 96,
   "id": "fa3c8fc1",
   "metadata": {},
   "outputs": [
    {
     "name": "stdout",
     "output_type": "stream",
     "text": [
      "0.31325975583437815\n"
     ]
    }
   ],
   "source": [
    "precision, recall, thresholds = precision_recall_curve(train_data['y'], train_data['y_scores'])\n",
    "mnist_lof_auc_precision_recall = metrics.auc(recall, precision)\n",
    "print(mnist_lof_auc_precision_recall)"
   ]
  },
  {
   "cell_type": "markdown",
   "id": "64ec8246-a429-4e4e-b3af-68198a4ed70f",
   "metadata": {
    "jp-MarkdownHeadingCollapsed": true,
    "tags": []
   },
   "source": [
    "## vowels"
   ]
  },
  {
   "cell_type": "markdown",
   "id": "fd112bde",
   "metadata": {},
   "source": [
    "**Dataset source**: http://odds.cs.stonybrook.edu/japanese-vowels-data/\n",
    "\n",
    "Shebuti Rayana (2016). ODDS Library [http://odds.cs.stonybrook.edu]. Stony Brook, NY: Stony Brook University, Department of Computer Science.\n",
    "\n",
    "**Additional sources:**\n",
    "\n",
    "C. C. Aggarwal and S. Sathe, “Theoretical foundations and algorithms for outlier ensembles.” ACM SIGKDD Explorations Newsletter, vol. 17, no. 1, pp. 24–47, 2015.\n",
    "\n",
    "Saket Sathe and Charu C. Aggarwal. LODES: Local Density meets Spectral Outlier Detection. SIAM Conference on Data Mining, 2016."
   ]
  },
  {
   "cell_type": "code",
   "execution_count": 97,
   "id": "bc358b13-ecf1-4e7b-9c7b-84c08eacc450",
   "metadata": {},
   "outputs": [],
   "source": [
    "data = pd.read_csv('./vowels.csv')"
   ]
  },
  {
   "cell_type": "code",
   "execution_count": 98,
   "id": "4c61a6b6-97f1-4bee-8df8-c505f0bfc266",
   "metadata": {},
   "outputs": [
    {
     "data": {
      "text/html": [
       "<div>\n",
       "<style scoped>\n",
       "    .dataframe tbody tr th:only-of-type {\n",
       "        vertical-align: middle;\n",
       "    }\n",
       "\n",
       "    .dataframe tbody tr th {\n",
       "        vertical-align: top;\n",
       "    }\n",
       "\n",
       "    .dataframe thead th {\n",
       "        text-align: right;\n",
       "    }\n",
       "</style>\n",
       "<table border=\"1\" class=\"dataframe\">\n",
       "  <thead>\n",
       "    <tr style=\"text-align: right;\">\n",
       "      <th></th>\n",
       "      <th>Col1</th>\n",
       "    </tr>\n",
       "    <tr>\n",
       "      <th>y</th>\n",
       "      <th></th>\n",
       "    </tr>\n",
       "  </thead>\n",
       "  <tbody>\n",
       "    <tr>\n",
       "      <th>0.0</th>\n",
       "      <td>1406</td>\n",
       "    </tr>\n",
       "    <tr>\n",
       "      <th>1.0</th>\n",
       "      <td>50</td>\n",
       "    </tr>\n",
       "  </tbody>\n",
       "</table>\n",
       "</div>"
      ],
      "text/plain": [
       "     Col1\n",
       "y        \n",
       "0.0  1406\n",
       "1.0    50"
      ]
     },
     "execution_count": 98,
     "metadata": {},
     "output_type": "execute_result"
    }
   ],
   "source": [
    "pd.pivot_table(data,\n",
    "             values = 'Col1',\n",
    "               index = 'y', \n",
    "              aggfunc = 'count')"
   ]
  },
  {
   "cell_type": "code",
   "execution_count": 99,
   "id": "26c84d3e-0b54-474e-a4c1-a297b66a81bb",
   "metadata": {},
   "outputs": [
    {
     "data": {
      "text/plain": [
       "(1456, 13)"
      ]
     },
     "execution_count": 99,
     "metadata": {},
     "output_type": "execute_result"
    }
   ],
   "source": [
    "data.shape"
   ]
  },
  {
   "cell_type": "code",
   "execution_count": 100,
   "id": "257280ea-de3b-4e4e-aad9-3565b8a2a7a3",
   "metadata": {},
   "outputs": [
    {
     "data": {
      "text/html": [
       "<div>\n",
       "<style scoped>\n",
       "    .dataframe tbody tr th:only-of-type {\n",
       "        vertical-align: middle;\n",
       "    }\n",
       "\n",
       "    .dataframe tbody tr th {\n",
       "        vertical-align: top;\n",
       "    }\n",
       "\n",
       "    .dataframe thead th {\n",
       "        text-align: right;\n",
       "    }\n",
       "</style>\n",
       "<table border=\"1\" class=\"dataframe\">\n",
       "  <thead>\n",
       "    <tr style=\"text-align: right;\">\n",
       "      <th></th>\n",
       "      <th>Col1</th>\n",
       "      <th>Col2</th>\n",
       "      <th>Col3</th>\n",
       "      <th>Col4</th>\n",
       "      <th>Col5</th>\n",
       "      <th>Col6</th>\n",
       "      <th>Col7</th>\n",
       "      <th>Col8</th>\n",
       "      <th>Col9</th>\n",
       "      <th>Col10</th>\n",
       "      <th>Col11</th>\n",
       "      <th>Col12</th>\n",
       "      <th>y</th>\n",
       "    </tr>\n",
       "  </thead>\n",
       "  <tbody>\n",
       "    <tr>\n",
       "      <th>0</th>\n",
       "      <td>0.580469</td>\n",
       "      <td>-0.902534</td>\n",
       "      <td>0.617899</td>\n",
       "      <td>-0.997942</td>\n",
       "      <td>-2.463799</td>\n",
       "      <td>-0.846455</td>\n",
       "      <td>2.349849</td>\n",
       "      <td>0.375400</td>\n",
       "      <td>-0.649334</td>\n",
       "      <td>1.604637</td>\n",
       "      <td>-0.623060</td>\n",
       "      <td>-0.383125</td>\n",
       "      <td>0.0</td>\n",
       "    </tr>\n",
       "    <tr>\n",
       "      <th>1</th>\n",
       "      <td>0.784375</td>\n",
       "      <td>-1.077366</td>\n",
       "      <td>0.615781</td>\n",
       "      <td>-0.921911</td>\n",
       "      <td>-2.388553</td>\n",
       "      <td>-0.638047</td>\n",
       "      <td>2.106684</td>\n",
       "      <td>0.361018</td>\n",
       "      <td>-0.714317</td>\n",
       "      <td>1.260236</td>\n",
       "      <td>-0.423339</td>\n",
       "      <td>-0.287791</td>\n",
       "      <td>0.0</td>\n",
       "    </tr>\n",
       "    <tr>\n",
       "      <th>2</th>\n",
       "      <td>0.791292</td>\n",
       "      <td>-1.086242</td>\n",
       "      <td>0.669773</td>\n",
       "      <td>-0.806112</td>\n",
       "      <td>-2.260781</td>\n",
       "      <td>-0.538491</td>\n",
       "      <td>2.053282</td>\n",
       "      <td>0.266492</td>\n",
       "      <td>-0.842815</td>\n",
       "      <td>1.081797</td>\n",
       "      <td>-0.267201</td>\n",
       "      <td>-0.172203</td>\n",
       "      <td>0.0</td>\n",
       "    </tr>\n",
       "    <tr>\n",
       "      <th>3</th>\n",
       "      <td>1.217306</td>\n",
       "      <td>-1.083425</td>\n",
       "      <td>0.855483</td>\n",
       "      <td>-0.724879</td>\n",
       "      <td>-2.155552</td>\n",
       "      <td>-0.101879</td>\n",
       "      <td>1.768597</td>\n",
       "      <td>0.303151</td>\n",
       "      <td>-1.044710</td>\n",
       "      <td>0.655290</td>\n",
       "      <td>0.214298</td>\n",
       "      <td>-0.341840</td>\n",
       "      <td>0.0</td>\n",
       "    </tr>\n",
       "    <tr>\n",
       "      <th>4</th>\n",
       "      <td>1.065352</td>\n",
       "      <td>-1.030178</td>\n",
       "      <td>0.773297</td>\n",
       "      <td>-0.452289</td>\n",
       "      <td>-1.955907</td>\n",
       "      <td>0.248205</td>\n",
       "      <td>1.530474</td>\n",
       "      <td>0.253740</td>\n",
       "      <td>-0.968961</td>\n",
       "      <td>-0.208287</td>\n",
       "      <td>0.331578</td>\n",
       "      <td>0.007288</td>\n",
       "      <td>0.0</td>\n",
       "    </tr>\n",
       "  </tbody>\n",
       "</table>\n",
       "</div>"
      ],
      "text/plain": [
       "       Col1      Col2      Col3      Col4      Col5      Col6      Col7  \\\n",
       "0  0.580469 -0.902534  0.617899 -0.997942 -2.463799 -0.846455  2.349849   \n",
       "1  0.784375 -1.077366  0.615781 -0.921911 -2.388553 -0.638047  2.106684   \n",
       "2  0.791292 -1.086242  0.669773 -0.806112 -2.260781 -0.538491  2.053282   \n",
       "3  1.217306 -1.083425  0.855483 -0.724879 -2.155552 -0.101879  1.768597   \n",
       "4  1.065352 -1.030178  0.773297 -0.452289 -1.955907  0.248205  1.530474   \n",
       "\n",
       "       Col8      Col9     Col10     Col11     Col12    y  \n",
       "0  0.375400 -0.649334  1.604637 -0.623060 -0.383125  0.0  \n",
       "1  0.361018 -0.714317  1.260236 -0.423339 -0.287791  0.0  \n",
       "2  0.266492 -0.842815  1.081797 -0.267201 -0.172203  0.0  \n",
       "3  0.303151 -1.044710  0.655290  0.214298 -0.341840  0.0  \n",
       "4  0.253740 -0.968961 -0.208287  0.331578  0.007288  0.0  "
      ]
     },
     "execution_count": 100,
     "metadata": {},
     "output_type": "execute_result"
    }
   ],
   "source": [
    "data.head()"
   ]
  },
  {
   "cell_type": "markdown",
   "id": "27807128-e38d-45d3-b2cd-d32e39571846",
   "metadata": {
    "jp-MarkdownHeadingCollapsed": true,
    "tags": []
   },
   "source": [
    "### LOF"
   ]
  },
  {
   "cell_type": "code",
   "execution_count": 101,
   "id": "08f083bd-27f5-48e0-aca2-83ca4b381449",
   "metadata": {},
   "outputs": [],
   "source": [
    "min_max_scaler = MinMaxScaler(feature_range=(0, 1))\n",
    "train_data = min_max_scaler.fit_transform(data.copy())\n",
    "train_data = pd.DataFrame(train_data)\n",
    "train_data.columns = data.columns"
   ]
  },
  {
   "cell_type": "code",
   "execution_count": 102,
   "id": "64acbc90-5e50-481b-a393-99ba7d1578ba",
   "metadata": {},
   "outputs": [
    {
     "name": "stdout",
     "output_type": "stream",
     "text": [
      "0.046875\n"
     ]
    }
   ],
   "source": [
    "start = time.process_time()\n",
    "\n",
    "lof = LocalOutlierFactor(n_neighbors=15, contamination=.1, novelty=False)\n",
    "y_pred = lof.fit_predict(train_data.loc[:, train_data.columns != 'y'])\n",
    "y_scores = lof.negative_outlier_factor_\n",
    "\n",
    "end = time.process_time()\n",
    "vowels_lof_train_test_time = end - start\n",
    "print(end - start)"
   ]
  },
  {
   "cell_type": "code",
   "execution_count": 103,
   "id": "fcf0dc4d-ca8b-478f-a8db-76d22d28e689",
   "metadata": {},
   "outputs": [],
   "source": [
    "train_data['y_pred'] = y_pred\n",
    "train_data['prediction'] = train_data.apply(def_outlier, axis = 1)\n",
    "train_data['y_scores'] = -y_scores"
   ]
  },
  {
   "cell_type": "code",
   "execution_count": 104,
   "id": "b34c1c51-9442-44ec-8f21-18e90d2bf23e",
   "metadata": {},
   "outputs": [
    {
     "data": {
      "text/plain": [
       "array([[1301,  105],\n",
       "       [   9,   41]], dtype=int64)"
      ]
     },
     "execution_count": 104,
     "metadata": {},
     "output_type": "execute_result"
    }
   ],
   "source": [
    "confusion_matrix(train_data['y'], train_data['prediction'])"
   ]
  },
  {
   "cell_type": "code",
   "execution_count": 105,
   "id": "7606a40c",
   "metadata": {},
   "outputs": [
    {
     "data": {
      "text/plain": [
       "0.9484779516358464"
      ]
     },
     "execution_count": 105,
     "metadata": {},
     "output_type": "execute_result"
    }
   ],
   "source": [
    "fpr, tpr, _ = metrics.roc_curve(train_data['y'], train_data['y_scores'])\n",
    "vowels_lof_auc = metrics.auc(fpr, tpr)\n",
    "metrics.auc(fpr, tpr)"
   ]
  },
  {
   "cell_type": "code",
   "execution_count": 106,
   "id": "4446d53b-222d-4059-8002-cef140f312fd",
   "metadata": {},
   "outputs": [
    {
     "name": "stdout",
     "output_type": "stream",
     "text": [
      "              precision    recall  f1-score   support\n",
      "\n",
      "           0       0.99      0.93      0.96      1406\n",
      "           1       0.28      0.82      0.42        50\n",
      "\n",
      "    accuracy                           0.92      1456\n",
      "   macro avg       0.64      0.87      0.69      1456\n",
      "weighted avg       0.97      0.92      0.94      1456\n",
      "\n"
     ]
    }
   ],
   "source": [
    "vowels_lof_report = classification_report(train_data['y'], train_data['prediction'], target_names = ['0','1'], output_dict = True)\n",
    "print(classification_report(train_data['y'], train_data['prediction'], target_names = ['0','1']))"
   ]
  },
  {
   "cell_type": "code",
   "execution_count": 107,
   "id": "18929c4d",
   "metadata": {},
   "outputs": [
    {
     "name": "stdout",
     "output_type": "stream",
     "text": [
      "0.2893360153648894\n"
     ]
    }
   ],
   "source": [
    "precision, recall, thresholds = precision_recall_curve(train_data['y'], train_data['y_scores'])\n",
    "vowels_lof_auc_precision_recall = metrics.auc(recall, precision)\n",
    "print(vowels_lof_auc_precision_recall)"
   ]
  },
  {
   "cell_type": "markdown",
   "id": "6e819820-662f-4b7a-95d1-c6eeb0e62876",
   "metadata": {
    "jp-MarkdownHeadingCollapsed": true,
    "tags": []
   },
   "source": [
    "## Seismic"
   ]
  },
  {
   "cell_type": "markdown",
   "id": "aeac7cfa",
   "metadata": {},
   "source": [
    "**Dataset source**: http://odds.cs.stonybrook.edu/seismic-dataset/ (data is transformed from .arff to .csv format)\n",
    "\n",
    "Shebuti Rayana (2016). ODDS Library [http://odds.cs.stonybrook.edu]. Stony Brook, NY: Stony Brook University, Department of Computer Science.\n",
    "\n",
    "**Additional sources:**\n",
    "\n",
    "Saket Sathe and Charu C. Aggarwal. LODES: Local Density meets Spectral Outlier Detection. SIAM Conference on Data Mining, 2016."
   ]
  },
  {
   "cell_type": "code",
   "execution_count": 108,
   "id": "9f7497cf-f25d-4d39-b778-abd020ebfa04",
   "metadata": {},
   "outputs": [],
   "source": [
    "data = pd.read_csv('./seismic.csv', sep = ',')"
   ]
  },
  {
   "cell_type": "code",
   "execution_count": 109,
   "id": "98583ea0-afb4-40a3-8bc3-1b96002de33a",
   "metadata": {},
   "outputs": [],
   "source": [
    "data = data.drop(columns = ['nbumps6','nbumps7','nbumps89'])"
   ]
  },
  {
   "cell_type": "code",
   "execution_count": 110,
   "id": "d87f1bdc-6c57-4601-8eeb-1bbbfa24a572",
   "metadata": {},
   "outputs": [
    {
     "data": {
      "text/plain": [
       "(2584, 16)"
      ]
     },
     "execution_count": 110,
     "metadata": {},
     "output_type": "execute_result"
    }
   ],
   "source": [
    "data.shape"
   ]
  },
  {
   "cell_type": "code",
   "execution_count": 111,
   "id": "efce2262",
   "metadata": {},
   "outputs": [],
   "source": [
    "drop_enc = OneHotEncoder(drop='first').fit_transform(data[['seismic','seismoacoustic','shift','ghazard']])"
   ]
  },
  {
   "cell_type": "code",
   "execution_count": 112,
   "id": "67579a8b",
   "metadata": {},
   "outputs": [],
   "source": [
    "cat_var = pd.DataFrame(drop_enc.toarray())\n",
    "cat_var.columns = ['seismic: b', 'seismoacoustic: b','seismoacoustic: c','shift: W','ghazard: b','ghazard: c']"
   ]
  },
  {
   "cell_type": "code",
   "execution_count": 113,
   "id": "b0932a73-7c0f-4a32-9573-d38a7034034e",
   "metadata": {},
   "outputs": [],
   "source": [
    "data = pd.concat([data, cat_var], axis = 1)"
   ]
  },
  {
   "cell_type": "code",
   "execution_count": 114,
   "id": "5bd4e951-5330-4c88-902f-1a2d184efb08",
   "metadata": {},
   "outputs": [],
   "source": [
    "data = data.drop(columns = ['seismic','seismoacoustic','shift','ghazard'])"
   ]
  },
  {
   "cell_type": "code",
   "execution_count": 115,
   "id": "45ef5b65",
   "metadata": {},
   "outputs": [
    {
     "data": {
      "text/html": [
       "<div>\n",
       "<style scoped>\n",
       "    .dataframe tbody tr th:only-of-type {\n",
       "        vertical-align: middle;\n",
       "    }\n",
       "\n",
       "    .dataframe tbody tr th {\n",
       "        vertical-align: top;\n",
       "    }\n",
       "\n",
       "    .dataframe thead th {\n",
       "        text-align: right;\n",
       "    }\n",
       "</style>\n",
       "<table border=\"1\" class=\"dataframe\">\n",
       "  <thead>\n",
       "    <tr style=\"text-align: right;\">\n",
       "      <th></th>\n",
       "      <th>genergy</th>\n",
       "      <th>gpuls</th>\n",
       "      <th>gdenergy</th>\n",
       "      <th>gdpuls</th>\n",
       "      <th>nbumps</th>\n",
       "      <th>nbumps2</th>\n",
       "      <th>nbumps3</th>\n",
       "      <th>nbumps4</th>\n",
       "      <th>nbumps5</th>\n",
       "      <th>energy</th>\n",
       "      <th>maxenergy</th>\n",
       "      <th>class</th>\n",
       "      <th>seismic: b</th>\n",
       "      <th>seismoacoustic: b</th>\n",
       "      <th>seismoacoustic: c</th>\n",
       "      <th>shift: W</th>\n",
       "      <th>ghazard: b</th>\n",
       "      <th>ghazard: c</th>\n",
       "    </tr>\n",
       "  </thead>\n",
       "  <tbody>\n",
       "    <tr>\n",
       "      <th>0</th>\n",
       "      <td>15180</td>\n",
       "      <td>48</td>\n",
       "      <td>-72</td>\n",
       "      <td>-72</td>\n",
       "      <td>0</td>\n",
       "      <td>0</td>\n",
       "      <td>0</td>\n",
       "      <td>0</td>\n",
       "      <td>0</td>\n",
       "      <td>0</td>\n",
       "      <td>0</td>\n",
       "      <td>0</td>\n",
       "      <td>0.0</td>\n",
       "      <td>0.0</td>\n",
       "      <td>0.0</td>\n",
       "      <td>0.0</td>\n",
       "      <td>0.0</td>\n",
       "      <td>0.0</td>\n",
       "    </tr>\n",
       "    <tr>\n",
       "      <th>1</th>\n",
       "      <td>14720</td>\n",
       "      <td>33</td>\n",
       "      <td>-70</td>\n",
       "      <td>-79</td>\n",
       "      <td>1</td>\n",
       "      <td>0</td>\n",
       "      <td>1</td>\n",
       "      <td>0</td>\n",
       "      <td>0</td>\n",
       "      <td>2000</td>\n",
       "      <td>2000</td>\n",
       "      <td>0</td>\n",
       "      <td>0.0</td>\n",
       "      <td>0.0</td>\n",
       "      <td>0.0</td>\n",
       "      <td>0.0</td>\n",
       "      <td>0.0</td>\n",
       "      <td>0.0</td>\n",
       "    </tr>\n",
       "    <tr>\n",
       "      <th>2</th>\n",
       "      <td>8050</td>\n",
       "      <td>30</td>\n",
       "      <td>-81</td>\n",
       "      <td>-78</td>\n",
       "      <td>0</td>\n",
       "      <td>0</td>\n",
       "      <td>0</td>\n",
       "      <td>0</td>\n",
       "      <td>0</td>\n",
       "      <td>0</td>\n",
       "      <td>0</td>\n",
       "      <td>0</td>\n",
       "      <td>0.0</td>\n",
       "      <td>0.0</td>\n",
       "      <td>0.0</td>\n",
       "      <td>0.0</td>\n",
       "      <td>0.0</td>\n",
       "      <td>0.0</td>\n",
       "    </tr>\n",
       "    <tr>\n",
       "      <th>3</th>\n",
       "      <td>28820</td>\n",
       "      <td>171</td>\n",
       "      <td>-23</td>\n",
       "      <td>40</td>\n",
       "      <td>1</td>\n",
       "      <td>0</td>\n",
       "      <td>1</td>\n",
       "      <td>0</td>\n",
       "      <td>0</td>\n",
       "      <td>3000</td>\n",
       "      <td>3000</td>\n",
       "      <td>0</td>\n",
       "      <td>0.0</td>\n",
       "      <td>0.0</td>\n",
       "      <td>0.0</td>\n",
       "      <td>0.0</td>\n",
       "      <td>0.0</td>\n",
       "      <td>0.0</td>\n",
       "    </tr>\n",
       "    <tr>\n",
       "      <th>4</th>\n",
       "      <td>12640</td>\n",
       "      <td>57</td>\n",
       "      <td>-63</td>\n",
       "      <td>-52</td>\n",
       "      <td>0</td>\n",
       "      <td>0</td>\n",
       "      <td>0</td>\n",
       "      <td>0</td>\n",
       "      <td>0</td>\n",
       "      <td>0</td>\n",
       "      <td>0</td>\n",
       "      <td>0</td>\n",
       "      <td>0.0</td>\n",
       "      <td>0.0</td>\n",
       "      <td>0.0</td>\n",
       "      <td>0.0</td>\n",
       "      <td>0.0</td>\n",
       "      <td>0.0</td>\n",
       "    </tr>\n",
       "  </tbody>\n",
       "</table>\n",
       "</div>"
      ],
      "text/plain": [
       "   genergy  gpuls  gdenergy  gdpuls  nbumps  nbumps2  nbumps3  nbumps4  \\\n",
       "0    15180     48       -72     -72       0        0        0        0   \n",
       "1    14720     33       -70     -79       1        0        1        0   \n",
       "2     8050     30       -81     -78       0        0        0        0   \n",
       "3    28820    171       -23      40       1        0        1        0   \n",
       "4    12640     57       -63     -52       0        0        0        0   \n",
       "\n",
       "   nbumps5  energy  maxenergy  class  seismic: b  seismoacoustic: b  \\\n",
       "0        0       0          0      0         0.0                0.0   \n",
       "1        0    2000       2000      0         0.0                0.0   \n",
       "2        0       0          0      0         0.0                0.0   \n",
       "3        0    3000       3000      0         0.0                0.0   \n",
       "4        0       0          0      0         0.0                0.0   \n",
       "\n",
       "   seismoacoustic: c  shift: W  ghazard: b  ghazard: c  \n",
       "0                0.0       0.0         0.0         0.0  \n",
       "1                0.0       0.0         0.0         0.0  \n",
       "2                0.0       0.0         0.0         0.0  \n",
       "3                0.0       0.0         0.0         0.0  \n",
       "4                0.0       0.0         0.0         0.0  "
      ]
     },
     "execution_count": 115,
     "metadata": {},
     "output_type": "execute_result"
    }
   ],
   "source": [
    "data.head()"
   ]
  },
  {
   "cell_type": "code",
   "execution_count": 116,
   "id": "18e0f2ec-0b7d-438f-855a-1ce74d7db590",
   "metadata": {},
   "outputs": [
    {
     "data": {
      "text/html": [
       "<div>\n",
       "<style scoped>\n",
       "    .dataframe tbody tr th:only-of-type {\n",
       "        vertical-align: middle;\n",
       "    }\n",
       "\n",
       "    .dataframe tbody tr th {\n",
       "        vertical-align: top;\n",
       "    }\n",
       "\n",
       "    .dataframe thead th {\n",
       "        text-align: right;\n",
       "    }\n",
       "</style>\n",
       "<table border=\"1\" class=\"dataframe\">\n",
       "  <thead>\n",
       "    <tr style=\"text-align: right;\">\n",
       "      <th></th>\n",
       "      <th>genergy</th>\n",
       "    </tr>\n",
       "    <tr>\n",
       "      <th>class</th>\n",
       "      <th></th>\n",
       "    </tr>\n",
       "  </thead>\n",
       "  <tbody>\n",
       "    <tr>\n",
       "      <th>0</th>\n",
       "      <td>2414</td>\n",
       "    </tr>\n",
       "    <tr>\n",
       "      <th>1</th>\n",
       "      <td>170</td>\n",
       "    </tr>\n",
       "  </tbody>\n",
       "</table>\n",
       "</div>"
      ],
      "text/plain": [
       "       genergy\n",
       "class         \n",
       "0         2414\n",
       "1          170"
      ]
     },
     "execution_count": 116,
     "metadata": {},
     "output_type": "execute_result"
    }
   ],
   "source": [
    "pd.pivot_table(data,\n",
    "             values = 'genergy',\n",
    "               index = 'class', \n",
    "              aggfunc = 'count')"
   ]
  },
  {
   "cell_type": "markdown",
   "id": "4dedeb1c-8fbe-4140-8d43-ee26b90b3250",
   "metadata": {
    "jp-MarkdownHeadingCollapsed": true,
    "tags": []
   },
   "source": [
    "### LOF"
   ]
  },
  {
   "cell_type": "code",
   "execution_count": 117,
   "id": "aa4e420c-e2c9-425f-9b86-28b09136e806",
   "metadata": {},
   "outputs": [],
   "source": [
    "min_max_scaler = MinMaxScaler(feature_range=(0, 1))\n",
    "train_data = min_max_scaler.fit_transform(data.copy())\n",
    "train_data = pd.DataFrame(train_data)\n",
    "train_data.columns = data.columns"
   ]
  },
  {
   "cell_type": "code",
   "execution_count": 118,
   "id": "196d2898-9e29-4e2c-8082-d7c2fe273ae6",
   "metadata": {},
   "outputs": [
    {
     "name": "stdout",
     "output_type": "stream",
     "text": [
      "0.265625\n"
     ]
    }
   ],
   "source": [
    "start = time.process_time()\n",
    "lof = LocalOutlierFactor(n_neighbors=26, contamination=.1)\n",
    "y_pred = lof.fit_predict(train_data.loc[:, train_data.columns != 'class'])\n",
    "y_scores = lof.negative_outlier_factor_\n",
    "end = time.process_time()\n",
    "seismic_lof_train_test_time = end - start\n",
    "print(end - start)"
   ]
  },
  {
   "cell_type": "code",
   "execution_count": 119,
   "id": "75afcdf2-37e9-4342-af67-c4fd4550f3b7",
   "metadata": {},
   "outputs": [],
   "source": [
    "train_data['y_pred'] = y_pred\n",
    "train_data['prediction'] = train_data.apply(def_outlier, axis = 1)\n",
    "train_data['y_scores'] = -y_scores"
   ]
  },
  {
   "cell_type": "code",
   "execution_count": 120,
   "id": "0247941d-71b5-4ed7-b394-1c66394468f8",
   "metadata": {},
   "outputs": [
    {
     "data": {
      "text/plain": [
       "array([[2175,  239],\n",
       "       [ 150,   20]], dtype=int64)"
      ]
     },
     "execution_count": 120,
     "metadata": {},
     "output_type": "execute_result"
    }
   ],
   "source": [
    "confusion_matrix(train_data['class'], train_data['prediction'])"
   ]
  },
  {
   "cell_type": "code",
   "execution_count": 121,
   "id": "64d119e1",
   "metadata": {},
   "outputs": [
    {
     "data": {
      "text/plain": [
       "0.5828134899361567"
      ]
     },
     "execution_count": 121,
     "metadata": {},
     "output_type": "execute_result"
    }
   ],
   "source": [
    "fpr, tpr, _ = metrics.roc_curve(train_data['class'], train_data['y_scores'])\n",
    "seismic_lof_auc = metrics.auc(fpr, tpr)\n",
    "metrics.auc(fpr, tpr)"
   ]
  },
  {
   "cell_type": "code",
   "execution_count": 122,
   "id": "efbc3960-16c6-470d-b281-3017b5c29498",
   "metadata": {},
   "outputs": [
    {
     "name": "stdout",
     "output_type": "stream",
     "text": [
      "              precision    recall  f1-score   support\n",
      "\n",
      "           0       0.94      0.90      0.92      2414\n",
      "           1       0.08      0.12      0.09       170\n",
      "\n",
      "    accuracy                           0.85      2584\n",
      "   macro avg       0.51      0.51      0.51      2584\n",
      "weighted avg       0.88      0.85      0.86      2584\n",
      "\n"
     ]
    }
   ],
   "source": [
    "seismic_lof_report = classification_report(train_data['class'], train_data['prediction'], target_names = ['0','1'], output_dict=True)\n",
    "print(classification_report(train_data['class'], train_data['prediction'], target_names = ['0','1']))"
   ]
  },
  {
   "cell_type": "code",
   "execution_count": 123,
   "id": "2b337bca",
   "metadata": {},
   "outputs": [
    {
     "name": "stdout",
     "output_type": "stream",
     "text": [
      "0.07978511311035733\n"
     ]
    }
   ],
   "source": [
    "precision, recall, thresholds = precision_recall_curve(train_data['class'], train_data['y_scores'])\n",
    "seismic_lof_auc_precision_recall = metrics.auc(recall, precision)\n",
    "print(seismic_lof_auc_precision_recall)"
   ]
  },
  {
   "cell_type": "markdown",
   "id": "2405a678-b7d5-4ce9-b156-3dd2331e33b7",
   "metadata": {
    "jp-MarkdownHeadingCollapsed": true,
    "tags": []
   },
   "source": [
    "## Musk"
   ]
  },
  {
   "cell_type": "markdown",
   "id": "fbfcd273",
   "metadata": {},
   "source": [
    "**Dataset source**: http://odds.cs.stonybrook.edu/musk-dataset/ (data is transformed from .mat to .csv format)\n",
    "\n",
    "Shebuti Rayana (2016). ODDS Library [http://odds.cs.stonybrook.edu]. Stony Brook, NY: Stony Brook University, Department of Computer Science.\n",
    "\n",
    "**Additional sources:**\n",
    "\n",
    "C. C. Aggarwal and S. Sathe, “Theoretical foundations and algorithms for outlier ensembles.” ACM SIGKDD Explorations Newsletter, vol. 17, no. 1, pp. 24–47, 2015."
   ]
  },
  {
   "cell_type": "code",
   "execution_count": 124,
   "id": "73a9a78a-1612-4d11-8630-d3cc0cf39955",
   "metadata": {},
   "outputs": [],
   "source": [
    "data = pd.read_csv('./musk.csv', sep = ',')"
   ]
  },
  {
   "cell_type": "code",
   "execution_count": 125,
   "id": "58a9917b",
   "metadata": {},
   "outputs": [
    {
     "data": {
      "text/html": [
       "<div>\n",
       "<style scoped>\n",
       "    .dataframe tbody tr th:only-of-type {\n",
       "        vertical-align: middle;\n",
       "    }\n",
       "\n",
       "    .dataframe tbody tr th {\n",
       "        vertical-align: top;\n",
       "    }\n",
       "\n",
       "    .dataframe thead th {\n",
       "        text-align: right;\n",
       "    }\n",
       "</style>\n",
       "<table border=\"1\" class=\"dataframe\">\n",
       "  <thead>\n",
       "    <tr style=\"text-align: right;\">\n",
       "      <th></th>\n",
       "      <th>Col1</th>\n",
       "      <th>Col2</th>\n",
       "      <th>Col3</th>\n",
       "      <th>Col4</th>\n",
       "      <th>Col5</th>\n",
       "      <th>Col6</th>\n",
       "      <th>Col7</th>\n",
       "      <th>Col8</th>\n",
       "      <th>Col9</th>\n",
       "      <th>Col10</th>\n",
       "      <th>...</th>\n",
       "      <th>Col158</th>\n",
       "      <th>Col159</th>\n",
       "      <th>Col160</th>\n",
       "      <th>Col161</th>\n",
       "      <th>Col162</th>\n",
       "      <th>Col163</th>\n",
       "      <th>Col164</th>\n",
       "      <th>Col165</th>\n",
       "      <th>Col166</th>\n",
       "      <th>y</th>\n",
       "    </tr>\n",
       "  </thead>\n",
       "  <tbody>\n",
       "    <tr>\n",
       "      <th>0</th>\n",
       "      <td>46.0</td>\n",
       "      <td>-108.0</td>\n",
       "      <td>-60.0</td>\n",
       "      <td>-69.0</td>\n",
       "      <td>-117.0</td>\n",
       "      <td>49.0</td>\n",
       "      <td>38.0</td>\n",
       "      <td>-161.0</td>\n",
       "      <td>-8.0</td>\n",
       "      <td>5.0</td>\n",
       "      <td>...</td>\n",
       "      <td>-308.0</td>\n",
       "      <td>52.0</td>\n",
       "      <td>-7.0</td>\n",
       "      <td>39.0</td>\n",
       "      <td>126.0</td>\n",
       "      <td>156.0</td>\n",
       "      <td>-50.0</td>\n",
       "      <td>-112.0</td>\n",
       "      <td>96.0</td>\n",
       "      <td>1.0</td>\n",
       "    </tr>\n",
       "    <tr>\n",
       "      <th>1</th>\n",
       "      <td>41.0</td>\n",
       "      <td>-188.0</td>\n",
       "      <td>-145.0</td>\n",
       "      <td>22.0</td>\n",
       "      <td>-117.0</td>\n",
       "      <td>-6.0</td>\n",
       "      <td>57.0</td>\n",
       "      <td>-171.0</td>\n",
       "      <td>-39.0</td>\n",
       "      <td>-100.0</td>\n",
       "      <td>...</td>\n",
       "      <td>-59.0</td>\n",
       "      <td>-2.0</td>\n",
       "      <td>52.0</td>\n",
       "      <td>103.0</td>\n",
       "      <td>136.0</td>\n",
       "      <td>169.0</td>\n",
       "      <td>-61.0</td>\n",
       "      <td>-136.0</td>\n",
       "      <td>79.0</td>\n",
       "      <td>1.0</td>\n",
       "    </tr>\n",
       "    <tr>\n",
       "      <th>2</th>\n",
       "      <td>46.0</td>\n",
       "      <td>-194.0</td>\n",
       "      <td>-145.0</td>\n",
       "      <td>28.0</td>\n",
       "      <td>-117.0</td>\n",
       "      <td>73.0</td>\n",
       "      <td>57.0</td>\n",
       "      <td>-168.0</td>\n",
       "      <td>-39.0</td>\n",
       "      <td>-22.0</td>\n",
       "      <td>...</td>\n",
       "      <td>-134.0</td>\n",
       "      <td>-154.0</td>\n",
       "      <td>57.0</td>\n",
       "      <td>143.0</td>\n",
       "      <td>142.0</td>\n",
       "      <td>165.0</td>\n",
       "      <td>-67.0</td>\n",
       "      <td>-145.0</td>\n",
       "      <td>39.0</td>\n",
       "      <td>1.0</td>\n",
       "    </tr>\n",
       "    <tr>\n",
       "      <th>3</th>\n",
       "      <td>41.0</td>\n",
       "      <td>-188.0</td>\n",
       "      <td>-145.0</td>\n",
       "      <td>22.0</td>\n",
       "      <td>-117.0</td>\n",
       "      <td>-7.0</td>\n",
       "      <td>57.0</td>\n",
       "      <td>-170.0</td>\n",
       "      <td>-39.0</td>\n",
       "      <td>-99.0</td>\n",
       "      <td>...</td>\n",
       "      <td>-60.0</td>\n",
       "      <td>-4.0</td>\n",
       "      <td>52.0</td>\n",
       "      <td>104.0</td>\n",
       "      <td>136.0</td>\n",
       "      <td>168.0</td>\n",
       "      <td>-60.0</td>\n",
       "      <td>-135.0</td>\n",
       "      <td>80.0</td>\n",
       "      <td>1.0</td>\n",
       "    </tr>\n",
       "    <tr>\n",
       "      <th>4</th>\n",
       "      <td>41.0</td>\n",
       "      <td>-188.0</td>\n",
       "      <td>-145.0</td>\n",
       "      <td>22.0</td>\n",
       "      <td>-117.0</td>\n",
       "      <td>-7.0</td>\n",
       "      <td>57.0</td>\n",
       "      <td>-170.0</td>\n",
       "      <td>-39.0</td>\n",
       "      <td>-99.0</td>\n",
       "      <td>...</td>\n",
       "      <td>-60.0</td>\n",
       "      <td>-4.0</td>\n",
       "      <td>52.0</td>\n",
       "      <td>104.0</td>\n",
       "      <td>137.0</td>\n",
       "      <td>168.0</td>\n",
       "      <td>-60.0</td>\n",
       "      <td>-135.0</td>\n",
       "      <td>80.0</td>\n",
       "      <td>1.0</td>\n",
       "    </tr>\n",
       "  </tbody>\n",
       "</table>\n",
       "<p>5 rows × 167 columns</p>\n",
       "</div>"
      ],
      "text/plain": [
       "   Col1   Col2   Col3  Col4   Col5  Col6  Col7   Col8  Col9  Col10  ...  \\\n",
       "0  46.0 -108.0  -60.0 -69.0 -117.0  49.0  38.0 -161.0  -8.0    5.0  ...   \n",
       "1  41.0 -188.0 -145.0  22.0 -117.0  -6.0  57.0 -171.0 -39.0 -100.0  ...   \n",
       "2  46.0 -194.0 -145.0  28.0 -117.0  73.0  57.0 -168.0 -39.0  -22.0  ...   \n",
       "3  41.0 -188.0 -145.0  22.0 -117.0  -7.0  57.0 -170.0 -39.0  -99.0  ...   \n",
       "4  41.0 -188.0 -145.0  22.0 -117.0  -7.0  57.0 -170.0 -39.0  -99.0  ...   \n",
       "\n",
       "   Col158  Col159  Col160  Col161  Col162  Col163  Col164  Col165  Col166    y  \n",
       "0  -308.0    52.0    -7.0    39.0   126.0   156.0   -50.0  -112.0    96.0  1.0  \n",
       "1   -59.0    -2.0    52.0   103.0   136.0   169.0   -61.0  -136.0    79.0  1.0  \n",
       "2  -134.0  -154.0    57.0   143.0   142.0   165.0   -67.0  -145.0    39.0  1.0  \n",
       "3   -60.0    -4.0    52.0   104.0   136.0   168.0   -60.0  -135.0    80.0  1.0  \n",
       "4   -60.0    -4.0    52.0   104.0   137.0   168.0   -60.0  -135.0    80.0  1.0  \n",
       "\n",
       "[5 rows x 167 columns]"
      ]
     },
     "execution_count": 125,
     "metadata": {},
     "output_type": "execute_result"
    }
   ],
   "source": [
    "data.head()"
   ]
  },
  {
   "cell_type": "code",
   "execution_count": 126,
   "id": "4d289c50-09ef-40a0-acd9-5103eaf401c1",
   "metadata": {},
   "outputs": [],
   "source": [
    "data['y'] = data['y'].astype(int)"
   ]
  },
  {
   "cell_type": "code",
   "execution_count": 127,
   "id": "87ef58f9-6a93-4346-8a63-4aeabf235578",
   "metadata": {},
   "outputs": [
    {
     "data": {
      "text/plain": [
       "(3062, 167)"
      ]
     },
     "execution_count": 127,
     "metadata": {},
     "output_type": "execute_result"
    }
   ],
   "source": [
    "data.shape"
   ]
  },
  {
   "cell_type": "code",
   "execution_count": 128,
   "id": "53716d75-2f1b-47c6-9f8a-6f79c81467bb",
   "metadata": {},
   "outputs": [
    {
     "data": {
      "text/html": [
       "<div>\n",
       "<style scoped>\n",
       "    .dataframe tbody tr th:only-of-type {\n",
       "        vertical-align: middle;\n",
       "    }\n",
       "\n",
       "    .dataframe tbody tr th {\n",
       "        vertical-align: top;\n",
       "    }\n",
       "\n",
       "    .dataframe thead th {\n",
       "        text-align: right;\n",
       "    }\n",
       "</style>\n",
       "<table border=\"1\" class=\"dataframe\">\n",
       "  <thead>\n",
       "    <tr style=\"text-align: right;\">\n",
       "      <th></th>\n",
       "      <th>Col1</th>\n",
       "    </tr>\n",
       "    <tr>\n",
       "      <th>y</th>\n",
       "      <th></th>\n",
       "    </tr>\n",
       "  </thead>\n",
       "  <tbody>\n",
       "    <tr>\n",
       "      <th>0</th>\n",
       "      <td>2965</td>\n",
       "    </tr>\n",
       "    <tr>\n",
       "      <th>1</th>\n",
       "      <td>97</td>\n",
       "    </tr>\n",
       "  </tbody>\n",
       "</table>\n",
       "</div>"
      ],
      "text/plain": [
       "   Col1\n",
       "y      \n",
       "0  2965\n",
       "1    97"
      ]
     },
     "execution_count": 128,
     "metadata": {},
     "output_type": "execute_result"
    }
   ],
   "source": [
    "pd.pivot_table(data,\n",
    "             values = 'Col1',\n",
    "               index = 'y', \n",
    "              aggfunc = 'count')"
   ]
  },
  {
   "cell_type": "markdown",
   "id": "4bd81d52-444c-4721-84e4-07d2c8c6263a",
   "metadata": {
    "jp-MarkdownHeadingCollapsed": true,
    "tags": []
   },
   "source": [
    "### LOF"
   ]
  },
  {
   "cell_type": "code",
   "execution_count": 129,
   "id": "fe071165-8c64-486a-a734-7d29e9d0724f",
   "metadata": {},
   "outputs": [],
   "source": [
    "min_max_scaler = MinMaxScaler(feature_range=(0, 1))\n",
    "train_data = min_max_scaler.fit_transform(data.copy())\n",
    "train_data = pd.DataFrame(train_data)\n",
    "train_data.columns = data.columns"
   ]
  },
  {
   "cell_type": "code",
   "execution_count": 130,
   "id": "71abd8f5-4e1c-4a5d-9489-66ada5901e6e",
   "metadata": {},
   "outputs": [
    {
     "name": "stdout",
     "output_type": "stream",
     "text": [
      "0.765625\n"
     ]
    }
   ],
   "source": [
    "start = time.process_time()\n",
    "lof = LocalOutlierFactor(n_neighbors=31, contamination=.1)\n",
    "y_pred = lof.fit_predict(train_data.loc[:, train_data.columns != 'y'])\n",
    "y_scores = lof.negative_outlier_factor_\n",
    "end = time.process_time()\n",
    "musk_lof_train_test_time = end - start\n",
    "print(end - start)"
   ]
  },
  {
   "cell_type": "code",
   "execution_count": 131,
   "id": "45b734e8-d594-48e5-abbc-8908cffdcd8a",
   "metadata": {},
   "outputs": [],
   "source": [
    "train_data['y_pred'] = y_pred\n",
    "train_data['prediction'] = train_data.apply(def_outlier, axis = 1)\n",
    "train_data['y_scores'] = -y_scores"
   ]
  },
  {
   "cell_type": "code",
   "execution_count": 132,
   "id": "0fe40d4e-ce2f-4578-a93a-044d68b30d74",
   "metadata": {},
   "outputs": [
    {
     "data": {
      "text/plain": [
       "array([[2661,  304],\n",
       "       [  94,    3]], dtype=int64)"
      ]
     },
     "execution_count": 132,
     "metadata": {},
     "output_type": "execute_result"
    }
   ],
   "source": [
    "confusion_matrix(train_data['y'], train_data['prediction'])"
   ]
  },
  {
   "cell_type": "code",
   "execution_count": 133,
   "id": "40af5565",
   "metadata": {},
   "outputs": [
    {
     "data": {
      "text/plain": [
       "0.3861163748891709"
      ]
     },
     "execution_count": 133,
     "metadata": {},
     "output_type": "execute_result"
    }
   ],
   "source": [
    "fpr, tpr, _ = metrics.roc_curve(train_data['y'], train_data['y_scores'])\n",
    "musk_lof_auc = metrics.auc(fpr, tpr)\n",
    "metrics.auc(fpr, tpr)"
   ]
  },
  {
   "cell_type": "code",
   "execution_count": 134,
   "id": "9c407da8-a7e1-4f37-9769-292a1e945212",
   "metadata": {},
   "outputs": [
    {
     "name": "stdout",
     "output_type": "stream",
     "text": [
      "              precision    recall  f1-score   support\n",
      "\n",
      "           0       0.97      0.90      0.93      2965\n",
      "           1       0.01      0.03      0.01        97\n",
      "\n",
      "    accuracy                           0.87      3062\n",
      "   macro avg       0.49      0.46      0.47      3062\n",
      "weighted avg       0.94      0.87      0.90      3062\n",
      "\n"
     ]
    }
   ],
   "source": [
    "musk_lof_report = classification_report(train_data['y'], train_data['prediction'], target_names = ['0','1'], output_dict=True)\n",
    "print(classification_report(train_data['y'], train_data['prediction'], target_names = ['0','1']))"
   ]
  },
  {
   "cell_type": "code",
   "execution_count": 135,
   "id": "8a2b86df",
   "metadata": {},
   "outputs": [
    {
     "name": "stdout",
     "output_type": "stream",
     "text": [
      "0.025728896376839075\n"
     ]
    }
   ],
   "source": [
    "precision, recall, thresholds = precision_recall_curve(train_data['y'], train_data['y_scores'])\n",
    "musk_lof_auc_precision_recall = metrics.auc(recall, precision)\n",
    "print(musk_lof_auc_precision_recall)"
   ]
  },
  {
   "cell_type": "markdown",
   "id": "c2dced57-748e-4374-b5f8-85488e5baf9d",
   "metadata": {
    "jp-MarkdownHeadingCollapsed": true,
    "tags": []
   },
   "source": [
    "## bank"
   ]
  },
  {
   "cell_type": "markdown",
   "id": "c37daf38",
   "metadata": {},
   "source": [
    "**Dataset source**: https://github.com/GuansongPang/ADRepository-Anomaly-detection-datasets/tree/main/categorical%20data\n",
    "\n",
    "Pang, G., Shen, C., Cao, L., & Hengel, A. V. D. (2021). Deep learning for anomaly detection: A review. ACM Computing Surveys (CSUR), 54(2), 1-38."
   ]
  },
  {
   "cell_type": "code",
   "execution_count": 136,
   "id": "45331943-15fa-4768-a7b0-de9de07366ca",
   "metadata": {},
   "outputs": [],
   "source": [
    "data = pd.read_csv('./bank.csv')"
   ]
  },
  {
   "cell_type": "code",
   "execution_count": 137,
   "id": "3d466cef-6b84-4710-bf4b-4f83fcfa54d7",
   "metadata": {
    "tags": []
   },
   "outputs": [
    {
     "data": {
      "text/html": [
       "<div>\n",
       "<style scoped>\n",
       "    .dataframe tbody tr th:only-of-type {\n",
       "        vertical-align: middle;\n",
       "    }\n",
       "\n",
       "    .dataframe tbody tr th {\n",
       "        vertical-align: top;\n",
       "    }\n",
       "\n",
       "    .dataframe thead th {\n",
       "        text-align: right;\n",
       "    }\n",
       "</style>\n",
       "<table border=\"1\" class=\"dataframe\">\n",
       "  <thead>\n",
       "    <tr style=\"text-align: right;\">\n",
       "      <th></th>\n",
       "      <th>age</th>\n",
       "      <th>job=housemaid</th>\n",
       "      <th>job=services</th>\n",
       "      <th>job=admin.</th>\n",
       "      <th>job=blue-collar</th>\n",
       "      <th>job=technician</th>\n",
       "      <th>job=retired</th>\n",
       "      <th>job=management</th>\n",
       "      <th>job=unemployed</th>\n",
       "      <th>job=self-employed</th>\n",
       "      <th>...</th>\n",
       "      <th>previous</th>\n",
       "      <th>poutcome=nonexistent</th>\n",
       "      <th>poutcome=failure</th>\n",
       "      <th>poutcome=success</th>\n",
       "      <th>emp.var.rate</th>\n",
       "      <th>cons.price.idx</th>\n",
       "      <th>cons.conf.idx</th>\n",
       "      <th>euribor3m</th>\n",
       "      <th>nr.employed</th>\n",
       "      <th>class</th>\n",
       "    </tr>\n",
       "  </thead>\n",
       "  <tbody>\n",
       "    <tr>\n",
       "      <th>0</th>\n",
       "      <td>0.209877</td>\n",
       "      <td>0</td>\n",
       "      <td>0</td>\n",
       "      <td>0</td>\n",
       "      <td>0</td>\n",
       "      <td>0</td>\n",
       "      <td>0</td>\n",
       "      <td>0</td>\n",
       "      <td>0</td>\n",
       "      <td>0</td>\n",
       "      <td>...</td>\n",
       "      <td>0.000000</td>\n",
       "      <td>1</td>\n",
       "      <td>0</td>\n",
       "      <td>0</td>\n",
       "      <td>1.000000</td>\n",
       "      <td>0.882307</td>\n",
       "      <td>0.376569</td>\n",
       "      <td>0.980730</td>\n",
       "      <td>1.000000</td>\n",
       "      <td>0</td>\n",
       "    </tr>\n",
       "    <tr>\n",
       "      <th>1</th>\n",
       "      <td>0.296296</td>\n",
       "      <td>0</td>\n",
       "      <td>0</td>\n",
       "      <td>1</td>\n",
       "      <td>0</td>\n",
       "      <td>0</td>\n",
       "      <td>0</td>\n",
       "      <td>0</td>\n",
       "      <td>0</td>\n",
       "      <td>0</td>\n",
       "      <td>...</td>\n",
       "      <td>0.000000</td>\n",
       "      <td>1</td>\n",
       "      <td>0</td>\n",
       "      <td>0</td>\n",
       "      <td>1.000000</td>\n",
       "      <td>0.484412</td>\n",
       "      <td>0.615063</td>\n",
       "      <td>0.981183</td>\n",
       "      <td>1.000000</td>\n",
       "      <td>0</td>\n",
       "    </tr>\n",
       "    <tr>\n",
       "      <th>2</th>\n",
       "      <td>0.246914</td>\n",
       "      <td>1</td>\n",
       "      <td>0</td>\n",
       "      <td>0</td>\n",
       "      <td>0</td>\n",
       "      <td>0</td>\n",
       "      <td>0</td>\n",
       "      <td>0</td>\n",
       "      <td>0</td>\n",
       "      <td>0</td>\n",
       "      <td>...</td>\n",
       "      <td>0.000000</td>\n",
       "      <td>1</td>\n",
       "      <td>0</td>\n",
       "      <td>0</td>\n",
       "      <td>0.937500</td>\n",
       "      <td>0.698753</td>\n",
       "      <td>0.602510</td>\n",
       "      <td>0.957379</td>\n",
       "      <td>0.859735</td>\n",
       "      <td>0</td>\n",
       "    </tr>\n",
       "    <tr>\n",
       "      <th>3</th>\n",
       "      <td>0.160494</td>\n",
       "      <td>0</td>\n",
       "      <td>1</td>\n",
       "      <td>0</td>\n",
       "      <td>0</td>\n",
       "      <td>0</td>\n",
       "      <td>0</td>\n",
       "      <td>0</td>\n",
       "      <td>0</td>\n",
       "      <td>0</td>\n",
       "      <td>...</td>\n",
       "      <td>0.142857</td>\n",
       "      <td>0</td>\n",
       "      <td>1</td>\n",
       "      <td>0</td>\n",
       "      <td>0.333333</td>\n",
       "      <td>0.269680</td>\n",
       "      <td>0.192469</td>\n",
       "      <td>0.150759</td>\n",
       "      <td>0.512287</td>\n",
       "      <td>0</td>\n",
       "    </tr>\n",
       "    <tr>\n",
       "      <th>4</th>\n",
       "      <td>0.530864</td>\n",
       "      <td>0</td>\n",
       "      <td>0</td>\n",
       "      <td>0</td>\n",
       "      <td>1</td>\n",
       "      <td>0</td>\n",
       "      <td>0</td>\n",
       "      <td>0</td>\n",
       "      <td>0</td>\n",
       "      <td>0</td>\n",
       "      <td>...</td>\n",
       "      <td>0.000000</td>\n",
       "      <td>1</td>\n",
       "      <td>0</td>\n",
       "      <td>0</td>\n",
       "      <td>0.333333</td>\n",
       "      <td>0.340608</td>\n",
       "      <td>0.154812</td>\n",
       "      <td>0.174790</td>\n",
       "      <td>0.512287</td>\n",
       "      <td>1</td>\n",
       "    </tr>\n",
       "  </tbody>\n",
       "</table>\n",
       "<p>5 rows × 63 columns</p>\n",
       "</div>"
      ],
      "text/plain": [
       "        age  job=housemaid  job=services  job=admin.  job=blue-collar  \\\n",
       "0  0.209877              0             0           0                0   \n",
       "1  0.296296              0             0           1                0   \n",
       "2  0.246914              1             0           0                0   \n",
       "3  0.160494              0             1           0                0   \n",
       "4  0.530864              0             0           0                1   \n",
       "\n",
       "   job=technician  job=retired  job=management  job=unemployed  \\\n",
       "0               0            0               0               0   \n",
       "1               0            0               0               0   \n",
       "2               0            0               0               0   \n",
       "3               0            0               0               0   \n",
       "4               0            0               0               0   \n",
       "\n",
       "   job=self-employed  ...  previous  poutcome=nonexistent  poutcome=failure  \\\n",
       "0                  0  ...  0.000000                     1                 0   \n",
       "1                  0  ...  0.000000                     1                 0   \n",
       "2                  0  ...  0.000000                     1                 0   \n",
       "3                  0  ...  0.142857                     0                 1   \n",
       "4                  0  ...  0.000000                     1                 0   \n",
       "\n",
       "   poutcome=success  emp.var.rate  cons.price.idx  cons.conf.idx  euribor3m  \\\n",
       "0                 0      1.000000        0.882307       0.376569   0.980730   \n",
       "1                 0      1.000000        0.484412       0.615063   0.981183   \n",
       "2                 0      0.937500        0.698753       0.602510   0.957379   \n",
       "3                 0      0.333333        0.269680       0.192469   0.150759   \n",
       "4                 0      0.333333        0.340608       0.154812   0.174790   \n",
       "\n",
       "   nr.employed  class  \n",
       "0     1.000000      0  \n",
       "1     1.000000      0  \n",
       "2     0.859735      0  \n",
       "3     0.512287      0  \n",
       "4     0.512287      1  \n",
       "\n",
       "[5 rows x 63 columns]"
      ]
     },
     "execution_count": 137,
     "metadata": {},
     "output_type": "execute_result"
    }
   ],
   "source": [
    "data.head()"
   ]
  },
  {
   "cell_type": "code",
   "execution_count": 138,
   "id": "199d3f42-c83b-405f-ad36-39998fd67eef",
   "metadata": {},
   "outputs": [
    {
     "data": {
      "text/html": [
       "<div>\n",
       "<style scoped>\n",
       "    .dataframe tbody tr th:only-of-type {\n",
       "        vertical-align: middle;\n",
       "    }\n",
       "\n",
       "    .dataframe tbody tr th {\n",
       "        vertical-align: top;\n",
       "    }\n",
       "\n",
       "    .dataframe thead th {\n",
       "        text-align: right;\n",
       "    }\n",
       "</style>\n",
       "<table border=\"1\" class=\"dataframe\">\n",
       "  <thead>\n",
       "    <tr style=\"text-align: right;\">\n",
       "      <th></th>\n",
       "      <th>age</th>\n",
       "    </tr>\n",
       "    <tr>\n",
       "      <th>class</th>\n",
       "      <th></th>\n",
       "    </tr>\n",
       "  </thead>\n",
       "  <tbody>\n",
       "    <tr>\n",
       "      <th>0</th>\n",
       "      <td>36548</td>\n",
       "    </tr>\n",
       "    <tr>\n",
       "      <th>1</th>\n",
       "      <td>4640</td>\n",
       "    </tr>\n",
       "  </tbody>\n",
       "</table>\n",
       "</div>"
      ],
      "text/plain": [
       "         age\n",
       "class       \n",
       "0      36548\n",
       "1       4640"
      ]
     },
     "execution_count": 138,
     "metadata": {},
     "output_type": "execute_result"
    }
   ],
   "source": [
    "pd.pivot_table(data,\n",
    "             values = 'age',\n",
    "               index = 'class', \n",
    "              aggfunc = 'count')"
   ]
  },
  {
   "cell_type": "markdown",
   "id": "c29a00ca-9007-4cb6-a8ec-96414fa64a66",
   "metadata": {
    "jp-MarkdownHeadingCollapsed": true,
    "tags": []
   },
   "source": [
    "### LOF"
   ]
  },
  {
   "cell_type": "code",
   "execution_count": 139,
   "id": "2c0bbf91-46c6-4e52-927c-593f87355a16",
   "metadata": {},
   "outputs": [],
   "source": [
    "min_max_scaler = MinMaxScaler(feature_range=(0, 1))\n",
    "train_data = min_max_scaler.fit_transform(data.copy())\n",
    "train_data = pd.DataFrame(train_data)\n",
    "train_data.columns = data.columns"
   ]
  },
  {
   "cell_type": "code",
   "execution_count": 140,
   "id": "e4191697-2ecd-4987-a294-150a83e4d7ee",
   "metadata": {},
   "outputs": [
    {
     "name": "stdout",
     "output_type": "stream",
     "text": [
      "52.828125\n"
     ]
    }
   ],
   "source": [
    "start = time.process_time()\n",
    "lof = LocalOutlierFactor(n_neighbors=412, contamination=.1)\n",
    "y_pred = lof.fit_predict(train_data.loc[:, train_data.columns != 'class'])\n",
    "y_scores = lof.negative_outlier_factor_\n",
    "end = time.process_time()\n",
    "bank_lof_train_test_time = end - start\n",
    "print(end - start)"
   ]
  },
  {
   "cell_type": "code",
   "execution_count": 141,
   "id": "4e9ec257-66d0-492f-8ffe-4f22811d3077",
   "metadata": {},
   "outputs": [],
   "source": [
    "train_data['y_pred'] = y_pred\n",
    "train_data['prediction'] = train_data.apply(def_outlier, axis = 1)\n",
    "train_data['y_scores'] = -y_scores"
   ]
  },
  {
   "cell_type": "code",
   "execution_count": 142,
   "id": "6235e0c4-28be-4c23-8a7b-53b7bbf3545a",
   "metadata": {},
   "outputs": [
    {
     "data": {
      "text/plain": [
       "array([[33373,  3175],\n",
       "       [ 3696,   944]], dtype=int64)"
      ]
     },
     "execution_count": 142,
     "metadata": {},
     "output_type": "execute_result"
    }
   ],
   "source": [
    "confusion_matrix(train_data['class'], train_data['prediction'])"
   ]
  },
  {
   "cell_type": "code",
   "execution_count": 143,
   "id": "ddb91bb6",
   "metadata": {},
   "outputs": [
    {
     "data": {
      "text/plain": [
       "0.6685906795220644"
      ]
     },
     "execution_count": 143,
     "metadata": {},
     "output_type": "execute_result"
    }
   ],
   "source": [
    "fpr, tpr, _ = metrics.roc_curve(train_data['class'], train_data['y_scores'])\n",
    "bank_lof_auc = metrics.auc(fpr, tpr)\n",
    "metrics.auc(fpr, tpr)"
   ]
  },
  {
   "cell_type": "code",
   "execution_count": 144,
   "id": "775596e4-b68d-4292-8a21-cfbf3ecc425b",
   "metadata": {},
   "outputs": [
    {
     "name": "stdout",
     "output_type": "stream",
     "text": [
      "              precision    recall  f1-score   support\n",
      "\n",
      "           0       0.90      0.91      0.91     36548\n",
      "           1       0.23      0.20      0.22      4640\n",
      "\n",
      "    accuracy                           0.83     41188\n",
      "   macro avg       0.56      0.56      0.56     41188\n",
      "weighted avg       0.82      0.83      0.83     41188\n",
      "\n"
     ]
    }
   ],
   "source": [
    "bank_lof_report = classification_report(train_data['class'], train_data['prediction'], target_names = ['0','1'], output_dict=True)\n",
    "print(classification_report(train_data['class'], train_data['prediction'], target_names = ['0','1']))"
   ]
  },
  {
   "cell_type": "code",
   "execution_count": 145,
   "id": "ea34906a",
   "metadata": {},
   "outputs": [
    {
     "name": "stdout",
     "output_type": "stream",
     "text": [
      "0.1904556554974769\n"
     ]
    }
   ],
   "source": [
    "precision, recall, thresholds = precision_recall_curve(train_data['class'], train_data['y_scores'])\n",
    "bank_lof_auc_precision_recall = metrics.auc(recall, precision)\n",
    "print(bank_lof_auc_precision_recall)"
   ]
  },
  {
   "cell_type": "markdown",
   "id": "f371bb17",
   "metadata": {},
   "source": [
    "## Performance"
   ]
  },
  {
   "cell_type": "code",
   "execution_count": 146,
   "id": "66bba3b7",
   "metadata": {},
   "outputs": [],
   "source": [
    "performance = pd.DataFrame(columns = ['F1 score', 'recall', 'precision', 'AUC', 'AUPRC', 'Total time'])"
   ]
  },
  {
   "cell_type": "code",
   "execution_count": 147,
   "id": "2bbce522",
   "metadata": {},
   "outputs": [],
   "source": [
    "f1_score_lof = {'arrhythmia':arrhythmia_lof_report['1']['f1-score'],\n",
    "                       'cardio':cardio_lof_report['1']['f1-score'], \n",
    "                        'forestcover':forestcover_lof_report['1']['f1-score'], \n",
    "                       'annthyroid':annthyroid_lof_report['1']['f1-score'],       \n",
    "                        'creditcard':creditcard_lof_report['1']['f1-score'], \n",
    "                       'mammography':mammography_lof_report['1']['f1-score'], \n",
    "                        'shuttle':shuttle_lof_report['1']['f1-score'], \n",
    "                      'mnist':mnist_lof_report['1']['f1-score'], \n",
    "                  'vowels':vowels_lof_report['1']['f1-score'], \n",
    "                  'seismic':seismic_lof_report['1']['f1-score'], \n",
    "                  'musk':musk_lof_report['1']['f1-score'], \n",
    "                  'bank':bank_lof_report['1']['f1-score'], }\n",
    "f1_score_lof_df = pd.DataFrame.from_dict(f1_score_lof, orient='index', columns = ['F1 score']).reset_index()"
   ]
  },
  {
   "cell_type": "code",
   "execution_count": 148,
   "id": "6c64d704",
   "metadata": {},
   "outputs": [],
   "source": [
    "recall_lof = {'arrhythmia':arrhythmia_lof_report['1']['recall'],\n",
    "                       'cardio':cardio_lof_report['1']['recall'], \n",
    "                        'forestcover':forestcover_lof_report['1']['recall'], \n",
    "                       'annthyroid':annthyroid_lof_report['1']['recall'],       \n",
    "                        'creditcard':creditcard_lof_report['1']['recall'], \n",
    "                       'mammography':mammography_lof_report['1']['recall'], \n",
    "                        'shuttle':shuttle_lof_report['1']['recall'], \n",
    "                      'mnist':mnist_lof_report['1']['recall'], \n",
    "                  'vowels':vowels_lof_report['1']['recall'], \n",
    "                  'seismic':seismic_lof_report['1']['recall'], \n",
    "                  'musk':musk_lof_report['1']['recall'], \n",
    "                  'bank':bank_lof_report['1']['recall'], }\n",
    "recall_lof_df = pd.DataFrame.from_dict(recall_lof, orient='index', columns = ['Recall']).reset_index()"
   ]
  },
  {
   "cell_type": "code",
   "execution_count": 149,
   "id": "e866bf15",
   "metadata": {},
   "outputs": [],
   "source": [
    "precision_lof = {'arrhythmia':arrhythmia_lof_report['1']['precision'],\n",
    "                       'cardio':cardio_lof_report['1']['precision'], \n",
    "                        'forestcover':forestcover_lof_report['1']['precision'], \n",
    "                       'annthyroid':annthyroid_lof_report['1']['precision'],       \n",
    "                        'creditcard':creditcard_lof_report['1']['precision'], \n",
    "                       'mammography':mammography_lof_report['1']['precision'], \n",
    "                        'shuttle':shuttle_lof_report['1']['precision'], \n",
    "                      'mnist':mnist_lof_report['1']['precision'], \n",
    "                  'vowels':vowels_lof_report['1']['precision'], \n",
    "                  'seismic':seismic_lof_report['1']['precision'], \n",
    "                  'musk':musk_lof_report['1']['precision'], \n",
    "                  'bank':bank_lof_report['1']['precision'], }\n",
    "precision_lof_df = pd.DataFrame.from_dict(precision_lof, orient='index', columns = ['Precision']).reset_index()"
   ]
  },
  {
   "cell_type": "code",
   "execution_count": 150,
   "id": "12940884",
   "metadata": {},
   "outputs": [],
   "source": [
    "auc_lof = {'arrhythmia':arrhythmia_lof_auc,\n",
    "                       'cardio':cardio_lof_auc, \n",
    "                        'forestcover':forestcover_lof_auc, \n",
    "                       'annthyroid':annthyroid_lof_auc,       \n",
    "                        'creditcard':creditcard_lof_auc, \n",
    "                       'mammography':mammography_lof_auc, \n",
    "                        'shuttle':shuttle_lof_auc, \n",
    "                      'mnist':mnist_lof_auc, \n",
    "                  'vowels':vowels_lof_auc, \n",
    "                  'seismic':seismic_lof_auc, \n",
    "                  'musk':musk_lof_auc, \n",
    "                  'bank':bank_lof_auc}\n",
    "auc_lof_df = pd.DataFrame.from_dict(auc_lof, orient='index', columns = ['AUC']).reset_index()"
   ]
  },
  {
   "cell_type": "code",
   "execution_count": 151,
   "id": "98c24373",
   "metadata": {},
   "outputs": [],
   "source": [
    "auprc_lof = {'arrhythmia':arrhythmia_lof_auc_precision_recall,\n",
    "                       'cardio':cardio_lof_auc_precision_recall, \n",
    "                        'forestcover':forestcover_lof_auc_precision_recall, \n",
    "                       'annthyroid':annthyroid_lof_auc_precision_recall,       \n",
    "                        'creditcard':creditcard_lof_auc_precision_recall, \n",
    "                       'mammography':mammography_lof_auc_precision_recall, \n",
    "                        'shuttle':shuttle_lof_auc_precision_recall, \n",
    "                      'mnist':mnist_lof_auc_precision_recall, \n",
    "                  'vowels':vowels_lof_auc_precision_recall, \n",
    "                  'seismic':seismic_lof_auc_precision_recall, \n",
    "                  'musk':musk_lof_auc_precision_recall, \n",
    "                  'bank':bank_lof_auc_precision_recall}\n",
    "auprc_lof_df = pd.DataFrame.from_dict(auprc_lof, orient='index', columns = ['AUPRC']).reset_index()"
   ]
  },
  {
   "cell_type": "code",
   "execution_count": 152,
   "id": "add99d50",
   "metadata": {},
   "outputs": [],
   "source": [
    "total_time_lof = {'arrhythmia':arrhythmia_lof_train_test_time,\n",
    "                       'cardio':cardio_lof_train_test_time, \n",
    "                        'forestcover':forestcover_lof_train_test_time, \n",
    "                       'annthyroid':annthyroid_lof_train_test_time,       \n",
    "                        'creditcard':creditcard_lof_train_test_time, \n",
    "                       'mammography':mammography_lof_train_test_time, \n",
    "                        'shuttle':shuttle_lof_train_test_time, \n",
    "                      'mnist':mnist_lof_train_test_time, \n",
    "                  'vowels':vowels_lof_train_test_time, \n",
    "                  'seismic':seismic_lof_train_test_time, \n",
    "                  'musk':musk_lof_train_test_time, \n",
    "                  'bank':bank_lof_train_test_time}\n",
    "total_time_lof_df = pd.DataFrame.from_dict(total_time_lof, orient='index', columns = ['Total time']).reset_index()"
   ]
  },
  {
   "cell_type": "code",
   "execution_count": 153,
   "id": "52dd2ed3",
   "metadata": {},
   "outputs": [
    {
     "data": {
      "text/html": [
       "<div>\n",
       "<style scoped>\n",
       "    .dataframe tbody tr th:only-of-type {\n",
       "        vertical-align: middle;\n",
       "    }\n",
       "\n",
       "    .dataframe tbody tr th {\n",
       "        vertical-align: top;\n",
       "    }\n",
       "\n",
       "    .dataframe thead th {\n",
       "        text-align: right;\n",
       "    }\n",
       "</style>\n",
       "<table border=\"1\" class=\"dataframe\">\n",
       "  <thead>\n",
       "    <tr style=\"text-align: right;\">\n",
       "      <th></th>\n",
       "      <th>index</th>\n",
       "      <th>F1 score</th>\n",
       "      <th>Recall</th>\n",
       "      <th>Precision</th>\n",
       "      <th>AUC</th>\n",
       "      <th>AUPRC</th>\n",
       "      <th>Total time</th>\n",
       "    </tr>\n",
       "  </thead>\n",
       "  <tbody>\n",
       "    <tr>\n",
       "      <th>0</th>\n",
       "      <td>arrhythmia</td>\n",
       "      <td>0.250000</td>\n",
       "      <td>0.212121</td>\n",
       "      <td>0.304348</td>\n",
       "      <td>0.720207</td>\n",
       "      <td>0.337794</td>\n",
       "      <td>0.859375</td>\n",
       "    </tr>\n",
       "    <tr>\n",
       "      <th>1</th>\n",
       "      <td>cardio</td>\n",
       "      <td>0.228412</td>\n",
       "      <td>0.232955</td>\n",
       "      <td>0.224044</td>\n",
       "      <td>0.629844</td>\n",
       "      <td>0.186296</td>\n",
       "      <td>0.171875</td>\n",
       "    </tr>\n",
       "    <tr>\n",
       "      <th>2</th>\n",
       "      <td>forestcover</td>\n",
       "      <td>0.167581</td>\n",
       "      <td>0.956316</td>\n",
       "      <td>0.091837</td>\n",
       "      <td>0.978015</td>\n",
       "      <td>0.248222</td>\n",
       "      <td>827.750000</td>\n",
       "    </tr>\n",
       "    <tr>\n",
       "      <th>3</th>\n",
       "      <td>annthyroid</td>\n",
       "      <td>0.296651</td>\n",
       "      <td>0.348315</td>\n",
       "      <td>0.258333</td>\n",
       "      <td>0.716142</td>\n",
       "      <td>0.201584</td>\n",
       "      <td>0.671875</td>\n",
       "    </tr>\n",
       "    <tr>\n",
       "      <th>4</th>\n",
       "      <td>creditcard</td>\n",
       "      <td>0.030787</td>\n",
       "      <td>0.906504</td>\n",
       "      <td>0.015660</td>\n",
       "      <td>0.959979</td>\n",
       "      <td>0.452638</td>\n",
       "      <td>3076.515625</td>\n",
       "    </tr>\n",
       "    <tr>\n",
       "      <th>5</th>\n",
       "      <td>mammography</td>\n",
       "      <td>0.198695</td>\n",
       "      <td>0.526923</td>\n",
       "      <td>0.122431</td>\n",
       "      <td>0.858772</td>\n",
       "      <td>0.126272</td>\n",
       "      <td>1.156250</td>\n",
       "    </tr>\n",
       "    <tr>\n",
       "      <th>6</th>\n",
       "      <td>shuttle</td>\n",
       "      <td>0.158413</td>\n",
       "      <td>0.189974</td>\n",
       "      <td>0.135845</td>\n",
       "      <td>0.509967</td>\n",
       "      <td>0.137311</td>\n",
       "      <td>13.562500</td>\n",
       "    </tr>\n",
       "    <tr>\n",
       "      <th>7</th>\n",
       "      <td>mnist</td>\n",
       "      <td>0.357290</td>\n",
       "      <td>0.372857</td>\n",
       "      <td>0.342970</td>\n",
       "      <td>0.781858</td>\n",
       "      <td>0.313260</td>\n",
       "      <td>3.328125</td>\n",
       "    </tr>\n",
       "    <tr>\n",
       "      <th>8</th>\n",
       "      <td>vowels</td>\n",
       "      <td>0.418367</td>\n",
       "      <td>0.820000</td>\n",
       "      <td>0.280822</td>\n",
       "      <td>0.948478</td>\n",
       "      <td>0.289336</td>\n",
       "      <td>0.046875</td>\n",
       "    </tr>\n",
       "    <tr>\n",
       "      <th>9</th>\n",
       "      <td>seismic</td>\n",
       "      <td>0.093240</td>\n",
       "      <td>0.117647</td>\n",
       "      <td>0.077220</td>\n",
       "      <td>0.582813</td>\n",
       "      <td>0.079785</td>\n",
       "      <td>0.265625</td>\n",
       "    </tr>\n",
       "    <tr>\n",
       "      <th>10</th>\n",
       "      <td>musk</td>\n",
       "      <td>0.014851</td>\n",
       "      <td>0.030928</td>\n",
       "      <td>0.009772</td>\n",
       "      <td>0.386116</td>\n",
       "      <td>0.025729</td>\n",
       "      <td>0.765625</td>\n",
       "    </tr>\n",
       "    <tr>\n",
       "      <th>11</th>\n",
       "      <td>bank</td>\n",
       "      <td>0.215550</td>\n",
       "      <td>0.203448</td>\n",
       "      <td>0.229182</td>\n",
       "      <td>0.668591</td>\n",
       "      <td>0.190456</td>\n",
       "      <td>52.828125</td>\n",
       "    </tr>\n",
       "  </tbody>\n",
       "</table>\n",
       "</div>"
      ],
      "text/plain": [
       "          index  F1 score    Recall  Precision       AUC     AUPRC  \\\n",
       "0    arrhythmia  0.250000  0.212121   0.304348  0.720207  0.337794   \n",
       "1        cardio  0.228412  0.232955   0.224044  0.629844  0.186296   \n",
       "2   forestcover  0.167581  0.956316   0.091837  0.978015  0.248222   \n",
       "3    annthyroid  0.296651  0.348315   0.258333  0.716142  0.201584   \n",
       "4    creditcard  0.030787  0.906504   0.015660  0.959979  0.452638   \n",
       "5   mammography  0.198695  0.526923   0.122431  0.858772  0.126272   \n",
       "6       shuttle  0.158413  0.189974   0.135845  0.509967  0.137311   \n",
       "7         mnist  0.357290  0.372857   0.342970  0.781858  0.313260   \n",
       "8        vowels  0.418367  0.820000   0.280822  0.948478  0.289336   \n",
       "9       seismic  0.093240  0.117647   0.077220  0.582813  0.079785   \n",
       "10         musk  0.014851  0.030928   0.009772  0.386116  0.025729   \n",
       "11         bank  0.215550  0.203448   0.229182  0.668591  0.190456   \n",
       "\n",
       "     Total time  \n",
       "0      0.859375  \n",
       "1      0.171875  \n",
       "2    827.750000  \n",
       "3      0.671875  \n",
       "4   3076.515625  \n",
       "5      1.156250  \n",
       "6     13.562500  \n",
       "7      3.328125  \n",
       "8      0.046875  \n",
       "9      0.265625  \n",
       "10     0.765625  \n",
       "11    52.828125  "
      ]
     },
     "execution_count": 153,
     "metadata": {},
     "output_type": "execute_result"
    }
   ],
   "source": [
    "pd.merge(pd.merge(pd.merge(pd.merge(pd.merge(f1_score_lof_df, recall_lof_df, how = 'inner'), precision_lof_df, how ='inner'),\n",
    "         auc_lof_df, how = 'inner'), auprc_lof_df, how = 'inner'), total_time_lof_df, how = 'inner')"
   ]
  },
  {
   "cell_type": "code",
   "execution_count": null,
   "id": "e466910d",
   "metadata": {},
   "outputs": [],
   "source": []
  },
  {
   "cell_type": "code",
   "execution_count": null,
   "id": "cfbd9401",
   "metadata": {},
   "outputs": [],
   "source": []
  }
 ],
 "metadata": {
  "environment": {
   "name": "common-cpu.m80",
   "type": "gcloud",
   "uri": "gcr.io/deeplearning-platform-release/base-cpu:m80"
  },
  "kernelspec": {
   "display_name": "Python 3.10.2 ('env': venv)",
   "language": "python",
   "name": "python3"
  },
  "language_info": {
   "codemirror_mode": {
    "name": "ipython",
    "version": 3
   },
   "file_extension": ".py",
   "mimetype": "text/x-python",
   "name": "python",
   "nbconvert_exporter": "python",
   "pygments_lexer": "ipython3",
   "version": "3.10.2"
  },
  "vscode": {
   "interpreter": {
    "hash": "c7bb90c4ec68b2a8968b0075ab0b1cb7a78770acf7a7acf2e36e903fa05bac64"
   }
  }
 },
 "nbformat": 4,
 "nbformat_minor": 5
}
