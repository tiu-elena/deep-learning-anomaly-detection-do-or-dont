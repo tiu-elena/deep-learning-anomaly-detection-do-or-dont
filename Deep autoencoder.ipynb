{
 "cells": [
  {
   "cell_type": "markdown",
   "id": "123c1709-aadd-4c93-a80a-0a0c44290983",
   "metadata": {},
   "source": [
    "# Deep autoencoder"
   ]
  },
  {
   "cell_type": "code",
   "execution_count": 3,
   "id": "2520ef24",
   "metadata": {},
   "outputs": [],
   "source": [
    "import warnings\n",
    "warnings.filterwarnings('ignore')"
   ]
  },
  {
   "cell_type": "markdown",
   "id": "11e4854b-87bd-490e-88e4-9a64631dc5bb",
   "metadata": {
    "tags": []
   },
   "source": [
    "## Libraries import"
   ]
  },
  {
   "cell_type": "code",
   "execution_count": 4,
   "id": "feba20a1-5d20-4127-888b-b0e4c72f4757",
   "metadata": {},
   "outputs": [],
   "source": [
    "import pandas as pd\n",
    "import numpy as np\n",
    "from sklearn.metrics import confusion_matrix, classification_report, precision_recall_curve\n",
    "from sklearn import metrics\n",
    "\n",
    "\n",
    "from sklearn.preprocessing import  MinMaxScaler, OneHotEncoder\n",
    "from tensorflow.keras.layers import Dense, Dropout\n",
    "from keras.models import Model, Sequential\n",
    "from keras.layers import Dense\n",
    "import tensorflow as tf\n",
    "\n",
    "import time\n"
   ]
  },
  {
   "cell_type": "markdown",
   "id": "b7db27ee-405e-4faa-a7e9-6b8cdf41d437",
   "metadata": {
    "jp-MarkdownHeadingCollapsed": true,
    "tags": []
   },
   "source": [
    "## Arrhythmia"
   ]
  },
  {
   "cell_type": "markdown",
   "id": "f181041d",
   "metadata": {},
   "source": [
    "**Dataset source**: http://odds.cs.stonybrook.edu/arrhythmia-dataset/ (data is transformed from .mat to .csv format)\n",
    "\n",
    "Shebuti Rayana (2016). ODDS Library [http://odds.cs.stonybrook.edu]. Stony Brook, NY: Stony Brook University, Department of Computer Science.\n",
    "\n",
    "**Additional sources**:\n",
    "\n",
    "Liu, Fei Tony, Kai Ming Ting, and Zhi-Hua Zhou. “Isolation forest.” 2008 Eighth IEEE International Conference on Data Mining. IEEE, 2008.\n",
    "\n",
    "K. M. Ting, J. T. S. Chuan, and F. T. Liu. “Mass: A New Ranking Measure for Anomaly Detection.“, IEEE Transactions on Knowledge and Data Engineering, 2009.\n",
    "\n",
    "F. Keller, E. Muller, K. Bohm.“HiCS: High-contrast subspaces for density-based outlier ranking.” ICDE, 2012."
   ]
  },
  {
   "cell_type": "code",
   "execution_count": 5,
   "id": "a433c409-f51f-402b-8581-759c81670d7b",
   "metadata": {
    "scrolled": true
   },
   "outputs": [],
   "source": [
    "data = pd.read_csv('./arrhythmia.csv', sep = ',')"
   ]
  },
  {
   "cell_type": "code",
   "execution_count": 6,
   "id": "9f34ed3a-f570-4f95-b4f0-d1dfed0f46e3",
   "metadata": {},
   "outputs": [],
   "source": [
    "# dropping columns that consist only of 0's\n",
    "data = data.drop(columns = ['Col15', 'Col63', 'Col65', 'Col79', 'Col127', 'Col128','Col135', 'Col137', 'Col139','Col141',\n",
    "'Col147', 'Col152', 'Col153','Col160','Col200', 'Col260', 'Col270'])"
   ]
  },
  {
   "cell_type": "code",
   "execution_count": 7,
   "id": "a2922c1c-284f-420b-954d-ecf924697f54",
   "metadata": {},
   "outputs": [
    {
     "data": {
      "text/html": [
       "<div>\n",
       "<style scoped>\n",
       "    .dataframe tbody tr th:only-of-type {\n",
       "        vertical-align: middle;\n",
       "    }\n",
       "\n",
       "    .dataframe tbody tr th {\n",
       "        vertical-align: top;\n",
       "    }\n",
       "\n",
       "    .dataframe thead th {\n",
       "        text-align: right;\n",
       "    }\n",
       "</style>\n",
       "<table border=\"1\" class=\"dataframe\">\n",
       "  <thead>\n",
       "    <tr style=\"text-align: right;\">\n",
       "      <th></th>\n",
       "      <th>Col1</th>\n",
       "      <th>Col2</th>\n",
       "      <th>Col3</th>\n",
       "      <th>Col4</th>\n",
       "      <th>Col5</th>\n",
       "      <th>Col6</th>\n",
       "      <th>Col7</th>\n",
       "      <th>Col8</th>\n",
       "      <th>Col9</th>\n",
       "      <th>Col10</th>\n",
       "      <th>...</th>\n",
       "      <th>Col265</th>\n",
       "      <th>Col266</th>\n",
       "      <th>Col267</th>\n",
       "      <th>Col268</th>\n",
       "      <th>Col269</th>\n",
       "      <th>Col271</th>\n",
       "      <th>Col272</th>\n",
       "      <th>Col273</th>\n",
       "      <th>Col274</th>\n",
       "      <th>y</th>\n",
       "    </tr>\n",
       "  </thead>\n",
       "  <tbody>\n",
       "    <tr>\n",
       "      <th>0</th>\n",
       "      <td>75.0</td>\n",
       "      <td>0.0</td>\n",
       "      <td>190.0</td>\n",
       "      <td>80.0</td>\n",
       "      <td>91.0</td>\n",
       "      <td>193.0</td>\n",
       "      <td>371.0</td>\n",
       "      <td>174.0</td>\n",
       "      <td>121.0</td>\n",
       "      <td>-16.0</td>\n",
       "      <td>...</td>\n",
       "      <td>-0.3</td>\n",
       "      <td>0.0</td>\n",
       "      <td>9.0</td>\n",
       "      <td>-0.9</td>\n",
       "      <td>0.0</td>\n",
       "      <td>0.9</td>\n",
       "      <td>2.9</td>\n",
       "      <td>23.3</td>\n",
       "      <td>49.4</td>\n",
       "      <td>1</td>\n",
       "    </tr>\n",
       "    <tr>\n",
       "      <th>1</th>\n",
       "      <td>56.0</td>\n",
       "      <td>1.0</td>\n",
       "      <td>165.0</td>\n",
       "      <td>64.0</td>\n",
       "      <td>81.0</td>\n",
       "      <td>174.0</td>\n",
       "      <td>401.0</td>\n",
       "      <td>149.0</td>\n",
       "      <td>39.0</td>\n",
       "      <td>25.0</td>\n",
       "      <td>...</td>\n",
       "      <td>-0.5</td>\n",
       "      <td>0.0</td>\n",
       "      <td>8.5</td>\n",
       "      <td>0.0</td>\n",
       "      <td>0.0</td>\n",
       "      <td>0.2</td>\n",
       "      <td>2.1</td>\n",
       "      <td>20.4</td>\n",
       "      <td>38.8</td>\n",
       "      <td>0</td>\n",
       "    </tr>\n",
       "    <tr>\n",
       "      <th>2</th>\n",
       "      <td>54.0</td>\n",
       "      <td>0.0</td>\n",
       "      <td>172.0</td>\n",
       "      <td>95.0</td>\n",
       "      <td>138.0</td>\n",
       "      <td>163.0</td>\n",
       "      <td>386.0</td>\n",
       "      <td>185.0</td>\n",
       "      <td>102.0</td>\n",
       "      <td>96.0</td>\n",
       "      <td>...</td>\n",
       "      <td>0.9</td>\n",
       "      <td>0.0</td>\n",
       "      <td>9.5</td>\n",
       "      <td>-2.4</td>\n",
       "      <td>0.0</td>\n",
       "      <td>0.3</td>\n",
       "      <td>3.4</td>\n",
       "      <td>12.3</td>\n",
       "      <td>49.0</td>\n",
       "      <td>0</td>\n",
       "    </tr>\n",
       "    <tr>\n",
       "      <th>3</th>\n",
       "      <td>55.0</td>\n",
       "      <td>0.0</td>\n",
       "      <td>175.0</td>\n",
       "      <td>94.0</td>\n",
       "      <td>100.0</td>\n",
       "      <td>202.0</td>\n",
       "      <td>380.0</td>\n",
       "      <td>179.0</td>\n",
       "      <td>143.0</td>\n",
       "      <td>28.0</td>\n",
       "      <td>...</td>\n",
       "      <td>0.1</td>\n",
       "      <td>0.0</td>\n",
       "      <td>12.2</td>\n",
       "      <td>-2.2</td>\n",
       "      <td>0.0</td>\n",
       "      <td>0.4</td>\n",
       "      <td>2.6</td>\n",
       "      <td>34.6</td>\n",
       "      <td>61.6</td>\n",
       "      <td>0</td>\n",
       "    </tr>\n",
       "    <tr>\n",
       "      <th>4</th>\n",
       "      <td>75.0</td>\n",
       "      <td>0.0</td>\n",
       "      <td>190.0</td>\n",
       "      <td>80.0</td>\n",
       "      <td>88.0</td>\n",
       "      <td>181.0</td>\n",
       "      <td>360.0</td>\n",
       "      <td>177.0</td>\n",
       "      <td>103.0</td>\n",
       "      <td>-16.0</td>\n",
       "      <td>...</td>\n",
       "      <td>-0.4</td>\n",
       "      <td>0.0</td>\n",
       "      <td>13.1</td>\n",
       "      <td>-3.6</td>\n",
       "      <td>0.0</td>\n",
       "      <td>-0.1</td>\n",
       "      <td>3.9</td>\n",
       "      <td>25.4</td>\n",
       "      <td>62.8</td>\n",
       "      <td>1</td>\n",
       "    </tr>\n",
       "  </tbody>\n",
       "</table>\n",
       "<p>5 rows × 258 columns</p>\n",
       "</div>"
      ],
      "text/plain": [
       "   Col1  Col2   Col3  Col4   Col5   Col6   Col7   Col8   Col9  Col10  ...  \\\n",
       "0  75.0   0.0  190.0  80.0   91.0  193.0  371.0  174.0  121.0  -16.0  ...   \n",
       "1  56.0   1.0  165.0  64.0   81.0  174.0  401.0  149.0   39.0   25.0  ...   \n",
       "2  54.0   0.0  172.0  95.0  138.0  163.0  386.0  185.0  102.0   96.0  ...   \n",
       "3  55.0   0.0  175.0  94.0  100.0  202.0  380.0  179.0  143.0   28.0  ...   \n",
       "4  75.0   0.0  190.0  80.0   88.0  181.0  360.0  177.0  103.0  -16.0  ...   \n",
       "\n",
       "   Col265  Col266  Col267  Col268  Col269  Col271  Col272  Col273  Col274  y  \n",
       "0    -0.3     0.0     9.0    -0.9     0.0     0.9     2.9    23.3    49.4  1  \n",
       "1    -0.5     0.0     8.5     0.0     0.0     0.2     2.1    20.4    38.8  0  \n",
       "2     0.9     0.0     9.5    -2.4     0.0     0.3     3.4    12.3    49.0  0  \n",
       "3     0.1     0.0    12.2    -2.2     0.0     0.4     2.6    34.6    61.6  0  \n",
       "4    -0.4     0.0    13.1    -3.6     0.0    -0.1     3.9    25.4    62.8  1  \n",
       "\n",
       "[5 rows x 258 columns]"
      ]
     },
     "execution_count": 7,
     "metadata": {},
     "output_type": "execute_result"
    }
   ],
   "source": [
    "data.head()"
   ]
  },
  {
   "cell_type": "code",
   "execution_count": 8,
   "id": "7a470d6c-c28d-4798-aec0-2361530d8bf8",
   "metadata": {},
   "outputs": [
    {
     "data": {
      "text/plain": [
       "(452, 258)"
      ]
     },
     "execution_count": 8,
     "metadata": {},
     "output_type": "execute_result"
    }
   ],
   "source": [
    "data.shape"
   ]
  },
  {
   "cell_type": "code",
   "execution_count": 9,
   "id": "937686a7-6d97-4ed0-890a-4575bd4403f9",
   "metadata": {},
   "outputs": [
    {
     "data": {
      "text/html": [
       "<div>\n",
       "<style scoped>\n",
       "    .dataframe tbody tr th:only-of-type {\n",
       "        vertical-align: middle;\n",
       "    }\n",
       "\n",
       "    .dataframe tbody tr th {\n",
       "        vertical-align: top;\n",
       "    }\n",
       "\n",
       "    .dataframe thead th {\n",
       "        text-align: right;\n",
       "    }\n",
       "</style>\n",
       "<table border=\"1\" class=\"dataframe\">\n",
       "  <thead>\n",
       "    <tr style=\"text-align: right;\">\n",
       "      <th></th>\n",
       "      <th>Col1</th>\n",
       "    </tr>\n",
       "    <tr>\n",
       "      <th>y</th>\n",
       "      <th></th>\n",
       "    </tr>\n",
       "  </thead>\n",
       "  <tbody>\n",
       "    <tr>\n",
       "      <th>0</th>\n",
       "      <td>386</td>\n",
       "    </tr>\n",
       "    <tr>\n",
       "      <th>1</th>\n",
       "      <td>66</td>\n",
       "    </tr>\n",
       "  </tbody>\n",
       "</table>\n",
       "</div>"
      ],
      "text/plain": [
       "   Col1\n",
       "y      \n",
       "0   386\n",
       "1    66"
      ]
     },
     "execution_count": 9,
     "metadata": {},
     "output_type": "execute_result"
    }
   ],
   "source": [
    "pd.pivot_table(data,\n",
    "             values = 'Col1',\n",
    "               index = 'y', \n",
    "              aggfunc = 'count')"
   ]
  },
  {
   "cell_type": "markdown",
   "id": "00b35221-db7c-4ade-b211-b71f8f94a68c",
   "metadata": {
    "jp-MarkdownHeadingCollapsed": true,
    "tags": []
   },
   "source": [
    "### Deep Autoencoder"
   ]
  },
  {
   "cell_type": "code",
   "execution_count": 10,
   "id": "5ae6b2f9-68f0-447b-b601-4315b8e2ac0e",
   "metadata": {},
   "outputs": [],
   "source": [
    "features = data.drop(columns = ['y'])\n",
    "target = data['y']"
   ]
  },
  {
   "cell_type": "code",
   "execution_count": 11,
   "id": "ce4298e6-1b0f-4068-a43c-6ca26a55d5bd",
   "metadata": {},
   "outputs": [],
   "source": [
    "# min max scale the input data\n",
    "min_max_scaler = MinMaxScaler(feature_range=(0, 1))\n",
    "x_train_scaled = min_max_scaler.fit_transform(features.copy())"
   ]
  },
  {
   "cell_type": "code",
   "execution_count": 12,
   "id": "919c56f2-592a-46a8-ac59-12c12387574e",
   "metadata": {},
   "outputs": [],
   "source": [
    "class AutoEncoder(Model):\n",
    "\n",
    "    def __init__(self, output_units):\n",
    "        super().__init__()\n",
    "        self.encoder = Sequential([\n",
    "          Dense(128,input_dim = output_units, activation='sigmoid'),\n",
    "          Dropout(0.1),\n",
    "          Dense(64, activation='relu'),\n",
    "          Dropout(0.1),\n",
    "          Dense(32, activation='relu')\n",
    "        ])\n",
    "        self.decoder = Sequential([\n",
    "          Dense(64, activation='relu'),\n",
    "          Dropout(0.1),\n",
    "          Dense(128,  activation='relu'),\n",
    "          Dropout(0.1),\n",
    "          Dense(output_units, activation='sigmoid')\n",
    "        ])\n",
    "  \n",
    "    def call(self, inputs):\n",
    "        encoded = self.encoder(inputs)\n",
    "        decoded = self.decoder(encoded)\n",
    "        return decoded"
   ]
  },
  {
   "cell_type": "code",
   "execution_count": 13,
   "id": "480aee51-c51a-4428-83cf-9643ed961353",
   "metadata": {},
   "outputs": [],
   "source": [
    "def find_threshold(model, x_train_scaled):\n",
    "    reconstructions = model.predict(x_train_scaled)\n",
    "  # provides losses of individual instances\n",
    "    reconstruction_errors = tf.keras.losses.msle(reconstructions, x_train_scaled)\n",
    "  # threshold for anomaly scores\n",
    "    threshold = np.mean(reconstruction_errors.numpy()) \\\n",
    "      + np.std(reconstruction_errors.numpy())\n",
    "    return threshold\n",
    "\n",
    "def get_predictions(model, x_train_scaled, threshold):\n",
    "    predictions = model.predict(x_train_scaled)\n",
    "  # provides losses of individual instances\n",
    "    errors = tf.keras.losses.msle(predictions, x_train_scaled)\n",
    "  # 1 = anomaly, 0 = normal\n",
    "    anomaly_mask = pd.Series(errors) > threshold\n",
    "    preds = anomaly_mask.map(lambda x: 1.0 if x == True else 0.0)\n",
    "    return preds, errors"
   ]
  },
  {
   "cell_type": "code",
   "execution_count": 14,
   "id": "f351fd67-8557-4a15-934b-be685c61589e",
   "metadata": {
    "tags": []
   },
   "outputs": [
    {
     "name": "stdout",
     "output_type": "stream",
     "text": [
      "Epoch 1/20\n",
      "8/8 [==============================] - 3s 18ms/step - loss: 0.0831 - mse: 0.1409\n",
      "Epoch 2/20\n",
      "8/8 [==============================] - 0s 15ms/step - loss: 0.0503 - mse: 0.0826\n",
      "Epoch 3/20\n",
      "8/8 [==============================] - 0s 13ms/step - loss: 0.0192 - mse: 0.0342\n",
      "Epoch 4/20\n",
      "8/8 [==============================] - 0s 7ms/step - loss: 0.0139 - mse: 0.0270\n",
      "Epoch 5/20\n",
      "8/8 [==============================] - 0s 6ms/step - loss: 0.0122 - mse: 0.0241\n",
      "Epoch 6/20\n",
      "8/8 [==============================] - 0s 5ms/step - loss: 0.0106 - mse: 0.0205\n",
      "Epoch 7/20\n",
      "8/8 [==============================] - 0s 7ms/step - loss: 0.0101 - mse: 0.0193\n",
      "Epoch 8/20\n",
      "8/8 [==============================] - 0s 8ms/step - loss: 0.0099 - mse: 0.0187\n",
      "Epoch 9/20\n",
      "8/8 [==============================] - 0s 8ms/step - loss: 0.0097 - mse: 0.0186\n",
      "Epoch 10/20\n",
      "8/8 [==============================] - 0s 7ms/step - loss: 0.0094 - mse: 0.0182\n",
      "Epoch 11/20\n",
      "8/8 [==============================] - 0s 7ms/step - loss: 0.0093 - mse: 0.0180\n",
      "Epoch 12/20\n",
      "8/8 [==============================] - 0s 6ms/step - loss: 0.0092 - mse: 0.0178\n",
      "Epoch 13/20\n",
      "8/8 [==============================] - 0s 6ms/step - loss: 0.0091 - mse: 0.0175\n",
      "Epoch 14/20\n",
      "8/8 [==============================] - 0s 6ms/step - loss: 0.0090 - mse: 0.0174\n",
      "Epoch 15/20\n",
      "8/8 [==============================] - 0s 6ms/step - loss: 0.0089 - mse: 0.0173\n",
      "Epoch 16/20\n",
      "8/8 [==============================] - 0s 6ms/step - loss: 0.0088 - mse: 0.0172\n",
      "Epoch 17/20\n",
      "8/8 [==============================] - 0s 6ms/step - loss: 0.0087 - mse: 0.0170\n",
      "Epoch 18/20\n",
      "8/8 [==============================] - 0s 6ms/step - loss: 0.0087 - mse: 0.0168\n",
      "Epoch 19/20\n",
      "8/8 [==============================] - 0s 7ms/step - loss: 0.0086 - mse: 0.0167\n",
      "Epoch 20/20\n",
      "8/8 [==============================] - 0s 7ms/step - loss: 0.0086 - mse: 0.0166\n",
      "5.640625\n",
      "15/15 [==============================] - 0s 3ms/step\n",
      "Threshold: 0.01383861452177259\n",
      "15/15 [==============================] - 0s 3ms/step\n",
      "0.625\n"
     ]
    }
   ],
   "source": [
    "start = time.process_time()\n",
    "\n",
    "model = AutoEncoder(output_units=x_train_scaled.shape[1])\n",
    "\n",
    "model.compile(loss='msle', metrics=['mse'], optimizer='adam')\n",
    "\n",
    "history = model.fit(\n",
    "    x_train_scaled,\n",
    "    x_train_scaled,\n",
    "    epochs=20,\n",
    "    batch_size=64,\n",
    ")\n",
    "\n",
    "end = time.process_time()\n",
    "arrhythmia_deep_autoencoders_train_time = end - start\n",
    "print(end - start)\n",
    "\n",
    "\n",
    "start = time.process_time()\n",
    "threshold = find_threshold(model, x_train_scaled)\n",
    "print(f\"Threshold: {threshold}\")\n",
    "\n",
    "predictions, scores = get_predictions(model, x_train_scaled, threshold)\n",
    "\n",
    "end = time.process_time()\n",
    "arrhythmia_deep_autoencoders_test_time = end - start\n",
    "print(end - start)"
   ]
  },
  {
   "cell_type": "code",
   "execution_count": 15,
   "id": "435d8fec",
   "metadata": {},
   "outputs": [
    {
     "data": {
      "text/plain": [
       "0.8025200188412623"
      ]
     },
     "execution_count": 15,
     "metadata": {},
     "output_type": "execute_result"
    }
   ],
   "source": [
    "fpr, tpr, _ = metrics.roc_curve(target, scores)\n",
    "arrhythmia_deep_autoencoders_auc = metrics.auc(fpr, tpr)\n",
    "metrics.auc(fpr, tpr)"
   ]
  },
  {
   "cell_type": "code",
   "execution_count": 16,
   "id": "43c7266f",
   "metadata": {},
   "outputs": [
    {
     "name": "stdout",
     "output_type": "stream",
     "text": [
      "              precision    recall  f1-score   support\n",
      "\n",
      "           0       0.91      0.94      0.92       386\n",
      "           1       0.55      0.42      0.48        66\n",
      "\n",
      "    accuracy                           0.87       452\n",
      "   macro avg       0.73      0.68      0.70       452\n",
      "weighted avg       0.85      0.87      0.86       452\n",
      "\n"
     ]
    }
   ],
   "source": [
    "arrhythmia_deep_autoencoders_report = classification_report(target, predictions, target_names = ['0','1'], output_dict = True)\n",
    "print(classification_report(target, predictions, target_names = ['0','1']))"
   ]
  },
  {
   "cell_type": "code",
   "execution_count": 17,
   "id": "663b1be1",
   "metadata": {},
   "outputs": [
    {
     "name": "stdout",
     "output_type": "stream",
     "text": [
      "0.4652562396606436\n"
     ]
    }
   ],
   "source": [
    "precision, recall, thresholds = precision_recall_curve(target, scores)\n",
    "arrhythmia_deep_ae_auc_precision_recall = metrics.auc(recall, precision)\n",
    "print(arrhythmia_deep_ae_auc_precision_recall)"
   ]
  },
  {
   "cell_type": "markdown",
   "id": "f718677d-53c1-46f9-9efc-346cdacdb947",
   "metadata": {
    "jp-MarkdownHeadingCollapsed": true,
    "tags": []
   },
   "source": [
    "## Cardiotocography"
   ]
  },
  {
   "cell_type": "markdown",
   "id": "4691daf5",
   "metadata": {},
   "source": [
    "**Dataset source**: http://odds.cs.stonybrook.edu/cardiotocogrpahy-dataset/ (data is transformed from .mat to .csv format)\n",
    "\n",
    "Shebuti Rayana (2016). ODDS Library [http://odds.cs.stonybrook.edu]. Stony Brook, NY: Stony Brook University, Department of Computer Science.\n",
    "\n",
    "**Additional sources:**\n",
    "\n",
    "C. C. Aggarwal and S. Sathe, “Theoretical foundations and algorithms for outlier ensembles.” ACM SIGKDD Explorations Newsletter, vol. 17, no. 1, pp. 24–47, 2015.\n",
    "\n",
    "Saket Sathe and Charu C. Aggarwal. LODES: Local Density meets Spectral Outlier Detection. SIAM Conference on Data Mining, 2016."
   ]
  },
  {
   "cell_type": "code",
   "execution_count": 18,
   "id": "1f2814fa-e915-4614-9e0a-8d54d4e7fbad",
   "metadata": {},
   "outputs": [],
   "source": [
    "data = pd.read_csv('./Cardiotocography.csv')"
   ]
  },
  {
   "cell_type": "code",
   "execution_count": 19,
   "id": "b9687121-a76a-4e0b-83da-42725fddaeb7",
   "metadata": {},
   "outputs": [
    {
     "data": {
      "text/plain": [
       "(1831, 22)"
      ]
     },
     "execution_count": 19,
     "metadata": {},
     "output_type": "execute_result"
    }
   ],
   "source": [
    "data.shape"
   ]
  },
  {
   "cell_type": "code",
   "execution_count": 20,
   "id": "d07338e9-ea55-4352-b6ab-960b2f4ab6d4",
   "metadata": {},
   "outputs": [],
   "source": [
    "data['y'] = data['y'].astype(int)"
   ]
  },
  {
   "cell_type": "code",
   "execution_count": 21,
   "id": "cf4c6400-faca-46d0-bfe4-1736250774f1",
   "metadata": {},
   "outputs": [
    {
     "data": {
      "text/html": [
       "<div>\n",
       "<style scoped>\n",
       "    .dataframe tbody tr th:only-of-type {\n",
       "        vertical-align: middle;\n",
       "    }\n",
       "\n",
       "    .dataframe tbody tr th {\n",
       "        vertical-align: top;\n",
       "    }\n",
       "\n",
       "    .dataframe thead th {\n",
       "        text-align: right;\n",
       "    }\n",
       "</style>\n",
       "<table border=\"1\" class=\"dataframe\">\n",
       "  <thead>\n",
       "    <tr style=\"text-align: right;\">\n",
       "      <th></th>\n",
       "      <th>Col1</th>\n",
       "    </tr>\n",
       "    <tr>\n",
       "      <th>y</th>\n",
       "      <th></th>\n",
       "    </tr>\n",
       "  </thead>\n",
       "  <tbody>\n",
       "    <tr>\n",
       "      <th>0</th>\n",
       "      <td>1655</td>\n",
       "    </tr>\n",
       "    <tr>\n",
       "      <th>1</th>\n",
       "      <td>176</td>\n",
       "    </tr>\n",
       "  </tbody>\n",
       "</table>\n",
       "</div>"
      ],
      "text/plain": [
       "   Col1\n",
       "y      \n",
       "0  1655\n",
       "1   176"
      ]
     },
     "execution_count": 21,
     "metadata": {},
     "output_type": "execute_result"
    }
   ],
   "source": [
    "pd.pivot_table(data,\n",
    "             values = 'Col1',\n",
    "               index = 'y', \n",
    "              aggfunc = 'count')"
   ]
  },
  {
   "cell_type": "code",
   "execution_count": 22,
   "id": "f0a69a5f-f775-4f9f-a759-5e071ad45d35",
   "metadata": {},
   "outputs": [
    {
     "data": {
      "text/html": [
       "<div>\n",
       "<style scoped>\n",
       "    .dataframe tbody tr th:only-of-type {\n",
       "        vertical-align: middle;\n",
       "    }\n",
       "\n",
       "    .dataframe tbody tr th {\n",
       "        vertical-align: top;\n",
       "    }\n",
       "\n",
       "    .dataframe thead th {\n",
       "        text-align: right;\n",
       "    }\n",
       "</style>\n",
       "<table border=\"1\" class=\"dataframe\">\n",
       "  <thead>\n",
       "    <tr style=\"text-align: right;\">\n",
       "      <th></th>\n",
       "      <th>Col1</th>\n",
       "      <th>Col2</th>\n",
       "      <th>Col3</th>\n",
       "      <th>Col4</th>\n",
       "      <th>Col5</th>\n",
       "      <th>Col6</th>\n",
       "      <th>Col7</th>\n",
       "      <th>Col8</th>\n",
       "      <th>Col9</th>\n",
       "      <th>Col10</th>\n",
       "      <th>...</th>\n",
       "      <th>Col13</th>\n",
       "      <th>Col14</th>\n",
       "      <th>Col15</th>\n",
       "      <th>Col16</th>\n",
       "      <th>Col17</th>\n",
       "      <th>Col18</th>\n",
       "      <th>Col19</th>\n",
       "      <th>Col20</th>\n",
       "      <th>Col21</th>\n",
       "      <th>y</th>\n",
       "    </tr>\n",
       "  </thead>\n",
       "  <tbody>\n",
       "    <tr>\n",
       "      <th>0</th>\n",
       "      <td>0.004912</td>\n",
       "      <td>0.693191</td>\n",
       "      <td>-0.203640</td>\n",
       "      <td>0.595322</td>\n",
       "      <td>0.353190</td>\n",
       "      <td>-0.061401</td>\n",
       "      <td>-0.278295</td>\n",
       "      <td>-1.650444</td>\n",
       "      <td>0.759072</td>\n",
       "      <td>-0.420487</td>\n",
       "      <td>...</td>\n",
       "      <td>-0.798376</td>\n",
       "      <td>1.854728</td>\n",
       "      <td>0.622631</td>\n",
       "      <td>0.963083</td>\n",
       "      <td>0.301464</td>\n",
       "      <td>0.193113</td>\n",
       "      <td>0.231498</td>\n",
       "      <td>-0.289786</td>\n",
       "      <td>-0.493294</td>\n",
       "      <td>0</td>\n",
       "    </tr>\n",
       "    <tr>\n",
       "      <th>1</th>\n",
       "      <td>0.110729</td>\n",
       "      <td>-0.079903</td>\n",
       "      <td>-0.203640</td>\n",
       "      <td>1.268942</td>\n",
       "      <td>0.396246</td>\n",
       "      <td>-0.061401</td>\n",
       "      <td>-0.278295</td>\n",
       "      <td>-1.710270</td>\n",
       "      <td>0.759072</td>\n",
       "      <td>-0.420487</td>\n",
       "      <td>...</td>\n",
       "      <td>-0.798376</td>\n",
       "      <td>1.854728</td>\n",
       "      <td>0.278625</td>\n",
       "      <td>0.963083</td>\n",
       "      <td>0.301464</td>\n",
       "      <td>0.129265</td>\n",
       "      <td>0.093563</td>\n",
       "      <td>-0.256385</td>\n",
       "      <td>-0.493294</td>\n",
       "      <td>0</td>\n",
       "    </tr>\n",
       "    <tr>\n",
       "      <th>2</th>\n",
       "      <td>0.216546</td>\n",
       "      <td>-0.272445</td>\n",
       "      <td>-0.203640</td>\n",
       "      <td>1.050988</td>\n",
       "      <td>0.148753</td>\n",
       "      <td>-0.061401</td>\n",
       "      <td>-0.278295</td>\n",
       "      <td>-1.710270</td>\n",
       "      <td>1.106509</td>\n",
       "      <td>-0.420487</td>\n",
       "      <td>...</td>\n",
       "      <td>-1.332931</td>\n",
       "      <td>0.314688</td>\n",
       "      <td>2.342663</td>\n",
       "      <td>-0.488279</td>\n",
       "      <td>0.061002</td>\n",
       "      <td>0.065417</td>\n",
       "      <td>0.024596</td>\n",
       "      <td>-0.256385</td>\n",
       "      <td>1.140018</td>\n",
       "      <td>0</td>\n",
       "    </tr>\n",
       "    <tr>\n",
       "      <th>3</th>\n",
       "      <td>0.004912</td>\n",
       "      <td>0.727346</td>\n",
       "      <td>-0.203640</td>\n",
       "      <td>1.212171</td>\n",
       "      <td>-0.683598</td>\n",
       "      <td>-0.061401</td>\n",
       "      <td>-0.278295</td>\n",
       "      <td>-1.710270</td>\n",
       "      <td>1.106509</td>\n",
       "      <td>-0.420487</td>\n",
       "      <td>...</td>\n",
       "      <td>-1.332931</td>\n",
       "      <td>0.314688</td>\n",
       "      <td>1.654650</td>\n",
       "      <td>-0.488279</td>\n",
       "      <td>0.061002</td>\n",
       "      <td>0.193113</td>\n",
       "      <td>0.093563</td>\n",
       "      <td>-0.323186</td>\n",
       "      <td>1.140018</td>\n",
       "      <td>0</td>\n",
       "    </tr>\n",
       "    <tr>\n",
       "      <th>4</th>\n",
       "      <td>-0.100905</td>\n",
       "      <td>0.363595</td>\n",
       "      <td>1.321366</td>\n",
       "      <td>1.027120</td>\n",
       "      <td>0.141359</td>\n",
       "      <td>-0.061401</td>\n",
       "      <td>-0.278295</td>\n",
       "      <td>-0.992364</td>\n",
       "      <td>-0.051613</td>\n",
       "      <td>-0.420487</td>\n",
       "      <td>...</td>\n",
       "      <td>-0.085638</td>\n",
       "      <td>-0.565334</td>\n",
       "      <td>0.278625</td>\n",
       "      <td>-0.488279</td>\n",
       "      <td>-0.059229</td>\n",
       "      <td>0.065417</td>\n",
       "      <td>0.024596</td>\n",
       "      <td>-0.456787</td>\n",
       "      <td>1.140018</td>\n",
       "      <td>0</td>\n",
       "    </tr>\n",
       "  </tbody>\n",
       "</table>\n",
       "<p>5 rows × 22 columns</p>\n",
       "</div>"
      ],
      "text/plain": [
       "       Col1      Col2      Col3      Col4      Col5      Col6      Col7  \\\n",
       "0  0.004912  0.693191 -0.203640  0.595322  0.353190 -0.061401 -0.278295   \n",
       "1  0.110729 -0.079903 -0.203640  1.268942  0.396246 -0.061401 -0.278295   \n",
       "2  0.216546 -0.272445 -0.203640  1.050988  0.148753 -0.061401 -0.278295   \n",
       "3  0.004912  0.727346 -0.203640  1.212171 -0.683598 -0.061401 -0.278295   \n",
       "4 -0.100905  0.363595  1.321366  1.027120  0.141359 -0.061401 -0.278295   \n",
       "\n",
       "       Col8      Col9     Col10  ...     Col13     Col14     Col15     Col16  \\\n",
       "0 -1.650444  0.759072 -0.420487  ... -0.798376  1.854728  0.622631  0.963083   \n",
       "1 -1.710270  0.759072 -0.420487  ... -0.798376  1.854728  0.278625  0.963083   \n",
       "2 -1.710270  1.106509 -0.420487  ... -1.332931  0.314688  2.342663 -0.488279   \n",
       "3 -1.710270  1.106509 -0.420487  ... -1.332931  0.314688  1.654650 -0.488279   \n",
       "4 -0.992364 -0.051613 -0.420487  ... -0.085638 -0.565334  0.278625 -0.488279   \n",
       "\n",
       "      Col17     Col18     Col19     Col20     Col21  y  \n",
       "0  0.301464  0.193113  0.231498 -0.289786 -0.493294  0  \n",
       "1  0.301464  0.129265  0.093563 -0.256385 -0.493294  0  \n",
       "2  0.061002  0.065417  0.024596 -0.256385  1.140018  0  \n",
       "3  0.061002  0.193113  0.093563 -0.323186  1.140018  0  \n",
       "4 -0.059229  0.065417  0.024596 -0.456787  1.140018  0  \n",
       "\n",
       "[5 rows x 22 columns]"
      ]
     },
     "execution_count": 22,
     "metadata": {},
     "output_type": "execute_result"
    }
   ],
   "source": [
    "data.head()"
   ]
  },
  {
   "cell_type": "markdown",
   "id": "aa1cf435-cf7c-41ac-9701-5de24ce1ffc1",
   "metadata": {
    "jp-MarkdownHeadingCollapsed": true,
    "tags": []
   },
   "source": [
    "### Deep Autoencoder"
   ]
  },
  {
   "cell_type": "code",
   "execution_count": 23,
   "id": "77d195d0-1d8e-48cf-848e-7ea89e1662ed",
   "metadata": {},
   "outputs": [],
   "source": [
    "features = data.drop(columns = ['y'])\n",
    "target = data['y']"
   ]
  },
  {
   "cell_type": "code",
   "execution_count": 24,
   "id": "4a88d610-4a3c-4a34-9eda-435e595a5c79",
   "metadata": {},
   "outputs": [],
   "source": [
    "# min max scale the input data\n",
    "min_max_scaler = MinMaxScaler(feature_range=(0, 1))\n",
    "x_train_scaled = min_max_scaler.fit_transform(features.copy())"
   ]
  },
  {
   "cell_type": "code",
   "execution_count": 25,
   "id": "dd0006f3-c96f-41e7-b50c-01c7f06f99e2",
   "metadata": {},
   "outputs": [],
   "source": [
    "class AutoEncoder(Model):\n",
    "\n",
    "    def __init__(self, output_units):\n",
    "        super().__init__()\n",
    "        self.encoder = Sequential([\n",
    "          Dense(10,input_dim = output_units, activation='sigmoid'),\n",
    "          Dropout(0.1),\n",
    "          Dense(5, activation='relu'),\n",
    "          Dropout(0.1),\n",
    "          Dense(3, activation='relu')\n",
    "        ])\n",
    "        self.decoder = Sequential([\n",
    "          Dense(5, activation='relu'),\n",
    "          Dropout(0.1),\n",
    "          Dense(10,  activation='relu'),\n",
    "          Dropout(0.1),\n",
    "          Dense(output_units, activation='sigmoid')\n",
    "        ])\n",
    "  \n",
    "    def call(self, inputs):\n",
    "        encoded = self.encoder(inputs)\n",
    "        decoded = self.decoder(encoded)\n",
    "        return decoded"
   ]
  },
  {
   "cell_type": "code",
   "execution_count": 26,
   "id": "6fcd07a7-ca20-4e5d-ba11-8569dd0d724f",
   "metadata": {},
   "outputs": [],
   "source": [
    "def find_threshold(model, x_train_scaled):\n",
    "    reconstructions = model.predict(x_train_scaled)\n",
    "  # provides losses of individual instances\n",
    "    reconstruction_errors = tf.keras.losses.msle(reconstructions, x_train_scaled)\n",
    "  # threshold for anomaly scores\n",
    "    threshold = np.mean(reconstruction_errors.numpy()) \\\n",
    "      + np.std(reconstruction_errors.numpy())\n",
    "    return threshold\n",
    "\n",
    "def get_predictions(model, x_train_scaled, threshold):\n",
    "    predictions = model.predict(x_train_scaled)\n",
    "  # provides losses of individual instances\n",
    "    errors = tf.keras.losses.msle(predictions, x_train_scaled)\n",
    "  # 1 = anomaly, 0 = normal\n",
    "    anomaly_mask = pd.Series(errors) > threshold\n",
    "    preds = anomaly_mask.map(lambda x: 1.0 if x == True else 0.0)\n",
    "    return preds, errors"
   ]
  },
  {
   "cell_type": "code",
   "execution_count": 27,
   "id": "69697cbe-fe30-4430-a639-429e0a9823ad",
   "metadata": {},
   "outputs": [
    {
     "name": "stdout",
     "output_type": "stream",
     "text": [
      "Epoch 1/20\n",
      "29/29 [==============================] - 3s 5ms/step - loss: 0.0714 - mse: 0.1171\n",
      "Epoch 2/20\n",
      "29/29 [==============================] - 0s 4ms/step - loss: 0.0632 - mse: 0.1025\n",
      "Epoch 3/20\n",
      "29/29 [==============================] - 0s 6ms/step - loss: 0.0408 - mse: 0.0671\n",
      "Epoch 4/20\n",
      "29/29 [==============================] - 0s 6ms/step - loss: 0.0263 - mse: 0.0454\n",
      "Epoch 5/20\n",
      "29/29 [==============================] - 0s 6ms/step - loss: 0.0225 - mse: 0.0398\n",
      "Epoch 6/20\n",
      "29/29 [==============================] - 0s 6ms/step - loss: 0.0210 - mse: 0.0375\n",
      "Epoch 7/20\n",
      "29/29 [==============================] - 0s 9ms/step - loss: 0.0199 - mse: 0.0359\n",
      "Epoch 8/20\n",
      "29/29 [==============================] - 0s 9ms/step - loss: 0.0192 - mse: 0.0349\n",
      "Epoch 9/20\n",
      "29/29 [==============================] - 0s 4ms/step - loss: 0.0188 - mse: 0.0342\n",
      "Epoch 10/20\n",
      "29/29 [==============================] - 0s 9ms/step - loss: 0.0181 - mse: 0.0331\n",
      "Epoch 11/20\n",
      "29/29 [==============================] - 0s 10ms/step - loss: 0.0179 - mse: 0.0328\n",
      "Epoch 12/20\n",
      "29/29 [==============================] - 0s 9ms/step - loss: 0.0177 - mse: 0.0325\n",
      "Epoch 13/20\n",
      "29/29 [==============================] - 0s 10ms/step - loss: 0.0173 - mse: 0.0319\n",
      "Epoch 14/20\n",
      "29/29 [==============================] - 0s 10ms/step - loss: 0.0169 - mse: 0.0311\n",
      "Epoch 15/20\n",
      "29/29 [==============================] - 0s 10ms/step - loss: 0.0167 - mse: 0.0309\n",
      "Epoch 16/20\n",
      "29/29 [==============================] - 0s 6ms/step - loss: 0.0167 - mse: 0.0309\n",
      "Epoch 17/20\n",
      "29/29 [==============================] - 0s 5ms/step - loss: 0.0164 - mse: 0.0304\n",
      "Epoch 18/20\n",
      "29/29 [==============================] - 0s 5ms/step - loss: 0.0163 - mse: 0.0303\n",
      "Epoch 19/20\n",
      "29/29 [==============================] - 0s 6ms/step - loss: 0.0162 - mse: 0.0301\n",
      "Epoch 20/20\n",
      "29/29 [==============================] - 0s 7ms/step - loss: 0.0162 - mse: 0.0301\n",
      "10.3125\n",
      "58/58 [==============================] - 0s 3ms/step\n",
      "Threshold: 0.02448342176878049\n",
      "58/58 [==============================] - 0s 5ms/step\n",
      "1.25\n"
     ]
    }
   ],
   "source": [
    "start = time.process_time()\n",
    "\n",
    "model = AutoEncoder(output_units=x_train_scaled.shape[1])\n",
    "\n",
    "model.compile(loss='msle', metrics=['mse'], optimizer='adam')\n",
    "\n",
    "history = model.fit(\n",
    "    x_train_scaled,\n",
    "    x_train_scaled,\n",
    "    epochs=20,\n",
    "    batch_size=64,\n",
    ")\n",
    "\n",
    "end = time.process_time()\n",
    "cardio_deep_autoencoders_train_time = end - start\n",
    "print(end - start)\n",
    "\n",
    "start = time.process_time()\n",
    "threshold = find_threshold(model, x_train_scaled)\n",
    "print(f\"Threshold: {threshold}\")\n",
    "\n",
    "predictions, scores = get_predictions(model, x_train_scaled, threshold)\n",
    "\n",
    "end = time.process_time()\n",
    "cardio_deep_autoencoders_test_time = end - start\n",
    "print(end - start)"
   ]
  },
  {
   "cell_type": "code",
   "execution_count": 28,
   "id": "300cad4f-bfcb-4acf-bcd2-b523fa40e2be",
   "metadata": {},
   "outputs": [
    {
     "data": {
      "text/plain": [
       "array([[1536,  119],\n",
       "       [  46,  130]], dtype=int64)"
      ]
     },
     "execution_count": 28,
     "metadata": {},
     "output_type": "execute_result"
    }
   ],
   "source": [
    "confusion_matrix(target, predictions)"
   ]
  },
  {
   "cell_type": "code",
   "execution_count": 29,
   "id": "f6e00b7c",
   "metadata": {},
   "outputs": [
    {
     "data": {
      "text/plain": [
       "0.9459763801153529"
      ]
     },
     "execution_count": 29,
     "metadata": {},
     "output_type": "execute_result"
    }
   ],
   "source": [
    "fpr, tpr, _ = metrics.roc_curve(target, scores)\n",
    "cardio_deep_autoencoders_auc = metrics.auc(fpr, tpr)\n",
    "metrics.auc(fpr, tpr)"
   ]
  },
  {
   "cell_type": "code",
   "execution_count": 30,
   "id": "f7bff568",
   "metadata": {},
   "outputs": [
    {
     "name": "stdout",
     "output_type": "stream",
     "text": [
      "              precision    recall  f1-score   support\n",
      "\n",
      "           0       0.97      0.93      0.95      1655\n",
      "           1       0.52      0.74      0.61       176\n",
      "\n",
      "    accuracy                           0.91      1831\n",
      "   macro avg       0.75      0.83      0.78      1831\n",
      "weighted avg       0.93      0.91      0.92      1831\n",
      "\n"
     ]
    }
   ],
   "source": [
    "cardio_deep_autoencoders_report = classification_report(target, predictions, target_names = ['0','1'], output_dict = True)\n",
    "print(classification_report(target, predictions, target_names = ['0','1']))"
   ]
  },
  {
   "cell_type": "code",
   "execution_count": 31,
   "id": "7d04b955",
   "metadata": {},
   "outputs": [
    {
     "name": "stdout",
     "output_type": "stream",
     "text": [
      "0.6714710076728642\n"
     ]
    }
   ],
   "source": [
    "precision, recall, thresholds = precision_recall_curve(target, scores)\n",
    "cardio_deep_ae_auc_precision_recall = metrics.auc(recall, precision)\n",
    "print(cardio_deep_ae_auc_precision_recall)"
   ]
  },
  {
   "cell_type": "markdown",
   "id": "1563ee67-06dc-4374-b602-f4d623f6ac25",
   "metadata": {
    "tags": []
   },
   "source": [
    "## ForestCover"
   ]
  },
  {
   "cell_type": "markdown",
   "id": "9949cd8a",
   "metadata": {},
   "source": [
    "**Dataset source**: http://odds.cs.stonybrook.edu/forestcovercovertype-dataset/ (data is transformed from .mat to .csv format)\n",
    "\n",
    "Shebuti Rayana (2016). ODDS Library [http://odds.cs.stonybrook.edu]. Stony Brook, NY: Stony Brook University, Department of Computer Science.\n",
    "\n",
    "**Additional sources:**\n",
    "\n",
    "Liu, Fei Tony, Kai Ming Ting, and Zhi-Hua Zhou. “Isolation forest.” 2008 Eighth IEEE International Conference on Data Mining. IEEE, 2008.\n",
    "\n",
    "K. M. Ting, J. T. S. Chuan, and F. T. Liu. “Mass: A New Ranking Measure for Anomaly Detection.“, IEEE Transactions on Knowledge and Data Engineering, 2009.\n",
    "\n",
    "Kai Ming Ting, Guang-Tong Zhou, Fei Tony Liu & Tan Swee Chuan. (2010). Mass Estimation and Its Applications. Proceedings of The 16th ACM SIGKDD Conference on Knowledge Discovery and Data Mining 2010. pp. 989-998.\n",
    "\n",
    "Swee Chuan Tan, Kai Ming Ting & Fei Tony Liu. (2011). Fast Anomaly Detection for Streaming Data. Proceedings of the International Joint Conference on Artificial Intelligence 2011. pp.1151-1156."
   ]
  },
  {
   "cell_type": "code",
   "execution_count": 32,
   "id": "bff11aeb-e777-439f-a989-dbdd142d1027",
   "metadata": {},
   "outputs": [],
   "source": [
    "data = pd.read_csv('./ForestCover.csv')"
   ]
  },
  {
   "cell_type": "code",
   "execution_count": 33,
   "id": "bc232f7a-8630-46bf-b1a0-b8b8dbee4688",
   "metadata": {},
   "outputs": [
    {
     "data": {
      "text/plain": [
       "(286048, 11)"
      ]
     },
     "execution_count": 33,
     "metadata": {},
     "output_type": "execute_result"
    }
   ],
   "source": [
    "data.shape"
   ]
  },
  {
   "cell_type": "code",
   "execution_count": 34,
   "id": "725ab3d0-b18f-4f66-8201-4d1cd3423964",
   "metadata": {},
   "outputs": [
    {
     "data": {
      "text/html": [
       "<div>\n",
       "<style scoped>\n",
       "    .dataframe tbody tr th:only-of-type {\n",
       "        vertical-align: middle;\n",
       "    }\n",
       "\n",
       "    .dataframe tbody tr th {\n",
       "        vertical-align: top;\n",
       "    }\n",
       "\n",
       "    .dataframe thead th {\n",
       "        text-align: right;\n",
       "    }\n",
       "</style>\n",
       "<table border=\"1\" class=\"dataframe\">\n",
       "  <thead>\n",
       "    <tr style=\"text-align: right;\">\n",
       "      <th></th>\n",
       "      <th>Col2</th>\n",
       "    </tr>\n",
       "    <tr>\n",
       "      <th>y</th>\n",
       "      <th></th>\n",
       "    </tr>\n",
       "  </thead>\n",
       "  <tbody>\n",
       "    <tr>\n",
       "      <th>0</th>\n",
       "      <td>283301</td>\n",
       "    </tr>\n",
       "    <tr>\n",
       "      <th>1</th>\n",
       "      <td>2747</td>\n",
       "    </tr>\n",
       "  </tbody>\n",
       "</table>\n",
       "</div>"
      ],
      "text/plain": [
       "     Col2\n",
       "y        \n",
       "0  283301\n",
       "1    2747"
      ]
     },
     "execution_count": 34,
     "metadata": {},
     "output_type": "execute_result"
    }
   ],
   "source": [
    "pd.pivot_table(data,\n",
    "             values = 'Col2',\n",
    "               index = 'y', \n",
    "              aggfunc = 'count')"
   ]
  },
  {
   "cell_type": "code",
   "execution_count": 35,
   "id": "ba2e2eaf-a650-494b-ba31-fe2afc4c7d42",
   "metadata": {},
   "outputs": [
    {
     "data": {
      "text/html": [
       "<div>\n",
       "<style scoped>\n",
       "    .dataframe tbody tr th:only-of-type {\n",
       "        vertical-align: middle;\n",
       "    }\n",
       "\n",
       "    .dataframe tbody tr th {\n",
       "        vertical-align: top;\n",
       "    }\n",
       "\n",
       "    .dataframe thead th {\n",
       "        text-align: right;\n",
       "    }\n",
       "</style>\n",
       "<table border=\"1\" class=\"dataframe\">\n",
       "  <thead>\n",
       "    <tr style=\"text-align: right;\">\n",
       "      <th></th>\n",
       "      <th>Col1</th>\n",
       "      <th>Col2</th>\n",
       "      <th>Col3</th>\n",
       "      <th>Col4</th>\n",
       "      <th>Col5</th>\n",
       "      <th>Col6</th>\n",
       "      <th>Col7</th>\n",
       "      <th>Col8</th>\n",
       "      <th>Col9</th>\n",
       "      <th>Col10</th>\n",
       "      <th>y</th>\n",
       "    </tr>\n",
       "  </thead>\n",
       "  <tbody>\n",
       "    <tr>\n",
       "      <th>0</th>\n",
       "      <td>2804</td>\n",
       "      <td>139</td>\n",
       "      <td>9</td>\n",
       "      <td>268</td>\n",
       "      <td>65</td>\n",
       "      <td>3180</td>\n",
       "      <td>234</td>\n",
       "      <td>238</td>\n",
       "      <td>135</td>\n",
       "      <td>6121</td>\n",
       "      <td>0</td>\n",
       "    </tr>\n",
       "    <tr>\n",
       "      <th>1</th>\n",
       "      <td>2785</td>\n",
       "      <td>155</td>\n",
       "      <td>18</td>\n",
       "      <td>242</td>\n",
       "      <td>118</td>\n",
       "      <td>3090</td>\n",
       "      <td>238</td>\n",
       "      <td>238</td>\n",
       "      <td>122</td>\n",
       "      <td>6211</td>\n",
       "      <td>0</td>\n",
       "    </tr>\n",
       "    <tr>\n",
       "      <th>2</th>\n",
       "      <td>2579</td>\n",
       "      <td>132</td>\n",
       "      <td>6</td>\n",
       "      <td>300</td>\n",
       "      <td>-15</td>\n",
       "      <td>67</td>\n",
       "      <td>230</td>\n",
       "      <td>237</td>\n",
       "      <td>140</td>\n",
       "      <td>6031</td>\n",
       "      <td>0</td>\n",
       "    </tr>\n",
       "    <tr>\n",
       "      <th>3</th>\n",
       "      <td>2886</td>\n",
       "      <td>151</td>\n",
       "      <td>11</td>\n",
       "      <td>371</td>\n",
       "      <td>26</td>\n",
       "      <td>5253</td>\n",
       "      <td>234</td>\n",
       "      <td>240</td>\n",
       "      <td>136</td>\n",
       "      <td>4051</td>\n",
       "      <td>0</td>\n",
       "    </tr>\n",
       "    <tr>\n",
       "      <th>4</th>\n",
       "      <td>2742</td>\n",
       "      <td>134</td>\n",
       "      <td>22</td>\n",
       "      <td>150</td>\n",
       "      <td>69</td>\n",
       "      <td>3215</td>\n",
       "      <td>248</td>\n",
       "      <td>224</td>\n",
       "      <td>92</td>\n",
       "      <td>6091</td>\n",
       "      <td>0</td>\n",
       "    </tr>\n",
       "  </tbody>\n",
       "</table>\n",
       "</div>"
      ],
      "text/plain": [
       "   Col1  Col2  Col3  Col4  Col5  Col6  Col7  Col8  Col9  Col10  y\n",
       "0  2804   139     9   268    65  3180   234   238   135   6121  0\n",
       "1  2785   155    18   242   118  3090   238   238   122   6211  0\n",
       "2  2579   132     6   300   -15    67   230   237   140   6031  0\n",
       "3  2886   151    11   371    26  5253   234   240   136   4051  0\n",
       "4  2742   134    22   150    69  3215   248   224    92   6091  0"
      ]
     },
     "execution_count": 35,
     "metadata": {},
     "output_type": "execute_result"
    }
   ],
   "source": [
    "data.head()"
   ]
  },
  {
   "cell_type": "markdown",
   "id": "c7ac84c8-652c-44c2-9bac-b9b46825a7ea",
   "metadata": {
    "jp-MarkdownHeadingCollapsed": true,
    "tags": []
   },
   "source": [
    "### Deep Autoencoder"
   ]
  },
  {
   "cell_type": "code",
   "execution_count": 36,
   "id": "bbcf7cc9-79aa-47a4-a7ba-899aed2337a1",
   "metadata": {},
   "outputs": [],
   "source": [
    "features = data.drop(columns = ['y'])\n",
    "target = data['y']"
   ]
  },
  {
   "cell_type": "code",
   "execution_count": 37,
   "id": "cfa5ae66-711a-4dd0-865b-0acdd35b57b0",
   "metadata": {},
   "outputs": [],
   "source": [
    "# min max scale the input data\n",
    "min_max_scaler = MinMaxScaler(feature_range=(0, 1))\n",
    "x_train_scaled = min_max_scaler.fit_transform(features.copy())"
   ]
  },
  {
   "cell_type": "code",
   "execution_count": 38,
   "id": "8d4b8122-2650-4a9b-a48a-58f8629d7a90",
   "metadata": {},
   "outputs": [],
   "source": [
    "class AutoEncoder(Model):\n",
    "\n",
    "    def __init__(self, output_units):\n",
    "        super().__init__()\n",
    "        self.encoder = Sequential([\n",
    "          Dense(5,input_dim = output_units, activation='sigmoid'),\n",
    "          Dropout(0.1),\n",
    "          Dense(3, activation='relu'),\n",
    "          Dropout(0.1),\n",
    "          Dense(3, activation='relu')\n",
    "        ])\n",
    "        self.decoder = Sequential([\n",
    "          Dense(3, activation='relu'),\n",
    "          Dropout(0.1),\n",
    "          Dense(5,  activation='relu'),\n",
    "          Dropout(0.1),\n",
    "          Dense(output_units, activation='sigmoid')\n",
    "        ])\n",
    "  \n",
    "    def call(self, inputs):\n",
    "        encoded = self.encoder(inputs)\n",
    "        decoded = self.decoder(encoded)\n",
    "        return decoded"
   ]
  },
  {
   "cell_type": "code",
   "execution_count": 39,
   "id": "46c3ad9c-58a0-4df0-8f73-aacc63452577",
   "metadata": {},
   "outputs": [],
   "source": [
    "def find_threshold(model, x_train_scaled):\n",
    "    reconstructions = model.predict(x_train_scaled)\n",
    "  # provides losses of individual instances\n",
    "    reconstruction_errors = tf.keras.losses.msle(reconstructions, x_train_scaled)\n",
    "  # threshold for anomaly scores\n",
    "    threshold = np.mean(reconstruction_errors.numpy()) \\\n",
    "      + np.std(reconstruction_errors.numpy())\n",
    "    return threshold\n",
    "\n",
    "def get_predictions(model, x_train_scaled, threshold):\n",
    "    predictions = model.predict(x_train_scaled)\n",
    "  # provides losses of individual instances\n",
    "    errors = tf.keras.losses.msle(predictions, x_train_scaled)\n",
    "  # 1 = anomaly, 0 = normal\n",
    "    anomaly_mask = pd.Series(errors) > threshold\n",
    "    preds = anomaly_mask.map(lambda x: 1.0 if x == True else 0.0)\n",
    "    return preds, errors"
   ]
  },
  {
   "cell_type": "code",
   "execution_count": 40,
   "id": "1e89dd5d-dcef-4916-84b2-c75a25cdab0b",
   "metadata": {},
   "outputs": [
    {
     "name": "stdout",
     "output_type": "stream",
     "text": [
      "Epoch 1/20\n",
      "559/559 [==============================] - 7s 9ms/step - loss: 0.0226 - mse: 0.0477\n",
      "Epoch 2/20\n",
      "559/559 [==============================] - 5s 10ms/step - loss: 0.0135 - mse: 0.0280\n",
      "Epoch 3/20\n",
      "559/559 [==============================] - 5s 9ms/step - loss: 0.0115 - mse: 0.0234\n",
      "Epoch 4/20\n",
      "559/559 [==============================] - 4s 7ms/step - loss: 0.0106 - mse: 0.0212\n",
      "Epoch 5/20\n",
      "559/559 [==============================] - 3s 6ms/step - loss: 0.0103 - mse: 0.0204\n",
      "Epoch 6/20\n",
      "559/559 [==============================] - 4s 6ms/step - loss: 0.0100 - mse: 0.0199\n",
      "Epoch 7/20\n",
      "559/559 [==============================] - 6s 10ms/step - loss: 0.0097 - mse: 0.0194\n",
      "Epoch 8/20\n",
      "559/559 [==============================] - 4s 7ms/step - loss: 0.0095 - mse: 0.0190\n",
      "Epoch 9/20\n",
      "559/559 [==============================] - 5s 9ms/step - loss: 0.0093 - mse: 0.0185\n",
      "Epoch 10/20\n",
      "559/559 [==============================] - 5s 9ms/step - loss: 0.0092 - mse: 0.0182\n",
      "Epoch 11/20\n",
      "559/559 [==============================] - 3s 5ms/step - loss: 0.0090 - mse: 0.0179\n",
      "Epoch 12/20\n",
      "559/559 [==============================] - 5s 9ms/step - loss: 0.0090 - mse: 0.0177\n",
      "Epoch 13/20\n",
      "559/559 [==============================] - 6s 10ms/step - loss: 0.0089 - mse: 0.0176\n",
      "Epoch 14/20\n",
      "559/559 [==============================] - 5s 10ms/step - loss: 0.0089 - mse: 0.0175\n",
      "Epoch 15/20\n",
      "559/559 [==============================] - 5s 9ms/step - loss: 0.0089 - mse: 0.0174\n",
      "Epoch 16/20\n",
      "559/559 [==============================] - 5s 9ms/step - loss: 0.0088 - mse: 0.0174\n",
      "Epoch 17/20\n",
      "559/559 [==============================] - 4s 6ms/step - loss: 0.0088 - mse: 0.0174\n",
      "Epoch 18/20\n",
      "559/559 [==============================] - 3s 6ms/step - loss: 0.0088 - mse: 0.0174\n",
      "Epoch 19/20\n",
      "559/559 [==============================] - 4s 7ms/step - loss: 0.0088 - mse: 0.0174\n",
      "Epoch 20/20\n",
      "559/559 [==============================] - 4s 8ms/step - loss: 0.0088 - mse: 0.0173\n",
      "138.546875\n",
      "8939/8939 [==============================] - 27s 3ms/step\n",
      "Threshold: 0.013307273530092523\n",
      "8939/8939 [==============================] - 26s 3ms/step\n",
      "73.125\n"
     ]
    }
   ],
   "source": [
    "start = time.process_time()\n",
    "\n",
    "model = AutoEncoder(output_units=x_train_scaled.shape[1])\n",
    "\n",
    "model.compile(loss='msle', metrics=['mse'], optimizer='adam')\n",
    "\n",
    "history = model.fit(\n",
    "    x_train_scaled,\n",
    "    x_train_scaled,\n",
    "    epochs=20,\n",
    "    batch_size=512,\n",
    ")\n",
    "\n",
    "end = time.process_time()\n",
    "forestcover_deep_autoencoders_train_time = end - start\n",
    "print(end - start)\n",
    "\n",
    "start = time.process_time()\n",
    "\n",
    "threshold = find_threshold(model, x_train_scaled)\n",
    "print(f\"Threshold: {threshold}\")\n",
    "\n",
    "predictions, scores = get_predictions(model, x_train_scaled, threshold)\n",
    "\n",
    "end = time.process_time()\n",
    "forestcover_deep_autoencoders_test_time = end - start\n",
    "print(end - start)"
   ]
  },
  {
   "cell_type": "code",
   "execution_count": 41,
   "id": "57f4de97-c888-47fa-ad6f-f35786be7c07",
   "metadata": {},
   "outputs": [
    {
     "data": {
      "text/plain": [
       "array([[243271,  40030],\n",
       "       [   509,   2238]], dtype=int64)"
      ]
     },
     "execution_count": 41,
     "metadata": {},
     "output_type": "execute_result"
    }
   ],
   "source": [
    "confusion_matrix(target, predictions)"
   ]
  },
  {
   "cell_type": "code",
   "execution_count": 42,
   "id": "e24d7542",
   "metadata": {},
   "outputs": [
    {
     "data": {
      "text/plain": [
       "0.9161161756783036"
      ]
     },
     "execution_count": 42,
     "metadata": {},
     "output_type": "execute_result"
    }
   ],
   "source": [
    "fpr, tpr, _ = metrics.roc_curve(target, scores)\n",
    "forestcover_deep_autoencoders_auc = metrics.auc(fpr, tpr)\n",
    "metrics.auc(fpr, tpr)"
   ]
  },
  {
   "cell_type": "code",
   "execution_count": 43,
   "id": "feca7f54-60e3-402f-9876-97891759d6e9",
   "metadata": {},
   "outputs": [
    {
     "name": "stdout",
     "output_type": "stream",
     "text": [
      "              precision    recall  f1-score   support\n",
      "\n",
      "           0       1.00      0.86      0.92    283301\n",
      "           1       0.05      0.81      0.10      2747\n",
      "\n",
      "    accuracy                           0.86    286048\n",
      "   macro avg       0.53      0.84      0.51    286048\n",
      "weighted avg       0.99      0.86      0.92    286048\n",
      "\n"
     ]
    }
   ],
   "source": [
    "forestcover_deep_autoencoders_report = classification_report(target, predictions, target_names = ['0','1'], output_dict = True)\n",
    "print(classification_report(target, predictions, target_names = ['0','1']))"
   ]
  },
  {
   "cell_type": "code",
   "execution_count": 44,
   "id": "1a7ccd13",
   "metadata": {},
   "outputs": [
    {
     "name": "stdout",
     "output_type": "stream",
     "text": [
      "0.09293236535045243\n"
     ]
    }
   ],
   "source": [
    "precision, recall, thresholds = precision_recall_curve(target, scores)\n",
    "forestcover_deep_ae_auc_precision_recall = metrics.auc(recall, precision)\n",
    "print(forestcover_deep_ae_auc_precision_recall)"
   ]
  },
  {
   "cell_type": "markdown",
   "id": "96e7ab52-cd86-4205-829f-82354fd330c0",
   "metadata": {
    "jp-MarkdownHeadingCollapsed": true,
    "tags": []
   },
   "source": [
    "## Annthyroid"
   ]
  },
  {
   "cell_type": "markdown",
   "id": "e90df993",
   "metadata": {},
   "source": [
    "**Dataset source**: http://odds.cs.stonybrook.edu/annthyroid-dataset/ (data is transformed from .mat to .csv format)\n",
    "\n",
    "Shebuti Rayana (2016). ODDS Library [http://odds.cs.stonybrook.edu]. Stony Brook, NY: Stony Brook University, Department of Computer Science.\n",
    "\n",
    "**Aditional sources:**\n",
    "\n",
    "Abe, Naoki, Bianca Zadrozny, and John Langford. “Outlier detection by active learning.” Proceedings of the 12th ACM SIGKDD international conference on Knowledge discovery and data mining. ACM, 2006.\n",
    "\n",
    "Liu, Fei Tony, Kai Ming Ting, and Zhi-Hua Zhou. “Isolation forest.” 2008 Eighth IEEE International Conference on Data Mining. IEEE, 2008.\n",
    "\n",
    "K. M. Ting, J. T. S. Chuan, and F. T. Liu. “Mass: A New Ranking Measure for Anomaly Detection.“, IEEE Transactions on Knowledge and Data Engineering, 2009."
   ]
  },
  {
   "cell_type": "code",
   "execution_count": 45,
   "id": "74880b01-a430-41cc-988f-647cb4ca4ff3",
   "metadata": {},
   "outputs": [],
   "source": [
    "data = pd.read_csv('./annthyroid.csv')"
   ]
  },
  {
   "cell_type": "code",
   "execution_count": 46,
   "id": "be075faf-1275-4bc7-bffb-874175a5fb4c",
   "metadata": {},
   "outputs": [
    {
     "data": {
      "text/html": [
       "<div>\n",
       "<style scoped>\n",
       "    .dataframe tbody tr th:only-of-type {\n",
       "        vertical-align: middle;\n",
       "    }\n",
       "\n",
       "    .dataframe tbody tr th {\n",
       "        vertical-align: top;\n",
       "    }\n",
       "\n",
       "    .dataframe thead th {\n",
       "        text-align: right;\n",
       "    }\n",
       "</style>\n",
       "<table border=\"1\" class=\"dataframe\">\n",
       "  <thead>\n",
       "    <tr style=\"text-align: right;\">\n",
       "      <th></th>\n",
       "      <th>Col1</th>\n",
       "      <th>Col2</th>\n",
       "      <th>Col3</th>\n",
       "      <th>Col4</th>\n",
       "      <th>Col5</th>\n",
       "      <th>Col6</th>\n",
       "      <th>y</th>\n",
       "    </tr>\n",
       "  </thead>\n",
       "  <tbody>\n",
       "    <tr>\n",
       "      <th>0</th>\n",
       "      <td>0.73</td>\n",
       "      <td>0.00060</td>\n",
       "      <td>0.015</td>\n",
       "      <td>0.120</td>\n",
       "      <td>0.082</td>\n",
       "      <td>0.146</td>\n",
       "      <td>0</td>\n",
       "    </tr>\n",
       "    <tr>\n",
       "      <th>1</th>\n",
       "      <td>0.24</td>\n",
       "      <td>0.00025</td>\n",
       "      <td>0.030</td>\n",
       "      <td>0.143</td>\n",
       "      <td>0.133</td>\n",
       "      <td>0.108</td>\n",
       "      <td>0</td>\n",
       "    </tr>\n",
       "    <tr>\n",
       "      <th>2</th>\n",
       "      <td>0.47</td>\n",
       "      <td>0.00190</td>\n",
       "      <td>0.024</td>\n",
       "      <td>0.102</td>\n",
       "      <td>0.131</td>\n",
       "      <td>0.078</td>\n",
       "      <td>0</td>\n",
       "    </tr>\n",
       "    <tr>\n",
       "      <th>3</th>\n",
       "      <td>0.64</td>\n",
       "      <td>0.00090</td>\n",
       "      <td>0.017</td>\n",
       "      <td>0.077</td>\n",
       "      <td>0.090</td>\n",
       "      <td>0.085</td>\n",
       "      <td>0</td>\n",
       "    </tr>\n",
       "    <tr>\n",
       "      <th>4</th>\n",
       "      <td>0.23</td>\n",
       "      <td>0.00025</td>\n",
       "      <td>0.026</td>\n",
       "      <td>0.139</td>\n",
       "      <td>0.090</td>\n",
       "      <td>0.153</td>\n",
       "      <td>0</td>\n",
       "    </tr>\n",
       "  </tbody>\n",
       "</table>\n",
       "</div>"
      ],
      "text/plain": [
       "   Col1     Col2   Col3   Col4   Col5   Col6  y\n",
       "0  0.73  0.00060  0.015  0.120  0.082  0.146  0\n",
       "1  0.24  0.00025  0.030  0.143  0.133  0.108  0\n",
       "2  0.47  0.00190  0.024  0.102  0.131  0.078  0\n",
       "3  0.64  0.00090  0.017  0.077  0.090  0.085  0\n",
       "4  0.23  0.00025  0.026  0.139  0.090  0.153  0"
      ]
     },
     "execution_count": 46,
     "metadata": {},
     "output_type": "execute_result"
    }
   ],
   "source": [
    "data.head()"
   ]
  },
  {
   "cell_type": "code",
   "execution_count": 47,
   "id": "f83c1dd7-907d-4135-a293-180dd4327d11",
   "metadata": {},
   "outputs": [
    {
     "data": {
      "text/plain": [
       "(7200, 7)"
      ]
     },
     "execution_count": 47,
     "metadata": {},
     "output_type": "execute_result"
    }
   ],
   "source": [
    "data.shape"
   ]
  },
  {
   "cell_type": "code",
   "execution_count": 48,
   "id": "1d67fa9a-8257-4681-8366-9a701af73c7a",
   "metadata": {},
   "outputs": [
    {
     "data": {
      "text/html": [
       "<div>\n",
       "<style scoped>\n",
       "    .dataframe tbody tr th:only-of-type {\n",
       "        vertical-align: middle;\n",
       "    }\n",
       "\n",
       "    .dataframe tbody tr th {\n",
       "        vertical-align: top;\n",
       "    }\n",
       "\n",
       "    .dataframe thead th {\n",
       "        text-align: right;\n",
       "    }\n",
       "</style>\n",
       "<table border=\"1\" class=\"dataframe\">\n",
       "  <thead>\n",
       "    <tr style=\"text-align: right;\">\n",
       "      <th></th>\n",
       "      <th>Col1</th>\n",
       "    </tr>\n",
       "    <tr>\n",
       "      <th>y</th>\n",
       "      <th></th>\n",
       "    </tr>\n",
       "  </thead>\n",
       "  <tbody>\n",
       "    <tr>\n",
       "      <th>0</th>\n",
       "      <td>6666</td>\n",
       "    </tr>\n",
       "    <tr>\n",
       "      <th>1</th>\n",
       "      <td>534</td>\n",
       "    </tr>\n",
       "  </tbody>\n",
       "</table>\n",
       "</div>"
      ],
      "text/plain": [
       "   Col1\n",
       "y      \n",
       "0  6666\n",
       "1   534"
      ]
     },
     "execution_count": 48,
     "metadata": {},
     "output_type": "execute_result"
    }
   ],
   "source": [
    "pd.pivot_table(data,\n",
    "             values = 'Col1',\n",
    "               index = 'y', \n",
    "              aggfunc = 'count')"
   ]
  },
  {
   "cell_type": "markdown",
   "id": "adedf754-f522-4c4c-924f-5f9c99cad816",
   "metadata": {
    "jp-MarkdownHeadingCollapsed": true,
    "tags": []
   },
   "source": [
    "### Deep Autoencoder"
   ]
  },
  {
   "cell_type": "code",
   "execution_count": 49,
   "id": "58f77b70-d337-4409-ada2-3e9b62d59414",
   "metadata": {},
   "outputs": [],
   "source": [
    "features = data.drop(columns = ['y'])\n",
    "target = data['y']"
   ]
  },
  {
   "cell_type": "code",
   "execution_count": 50,
   "id": "d51e8268-11c9-49f4-8ef3-ecf1c2226441",
   "metadata": {},
   "outputs": [],
   "source": [
    "# min max scale the input data\n",
    "min_max_scaler = MinMaxScaler(feature_range=(0, 1))\n",
    "x_train_scaled = min_max_scaler.fit_transform(features.copy())"
   ]
  },
  {
   "cell_type": "code",
   "execution_count": 51,
   "id": "7f2afce2-551f-4ead-9f71-89088bf5c71b",
   "metadata": {},
   "outputs": [],
   "source": [
    "class AutoEncoder(Model):\n",
    "\n",
    "    def __init__(self, output_units):\n",
    "        super().__init__()\n",
    "        self.encoder = Sequential([\n",
    "          Dense(3,input_dim = output_units, activation='sigmoid'),\n",
    "          Dropout(0.1),\n",
    "          Dense(3, activation='relu'),\n",
    "          Dropout(0.1),\n",
    "          Dense(3, activation='relu')\n",
    "        ])\n",
    "        self.decoder = Sequential([\n",
    "          Dense(3, activation='relu'),\n",
    "          Dropout(0.1),\n",
    "          Dense(3,  activation='relu'),\n",
    "          Dropout(0.1),\n",
    "          Dense(output_units, activation='sigmoid')\n",
    "        ])\n",
    "  \n",
    "    def call(self, inputs):\n",
    "        encoded = self.encoder(inputs)\n",
    "        decoded = self.decoder(encoded)\n",
    "        return decoded"
   ]
  },
  {
   "cell_type": "code",
   "execution_count": 52,
   "id": "1d6f537b-7e7e-4342-aa4f-c456a698eece",
   "metadata": {},
   "outputs": [],
   "source": [
    "def find_threshold(model, x_train_scaled):\n",
    "    reconstructions = model.predict(x_train_scaled)\n",
    "  # provides losses of individual instances\n",
    "    reconstruction_errors = tf.keras.losses.msle(reconstructions, x_train_scaled)\n",
    "  # threshold for anomaly scores\n",
    "    threshold = np.mean(reconstruction_errors.numpy()) \\\n",
    "      + np.std(reconstruction_errors.numpy())\n",
    "    return threshold\n",
    "\n",
    "def get_predictions(model, x_train_scaled, threshold):\n",
    "    predictions = model.predict(x_train_scaled)\n",
    "  # provides losses of individual instances\n",
    "    errors = tf.keras.losses.msle(predictions, x_train_scaled)\n",
    "  # 1 = anomaly, 0 = normal\n",
    "    anomaly_mask = pd.Series(errors) > threshold\n",
    "    preds = anomaly_mask.map(lambda x: 1.0 if x == True else 0.0)\n",
    "    return preds, errors"
   ]
  },
  {
   "cell_type": "code",
   "execution_count": 53,
   "id": "d2e9c596-b841-4bfa-927f-8c4ae6cb8f41",
   "metadata": {},
   "outputs": [
    {
     "name": "stdout",
     "output_type": "stream",
     "text": [
      "Epoch 1/20\n",
      "15/15 [==============================] - 1s 2ms/step - loss: 0.0671 - mse: 0.1121\n",
      "Epoch 2/20\n",
      "15/15 [==============================] - 0s 2ms/step - loss: 0.0659 - mse: 0.1098\n",
      "Epoch 3/20\n",
      "15/15 [==============================] - 0s 2ms/step - loss: 0.0647 - mse: 0.1076\n",
      "Epoch 4/20\n",
      "15/15 [==============================] - 0s 2ms/step - loss: 0.0633 - mse: 0.1051\n",
      "Epoch 5/20\n",
      "15/15 [==============================] - 0s 2ms/step - loss: 0.0617 - mse: 0.1023\n",
      "Epoch 6/20\n",
      "15/15 [==============================] - 0s 2ms/step - loss: 0.0597 - mse: 0.0991\n",
      "Epoch 7/20\n",
      "15/15 [==============================] - 0s 3ms/step - loss: 0.0574 - mse: 0.0957\n",
      "Epoch 8/20\n",
      "15/15 [==============================] - 0s 2ms/step - loss: 0.0548 - mse: 0.0921\n",
      "Epoch 9/20\n",
      "15/15 [==============================] - 0s 3ms/step - loss: 0.0522 - mse: 0.0884\n",
      "Epoch 10/20\n",
      "15/15 [==============================] - 0s 3ms/step - loss: 0.0497 - mse: 0.0843\n",
      "Epoch 11/20\n",
      "15/15 [==============================] - 0s 2ms/step - loss: 0.0472 - mse: 0.0802\n",
      "Epoch 12/20\n",
      "15/15 [==============================] - 0s 2ms/step - loss: 0.0448 - mse: 0.0763\n",
      "Epoch 13/20\n",
      "15/15 [==============================] - 0s 2ms/step - loss: 0.0425 - mse: 0.0723\n",
      "Epoch 14/20\n",
      "15/15 [==============================] - 0s 2ms/step - loss: 0.0402 - mse: 0.0683\n",
      "Epoch 15/20\n",
      "15/15 [==============================] - 0s 2ms/step - loss: 0.0379 - mse: 0.0644\n",
      "Epoch 16/20\n",
      "15/15 [==============================] - 0s 2ms/step - loss: 0.0359 - mse: 0.0608\n",
      "Epoch 17/20\n",
      "15/15 [==============================] - 0s 2ms/step - loss: 0.0339 - mse: 0.0573\n",
      "Epoch 18/20\n",
      "15/15 [==============================] - 0s 2ms/step - loss: 0.0319 - mse: 0.0538\n",
      "Epoch 19/20\n",
      "15/15 [==============================] - 0s 2ms/step - loss: 0.0301 - mse: 0.0506\n",
      "Epoch 20/20\n",
      "15/15 [==============================] - 0s 2ms/step - loss: 0.0281 - mse: 0.0471\n",
      "1.890625\n",
      "225/225 [==============================] - 0s 964us/step\n",
      "Threshold: 0.03053629603437302\n",
      "225/225 [==============================] - 0s 1ms/step\n",
      "0.8125\n"
     ]
    }
   ],
   "source": [
    "start = time.process_time()\n",
    "\n",
    "model = AutoEncoder(output_units=x_train_scaled.shape[1])\n",
    "\n",
    "model.compile(loss='msle', metrics=['mse'], optimizer='adam')\n",
    "\n",
    "history = model.fit(\n",
    "    x_train_scaled,\n",
    "    x_train_scaled,\n",
    "    epochs=20,\n",
    "    batch_size=512,\n",
    ")\n",
    "\n",
    "end = time.process_time()\n",
    "annthyroid_deep_autoencoders_train_time = end - start\n",
    "print(end - start)\n",
    "\n",
    "start = time.process_time()\n",
    "\n",
    "threshold = find_threshold(model, x_train_scaled)\n",
    "print(f\"Threshold: {threshold}\")\n",
    "\n",
    "predictions, scores = get_predictions(model, x_train_scaled, threshold)\n",
    "\n",
    "end = time.process_time()\n",
    "annthyroid_deep_autoencoders_test_time = end - start\n",
    "print(end - start)"
   ]
  },
  {
   "cell_type": "code",
   "execution_count": 54,
   "id": "176f4d12-b008-42b3-89e4-203bf8905c7f",
   "metadata": {},
   "outputs": [
    {
     "data": {
      "text/plain": [
       "array([[5942,  724],\n",
       "       [ 365,  169]], dtype=int64)"
      ]
     },
     "execution_count": 54,
     "metadata": {},
     "output_type": "execute_result"
    }
   ],
   "source": [
    "confusion_matrix(target, predictions)"
   ]
  },
  {
   "cell_type": "code",
   "execution_count": 55,
   "id": "20309f11",
   "metadata": {},
   "outputs": [
    {
     "data": {
      "text/plain": [
       "0.6818476791499375"
      ]
     },
     "execution_count": 55,
     "metadata": {},
     "output_type": "execute_result"
    }
   ],
   "source": [
    "fpr, tpr, _ = metrics.roc_curve(target, scores)\n",
    "annthyroid_deep_autoencoders_auc = metrics.auc(fpr, tpr)\n",
    "metrics.auc(fpr, tpr)"
   ]
  },
  {
   "cell_type": "code",
   "execution_count": 56,
   "id": "ffff72d9-bfb7-4601-8b35-beeb3220df90",
   "metadata": {},
   "outputs": [
    {
     "name": "stdout",
     "output_type": "stream",
     "text": [
      "              precision    recall  f1-score   support\n",
      "\n",
      "           0       0.94      0.89      0.92      6666\n",
      "           1       0.19      0.32      0.24       534\n",
      "\n",
      "    accuracy                           0.85      7200\n",
      "   macro avg       0.57      0.60      0.58      7200\n",
      "weighted avg       0.89      0.85      0.87      7200\n",
      "\n"
     ]
    }
   ],
   "source": [
    "annthyroid_deep_autoencoders_report = classification_report(target, predictions, target_names = ['0','1'], output_dict = True)\n",
    "print(classification_report(target, predictions, target_names = ['0','1']))"
   ]
  },
  {
   "cell_type": "code",
   "execution_count": 57,
   "id": "697cf6ff",
   "metadata": {},
   "outputs": [
    {
     "name": "stdout",
     "output_type": "stream",
     "text": [
      "0.19804444580417363\n"
     ]
    }
   ],
   "source": [
    "precision, recall, thresholds = precision_recall_curve(target, scores)\n",
    "annthyroid_deep_ae_auc_precision_recall = metrics.auc(recall, precision)\n",
    "print(annthyroid_deep_ae_auc_precision_recall)"
   ]
  },
  {
   "cell_type": "markdown",
   "id": "8c02c6cb-54b6-4c76-af0d-27bdcdfe0c35",
   "metadata": {
    "tags": []
   },
   "source": [
    "## Credit card"
   ]
  },
  {
   "cell_type": "markdown",
   "id": "de5eb797",
   "metadata": {},
   "source": [
    "**Dataset source**: https://www.kaggle.com/mlg-ulb/creditcardfraud\n",
    "\n",
    "**Additional sources:**\n",
    "\n",
    "Andrea Dal Pozzolo, Olivier Caelen, Reid A. Johnson and Gianluca Bontempi. Calibrating Probability with Undersampling for Unbalanced Classification. In Symposium on Computational Intelligence and Data Mining (CIDM), IEEE, 2015\n",
    "\n",
    "Dal Pozzolo, Andrea; Caelen, Olivier; Le Borgne, Yann-Ael; Waterschoot, Serge; Bontempi, Gianluca. Learned lessons in credit card fraud detection from a practitioner perspective, Expert systems with applications,41,10,4915-4928,2014, Pergamon\n",
    "\n",
    "Dal Pozzolo, Andrea; Boracchi, Giacomo; Caelen, Olivier; Alippi, Cesare; Bontempi, Gianluca. Credit card fraud detection: a realistic modeling and a novel learning strategy, IEEE transactions on neural networks and learning systems,29,8,3784-3797,2018,IEEE\n",
    "\n",
    "Dal Pozzolo, Andrea Adaptive Machine learning for credit card fraud detection ULB MLG PhD thesis (supervised by G. Bontempi)\n",
    "\n",
    "Carcillo, Fabrizio; Dal Pozzolo, Andrea; Le Borgne, Yann-Aël; Caelen, Olivier; Mazzer, Yannis; Bontempi, Gianluca. Scarff: a scalable framework for streaming credit card fraud detection with Spark, Information fusion,41, 182-194,2018,Elsevier\n",
    "\n",
    "Carcillo, Fabrizio; Le Borgne, Yann-Aël; Caelen, Olivier; Bontempi, Gianluca. Streaming active learning strategies for real-life credit card fraud detection: assessment and visualization, International Journal of Data Science and Analytics, 5,4,285-300,2018,Springer International Publishing\n",
    "\n",
    "Bertrand Lebichot, Yann-Aël Le Borgne, Liyun He, Frederic Oblé, Gianluca Bontempi Deep-Learning Domain Adaptation Techniques for Credit Cards Fraud Detection, INNSBDDL 2019: Recent Advances in Big Data and Deep Learning, pp 78-88, 2019\n",
    "\n",
    "Fabrizio Carcillo, Yann-Aël Le Borgne, Olivier Caelen, Frederic Oblé, Gianluca Bontempi Combining Unsupervised and Supervised Learning in Credit Card Fraud Detection Information Sciences, 2019\n",
    "\n",
    "Yann-Aël Le Borgne, Gianluca Bontempi Machine Learning for Credit Card Fraud Detection - Practical Handbook"
   ]
  },
  {
   "cell_type": "code",
   "execution_count": 58,
   "id": "abaad9a8-e22d-40a5-9e2b-1611697c48c8",
   "metadata": {},
   "outputs": [],
   "source": [
    "data = pd.read_csv('./creditcard.csv')"
   ]
  },
  {
   "cell_type": "code",
   "execution_count": 59,
   "id": "f805c4b2-f0cf-4b91-bd69-60bb6acf57d6",
   "metadata": {},
   "outputs": [],
   "source": [
    "data = data.drop(columns = ['Time'])"
   ]
  },
  {
   "cell_type": "code",
   "execution_count": 60,
   "id": "c53f52a7-5385-452d-b93e-0526c104f5c4",
   "metadata": {},
   "outputs": [
    {
     "data": {
      "text/plain": [
       "(284807, 30)"
      ]
     },
     "execution_count": 60,
     "metadata": {},
     "output_type": "execute_result"
    }
   ],
   "source": [
    "data.shape"
   ]
  },
  {
   "cell_type": "code",
   "execution_count": 61,
   "id": "64fd85a8",
   "metadata": {},
   "outputs": [
    {
     "data": {
      "text/html": [
       "<div>\n",
       "<style scoped>\n",
       "    .dataframe tbody tr th:only-of-type {\n",
       "        vertical-align: middle;\n",
       "    }\n",
       "\n",
       "    .dataframe tbody tr th {\n",
       "        vertical-align: top;\n",
       "    }\n",
       "\n",
       "    .dataframe thead th {\n",
       "        text-align: right;\n",
       "    }\n",
       "</style>\n",
       "<table border=\"1\" class=\"dataframe\">\n",
       "  <thead>\n",
       "    <tr style=\"text-align: right;\">\n",
       "      <th></th>\n",
       "      <th>V1</th>\n",
       "      <th>V2</th>\n",
       "      <th>V3</th>\n",
       "      <th>V4</th>\n",
       "      <th>V5</th>\n",
       "      <th>V6</th>\n",
       "      <th>V7</th>\n",
       "      <th>V8</th>\n",
       "      <th>V9</th>\n",
       "      <th>V10</th>\n",
       "      <th>...</th>\n",
       "      <th>V21</th>\n",
       "      <th>V22</th>\n",
       "      <th>V23</th>\n",
       "      <th>V24</th>\n",
       "      <th>V25</th>\n",
       "      <th>V26</th>\n",
       "      <th>V27</th>\n",
       "      <th>V28</th>\n",
       "      <th>Amount</th>\n",
       "      <th>Class</th>\n",
       "    </tr>\n",
       "  </thead>\n",
       "  <tbody>\n",
       "    <tr>\n",
       "      <th>0</th>\n",
       "      <td>-1.359807</td>\n",
       "      <td>-0.072781</td>\n",
       "      <td>2.536347</td>\n",
       "      <td>1.378155</td>\n",
       "      <td>-0.338321</td>\n",
       "      <td>0.462388</td>\n",
       "      <td>0.239599</td>\n",
       "      <td>0.098698</td>\n",
       "      <td>0.363787</td>\n",
       "      <td>0.090794</td>\n",
       "      <td>...</td>\n",
       "      <td>-0.018307</td>\n",
       "      <td>0.277838</td>\n",
       "      <td>-0.110474</td>\n",
       "      <td>0.066928</td>\n",
       "      <td>0.128539</td>\n",
       "      <td>-0.189115</td>\n",
       "      <td>0.133558</td>\n",
       "      <td>-0.021053</td>\n",
       "      <td>149.62</td>\n",
       "      <td>0</td>\n",
       "    </tr>\n",
       "    <tr>\n",
       "      <th>1</th>\n",
       "      <td>1.191857</td>\n",
       "      <td>0.266151</td>\n",
       "      <td>0.166480</td>\n",
       "      <td>0.448154</td>\n",
       "      <td>0.060018</td>\n",
       "      <td>-0.082361</td>\n",
       "      <td>-0.078803</td>\n",
       "      <td>0.085102</td>\n",
       "      <td>-0.255425</td>\n",
       "      <td>-0.166974</td>\n",
       "      <td>...</td>\n",
       "      <td>-0.225775</td>\n",
       "      <td>-0.638672</td>\n",
       "      <td>0.101288</td>\n",
       "      <td>-0.339846</td>\n",
       "      <td>0.167170</td>\n",
       "      <td>0.125895</td>\n",
       "      <td>-0.008983</td>\n",
       "      <td>0.014724</td>\n",
       "      <td>2.69</td>\n",
       "      <td>0</td>\n",
       "    </tr>\n",
       "    <tr>\n",
       "      <th>2</th>\n",
       "      <td>-1.358354</td>\n",
       "      <td>-1.340163</td>\n",
       "      <td>1.773209</td>\n",
       "      <td>0.379780</td>\n",
       "      <td>-0.503198</td>\n",
       "      <td>1.800499</td>\n",
       "      <td>0.791461</td>\n",
       "      <td>0.247676</td>\n",
       "      <td>-1.514654</td>\n",
       "      <td>0.207643</td>\n",
       "      <td>...</td>\n",
       "      <td>0.247998</td>\n",
       "      <td>0.771679</td>\n",
       "      <td>0.909412</td>\n",
       "      <td>-0.689281</td>\n",
       "      <td>-0.327642</td>\n",
       "      <td>-0.139097</td>\n",
       "      <td>-0.055353</td>\n",
       "      <td>-0.059752</td>\n",
       "      <td>378.66</td>\n",
       "      <td>0</td>\n",
       "    </tr>\n",
       "    <tr>\n",
       "      <th>3</th>\n",
       "      <td>-0.966272</td>\n",
       "      <td>-0.185226</td>\n",
       "      <td>1.792993</td>\n",
       "      <td>-0.863291</td>\n",
       "      <td>-0.010309</td>\n",
       "      <td>1.247203</td>\n",
       "      <td>0.237609</td>\n",
       "      <td>0.377436</td>\n",
       "      <td>-1.387024</td>\n",
       "      <td>-0.054952</td>\n",
       "      <td>...</td>\n",
       "      <td>-0.108300</td>\n",
       "      <td>0.005274</td>\n",
       "      <td>-0.190321</td>\n",
       "      <td>-1.175575</td>\n",
       "      <td>0.647376</td>\n",
       "      <td>-0.221929</td>\n",
       "      <td>0.062723</td>\n",
       "      <td>0.061458</td>\n",
       "      <td>123.50</td>\n",
       "      <td>0</td>\n",
       "    </tr>\n",
       "    <tr>\n",
       "      <th>4</th>\n",
       "      <td>-1.158233</td>\n",
       "      <td>0.877737</td>\n",
       "      <td>1.548718</td>\n",
       "      <td>0.403034</td>\n",
       "      <td>-0.407193</td>\n",
       "      <td>0.095921</td>\n",
       "      <td>0.592941</td>\n",
       "      <td>-0.270533</td>\n",
       "      <td>0.817739</td>\n",
       "      <td>0.753074</td>\n",
       "      <td>...</td>\n",
       "      <td>-0.009431</td>\n",
       "      <td>0.798278</td>\n",
       "      <td>-0.137458</td>\n",
       "      <td>0.141267</td>\n",
       "      <td>-0.206010</td>\n",
       "      <td>0.502292</td>\n",
       "      <td>0.219422</td>\n",
       "      <td>0.215153</td>\n",
       "      <td>69.99</td>\n",
       "      <td>0</td>\n",
       "    </tr>\n",
       "  </tbody>\n",
       "</table>\n",
       "<p>5 rows × 30 columns</p>\n",
       "</div>"
      ],
      "text/plain": [
       "         V1        V2        V3        V4        V5        V6        V7  \\\n",
       "0 -1.359807 -0.072781  2.536347  1.378155 -0.338321  0.462388  0.239599   \n",
       "1  1.191857  0.266151  0.166480  0.448154  0.060018 -0.082361 -0.078803   \n",
       "2 -1.358354 -1.340163  1.773209  0.379780 -0.503198  1.800499  0.791461   \n",
       "3 -0.966272 -0.185226  1.792993 -0.863291 -0.010309  1.247203  0.237609   \n",
       "4 -1.158233  0.877737  1.548718  0.403034 -0.407193  0.095921  0.592941   \n",
       "\n",
       "         V8        V9       V10  ...       V21       V22       V23       V24  \\\n",
       "0  0.098698  0.363787  0.090794  ... -0.018307  0.277838 -0.110474  0.066928   \n",
       "1  0.085102 -0.255425 -0.166974  ... -0.225775 -0.638672  0.101288 -0.339846   \n",
       "2  0.247676 -1.514654  0.207643  ...  0.247998  0.771679  0.909412 -0.689281   \n",
       "3  0.377436 -1.387024 -0.054952  ... -0.108300  0.005274 -0.190321 -1.175575   \n",
       "4 -0.270533  0.817739  0.753074  ... -0.009431  0.798278 -0.137458  0.141267   \n",
       "\n",
       "        V25       V26       V27       V28  Amount  Class  \n",
       "0  0.128539 -0.189115  0.133558 -0.021053  149.62      0  \n",
       "1  0.167170  0.125895 -0.008983  0.014724    2.69      0  \n",
       "2 -0.327642 -0.139097 -0.055353 -0.059752  378.66      0  \n",
       "3  0.647376 -0.221929  0.062723  0.061458  123.50      0  \n",
       "4 -0.206010  0.502292  0.219422  0.215153   69.99      0  \n",
       "\n",
       "[5 rows x 30 columns]"
      ]
     },
     "execution_count": 61,
     "metadata": {},
     "output_type": "execute_result"
    }
   ],
   "source": [
    "data.head()"
   ]
  },
  {
   "cell_type": "code",
   "execution_count": 62,
   "id": "ff70cce9",
   "metadata": {},
   "outputs": [
    {
     "data": {
      "text/html": [
       "<div>\n",
       "<style scoped>\n",
       "    .dataframe tbody tr th:only-of-type {\n",
       "        vertical-align: middle;\n",
       "    }\n",
       "\n",
       "    .dataframe tbody tr th {\n",
       "        vertical-align: top;\n",
       "    }\n",
       "\n",
       "    .dataframe thead th {\n",
       "        text-align: right;\n",
       "    }\n",
       "</style>\n",
       "<table border=\"1\" class=\"dataframe\">\n",
       "  <thead>\n",
       "    <tr style=\"text-align: right;\">\n",
       "      <th></th>\n",
       "      <th>V1</th>\n",
       "    </tr>\n",
       "    <tr>\n",
       "      <th>Class</th>\n",
       "      <th></th>\n",
       "    </tr>\n",
       "  </thead>\n",
       "  <tbody>\n",
       "    <tr>\n",
       "      <th>0</th>\n",
       "      <td>284315</td>\n",
       "    </tr>\n",
       "    <tr>\n",
       "      <th>1</th>\n",
       "      <td>492</td>\n",
       "    </tr>\n",
       "  </tbody>\n",
       "</table>\n",
       "</div>"
      ],
      "text/plain": [
       "           V1\n",
       "Class        \n",
       "0      284315\n",
       "1         492"
      ]
     },
     "execution_count": 62,
     "metadata": {},
     "output_type": "execute_result"
    }
   ],
   "source": [
    "pd.pivot_table(data,\n",
    "             values = 'V1',\n",
    "               index = 'Class', \n",
    "              aggfunc = 'count')"
   ]
  },
  {
   "cell_type": "markdown",
   "id": "1febd6f5",
   "metadata": {
    "jp-MarkdownHeadingCollapsed": true,
    "tags": []
   },
   "source": [
    "### Deep Autoencoder"
   ]
  },
  {
   "cell_type": "code",
   "execution_count": 63,
   "id": "3442a433",
   "metadata": {},
   "outputs": [],
   "source": [
    "features = data.drop(columns = ['Class'])\n",
    "target = data['Class']"
   ]
  },
  {
   "cell_type": "code",
   "execution_count": 64,
   "id": "21e9b3fd",
   "metadata": {},
   "outputs": [],
   "source": [
    "# min max scale the input data\n",
    "min_max_scaler = MinMaxScaler(feature_range=(0, 1))\n",
    "x_train_scaled = min_max_scaler.fit_transform(features.copy())"
   ]
  },
  {
   "cell_type": "code",
   "execution_count": 65,
   "id": "7a710105",
   "metadata": {},
   "outputs": [],
   "source": [
    "class AutoEncoder(Model):\n",
    "\n",
    "    def __init__(self, output_units):\n",
    "        super().__init__()\n",
    "        self.encoder = Sequential([\n",
    "          Dense(14,input_dim = output_units, activation='sigmoid'),\n",
    "          Dropout(0.1),\n",
    "          Dense(7, activation='relu'),\n",
    "          Dropout(0.1),\n",
    "          Dense(3, activation='relu')\n",
    "        ])\n",
    "        self.decoder = Sequential([\n",
    "          Dense(7, activation='relu'),\n",
    "          Dropout(0.1),\n",
    "          Dense(14,  activation='relu'),\n",
    "          Dropout(0.1),\n",
    "          Dense(output_units, activation='sigmoid')\n",
    "        ])\n",
    "    def call(self, inputs):\n",
    "        encoded = self.encoder(inputs)\n",
    "        decoded = self.decoder(encoded)\n",
    "        return decoded"
   ]
  },
  {
   "cell_type": "code",
   "execution_count": 66,
   "id": "d95530a0",
   "metadata": {},
   "outputs": [],
   "source": [
    "def find_threshold(model, x_train_scaled):\n",
    "    reconstructions = model.predict(x_train_scaled)\n",
    "  # provides losses of individual instances\n",
    "    reconstruction_errors = tf.keras.losses.msle(reconstructions, x_train_scaled)\n",
    "  # threshold for anomaly scores\n",
    "    threshold = np.mean(reconstruction_errors.numpy()) \\\n",
    "      + np.std(reconstruction_errors.numpy()) \n",
    "    return threshold\n",
    "\n",
    "def get_predictions(model, x_train_scaled, threshold):\n",
    "    predictions = model.predict(x_train_scaled)\n",
    "  # provides losses of individual instances\n",
    "    errors = tf.keras.losses.msle(predictions, x_train_scaled)\n",
    "  # 1 = anomaly, 0 = normal\n",
    "    anomaly_mask = pd.Series(errors) > threshold\n",
    "    preds = anomaly_mask.map(lambda x: 1.0 if x == True else 0.0)\n",
    "    return preds, errors"
   ]
  },
  {
   "cell_type": "code",
   "execution_count": 67,
   "id": "b86bd5e9",
   "metadata": {},
   "outputs": [
    {
     "name": "stdout",
     "output_type": "stream",
     "text": [
      "Epoch 1/20\n",
      "557/557 [==============================] - 2s 3ms/step - loss: 0.0040 - mse: 0.0086\n",
      "Epoch 2/20\n",
      "557/557 [==============================] - 2s 3ms/step - loss: 0.0010 - mse: 0.0021\n",
      "Epoch 3/20\n",
      "557/557 [==============================] - 2s 3ms/step - loss: 9.3621e-04 - mse: 0.0019\n",
      "Epoch 4/20\n",
      "557/557 [==============================] - 2s 3ms/step - loss: 9.1333e-04 - mse: 0.0019\n",
      "Epoch 5/20\n",
      "557/557 [==============================] - 2s 3ms/step - loss: 8.9781e-04 - mse: 0.0019\n",
      "Epoch 6/20\n",
      "557/557 [==============================] - 1s 3ms/step - loss: 8.8407e-04 - mse: 0.0018\n",
      "Epoch 7/20\n",
      "557/557 [==============================] - 2s 3ms/step - loss: 8.7150e-04 - mse: 0.0018\n",
      "Epoch 8/20\n",
      "557/557 [==============================] - 2s 3ms/step - loss: 8.4945e-04 - mse: 0.0018\n",
      "Epoch 9/20\n",
      "557/557 [==============================] - 2s 3ms/step - loss: 8.0267e-04 - mse: 0.0017\n",
      "Epoch 10/20\n",
      "557/557 [==============================] - 2s 3ms/step - loss: 7.8179e-04 - mse: 0.0016\n",
      "Epoch 11/20\n",
      "557/557 [==============================] - 2s 3ms/step - loss: 7.6412e-04 - mse: 0.0016\n",
      "Epoch 12/20\n",
      "557/557 [==============================] - 2s 3ms/step - loss: 7.4803e-04 - mse: 0.0016\n",
      "Epoch 13/20\n",
      "557/557 [==============================] - 1s 3ms/step - loss: 7.3736e-04 - mse: 0.0015\n",
      "Epoch 14/20\n",
      "557/557 [==============================] - 2s 3ms/step - loss: 7.2953e-04 - mse: 0.0015\n",
      "Epoch 15/20\n",
      "557/557 [==============================] - 2s 3ms/step - loss: 7.2367e-04 - mse: 0.0015\n",
      "Epoch 16/20\n",
      "557/557 [==============================] - 2s 3ms/step - loss: 7.1995e-04 - mse: 0.0015\n",
      "Epoch 17/20\n",
      "557/557 [==============================] - 1s 3ms/step - loss: 7.1781e-04 - mse: 0.0015\n",
      "Epoch 18/20\n",
      "557/557 [==============================] - 2s 3ms/step - loss: 7.1576e-04 - mse: 0.0015\n",
      "Epoch 19/20\n",
      "557/557 [==============================] - 2s 3ms/step - loss: 7.1346e-04 - mse: 0.0015\n",
      "Epoch 20/20\n",
      "557/557 [==============================] - 2s 3ms/step - loss: 7.1170e-04 - mse: 0.0015\n",
      "50.9375\n",
      "8901/8901 [==============================] - 9s 1ms/step\n",
      "Threshold: 0.0016509321046353997\n",
      "8901/8901 [==============================] - 9s 991us/step\n",
      "26.21875\n"
     ]
    }
   ],
   "source": [
    "start = time.process_time()\n",
    "\n",
    "model = AutoEncoder(output_units=x_train_scaled.shape[1])\n",
    "\n",
    "model.compile(loss='msle', metrics=['mse'], optimizer='adam')\n",
    "\n",
    "history = model.fit(\n",
    "    x_train_scaled,\n",
    "    x_train_scaled,\n",
    "    epochs=20,\n",
    "    batch_size=512,\n",
    ")\n",
    "\n",
    "end = time.process_time()\n",
    "creditcard_deep_autoencoders_train_time = end - start\n",
    "print(end - start)\n",
    "\n",
    "start = time.process_time()\n",
    "\n",
    "threshold = find_threshold(model, x_train_scaled)\n",
    "print(f\"Threshold: {threshold}\")\n",
    "\n",
    "predictions, scores = get_predictions(model, x_train_scaled, threshold)\n",
    "\n",
    "#end = time.process_time()\n",
    "end = time.process_time()\n",
    "creditcard_deep_autoencoders_test_time = end - start\n",
    "print(end - start)"
   ]
  },
  {
   "cell_type": "code",
   "execution_count": 68,
   "id": "fd64278e",
   "metadata": {},
   "outputs": [
    {
     "data": {
      "text/plain": [
       "array([[272342,  11973],\n",
       "       [    75,    417]], dtype=int64)"
      ]
     },
     "execution_count": 68,
     "metadata": {},
     "output_type": "execute_result"
    }
   ],
   "source": [
    "confusion_matrix(target, predictions)"
   ]
  },
  {
   "cell_type": "code",
   "execution_count": 69,
   "id": "812027d0",
   "metadata": {},
   "outputs": [
    {
     "data": {
      "text/plain": [
       "0.9516381263824948"
      ]
     },
     "execution_count": 69,
     "metadata": {},
     "output_type": "execute_result"
    }
   ],
   "source": [
    "fpr, tpr, _ = metrics.roc_curve(target, scores)\n",
    "creditcard_deep_autoencoders_auc = metrics.auc(fpr, tpr)\n",
    "metrics.auc(fpr, tpr)"
   ]
  },
  {
   "cell_type": "code",
   "execution_count": 70,
   "id": "df72d237",
   "metadata": {},
   "outputs": [
    {
     "name": "stdout",
     "output_type": "stream",
     "text": [
      "              precision    recall  f1-score   support\n",
      "\n",
      "           0       1.00      0.96      0.98    284315\n",
      "           1       0.03      0.85      0.06       492\n",
      "\n",
      "    accuracy                           0.96    284807\n",
      "   macro avg       0.52      0.90      0.52    284807\n",
      "weighted avg       1.00      0.96      0.98    284807\n",
      "\n"
     ]
    }
   ],
   "source": [
    "creditcard_deep_autoencoders_report = classification_report(target, predictions, target_names = ['0','1'], output_dict = True)\n",
    "print(classification_report(target, predictions, target_names = ['0','1']))"
   ]
  },
  {
   "cell_type": "code",
   "execution_count": 71,
   "id": "8bf22a5d",
   "metadata": {},
   "outputs": [
    {
     "name": "stdout",
     "output_type": "stream",
     "text": [
      "0.4081568874565893\n"
     ]
    }
   ],
   "source": [
    "precision, recall, thresholds = precision_recall_curve(target, scores)\n",
    "creditcard_deep_ae_auc_precision_recall = metrics.auc(recall, precision)\n",
    "print(creditcard_deep_ae_auc_precision_recall)"
   ]
  },
  {
   "cell_type": "markdown",
   "id": "03cd6004",
   "metadata": {
    "jp-MarkdownHeadingCollapsed": true,
    "tags": []
   },
   "source": [
    "## Mammography"
   ]
  },
  {
   "cell_type": "markdown",
   "id": "df41de4e",
   "metadata": {},
   "source": [
    "**Dataset source**: http://odds.cs.stonybrook.edu/mammography-dataset/ (data is transformed from .mat to .csv format)\n",
    "\n",
    "Shebuti Rayana (2016). ODDS Library [http://odds.cs.stonybrook.edu]. Stony Brook, NY: Stony Brook University, Department of Computer Science.\n",
    "\n",
    "**Additional sources:**\n",
    "\n",
    "Abe, Naoki, Bianca Zadrozny, and John Langford. “Outlier detection by active learning.” Proceedings of the 12th ACM SIGKDD international conference on Knowledge discovery and data mining. ACM, 2006.\n",
    "\n",
    "Liu, Fei Tony, Kai Ming Ting, and Zhi-Hua Zhou. “Isolation forest.” 2008 Eighth IEEE International Conference on Data Mining. IEEE, 2008.\n",
    "\n",
    "K. M. Ting, J. T. S. Chuan, and F. T. Liu. “Mass: A New Ranking Measure for Anomaly Detection.“, IEEE Transactions on Knowledge and Data Engineering, 2009."
   ]
  },
  {
   "cell_type": "code",
   "execution_count": 72,
   "id": "2fa86495-b3c3-420b-9869-e218b46ddddd",
   "metadata": {},
   "outputs": [],
   "source": [
    "data = pd.read_csv('./mammography.csv')"
   ]
  },
  {
   "cell_type": "code",
   "execution_count": 73,
   "id": "9903d321-6749-4ad3-a74f-5a36ad1922ac",
   "metadata": {},
   "outputs": [
    {
     "data": {
      "text/html": [
       "<div>\n",
       "<style scoped>\n",
       "    .dataframe tbody tr th:only-of-type {\n",
       "        vertical-align: middle;\n",
       "    }\n",
       "\n",
       "    .dataframe tbody tr th {\n",
       "        vertical-align: top;\n",
       "    }\n",
       "\n",
       "    .dataframe thead th {\n",
       "        text-align: right;\n",
       "    }\n",
       "</style>\n",
       "<table border=\"1\" class=\"dataframe\">\n",
       "  <thead>\n",
       "    <tr style=\"text-align: right;\">\n",
       "      <th></th>\n",
       "      <th>Col1</th>\n",
       "      <th>Col2</th>\n",
       "      <th>Col3</th>\n",
       "      <th>Col4</th>\n",
       "      <th>Col5</th>\n",
       "      <th>Col6</th>\n",
       "      <th>y</th>\n",
       "    </tr>\n",
       "  </thead>\n",
       "  <tbody>\n",
       "    <tr>\n",
       "      <th>0</th>\n",
       "      <td>0.230020</td>\n",
       "      <td>5.072578</td>\n",
       "      <td>-0.276061</td>\n",
       "      <td>0.832444</td>\n",
       "      <td>-0.377866</td>\n",
       "      <td>0.480322</td>\n",
       "      <td>0</td>\n",
       "    </tr>\n",
       "    <tr>\n",
       "      <th>1</th>\n",
       "      <td>0.155491</td>\n",
       "      <td>-0.169390</td>\n",
       "      <td>0.670652</td>\n",
       "      <td>-0.859553</td>\n",
       "      <td>-0.377866</td>\n",
       "      <td>-0.945723</td>\n",
       "      <td>0</td>\n",
       "    </tr>\n",
       "    <tr>\n",
       "      <th>2</th>\n",
       "      <td>-0.784415</td>\n",
       "      <td>-0.443654</td>\n",
       "      <td>5.674705</td>\n",
       "      <td>-0.859553</td>\n",
       "      <td>-0.377866</td>\n",
       "      <td>-0.945723</td>\n",
       "      <td>0</td>\n",
       "    </tr>\n",
       "    <tr>\n",
       "      <th>3</th>\n",
       "      <td>0.546088</td>\n",
       "      <td>0.131415</td>\n",
       "      <td>-0.456387</td>\n",
       "      <td>-0.859553</td>\n",
       "      <td>-0.377866</td>\n",
       "      <td>-0.945723</td>\n",
       "      <td>0</td>\n",
       "    </tr>\n",
       "    <tr>\n",
       "      <th>4</th>\n",
       "      <td>-0.102987</td>\n",
       "      <td>-0.394994</td>\n",
       "      <td>-0.140816</td>\n",
       "      <td>0.979703</td>\n",
       "      <td>-0.377866</td>\n",
       "      <td>1.013566</td>\n",
       "      <td>0</td>\n",
       "    </tr>\n",
       "  </tbody>\n",
       "</table>\n",
       "</div>"
      ],
      "text/plain": [
       "       Col1      Col2      Col3      Col4      Col5      Col6  y\n",
       "0  0.230020  5.072578 -0.276061  0.832444 -0.377866  0.480322  0\n",
       "1  0.155491 -0.169390  0.670652 -0.859553 -0.377866 -0.945723  0\n",
       "2 -0.784415 -0.443654  5.674705 -0.859553 -0.377866 -0.945723  0\n",
       "3  0.546088  0.131415 -0.456387 -0.859553 -0.377866 -0.945723  0\n",
       "4 -0.102987 -0.394994 -0.140816  0.979703 -0.377866  1.013566  0"
      ]
     },
     "execution_count": 73,
     "metadata": {},
     "output_type": "execute_result"
    }
   ],
   "source": [
    "data.head()"
   ]
  },
  {
   "cell_type": "code",
   "execution_count": 74,
   "id": "8e43cae7-bae2-4513-8a6b-1d1fc1767200",
   "metadata": {},
   "outputs": [
    {
     "data": {
      "text/html": [
       "<div>\n",
       "<style scoped>\n",
       "    .dataframe tbody tr th:only-of-type {\n",
       "        vertical-align: middle;\n",
       "    }\n",
       "\n",
       "    .dataframe tbody tr th {\n",
       "        vertical-align: top;\n",
       "    }\n",
       "\n",
       "    .dataframe thead th {\n",
       "        text-align: right;\n",
       "    }\n",
       "</style>\n",
       "<table border=\"1\" class=\"dataframe\">\n",
       "  <thead>\n",
       "    <tr style=\"text-align: right;\">\n",
       "      <th></th>\n",
       "      <th>Col1</th>\n",
       "    </tr>\n",
       "    <tr>\n",
       "      <th>y</th>\n",
       "      <th></th>\n",
       "    </tr>\n",
       "  </thead>\n",
       "  <tbody>\n",
       "    <tr>\n",
       "      <th>0</th>\n",
       "      <td>10923</td>\n",
       "    </tr>\n",
       "    <tr>\n",
       "      <th>1</th>\n",
       "      <td>260</td>\n",
       "    </tr>\n",
       "  </tbody>\n",
       "</table>\n",
       "</div>"
      ],
      "text/plain": [
       "    Col1\n",
       "y       \n",
       "0  10923\n",
       "1    260"
      ]
     },
     "execution_count": 74,
     "metadata": {},
     "output_type": "execute_result"
    }
   ],
   "source": [
    "pd.pivot_table(data,\n",
    "             values = 'Col1',\n",
    "               index = 'y', \n",
    "              aggfunc = 'count')"
   ]
  },
  {
   "cell_type": "code",
   "execution_count": 75,
   "id": "67a6e1ef",
   "metadata": {},
   "outputs": [
    {
     "data": {
      "text/plain": [
       "(11183, 7)"
      ]
     },
     "execution_count": 75,
     "metadata": {},
     "output_type": "execute_result"
    }
   ],
   "source": [
    "data.shape"
   ]
  },
  {
   "cell_type": "markdown",
   "id": "64a894e8",
   "metadata": {
    "jp-MarkdownHeadingCollapsed": true,
    "tags": []
   },
   "source": [
    "### Deep Autoencoder"
   ]
  },
  {
   "cell_type": "code",
   "execution_count": 76,
   "id": "a50b9a26",
   "metadata": {},
   "outputs": [],
   "source": [
    "features = data.drop(columns = ['y'])\n",
    "target = data['y']"
   ]
  },
  {
   "cell_type": "code",
   "execution_count": 77,
   "id": "c33c148b",
   "metadata": {},
   "outputs": [],
   "source": [
    "# min max scale the input data\n",
    "min_max_scaler = MinMaxScaler(feature_range=(0, 1))\n",
    "x_train_scaled = min_max_scaler.fit_transform(features.copy())"
   ]
  },
  {
   "cell_type": "code",
   "execution_count": 78,
   "id": "94a173b6",
   "metadata": {},
   "outputs": [],
   "source": [
    "class AutoEncoder(Model):\n",
    "\n",
    "    def __init__(self, output_units):\n",
    "        super().__init__()\n",
    "        self.encoder = Sequential([\n",
    "          Dense(3,input_dim = output_units, activation='sigmoid'),\n",
    "          Dropout(0.1),\n",
    "          Dense(3, activation='relu'),\n",
    "          Dropout(0.1),\n",
    "          Dense(3, activation='relu')\n",
    "        ])\n",
    "        self.decoder = Sequential([\n",
    "          Dense(3, activation='relu'),\n",
    "          Dropout(0.1),\n",
    "          Dense(3,  activation='relu'),\n",
    "          Dropout(0.1),\n",
    "          Dense(output_units, activation='sigmoid')\n",
    "        ])\n",
    "  \n",
    "    def call(self, inputs):\n",
    "        encoded = self.encoder(inputs)\n",
    "        decoded = self.decoder(encoded)\n",
    "        return decoded"
   ]
  },
  {
   "cell_type": "code",
   "execution_count": 79,
   "id": "0271e794",
   "metadata": {},
   "outputs": [],
   "source": [
    "def find_threshold(model, x_train_scaled):\n",
    "    reconstructions = model.predict(x_train_scaled)\n",
    "  # provides losses of individual instances\n",
    "    reconstruction_errors = tf.keras.losses.msle(reconstructions, x_train_scaled)\n",
    "  # threshold for anomaly scores\n",
    "    threshold = np.mean(reconstruction_errors.numpy()) \\\n",
    "      + np.std(reconstruction_errors.numpy())\n",
    "    return threshold\n",
    "\n",
    "def get_predictions(model, x_train_scaled, threshold):\n",
    "    predictions = model.predict(x_train_scaled)\n",
    "  # provides losses of individual instances\n",
    "    errors = tf.keras.losses.msle(predictions, x_train_scaled)\n",
    "  # 1 = anomaly, 0 = normal\n",
    "    anomaly_mask = pd.Series(errors) > threshold\n",
    "    preds = anomaly_mask.map(lambda x: 1.0 if x == True else 0.0)\n",
    "    return preds, errors"
   ]
  },
  {
   "cell_type": "code",
   "execution_count": 80,
   "id": "26728e23",
   "metadata": {},
   "outputs": [
    {
     "name": "stdout",
     "output_type": "stream",
     "text": [
      "Epoch 1/20\n",
      "22/22 [==============================] - 1s 2ms/step - loss: 0.1306 - mse: 0.2037\n",
      "Epoch 2/20\n",
      "22/22 [==============================] - 0s 2ms/step - loss: 0.1281 - mse: 0.1991\n",
      "Epoch 3/20\n",
      "22/22 [==============================] - 0s 2ms/step - loss: 0.1256 - mse: 0.1946\n",
      "Epoch 4/20\n",
      "22/22 [==============================] - 0s 2ms/step - loss: 0.1228 - mse: 0.1895\n",
      "Epoch 5/20\n",
      "22/22 [==============================] - 0s 2ms/step - loss: 0.1183 - mse: 0.1820\n",
      "Epoch 6/20\n",
      "22/22 [==============================] - 0s 2ms/step - loss: 0.1122 - mse: 0.1724\n",
      "Epoch 7/20\n",
      "22/22 [==============================] - 0s 2ms/step - loss: 0.1053 - mse: 0.1620\n",
      "Epoch 8/20\n",
      "22/22 [==============================] - 0s 2ms/step - loss: 0.0982 - mse: 0.1516\n",
      "Epoch 9/20\n",
      "22/22 [==============================] - 0s 2ms/step - loss: 0.0912 - mse: 0.1414\n",
      "Epoch 10/20\n",
      "22/22 [==============================] - 0s 2ms/step - loss: 0.0846 - mse: 0.1317\n",
      "Epoch 11/20\n",
      "22/22 [==============================] - 0s 2ms/step - loss: 0.0785 - mse: 0.1223\n",
      "Epoch 12/20\n",
      "22/22 [==============================] - 0s 2ms/step - loss: 0.0726 - mse: 0.1131\n",
      "Epoch 13/20\n",
      "22/22 [==============================] - 0s 2ms/step - loss: 0.0672 - mse: 0.1046\n",
      "Epoch 14/20\n",
      "22/22 [==============================] - 0s 2ms/step - loss: 0.0620 - mse: 0.0962\n",
      "Epoch 15/20\n",
      "22/22 [==============================] - 0s 2ms/step - loss: 0.0569 - mse: 0.0881\n",
      "Epoch 16/20\n",
      "22/22 [==============================] - 0s 2ms/step - loss: 0.0520 - mse: 0.0802\n",
      "Epoch 17/20\n",
      "22/22 [==============================] - 0s 2ms/step - loss: 0.0474 - mse: 0.0729\n",
      "Epoch 18/20\n",
      "22/22 [==============================] - 0s 2ms/step - loss: 0.0424 - mse: 0.0652\n",
      "Epoch 19/20\n",
      "22/22 [==============================] - 0s 2ms/step - loss: 0.0380 - mse: 0.0585\n",
      "Epoch 20/20\n",
      "22/22 [==============================] - 0s 2ms/step - loss: 0.0339 - mse: 0.0523\n",
      "1.828125\n",
      "350/350 [==============================] - 0s 999us/step\n",
      "Threshold: 0.038420574694002355\n",
      "350/350 [==============================] - 0s 1ms/step\n",
      "1.171875\n"
     ]
    }
   ],
   "source": [
    "start = time.process_time()\n",
    "\n",
    "model = AutoEncoder(output_units=x_train_scaled.shape[1])\n",
    "\n",
    "model.compile(loss='msle', metrics=['mse'], optimizer='adam')\n",
    "\n",
    "history = model.fit(\n",
    "    x_train_scaled,\n",
    "    x_train_scaled,\n",
    "    epochs=20,\n",
    "    batch_size=512,\n",
    ")\n",
    "\n",
    "end = time.process_time()\n",
    "mammography_deep_autoencoders_train_time = end - start\n",
    "print(end - start)\n",
    "\n",
    "start = time.process_time()\n",
    "\n",
    "threshold = find_threshold(model, x_train_scaled)\n",
    "print(f\"Threshold: {threshold}\")\n",
    "\n",
    "predictions, scores = get_predictions(model, x_train_scaled, threshold)\n",
    "\n",
    "end = time.process_time()\n",
    "mammography_deep_autoencoders_test_time = end - start\n",
    "print(end - start)"
   ]
  },
  {
   "cell_type": "code",
   "execution_count": 81,
   "id": "36914df8",
   "metadata": {},
   "outputs": [
    {
     "data": {
      "text/plain": [
       "array([[9645, 1278],\n",
       "       [  50,  210]], dtype=int64)"
      ]
     },
     "execution_count": 81,
     "metadata": {},
     "output_type": "execute_result"
    }
   ],
   "source": [
    "confusion_matrix(target, predictions)"
   ]
  },
  {
   "cell_type": "code",
   "execution_count": 82,
   "id": "24c9daf8",
   "metadata": {},
   "outputs": [
    {
     "data": {
      "text/plain": [
       "0.881576278706188"
      ]
     },
     "execution_count": 82,
     "metadata": {},
     "output_type": "execute_result"
    }
   ],
   "source": [
    "fpr, tpr, _ = metrics.roc_curve(target, scores)\n",
    "mammography_deep_autoencoders_auc = metrics.auc(fpr, tpr)\n",
    "metrics.auc(fpr, tpr)"
   ]
  },
  {
   "cell_type": "code",
   "execution_count": 83,
   "id": "8bbbb70f",
   "metadata": {},
   "outputs": [
    {
     "name": "stdout",
     "output_type": "stream",
     "text": [
      "              precision    recall  f1-score   support\n",
      "\n",
      "           0       0.99      0.88      0.94     10923\n",
      "           1       0.14      0.81      0.24       260\n",
      "\n",
      "    accuracy                           0.88     11183\n",
      "   macro avg       0.57      0.85      0.59     11183\n",
      "weighted avg       0.97      0.88      0.92     11183\n",
      "\n"
     ]
    }
   ],
   "source": [
    "mammography_deep_autoencoders_report = classification_report(target, predictions, target_names = ['0','1'], output_dict = True)\n",
    "print(classification_report(target, predictions, target_names = ['0','1']))"
   ]
  },
  {
   "cell_type": "code",
   "execution_count": 84,
   "id": "1e9f11fd",
   "metadata": {},
   "outputs": [
    {
     "name": "stdout",
     "output_type": "stream",
     "text": [
      "0.18556587877781144\n"
     ]
    }
   ],
   "source": [
    "precision, recall, thresholds = precision_recall_curve(target, scores)\n",
    "mammography_deep_ae_auc_precision_recall = metrics.auc(recall, precision)\n",
    "print(mammography_deep_ae_auc_precision_recall)"
   ]
  },
  {
   "cell_type": "markdown",
   "id": "74377696-aba0-4a6a-b9f5-620f26843c9d",
   "metadata": {
    "jp-MarkdownHeadingCollapsed": true,
    "tags": []
   },
   "source": [
    "## Shuttle"
   ]
  },
  {
   "cell_type": "markdown",
   "id": "27a3bec4",
   "metadata": {},
   "source": [
    "**Dataset source**: http://odds.cs.stonybrook.edu/shuttle-dataset/ (data is transformed from .mat to .csv format)\n",
    "\n",
    "Shebuti Rayana (2016). ODDS Library [http://odds.cs.stonybrook.edu]. Stony Brook, NY: Stony Brook University, Department of Computer Science.\n",
    "\n",
    "**Additional sources:**\n",
    "\n",
    "Abe, Naoki, Bianca Zadrozny, and John Langford. “Outlier detection by active learning.” Proceedings of the 12th ACM SIGKDD international conference on Knowledge discovery and data mining. ACM, 2006.\n",
    "\n",
    "Liu, Fei Tony, Kai Ming Ting, and Zhi-Hua Zhou. “Isolation forest.” 2008 Eighth IEEE International Conference on Data Mining. IEEE, 2008.\n",
    "\n",
    "K. M. Ting, J. T. S. Chuan, and F. T. Liu. “Mass: A New Ranking Measure for Anomaly Detection.“, IEEE Transactions on Knowledge and Data Engineering, 2009.\n",
    "\n",
    "Kai Ming Ting, Guang-Tong Zhou, Fei Tony Liu & Tan Swee Chuan. (2010). Mass Estimation and Its Applications. Proceedings of The 16th ACM SIGKDD Conference on Knowledge Discovery and Data Mining 2010. pp. 989-998.\n",
    "\n",
    "Swee Chuan Tan, Kai Ming Ting & Fei Tony Liu. (2011). Fast Anomaly Detection for Streaming Data. Proceedings of the International Joint Conference on Artificial Intelligence 2011. pp.1151-1156."
   ]
  },
  {
   "cell_type": "code",
   "execution_count": 85,
   "id": "a424b386-3e5e-49d5-bf08-d4da0ac643d7",
   "metadata": {},
   "outputs": [],
   "source": [
    "data = pd.read_csv('./shuttle.csv', sep = ',')"
   ]
  },
  {
   "cell_type": "code",
   "execution_count": 86,
   "id": "b4ecddb9-b1c1-4601-a92b-8219448586d9",
   "metadata": {},
   "outputs": [
    {
     "data": {
      "text/html": [
       "<div>\n",
       "<style scoped>\n",
       "    .dataframe tbody tr th:only-of-type {\n",
       "        vertical-align: middle;\n",
       "    }\n",
       "\n",
       "    .dataframe tbody tr th {\n",
       "        vertical-align: top;\n",
       "    }\n",
       "\n",
       "    .dataframe thead th {\n",
       "        text-align: right;\n",
       "    }\n",
       "</style>\n",
       "<table border=\"1\" class=\"dataframe\">\n",
       "  <thead>\n",
       "    <tr style=\"text-align: right;\">\n",
       "      <th></th>\n",
       "      <th>Col1</th>\n",
       "      <th>Col2</th>\n",
       "      <th>Col3</th>\n",
       "      <th>Col4</th>\n",
       "      <th>Col5</th>\n",
       "      <th>Col6</th>\n",
       "      <th>Col7</th>\n",
       "      <th>Col8</th>\n",
       "      <th>Col9</th>\n",
       "      <th>y</th>\n",
       "    </tr>\n",
       "  </thead>\n",
       "  <tbody>\n",
       "    <tr>\n",
       "      <th>0</th>\n",
       "      <td>50</td>\n",
       "      <td>21</td>\n",
       "      <td>77</td>\n",
       "      <td>0</td>\n",
       "      <td>28</td>\n",
       "      <td>0</td>\n",
       "      <td>27</td>\n",
       "      <td>48</td>\n",
       "      <td>22</td>\n",
       "      <td>1</td>\n",
       "    </tr>\n",
       "    <tr>\n",
       "      <th>1</th>\n",
       "      <td>53</td>\n",
       "      <td>0</td>\n",
       "      <td>82</td>\n",
       "      <td>0</td>\n",
       "      <td>52</td>\n",
       "      <td>-5</td>\n",
       "      <td>29</td>\n",
       "      <td>30</td>\n",
       "      <td>2</td>\n",
       "      <td>0</td>\n",
       "    </tr>\n",
       "    <tr>\n",
       "      <th>2</th>\n",
       "      <td>37</td>\n",
       "      <td>0</td>\n",
       "      <td>76</td>\n",
       "      <td>0</td>\n",
       "      <td>28</td>\n",
       "      <td>18</td>\n",
       "      <td>40</td>\n",
       "      <td>48</td>\n",
       "      <td>8</td>\n",
       "      <td>0</td>\n",
       "    </tr>\n",
       "    <tr>\n",
       "      <th>3</th>\n",
       "      <td>37</td>\n",
       "      <td>0</td>\n",
       "      <td>79</td>\n",
       "      <td>0</td>\n",
       "      <td>34</td>\n",
       "      <td>-26</td>\n",
       "      <td>43</td>\n",
       "      <td>46</td>\n",
       "      <td>2</td>\n",
       "      <td>0</td>\n",
       "    </tr>\n",
       "    <tr>\n",
       "      <th>4</th>\n",
       "      <td>85</td>\n",
       "      <td>0</td>\n",
       "      <td>88</td>\n",
       "      <td>-4</td>\n",
       "      <td>6</td>\n",
       "      <td>1</td>\n",
       "      <td>3</td>\n",
       "      <td>83</td>\n",
       "      <td>80</td>\n",
       "      <td>1</td>\n",
       "    </tr>\n",
       "  </tbody>\n",
       "</table>\n",
       "</div>"
      ],
      "text/plain": [
       "   Col1  Col2  Col3  Col4  Col5  Col6  Col7  Col8  Col9  y\n",
       "0    50    21    77     0    28     0    27    48    22  1\n",
       "1    53     0    82     0    52    -5    29    30     2  0\n",
       "2    37     0    76     0    28    18    40    48     8  0\n",
       "3    37     0    79     0    34   -26    43    46     2  0\n",
       "4    85     0    88    -4     6     1     3    83    80  1"
      ]
     },
     "execution_count": 86,
     "metadata": {},
     "output_type": "execute_result"
    }
   ],
   "source": [
    "data.head()"
   ]
  },
  {
   "cell_type": "code",
   "execution_count": 87,
   "id": "94d4c917",
   "metadata": {},
   "outputs": [
    {
     "data": {
      "text/plain": [
       "(49097, 10)"
      ]
     },
     "execution_count": 87,
     "metadata": {},
     "output_type": "execute_result"
    }
   ],
   "source": [
    "data.shape"
   ]
  },
  {
   "cell_type": "code",
   "execution_count": 88,
   "id": "f09c4dcc-609d-4c38-b7ae-69187b451e02",
   "metadata": {},
   "outputs": [
    {
     "data": {
      "text/html": [
       "<div>\n",
       "<style scoped>\n",
       "    .dataframe tbody tr th:only-of-type {\n",
       "        vertical-align: middle;\n",
       "    }\n",
       "\n",
       "    .dataframe tbody tr th {\n",
       "        vertical-align: top;\n",
       "    }\n",
       "\n",
       "    .dataframe thead th {\n",
       "        text-align: right;\n",
       "    }\n",
       "</style>\n",
       "<table border=\"1\" class=\"dataframe\">\n",
       "  <thead>\n",
       "    <tr style=\"text-align: right;\">\n",
       "      <th></th>\n",
       "      <th>Col1</th>\n",
       "    </tr>\n",
       "    <tr>\n",
       "      <th>y</th>\n",
       "      <th></th>\n",
       "    </tr>\n",
       "  </thead>\n",
       "  <tbody>\n",
       "    <tr>\n",
       "      <th>0</th>\n",
       "      <td>45586</td>\n",
       "    </tr>\n",
       "    <tr>\n",
       "      <th>1</th>\n",
       "      <td>3511</td>\n",
       "    </tr>\n",
       "  </tbody>\n",
       "</table>\n",
       "</div>"
      ],
      "text/plain": [
       "    Col1\n",
       "y       \n",
       "0  45586\n",
       "1   3511"
      ]
     },
     "execution_count": 88,
     "metadata": {},
     "output_type": "execute_result"
    }
   ],
   "source": [
    "pd.pivot_table(data,\n",
    "             values = 'Col1',\n",
    "               index = 'y', \n",
    "              aggfunc = 'count')"
   ]
  },
  {
   "cell_type": "markdown",
   "id": "e09ecbdb",
   "metadata": {},
   "source": [
    "### Deep Autoencoder"
   ]
  },
  {
   "cell_type": "code",
   "execution_count": 89,
   "id": "3bf34bad",
   "metadata": {},
   "outputs": [],
   "source": [
    "features = data.drop(columns = ['y'])\n",
    "target = data['y']"
   ]
  },
  {
   "cell_type": "code",
   "execution_count": 90,
   "id": "935d5c6c-de41-4147-ab58-cad1d9bee601",
   "metadata": {},
   "outputs": [],
   "source": [
    "# min max scale the input data\n",
    "min_max_scaler = MinMaxScaler(feature_range=(0, 1))\n",
    "x_train_scaled = min_max_scaler.fit_transform(features.copy())"
   ]
  },
  {
   "cell_type": "code",
   "execution_count": 91,
   "id": "6c22dcd1",
   "metadata": {},
   "outputs": [],
   "source": [
    "class AutoEncoder(Model):\n",
    "\n",
    "    def __init__(self, output_units):\n",
    "        super().__init__()\n",
    "        self.encoder = Sequential([\n",
    "          Dense(5,input_dim = output_units, activation='sigmoid'),\n",
    "          Dropout(0.1),\n",
    "          Dense(3, activation='relu'),\n",
    "          Dropout(0.1),\n",
    "          Dense(3, activation='relu')\n",
    "        ])\n",
    "        self.decoder = Sequential([\n",
    "          Dense(3, activation='relu'),\n",
    "          Dropout(0.1),\n",
    "          Dense(5,  activation='relu'),\n",
    "          Dropout(0.1),\n",
    "          Dense(output_units, activation='sigmoid')\n",
    "        ])\n",
    "  \n",
    "    def call(self, inputs):\n",
    "        encoded = self.encoder(inputs)\n",
    "        decoded = self.decoder(encoded)\n",
    "        return decoded"
   ]
  },
  {
   "cell_type": "code",
   "execution_count": 92,
   "id": "9193484b",
   "metadata": {},
   "outputs": [],
   "source": [
    "def find_threshold(model, x_train_scaled):\n",
    "    reconstructions = model.predict(x_train_scaled)\n",
    "  # provides losses of individual instances\n",
    "    reconstruction_errors = tf.keras.losses.msle(reconstructions, x_train_scaled)\n",
    "  # threshold for anomaly scores\n",
    "    threshold = np.mean(reconstruction_errors.numpy()) \\\n",
    "      + np.std(reconstruction_errors.numpy())\n",
    "    return threshold\n",
    "\n",
    "def get_predictions(model, x_train_scaled, threshold):\n",
    "    predictions = model.predict(x_train_scaled)\n",
    "  # provides losses of individual instances\n",
    "    errors = tf.keras.losses.msle(predictions, x_train_scaled)\n",
    "  # 1 = anomaly, 0 = normal\n",
    "    anomaly_mask = pd.Series(errors) > threshold\n",
    "    preds = anomaly_mask.map(lambda x: 1.0 if x == True else 0.0)\n",
    "    return preds, errors"
   ]
  },
  {
   "cell_type": "code",
   "execution_count": 93,
   "id": "ffc44ec4",
   "metadata": {},
   "outputs": [
    {
     "name": "stdout",
     "output_type": "stream",
     "text": [
      "Epoch 1/20\n",
      "96/96 [==============================] - 1s 2ms/step - loss: 0.0076 - mse: 0.0149\n",
      "Epoch 2/20\n",
      "96/96 [==============================] - 0s 2ms/step - loss: 0.0042 - mse: 0.0084\n",
      "Epoch 3/20\n",
      "96/96 [==============================] - 0s 2ms/step - loss: 0.0029 - mse: 0.0058\n",
      "Epoch 4/20\n",
      "96/96 [==============================] - 0s 2ms/step - loss: 0.0024 - mse: 0.0049\n",
      "Epoch 5/20\n",
      "96/96 [==============================] - 0s 2ms/step - loss: 0.0022 - mse: 0.0045\n",
      "Epoch 6/20\n",
      "96/96 [==============================] - 0s 2ms/step - loss: 0.0021 - mse: 0.0043\n",
      "Epoch 7/20\n",
      "96/96 [==============================] - 0s 2ms/step - loss: 0.0020 - mse: 0.0040\n",
      "Epoch 8/20\n",
      "96/96 [==============================] - 0s 2ms/step - loss: 0.0018 - mse: 0.0037\n",
      "Epoch 9/20\n",
      "96/96 [==============================] - 0s 2ms/step - loss: 0.0017 - mse: 0.0034\n",
      "Epoch 10/20\n",
      "96/96 [==============================] - 0s 2ms/step - loss: 0.0015 - mse: 0.0032\n",
      "Epoch 11/20\n",
      "96/96 [==============================] - 0s 2ms/step - loss: 0.0014 - mse: 0.0028\n",
      "Epoch 12/20\n",
      "96/96 [==============================] - 0s 2ms/step - loss: 0.0013 - mse: 0.0027\n",
      "Epoch 13/20\n",
      "96/96 [==============================] - 0s 2ms/step - loss: 0.0012 - mse: 0.0025\n",
      "Epoch 14/20\n",
      "96/96 [==============================] - 0s 2ms/step - loss: 0.0012 - mse: 0.0025\n",
      "Epoch 15/20\n",
      "96/96 [==============================] - 0s 2ms/step - loss: 0.0012 - mse: 0.0024\n",
      "Epoch 16/20\n",
      "96/96 [==============================] - 0s 2ms/step - loss: 0.0011 - mse: 0.0023\n",
      "Epoch 17/20\n",
      "96/96 [==============================] - 0s 2ms/step - loss: 0.0011 - mse: 0.0023\n",
      "Epoch 18/20\n",
      "96/96 [==============================] - 0s 2ms/step - loss: 0.0011 - mse: 0.0022\n",
      "Epoch 19/20\n",
      "96/96 [==============================] - 0s 2ms/step - loss: 0.0011 - mse: 0.0022\n",
      "Epoch 20/20\n",
      "96/96 [==============================] - 0s 2ms/step - loss: 0.0010 - mse: 0.0022\n",
      "7.546875\n",
      "1535/1535 [==============================] - 2s 1ms/step\n",
      "Threshold: 0.0017639756695981646\n",
      "1535/1535 [==============================] - 2s 1ms/step\n",
      "5.40625\n"
     ]
    }
   ],
   "source": [
    "start = time.process_time()\n",
    "\n",
    "model = AutoEncoder(output_units=x_train_scaled.shape[1])\n",
    "\n",
    "model.compile(loss='msle', metrics=['mse'], optimizer='adam')\n",
    "\n",
    "history = model.fit(\n",
    "    x_train_scaled,\n",
    "    x_train_scaled,\n",
    "    epochs=20,\n",
    "    batch_size=512,\n",
    ")\n",
    "\n",
    "end = time.process_time()\n",
    "shuttle_deep_autoencoders_train_time = end - start\n",
    "print(end - start)\n",
    "\n",
    "start = time.process_time()\n",
    "\n",
    "threshold = find_threshold(model, x_train_scaled)\n",
    "print(f\"Threshold: {threshold}\")\n",
    "\n",
    "predictions, scores = get_predictions(model, x_train_scaled, threshold)\n",
    "\n",
    "end = time.process_time()\n",
    "shuttle_deep_autoencoders_test_time = end - start\n",
    "print(end - start)"
   ]
  },
  {
   "cell_type": "code",
   "execution_count": 94,
   "id": "ac98eae3",
   "metadata": {},
   "outputs": [
    {
     "data": {
      "text/plain": [
       "array([[41871,  3715],\n",
       "       [ 1081,  2430]], dtype=int64)"
      ]
     },
     "execution_count": 94,
     "metadata": {},
     "output_type": "execute_result"
    }
   ],
   "source": [
    "confusion_matrix(target, predictions)"
   ]
  },
  {
   "cell_type": "code",
   "execution_count": 95,
   "id": "8c6f78cf",
   "metadata": {},
   "outputs": [
    {
     "data": {
      "text/plain": [
       "0.947003927700049"
      ]
     },
     "execution_count": 95,
     "metadata": {},
     "output_type": "execute_result"
    }
   ],
   "source": [
    "fpr, tpr, _ = metrics.roc_curve(target, scores)\n",
    "shuttle_deep_autoencoders_auc = metrics.auc(fpr, tpr)\n",
    "metrics.auc(fpr, tpr)"
   ]
  },
  {
   "cell_type": "code",
   "execution_count": 96,
   "id": "fe1dcdef",
   "metadata": {},
   "outputs": [
    {
     "name": "stdout",
     "output_type": "stream",
     "text": [
      "              precision    recall  f1-score   support\n",
      "\n",
      "           0       0.97      0.92      0.95     45586\n",
      "           1       0.40      0.69      0.50      3511\n",
      "\n",
      "    accuracy                           0.90     49097\n",
      "   macro avg       0.69      0.81      0.72     49097\n",
      "weighted avg       0.93      0.90      0.91     49097\n",
      "\n"
     ]
    }
   ],
   "source": [
    "shuttle_deep_autoencoders_report = classification_report(target, predictions, target_names = ['0','1'], output_dict = True)\n",
    "print(classification_report(target, predictions, target_names = ['0','1']))"
   ]
  },
  {
   "cell_type": "code",
   "execution_count": 97,
   "id": "736b1920",
   "metadata": {},
   "outputs": [
    {
     "name": "stdout",
     "output_type": "stream",
     "text": [
      "0.5504630082909637\n"
     ]
    }
   ],
   "source": [
    "precision, recall, thresholds = precision_recall_curve(target, scores)\n",
    "shuttle_deep_ae_auc_precision_recall = metrics.auc(recall, precision)\n",
    "print(shuttle_deep_ae_auc_precision_recall)"
   ]
  },
  {
   "cell_type": "markdown",
   "id": "fe5ee8ce-7b98-40ba-935f-2a1f91d141c3",
   "metadata": {
    "jp-MarkdownHeadingCollapsed": true,
    "tags": []
   },
   "source": [
    "## mnist"
   ]
  },
  {
   "cell_type": "markdown",
   "id": "8d20f1af",
   "metadata": {},
   "source": [
    "**Dataset source**: http://odds.cs.stonybrook.edu/mnist-dataset/ (data is transformed from .mat to .csv format)\n",
    "\n",
    "Shebuti Rayana (2016). ODDS Library [http://odds.cs.stonybrook.edu]. Stony Brook, NY: Stony Brook University, Department of Computer Science.\n",
    "\n",
    "**Additional sources:**\n",
    "\n",
    "Bandaragoda, Tharindu R., et al. “Efficient Anomaly Detection by Isolation Using Nearest Neighbour Ensemble.” 2014 IEEE International Conference on Data Mining Workshop. IEEE, 2014."
   ]
  },
  {
   "cell_type": "code",
   "execution_count": 98,
   "id": "a092626d-fd14-4efd-848b-04c865df948b",
   "metadata": {},
   "outputs": [],
   "source": [
    "data = pd.read_csv('./mnist.csv')"
   ]
  },
  {
   "cell_type": "code",
   "execution_count": 99,
   "id": "dce30806-daa4-4424-9d34-5590b12cc572",
   "metadata": {},
   "outputs": [],
   "source": [
    "data = data.drop(columns = ['Col1','Col4', 'Col7', 'Col22', 'Col27', 'Col29', 'Col38', 'Col41', 'Col51', 'Col53', 'Col54', 'Col61', 'Col62', 'Col71', 'Col73', 'Col79', 'Col87', 'Col88', 'Col89', 'Col90',\n",
    "'Col92', 'Col100'])"
   ]
  },
  {
   "cell_type": "code",
   "execution_count": 100,
   "id": "a977b2ca-e0c7-4440-8019-ecccfafd0794",
   "metadata": {},
   "outputs": [
    {
     "data": {
      "text/html": [
       "<div>\n",
       "<style scoped>\n",
       "    .dataframe tbody tr th:only-of-type {\n",
       "        vertical-align: middle;\n",
       "    }\n",
       "\n",
       "    .dataframe tbody tr th {\n",
       "        vertical-align: top;\n",
       "    }\n",
       "\n",
       "    .dataframe thead th {\n",
       "        text-align: right;\n",
       "    }\n",
       "</style>\n",
       "<table border=\"1\" class=\"dataframe\">\n",
       "  <thead>\n",
       "    <tr style=\"text-align: right;\">\n",
       "      <th></th>\n",
       "      <th>Col2</th>\n",
       "    </tr>\n",
       "    <tr>\n",
       "      <th>y</th>\n",
       "      <th></th>\n",
       "    </tr>\n",
       "  </thead>\n",
       "  <tbody>\n",
       "    <tr>\n",
       "      <th>0</th>\n",
       "      <td>6903</td>\n",
       "    </tr>\n",
       "    <tr>\n",
       "      <th>1</th>\n",
       "      <td>700</td>\n",
       "    </tr>\n",
       "  </tbody>\n",
       "</table>\n",
       "</div>"
      ],
      "text/plain": [
       "   Col2\n",
       "y      \n",
       "0  6903\n",
       "1   700"
      ]
     },
     "execution_count": 100,
     "metadata": {},
     "output_type": "execute_result"
    }
   ],
   "source": [
    "pd.pivot_table(data,\n",
    "             values = 'Col2',\n",
    "               index = 'y', \n",
    "              aggfunc = 'count')"
   ]
  },
  {
   "cell_type": "code",
   "execution_count": 101,
   "id": "67c2f6ad-e7a7-41df-81e1-5baf06f853d9",
   "metadata": {},
   "outputs": [
    {
     "data": {
      "text/plain": [
       "(7603, 79)"
      ]
     },
     "execution_count": 101,
     "metadata": {},
     "output_type": "execute_result"
    }
   ],
   "source": [
    "data.shape"
   ]
  },
  {
   "cell_type": "code",
   "execution_count": 102,
   "id": "d6dc2a2e-c4ab-404c-bf0b-d549f2b7c4ee",
   "metadata": {},
   "outputs": [
    {
     "data": {
      "text/html": [
       "<div>\n",
       "<style scoped>\n",
       "    .dataframe tbody tr th:only-of-type {\n",
       "        vertical-align: middle;\n",
       "    }\n",
       "\n",
       "    .dataframe tbody tr th {\n",
       "        vertical-align: top;\n",
       "    }\n",
       "\n",
       "    .dataframe thead th {\n",
       "        text-align: right;\n",
       "    }\n",
       "</style>\n",
       "<table border=\"1\" class=\"dataframe\">\n",
       "  <thead>\n",
       "    <tr style=\"text-align: right;\">\n",
       "      <th></th>\n",
       "      <th>Col2</th>\n",
       "      <th>Col3</th>\n",
       "      <th>Col5</th>\n",
       "      <th>Col6</th>\n",
       "      <th>Col8</th>\n",
       "      <th>Col9</th>\n",
       "      <th>Col10</th>\n",
       "      <th>Col11</th>\n",
       "      <th>Col12</th>\n",
       "      <th>Col13</th>\n",
       "      <th>...</th>\n",
       "      <th>Col86</th>\n",
       "      <th>Col91</th>\n",
       "      <th>Col93</th>\n",
       "      <th>Col94</th>\n",
       "      <th>Col95</th>\n",
       "      <th>Col96</th>\n",
       "      <th>Col97</th>\n",
       "      <th>Col98</th>\n",
       "      <th>Col99</th>\n",
       "      <th>y</th>\n",
       "    </tr>\n",
       "  </thead>\n",
       "  <tbody>\n",
       "    <tr>\n",
       "      <th>0</th>\n",
       "      <td>-73.804153</td>\n",
       "      <td>198.205963</td>\n",
       "      <td>-13.124617</td>\n",
       "      <td>-1.1501</td>\n",
       "      <td>-0.141633</td>\n",
       "      <td>179.249390</td>\n",
       "      <td>114.661163</td>\n",
       "      <td>-80.736702</td>\n",
       "      <td>130.659348</td>\n",
       "      <td>162.649841</td>\n",
       "      <td>...</td>\n",
       "      <td>-15.392716</td>\n",
       "      <td>188.055649</td>\n",
       "      <td>-4.469967</td>\n",
       "      <td>158.381409</td>\n",
       "      <td>-137.100632</td>\n",
       "      <td>27.131416</td>\n",
       "      <td>-2.274633</td>\n",
       "      <td>-0.00065</td>\n",
       "      <td>-12.351267</td>\n",
       "      <td>0</td>\n",
       "    </tr>\n",
       "    <tr>\n",
       "      <th>1</th>\n",
       "      <td>-73.804153</td>\n",
       "      <td>197.205963</td>\n",
       "      <td>-13.124617</td>\n",
       "      <td>-1.1501</td>\n",
       "      <td>-0.141633</td>\n",
       "      <td>179.249390</td>\n",
       "      <td>-44.338833</td>\n",
       "      <td>-80.736702</td>\n",
       "      <td>128.659348</td>\n",
       "      <td>190.649841</td>\n",
       "      <td>...</td>\n",
       "      <td>-15.392716</td>\n",
       "      <td>186.055649</td>\n",
       "      <td>-4.469967</td>\n",
       "      <td>123.381416</td>\n",
       "      <td>-137.100632</td>\n",
       "      <td>157.131409</td>\n",
       "      <td>-2.274633</td>\n",
       "      <td>-0.00065</td>\n",
       "      <td>-12.351267</td>\n",
       "      <td>0</td>\n",
       "    </tr>\n",
       "    <tr>\n",
       "      <th>2</th>\n",
       "      <td>-73.804153</td>\n",
       "      <td>-53.794033</td>\n",
       "      <td>-13.124617</td>\n",
       "      <td>-1.1501</td>\n",
       "      <td>-0.141633</td>\n",
       "      <td>-73.750618</td>\n",
       "      <td>-44.338833</td>\n",
       "      <td>170.263306</td>\n",
       "      <td>130.659348</td>\n",
       "      <td>46.649849</td>\n",
       "      <td>...</td>\n",
       "      <td>-15.392716</td>\n",
       "      <td>188.055649</td>\n",
       "      <td>-4.469967</td>\n",
       "      <td>157.381409</td>\n",
       "      <td>-137.100632</td>\n",
       "      <td>-93.868584</td>\n",
       "      <td>-2.274633</td>\n",
       "      <td>-0.00065</td>\n",
       "      <td>-12.351267</td>\n",
       "      <td>0</td>\n",
       "    </tr>\n",
       "    <tr>\n",
       "      <th>3</th>\n",
       "      <td>-73.804153</td>\n",
       "      <td>86.205963</td>\n",
       "      <td>-13.124617</td>\n",
       "      <td>-1.1501</td>\n",
       "      <td>-0.141633</td>\n",
       "      <td>76.249382</td>\n",
       "      <td>208.661163</td>\n",
       "      <td>107.263298</td>\n",
       "      <td>130.659348</td>\n",
       "      <td>190.649841</td>\n",
       "      <td>...</td>\n",
       "      <td>-15.392716</td>\n",
       "      <td>188.055649</td>\n",
       "      <td>-4.469967</td>\n",
       "      <td>157.381409</td>\n",
       "      <td>-137.100632</td>\n",
       "      <td>74.131416</td>\n",
       "      <td>-2.274633</td>\n",
       "      <td>-0.00065</td>\n",
       "      <td>-12.351267</td>\n",
       "      <td>0</td>\n",
       "    </tr>\n",
       "    <tr>\n",
       "      <th>4</th>\n",
       "      <td>-27.804153</td>\n",
       "      <td>199.205963</td>\n",
       "      <td>-13.124617</td>\n",
       "      <td>-1.1501</td>\n",
       "      <td>-0.141633</td>\n",
       "      <td>179.249390</td>\n",
       "      <td>-44.338833</td>\n",
       "      <td>-80.736702</td>\n",
       "      <td>130.659348</td>\n",
       "      <td>91.649849</td>\n",
       "      <td>...</td>\n",
       "      <td>-15.392716</td>\n",
       "      <td>188.055649</td>\n",
       "      <td>-4.469967</td>\n",
       "      <td>22.381416</td>\n",
       "      <td>-137.100632</td>\n",
       "      <td>159.131409</td>\n",
       "      <td>-2.274633</td>\n",
       "      <td>-0.00065</td>\n",
       "      <td>-12.351267</td>\n",
       "      <td>0</td>\n",
       "    </tr>\n",
       "  </tbody>\n",
       "</table>\n",
       "<p>5 rows × 79 columns</p>\n",
       "</div>"
      ],
      "text/plain": [
       "        Col2        Col3       Col5    Col6      Col8        Col9       Col10  \\\n",
       "0 -73.804153  198.205963 -13.124617 -1.1501 -0.141633  179.249390  114.661163   \n",
       "1 -73.804153  197.205963 -13.124617 -1.1501 -0.141633  179.249390  -44.338833   \n",
       "2 -73.804153  -53.794033 -13.124617 -1.1501 -0.141633  -73.750618  -44.338833   \n",
       "3 -73.804153   86.205963 -13.124617 -1.1501 -0.141633   76.249382  208.661163   \n",
       "4 -27.804153  199.205963 -13.124617 -1.1501 -0.141633  179.249390  -44.338833   \n",
       "\n",
       "        Col11       Col12       Col13  ...      Col86       Col91     Col93  \\\n",
       "0  -80.736702  130.659348  162.649841  ... -15.392716  188.055649 -4.469967   \n",
       "1  -80.736702  128.659348  190.649841  ... -15.392716  186.055649 -4.469967   \n",
       "2  170.263306  130.659348   46.649849  ... -15.392716  188.055649 -4.469967   \n",
       "3  107.263298  130.659348  190.649841  ... -15.392716  188.055649 -4.469967   \n",
       "4  -80.736702  130.659348   91.649849  ... -15.392716  188.055649 -4.469967   \n",
       "\n",
       "        Col94       Col95       Col96     Col97    Col98      Col99  y  \n",
       "0  158.381409 -137.100632   27.131416 -2.274633 -0.00065 -12.351267  0  \n",
       "1  123.381416 -137.100632  157.131409 -2.274633 -0.00065 -12.351267  0  \n",
       "2  157.381409 -137.100632  -93.868584 -2.274633 -0.00065 -12.351267  0  \n",
       "3  157.381409 -137.100632   74.131416 -2.274633 -0.00065 -12.351267  0  \n",
       "4   22.381416 -137.100632  159.131409 -2.274633 -0.00065 -12.351267  0  \n",
       "\n",
       "[5 rows x 79 columns]"
      ]
     },
     "execution_count": 102,
     "metadata": {},
     "output_type": "execute_result"
    }
   ],
   "source": [
    "data.head()"
   ]
  },
  {
   "cell_type": "markdown",
   "id": "96599a48-7019-45d0-bd50-bcfd1d4bd7b8",
   "metadata": {
    "jp-MarkdownHeadingCollapsed": true,
    "tags": []
   },
   "source": [
    "### Deep Autoencoder"
   ]
  },
  {
   "cell_type": "code",
   "execution_count": 103,
   "id": "0406d3e1-4999-4845-93b1-9077bb5b1a87",
   "metadata": {},
   "outputs": [],
   "source": [
    "features = data.drop(columns = ['y'])\n",
    "target = data['y']"
   ]
  },
  {
   "cell_type": "code",
   "execution_count": 104,
   "id": "8e7f1dea-bbfd-43f5-9992-3ab1ebd73b40",
   "metadata": {},
   "outputs": [],
   "source": [
    "# min max scale the input data\n",
    "min_max_scaler = MinMaxScaler(feature_range=(0, 1))\n",
    "x_train_scaled = min_max_scaler.fit_transform(features.copy())"
   ]
  },
  {
   "cell_type": "code",
   "execution_count": 105,
   "id": "411dbec4-8b84-4f12-87d7-38acef5e7876",
   "metadata": {},
   "outputs": [],
   "source": [
    "class AutoEncoder(Model):\n",
    "\n",
    "    def __init__(self, output_units):\n",
    "        super().__init__()\n",
    "        self.encoder = Sequential([\n",
    "          Dense(39,input_dim = output_units, activation='sigmoid'),\n",
    "          Dropout(0.1),\n",
    "          Dense(19, activation='relu'),\n",
    "          Dropout(0.1),\n",
    "          Dense(10, activation='relu')\n",
    "        ])\n",
    "        self.decoder = Sequential([\n",
    "          Dense(19, activation='relu'),\n",
    "          Dropout(0.1),\n",
    "          Dense(39,  activation='relu'),\n",
    "          Dropout(0.1),\n",
    "          Dense(output_units, activation='sigmoid')\n",
    "        ])\n",
    "  \n",
    "    def call(self, inputs):\n",
    "        encoded = self.encoder(inputs)\n",
    "        decoded = self.decoder(encoded)\n",
    "        return decoded"
   ]
  },
  {
   "cell_type": "code",
   "execution_count": 106,
   "id": "ac3b93ff-5166-4610-bae2-1e993f7acc36",
   "metadata": {},
   "outputs": [],
   "source": [
    "def find_threshold(model, x_train_scaled):\n",
    "    reconstructions = model.predict(x_train_scaled)\n",
    "  # provides losses of individual instances\n",
    "    reconstruction_errors = tf.keras.losses.msle(reconstructions, x_train_scaled)\n",
    "  # threshold for anomaly scores\n",
    "    threshold = np.mean(reconstruction_errors.numpy()) \\\n",
    "      + np.std(reconstruction_errors.numpy())\n",
    "    return threshold\n",
    "\n",
    "def get_predictions(model, x_train_scaled, threshold):\n",
    "    predictions = model.predict(x_train_scaled)\n",
    "  # provides losses of individual instances\n",
    "    errors = tf.keras.losses.msle(predictions, x_train_scaled)\n",
    "  # 1 = anomaly, 0 = normal\n",
    "    anomaly_mask = pd.Series(errors) > threshold\n",
    "    preds = anomaly_mask.map(lambda x: 1.0 if x == True else 0.0)\n",
    "    return preds, errors"
   ]
  },
  {
   "cell_type": "code",
   "execution_count": 107,
   "id": "5035394f-1ce3-4c68-99ed-d791aa43a6b7",
   "metadata": {},
   "outputs": [
    {
     "name": "stdout",
     "output_type": "stream",
     "text": [
      "Epoch 1/20\n",
      "15/15 [==============================] - 1s 6ms/step - loss: 0.1230 - mse: 0.2079\n",
      "Epoch 2/20\n",
      "15/15 [==============================] - 0s 5ms/step - loss: 0.0948 - mse: 0.1642\n",
      "Epoch 3/20\n",
      "15/15 [==============================] - 0s 5ms/step - loss: 0.0621 - mse: 0.1172\n",
      "Epoch 4/20\n",
      "15/15 [==============================] - 0s 5ms/step - loss: 0.0502 - mse: 0.1008\n",
      "Epoch 5/20\n",
      "15/15 [==============================] - 0s 5ms/step - loss: 0.0480 - mse: 0.0979\n",
      "Epoch 6/20\n",
      "15/15 [==============================] - 0s 5ms/step - loss: 0.0469 - mse: 0.0954\n",
      "Epoch 7/20\n",
      "15/15 [==============================] - 0s 5ms/step - loss: 0.0461 - mse: 0.0941\n",
      "Epoch 8/20\n",
      "15/15 [==============================] - 0s 6ms/step - loss: 0.0456 - mse: 0.0932\n",
      "Epoch 9/20\n",
      "15/15 [==============================] - 0s 5ms/step - loss: 0.0451 - mse: 0.0923\n",
      "Epoch 10/20\n",
      "15/15 [==============================] - 0s 5ms/step - loss: 0.0446 - mse: 0.0916\n",
      "Epoch 11/20\n",
      "15/15 [==============================] - 0s 5ms/step - loss: 0.0443 - mse: 0.0910\n",
      "Epoch 12/20\n",
      "15/15 [==============================] - 0s 5ms/step - loss: 0.0439 - mse: 0.0905\n",
      "Epoch 13/20\n",
      "15/15 [==============================] - 0s 5ms/step - loss: 0.0435 - mse: 0.0896\n",
      "Epoch 14/20\n",
      "15/15 [==============================] - 0s 5ms/step - loss: 0.0430 - mse: 0.0888\n",
      "Epoch 15/20\n",
      "15/15 [==============================] - 0s 5ms/step - loss: 0.0422 - mse: 0.0873\n",
      "Epoch 16/20\n",
      "15/15 [==============================] - 0s 5ms/step - loss: 0.0408 - mse: 0.0844\n",
      "Epoch 17/20\n",
      "15/15 [==============================] - 0s 5ms/step - loss: 0.0392 - mse: 0.0811\n",
      "Epoch 18/20\n",
      "15/15 [==============================] - 0s 5ms/step - loss: 0.0381 - mse: 0.0788\n",
      "Epoch 19/20\n",
      "15/15 [==============================] - 0s 5ms/step - loss: 0.0373 - mse: 0.0772\n",
      "Epoch 20/20\n",
      "15/15 [==============================] - 0s 5ms/step - loss: 0.0365 - mse: 0.0756\n",
      "4.09375\n",
      "238/238 [==============================] - 0s 1ms/step\n",
      "Threshold: 0.044778300030431234\n",
      "238/238 [==============================] - 0s 1ms/step\n",
      "1.171875\n"
     ]
    }
   ],
   "source": [
    "start = time.process_time()\n",
    "\n",
    "model = AutoEncoder(output_units=x_train_scaled.shape[1])\n",
    "\n",
    "model.compile(loss='msle', metrics=['mse'], optimizer='adam')\n",
    "\n",
    "history = model.fit(\n",
    "    x_train_scaled,\n",
    "    x_train_scaled,\n",
    "    epochs=20,\n",
    "    batch_size=512,\n",
    ")\n",
    "\n",
    "end = time.process_time()\n",
    "mnist_deep_autoencoders_train_time = end - start\n",
    "print(end - start)\n",
    "\n",
    "start = time.process_time()\n",
    "\n",
    "threshold = find_threshold(model, x_train_scaled)\n",
    "print(f\"Threshold: {threshold}\")\n",
    "\n",
    "predictions, scores = get_predictions(model, x_train_scaled, threshold)\n",
    "\n",
    "end = time.process_time()\n",
    "mnist_deep_autoencoders_test_time = end - start\n",
    "print(end - start)"
   ]
  },
  {
   "cell_type": "code",
   "execution_count": 108,
   "id": "a42473cd-b820-41d7-a0a0-d11e7242144d",
   "metadata": {},
   "outputs": [
    {
     "data": {
      "text/plain": [
       "array([[6002,  901],\n",
       "       [ 405,  295]], dtype=int64)"
      ]
     },
     "execution_count": 108,
     "metadata": {},
     "output_type": "execute_result"
    }
   ],
   "source": [
    "confusion_matrix(target, predictions)"
   ]
  },
  {
   "cell_type": "code",
   "execution_count": 109,
   "id": "7b5f4c5a",
   "metadata": {},
   "outputs": [
    {
     "data": {
      "text/plain": [
       "0.769351420707353"
      ]
     },
     "execution_count": 109,
     "metadata": {},
     "output_type": "execute_result"
    }
   ],
   "source": [
    "fpr, tpr, _ = metrics.roc_curve(target, scores)\n",
    "mnist_deep_autoencoders_auc = metrics.auc(fpr, tpr)\n",
    "metrics.auc(fpr, tpr)"
   ]
  },
  {
   "cell_type": "code",
   "execution_count": 110,
   "id": "b635c100-e998-4b29-b92d-99c3cb81da0c",
   "metadata": {},
   "outputs": [
    {
     "name": "stdout",
     "output_type": "stream",
     "text": [
      "              precision    recall  f1-score   support\n",
      "\n",
      "           0       0.94      0.87      0.90      6903\n",
      "           1       0.25      0.42      0.31       700\n",
      "\n",
      "    accuracy                           0.83      7603\n",
      "   macro avg       0.59      0.65      0.61      7603\n",
      "weighted avg       0.87      0.83      0.85      7603\n",
      "\n"
     ]
    }
   ],
   "source": [
    "mnist_deep_autoencoders_report = classification_report(target, predictions, target_names = ['0','1'], output_dict = True)\n",
    "print(classification_report(target, predictions, target_names = ['0','1']))"
   ]
  },
  {
   "cell_type": "code",
   "execution_count": 111,
   "id": "f6526dbe",
   "metadata": {},
   "outputs": [
    {
     "name": "stdout",
     "output_type": "stream",
     "text": [
      "0.26397821254092063\n"
     ]
    }
   ],
   "source": [
    "precision, recall, thresholds = precision_recall_curve(target, scores)\n",
    "mnist_deep_ae_auc_precision_recall = metrics.auc(recall, precision)\n",
    "print(mnist_deep_ae_auc_precision_recall)"
   ]
  },
  {
   "cell_type": "markdown",
   "id": "64ec8246-a429-4e4e-b3af-68198a4ed70f",
   "metadata": {
    "jp-MarkdownHeadingCollapsed": true,
    "tags": []
   },
   "source": [
    "## vowels"
   ]
  },
  {
   "cell_type": "markdown",
   "id": "c5573c5a",
   "metadata": {},
   "source": [
    "**Dataset source**: http://odds.cs.stonybrook.edu/japanese-vowels-data/\n",
    "\n",
    "Shebuti Rayana (2016). ODDS Library [http://odds.cs.stonybrook.edu]. Stony Brook, NY: Stony Brook University, Department of Computer Science.\n",
    "\n",
    "**Additional sources:**\n",
    "\n",
    "C. C. Aggarwal and S. Sathe, “Theoretical foundations and algorithms for outlier ensembles.” ACM SIGKDD Explorations Newsletter, vol. 17, no. 1, pp. 24–47, 2015.\n",
    "\n",
    "Saket Sathe and Charu C. Aggarwal. LODES: Local Density meets Spectral Outlier Detection. SIAM Conference on Data Mining, 2016."
   ]
  },
  {
   "cell_type": "code",
   "execution_count": 112,
   "id": "bc358b13-ecf1-4e7b-9c7b-84c08eacc450",
   "metadata": {},
   "outputs": [],
   "source": [
    "data = pd.read_csv('./vowels.csv')"
   ]
  },
  {
   "cell_type": "code",
   "execution_count": 113,
   "id": "4c61a6b6-97f1-4bee-8df8-c505f0bfc266",
   "metadata": {},
   "outputs": [
    {
     "data": {
      "text/html": [
       "<div>\n",
       "<style scoped>\n",
       "    .dataframe tbody tr th:only-of-type {\n",
       "        vertical-align: middle;\n",
       "    }\n",
       "\n",
       "    .dataframe tbody tr th {\n",
       "        vertical-align: top;\n",
       "    }\n",
       "\n",
       "    .dataframe thead th {\n",
       "        text-align: right;\n",
       "    }\n",
       "</style>\n",
       "<table border=\"1\" class=\"dataframe\">\n",
       "  <thead>\n",
       "    <tr style=\"text-align: right;\">\n",
       "      <th></th>\n",
       "      <th>Col1</th>\n",
       "    </tr>\n",
       "    <tr>\n",
       "      <th>y</th>\n",
       "      <th></th>\n",
       "    </tr>\n",
       "  </thead>\n",
       "  <tbody>\n",
       "    <tr>\n",
       "      <th>0.0</th>\n",
       "      <td>1406</td>\n",
       "    </tr>\n",
       "    <tr>\n",
       "      <th>1.0</th>\n",
       "      <td>50</td>\n",
       "    </tr>\n",
       "  </tbody>\n",
       "</table>\n",
       "</div>"
      ],
      "text/plain": [
       "     Col1\n",
       "y        \n",
       "0.0  1406\n",
       "1.0    50"
      ]
     },
     "execution_count": 113,
     "metadata": {},
     "output_type": "execute_result"
    }
   ],
   "source": [
    "pd.pivot_table(data,\n",
    "             values = 'Col1',\n",
    "               index = 'y', \n",
    "              aggfunc = 'count')"
   ]
  },
  {
   "cell_type": "code",
   "execution_count": 114,
   "id": "26c84d3e-0b54-474e-a4c1-a297b66a81bb",
   "metadata": {},
   "outputs": [
    {
     "data": {
      "text/plain": [
       "(1456, 13)"
      ]
     },
     "execution_count": 114,
     "metadata": {},
     "output_type": "execute_result"
    }
   ],
   "source": [
    "data.shape"
   ]
  },
  {
   "cell_type": "code",
   "execution_count": 115,
   "id": "257280ea-de3b-4e4e-aad9-3565b8a2a7a3",
   "metadata": {},
   "outputs": [
    {
     "data": {
      "text/html": [
       "<div>\n",
       "<style scoped>\n",
       "    .dataframe tbody tr th:only-of-type {\n",
       "        vertical-align: middle;\n",
       "    }\n",
       "\n",
       "    .dataframe tbody tr th {\n",
       "        vertical-align: top;\n",
       "    }\n",
       "\n",
       "    .dataframe thead th {\n",
       "        text-align: right;\n",
       "    }\n",
       "</style>\n",
       "<table border=\"1\" class=\"dataframe\">\n",
       "  <thead>\n",
       "    <tr style=\"text-align: right;\">\n",
       "      <th></th>\n",
       "      <th>Col1</th>\n",
       "      <th>Col2</th>\n",
       "      <th>Col3</th>\n",
       "      <th>Col4</th>\n",
       "      <th>Col5</th>\n",
       "      <th>Col6</th>\n",
       "      <th>Col7</th>\n",
       "      <th>Col8</th>\n",
       "      <th>Col9</th>\n",
       "      <th>Col10</th>\n",
       "      <th>Col11</th>\n",
       "      <th>Col12</th>\n",
       "      <th>y</th>\n",
       "    </tr>\n",
       "  </thead>\n",
       "  <tbody>\n",
       "    <tr>\n",
       "      <th>0</th>\n",
       "      <td>0.580469</td>\n",
       "      <td>-0.902534</td>\n",
       "      <td>0.617899</td>\n",
       "      <td>-0.997942</td>\n",
       "      <td>-2.463799</td>\n",
       "      <td>-0.846455</td>\n",
       "      <td>2.349849</td>\n",
       "      <td>0.375400</td>\n",
       "      <td>-0.649334</td>\n",
       "      <td>1.604637</td>\n",
       "      <td>-0.623060</td>\n",
       "      <td>-0.383125</td>\n",
       "      <td>0.0</td>\n",
       "    </tr>\n",
       "    <tr>\n",
       "      <th>1</th>\n",
       "      <td>0.784375</td>\n",
       "      <td>-1.077366</td>\n",
       "      <td>0.615781</td>\n",
       "      <td>-0.921911</td>\n",
       "      <td>-2.388553</td>\n",
       "      <td>-0.638047</td>\n",
       "      <td>2.106684</td>\n",
       "      <td>0.361018</td>\n",
       "      <td>-0.714317</td>\n",
       "      <td>1.260236</td>\n",
       "      <td>-0.423339</td>\n",
       "      <td>-0.287791</td>\n",
       "      <td>0.0</td>\n",
       "    </tr>\n",
       "    <tr>\n",
       "      <th>2</th>\n",
       "      <td>0.791292</td>\n",
       "      <td>-1.086242</td>\n",
       "      <td>0.669773</td>\n",
       "      <td>-0.806112</td>\n",
       "      <td>-2.260781</td>\n",
       "      <td>-0.538491</td>\n",
       "      <td>2.053282</td>\n",
       "      <td>0.266492</td>\n",
       "      <td>-0.842815</td>\n",
       "      <td>1.081797</td>\n",
       "      <td>-0.267201</td>\n",
       "      <td>-0.172203</td>\n",
       "      <td>0.0</td>\n",
       "    </tr>\n",
       "    <tr>\n",
       "      <th>3</th>\n",
       "      <td>1.217306</td>\n",
       "      <td>-1.083425</td>\n",
       "      <td>0.855483</td>\n",
       "      <td>-0.724879</td>\n",
       "      <td>-2.155552</td>\n",
       "      <td>-0.101879</td>\n",
       "      <td>1.768597</td>\n",
       "      <td>0.303151</td>\n",
       "      <td>-1.044710</td>\n",
       "      <td>0.655290</td>\n",
       "      <td>0.214298</td>\n",
       "      <td>-0.341840</td>\n",
       "      <td>0.0</td>\n",
       "    </tr>\n",
       "    <tr>\n",
       "      <th>4</th>\n",
       "      <td>1.065352</td>\n",
       "      <td>-1.030178</td>\n",
       "      <td>0.773297</td>\n",
       "      <td>-0.452289</td>\n",
       "      <td>-1.955907</td>\n",
       "      <td>0.248205</td>\n",
       "      <td>1.530474</td>\n",
       "      <td>0.253740</td>\n",
       "      <td>-0.968961</td>\n",
       "      <td>-0.208287</td>\n",
       "      <td>0.331578</td>\n",
       "      <td>0.007288</td>\n",
       "      <td>0.0</td>\n",
       "    </tr>\n",
       "  </tbody>\n",
       "</table>\n",
       "</div>"
      ],
      "text/plain": [
       "       Col1      Col2      Col3      Col4      Col5      Col6      Col7  \\\n",
       "0  0.580469 -0.902534  0.617899 -0.997942 -2.463799 -0.846455  2.349849   \n",
       "1  0.784375 -1.077366  0.615781 -0.921911 -2.388553 -0.638047  2.106684   \n",
       "2  0.791292 -1.086242  0.669773 -0.806112 -2.260781 -0.538491  2.053282   \n",
       "3  1.217306 -1.083425  0.855483 -0.724879 -2.155552 -0.101879  1.768597   \n",
       "4  1.065352 -1.030178  0.773297 -0.452289 -1.955907  0.248205  1.530474   \n",
       "\n",
       "       Col8      Col9     Col10     Col11     Col12    y  \n",
       "0  0.375400 -0.649334  1.604637 -0.623060 -0.383125  0.0  \n",
       "1  0.361018 -0.714317  1.260236 -0.423339 -0.287791  0.0  \n",
       "2  0.266492 -0.842815  1.081797 -0.267201 -0.172203  0.0  \n",
       "3  0.303151 -1.044710  0.655290  0.214298 -0.341840  0.0  \n",
       "4  0.253740 -0.968961 -0.208287  0.331578  0.007288  0.0  "
      ]
     },
     "execution_count": 115,
     "metadata": {},
     "output_type": "execute_result"
    }
   ],
   "source": [
    "data.head()"
   ]
  },
  {
   "cell_type": "markdown",
   "id": "0ec46eb4-0db8-457c-bc00-69a2e8a3eb9b",
   "metadata": {
    "jp-MarkdownHeadingCollapsed": true,
    "tags": []
   },
   "source": [
    "### Deep Autoencoder"
   ]
  },
  {
   "cell_type": "code",
   "execution_count": 116,
   "id": "331d6afc-302d-4e6d-87d4-bb5278dc92cc",
   "metadata": {},
   "outputs": [],
   "source": [
    "features = data.drop(columns = ['y'])\n",
    "target = data['y']"
   ]
  },
  {
   "cell_type": "code",
   "execution_count": 117,
   "id": "09b03284-b8b8-4f39-b402-621e8a431ca1",
   "metadata": {},
   "outputs": [],
   "source": [
    "# min max scale the input data\n",
    "min_max_scaler = MinMaxScaler(feature_range=(0, 1))\n",
    "x_train_scaled = min_max_scaler.fit_transform(features.copy())"
   ]
  },
  {
   "cell_type": "code",
   "execution_count": 118,
   "id": "8e70c7ec-09b4-47f5-b49f-00ae49e48193",
   "metadata": {},
   "outputs": [],
   "source": [
    "class AutoEncoder(Model):\n",
    "\n",
    "    def __init__(self, output_units):\n",
    "        super().__init__()\n",
    "        self.encoder = Sequential([\n",
    "          Dense(6, input_dim = output_units, activation='sigmoid'),\n",
    "          Dropout(0.1),\n",
    "          Dense(3, activation='relu'),\n",
    "          Dropout(0.1),\n",
    "          Dense(3, activation='relu'),\n",
    "        ])\n",
    "        self.decoder = Sequential([\n",
    "          Dense(3, activation='relu'),\n",
    "          Dropout(0.1),\n",
    "          Dense(6, activation='relu'),\n",
    "          Dropout(0.1),\n",
    "          Dense(output_units, activation='sigmoid')\n",
    "        ])\n",
    "  \n",
    "    def call(self, inputs):\n",
    "        encoded = self.encoder(inputs)\n",
    "        decoded = self.decoder(encoded)\n",
    "        return decoded"
   ]
  },
  {
   "cell_type": "code",
   "execution_count": 119,
   "id": "ede7836e-5751-42f6-abef-885332d0a7dc",
   "metadata": {},
   "outputs": [],
   "source": [
    "def find_threshold(model, x_train_scaled):\n",
    "    reconstructions = model.predict(x_train_scaled)\n",
    "  # provides losses of individual instances\n",
    "    reconstruction_errors = tf.keras.losses.msle(reconstructions, x_train_scaled)\n",
    "  # threshold for anomaly scores\n",
    "    threshold = np.mean(reconstruction_errors.numpy()) \\\n",
    "      + np.std(reconstruction_errors.numpy())\n",
    "    return threshold\n",
    "\n",
    "def get_predictions(model, x_train_scaled, threshold):\n",
    "    predictions = model.predict(x_train_scaled)\n",
    "  # provides losses of individual instances\n",
    "    errors = tf.keras.losses.msle(predictions, x_train_scaled)\n",
    "  # 1 = anomaly, 0 = normal\n",
    "    anomaly_mask = pd.Series(errors) > threshold\n",
    "    preds = anomaly_mask.map(lambda x: 1.0 if x == True else 0.0)\n",
    "    return preds, errors"
   ]
  },
  {
   "cell_type": "code",
   "execution_count": 120,
   "id": "8c7f94cb-47b0-4832-b5b4-cd2eac3e23e4",
   "metadata": {},
   "outputs": [
    {
     "name": "stdout",
     "output_type": "stream",
     "text": [
      "Epoch 1/20\n",
      "23/23 [==============================] - 1s 1ms/step - loss: 0.0175 - mse: 0.0361\n",
      "Epoch 2/20\n",
      "23/23 [==============================] - 0s 2ms/step - loss: 0.0172 - mse: 0.0355\n",
      "Epoch 3/20\n",
      "23/23 [==============================] - 0s 2ms/step - loss: 0.0169 - mse: 0.0350\n",
      "Epoch 4/20\n",
      "23/23 [==============================] - 0s 2ms/step - loss: 0.0167 - mse: 0.0346\n",
      "Epoch 5/20\n",
      "23/23 [==============================] - 0s 2ms/step - loss: 0.0165 - mse: 0.0343\n",
      "Epoch 6/20\n",
      "23/23 [==============================] - 0s 2ms/step - loss: 0.0163 - mse: 0.0339\n",
      "Epoch 7/20\n",
      "23/23 [==============================] - 0s 2ms/step - loss: 0.0161 - mse: 0.0334\n",
      "Epoch 8/20\n",
      "23/23 [==============================] - 0s 2ms/step - loss: 0.0159 - mse: 0.0332\n",
      "Epoch 9/20\n",
      "23/23 [==============================] - 0s 1ms/step - loss: 0.0158 - mse: 0.0330\n",
      "Epoch 10/20\n",
      "23/23 [==============================] - 0s 2ms/step - loss: 0.0158 - mse: 0.0330\n",
      "Epoch 11/20\n",
      "23/23 [==============================] - 0s 2ms/step - loss: 0.0157 - mse: 0.0329\n",
      "Epoch 12/20\n",
      "23/23 [==============================] - 0s 2ms/step - loss: 0.0157 - mse: 0.0329\n",
      "Epoch 13/20\n",
      "23/23 [==============================] - 0s 2ms/step - loss: 0.0157 - mse: 0.0329\n",
      "Epoch 14/20\n",
      "23/23 [==============================] - 0s 2ms/step - loss: 0.0156 - mse: 0.0329\n",
      "Epoch 15/20\n",
      "23/23 [==============================] - 0s 2ms/step - loss: 0.0156 - mse: 0.0329\n",
      "Epoch 16/20\n",
      "23/23 [==============================] - 0s 3ms/step - loss: 0.0156 - mse: 0.0329\n",
      "Epoch 17/20\n",
      "23/23 [==============================] - 0s 3ms/step - loss: 0.0156 - mse: 0.0329\n",
      "Epoch 18/20\n",
      "23/23 [==============================] - 0s 3ms/step - loss: 0.0156 - mse: 0.0329\n",
      "Epoch 19/20\n",
      "23/23 [==============================] - 0s 2ms/step - loss: 0.0156 - mse: 0.0329\n",
      "Epoch 20/20\n",
      "23/23 [==============================] - 0s 2ms/step - loss: 0.0156 - mse: 0.0329\n",
      "2.046875\n",
      "46/46 [==============================] - 0s 1ms/step\n",
      "Threshold: 0.021549115668272844\n",
      "46/46 [==============================] - 0s 1ms/step\n",
      "0.3125\n"
     ]
    }
   ],
   "source": [
    "start = time.process_time()\n",
    "\n",
    "model = AutoEncoder(output_units=x_train_scaled.shape[1])\n",
    "\n",
    "model.compile(loss='msle', metrics=['mse'], optimizer='adam')\n",
    "\n",
    "history = model.fit(\n",
    "    x_train_scaled,\n",
    "    x_train_scaled,\n",
    "    epochs=20,\n",
    "    batch_size=64,\n",
    ")\n",
    "\n",
    "end = time.process_time()\n",
    "vowels_deep_autoencoders_train_time = end - start\n",
    "print(end - start)\n",
    "\n",
    "start = time.process_time()\n",
    "\n",
    "threshold = find_threshold(model, x_train_scaled)\n",
    "print(f\"Threshold: {threshold}\")\n",
    "\n",
    "predictions, scores = get_predictions(model, x_train_scaled, threshold)\n",
    "\n",
    "end = time.process_time()\n",
    "vowels_deep_autoencoders_test_time = end - start\n",
    "print(end - start)"
   ]
  },
  {
   "cell_type": "code",
   "execution_count": 121,
   "id": "78264ff3-3f17-44a2-b093-adebb623f6a9",
   "metadata": {},
   "outputs": [
    {
     "data": {
      "text/plain": [
       "array([[1203,  203],\n",
       "       [  41,    9]], dtype=int64)"
      ]
     },
     "execution_count": 121,
     "metadata": {},
     "output_type": "execute_result"
    }
   ],
   "source": [
    "confusion_matrix(target, predictions)"
   ]
  },
  {
   "cell_type": "code",
   "execution_count": 122,
   "id": "db19c427",
   "metadata": {},
   "outputs": [
    {
     "data": {
      "text/plain": [
       "0.5009672830725462"
      ]
     },
     "execution_count": 122,
     "metadata": {},
     "output_type": "execute_result"
    }
   ],
   "source": [
    "fpr, tpr, _ = metrics.roc_curve(target, scores)\n",
    "vowels_deep_autoencoders_auc = metrics.auc(fpr, tpr)\n",
    "metrics.auc(fpr, tpr)"
   ]
  },
  {
   "cell_type": "code",
   "execution_count": 123,
   "id": "6c48382b-daa3-459f-b7b4-6f4e1997b097",
   "metadata": {},
   "outputs": [
    {
     "name": "stdout",
     "output_type": "stream",
     "text": [
      "              precision    recall  f1-score   support\n",
      "\n",
      "           0       0.97      0.86      0.91      1406\n",
      "           1       0.04      0.18      0.07        50\n",
      "\n",
      "    accuracy                           0.83      1456\n",
      "   macro avg       0.50      0.52      0.49      1456\n",
      "weighted avg       0.94      0.83      0.88      1456\n",
      "\n"
     ]
    }
   ],
   "source": [
    "vowels_deep_autoencoders_report = classification_report(target, predictions, target_names = ['0','1'], output_dict = True)\n",
    "print(classification_report(target, predictions, target_names = ['0','1']))"
   ]
  },
  {
   "cell_type": "code",
   "execution_count": 124,
   "id": "f726f4ad",
   "metadata": {},
   "outputs": [
    {
     "name": "stdout",
     "output_type": "stream",
     "text": [
      "0.03735112224710033\n"
     ]
    }
   ],
   "source": [
    "precision, recall, thresholds = precision_recall_curve(target, scores)\n",
    "vowels_deep_ae_auc_precision_recall = metrics.auc(recall, precision)\n",
    "print(vowels_deep_ae_auc_precision_recall)"
   ]
  },
  {
   "cell_type": "markdown",
   "id": "6e819820-662f-4b7a-95d1-c6eeb0e62876",
   "metadata": {
    "jp-MarkdownHeadingCollapsed": true,
    "tags": []
   },
   "source": [
    "## Seismic"
   ]
  },
  {
   "cell_type": "markdown",
   "id": "b5bfa41f",
   "metadata": {},
   "source": [
    "**Dataset source**: http://odds.cs.stonybrook.edu/seismic-dataset/ (data is transformed from .arff to .csv format)\n",
    "\n",
    "Shebuti Rayana (2016). ODDS Library [http://odds.cs.stonybrook.edu]. Stony Brook, NY: Stony Brook University, Department of Computer Science.\n",
    "\n",
    "**Additional sources:**\n",
    "\n",
    "Saket Sathe and Charu C. Aggarwal. LODES: Local Density meets Spectral Outlier Detection. SIAM Conference on Data Mining, 2016."
   ]
  },
  {
   "cell_type": "code",
   "execution_count": 125,
   "id": "9f7497cf-f25d-4d39-b778-abd020ebfa04",
   "metadata": {},
   "outputs": [],
   "source": [
    "data = pd.read_csv('./seismic.csv', sep = ',')"
   ]
  },
  {
   "cell_type": "code",
   "execution_count": 126,
   "id": "98583ea0-afb4-40a3-8bc3-1b96002de33a",
   "metadata": {},
   "outputs": [],
   "source": [
    "data = data.drop(columns = ['nbumps6','nbumps7','nbumps89'])"
   ]
  },
  {
   "cell_type": "code",
   "execution_count": 127,
   "id": "d87f1bdc-6c57-4601-8eeb-1bbbfa24a572",
   "metadata": {},
   "outputs": [
    {
     "data": {
      "text/plain": [
       "(2584, 16)"
      ]
     },
     "execution_count": 127,
     "metadata": {},
     "output_type": "execute_result"
    }
   ],
   "source": [
    "data.shape"
   ]
  },
  {
   "cell_type": "code",
   "execution_count": 128,
   "id": "efce2262",
   "metadata": {},
   "outputs": [],
   "source": [
    "drop_enc = OneHotEncoder(drop='first').fit_transform(data[['seismic','seismoacoustic','shift','ghazard']])"
   ]
  },
  {
   "cell_type": "code",
   "execution_count": 129,
   "id": "67579a8b",
   "metadata": {},
   "outputs": [],
   "source": [
    "cat_var = pd.DataFrame(drop_enc.toarray())\n",
    "cat_var.columns = ['seismic: b', 'seismoacoustic: b','seismoacoustic: c','shift: W','ghazard: b','ghazard: c']"
   ]
  },
  {
   "cell_type": "code",
   "execution_count": 130,
   "id": "b0932a73-7c0f-4a32-9573-d38a7034034e",
   "metadata": {},
   "outputs": [],
   "source": [
    "data = pd.concat([data, cat_var], axis = 1)"
   ]
  },
  {
   "cell_type": "code",
   "execution_count": 131,
   "id": "5bd4e951-5330-4c88-902f-1a2d184efb08",
   "metadata": {},
   "outputs": [],
   "source": [
    "data = data.drop(columns = ['seismic','seismoacoustic','shift','ghazard'])"
   ]
  },
  {
   "cell_type": "code",
   "execution_count": 132,
   "id": "45ef5b65",
   "metadata": {},
   "outputs": [
    {
     "data": {
      "text/html": [
       "<div>\n",
       "<style scoped>\n",
       "    .dataframe tbody tr th:only-of-type {\n",
       "        vertical-align: middle;\n",
       "    }\n",
       "\n",
       "    .dataframe tbody tr th {\n",
       "        vertical-align: top;\n",
       "    }\n",
       "\n",
       "    .dataframe thead th {\n",
       "        text-align: right;\n",
       "    }\n",
       "</style>\n",
       "<table border=\"1\" class=\"dataframe\">\n",
       "  <thead>\n",
       "    <tr style=\"text-align: right;\">\n",
       "      <th></th>\n",
       "      <th>genergy</th>\n",
       "      <th>gpuls</th>\n",
       "      <th>gdenergy</th>\n",
       "      <th>gdpuls</th>\n",
       "      <th>nbumps</th>\n",
       "      <th>nbumps2</th>\n",
       "      <th>nbumps3</th>\n",
       "      <th>nbumps4</th>\n",
       "      <th>nbumps5</th>\n",
       "      <th>energy</th>\n",
       "      <th>maxenergy</th>\n",
       "      <th>class</th>\n",
       "      <th>seismic: b</th>\n",
       "      <th>seismoacoustic: b</th>\n",
       "      <th>seismoacoustic: c</th>\n",
       "      <th>shift: W</th>\n",
       "      <th>ghazard: b</th>\n",
       "      <th>ghazard: c</th>\n",
       "    </tr>\n",
       "  </thead>\n",
       "  <tbody>\n",
       "    <tr>\n",
       "      <th>0</th>\n",
       "      <td>15180</td>\n",
       "      <td>48</td>\n",
       "      <td>-72</td>\n",
       "      <td>-72</td>\n",
       "      <td>0</td>\n",
       "      <td>0</td>\n",
       "      <td>0</td>\n",
       "      <td>0</td>\n",
       "      <td>0</td>\n",
       "      <td>0</td>\n",
       "      <td>0</td>\n",
       "      <td>0</td>\n",
       "      <td>0.0</td>\n",
       "      <td>0.0</td>\n",
       "      <td>0.0</td>\n",
       "      <td>0.0</td>\n",
       "      <td>0.0</td>\n",
       "      <td>0.0</td>\n",
       "    </tr>\n",
       "    <tr>\n",
       "      <th>1</th>\n",
       "      <td>14720</td>\n",
       "      <td>33</td>\n",
       "      <td>-70</td>\n",
       "      <td>-79</td>\n",
       "      <td>1</td>\n",
       "      <td>0</td>\n",
       "      <td>1</td>\n",
       "      <td>0</td>\n",
       "      <td>0</td>\n",
       "      <td>2000</td>\n",
       "      <td>2000</td>\n",
       "      <td>0</td>\n",
       "      <td>0.0</td>\n",
       "      <td>0.0</td>\n",
       "      <td>0.0</td>\n",
       "      <td>0.0</td>\n",
       "      <td>0.0</td>\n",
       "      <td>0.0</td>\n",
       "    </tr>\n",
       "    <tr>\n",
       "      <th>2</th>\n",
       "      <td>8050</td>\n",
       "      <td>30</td>\n",
       "      <td>-81</td>\n",
       "      <td>-78</td>\n",
       "      <td>0</td>\n",
       "      <td>0</td>\n",
       "      <td>0</td>\n",
       "      <td>0</td>\n",
       "      <td>0</td>\n",
       "      <td>0</td>\n",
       "      <td>0</td>\n",
       "      <td>0</td>\n",
       "      <td>0.0</td>\n",
       "      <td>0.0</td>\n",
       "      <td>0.0</td>\n",
       "      <td>0.0</td>\n",
       "      <td>0.0</td>\n",
       "      <td>0.0</td>\n",
       "    </tr>\n",
       "    <tr>\n",
       "      <th>3</th>\n",
       "      <td>28820</td>\n",
       "      <td>171</td>\n",
       "      <td>-23</td>\n",
       "      <td>40</td>\n",
       "      <td>1</td>\n",
       "      <td>0</td>\n",
       "      <td>1</td>\n",
       "      <td>0</td>\n",
       "      <td>0</td>\n",
       "      <td>3000</td>\n",
       "      <td>3000</td>\n",
       "      <td>0</td>\n",
       "      <td>0.0</td>\n",
       "      <td>0.0</td>\n",
       "      <td>0.0</td>\n",
       "      <td>0.0</td>\n",
       "      <td>0.0</td>\n",
       "      <td>0.0</td>\n",
       "    </tr>\n",
       "    <tr>\n",
       "      <th>4</th>\n",
       "      <td>12640</td>\n",
       "      <td>57</td>\n",
       "      <td>-63</td>\n",
       "      <td>-52</td>\n",
       "      <td>0</td>\n",
       "      <td>0</td>\n",
       "      <td>0</td>\n",
       "      <td>0</td>\n",
       "      <td>0</td>\n",
       "      <td>0</td>\n",
       "      <td>0</td>\n",
       "      <td>0</td>\n",
       "      <td>0.0</td>\n",
       "      <td>0.0</td>\n",
       "      <td>0.0</td>\n",
       "      <td>0.0</td>\n",
       "      <td>0.0</td>\n",
       "      <td>0.0</td>\n",
       "    </tr>\n",
       "  </tbody>\n",
       "</table>\n",
       "</div>"
      ],
      "text/plain": [
       "   genergy  gpuls  gdenergy  gdpuls  nbumps  nbumps2  nbumps3  nbumps4  \\\n",
       "0    15180     48       -72     -72       0        0        0        0   \n",
       "1    14720     33       -70     -79       1        0        1        0   \n",
       "2     8050     30       -81     -78       0        0        0        0   \n",
       "3    28820    171       -23      40       1        0        1        0   \n",
       "4    12640     57       -63     -52       0        0        0        0   \n",
       "\n",
       "   nbumps5  energy  maxenergy  class  seismic: b  seismoacoustic: b  \\\n",
       "0        0       0          0      0         0.0                0.0   \n",
       "1        0    2000       2000      0         0.0                0.0   \n",
       "2        0       0          0      0         0.0                0.0   \n",
       "3        0    3000       3000      0         0.0                0.0   \n",
       "4        0       0          0      0         0.0                0.0   \n",
       "\n",
       "   seismoacoustic: c  shift: W  ghazard: b  ghazard: c  \n",
       "0                0.0       0.0         0.0         0.0  \n",
       "1                0.0       0.0         0.0         0.0  \n",
       "2                0.0       0.0         0.0         0.0  \n",
       "3                0.0       0.0         0.0         0.0  \n",
       "4                0.0       0.0         0.0         0.0  "
      ]
     },
     "execution_count": 132,
     "metadata": {},
     "output_type": "execute_result"
    }
   ],
   "source": [
    "data.head()"
   ]
  },
  {
   "cell_type": "code",
   "execution_count": 133,
   "id": "18e0f2ec-0b7d-438f-855a-1ce74d7db590",
   "metadata": {},
   "outputs": [
    {
     "data": {
      "text/html": [
       "<div>\n",
       "<style scoped>\n",
       "    .dataframe tbody tr th:only-of-type {\n",
       "        vertical-align: middle;\n",
       "    }\n",
       "\n",
       "    .dataframe tbody tr th {\n",
       "        vertical-align: top;\n",
       "    }\n",
       "\n",
       "    .dataframe thead th {\n",
       "        text-align: right;\n",
       "    }\n",
       "</style>\n",
       "<table border=\"1\" class=\"dataframe\">\n",
       "  <thead>\n",
       "    <tr style=\"text-align: right;\">\n",
       "      <th></th>\n",
       "      <th>genergy</th>\n",
       "    </tr>\n",
       "    <tr>\n",
       "      <th>class</th>\n",
       "      <th></th>\n",
       "    </tr>\n",
       "  </thead>\n",
       "  <tbody>\n",
       "    <tr>\n",
       "      <th>0</th>\n",
       "      <td>2414</td>\n",
       "    </tr>\n",
       "    <tr>\n",
       "      <th>1</th>\n",
       "      <td>170</td>\n",
       "    </tr>\n",
       "  </tbody>\n",
       "</table>\n",
       "</div>"
      ],
      "text/plain": [
       "       genergy\n",
       "class         \n",
       "0         2414\n",
       "1          170"
      ]
     },
     "execution_count": 133,
     "metadata": {},
     "output_type": "execute_result"
    }
   ],
   "source": [
    "pd.pivot_table(data,\n",
    "             values = 'genergy',\n",
    "               index = 'class', \n",
    "              aggfunc = 'count')"
   ]
  },
  {
   "cell_type": "markdown",
   "id": "9b89c508-a61b-40fc-81e9-623e586f53a2",
   "metadata": {
    "jp-MarkdownHeadingCollapsed": true,
    "tags": []
   },
   "source": [
    "### Deep Autoencoder"
   ]
  },
  {
   "cell_type": "code",
   "execution_count": 134,
   "id": "7b36be44-0470-4475-bf88-9b596584808a",
   "metadata": {},
   "outputs": [],
   "source": [
    "features = data.drop(columns = ['class'])\n",
    "target = data['class']"
   ]
  },
  {
   "cell_type": "code",
   "execution_count": 135,
   "id": "e7781e6e-10b1-4d61-98f2-22d73f89cae9",
   "metadata": {},
   "outputs": [],
   "source": [
    "# min max scale the input data\n",
    "min_max_scaler = MinMaxScaler(feature_range=(0, 1))\n",
    "x_train_scaled = min_max_scaler.fit_transform(features.copy())"
   ]
  },
  {
   "cell_type": "code",
   "execution_count": 136,
   "id": "e6bd20d9-d652-4046-bea2-4a0f4d997ce1",
   "metadata": {},
   "outputs": [],
   "source": [
    "class AutoEncoder(Model):\n",
    "\n",
    "    def __init__(self, output_units):\n",
    "        super().__init__()\n",
    "        self.encoder = Sequential([\n",
    "          Dense(10,input_dim = output_units, activation='sigmoid'),\n",
    "          Dropout(0.1),\n",
    "          Dense(5, activation='relu'),\n",
    "          Dropout(0.1),\n",
    "          Dense(3, activation='relu')\n",
    "        ])\n",
    "        self.decoder = Sequential([\n",
    "          Dense(5, activation='relu'),\n",
    "          Dropout(0.1),\n",
    "          Dense(10,  activation='relu'),\n",
    "          Dropout(0.1),\n",
    "          Dense(output_units, activation='sigmoid')\n",
    "        ])\n",
    "  \n",
    "    def call(self, inputs):\n",
    "        encoded = self.encoder(inputs)\n",
    "        decoded = self.decoder(encoded)\n",
    "        return decoded"
   ]
  },
  {
   "cell_type": "code",
   "execution_count": 137,
   "id": "6d9a8ba0-0461-4487-b219-c009385d4f1a",
   "metadata": {},
   "outputs": [],
   "source": [
    "def find_threshold(model, x_train_scaled):\n",
    "    reconstructions = model.predict(x_train_scaled)\n",
    "  # provides losses of individual instances\n",
    "    reconstruction_errors = tf.keras.losses.msle(reconstructions, x_train_scaled)\n",
    "  # threshold for anomaly scores\n",
    "    threshold = np.mean(reconstruction_errors.numpy()) \\\n",
    "      + np.std(reconstruction_errors.numpy())\n",
    "    return threshold\n",
    "\n",
    "def get_predictions(model, x_train_scaled, threshold):\n",
    "    predictions = model.predict(x_train_scaled)\n",
    "  # provides losses of individual instances\n",
    "    errors = tf.keras.losses.msle(predictions, x_train_scaled)\n",
    "  # 1 = anomaly, 0 = normal\n",
    "    anomaly_mask = pd.Series(errors) > threshold\n",
    "    preds = anomaly_mask.map(lambda x: 1.0 if x == True else 0.0)\n",
    "    return preds, errors"
   ]
  },
  {
   "cell_type": "code",
   "execution_count": 138,
   "id": "05740afd-13d9-49d4-8dcd-4a0648fe8fa9",
   "metadata": {
    "tags": []
   },
   "outputs": [
    {
     "name": "stdout",
     "output_type": "stream",
     "text": [
      "Epoch 1/20\n",
      "41/41 [==============================] - 1s 2ms/step - loss: 0.1351 - mse: 0.2196\n",
      "Epoch 2/20\n",
      "41/41 [==============================] - 0s 2ms/step - loss: 0.1222 - mse: 0.1977\n",
      "Epoch 3/20\n",
      "41/41 [==============================] - 0s 2ms/step - loss: 0.0935 - mse: 0.1540\n",
      "Epoch 4/20\n",
      "41/41 [==============================] - 0s 2ms/step - loss: 0.0574 - mse: 0.0986\n",
      "Epoch 5/20\n",
      "41/41 [==============================] - 0s 2ms/step - loss: 0.0382 - mse: 0.0703\n",
      "Epoch 6/20\n",
      "41/41 [==============================] - 0s 2ms/step - loss: 0.0321 - mse: 0.0614\n",
      "Epoch 7/20\n",
      "41/41 [==============================] - 0s 2ms/step - loss: 0.0307 - mse: 0.0594\n",
      "Epoch 8/20\n",
      "41/41 [==============================] - 0s 2ms/step - loss: 0.0300 - mse: 0.0583\n",
      "Epoch 9/20\n",
      "41/41 [==============================] - 0s 2ms/step - loss: 0.0293 - mse: 0.0576\n",
      "Epoch 10/20\n",
      "41/41 [==============================] - 0s 2ms/step - loss: 0.0289 - mse: 0.0571\n",
      "Epoch 11/20\n",
      "41/41 [==============================] - 0s 2ms/step - loss: 0.0283 - mse: 0.0562\n",
      "Epoch 12/20\n",
      "41/41 [==============================] - 0s 2ms/step - loss: 0.0277 - mse: 0.0556\n",
      "Epoch 13/20\n",
      "41/41 [==============================] - 0s 2ms/step - loss: 0.0278 - mse: 0.0555\n",
      "Epoch 14/20\n",
      "41/41 [==============================] - 0s 2ms/step - loss: 0.0275 - mse: 0.0552\n",
      "Epoch 15/20\n",
      "41/41 [==============================] - 0s 2ms/step - loss: 0.0270 - mse: 0.0547\n",
      "Epoch 16/20\n",
      "41/41 [==============================] - 0s 2ms/step - loss: 0.0266 - mse: 0.0538\n",
      "Epoch 17/20\n",
      "41/41 [==============================] - 0s 2ms/step - loss: 0.0261 - mse: 0.0534\n",
      "Epoch 18/20\n",
      "41/41 [==============================] - 0s 2ms/step - loss: 0.0257 - mse: 0.0527\n",
      "Epoch 19/20\n",
      "41/41 [==============================] - 0s 2ms/step - loss: 0.0253 - mse: 0.0521\n",
      "Epoch 20/20\n",
      "41/41 [==============================] - 0s 2ms/step - loss: 0.0250 - mse: 0.0516\n",
      "3.640625\n",
      "81/81 [==============================] - 0s 1ms/step\n",
      "Threshold: 0.03599470813590553\n",
      "81/81 [==============================] - 0s 1ms/step\n",
      "0.515625\n"
     ]
    }
   ],
   "source": [
    "start = time.process_time()\n",
    "\n",
    "model = AutoEncoder(output_units=x_train_scaled.shape[1])\n",
    "\n",
    "model.compile(loss='msle', metrics=['mse'], optimizer='adam')\n",
    "\n",
    "history = model.fit(\n",
    "    x_train_scaled,\n",
    "    x_train_scaled,\n",
    "    epochs=20,\n",
    "    batch_size=64,\n",
    ")\n",
    "\n",
    "\n",
    "end = time.process_time()\n",
    "seismic_deep_autoencoders_train_time = end - start\n",
    "print(end - start)\n",
    "\n",
    "start = time.process_time()\n",
    "\n",
    "threshold = find_threshold(model, x_train_scaled)\n",
    "print(f\"Threshold: {threshold}\")\n",
    "\n",
    "predictions, scores = get_predictions(model, x_train_scaled, threshold)\n",
    "\n",
    "end = time.process_time()\n",
    "seismic_deep_autoencoders_test_time = end - start\n",
    "print(end - start)"
   ]
  },
  {
   "cell_type": "code",
   "execution_count": 139,
   "id": "15633540",
   "metadata": {},
   "outputs": [
    {
     "data": {
      "text/plain": [
       "0.6340245626005165"
      ]
     },
     "execution_count": 139,
     "metadata": {},
     "output_type": "execute_result"
    }
   ],
   "source": [
    "fpr, tpr, _ = metrics.roc_curve(target, scores)\n",
    "seismic_deep_autoencoders_auc = metrics.auc(fpr, tpr)\n",
    "metrics.auc(fpr, tpr)"
   ]
  },
  {
   "cell_type": "code",
   "execution_count": 140,
   "id": "a77ffca2-901e-4d7e-a6f8-02ca977bf322",
   "metadata": {},
   "outputs": [
    {
     "name": "stdout",
     "output_type": "stream",
     "text": [
      "              precision    recall  f1-score   support\n",
      "\n",
      "           0       0.94      0.88      0.91      2414\n",
      "           1       0.10      0.20      0.13       170\n",
      "\n",
      "    accuracy                           0.83      2584\n",
      "   macro avg       0.52      0.54      0.52      2584\n",
      "weighted avg       0.88      0.83      0.86      2584\n",
      "\n"
     ]
    }
   ],
   "source": [
    "seismic_deep_autoencoders_report = classification_report(target, predictions, target_names = ['0','1'], output_dict = True)\n",
    "print(classification_report(target, predictions, target_names = ['0','1']))"
   ]
  },
  {
   "cell_type": "code",
   "execution_count": 141,
   "id": "a7568fa8",
   "metadata": {},
   "outputs": [
    {
     "name": "stdout",
     "output_type": "stream",
     "text": [
      "0.09174293166073316\n"
     ]
    }
   ],
   "source": [
    "precision, recall, thresholds = precision_recall_curve(target, scores)\n",
    "seismic_deep_ae_auc_precision_recall = metrics.auc(recall, precision)\n",
    "print(seismic_deep_ae_auc_precision_recall)"
   ]
  },
  {
   "cell_type": "markdown",
   "id": "2405a678-b7d5-4ce9-b156-3dd2331e33b7",
   "metadata": {
    "jp-MarkdownHeadingCollapsed": true,
    "tags": []
   },
   "source": [
    "## Musk"
   ]
  },
  {
   "cell_type": "markdown",
   "id": "b20120c3",
   "metadata": {},
   "source": [
    "**Dataset source**: http://odds.cs.stonybrook.edu/musk-dataset/ (data is transformed from .mat to .csv format)\n",
    "\n",
    "Shebuti Rayana (2016). ODDS Library [http://odds.cs.stonybrook.edu]. Stony Brook, NY: Stony Brook University, Department of Computer Science.\n",
    "\n",
    "**Additional sources:**\n",
    "\n",
    "C. C. Aggarwal and S. Sathe, “Theoretical foundations and algorithms for outlier ensembles.” ACM SIGKDD Explorations Newsletter, vol. 17, no. 1, pp. 24–47, 2015."
   ]
  },
  {
   "cell_type": "code",
   "execution_count": 142,
   "id": "73a9a78a-1612-4d11-8630-d3cc0cf39955",
   "metadata": {},
   "outputs": [],
   "source": [
    "data = pd.read_csv('./musk.csv', sep = ',')"
   ]
  },
  {
   "cell_type": "code",
   "execution_count": 143,
   "id": "58a9917b",
   "metadata": {},
   "outputs": [
    {
     "data": {
      "text/html": [
       "<div>\n",
       "<style scoped>\n",
       "    .dataframe tbody tr th:only-of-type {\n",
       "        vertical-align: middle;\n",
       "    }\n",
       "\n",
       "    .dataframe tbody tr th {\n",
       "        vertical-align: top;\n",
       "    }\n",
       "\n",
       "    .dataframe thead th {\n",
       "        text-align: right;\n",
       "    }\n",
       "</style>\n",
       "<table border=\"1\" class=\"dataframe\">\n",
       "  <thead>\n",
       "    <tr style=\"text-align: right;\">\n",
       "      <th></th>\n",
       "      <th>Col1</th>\n",
       "      <th>Col2</th>\n",
       "      <th>Col3</th>\n",
       "      <th>Col4</th>\n",
       "      <th>Col5</th>\n",
       "      <th>Col6</th>\n",
       "      <th>Col7</th>\n",
       "      <th>Col8</th>\n",
       "      <th>Col9</th>\n",
       "      <th>Col10</th>\n",
       "      <th>...</th>\n",
       "      <th>Col158</th>\n",
       "      <th>Col159</th>\n",
       "      <th>Col160</th>\n",
       "      <th>Col161</th>\n",
       "      <th>Col162</th>\n",
       "      <th>Col163</th>\n",
       "      <th>Col164</th>\n",
       "      <th>Col165</th>\n",
       "      <th>Col166</th>\n",
       "      <th>y</th>\n",
       "    </tr>\n",
       "  </thead>\n",
       "  <tbody>\n",
       "    <tr>\n",
       "      <th>0</th>\n",
       "      <td>46.0</td>\n",
       "      <td>-108.0</td>\n",
       "      <td>-60.0</td>\n",
       "      <td>-69.0</td>\n",
       "      <td>-117.0</td>\n",
       "      <td>49.0</td>\n",
       "      <td>38.0</td>\n",
       "      <td>-161.0</td>\n",
       "      <td>-8.0</td>\n",
       "      <td>5.0</td>\n",
       "      <td>...</td>\n",
       "      <td>-308.0</td>\n",
       "      <td>52.0</td>\n",
       "      <td>-7.0</td>\n",
       "      <td>39.0</td>\n",
       "      <td>126.0</td>\n",
       "      <td>156.0</td>\n",
       "      <td>-50.0</td>\n",
       "      <td>-112.0</td>\n",
       "      <td>96.0</td>\n",
       "      <td>1.0</td>\n",
       "    </tr>\n",
       "    <tr>\n",
       "      <th>1</th>\n",
       "      <td>41.0</td>\n",
       "      <td>-188.0</td>\n",
       "      <td>-145.0</td>\n",
       "      <td>22.0</td>\n",
       "      <td>-117.0</td>\n",
       "      <td>-6.0</td>\n",
       "      <td>57.0</td>\n",
       "      <td>-171.0</td>\n",
       "      <td>-39.0</td>\n",
       "      <td>-100.0</td>\n",
       "      <td>...</td>\n",
       "      <td>-59.0</td>\n",
       "      <td>-2.0</td>\n",
       "      <td>52.0</td>\n",
       "      <td>103.0</td>\n",
       "      <td>136.0</td>\n",
       "      <td>169.0</td>\n",
       "      <td>-61.0</td>\n",
       "      <td>-136.0</td>\n",
       "      <td>79.0</td>\n",
       "      <td>1.0</td>\n",
       "    </tr>\n",
       "    <tr>\n",
       "      <th>2</th>\n",
       "      <td>46.0</td>\n",
       "      <td>-194.0</td>\n",
       "      <td>-145.0</td>\n",
       "      <td>28.0</td>\n",
       "      <td>-117.0</td>\n",
       "      <td>73.0</td>\n",
       "      <td>57.0</td>\n",
       "      <td>-168.0</td>\n",
       "      <td>-39.0</td>\n",
       "      <td>-22.0</td>\n",
       "      <td>...</td>\n",
       "      <td>-134.0</td>\n",
       "      <td>-154.0</td>\n",
       "      <td>57.0</td>\n",
       "      <td>143.0</td>\n",
       "      <td>142.0</td>\n",
       "      <td>165.0</td>\n",
       "      <td>-67.0</td>\n",
       "      <td>-145.0</td>\n",
       "      <td>39.0</td>\n",
       "      <td>1.0</td>\n",
       "    </tr>\n",
       "    <tr>\n",
       "      <th>3</th>\n",
       "      <td>41.0</td>\n",
       "      <td>-188.0</td>\n",
       "      <td>-145.0</td>\n",
       "      <td>22.0</td>\n",
       "      <td>-117.0</td>\n",
       "      <td>-7.0</td>\n",
       "      <td>57.0</td>\n",
       "      <td>-170.0</td>\n",
       "      <td>-39.0</td>\n",
       "      <td>-99.0</td>\n",
       "      <td>...</td>\n",
       "      <td>-60.0</td>\n",
       "      <td>-4.0</td>\n",
       "      <td>52.0</td>\n",
       "      <td>104.0</td>\n",
       "      <td>136.0</td>\n",
       "      <td>168.0</td>\n",
       "      <td>-60.0</td>\n",
       "      <td>-135.0</td>\n",
       "      <td>80.0</td>\n",
       "      <td>1.0</td>\n",
       "    </tr>\n",
       "    <tr>\n",
       "      <th>4</th>\n",
       "      <td>41.0</td>\n",
       "      <td>-188.0</td>\n",
       "      <td>-145.0</td>\n",
       "      <td>22.0</td>\n",
       "      <td>-117.0</td>\n",
       "      <td>-7.0</td>\n",
       "      <td>57.0</td>\n",
       "      <td>-170.0</td>\n",
       "      <td>-39.0</td>\n",
       "      <td>-99.0</td>\n",
       "      <td>...</td>\n",
       "      <td>-60.0</td>\n",
       "      <td>-4.0</td>\n",
       "      <td>52.0</td>\n",
       "      <td>104.0</td>\n",
       "      <td>137.0</td>\n",
       "      <td>168.0</td>\n",
       "      <td>-60.0</td>\n",
       "      <td>-135.0</td>\n",
       "      <td>80.0</td>\n",
       "      <td>1.0</td>\n",
       "    </tr>\n",
       "  </tbody>\n",
       "</table>\n",
       "<p>5 rows × 167 columns</p>\n",
       "</div>"
      ],
      "text/plain": [
       "   Col1   Col2   Col3  Col4   Col5  Col6  Col7   Col8  Col9  Col10  ...  \\\n",
       "0  46.0 -108.0  -60.0 -69.0 -117.0  49.0  38.0 -161.0  -8.0    5.0  ...   \n",
       "1  41.0 -188.0 -145.0  22.0 -117.0  -6.0  57.0 -171.0 -39.0 -100.0  ...   \n",
       "2  46.0 -194.0 -145.0  28.0 -117.0  73.0  57.0 -168.0 -39.0  -22.0  ...   \n",
       "3  41.0 -188.0 -145.0  22.0 -117.0  -7.0  57.0 -170.0 -39.0  -99.0  ...   \n",
       "4  41.0 -188.0 -145.0  22.0 -117.0  -7.0  57.0 -170.0 -39.0  -99.0  ...   \n",
       "\n",
       "   Col158  Col159  Col160  Col161  Col162  Col163  Col164  Col165  Col166    y  \n",
       "0  -308.0    52.0    -7.0    39.0   126.0   156.0   -50.0  -112.0    96.0  1.0  \n",
       "1   -59.0    -2.0    52.0   103.0   136.0   169.0   -61.0  -136.0    79.0  1.0  \n",
       "2  -134.0  -154.0    57.0   143.0   142.0   165.0   -67.0  -145.0    39.0  1.0  \n",
       "3   -60.0    -4.0    52.0   104.0   136.0   168.0   -60.0  -135.0    80.0  1.0  \n",
       "4   -60.0    -4.0    52.0   104.0   137.0   168.0   -60.0  -135.0    80.0  1.0  \n",
       "\n",
       "[5 rows x 167 columns]"
      ]
     },
     "execution_count": 143,
     "metadata": {},
     "output_type": "execute_result"
    }
   ],
   "source": [
    "data.head()"
   ]
  },
  {
   "cell_type": "code",
   "execution_count": 144,
   "id": "4d289c50-09ef-40a0-acd9-5103eaf401c1",
   "metadata": {},
   "outputs": [],
   "source": [
    "data['y'] = data['y'].astype(int)"
   ]
  },
  {
   "cell_type": "code",
   "execution_count": 145,
   "id": "87ef58f9-6a93-4346-8a63-4aeabf235578",
   "metadata": {},
   "outputs": [
    {
     "data": {
      "text/plain": [
       "(3062, 167)"
      ]
     },
     "execution_count": 145,
     "metadata": {},
     "output_type": "execute_result"
    }
   ],
   "source": [
    "data.shape"
   ]
  },
  {
   "cell_type": "code",
   "execution_count": 146,
   "id": "53716d75-2f1b-47c6-9f8a-6f79c81467bb",
   "metadata": {},
   "outputs": [
    {
     "data": {
      "text/html": [
       "<div>\n",
       "<style scoped>\n",
       "    .dataframe tbody tr th:only-of-type {\n",
       "        vertical-align: middle;\n",
       "    }\n",
       "\n",
       "    .dataframe tbody tr th {\n",
       "        vertical-align: top;\n",
       "    }\n",
       "\n",
       "    .dataframe thead th {\n",
       "        text-align: right;\n",
       "    }\n",
       "</style>\n",
       "<table border=\"1\" class=\"dataframe\">\n",
       "  <thead>\n",
       "    <tr style=\"text-align: right;\">\n",
       "      <th></th>\n",
       "      <th>Col1</th>\n",
       "    </tr>\n",
       "    <tr>\n",
       "      <th>y</th>\n",
       "      <th></th>\n",
       "    </tr>\n",
       "  </thead>\n",
       "  <tbody>\n",
       "    <tr>\n",
       "      <th>0</th>\n",
       "      <td>2965</td>\n",
       "    </tr>\n",
       "    <tr>\n",
       "      <th>1</th>\n",
       "      <td>97</td>\n",
       "    </tr>\n",
       "  </tbody>\n",
       "</table>\n",
       "</div>"
      ],
      "text/plain": [
       "   Col1\n",
       "y      \n",
       "0  2965\n",
       "1    97"
      ]
     },
     "execution_count": 146,
     "metadata": {},
     "output_type": "execute_result"
    }
   ],
   "source": [
    "pd.pivot_table(data,\n",
    "             values = 'Col1',\n",
    "               index = 'y', \n",
    "              aggfunc = 'count')"
   ]
  },
  {
   "cell_type": "markdown",
   "id": "aa86b2f8-15a8-4a23-ac73-92bebcf8f2a3",
   "metadata": {
    "jp-MarkdownHeadingCollapsed": true,
    "tags": []
   },
   "source": [
    "### Deep Autoencoder"
   ]
  },
  {
   "cell_type": "code",
   "execution_count": 147,
   "id": "a3da0283-f6b1-4f85-b41a-99167994418e",
   "metadata": {},
   "outputs": [],
   "source": [
    "features = data.drop(columns = ['y'])\n",
    "target = data['y']"
   ]
  },
  {
   "cell_type": "code",
   "execution_count": 148,
   "id": "42768335-ae24-4306-9480-1881cae5c5c7",
   "metadata": {},
   "outputs": [],
   "source": [
    "# min max scale the input data\n",
    "min_max_scaler = MinMaxScaler(feature_range=(0, 1))\n",
    "x_train_scaled = min_max_scaler.fit_transform(features.copy())"
   ]
  },
  {
   "cell_type": "code",
   "execution_count": 149,
   "id": "6f870152-e401-4238-b71a-573ce1b6ae76",
   "metadata": {},
   "outputs": [],
   "source": [
    "class AutoEncoder(Model):\n",
    "\n",
    "    def __init__(self, output_units):\n",
    "        super().__init__()\n",
    "        self.encoder = Sequential([\n",
    "          Dense(83,input_dim = output_units, activation='sigmoid'),\n",
    "          Dropout(0.1),\n",
    "          Dense(41, activation='relu'),\n",
    "          Dropout(0.1),\n",
    "          Dense(20, activation='relu')\n",
    "        ])\n",
    "        self.decoder = Sequential([\n",
    "          Dense(41, activation='relu'),\n",
    "          Dropout(0.1),\n",
    "          Dense(83,  activation='relu'),\n",
    "          Dropout(0.1),\n",
    "          Dense(output_units, activation='sigmoid')\n",
    "        ])\n",
    "  \n",
    "    def call(self, inputs):\n",
    "        encoded = self.encoder(inputs)\n",
    "        decoded = self.decoder(encoded)\n",
    "        return decoded"
   ]
  },
  {
   "cell_type": "code",
   "execution_count": 150,
   "id": "bef64a5e-b81d-46ce-9954-1cebff150ac4",
   "metadata": {},
   "outputs": [],
   "source": [
    "def find_threshold(model, x_train_scaled):\n",
    "    reconstructions = model.predict(x_train_scaled)\n",
    "  # provides losses of individual instances\n",
    "    reconstruction_errors = tf.keras.losses.msle(reconstructions, x_train_scaled)\n",
    "  # threshold for anomaly scores\n",
    "    threshold = np.mean(reconstruction_errors.numpy()) \\\n",
    "      + np.std(reconstruction_errors.numpy())\n",
    "    return threshold\n",
    "\n",
    "def get_predictions(model, x_train_scaled, threshold):\n",
    "    predictions = model.predict(x_train_scaled)\n",
    "  # provides losses of individual instances\n",
    "    errors = tf.keras.losses.msle(predictions, x_train_scaled)\n",
    "  # 1 = anomaly, 0 = normal\n",
    "    anomaly_mask = pd.Series(errors) > threshold\n",
    "    preds = anomaly_mask.map(lambda x: 1.0 if x == True else 0.0)\n",
    "    return preds, errors"
   ]
  },
  {
   "cell_type": "code",
   "execution_count": 151,
   "id": "cde673a9-7fbe-4956-b8db-58be6f3904f5",
   "metadata": {
    "tags": []
   },
   "outputs": [
    {
     "name": "stdout",
     "output_type": "stream",
     "text": [
      "Epoch 1/20\n",
      "48/48 [==============================] - 1s 3ms/step - loss: 0.0404 - mse: 0.0755\n",
      "Epoch 2/20\n",
      "48/48 [==============================] - 0s 3ms/step - loss: 0.0247 - mse: 0.0491\n",
      "Epoch 3/20\n",
      "48/48 [==============================] - 0s 3ms/step - loss: 0.0177 - mse: 0.0359\n",
      "Epoch 4/20\n",
      "48/48 [==============================] - 0s 3ms/step - loss: 0.0172 - mse: 0.0350\n",
      "Epoch 5/20\n",
      "48/48 [==============================] - 0s 3ms/step - loss: 0.0168 - mse: 0.0343\n",
      "Epoch 6/20\n",
      "48/48 [==============================] - 0s 3ms/step - loss: 0.0158 - mse: 0.0326\n",
      "Epoch 7/20\n",
      "48/48 [==============================] - 0s 3ms/step - loss: 0.0143 - mse: 0.0296\n",
      "Epoch 8/20\n",
      "48/48 [==============================] - 0s 3ms/step - loss: 0.0132 - mse: 0.0275\n",
      "Epoch 9/20\n",
      "48/48 [==============================] - 0s 3ms/step - loss: 0.0126 - mse: 0.0264\n",
      "Epoch 10/20\n",
      "48/48 [==============================] - 0s 3ms/step - loss: 0.0122 - mse: 0.0256\n",
      "Epoch 11/20\n",
      "48/48 [==============================] - 0s 3ms/step - loss: 0.0119 - mse: 0.0250\n",
      "Epoch 12/20\n",
      "48/48 [==============================] - 0s 3ms/step - loss: 0.0115 - mse: 0.0244\n",
      "Epoch 13/20\n",
      "48/48 [==============================] - 0s 3ms/step - loss: 0.0111 - mse: 0.0235\n",
      "Epoch 14/20\n",
      "48/48 [==============================] - 0s 3ms/step - loss: 0.0108 - mse: 0.0227\n",
      "Epoch 15/20\n",
      "48/48 [==============================] - 0s 3ms/step - loss: 0.0105 - mse: 0.0221\n",
      "Epoch 16/20\n",
      "48/48 [==============================] - 0s 3ms/step - loss: 0.0101 - mse: 0.0214\n",
      "Epoch 17/20\n",
      "48/48 [==============================] - 0s 4ms/step - loss: 0.0099 - mse: 0.0209\n",
      "Epoch 18/20\n",
      "48/48 [==============================] - 0s 4ms/step - loss: 0.0097 - mse: 0.0205\n",
      "Epoch 19/20\n",
      "48/48 [==============================] - 0s 4ms/step - loss: 0.0094 - mse: 0.0200\n",
      "Epoch 20/20\n",
      "48/48 [==============================] - 0s 5ms/step - loss: 0.0093 - mse: 0.0196\n",
      "6.609375\n",
      "96/96 [==============================] - 0s 2ms/step\n",
      "Threshold: 0.01072259934954277\n",
      "96/96 [==============================] - 0s 1ms/step\n",
      "0.65625\n"
     ]
    }
   ],
   "source": [
    "start = time.process_time()\n",
    "\n",
    "model = AutoEncoder(output_units=x_train_scaled.shape[1])\n",
    "\n",
    "model.compile(loss='msle', metrics=['mse'], optimizer='adam')\n",
    "\n",
    "history = model.fit(\n",
    "    x_train_scaled,\n",
    "    x_train_scaled,\n",
    "    epochs=20,\n",
    "    batch_size=64,\n",
    ")\n",
    "\n",
    "end = time.process_time()\n",
    "musk_deep_autoencoders_train_time = end - start\n",
    "print(end - start)\n",
    "\n",
    "start = time.process_time()\n",
    "\n",
    "threshold = find_threshold(model, x_train_scaled)\n",
    "print(f\"Threshold: {threshold}\")\n",
    "\n",
    "predictions, scores = get_predictions(model, x_train_scaled, threshold)\n",
    "\n",
    "end = time.process_time()\n",
    "musk_deep_autoencoders_test_time = end - start\n",
    "print(end - start)"
   ]
  },
  {
   "cell_type": "code",
   "execution_count": 152,
   "id": "6f327309",
   "metadata": {},
   "outputs": [
    {
     "data": {
      "text/plain": [
       "array([[2491,  474],\n",
       "       [  79,   18]], dtype=int64)"
      ]
     },
     "execution_count": 152,
     "metadata": {},
     "output_type": "execute_result"
    }
   ],
   "source": [
    "confusion_matrix(target, predictions)"
   ]
  },
  {
   "cell_type": "code",
   "execution_count": 153,
   "id": "7d6a2a19",
   "metadata": {},
   "outputs": [
    {
     "data": {
      "text/plain": [
       "0.603184923766972"
      ]
     },
     "execution_count": 153,
     "metadata": {},
     "output_type": "execute_result"
    }
   ],
   "source": [
    "fpr, tpr, _ = metrics.roc_curve(target, scores)\n",
    "musk_deep_autoencoders_auc = metrics.auc(fpr, tpr)\n",
    "metrics.auc(fpr, tpr)"
   ]
  },
  {
   "cell_type": "code",
   "execution_count": 154,
   "id": "44e8033f-878f-4929-8465-8f86fc2d3d9b",
   "metadata": {},
   "outputs": [
    {
     "name": "stdout",
     "output_type": "stream",
     "text": [
      "              precision    recall  f1-score   support\n",
      "\n",
      "           0       0.97      0.84      0.90      2965\n",
      "           1       0.04      0.19      0.06        97\n",
      "\n",
      "    accuracy                           0.82      3062\n",
      "   macro avg       0.50      0.51      0.48      3062\n",
      "weighted avg       0.94      0.82      0.87      3062\n",
      "\n"
     ]
    }
   ],
   "source": [
    "musk_deep_autoencoders_report = classification_report(target, predictions, target_names = ['0','1'], output_dict = True)\n",
    "print(classification_report(target, predictions, target_names = ['0','1']))"
   ]
  },
  {
   "cell_type": "code",
   "execution_count": 155,
   "id": "5af6ed25",
   "metadata": {},
   "outputs": [
    {
     "name": "stdout",
     "output_type": "stream",
     "text": [
      "0.07009372144034698\n"
     ]
    }
   ],
   "source": [
    "precision, recall, thresholds = precision_recall_curve(target, scores)\n",
    "musk_deep_ae_auc_precision_recall = metrics.auc(recall, precision)\n",
    "print(musk_deep_ae_auc_precision_recall)"
   ]
  },
  {
   "cell_type": "markdown",
   "id": "c2dced57-748e-4374-b5f8-85488e5baf9d",
   "metadata": {
    "jp-MarkdownHeadingCollapsed": true,
    "tags": []
   },
   "source": [
    "## bank"
   ]
  },
  {
   "cell_type": "markdown",
   "id": "c55914f8",
   "metadata": {},
   "source": [
    "**Dataset source**: https://github.com/GuansongPang/ADRepository-Anomaly-detection-datasets/tree/main/categorical%20data\n",
    "\n",
    "Pang, G., Shen, C., Cao, L., & Hengel, A. V. D. (2021). Deep learning for anomaly detection: A review. ACM Computing Surveys (CSUR), 54(2), 1-38."
   ]
  },
  {
   "cell_type": "code",
   "execution_count": 156,
   "id": "45331943-15fa-4768-a7b0-de9de07366ca",
   "metadata": {},
   "outputs": [],
   "source": [
    "data = pd.read_csv('./bank.csv')"
   ]
  },
  {
   "cell_type": "code",
   "execution_count": 157,
   "id": "3d466cef-6b84-4710-bf4b-4f83fcfa54d7",
   "metadata": {
    "tags": []
   },
   "outputs": [
    {
     "data": {
      "text/html": [
       "<div>\n",
       "<style scoped>\n",
       "    .dataframe tbody tr th:only-of-type {\n",
       "        vertical-align: middle;\n",
       "    }\n",
       "\n",
       "    .dataframe tbody tr th {\n",
       "        vertical-align: top;\n",
       "    }\n",
       "\n",
       "    .dataframe thead th {\n",
       "        text-align: right;\n",
       "    }\n",
       "</style>\n",
       "<table border=\"1\" class=\"dataframe\">\n",
       "  <thead>\n",
       "    <tr style=\"text-align: right;\">\n",
       "      <th></th>\n",
       "      <th>age</th>\n",
       "      <th>job=housemaid</th>\n",
       "      <th>job=services</th>\n",
       "      <th>job=admin.</th>\n",
       "      <th>job=blue-collar</th>\n",
       "      <th>job=technician</th>\n",
       "      <th>job=retired</th>\n",
       "      <th>job=management</th>\n",
       "      <th>job=unemployed</th>\n",
       "      <th>job=self-employed</th>\n",
       "      <th>...</th>\n",
       "      <th>previous</th>\n",
       "      <th>poutcome=nonexistent</th>\n",
       "      <th>poutcome=failure</th>\n",
       "      <th>poutcome=success</th>\n",
       "      <th>emp.var.rate</th>\n",
       "      <th>cons.price.idx</th>\n",
       "      <th>cons.conf.idx</th>\n",
       "      <th>euribor3m</th>\n",
       "      <th>nr.employed</th>\n",
       "      <th>class</th>\n",
       "    </tr>\n",
       "  </thead>\n",
       "  <tbody>\n",
       "    <tr>\n",
       "      <th>0</th>\n",
       "      <td>0.209877</td>\n",
       "      <td>0</td>\n",
       "      <td>0</td>\n",
       "      <td>0</td>\n",
       "      <td>0</td>\n",
       "      <td>0</td>\n",
       "      <td>0</td>\n",
       "      <td>0</td>\n",
       "      <td>0</td>\n",
       "      <td>0</td>\n",
       "      <td>...</td>\n",
       "      <td>0.000000</td>\n",
       "      <td>1</td>\n",
       "      <td>0</td>\n",
       "      <td>0</td>\n",
       "      <td>1.000000</td>\n",
       "      <td>0.882307</td>\n",
       "      <td>0.376569</td>\n",
       "      <td>0.980730</td>\n",
       "      <td>1.000000</td>\n",
       "      <td>0</td>\n",
       "    </tr>\n",
       "    <tr>\n",
       "      <th>1</th>\n",
       "      <td>0.296296</td>\n",
       "      <td>0</td>\n",
       "      <td>0</td>\n",
       "      <td>1</td>\n",
       "      <td>0</td>\n",
       "      <td>0</td>\n",
       "      <td>0</td>\n",
       "      <td>0</td>\n",
       "      <td>0</td>\n",
       "      <td>0</td>\n",
       "      <td>...</td>\n",
       "      <td>0.000000</td>\n",
       "      <td>1</td>\n",
       "      <td>0</td>\n",
       "      <td>0</td>\n",
       "      <td>1.000000</td>\n",
       "      <td>0.484412</td>\n",
       "      <td>0.615063</td>\n",
       "      <td>0.981183</td>\n",
       "      <td>1.000000</td>\n",
       "      <td>0</td>\n",
       "    </tr>\n",
       "    <tr>\n",
       "      <th>2</th>\n",
       "      <td>0.246914</td>\n",
       "      <td>1</td>\n",
       "      <td>0</td>\n",
       "      <td>0</td>\n",
       "      <td>0</td>\n",
       "      <td>0</td>\n",
       "      <td>0</td>\n",
       "      <td>0</td>\n",
       "      <td>0</td>\n",
       "      <td>0</td>\n",
       "      <td>...</td>\n",
       "      <td>0.000000</td>\n",
       "      <td>1</td>\n",
       "      <td>0</td>\n",
       "      <td>0</td>\n",
       "      <td>0.937500</td>\n",
       "      <td>0.698753</td>\n",
       "      <td>0.602510</td>\n",
       "      <td>0.957379</td>\n",
       "      <td>0.859735</td>\n",
       "      <td>0</td>\n",
       "    </tr>\n",
       "    <tr>\n",
       "      <th>3</th>\n",
       "      <td>0.160494</td>\n",
       "      <td>0</td>\n",
       "      <td>1</td>\n",
       "      <td>0</td>\n",
       "      <td>0</td>\n",
       "      <td>0</td>\n",
       "      <td>0</td>\n",
       "      <td>0</td>\n",
       "      <td>0</td>\n",
       "      <td>0</td>\n",
       "      <td>...</td>\n",
       "      <td>0.142857</td>\n",
       "      <td>0</td>\n",
       "      <td>1</td>\n",
       "      <td>0</td>\n",
       "      <td>0.333333</td>\n",
       "      <td>0.269680</td>\n",
       "      <td>0.192469</td>\n",
       "      <td>0.150759</td>\n",
       "      <td>0.512287</td>\n",
       "      <td>0</td>\n",
       "    </tr>\n",
       "    <tr>\n",
       "      <th>4</th>\n",
       "      <td>0.530864</td>\n",
       "      <td>0</td>\n",
       "      <td>0</td>\n",
       "      <td>0</td>\n",
       "      <td>1</td>\n",
       "      <td>0</td>\n",
       "      <td>0</td>\n",
       "      <td>0</td>\n",
       "      <td>0</td>\n",
       "      <td>0</td>\n",
       "      <td>...</td>\n",
       "      <td>0.000000</td>\n",
       "      <td>1</td>\n",
       "      <td>0</td>\n",
       "      <td>0</td>\n",
       "      <td>0.333333</td>\n",
       "      <td>0.340608</td>\n",
       "      <td>0.154812</td>\n",
       "      <td>0.174790</td>\n",
       "      <td>0.512287</td>\n",
       "      <td>1</td>\n",
       "    </tr>\n",
       "  </tbody>\n",
       "</table>\n",
       "<p>5 rows × 63 columns</p>\n",
       "</div>"
      ],
      "text/plain": [
       "        age  job=housemaid  job=services  job=admin.  job=blue-collar  \\\n",
       "0  0.209877              0             0           0                0   \n",
       "1  0.296296              0             0           1                0   \n",
       "2  0.246914              1             0           0                0   \n",
       "3  0.160494              0             1           0                0   \n",
       "4  0.530864              0             0           0                1   \n",
       "\n",
       "   job=technician  job=retired  job=management  job=unemployed  \\\n",
       "0               0            0               0               0   \n",
       "1               0            0               0               0   \n",
       "2               0            0               0               0   \n",
       "3               0            0               0               0   \n",
       "4               0            0               0               0   \n",
       "\n",
       "   job=self-employed  ...  previous  poutcome=nonexistent  poutcome=failure  \\\n",
       "0                  0  ...  0.000000                     1                 0   \n",
       "1                  0  ...  0.000000                     1                 0   \n",
       "2                  0  ...  0.000000                     1                 0   \n",
       "3                  0  ...  0.142857                     0                 1   \n",
       "4                  0  ...  0.000000                     1                 0   \n",
       "\n",
       "   poutcome=success  emp.var.rate  cons.price.idx  cons.conf.idx  euribor3m  \\\n",
       "0                 0      1.000000        0.882307       0.376569   0.980730   \n",
       "1                 0      1.000000        0.484412       0.615063   0.981183   \n",
       "2                 0      0.937500        0.698753       0.602510   0.957379   \n",
       "3                 0      0.333333        0.269680       0.192469   0.150759   \n",
       "4                 0      0.333333        0.340608       0.154812   0.174790   \n",
       "\n",
       "   nr.employed  class  \n",
       "0     1.000000      0  \n",
       "1     1.000000      0  \n",
       "2     0.859735      0  \n",
       "3     0.512287      0  \n",
       "4     0.512287      1  \n",
       "\n",
       "[5 rows x 63 columns]"
      ]
     },
     "execution_count": 157,
     "metadata": {},
     "output_type": "execute_result"
    }
   ],
   "source": [
    "data.head()"
   ]
  },
  {
   "cell_type": "code",
   "execution_count": 158,
   "id": "199d3f42-c83b-405f-ad36-39998fd67eef",
   "metadata": {},
   "outputs": [
    {
     "data": {
      "text/html": [
       "<div>\n",
       "<style scoped>\n",
       "    .dataframe tbody tr th:only-of-type {\n",
       "        vertical-align: middle;\n",
       "    }\n",
       "\n",
       "    .dataframe tbody tr th {\n",
       "        vertical-align: top;\n",
       "    }\n",
       "\n",
       "    .dataframe thead th {\n",
       "        text-align: right;\n",
       "    }\n",
       "</style>\n",
       "<table border=\"1\" class=\"dataframe\">\n",
       "  <thead>\n",
       "    <tr style=\"text-align: right;\">\n",
       "      <th></th>\n",
       "      <th>age</th>\n",
       "    </tr>\n",
       "    <tr>\n",
       "      <th>class</th>\n",
       "      <th></th>\n",
       "    </tr>\n",
       "  </thead>\n",
       "  <tbody>\n",
       "    <tr>\n",
       "      <th>0</th>\n",
       "      <td>36548</td>\n",
       "    </tr>\n",
       "    <tr>\n",
       "      <th>1</th>\n",
       "      <td>4640</td>\n",
       "    </tr>\n",
       "  </tbody>\n",
       "</table>\n",
       "</div>"
      ],
      "text/plain": [
       "         age\n",
       "class       \n",
       "0      36548\n",
       "1       4640"
      ]
     },
     "execution_count": 158,
     "metadata": {},
     "output_type": "execute_result"
    }
   ],
   "source": [
    "pd.pivot_table(data,\n",
    "             values = 'age',\n",
    "               index = 'class', \n",
    "              aggfunc = 'count')"
   ]
  },
  {
   "cell_type": "markdown",
   "id": "2d20ecd4-8c08-495e-8f53-974500415e0f",
   "metadata": {
    "jp-MarkdownHeadingCollapsed": true,
    "tags": []
   },
   "source": [
    "### Deep Autoencoder"
   ]
  },
  {
   "cell_type": "code",
   "execution_count": 159,
   "id": "b394067a-5838-44c0-b926-8e847358af63",
   "metadata": {},
   "outputs": [],
   "source": [
    "features = data.drop(columns = ['class'])\n",
    "target = data['class']"
   ]
  },
  {
   "cell_type": "code",
   "execution_count": 160,
   "id": "08b2a337-8c8e-4d0b-8682-c73e3c660f8a",
   "metadata": {},
   "outputs": [],
   "source": [
    "# min max scale the input data\n",
    "min_max_scaler = MinMaxScaler(feature_range=(0, 1))\n",
    "x_train_scaled = min_max_scaler.fit_transform(features.copy())"
   ]
  },
  {
   "cell_type": "code",
   "execution_count": 161,
   "id": "af69e37d-89df-4861-ae4e-54ead85464b6",
   "metadata": {},
   "outputs": [],
   "source": [
    "class AutoEncoder(Model):\n",
    "\n",
    "    def __init__(self, output_units):\n",
    "        super().__init__()\n",
    "        self.encoder = Sequential([\n",
    "          Dense(31,input_dim = output_units, activation='sigmoid'),\n",
    "          Dropout(0.1),\n",
    "          Dense(15, activation='relu'),\n",
    "          Dropout(0.1),\n",
    "          Dense(7, activation='relu')\n",
    "        ])\n",
    "        self.decoder = Sequential([\n",
    "          Dense(15, activation='relu'),\n",
    "          Dropout(0.1),\n",
    "          Dense(31,  activation='relu'),\n",
    "          Dropout(0.1),\n",
    "          Dense(output_units, activation='sigmoid')\n",
    "        ])\n",
    "  \n",
    "    def call(self, inputs):\n",
    "        encoded = self.encoder(inputs)\n",
    "        decoded = self.decoder(encoded)\n",
    "        return decoded"
   ]
  },
  {
   "cell_type": "code",
   "execution_count": 162,
   "id": "992632db-5987-4ad7-96c8-bad7c72ee88d",
   "metadata": {},
   "outputs": [],
   "source": [
    "def find_threshold(model, x_train_scaled):\n",
    "    reconstructions = model.predict(x_train_scaled)\n",
    "  # provides losses of individual instances\n",
    "    reconstruction_errors = tf.keras.losses.msle(reconstructions, x_train_scaled)\n",
    "  # threshold for anomaly scores\n",
    "    threshold = np.mean(reconstruction_errors.numpy()) \\\n",
    "      + np.std(reconstruction_errors.numpy())\n",
    "    return threshold\n",
    "\n",
    "def get_predictions(model, x_train_scaled, threshold):\n",
    "    predictions = model.predict(x_train_scaled)\n",
    "  # provides losses of individual instances\n",
    "    errors = tf.keras.losses.msle(predictions, x_train_scaled)\n",
    "  # 1 = anomaly, 0 = normal\n",
    "    anomaly_mask = pd.Series(errors) > threshold\n",
    "    preds = anomaly_mask.map(lambda x: 1.0 if x == True else 0.0)\n",
    "    return preds, errors"
   ]
  },
  {
   "cell_type": "code",
   "execution_count": 163,
   "id": "8c9aa736-53da-4cd3-8bb6-6ab696acc9d4",
   "metadata": {},
   "outputs": [
    {
     "name": "stdout",
     "output_type": "stream",
     "text": [
      "Epoch 1/20\n",
      "81/81 [==============================] - 1s 5ms/step - loss: 0.0851 - mse: 0.1544\n",
      "Epoch 2/20\n",
      "81/81 [==============================] - 0s 5ms/step - loss: 0.0482 - mse: 0.1013\n",
      "Epoch 3/20\n",
      "81/81 [==============================] - 0s 5ms/step - loss: 0.0471 - mse: 0.0994\n",
      "Epoch 4/20\n",
      "81/81 [==============================] - 0s 5ms/step - loss: 0.0466 - mse: 0.0984\n",
      "Epoch 5/20\n",
      "81/81 [==============================] - 0s 5ms/step - loss: 0.0462 - mse: 0.0976\n",
      "Epoch 6/20\n",
      "81/81 [==============================] - 0s 5ms/step - loss: 0.0457 - mse: 0.0966\n",
      "Epoch 7/20\n",
      "81/81 [==============================] - 0s 5ms/step - loss: 0.0444 - mse: 0.0938\n",
      "Epoch 8/20\n",
      "81/81 [==============================] - 0s 5ms/step - loss: 0.0430 - mse: 0.0908\n",
      "Epoch 9/20\n",
      "81/81 [==============================] - 0s 5ms/step - loss: 0.0419 - mse: 0.0886\n",
      "Epoch 10/20\n",
      "81/81 [==============================] - 0s 5ms/step - loss: 0.0410 - mse: 0.0865\n",
      "Epoch 11/20\n",
      "81/81 [==============================] - 0s 6ms/step - loss: 0.0402 - mse: 0.0848\n",
      "Epoch 12/20\n",
      "81/81 [==============================] - 0s 5ms/step - loss: 0.0394 - mse: 0.0831\n",
      "Epoch 13/20\n",
      "81/81 [==============================] - 0s 5ms/step - loss: 0.0387 - mse: 0.0817\n",
      "Epoch 14/20\n",
      "81/81 [==============================] - 0s 5ms/step - loss: 0.0380 - mse: 0.0803\n",
      "Epoch 15/20\n",
      "81/81 [==============================] - 0s 5ms/step - loss: 0.0373 - mse: 0.0788\n",
      "Epoch 16/20\n",
      "81/81 [==============================] - 0s 5ms/step - loss: 0.0364 - mse: 0.0769\n",
      "Epoch 17/20\n",
      "81/81 [==============================] - 0s 5ms/step - loss: 0.0355 - mse: 0.0749\n",
      "Epoch 18/20\n",
      "81/81 [==============================] - 0s 5ms/step - loss: 0.0347 - mse: 0.0733\n",
      "Epoch 19/20\n",
      "81/81 [==============================] - 0s 5ms/step - loss: 0.0342 - mse: 0.0722\n",
      "Epoch 20/20\n",
      "81/81 [==============================] - 0s 5ms/step - loss: 0.0337 - mse: 0.0712\n",
      "15.34375\n",
      "1288/1288 [==============================] - 2s 1ms/step\n",
      "Threshold: 0.039915910213057765\n",
      "1288/1288 [==============================] - 1s 1ms/step\n",
      "4.84375\n"
     ]
    }
   ],
   "source": [
    "start = time.process_time()\n",
    "\n",
    "model = AutoEncoder(output_units=x_train_scaled.shape[1])\n",
    "\n",
    "model.compile(loss='msle', metrics=['mse'], optimizer='adam')\n",
    "\n",
    "history = model.fit(\n",
    "    x_train_scaled,\n",
    "    x_train_scaled,\n",
    "    epochs=20,\n",
    "    batch_size=512,\n",
    ")\n",
    "\n",
    "end = time.process_time()\n",
    "bank_deep_autoencoders_train_time = end - start\n",
    "print(end - start)\n",
    "\n",
    "start = time.process_time()\n",
    "\n",
    "threshold = find_threshold(model, x_train_scaled)\n",
    "print(f\"Threshold: {threshold}\")\n",
    "\n",
    "predictions, scores = get_predictions(model, x_train_scaled, threshold)\n",
    "\n",
    "end = time.process_time()\n",
    "bank_deep_autoencoders_test_time = end - start\n",
    "print(end - start)"
   ]
  },
  {
   "cell_type": "code",
   "execution_count": 164,
   "id": "4c2a76fd",
   "metadata": {},
   "outputs": [
    {
     "data": {
      "text/plain": [
       "0.6505762261626656"
      ]
     },
     "execution_count": 164,
     "metadata": {},
     "output_type": "execute_result"
    }
   ],
   "source": [
    "fpr, tpr, _ = metrics.roc_curve(target, scores)\n",
    "bank_deep_autoencoders_auc = metrics.auc(fpr, tpr)\n",
    "metrics.auc(fpr, tpr)"
   ]
  },
  {
   "cell_type": "code",
   "execution_count": 165,
   "id": "931cf789-90a8-4595-8ee5-acc09f89aa74",
   "metadata": {},
   "outputs": [
    {
     "name": "stdout",
     "output_type": "stream",
     "text": [
      "              precision    recall  f1-score   support\n",
      "\n",
      "           0       0.91      0.87      0.89     36548\n",
      "           1       0.23      0.30      0.26      4640\n",
      "\n",
      "    accuracy                           0.81     41188\n",
      "   macro avg       0.57      0.59      0.58     41188\n",
      "weighted avg       0.83      0.81      0.82     41188\n",
      "\n"
     ]
    }
   ],
   "source": [
    "bank_deep_autoencoders_report = classification_report(target, predictions, target_names = ['0','1'], output_dict = True)\n",
    "print(classification_report(target, predictions, target_names = ['0','1']))"
   ]
  },
  {
   "cell_type": "code",
   "execution_count": 166,
   "id": "bea523b9",
   "metadata": {},
   "outputs": [
    {
     "name": "stdout",
     "output_type": "stream",
     "text": [
      "0.20505699949271072\n"
     ]
    }
   ],
   "source": [
    "precision, recall, thresholds = precision_recall_curve(target, scores)\n",
    "bank_deep_ae_auc_precision_recall = metrics.auc(recall, precision)\n",
    "print(bank_deep_ae_auc_precision_recall)"
   ]
  },
  {
   "cell_type": "markdown",
   "id": "541e0922",
   "metadata": {},
   "source": [
    "## Performance"
   ]
  },
  {
   "cell_type": "code",
   "execution_count": 167,
   "id": "594485e7",
   "metadata": {},
   "outputs": [],
   "source": [
    "performance = pd.DataFrame(columns = ['F1 score', 'recall', 'precision', 'AUC', 'AUPRC', \n",
    "                                      'Training time','Inference time','Total time'])"
   ]
  },
  {
   "cell_type": "code",
   "execution_count": 168,
   "id": "2c0aaa56",
   "metadata": {},
   "outputs": [],
   "source": [
    "f1_score_deep_ae = {'arrhythmia':arrhythmia_deep_autoencoders_report['1']['f1-score'],\n",
    "                       'cardio':cardio_deep_autoencoders_report['1']['f1-score'], \n",
    "                        'forestcover':forestcover_deep_autoencoders_report['1']['f1-score'], \n",
    "                       'annthyroid':annthyroid_deep_autoencoders_report['1']['f1-score'],       \n",
    "                        'creditcard':creditcard_deep_autoencoders_report['1']['f1-score'], \n",
    "                       'mammography':mammography_deep_autoencoders_report['1']['f1-score'], \n",
    "                        'shuttle':shuttle_deep_autoencoders_report['1']['f1-score'], \n",
    "                      'mnist':mnist_deep_autoencoders_report['1']['f1-score'], \n",
    "                  'vowels':vowels_deep_autoencoders_report['1']['f1-score'], \n",
    "                  'seismic':seismic_deep_autoencoders_report['1']['f1-score'], \n",
    "                  'musk':musk_deep_autoencoders_report['1']['f1-score'], \n",
    "                  'bank':bank_deep_autoencoders_report['1']['f1-score']}\n",
    "f1_score_deep_ae_df = pd.DataFrame.from_dict(f1_score_deep_ae, orient='index', columns = ['F1 score']).reset_index()"
   ]
  },
  {
   "cell_type": "code",
   "execution_count": 169,
   "id": "1017cc55",
   "metadata": {},
   "outputs": [],
   "source": [
    "recall_deep_ae = {'arrhythmia':arrhythmia_deep_autoencoders_report['1']['recall'],\n",
    "                       'cardio':cardio_deep_autoencoders_report['1']['recall'], \n",
    "                        'forestcover':forestcover_deep_autoencoders_report['1']['recall'], \n",
    "                       'annthyroid':annthyroid_deep_autoencoders_report['1']['recall'],       \n",
    "                        'creditcard':creditcard_deep_autoencoders_report['1']['recall'], \n",
    "                       'mammography':mammography_deep_autoencoders_report['1']['recall'], \n",
    "                        'shuttle':shuttle_deep_autoencoders_report['1']['recall'], \n",
    "                      'mnist':mnist_deep_autoencoders_report['1']['recall'], \n",
    "                  'vowels':vowels_deep_autoencoders_report['1']['recall'], \n",
    "                  'seismic':seismic_deep_autoencoders_report['1']['recall'], \n",
    "                  'musk':musk_deep_autoencoders_report['1']['recall'], \n",
    "                  'bank':bank_deep_autoencoders_report['1']['recall'], }\n",
    "recall_deep_ae_df = pd.DataFrame.from_dict(recall_deep_ae, orient='index', columns = ['Recall']).reset_index()"
   ]
  },
  {
   "cell_type": "code",
   "execution_count": 170,
   "id": "02d0f184",
   "metadata": {},
   "outputs": [],
   "source": [
    "precision_deep_ae = {'arrhythmia':arrhythmia_deep_autoencoders_report['1']['precision'],\n",
    "                       'cardio':cardio_deep_autoencoders_report['1']['precision'], \n",
    "                        'forestcover':forestcover_deep_autoencoders_report['1']['precision'], \n",
    "                       'annthyroid':annthyroid_deep_autoencoders_report['1']['precision'],       \n",
    "                        'creditcard':creditcard_deep_autoencoders_report['1']['precision'], \n",
    "                       'mammography':mammography_deep_autoencoders_report['1']['precision'], \n",
    "                        'shuttle':shuttle_deep_autoencoders_report['1']['precision'], \n",
    "                      'mnist':mnist_deep_autoencoders_report['1']['precision'], \n",
    "                  'vowels':vowels_deep_autoencoders_report['1']['precision'], \n",
    "                  'seismic':seismic_deep_autoencoders_report['1']['precision'], \n",
    "                  'musk':musk_deep_autoencoders_report['1']['precision'], \n",
    "                  'bank':bank_deep_autoencoders_report['1']['precision'], }\n",
    "precision_deep_ae_df = pd.DataFrame.from_dict(precision_deep_ae, orient='index', columns = ['Precision']).reset_index()"
   ]
  },
  {
   "cell_type": "code",
   "execution_count": 171,
   "id": "becd69df",
   "metadata": {},
   "outputs": [],
   "source": [
    "auc_deep_ae = {'arrhythmia':arrhythmia_deep_autoencoders_auc,\n",
    "                       'cardio':cardio_deep_autoencoders_auc, \n",
    "                        'forestcover':forestcover_deep_autoencoders_auc, \n",
    "                       'annthyroid':annthyroid_deep_autoencoders_auc,       \n",
    "                        'creditcard':creditcard_deep_autoencoders_auc, \n",
    "                       'mammography':mammography_deep_autoencoders_auc, \n",
    "                        'shuttle':shuttle_deep_autoencoders_auc, \n",
    "                      'mnist':mnist_deep_autoencoders_auc, \n",
    "                  'vowels':vowels_deep_autoencoders_auc, \n",
    "                  'seismic':seismic_deep_autoencoders_auc, \n",
    "                  'musk':musk_deep_autoencoders_auc, \n",
    "                  'bank':bank_deep_autoencoders_auc}\n",
    "auc_deep_ae_df = pd.DataFrame.from_dict(auc_deep_ae, orient='index', columns = ['AUC']).reset_index()"
   ]
  },
  {
   "cell_type": "code",
   "execution_count": 172,
   "id": "2d6840cb",
   "metadata": {},
   "outputs": [],
   "source": [
    "auprc_deep_ae = {'arrhythmia':arrhythmia_deep_ae_auc_precision_recall,\n",
    "                       'cardio':cardio_deep_ae_auc_precision_recall, \n",
    "                        'forestcover':forestcover_deep_ae_auc_precision_recall, \n",
    "                       'annthyroid':annthyroid_deep_ae_auc_precision_recall,       \n",
    "                        'creditcard':creditcard_deep_ae_auc_precision_recall, \n",
    "                       'mammography':mammography_deep_ae_auc_precision_recall, \n",
    "                        'shuttle':shuttle_deep_ae_auc_precision_recall, \n",
    "                      'mnist':mnist_deep_ae_auc_precision_recall, \n",
    "                  'vowels':vowels_deep_ae_auc_precision_recall, \n",
    "                  'seismic':seismic_deep_ae_auc_precision_recall, \n",
    "                  'musk':musk_deep_ae_auc_precision_recall, \n",
    "                  'bank':bank_deep_ae_auc_precision_recall}\n",
    "auprc_deep_ae_df = pd.DataFrame.from_dict(auprc_deep_ae, orient='index', columns = ['AUPRC']).reset_index()"
   ]
  },
  {
   "cell_type": "code",
   "execution_count": 173,
   "id": "5e6b62af",
   "metadata": {},
   "outputs": [],
   "source": [
    "training_time_deep_ae = {'arrhythmia':arrhythmia_deep_autoencoders_train_time,\n",
    "                       'cardio':cardio_deep_autoencoders_train_time, \n",
    "                        'forestcover':forestcover_deep_autoencoders_train_time, \n",
    "                       'annthyroid':annthyroid_deep_autoencoders_train_time,       \n",
    "                        'creditcard': creditcard_deep_autoencoders_train_time, \n",
    "                       'mammography':mammography_deep_autoencoders_train_time, \n",
    "                        'shuttle':shuttle_deep_autoencoders_train_time, \n",
    "                      'mnist':mnist_deep_autoencoders_train_time, \n",
    "                  'vowels':vowels_deep_autoencoders_train_time, \n",
    "                  'seismic':seismic_deep_autoencoders_train_time, \n",
    "                  'musk':musk_deep_autoencoders_train_time, \n",
    "                  'bank':bank_deep_autoencoders_train_time}\n",
    "training_time_deep_ae_df = pd.DataFrame.from_dict(training_time_deep_ae, orient='index', columns = ['Training time']).reset_index()"
   ]
  },
  {
   "cell_type": "code",
   "execution_count": 174,
   "id": "0e451c11",
   "metadata": {},
   "outputs": [],
   "source": [
    "test_time_deep_ae = {'arrhythmia':arrhythmia_deep_autoencoders_test_time,\n",
    "                       'cardio':cardio_deep_autoencoders_test_time, \n",
    "                        'forestcover':forestcover_deep_autoencoders_test_time, \n",
    "                       'annthyroid':annthyroid_deep_autoencoders_test_time,       \n",
    "                        'creditcard': creditcard_deep_autoencoders_test_time, \n",
    "                       'mammography':mammography_deep_autoencoders_test_time, \n",
    "                        'shuttle':shuttle_deep_autoencoders_test_time, \n",
    "                      'mnist':mnist_deep_autoencoders_test_time, \n",
    "                  'vowels':vowels_deep_autoencoders_test_time, \n",
    "                  'seismic':seismic_deep_autoencoders_test_time, \n",
    "                  'musk':musk_deep_autoencoders_test_time, \n",
    "                  'bank':bank_deep_autoencoders_test_time}\n",
    "test_time_deep_ae_df = pd.DataFrame.from_dict(test_time_deep_ae, orient='index', columns = ['Testing time']).reset_index()"
   ]
  },
  {
   "cell_type": "code",
   "execution_count": 175,
   "id": "e4ef66c4",
   "metadata": {},
   "outputs": [],
   "source": [
    "total_time_deep_ae = {'arrhythmia':arrhythmia_deep_autoencoders_train_time + arrhythmia_deep_autoencoders_test_time,\n",
    "                       'cardio':cardio_deep_autoencoders_train_time + cardio_deep_autoencoders_test_time, \n",
    "                        'forestcover':forestcover_deep_autoencoders_train_time + forestcover_deep_autoencoders_test_time, \n",
    "                       'annthyroid':annthyroid_deep_autoencoders_train_time + annthyroid_deep_autoencoders_test_time,       \n",
    "                        'creditcard': creditcard_deep_autoencoders_train_time + creditcard_deep_autoencoders_test_time, \n",
    "                       'mammography':mammography_deep_autoencoders_train_time + mammography_deep_autoencoders_test_time, \n",
    "                        'shuttle':shuttle_deep_autoencoders_train_time + shuttle_deep_autoencoders_test_time, \n",
    "                      'mnist':mnist_deep_autoencoders_train_time + mnist_deep_autoencoders_test_time, \n",
    "                  'vowels':vowels_deep_autoencoders_train_time + vowels_deep_autoencoders_test_time, \n",
    "                  'seismic':seismic_deep_autoencoders_train_time + seismic_deep_autoencoders_test_time, \n",
    "                  'musk':musk_deep_autoencoders_train_time + musk_deep_autoencoders_test_time, \n",
    "                  'bank':bank_deep_autoencoders_train_time + bank_deep_autoencoders_test_time}\n",
    "total_time_deep_ae_df = pd.DataFrame.from_dict(total_time_deep_ae, orient='index', columns = ['Total time']).reset_index()"
   ]
  },
  {
   "cell_type": "code",
   "execution_count": 176,
   "id": "1f0964b8",
   "metadata": {},
   "outputs": [
    {
     "data": {
      "text/html": [
       "<div>\n",
       "<style scoped>\n",
       "    .dataframe tbody tr th:only-of-type {\n",
       "        vertical-align: middle;\n",
       "    }\n",
       "\n",
       "    .dataframe tbody tr th {\n",
       "        vertical-align: top;\n",
       "    }\n",
       "\n",
       "    .dataframe thead th {\n",
       "        text-align: right;\n",
       "    }\n",
       "</style>\n",
       "<table border=\"1\" class=\"dataframe\">\n",
       "  <thead>\n",
       "    <tr style=\"text-align: right;\">\n",
       "      <th></th>\n",
       "      <th>index</th>\n",
       "      <th>F1 score</th>\n",
       "      <th>Recall</th>\n",
       "      <th>Precision</th>\n",
       "      <th>AUC</th>\n",
       "      <th>AUPRC</th>\n",
       "      <th>Training time</th>\n",
       "      <th>Testing time</th>\n",
       "      <th>Total time</th>\n",
       "    </tr>\n",
       "  </thead>\n",
       "  <tbody>\n",
       "    <tr>\n",
       "      <th>0</th>\n",
       "      <td>arrhythmia</td>\n",
       "      <td>0.478632</td>\n",
       "      <td>0.424242</td>\n",
       "      <td>0.549020</td>\n",
       "      <td>0.802520</td>\n",
       "      <td>0.465256</td>\n",
       "      <td>5.640625</td>\n",
       "      <td>0.625000</td>\n",
       "      <td>6.265625</td>\n",
       "    </tr>\n",
       "    <tr>\n",
       "      <th>1</th>\n",
       "      <td>cardio</td>\n",
       "      <td>0.611765</td>\n",
       "      <td>0.738636</td>\n",
       "      <td>0.522088</td>\n",
       "      <td>0.945976</td>\n",
       "      <td>0.671471</td>\n",
       "      <td>10.312500</td>\n",
       "      <td>1.250000</td>\n",
       "      <td>11.562500</td>\n",
       "    </tr>\n",
       "    <tr>\n",
       "      <th>2</th>\n",
       "      <td>forestcover</td>\n",
       "      <td>0.099434</td>\n",
       "      <td>0.814707</td>\n",
       "      <td>0.052948</td>\n",
       "      <td>0.916116</td>\n",
       "      <td>0.092932</td>\n",
       "      <td>138.546875</td>\n",
       "      <td>73.125000</td>\n",
       "      <td>211.671875</td>\n",
       "    </tr>\n",
       "    <tr>\n",
       "      <th>3</th>\n",
       "      <td>annthyroid</td>\n",
       "      <td>0.236861</td>\n",
       "      <td>0.316479</td>\n",
       "      <td>0.189250</td>\n",
       "      <td>0.681848</td>\n",
       "      <td>0.198044</td>\n",
       "      <td>1.890625</td>\n",
       "      <td>0.812500</td>\n",
       "      <td>2.703125</td>\n",
       "    </tr>\n",
       "    <tr>\n",
       "      <th>4</th>\n",
       "      <td>creditcard</td>\n",
       "      <td>0.064741</td>\n",
       "      <td>0.847561</td>\n",
       "      <td>0.033656</td>\n",
       "      <td>0.951638</td>\n",
       "      <td>0.408157</td>\n",
       "      <td>50.937500</td>\n",
       "      <td>26.218750</td>\n",
       "      <td>77.156250</td>\n",
       "    </tr>\n",
       "    <tr>\n",
       "      <th>5</th>\n",
       "      <td>mammography</td>\n",
       "      <td>0.240275</td>\n",
       "      <td>0.807692</td>\n",
       "      <td>0.141129</td>\n",
       "      <td>0.881576</td>\n",
       "      <td>0.185566</td>\n",
       "      <td>1.828125</td>\n",
       "      <td>1.171875</td>\n",
       "      <td>3.000000</td>\n",
       "    </tr>\n",
       "    <tr>\n",
       "      <th>6</th>\n",
       "      <td>shuttle</td>\n",
       "      <td>0.503314</td>\n",
       "      <td>0.692111</td>\n",
       "      <td>0.395443</td>\n",
       "      <td>0.947004</td>\n",
       "      <td>0.550463</td>\n",
       "      <td>7.546875</td>\n",
       "      <td>5.406250</td>\n",
       "      <td>12.953125</td>\n",
       "    </tr>\n",
       "    <tr>\n",
       "      <th>7</th>\n",
       "      <td>mnist</td>\n",
       "      <td>0.311181</td>\n",
       "      <td>0.421429</td>\n",
       "      <td>0.246656</td>\n",
       "      <td>0.769351</td>\n",
       "      <td>0.263978</td>\n",
       "      <td>4.093750</td>\n",
       "      <td>1.171875</td>\n",
       "      <td>5.265625</td>\n",
       "    </tr>\n",
       "    <tr>\n",
       "      <th>8</th>\n",
       "      <td>vowels</td>\n",
       "      <td>0.068702</td>\n",
       "      <td>0.180000</td>\n",
       "      <td>0.042453</td>\n",
       "      <td>0.500967</td>\n",
       "      <td>0.037351</td>\n",
       "      <td>2.046875</td>\n",
       "      <td>0.312500</td>\n",
       "      <td>2.359375</td>\n",
       "    </tr>\n",
       "    <tr>\n",
       "      <th>9</th>\n",
       "      <td>seismic</td>\n",
       "      <td>0.134653</td>\n",
       "      <td>0.200000</td>\n",
       "      <td>0.101493</td>\n",
       "      <td>0.634025</td>\n",
       "      <td>0.091743</td>\n",
       "      <td>3.640625</td>\n",
       "      <td>0.515625</td>\n",
       "      <td>4.156250</td>\n",
       "    </tr>\n",
       "    <tr>\n",
       "      <th>10</th>\n",
       "      <td>musk</td>\n",
       "      <td>0.061121</td>\n",
       "      <td>0.185567</td>\n",
       "      <td>0.036585</td>\n",
       "      <td>0.603185</td>\n",
       "      <td>0.070094</td>\n",
       "      <td>6.609375</td>\n",
       "      <td>0.656250</td>\n",
       "      <td>7.265625</td>\n",
       "    </tr>\n",
       "    <tr>\n",
       "      <th>11</th>\n",
       "      <td>bank</td>\n",
       "      <td>0.263644</td>\n",
       "      <td>0.304526</td>\n",
       "      <td>0.232440</td>\n",
       "      <td>0.650576</td>\n",
       "      <td>0.205057</td>\n",
       "      <td>15.343750</td>\n",
       "      <td>4.843750</td>\n",
       "      <td>20.187500</td>\n",
       "    </tr>\n",
       "  </tbody>\n",
       "</table>\n",
       "</div>"
      ],
      "text/plain": [
       "          index  F1 score    Recall  Precision       AUC     AUPRC  \\\n",
       "0    arrhythmia  0.478632  0.424242   0.549020  0.802520  0.465256   \n",
       "1        cardio  0.611765  0.738636   0.522088  0.945976  0.671471   \n",
       "2   forestcover  0.099434  0.814707   0.052948  0.916116  0.092932   \n",
       "3    annthyroid  0.236861  0.316479   0.189250  0.681848  0.198044   \n",
       "4    creditcard  0.064741  0.847561   0.033656  0.951638  0.408157   \n",
       "5   mammography  0.240275  0.807692   0.141129  0.881576  0.185566   \n",
       "6       shuttle  0.503314  0.692111   0.395443  0.947004  0.550463   \n",
       "7         mnist  0.311181  0.421429   0.246656  0.769351  0.263978   \n",
       "8        vowels  0.068702  0.180000   0.042453  0.500967  0.037351   \n",
       "9       seismic  0.134653  0.200000   0.101493  0.634025  0.091743   \n",
       "10         musk  0.061121  0.185567   0.036585  0.603185  0.070094   \n",
       "11         bank  0.263644  0.304526   0.232440  0.650576  0.205057   \n",
       "\n",
       "    Training time  Testing time  Total time  \n",
       "0        5.640625      0.625000    6.265625  \n",
       "1       10.312500      1.250000   11.562500  \n",
       "2      138.546875     73.125000  211.671875  \n",
       "3        1.890625      0.812500    2.703125  \n",
       "4       50.937500     26.218750   77.156250  \n",
       "5        1.828125      1.171875    3.000000  \n",
       "6        7.546875      5.406250   12.953125  \n",
       "7        4.093750      1.171875    5.265625  \n",
       "8        2.046875      0.312500    2.359375  \n",
       "9        3.640625      0.515625    4.156250  \n",
       "10       6.609375      0.656250    7.265625  \n",
       "11      15.343750      4.843750   20.187500  "
      ]
     },
     "execution_count": 176,
     "metadata": {},
     "output_type": "execute_result"
    }
   ],
   "source": [
    "pd.merge(pd.merge(pd.merge(pd.merge(pd.merge(pd.merge(pd.merge(f1_score_deep_ae_df, recall_deep_ae_df, how = 'inner'), \n",
    "                                    precision_deep_ae_df, how ='inner'),\n",
    "         auc_deep_ae_df, how = 'inner'), auprc_deep_ae_df, how = 'inner'), training_time_deep_ae_df, how = 'inner'), \n",
    "         test_time_deep_ae_df, how = 'inner'),total_time_deep_ae_df, how = 'inner')"
   ]
  },
  {
   "cell_type": "code",
   "execution_count": null,
   "id": "b78cc41e",
   "metadata": {},
   "outputs": [],
   "source": []
  }
 ],
 "metadata": {
  "environment": {
   "name": "common-cpu.m80",
   "type": "gcloud",
   "uri": "gcr.io/deeplearning-platform-release/base-cpu:m80"
  },
  "kernelspec": {
   "display_name": "Python 3.10.2 ('env': venv)",
   "language": "python",
   "name": "python3"
  },
  "language_info": {
   "codemirror_mode": {
    "name": "ipython",
    "version": 3
   },
   "file_extension": ".py",
   "mimetype": "text/x-python",
   "name": "python",
   "nbconvert_exporter": "python",
   "pygments_lexer": "ipython3",
   "version": "3.10.2"
  },
  "vscode": {
   "interpreter": {
    "hash": "c7bb90c4ec68b2a8968b0075ab0b1cb7a78770acf7a7acf2e36e903fa05bac64"
   }
  }
 },
 "nbformat": 4,
 "nbformat_minor": 5
}
