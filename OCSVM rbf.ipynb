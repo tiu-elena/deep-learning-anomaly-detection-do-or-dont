{
 "cells": [
  {
   "cell_type": "markdown",
   "id": "123c1709-aadd-4c93-a80a-0a0c44290983",
   "metadata": {},
   "source": [
    "# OCSVM rbf"
   ]
  },
  {
   "cell_type": "code",
   "execution_count": 1,
   "id": "2520ef24",
   "metadata": {},
   "outputs": [],
   "source": [
    "import warnings\n",
    "warnings.filterwarnings('ignore')"
   ]
  },
  {
   "cell_type": "markdown",
   "id": "11e4854b-87bd-490e-88e4-9a64631dc5bb",
   "metadata": {
    "tags": []
   },
   "source": [
    "## Libraries import"
   ]
  },
  {
   "cell_type": "code",
   "execution_count": 1,
   "id": "feba20a1-5d20-4127-888b-b0e4c72f4757",
   "metadata": {},
   "outputs": [],
   "source": [
    "import pandas as pd\n",
    "from sklearn.metrics import confusion_matrix, accuracy_score, classification_report, precision_recall_curve\n",
    "from sklearn import metrics\n",
    "from sklearn.preprocessing import MinMaxScaler, OneHotEncoder\n",
    "from scipy.spatial import distance\n",
    "import time\n",
    "from sklearn.svm import OneClassSVM"
   ]
  },
  {
   "cell_type": "markdown",
   "id": "36a1e869",
   "metadata": {},
   "source": [
    "## Prediction translation"
   ]
  },
  {
   "cell_type": "code",
   "execution_count": 4,
   "id": "39601bb2",
   "metadata": {},
   "outputs": [],
   "source": [
    "def def_outlier(df):\n",
    "    if (df['y_pred'] in [-1]):\n",
    "        val = 1\n",
    "    else:\n",
    "        val = 0\n",
    "    return val"
   ]
  },
  {
   "cell_type": "markdown",
   "id": "b7db27ee-405e-4faa-a7e9-6b8cdf41d437",
   "metadata": {
    "jp-MarkdownHeadingCollapsed": true,
    "tags": []
   },
   "source": [
    "## Arrhythmia"
   ]
  },
  {
   "cell_type": "markdown",
   "id": "031127b3",
   "metadata": {},
   "source": [
    "**Dataset source**: http://odds.cs.stonybrook.edu/arrhythmia-dataset/ (data is transformed from .mat to .csv format)\n",
    "\n",
    "Shebuti Rayana (2016). ODDS Library [http://odds.cs.stonybrook.edu]. Stony Brook, NY: Stony Brook University, Department of Computer Science.\n",
    "\n",
    "**Additional sources**:\n",
    "\n",
    "Liu, Fei Tony, Kai Ming Ting, and Zhi-Hua Zhou. “Isolation forest.” 2008 Eighth IEEE International Conference on Data Mining. IEEE, 2008.\n",
    "\n",
    "K. M. Ting, J. T. S. Chuan, and F. T. Liu. “Mass: A New Ranking Measure for Anomaly Detection.“, IEEE Transactions on Knowledge and Data Engineering, 2009.\n",
    "\n",
    "F. Keller, E. Muller, K. Bohm.“HiCS: High-contrast subspaces for density-based outlier ranking.” ICDE, 2012."
   ]
  },
  {
   "cell_type": "code",
   "execution_count": 5,
   "id": "a433c409-f51f-402b-8581-759c81670d7b",
   "metadata": {
    "scrolled": true
   },
   "outputs": [],
   "source": [
    "data = pd.read_csv('./arrhythmia.csv', sep = ',')"
   ]
  },
  {
   "cell_type": "code",
   "execution_count": 6,
   "id": "9f34ed3a-f570-4f95-b4f0-d1dfed0f46e3",
   "metadata": {},
   "outputs": [],
   "source": [
    "# dropping columns that consist only of 0's\n",
    "data = data.drop(columns = ['Col15', 'Col63', 'Col65', 'Col79', 'Col127', 'Col128','Col135', 'Col137', 'Col139','Col141',\n",
    "'Col147', 'Col152', 'Col153','Col160','Col200', 'Col260', 'Col270'])"
   ]
  },
  {
   "cell_type": "code",
   "execution_count": 7,
   "id": "a2922c1c-284f-420b-954d-ecf924697f54",
   "metadata": {},
   "outputs": [
    {
     "data": {
      "text/html": [
       "<div>\n",
       "<style scoped>\n",
       "    .dataframe tbody tr th:only-of-type {\n",
       "        vertical-align: middle;\n",
       "    }\n",
       "\n",
       "    .dataframe tbody tr th {\n",
       "        vertical-align: top;\n",
       "    }\n",
       "\n",
       "    .dataframe thead th {\n",
       "        text-align: right;\n",
       "    }\n",
       "</style>\n",
       "<table border=\"1\" class=\"dataframe\">\n",
       "  <thead>\n",
       "    <tr style=\"text-align: right;\">\n",
       "      <th></th>\n",
       "      <th>Col1</th>\n",
       "      <th>Col2</th>\n",
       "      <th>Col3</th>\n",
       "      <th>Col4</th>\n",
       "      <th>Col5</th>\n",
       "      <th>Col6</th>\n",
       "      <th>Col7</th>\n",
       "      <th>Col8</th>\n",
       "      <th>Col9</th>\n",
       "      <th>Col10</th>\n",
       "      <th>...</th>\n",
       "      <th>Col265</th>\n",
       "      <th>Col266</th>\n",
       "      <th>Col267</th>\n",
       "      <th>Col268</th>\n",
       "      <th>Col269</th>\n",
       "      <th>Col271</th>\n",
       "      <th>Col272</th>\n",
       "      <th>Col273</th>\n",
       "      <th>Col274</th>\n",
       "      <th>y</th>\n",
       "    </tr>\n",
       "  </thead>\n",
       "  <tbody>\n",
       "    <tr>\n",
       "      <th>0</th>\n",
       "      <td>75.0</td>\n",
       "      <td>0.0</td>\n",
       "      <td>190.0</td>\n",
       "      <td>80.0</td>\n",
       "      <td>91.0</td>\n",
       "      <td>193.0</td>\n",
       "      <td>371.0</td>\n",
       "      <td>174.0</td>\n",
       "      <td>121.0</td>\n",
       "      <td>-16.0</td>\n",
       "      <td>...</td>\n",
       "      <td>-0.3</td>\n",
       "      <td>0.0</td>\n",
       "      <td>9.0</td>\n",
       "      <td>-0.9</td>\n",
       "      <td>0.0</td>\n",
       "      <td>0.9</td>\n",
       "      <td>2.9</td>\n",
       "      <td>23.3</td>\n",
       "      <td>49.4</td>\n",
       "      <td>1</td>\n",
       "    </tr>\n",
       "    <tr>\n",
       "      <th>1</th>\n",
       "      <td>56.0</td>\n",
       "      <td>1.0</td>\n",
       "      <td>165.0</td>\n",
       "      <td>64.0</td>\n",
       "      <td>81.0</td>\n",
       "      <td>174.0</td>\n",
       "      <td>401.0</td>\n",
       "      <td>149.0</td>\n",
       "      <td>39.0</td>\n",
       "      <td>25.0</td>\n",
       "      <td>...</td>\n",
       "      <td>-0.5</td>\n",
       "      <td>0.0</td>\n",
       "      <td>8.5</td>\n",
       "      <td>0.0</td>\n",
       "      <td>0.0</td>\n",
       "      <td>0.2</td>\n",
       "      <td>2.1</td>\n",
       "      <td>20.4</td>\n",
       "      <td>38.8</td>\n",
       "      <td>0</td>\n",
       "    </tr>\n",
       "    <tr>\n",
       "      <th>2</th>\n",
       "      <td>54.0</td>\n",
       "      <td>0.0</td>\n",
       "      <td>172.0</td>\n",
       "      <td>95.0</td>\n",
       "      <td>138.0</td>\n",
       "      <td>163.0</td>\n",
       "      <td>386.0</td>\n",
       "      <td>185.0</td>\n",
       "      <td>102.0</td>\n",
       "      <td>96.0</td>\n",
       "      <td>...</td>\n",
       "      <td>0.9</td>\n",
       "      <td>0.0</td>\n",
       "      <td>9.5</td>\n",
       "      <td>-2.4</td>\n",
       "      <td>0.0</td>\n",
       "      <td>0.3</td>\n",
       "      <td>3.4</td>\n",
       "      <td>12.3</td>\n",
       "      <td>49.0</td>\n",
       "      <td>0</td>\n",
       "    </tr>\n",
       "    <tr>\n",
       "      <th>3</th>\n",
       "      <td>55.0</td>\n",
       "      <td>0.0</td>\n",
       "      <td>175.0</td>\n",
       "      <td>94.0</td>\n",
       "      <td>100.0</td>\n",
       "      <td>202.0</td>\n",
       "      <td>380.0</td>\n",
       "      <td>179.0</td>\n",
       "      <td>143.0</td>\n",
       "      <td>28.0</td>\n",
       "      <td>...</td>\n",
       "      <td>0.1</td>\n",
       "      <td>0.0</td>\n",
       "      <td>12.2</td>\n",
       "      <td>-2.2</td>\n",
       "      <td>0.0</td>\n",
       "      <td>0.4</td>\n",
       "      <td>2.6</td>\n",
       "      <td>34.6</td>\n",
       "      <td>61.6</td>\n",
       "      <td>0</td>\n",
       "    </tr>\n",
       "    <tr>\n",
       "      <th>4</th>\n",
       "      <td>75.0</td>\n",
       "      <td>0.0</td>\n",
       "      <td>190.0</td>\n",
       "      <td>80.0</td>\n",
       "      <td>88.0</td>\n",
       "      <td>181.0</td>\n",
       "      <td>360.0</td>\n",
       "      <td>177.0</td>\n",
       "      <td>103.0</td>\n",
       "      <td>-16.0</td>\n",
       "      <td>...</td>\n",
       "      <td>-0.4</td>\n",
       "      <td>0.0</td>\n",
       "      <td>13.1</td>\n",
       "      <td>-3.6</td>\n",
       "      <td>0.0</td>\n",
       "      <td>-0.1</td>\n",
       "      <td>3.9</td>\n",
       "      <td>25.4</td>\n",
       "      <td>62.8</td>\n",
       "      <td>1</td>\n",
       "    </tr>\n",
       "  </tbody>\n",
       "</table>\n",
       "<p>5 rows × 258 columns</p>\n",
       "</div>"
      ],
      "text/plain": [
       "   Col1  Col2   Col3  Col4   Col5   Col6   Col7   Col8   Col9  Col10  ...  \\\n",
       "0  75.0   0.0  190.0  80.0   91.0  193.0  371.0  174.0  121.0  -16.0  ...   \n",
       "1  56.0   1.0  165.0  64.0   81.0  174.0  401.0  149.0   39.0   25.0  ...   \n",
       "2  54.0   0.0  172.0  95.0  138.0  163.0  386.0  185.0  102.0   96.0  ...   \n",
       "3  55.0   0.0  175.0  94.0  100.0  202.0  380.0  179.0  143.0   28.0  ...   \n",
       "4  75.0   0.0  190.0  80.0   88.0  181.0  360.0  177.0  103.0  -16.0  ...   \n",
       "\n",
       "   Col265  Col266  Col267  Col268  Col269  Col271  Col272  Col273  Col274  y  \n",
       "0    -0.3     0.0     9.0    -0.9     0.0     0.9     2.9    23.3    49.4  1  \n",
       "1    -0.5     0.0     8.5     0.0     0.0     0.2     2.1    20.4    38.8  0  \n",
       "2     0.9     0.0     9.5    -2.4     0.0     0.3     3.4    12.3    49.0  0  \n",
       "3     0.1     0.0    12.2    -2.2     0.0     0.4     2.6    34.6    61.6  0  \n",
       "4    -0.4     0.0    13.1    -3.6     0.0    -0.1     3.9    25.4    62.8  1  \n",
       "\n",
       "[5 rows x 258 columns]"
      ]
     },
     "execution_count": 7,
     "metadata": {},
     "output_type": "execute_result"
    }
   ],
   "source": [
    "data.head()"
   ]
  },
  {
   "cell_type": "code",
   "execution_count": 8,
   "id": "7a470d6c-c28d-4798-aec0-2361530d8bf8",
   "metadata": {},
   "outputs": [
    {
     "data": {
      "text/plain": [
       "(452, 258)"
      ]
     },
     "execution_count": 8,
     "metadata": {},
     "output_type": "execute_result"
    }
   ],
   "source": [
    "data.shape"
   ]
  },
  {
   "cell_type": "code",
   "execution_count": 9,
   "id": "937686a7-6d97-4ed0-890a-4575bd4403f9",
   "metadata": {},
   "outputs": [
    {
     "data": {
      "text/html": [
       "<div>\n",
       "<style scoped>\n",
       "    .dataframe tbody tr th:only-of-type {\n",
       "        vertical-align: middle;\n",
       "    }\n",
       "\n",
       "    .dataframe tbody tr th {\n",
       "        vertical-align: top;\n",
       "    }\n",
       "\n",
       "    .dataframe thead th {\n",
       "        text-align: right;\n",
       "    }\n",
       "</style>\n",
       "<table border=\"1\" class=\"dataframe\">\n",
       "  <thead>\n",
       "    <tr style=\"text-align: right;\">\n",
       "      <th></th>\n",
       "      <th>Col1</th>\n",
       "    </tr>\n",
       "    <tr>\n",
       "      <th>y</th>\n",
       "      <th></th>\n",
       "    </tr>\n",
       "  </thead>\n",
       "  <tbody>\n",
       "    <tr>\n",
       "      <th>0</th>\n",
       "      <td>386</td>\n",
       "    </tr>\n",
       "    <tr>\n",
       "      <th>1</th>\n",
       "      <td>66</td>\n",
       "    </tr>\n",
       "  </tbody>\n",
       "</table>\n",
       "</div>"
      ],
      "text/plain": [
       "   Col1\n",
       "y      \n",
       "0   386\n",
       "1    66"
      ]
     },
     "execution_count": 9,
     "metadata": {},
     "output_type": "execute_result"
    }
   ],
   "source": [
    "pd.pivot_table(data,\n",
    "             values = 'Col1',\n",
    "               index = 'y', \n",
    "              aggfunc = 'count')"
   ]
  },
  {
   "cell_type": "markdown",
   "id": "3678cd24-be24-4da7-949b-1ee5be3e505b",
   "metadata": {
    "jp-MarkdownHeadingCollapsed": true,
    "tags": []
   },
   "source": [
    "### One-Class SVM rbf"
   ]
  },
  {
   "cell_type": "code",
   "execution_count": 10,
   "id": "35c0f921-bccf-4ae3-b99e-0481e12f6b9a",
   "metadata": {},
   "outputs": [],
   "source": [
    "features = data.drop(columns = ['y'])\n",
    "target = data['y']"
   ]
  },
  {
   "cell_type": "code",
   "execution_count": 11,
   "id": "fe901a04-6523-4517-8246-3d2043e72bd8",
   "metadata": {},
   "outputs": [],
   "source": [
    "min_max_scaler = MinMaxScaler(feature_range=(0, 1))\n",
    "x_train_scaled = min_max_scaler.fit_transform(features.copy())"
   ]
  },
  {
   "cell_type": "code",
   "execution_count": 12,
   "id": "f8fca5ca-2caa-46b3-8cfc-63ed8ef51cd3",
   "metadata": {},
   "outputs": [
    {
     "name": "stdout",
     "output_type": "stream",
     "text": [
      "0.015625\n",
      "0.015625\n"
     ]
    }
   ],
   "source": [
    "start = time.process_time()\n",
    "\n",
    "model = OneClassSVM(gamma='scale', nu=0.1)\n",
    "model.fit(x_train_scaled)\n",
    "\n",
    "end = time.process_time()\n",
    "arrhythmia_rbf_oc_svm_train_time = end - start\n",
    "print(end - start)\n",
    "\n",
    "start = time.process_time()\n",
    "yhat = model.predict(x_train_scaled)\n",
    "y_scores = -model.decision_function(x_train_scaled)\n",
    "\n",
    "end = time.process_time()\n",
    "arrhythmia_rbf_oc_svm_test_time = end - start\n",
    "print(end - start)"
   ]
  },
  {
   "cell_type": "code",
   "execution_count": 13,
   "id": "2e7776bc-1b6d-4ab5-814b-714e953ae4bd",
   "metadata": {},
   "outputs": [],
   "source": [
    "predictions = pd.DataFrame(yhat, columns = ['y_pred']).apply(def_outlier, axis = 1)"
   ]
  },
  {
   "cell_type": "code",
   "execution_count": 14,
   "id": "39dc3320",
   "metadata": {},
   "outputs": [
    {
     "data": {
      "text/plain": [
       "0.7626000942063118"
      ]
     },
     "execution_count": 14,
     "metadata": {},
     "output_type": "execute_result"
    }
   ],
   "source": [
    "fpr, tpr, _ = metrics.roc_curve(target, y_scores)\n",
    "arrhythmia_rbf_oc_svm_auc = metrics.auc(fpr, tpr)\n",
    "metrics.auc(fpr, tpr)"
   ]
  },
  {
   "cell_type": "code",
   "execution_count": 15,
   "id": "4d9bd02b-a828-4757-8ac5-9654d45a1bb2",
   "metadata": {},
   "outputs": [
    {
     "name": "stdout",
     "output_type": "stream",
     "text": [
      "              precision    recall  f1-score   support\n",
      "\n",
      "           0       0.89      0.94      0.92       386\n",
      "           1       0.49      0.35      0.41        66\n",
      "\n",
      "    accuracy                           0.85       452\n",
      "   macro avg       0.69      0.64      0.66       452\n",
      "weighted avg       0.83      0.85      0.84       452\n",
      "\n"
     ]
    }
   ],
   "source": [
    "arrhythmia_rbf_oc_svm_report = classification_report(target, predictions, target_names = ['0','1'], output_dict = True)\n",
    "print(classification_report(target, predictions, target_names = ['0','1']))"
   ]
  },
  {
   "cell_type": "code",
   "execution_count": 16,
   "id": "fd473801",
   "metadata": {},
   "outputs": [
    {
     "name": "stdout",
     "output_type": "stream",
     "text": [
      "0.4089494760599974\n"
     ]
    }
   ],
   "source": [
    "precision, recall, thresholds = precision_recall_curve(target, y_scores)\n",
    "arrhythmia_ocsvm_rbf_auc_precision_recall = metrics.auc(recall, precision)\n",
    "print(arrhythmia_ocsvm_rbf_auc_precision_recall)"
   ]
  },
  {
   "cell_type": "markdown",
   "id": "f718677d-53c1-46f9-9efc-346cdacdb947",
   "metadata": {
    "jp-MarkdownHeadingCollapsed": true,
    "tags": []
   },
   "source": [
    "## Cardiotocography"
   ]
  },
  {
   "cell_type": "markdown",
   "id": "8629314f",
   "metadata": {},
   "source": [
    "**Dataset source**: http://odds.cs.stonybrook.edu/cardiotocogrpahy-dataset/ (data is transformed from .mat to .csv format)\n",
    "\n",
    "Shebuti Rayana (2016). ODDS Library [http://odds.cs.stonybrook.edu]. Stony Brook, NY: Stony Brook University, Department of Computer Science.\n",
    "\n",
    "**Additional sources:**\n",
    "\n",
    "C. C. Aggarwal and S. Sathe, “Theoretical foundations and algorithms for outlier ensembles.” ACM SIGKDD Explorations Newsletter, vol. 17, no. 1, pp. 24–47, 2015.\n",
    "\n",
    "Saket Sathe and Charu C. Aggarwal. LODES: Local Density meets Spectral Outlier Detection. SIAM Conference on Data Mining, 2016."
   ]
  },
  {
   "cell_type": "code",
   "execution_count": 17,
   "id": "1f2814fa-e915-4614-9e0a-8d54d4e7fbad",
   "metadata": {},
   "outputs": [],
   "source": [
    "data = pd.read_csv('./Cardiotocography.csv')"
   ]
  },
  {
   "cell_type": "code",
   "execution_count": 18,
   "id": "b9687121-a76a-4e0b-83da-42725fddaeb7",
   "metadata": {},
   "outputs": [
    {
     "data": {
      "text/plain": [
       "(1831, 22)"
      ]
     },
     "execution_count": 18,
     "metadata": {},
     "output_type": "execute_result"
    }
   ],
   "source": [
    "data.shape"
   ]
  },
  {
   "cell_type": "code",
   "execution_count": 19,
   "id": "d07338e9-ea55-4352-b6ab-960b2f4ab6d4",
   "metadata": {},
   "outputs": [],
   "source": [
    "data['y'] = data['y'].astype(int)"
   ]
  },
  {
   "cell_type": "code",
   "execution_count": 20,
   "id": "cf4c6400-faca-46d0-bfe4-1736250774f1",
   "metadata": {},
   "outputs": [
    {
     "data": {
      "text/html": [
       "<div>\n",
       "<style scoped>\n",
       "    .dataframe tbody tr th:only-of-type {\n",
       "        vertical-align: middle;\n",
       "    }\n",
       "\n",
       "    .dataframe tbody tr th {\n",
       "        vertical-align: top;\n",
       "    }\n",
       "\n",
       "    .dataframe thead th {\n",
       "        text-align: right;\n",
       "    }\n",
       "</style>\n",
       "<table border=\"1\" class=\"dataframe\">\n",
       "  <thead>\n",
       "    <tr style=\"text-align: right;\">\n",
       "      <th></th>\n",
       "      <th>Col1</th>\n",
       "    </tr>\n",
       "    <tr>\n",
       "      <th>y</th>\n",
       "      <th></th>\n",
       "    </tr>\n",
       "  </thead>\n",
       "  <tbody>\n",
       "    <tr>\n",
       "      <th>0</th>\n",
       "      <td>1655</td>\n",
       "    </tr>\n",
       "    <tr>\n",
       "      <th>1</th>\n",
       "      <td>176</td>\n",
       "    </tr>\n",
       "  </tbody>\n",
       "</table>\n",
       "</div>"
      ],
      "text/plain": [
       "   Col1\n",
       "y      \n",
       "0  1655\n",
       "1   176"
      ]
     },
     "execution_count": 20,
     "metadata": {},
     "output_type": "execute_result"
    }
   ],
   "source": [
    "pd.pivot_table(data,\n",
    "             values = 'Col1',\n",
    "               index = 'y', \n",
    "              aggfunc = 'count')"
   ]
  },
  {
   "cell_type": "code",
   "execution_count": 21,
   "id": "f0a69a5f-f775-4f9f-a759-5e071ad45d35",
   "metadata": {},
   "outputs": [
    {
     "data": {
      "text/html": [
       "<div>\n",
       "<style scoped>\n",
       "    .dataframe tbody tr th:only-of-type {\n",
       "        vertical-align: middle;\n",
       "    }\n",
       "\n",
       "    .dataframe tbody tr th {\n",
       "        vertical-align: top;\n",
       "    }\n",
       "\n",
       "    .dataframe thead th {\n",
       "        text-align: right;\n",
       "    }\n",
       "</style>\n",
       "<table border=\"1\" class=\"dataframe\">\n",
       "  <thead>\n",
       "    <tr style=\"text-align: right;\">\n",
       "      <th></th>\n",
       "      <th>Col1</th>\n",
       "      <th>Col2</th>\n",
       "      <th>Col3</th>\n",
       "      <th>Col4</th>\n",
       "      <th>Col5</th>\n",
       "      <th>Col6</th>\n",
       "      <th>Col7</th>\n",
       "      <th>Col8</th>\n",
       "      <th>Col9</th>\n",
       "      <th>Col10</th>\n",
       "      <th>...</th>\n",
       "      <th>Col13</th>\n",
       "      <th>Col14</th>\n",
       "      <th>Col15</th>\n",
       "      <th>Col16</th>\n",
       "      <th>Col17</th>\n",
       "      <th>Col18</th>\n",
       "      <th>Col19</th>\n",
       "      <th>Col20</th>\n",
       "      <th>Col21</th>\n",
       "      <th>y</th>\n",
       "    </tr>\n",
       "  </thead>\n",
       "  <tbody>\n",
       "    <tr>\n",
       "      <th>0</th>\n",
       "      <td>0.004912</td>\n",
       "      <td>0.693191</td>\n",
       "      <td>-0.203640</td>\n",
       "      <td>0.595322</td>\n",
       "      <td>0.353190</td>\n",
       "      <td>-0.061401</td>\n",
       "      <td>-0.278295</td>\n",
       "      <td>-1.650444</td>\n",
       "      <td>0.759072</td>\n",
       "      <td>-0.420487</td>\n",
       "      <td>...</td>\n",
       "      <td>-0.798376</td>\n",
       "      <td>1.854728</td>\n",
       "      <td>0.622631</td>\n",
       "      <td>0.963083</td>\n",
       "      <td>0.301464</td>\n",
       "      <td>0.193113</td>\n",
       "      <td>0.231498</td>\n",
       "      <td>-0.289786</td>\n",
       "      <td>-0.493294</td>\n",
       "      <td>0</td>\n",
       "    </tr>\n",
       "    <tr>\n",
       "      <th>1</th>\n",
       "      <td>0.110729</td>\n",
       "      <td>-0.079903</td>\n",
       "      <td>-0.203640</td>\n",
       "      <td>1.268942</td>\n",
       "      <td>0.396246</td>\n",
       "      <td>-0.061401</td>\n",
       "      <td>-0.278295</td>\n",
       "      <td>-1.710270</td>\n",
       "      <td>0.759072</td>\n",
       "      <td>-0.420487</td>\n",
       "      <td>...</td>\n",
       "      <td>-0.798376</td>\n",
       "      <td>1.854728</td>\n",
       "      <td>0.278625</td>\n",
       "      <td>0.963083</td>\n",
       "      <td>0.301464</td>\n",
       "      <td>0.129265</td>\n",
       "      <td>0.093563</td>\n",
       "      <td>-0.256385</td>\n",
       "      <td>-0.493294</td>\n",
       "      <td>0</td>\n",
       "    </tr>\n",
       "    <tr>\n",
       "      <th>2</th>\n",
       "      <td>0.216546</td>\n",
       "      <td>-0.272445</td>\n",
       "      <td>-0.203640</td>\n",
       "      <td>1.050988</td>\n",
       "      <td>0.148753</td>\n",
       "      <td>-0.061401</td>\n",
       "      <td>-0.278295</td>\n",
       "      <td>-1.710270</td>\n",
       "      <td>1.106509</td>\n",
       "      <td>-0.420487</td>\n",
       "      <td>...</td>\n",
       "      <td>-1.332931</td>\n",
       "      <td>0.314688</td>\n",
       "      <td>2.342663</td>\n",
       "      <td>-0.488279</td>\n",
       "      <td>0.061002</td>\n",
       "      <td>0.065417</td>\n",
       "      <td>0.024596</td>\n",
       "      <td>-0.256385</td>\n",
       "      <td>1.140018</td>\n",
       "      <td>0</td>\n",
       "    </tr>\n",
       "    <tr>\n",
       "      <th>3</th>\n",
       "      <td>0.004912</td>\n",
       "      <td>0.727346</td>\n",
       "      <td>-0.203640</td>\n",
       "      <td>1.212171</td>\n",
       "      <td>-0.683598</td>\n",
       "      <td>-0.061401</td>\n",
       "      <td>-0.278295</td>\n",
       "      <td>-1.710270</td>\n",
       "      <td>1.106509</td>\n",
       "      <td>-0.420487</td>\n",
       "      <td>...</td>\n",
       "      <td>-1.332931</td>\n",
       "      <td>0.314688</td>\n",
       "      <td>1.654650</td>\n",
       "      <td>-0.488279</td>\n",
       "      <td>0.061002</td>\n",
       "      <td>0.193113</td>\n",
       "      <td>0.093563</td>\n",
       "      <td>-0.323186</td>\n",
       "      <td>1.140018</td>\n",
       "      <td>0</td>\n",
       "    </tr>\n",
       "    <tr>\n",
       "      <th>4</th>\n",
       "      <td>-0.100905</td>\n",
       "      <td>0.363595</td>\n",
       "      <td>1.321366</td>\n",
       "      <td>1.027120</td>\n",
       "      <td>0.141359</td>\n",
       "      <td>-0.061401</td>\n",
       "      <td>-0.278295</td>\n",
       "      <td>-0.992364</td>\n",
       "      <td>-0.051613</td>\n",
       "      <td>-0.420487</td>\n",
       "      <td>...</td>\n",
       "      <td>-0.085638</td>\n",
       "      <td>-0.565334</td>\n",
       "      <td>0.278625</td>\n",
       "      <td>-0.488279</td>\n",
       "      <td>-0.059229</td>\n",
       "      <td>0.065417</td>\n",
       "      <td>0.024596</td>\n",
       "      <td>-0.456787</td>\n",
       "      <td>1.140018</td>\n",
       "      <td>0</td>\n",
       "    </tr>\n",
       "  </tbody>\n",
       "</table>\n",
       "<p>5 rows × 22 columns</p>\n",
       "</div>"
      ],
      "text/plain": [
       "       Col1      Col2      Col3      Col4      Col5      Col6      Col7  \\\n",
       "0  0.004912  0.693191 -0.203640  0.595322  0.353190 -0.061401 -0.278295   \n",
       "1  0.110729 -0.079903 -0.203640  1.268942  0.396246 -0.061401 -0.278295   \n",
       "2  0.216546 -0.272445 -0.203640  1.050988  0.148753 -0.061401 -0.278295   \n",
       "3  0.004912  0.727346 -0.203640  1.212171 -0.683598 -0.061401 -0.278295   \n",
       "4 -0.100905  0.363595  1.321366  1.027120  0.141359 -0.061401 -0.278295   \n",
       "\n",
       "       Col8      Col9     Col10  ...     Col13     Col14     Col15     Col16  \\\n",
       "0 -1.650444  0.759072 -0.420487  ... -0.798376  1.854728  0.622631  0.963083   \n",
       "1 -1.710270  0.759072 -0.420487  ... -0.798376  1.854728  0.278625  0.963083   \n",
       "2 -1.710270  1.106509 -0.420487  ... -1.332931  0.314688  2.342663 -0.488279   \n",
       "3 -1.710270  1.106509 -0.420487  ... -1.332931  0.314688  1.654650 -0.488279   \n",
       "4 -0.992364 -0.051613 -0.420487  ... -0.085638 -0.565334  0.278625 -0.488279   \n",
       "\n",
       "      Col17     Col18     Col19     Col20     Col21  y  \n",
       "0  0.301464  0.193113  0.231498 -0.289786 -0.493294  0  \n",
       "1  0.301464  0.129265  0.093563 -0.256385 -0.493294  0  \n",
       "2  0.061002  0.065417  0.024596 -0.256385  1.140018  0  \n",
       "3  0.061002  0.193113  0.093563 -0.323186  1.140018  0  \n",
       "4 -0.059229  0.065417  0.024596 -0.456787  1.140018  0  \n",
       "\n",
       "[5 rows x 22 columns]"
      ]
     },
     "execution_count": 21,
     "metadata": {},
     "output_type": "execute_result"
    }
   ],
   "source": [
    "data.head()"
   ]
  },
  {
   "cell_type": "markdown",
   "id": "a8188cba-ae1f-4613-b5cb-40c1637c8d91",
   "metadata": {
    "jp-MarkdownHeadingCollapsed": true,
    "tags": []
   },
   "source": [
    "### One-Class SVM rbf"
   ]
  },
  {
   "cell_type": "code",
   "execution_count": 22,
   "id": "ef45b0e8-37b6-46e8-bf29-a366c043f42f",
   "metadata": {},
   "outputs": [],
   "source": [
    "features = data.drop(columns = ['y'])\n",
    "target = data['y']"
   ]
  },
  {
   "cell_type": "code",
   "execution_count": 23,
   "id": "e8ccd0d9-7e68-46e5-9ad7-106f9cc453b9",
   "metadata": {},
   "outputs": [],
   "source": [
    "min_max_scaler = MinMaxScaler(feature_range=(0, 1))\n",
    "x_train_scaled = min_max_scaler.fit_transform(features.copy())"
   ]
  },
  {
   "cell_type": "code",
   "execution_count": 24,
   "id": "db3f7cc0-9528-4314-94ca-c1a9ef1dce51",
   "metadata": {},
   "outputs": [
    {
     "name": "stdout",
     "output_type": "stream",
     "text": [
      "0.03125\n",
      "0.0625\n"
     ]
    }
   ],
   "source": [
    "start = time.process_time()\n",
    "\n",
    "model = OneClassSVM(gamma='scale', nu=0.1)\n",
    "model.fit(x_train_scaled)\n",
    "\n",
    "end = time.process_time()\n",
    "cardio_rbf_oc_svm_train_time = end - start\n",
    "print(end - start)\n",
    "\n",
    "start = time.process_time()\n",
    "\n",
    "yhat = model.predict(x_train_scaled)\n",
    "y_scores = -model.decision_function(x_train_scaled)\n",
    "\n",
    "end = time.process_time()\n",
    "cardio_rbf_oc_svm_test_time = end - start\n",
    "print(end - start)"
   ]
  },
  {
   "cell_type": "code",
   "execution_count": 25,
   "id": "90a1b48e-d3d3-4cc0-8f41-15f2e3c49fe1",
   "metadata": {},
   "outputs": [],
   "source": [
    "predictions = pd.DataFrame(yhat, columns = ['y_pred']).apply(def_outlier, axis = 1)"
   ]
  },
  {
   "cell_type": "code",
   "execution_count": 26,
   "id": "ef5ec140-12d5-48a1-80c3-7d32505aee9b",
   "metadata": {},
   "outputs": [
    {
     "data": {
      "text/plain": [
       "array([[1547,  108],\n",
       "       [ 100,   76]], dtype=int64)"
      ]
     },
     "execution_count": 26,
     "metadata": {},
     "output_type": "execute_result"
    }
   ],
   "source": [
    "confusion_matrix(target, predictions)"
   ]
  },
  {
   "cell_type": "code",
   "execution_count": 27,
   "id": "1887eb6a",
   "metadata": {},
   "outputs": [
    {
     "data": {
      "text/plain": [
       "0.856052595440813"
      ]
     },
     "execution_count": 27,
     "metadata": {},
     "output_type": "execute_result"
    }
   ],
   "source": [
    "fpr, tpr, _ = metrics.roc_curve(target, y_scores)\n",
    "cardio_rbf_oc_svm_auc = metrics.auc(fpr, tpr)\n",
    "metrics.auc(fpr, tpr)"
   ]
  },
  {
   "cell_type": "code",
   "execution_count": 28,
   "id": "69cd0e83-f371-4a4d-8fec-60e36c86cd57",
   "metadata": {},
   "outputs": [
    {
     "name": "stdout",
     "output_type": "stream",
     "text": [
      "              precision    recall  f1-score   support\n",
      "\n",
      "           0       0.94      0.93      0.94      1655\n",
      "           1       0.41      0.43      0.42       176\n",
      "\n",
      "    accuracy                           0.89      1831\n",
      "   macro avg       0.68      0.68      0.68      1831\n",
      "weighted avg       0.89      0.89      0.89      1831\n",
      "\n"
     ]
    }
   ],
   "source": [
    "cardio_rbf_oc_svm_report = classification_report(target, predictions, target_names = ['0','1'], output_dict = True)\n",
    "print(classification_report(target, predictions, target_names = ['0','1']))"
   ]
  },
  {
   "cell_type": "code",
   "execution_count": 29,
   "id": "30763f83",
   "metadata": {},
   "outputs": [
    {
     "name": "stdout",
     "output_type": "stream",
     "text": [
      "0.41334053839828533\n"
     ]
    }
   ],
   "source": [
    "precision, recall, thresholds = precision_recall_curve(target, y_scores)\n",
    "cardio_ocsvm_rbf_auc_precision_recall = metrics.auc(recall, precision)\n",
    "print(cardio_ocsvm_rbf_auc_precision_recall)"
   ]
  },
  {
   "cell_type": "markdown",
   "id": "1563ee67-06dc-4374-b602-f4d623f6ac25",
   "metadata": {
    "tags": []
   },
   "source": [
    "## ForestCover"
   ]
  },
  {
   "cell_type": "markdown",
   "id": "9ac30d40",
   "metadata": {},
   "source": [
    "**Dataset source**: http://odds.cs.stonybrook.edu/forestcovercovertype-dataset/ (data is transformed from .mat to .csv format)\n",
    "\n",
    "Shebuti Rayana (2016). ODDS Library [http://odds.cs.stonybrook.edu]. Stony Brook, NY: Stony Brook University, Department of Computer Science.\n",
    "\n",
    "**Additional sources:**\n",
    "\n",
    "Liu, Fei Tony, Kai Ming Ting, and Zhi-Hua Zhou. “Isolation forest.” 2008 Eighth IEEE International Conference on Data Mining. IEEE, 2008.\n",
    "\n",
    "K. M. Ting, J. T. S. Chuan, and F. T. Liu. “Mass: A New Ranking Measure for Anomaly Detection.“, IEEE Transactions on Knowledge and Data Engineering, 2009.\n",
    "\n",
    "Kai Ming Ting, Guang-Tong Zhou, Fei Tony Liu & Tan Swee Chuan. (2010). Mass Estimation and Its Applications. Proceedings of The 16th ACM SIGKDD Conference on Knowledge Discovery and Data Mining 2010. pp. 989-998.\n",
    "\n",
    "Swee Chuan Tan, Kai Ming Ting & Fei Tony Liu. (2011). Fast Anomaly Detection for Streaming Data. Proceedings of the International Joint Conference on Artificial Intelligence 2011. pp.1151-1156."
   ]
  },
  {
   "cell_type": "code",
   "execution_count": 30,
   "id": "bff11aeb-e777-439f-a989-dbdd142d1027",
   "metadata": {},
   "outputs": [],
   "source": [
    "data = pd.read_csv('./ForestCover.csv')"
   ]
  },
  {
   "cell_type": "code",
   "execution_count": 31,
   "id": "bc232f7a-8630-46bf-b1a0-b8b8dbee4688",
   "metadata": {},
   "outputs": [
    {
     "data": {
      "text/plain": [
       "(286048, 11)"
      ]
     },
     "execution_count": 31,
     "metadata": {},
     "output_type": "execute_result"
    }
   ],
   "source": [
    "data.shape"
   ]
  },
  {
   "cell_type": "code",
   "execution_count": 32,
   "id": "725ab3d0-b18f-4f66-8201-4d1cd3423964",
   "metadata": {},
   "outputs": [
    {
     "data": {
      "text/html": [
       "<div>\n",
       "<style scoped>\n",
       "    .dataframe tbody tr th:only-of-type {\n",
       "        vertical-align: middle;\n",
       "    }\n",
       "\n",
       "    .dataframe tbody tr th {\n",
       "        vertical-align: top;\n",
       "    }\n",
       "\n",
       "    .dataframe thead th {\n",
       "        text-align: right;\n",
       "    }\n",
       "</style>\n",
       "<table border=\"1\" class=\"dataframe\">\n",
       "  <thead>\n",
       "    <tr style=\"text-align: right;\">\n",
       "      <th></th>\n",
       "      <th>Col2</th>\n",
       "    </tr>\n",
       "    <tr>\n",
       "      <th>y</th>\n",
       "      <th></th>\n",
       "    </tr>\n",
       "  </thead>\n",
       "  <tbody>\n",
       "    <tr>\n",
       "      <th>0</th>\n",
       "      <td>283301</td>\n",
       "    </tr>\n",
       "    <tr>\n",
       "      <th>1</th>\n",
       "      <td>2747</td>\n",
       "    </tr>\n",
       "  </tbody>\n",
       "</table>\n",
       "</div>"
      ],
      "text/plain": [
       "     Col2\n",
       "y        \n",
       "0  283301\n",
       "1    2747"
      ]
     },
     "execution_count": 32,
     "metadata": {},
     "output_type": "execute_result"
    }
   ],
   "source": [
    "pd.pivot_table(data,\n",
    "             values = 'Col2',\n",
    "               index = 'y', \n",
    "              aggfunc = 'count')"
   ]
  },
  {
   "cell_type": "code",
   "execution_count": 33,
   "id": "ba2e2eaf-a650-494b-ba31-fe2afc4c7d42",
   "metadata": {},
   "outputs": [
    {
     "data": {
      "text/html": [
       "<div>\n",
       "<style scoped>\n",
       "    .dataframe tbody tr th:only-of-type {\n",
       "        vertical-align: middle;\n",
       "    }\n",
       "\n",
       "    .dataframe tbody tr th {\n",
       "        vertical-align: top;\n",
       "    }\n",
       "\n",
       "    .dataframe thead th {\n",
       "        text-align: right;\n",
       "    }\n",
       "</style>\n",
       "<table border=\"1\" class=\"dataframe\">\n",
       "  <thead>\n",
       "    <tr style=\"text-align: right;\">\n",
       "      <th></th>\n",
       "      <th>Col1</th>\n",
       "      <th>Col2</th>\n",
       "      <th>Col3</th>\n",
       "      <th>Col4</th>\n",
       "      <th>Col5</th>\n",
       "      <th>Col6</th>\n",
       "      <th>Col7</th>\n",
       "      <th>Col8</th>\n",
       "      <th>Col9</th>\n",
       "      <th>Col10</th>\n",
       "      <th>y</th>\n",
       "    </tr>\n",
       "  </thead>\n",
       "  <tbody>\n",
       "    <tr>\n",
       "      <th>0</th>\n",
       "      <td>2804</td>\n",
       "      <td>139</td>\n",
       "      <td>9</td>\n",
       "      <td>268</td>\n",
       "      <td>65</td>\n",
       "      <td>3180</td>\n",
       "      <td>234</td>\n",
       "      <td>238</td>\n",
       "      <td>135</td>\n",
       "      <td>6121</td>\n",
       "      <td>0</td>\n",
       "    </tr>\n",
       "    <tr>\n",
       "      <th>1</th>\n",
       "      <td>2785</td>\n",
       "      <td>155</td>\n",
       "      <td>18</td>\n",
       "      <td>242</td>\n",
       "      <td>118</td>\n",
       "      <td>3090</td>\n",
       "      <td>238</td>\n",
       "      <td>238</td>\n",
       "      <td>122</td>\n",
       "      <td>6211</td>\n",
       "      <td>0</td>\n",
       "    </tr>\n",
       "    <tr>\n",
       "      <th>2</th>\n",
       "      <td>2579</td>\n",
       "      <td>132</td>\n",
       "      <td>6</td>\n",
       "      <td>300</td>\n",
       "      <td>-15</td>\n",
       "      <td>67</td>\n",
       "      <td>230</td>\n",
       "      <td>237</td>\n",
       "      <td>140</td>\n",
       "      <td>6031</td>\n",
       "      <td>0</td>\n",
       "    </tr>\n",
       "    <tr>\n",
       "      <th>3</th>\n",
       "      <td>2886</td>\n",
       "      <td>151</td>\n",
       "      <td>11</td>\n",
       "      <td>371</td>\n",
       "      <td>26</td>\n",
       "      <td>5253</td>\n",
       "      <td>234</td>\n",
       "      <td>240</td>\n",
       "      <td>136</td>\n",
       "      <td>4051</td>\n",
       "      <td>0</td>\n",
       "    </tr>\n",
       "    <tr>\n",
       "      <th>4</th>\n",
       "      <td>2742</td>\n",
       "      <td>134</td>\n",
       "      <td>22</td>\n",
       "      <td>150</td>\n",
       "      <td>69</td>\n",
       "      <td>3215</td>\n",
       "      <td>248</td>\n",
       "      <td>224</td>\n",
       "      <td>92</td>\n",
       "      <td>6091</td>\n",
       "      <td>0</td>\n",
       "    </tr>\n",
       "  </tbody>\n",
       "</table>\n",
       "</div>"
      ],
      "text/plain": [
       "   Col1  Col2  Col3  Col4  Col5  Col6  Col7  Col8  Col9  Col10  y\n",
       "0  2804   139     9   268    65  3180   234   238   135   6121  0\n",
       "1  2785   155    18   242   118  3090   238   238   122   6211  0\n",
       "2  2579   132     6   300   -15    67   230   237   140   6031  0\n",
       "3  2886   151    11   371    26  5253   234   240   136   4051  0\n",
       "4  2742   134    22   150    69  3215   248   224    92   6091  0"
      ]
     },
     "execution_count": 33,
     "metadata": {},
     "output_type": "execute_result"
    }
   ],
   "source": [
    "data.head()"
   ]
  },
  {
   "cell_type": "markdown",
   "id": "8cb78e15-4d6e-4426-94b1-7aee4ffd766c",
   "metadata": {
    "jp-MarkdownHeadingCollapsed": true,
    "tags": []
   },
   "source": [
    "### One-Class SVM rbf"
   ]
  },
  {
   "cell_type": "code",
   "execution_count": 34,
   "id": "c1cb9fc2-1666-431a-b3ea-985ec4015adf",
   "metadata": {},
   "outputs": [],
   "source": [
    "features = data.drop(columns = ['y'])\n",
    "target = data['y']"
   ]
  },
  {
   "cell_type": "code",
   "execution_count": 35,
   "id": "5b6ded6a-97f4-4b6c-a439-9dae7b998a20",
   "metadata": {},
   "outputs": [],
   "source": [
    "min_max_scaler = MinMaxScaler(feature_range=(0, 1))\n",
    "x_train_scaled = min_max_scaler.fit_transform(features.copy())"
   ]
  },
  {
   "cell_type": "code",
   "execution_count": 36,
   "id": "16c43a1d-6fd6-44f4-badf-f6f60fab64f7",
   "metadata": {},
   "outputs": [
    {
     "name": "stdout",
     "output_type": "stream",
     "text": [
      "1130.015625\n",
      "1677.4375\n"
     ]
    }
   ],
   "source": [
    "start = time.process_time()\n",
    "\n",
    "model = OneClassSVM(gamma='scale', nu=0.1)\n",
    "model.fit(x_train_scaled)\n",
    "\n",
    "end = time.process_time()\n",
    "forestcover_rbf_oc_svm_train_time = end - start\n",
    "print(end - start)\n",
    "\n",
    "start = time.process_time()\n",
    "\n",
    "yhat = model.predict(x_train_scaled)\n",
    "y_scores = -model.decision_function(x_train_scaled)\n",
    "\n",
    "end = time.process_time()\n",
    "forestcover_rbf_oc_svm_test_time = end - start\n",
    "print(end - start)"
   ]
  },
  {
   "cell_type": "code",
   "execution_count": 37,
   "id": "1ad1d6be-a4a6-4c03-abe0-853382dd3c37",
   "metadata": {},
   "outputs": [],
   "source": [
    "predictions = pd.DataFrame(yhat, columns = ['y_pred']).apply(def_outlier, axis = 1)"
   ]
  },
  {
   "cell_type": "code",
   "execution_count": 38,
   "id": "1d34cacd-c88c-42ce-a635-94c97684856f",
   "metadata": {},
   "outputs": [
    {
     "data": {
      "text/plain": [
       "array([[256805,  26496],\n",
       "       [   637,   2110]], dtype=int64)"
      ]
     },
     "execution_count": 38,
     "metadata": {},
     "output_type": "execute_result"
    }
   ],
   "source": [
    "confusion_matrix(target, predictions)"
   ]
  },
  {
   "cell_type": "code",
   "execution_count": 39,
   "id": "c1d834b1",
   "metadata": {},
   "outputs": [
    {
     "data": {
      "text/plain": [
       "0.9312673091740444"
      ]
     },
     "execution_count": 39,
     "metadata": {},
     "output_type": "execute_result"
    }
   ],
   "source": [
    "fpr, tpr, _ = metrics.roc_curve(target, y_scores)\n",
    "forestcover_rbf_oc_svm_auc = metrics.auc(fpr, tpr)\n",
    "metrics.auc(fpr, tpr)"
   ]
  },
  {
   "cell_type": "code",
   "execution_count": 40,
   "id": "304981e1-9d59-4a6c-a87f-feaaace70336",
   "metadata": {},
   "outputs": [
    {
     "name": "stdout",
     "output_type": "stream",
     "text": [
      "              precision    recall  f1-score   support\n",
      "\n",
      "           0       1.00      0.91      0.95    283301\n",
      "           1       0.07      0.77      0.13      2747\n",
      "\n",
      "    accuracy                           0.91    286048\n",
      "   macro avg       0.54      0.84      0.54    286048\n",
      "weighted avg       0.99      0.91      0.94    286048\n",
      "\n"
     ]
    }
   ],
   "source": [
    "forestcover_rbf_oc_svm_report = classification_report(target, predictions, target_names = ['0','1'], output_dict = True)\n",
    "print(classification_report(target, predictions, target_names = ['0','1']))"
   ]
  },
  {
   "cell_type": "code",
   "execution_count": 41,
   "id": "43a51f1d",
   "metadata": {},
   "outputs": [
    {
     "name": "stdout",
     "output_type": "stream",
     "text": [
      "0.12859142599282802\n"
     ]
    }
   ],
   "source": [
    "precision, recall, thresholds = precision_recall_curve(target, y_scores)\n",
    "forestcover_ocsvm_rbf_auc_precision_recall = metrics.auc(recall, precision)\n",
    "print(forestcover_ocsvm_rbf_auc_precision_recall)"
   ]
  },
  {
   "cell_type": "markdown",
   "id": "96e7ab52-cd86-4205-829f-82354fd330c0",
   "metadata": {
    "jp-MarkdownHeadingCollapsed": true,
    "tags": []
   },
   "source": [
    "## Annthyroid"
   ]
  },
  {
   "cell_type": "markdown",
   "id": "24ea3fac",
   "metadata": {},
   "source": [
    "**Dataset source**: http://odds.cs.stonybrook.edu/annthyroid-dataset/ (data is transformed from .mat to .csv format)\n",
    "\n",
    "Shebuti Rayana (2016). ODDS Library [http://odds.cs.stonybrook.edu]. Stony Brook, NY: Stony Brook University, Department of Computer Science.\n",
    "\n",
    "**Aditional sources:**\n",
    "\n",
    "Abe, Naoki, Bianca Zadrozny, and John Langford. “Outlier detection by active learning.” Proceedings of the 12th ACM SIGKDD international conference on Knowledge discovery and data mining. ACM, 2006.\n",
    "\n",
    "Liu, Fei Tony, Kai Ming Ting, and Zhi-Hua Zhou. “Isolation forest.” 2008 Eighth IEEE International Conference on Data Mining. IEEE, 2008.\n",
    "\n",
    "K. M. Ting, J. T. S. Chuan, and F. T. Liu. “Mass: A New Ranking Measure for Anomaly Detection.“, IEEE Transactions on Knowledge and Data Engineering, 2009."
   ]
  },
  {
   "cell_type": "code",
   "execution_count": 42,
   "id": "74880b01-a430-41cc-988f-647cb4ca4ff3",
   "metadata": {},
   "outputs": [],
   "source": [
    "data = pd.read_csv('./annthyroid.csv')"
   ]
  },
  {
   "cell_type": "code",
   "execution_count": 43,
   "id": "be075faf-1275-4bc7-bffb-874175a5fb4c",
   "metadata": {},
   "outputs": [
    {
     "data": {
      "text/html": [
       "<div>\n",
       "<style scoped>\n",
       "    .dataframe tbody tr th:only-of-type {\n",
       "        vertical-align: middle;\n",
       "    }\n",
       "\n",
       "    .dataframe tbody tr th {\n",
       "        vertical-align: top;\n",
       "    }\n",
       "\n",
       "    .dataframe thead th {\n",
       "        text-align: right;\n",
       "    }\n",
       "</style>\n",
       "<table border=\"1\" class=\"dataframe\">\n",
       "  <thead>\n",
       "    <tr style=\"text-align: right;\">\n",
       "      <th></th>\n",
       "      <th>Col1</th>\n",
       "      <th>Col2</th>\n",
       "      <th>Col3</th>\n",
       "      <th>Col4</th>\n",
       "      <th>Col5</th>\n",
       "      <th>Col6</th>\n",
       "      <th>y</th>\n",
       "    </tr>\n",
       "  </thead>\n",
       "  <tbody>\n",
       "    <tr>\n",
       "      <th>0</th>\n",
       "      <td>0.73</td>\n",
       "      <td>0.00060</td>\n",
       "      <td>0.015</td>\n",
       "      <td>0.120</td>\n",
       "      <td>0.082</td>\n",
       "      <td>0.146</td>\n",
       "      <td>0</td>\n",
       "    </tr>\n",
       "    <tr>\n",
       "      <th>1</th>\n",
       "      <td>0.24</td>\n",
       "      <td>0.00025</td>\n",
       "      <td>0.030</td>\n",
       "      <td>0.143</td>\n",
       "      <td>0.133</td>\n",
       "      <td>0.108</td>\n",
       "      <td>0</td>\n",
       "    </tr>\n",
       "    <tr>\n",
       "      <th>2</th>\n",
       "      <td>0.47</td>\n",
       "      <td>0.00190</td>\n",
       "      <td>0.024</td>\n",
       "      <td>0.102</td>\n",
       "      <td>0.131</td>\n",
       "      <td>0.078</td>\n",
       "      <td>0</td>\n",
       "    </tr>\n",
       "    <tr>\n",
       "      <th>3</th>\n",
       "      <td>0.64</td>\n",
       "      <td>0.00090</td>\n",
       "      <td>0.017</td>\n",
       "      <td>0.077</td>\n",
       "      <td>0.090</td>\n",
       "      <td>0.085</td>\n",
       "      <td>0</td>\n",
       "    </tr>\n",
       "    <tr>\n",
       "      <th>4</th>\n",
       "      <td>0.23</td>\n",
       "      <td>0.00025</td>\n",
       "      <td>0.026</td>\n",
       "      <td>0.139</td>\n",
       "      <td>0.090</td>\n",
       "      <td>0.153</td>\n",
       "      <td>0</td>\n",
       "    </tr>\n",
       "  </tbody>\n",
       "</table>\n",
       "</div>"
      ],
      "text/plain": [
       "   Col1     Col2   Col3   Col4   Col5   Col6  y\n",
       "0  0.73  0.00060  0.015  0.120  0.082  0.146  0\n",
       "1  0.24  0.00025  0.030  0.143  0.133  0.108  0\n",
       "2  0.47  0.00190  0.024  0.102  0.131  0.078  0\n",
       "3  0.64  0.00090  0.017  0.077  0.090  0.085  0\n",
       "4  0.23  0.00025  0.026  0.139  0.090  0.153  0"
      ]
     },
     "execution_count": 43,
     "metadata": {},
     "output_type": "execute_result"
    }
   ],
   "source": [
    "data.head()"
   ]
  },
  {
   "cell_type": "code",
   "execution_count": 44,
   "id": "f83c1dd7-907d-4135-a293-180dd4327d11",
   "metadata": {},
   "outputs": [
    {
     "data": {
      "text/plain": [
       "(7200, 7)"
      ]
     },
     "execution_count": 44,
     "metadata": {},
     "output_type": "execute_result"
    }
   ],
   "source": [
    "data.shape"
   ]
  },
  {
   "cell_type": "code",
   "execution_count": 45,
   "id": "1d67fa9a-8257-4681-8366-9a701af73c7a",
   "metadata": {},
   "outputs": [
    {
     "data": {
      "text/html": [
       "<div>\n",
       "<style scoped>\n",
       "    .dataframe tbody tr th:only-of-type {\n",
       "        vertical-align: middle;\n",
       "    }\n",
       "\n",
       "    .dataframe tbody tr th {\n",
       "        vertical-align: top;\n",
       "    }\n",
       "\n",
       "    .dataframe thead th {\n",
       "        text-align: right;\n",
       "    }\n",
       "</style>\n",
       "<table border=\"1\" class=\"dataframe\">\n",
       "  <thead>\n",
       "    <tr style=\"text-align: right;\">\n",
       "      <th></th>\n",
       "      <th>Col1</th>\n",
       "    </tr>\n",
       "    <tr>\n",
       "      <th>y</th>\n",
       "      <th></th>\n",
       "    </tr>\n",
       "  </thead>\n",
       "  <tbody>\n",
       "    <tr>\n",
       "      <th>0</th>\n",
       "      <td>6666</td>\n",
       "    </tr>\n",
       "    <tr>\n",
       "      <th>1</th>\n",
       "      <td>534</td>\n",
       "    </tr>\n",
       "  </tbody>\n",
       "</table>\n",
       "</div>"
      ],
      "text/plain": [
       "   Col1\n",
       "y      \n",
       "0  6666\n",
       "1   534"
      ]
     },
     "execution_count": 45,
     "metadata": {},
     "output_type": "execute_result"
    }
   ],
   "source": [
    "pd.pivot_table(data,\n",
    "             values = 'Col1',\n",
    "               index = 'y', \n",
    "              aggfunc = 'count')"
   ]
  },
  {
   "cell_type": "markdown",
   "id": "6d0993c7-c190-4a08-91d3-ce34a3d56b82",
   "metadata": {
    "jp-MarkdownHeadingCollapsed": true,
    "tags": []
   },
   "source": [
    "### One-Class SVM rbf"
   ]
  },
  {
   "cell_type": "code",
   "execution_count": 46,
   "id": "b8c5ba82-62a5-437a-9968-d83472912b46",
   "metadata": {},
   "outputs": [],
   "source": [
    "features = data.drop(columns = ['y'])\n",
    "target = data['y']"
   ]
  },
  {
   "cell_type": "code",
   "execution_count": 47,
   "id": "45e9e388-5fef-4064-bfee-a9e0bf68443f",
   "metadata": {},
   "outputs": [],
   "source": [
    "min_max_scaler = MinMaxScaler(feature_range=(0, 1))\n",
    "x_train_scaled = min_max_scaler.fit_transform(features.copy())"
   ]
  },
  {
   "cell_type": "code",
   "execution_count": 48,
   "id": "731c345e-9576-4bfa-a946-99700b3b149c",
   "metadata": {},
   "outputs": [
    {
     "name": "stdout",
     "output_type": "stream",
     "text": [
      "0.4375\n",
      "1.046875\n"
     ]
    }
   ],
   "source": [
    "start = time.process_time()\n",
    "\n",
    "model = OneClassSVM(gamma='scale', nu=0.1)\n",
    "model.fit(x_train_scaled)\n",
    "\n",
    "end = time.process_time()\n",
    "annthyroid_rbf_oc_svm_train_time = end - start\n",
    "print(end - start)\n",
    "\n",
    "start = time.process_time()\n",
    "\n",
    "yhat = model.predict(x_train_scaled)\n",
    "y_scores = -model.decision_function(x_train_scaled)\n",
    "\n",
    "end = time.process_time()\n",
    "annthyroid_rbf_oc_svm_test_time = end - start\n",
    "print(end - start)"
   ]
  },
  {
   "cell_type": "code",
   "execution_count": 49,
   "id": "6c174c15-a761-4d59-81e8-466253b94f77",
   "metadata": {},
   "outputs": [],
   "source": [
    "predictions = pd.DataFrame(yhat, columns = ['y_pred']).apply(def_outlier, axis = 1)"
   ]
  },
  {
   "cell_type": "code",
   "execution_count": 50,
   "id": "6d49cdb0",
   "metadata": {},
   "outputs": [
    {
     "data": {
      "text/plain": [
       "0.61818934702459"
      ]
     },
     "execution_count": 50,
     "metadata": {},
     "output_type": "execute_result"
    }
   ],
   "source": [
    "fpr, tpr, _ = metrics.roc_curve(target, y_scores)\n",
    "annthyroid_rbf_oc_svm_auc = metrics.auc(fpr, tpr)\n",
    "metrics.auc(fpr, tpr)"
   ]
  },
  {
   "cell_type": "code",
   "execution_count": 51,
   "id": "245e92ea-e0ca-462d-8fed-2164ef0739e9",
   "metadata": {},
   "outputs": [
    {
     "name": "stdout",
     "output_type": "stream",
     "text": [
      "              precision    recall  f1-score   support\n",
      "\n",
      "           0       0.94      0.91      0.92      6666\n",
      "           1       0.17      0.23      0.19       534\n",
      "\n",
      "    accuracy                           0.86      7200\n",
      "   macro avg       0.55      0.57      0.56      7200\n",
      "weighted avg       0.88      0.86      0.87      7200\n",
      "\n"
     ]
    }
   ],
   "source": [
    "annthyroid_rbf_oc_svm_report = classification_report(target, predictions, target_names = ['0','1'], output_dict = True)\n",
    "print(classification_report(target, predictions, target_names = ['0','1']))"
   ]
  },
  {
   "cell_type": "code",
   "execution_count": 52,
   "id": "d1002fde",
   "metadata": {},
   "outputs": [
    {
     "name": "stdout",
     "output_type": "stream",
     "text": [
      "0.1440984150992436\n"
     ]
    }
   ],
   "source": [
    "precision, recall, thresholds = precision_recall_curve(target, y_scores)\n",
    "annthyroid_ocsvm_rbf_auc_precision_recall = metrics.auc(recall, precision)\n",
    "print(annthyroid_ocsvm_rbf_auc_precision_recall)"
   ]
  },
  {
   "cell_type": "markdown",
   "id": "8c02c6cb-54b6-4c76-af0d-27bdcdfe0c35",
   "metadata": {
    "tags": []
   },
   "source": [
    "## Credit card"
   ]
  },
  {
   "cell_type": "markdown",
   "id": "af2dc90e",
   "metadata": {},
   "source": [
    "**Dataset source**: https://www.kaggle.com/mlg-ulb/creditcardfraud\n",
    "\n",
    "**Additional sources:**\n",
    "\n",
    "Andrea Dal Pozzolo, Olivier Caelen, Reid A. Johnson and Gianluca Bontempi. Calibrating Probability with Undersampling for Unbalanced Classification. In Symposium on Computational Intelligence and Data Mining (CIDM), IEEE, 2015\n",
    "\n",
    "Dal Pozzolo, Andrea; Caelen, Olivier; Le Borgne, Yann-Ael; Waterschoot, Serge; Bontempi, Gianluca. Learned lessons in credit card fraud detection from a practitioner perspective, Expert systems with applications,41,10,4915-4928,2014, Pergamon\n",
    "\n",
    "Dal Pozzolo, Andrea; Boracchi, Giacomo; Caelen, Olivier; Alippi, Cesare; Bontempi, Gianluca. Credit card fraud detection: a realistic modeling and a novel learning strategy, IEEE transactions on neural networks and learning systems,29,8,3784-3797,2018,IEEE\n",
    "\n",
    "Dal Pozzolo, Andrea Adaptive Machine learning for credit card fraud detection ULB MLG PhD thesis (supervised by G. Bontempi)\n",
    "\n",
    "Carcillo, Fabrizio; Dal Pozzolo, Andrea; Le Borgne, Yann-Aël; Caelen, Olivier; Mazzer, Yannis; Bontempi, Gianluca. Scarff: a scalable framework for streaming credit card fraud detection with Spark, Information fusion,41, 182-194,2018,Elsevier\n",
    "\n",
    "Carcillo, Fabrizio; Le Borgne, Yann-Aël; Caelen, Olivier; Bontempi, Gianluca. Streaming active learning strategies for real-life credit card fraud detection: assessment and visualization, International Journal of Data Science and Analytics, 5,4,285-300,2018,Springer International Publishing\n",
    "\n",
    "Bertrand Lebichot, Yann-Aël Le Borgne, Liyun He, Frederic Oblé, Gianluca Bontempi Deep-Learning Domain Adaptation Techniques for Credit Cards Fraud Detection, INNSBDDL 2019: Recent Advances in Big Data and Deep Learning, pp 78-88, 2019\n",
    "\n",
    "Fabrizio Carcillo, Yann-Aël Le Borgne, Olivier Caelen, Frederic Oblé, Gianluca Bontempi Combining Unsupervised and Supervised Learning in Credit Card Fraud Detection Information Sciences, 2019\n",
    "\n",
    "Yann-Aël Le Borgne, Gianluca Bontempi Machine Learning for Credit Card Fraud Detection - Practical Handbook"
   ]
  },
  {
   "cell_type": "code",
   "execution_count": 53,
   "id": "abaad9a8-e22d-40a5-9e2b-1611697c48c8",
   "metadata": {},
   "outputs": [],
   "source": [
    "data = pd.read_csv('./creditcard.csv')"
   ]
  },
  {
   "cell_type": "code",
   "execution_count": 54,
   "id": "f805c4b2-f0cf-4b91-bd69-60bb6acf57d6",
   "metadata": {},
   "outputs": [],
   "source": [
    "data = data.drop(columns = ['Time'])"
   ]
  },
  {
   "cell_type": "code",
   "execution_count": 55,
   "id": "c53f52a7-5385-452d-b93e-0526c104f5c4",
   "metadata": {},
   "outputs": [
    {
     "data": {
      "text/plain": [
       "(284807, 30)"
      ]
     },
     "execution_count": 55,
     "metadata": {},
     "output_type": "execute_result"
    }
   ],
   "source": [
    "data.shape"
   ]
  },
  {
   "cell_type": "code",
   "execution_count": 56,
   "id": "64fd85a8",
   "metadata": {},
   "outputs": [
    {
     "data": {
      "text/html": [
       "<div>\n",
       "<style scoped>\n",
       "    .dataframe tbody tr th:only-of-type {\n",
       "        vertical-align: middle;\n",
       "    }\n",
       "\n",
       "    .dataframe tbody tr th {\n",
       "        vertical-align: top;\n",
       "    }\n",
       "\n",
       "    .dataframe thead th {\n",
       "        text-align: right;\n",
       "    }\n",
       "</style>\n",
       "<table border=\"1\" class=\"dataframe\">\n",
       "  <thead>\n",
       "    <tr style=\"text-align: right;\">\n",
       "      <th></th>\n",
       "      <th>V1</th>\n",
       "      <th>V2</th>\n",
       "      <th>V3</th>\n",
       "      <th>V4</th>\n",
       "      <th>V5</th>\n",
       "      <th>V6</th>\n",
       "      <th>V7</th>\n",
       "      <th>V8</th>\n",
       "      <th>V9</th>\n",
       "      <th>V10</th>\n",
       "      <th>...</th>\n",
       "      <th>V21</th>\n",
       "      <th>V22</th>\n",
       "      <th>V23</th>\n",
       "      <th>V24</th>\n",
       "      <th>V25</th>\n",
       "      <th>V26</th>\n",
       "      <th>V27</th>\n",
       "      <th>V28</th>\n",
       "      <th>Amount</th>\n",
       "      <th>Class</th>\n",
       "    </tr>\n",
       "  </thead>\n",
       "  <tbody>\n",
       "    <tr>\n",
       "      <th>0</th>\n",
       "      <td>-1.359807</td>\n",
       "      <td>-0.072781</td>\n",
       "      <td>2.536347</td>\n",
       "      <td>1.378155</td>\n",
       "      <td>-0.338321</td>\n",
       "      <td>0.462388</td>\n",
       "      <td>0.239599</td>\n",
       "      <td>0.098698</td>\n",
       "      <td>0.363787</td>\n",
       "      <td>0.090794</td>\n",
       "      <td>...</td>\n",
       "      <td>-0.018307</td>\n",
       "      <td>0.277838</td>\n",
       "      <td>-0.110474</td>\n",
       "      <td>0.066928</td>\n",
       "      <td>0.128539</td>\n",
       "      <td>-0.189115</td>\n",
       "      <td>0.133558</td>\n",
       "      <td>-0.021053</td>\n",
       "      <td>149.62</td>\n",
       "      <td>0</td>\n",
       "    </tr>\n",
       "    <tr>\n",
       "      <th>1</th>\n",
       "      <td>1.191857</td>\n",
       "      <td>0.266151</td>\n",
       "      <td>0.166480</td>\n",
       "      <td>0.448154</td>\n",
       "      <td>0.060018</td>\n",
       "      <td>-0.082361</td>\n",
       "      <td>-0.078803</td>\n",
       "      <td>0.085102</td>\n",
       "      <td>-0.255425</td>\n",
       "      <td>-0.166974</td>\n",
       "      <td>...</td>\n",
       "      <td>-0.225775</td>\n",
       "      <td>-0.638672</td>\n",
       "      <td>0.101288</td>\n",
       "      <td>-0.339846</td>\n",
       "      <td>0.167170</td>\n",
       "      <td>0.125895</td>\n",
       "      <td>-0.008983</td>\n",
       "      <td>0.014724</td>\n",
       "      <td>2.69</td>\n",
       "      <td>0</td>\n",
       "    </tr>\n",
       "    <tr>\n",
       "      <th>2</th>\n",
       "      <td>-1.358354</td>\n",
       "      <td>-1.340163</td>\n",
       "      <td>1.773209</td>\n",
       "      <td>0.379780</td>\n",
       "      <td>-0.503198</td>\n",
       "      <td>1.800499</td>\n",
       "      <td>0.791461</td>\n",
       "      <td>0.247676</td>\n",
       "      <td>-1.514654</td>\n",
       "      <td>0.207643</td>\n",
       "      <td>...</td>\n",
       "      <td>0.247998</td>\n",
       "      <td>0.771679</td>\n",
       "      <td>0.909412</td>\n",
       "      <td>-0.689281</td>\n",
       "      <td>-0.327642</td>\n",
       "      <td>-0.139097</td>\n",
       "      <td>-0.055353</td>\n",
       "      <td>-0.059752</td>\n",
       "      <td>378.66</td>\n",
       "      <td>0</td>\n",
       "    </tr>\n",
       "    <tr>\n",
       "      <th>3</th>\n",
       "      <td>-0.966272</td>\n",
       "      <td>-0.185226</td>\n",
       "      <td>1.792993</td>\n",
       "      <td>-0.863291</td>\n",
       "      <td>-0.010309</td>\n",
       "      <td>1.247203</td>\n",
       "      <td>0.237609</td>\n",
       "      <td>0.377436</td>\n",
       "      <td>-1.387024</td>\n",
       "      <td>-0.054952</td>\n",
       "      <td>...</td>\n",
       "      <td>-0.108300</td>\n",
       "      <td>0.005274</td>\n",
       "      <td>-0.190321</td>\n",
       "      <td>-1.175575</td>\n",
       "      <td>0.647376</td>\n",
       "      <td>-0.221929</td>\n",
       "      <td>0.062723</td>\n",
       "      <td>0.061458</td>\n",
       "      <td>123.50</td>\n",
       "      <td>0</td>\n",
       "    </tr>\n",
       "    <tr>\n",
       "      <th>4</th>\n",
       "      <td>-1.158233</td>\n",
       "      <td>0.877737</td>\n",
       "      <td>1.548718</td>\n",
       "      <td>0.403034</td>\n",
       "      <td>-0.407193</td>\n",
       "      <td>0.095921</td>\n",
       "      <td>0.592941</td>\n",
       "      <td>-0.270533</td>\n",
       "      <td>0.817739</td>\n",
       "      <td>0.753074</td>\n",
       "      <td>...</td>\n",
       "      <td>-0.009431</td>\n",
       "      <td>0.798278</td>\n",
       "      <td>-0.137458</td>\n",
       "      <td>0.141267</td>\n",
       "      <td>-0.206010</td>\n",
       "      <td>0.502292</td>\n",
       "      <td>0.219422</td>\n",
       "      <td>0.215153</td>\n",
       "      <td>69.99</td>\n",
       "      <td>0</td>\n",
       "    </tr>\n",
       "  </tbody>\n",
       "</table>\n",
       "<p>5 rows × 30 columns</p>\n",
       "</div>"
      ],
      "text/plain": [
       "         V1        V2        V3        V4        V5        V6        V7  \\\n",
       "0 -1.359807 -0.072781  2.536347  1.378155 -0.338321  0.462388  0.239599   \n",
       "1  1.191857  0.266151  0.166480  0.448154  0.060018 -0.082361 -0.078803   \n",
       "2 -1.358354 -1.340163  1.773209  0.379780 -0.503198  1.800499  0.791461   \n",
       "3 -0.966272 -0.185226  1.792993 -0.863291 -0.010309  1.247203  0.237609   \n",
       "4 -1.158233  0.877737  1.548718  0.403034 -0.407193  0.095921  0.592941   \n",
       "\n",
       "         V8        V9       V10  ...       V21       V22       V23       V24  \\\n",
       "0  0.098698  0.363787  0.090794  ... -0.018307  0.277838 -0.110474  0.066928   \n",
       "1  0.085102 -0.255425 -0.166974  ... -0.225775 -0.638672  0.101288 -0.339846   \n",
       "2  0.247676 -1.514654  0.207643  ...  0.247998  0.771679  0.909412 -0.689281   \n",
       "3  0.377436 -1.387024 -0.054952  ... -0.108300  0.005274 -0.190321 -1.175575   \n",
       "4 -0.270533  0.817739  0.753074  ... -0.009431  0.798278 -0.137458  0.141267   \n",
       "\n",
       "        V25       V26       V27       V28  Amount  Class  \n",
       "0  0.128539 -0.189115  0.133558 -0.021053  149.62      0  \n",
       "1  0.167170  0.125895 -0.008983  0.014724    2.69      0  \n",
       "2 -0.327642 -0.139097 -0.055353 -0.059752  378.66      0  \n",
       "3  0.647376 -0.221929  0.062723  0.061458  123.50      0  \n",
       "4 -0.206010  0.502292  0.219422  0.215153   69.99      0  \n",
       "\n",
       "[5 rows x 30 columns]"
      ]
     },
     "execution_count": 56,
     "metadata": {},
     "output_type": "execute_result"
    }
   ],
   "source": [
    "data.head()"
   ]
  },
  {
   "cell_type": "code",
   "execution_count": 57,
   "id": "ff70cce9",
   "metadata": {},
   "outputs": [
    {
     "data": {
      "text/html": [
       "<div>\n",
       "<style scoped>\n",
       "    .dataframe tbody tr th:only-of-type {\n",
       "        vertical-align: middle;\n",
       "    }\n",
       "\n",
       "    .dataframe tbody tr th {\n",
       "        vertical-align: top;\n",
       "    }\n",
       "\n",
       "    .dataframe thead th {\n",
       "        text-align: right;\n",
       "    }\n",
       "</style>\n",
       "<table border=\"1\" class=\"dataframe\">\n",
       "  <thead>\n",
       "    <tr style=\"text-align: right;\">\n",
       "      <th></th>\n",
       "      <th>V1</th>\n",
       "    </tr>\n",
       "    <tr>\n",
       "      <th>Class</th>\n",
       "      <th></th>\n",
       "    </tr>\n",
       "  </thead>\n",
       "  <tbody>\n",
       "    <tr>\n",
       "      <th>0</th>\n",
       "      <td>284315</td>\n",
       "    </tr>\n",
       "    <tr>\n",
       "      <th>1</th>\n",
       "      <td>492</td>\n",
       "    </tr>\n",
       "  </tbody>\n",
       "</table>\n",
       "</div>"
      ],
      "text/plain": [
       "           V1\n",
       "Class        \n",
       "0      284315\n",
       "1         492"
      ]
     },
     "execution_count": 57,
     "metadata": {},
     "output_type": "execute_result"
    }
   ],
   "source": [
    "pd.pivot_table(data,\n",
    "             values = 'V1',\n",
    "               index = 'Class', \n",
    "              aggfunc = 'count')"
   ]
  },
  {
   "cell_type": "markdown",
   "id": "0f83913b-9311-477e-b9fa-a4f5136f4d9f",
   "metadata": {
    "jp-MarkdownHeadingCollapsed": true,
    "tags": []
   },
   "source": [
    "### One-Class SVM rbf"
   ]
  },
  {
   "cell_type": "code",
   "execution_count": 58,
   "id": "d08003ad-c698-420a-9c7d-da7602c62ff4",
   "metadata": {},
   "outputs": [],
   "source": [
    "features = data.drop(columns = ['Class'])\n",
    "target = data['Class']"
   ]
  },
  {
   "cell_type": "code",
   "execution_count": 59,
   "id": "b23c6236-6951-4181-ab77-74503f68bb97",
   "metadata": {},
   "outputs": [],
   "source": [
    "min_max_scaler = MinMaxScaler(feature_range=(0, 1))\n",
    "x_train_scaled = min_max_scaler.fit_transform(features.copy())"
   ]
  },
  {
   "cell_type": "code",
   "execution_count": 60,
   "id": "3f610d30-9af2-4fe1-b4ad-fb0e8cacf90f",
   "metadata": {},
   "outputs": [
    {
     "name": "stdout",
     "output_type": "stream",
     "text": [
      "1682.75\n",
      "1827.734375\n"
     ]
    }
   ],
   "source": [
    "start = time.process_time()\n",
    "\n",
    "model = OneClassSVM(gamma='scale', nu=0.1)\n",
    "model.fit(x_train_scaled)\n",
    "\n",
    "end = time.process_time()\n",
    "creditcard_rbf_oc_svm_train_time = end - start\n",
    "print(end - start)\n",
    "\n",
    "start = time.process_time()\n",
    "\n",
    "yhat = model.predict(x_train_scaled)\n",
    "y_scores = -model.decision_function(x_train_scaled)\n",
    "\n",
    "end = time.process_time()\n",
    "creditcard_rbf_oc_svm_test_time = end - start\n",
    "print(end - start)"
   ]
  },
  {
   "cell_type": "code",
   "execution_count": 61,
   "id": "ef2718aa-58bd-4e2d-a756-1c741ed485e4",
   "metadata": {},
   "outputs": [],
   "source": [
    "predictions = pd.DataFrame(yhat, columns = ['y_pred']).apply(def_outlier, axis = 1)"
   ]
  },
  {
   "cell_type": "code",
   "execution_count": 62,
   "id": "49a3aa3d-0d46-4589-a010-a468d39965e2",
   "metadata": {},
   "outputs": [
    {
     "data": {
      "text/plain": [
       "0.9013121166263469"
      ]
     },
     "execution_count": 62,
     "metadata": {},
     "output_type": "execute_result"
    }
   ],
   "source": [
    "accuracy_score(predictions, target)"
   ]
  },
  {
   "cell_type": "code",
   "execution_count": 63,
   "id": "c5f2e06b",
   "metadata": {},
   "outputs": [
    {
     "data": {
      "text/plain": [
       "0.9454014419767152"
      ]
     },
     "execution_count": 63,
     "metadata": {},
     "output_type": "execute_result"
    }
   ],
   "source": [
    "fpr, tpr, _ = metrics.roc_curve(target, y_scores)\n",
    "creditcard_rbf_oc_svm_auc = metrics.auc(fpr, tpr)\n",
    "metrics.auc(fpr, tpr)"
   ]
  },
  {
   "cell_type": "code",
   "execution_count": 64,
   "id": "83f51b69-fb7b-4e45-b9a4-495478e9a94b",
   "metadata": {},
   "outputs": [
    {
     "name": "stdout",
     "output_type": "stream",
     "text": [
      "              precision    recall  f1-score   support\n",
      "\n",
      "           0       1.00      0.90      0.95    284315\n",
      "           1       0.02      0.88      0.03       492\n",
      "\n",
      "    accuracy                           0.90    284807\n",
      "   macro avg       0.51      0.89      0.49    284807\n",
      "weighted avg       1.00      0.90      0.95    284807\n",
      "\n"
     ]
    }
   ],
   "source": [
    "creditcard_rbf_oc_svm_report = classification_report(target, predictions, target_names = ['0','1'], output_dict = True)\n",
    "print(classification_report(target, predictions, target_names = ['0','1']))"
   ]
  },
  {
   "cell_type": "code",
   "execution_count": 65,
   "id": "70c67c09",
   "metadata": {},
   "outputs": [
    {
     "name": "stdout",
     "output_type": "stream",
     "text": [
      "0.38668923406828387\n"
     ]
    }
   ],
   "source": [
    "precision, recall, thresholds = precision_recall_curve(target, y_scores)\n",
    "creditcard_ocsvm_rbf_auc_precision_recall = metrics.auc(recall, precision)\n",
    "print(creditcard_ocsvm_rbf_auc_precision_recall)"
   ]
  },
  {
   "cell_type": "markdown",
   "id": "03cd6004",
   "metadata": {
    "jp-MarkdownHeadingCollapsed": true,
    "tags": []
   },
   "source": [
    "## Mammography"
   ]
  },
  {
   "cell_type": "markdown",
   "id": "d3cbd5e1",
   "metadata": {},
   "source": [
    "**Dataset source**: http://odds.cs.stonybrook.edu/mammography-dataset/ (data is transformed from .mat to .csv format)\n",
    "\n",
    "Shebuti Rayana (2016). ODDS Library [http://odds.cs.stonybrook.edu]. Stony Brook, NY: Stony Brook University, Department of Computer Science.\n",
    "\n",
    "**Additional sources:**\n",
    "\n",
    "Abe, Naoki, Bianca Zadrozny, and John Langford. “Outlier detection by active learning.” Proceedings of the 12th ACM SIGKDD international conference on Knowledge discovery and data mining. ACM, 2006.\n",
    "\n",
    "Liu, Fei Tony, Kai Ming Ting, and Zhi-Hua Zhou. “Isolation forest.” 2008 Eighth IEEE International Conference on Data Mining. IEEE, 2008.\n",
    "\n",
    "K. M. Ting, J. T. S. Chuan, and F. T. Liu. “Mass: A New Ranking Measure for Anomaly Detection.“, IEEE Transactions on Knowledge and Data Engineering, 2009."
   ]
  },
  {
   "cell_type": "code",
   "execution_count": 66,
   "id": "2fa86495-b3c3-420b-9869-e218b46ddddd",
   "metadata": {},
   "outputs": [],
   "source": [
    "data = pd.read_csv('./mammography.csv')"
   ]
  },
  {
   "cell_type": "code",
   "execution_count": 67,
   "id": "9903d321-6749-4ad3-a74f-5a36ad1922ac",
   "metadata": {},
   "outputs": [
    {
     "data": {
      "text/html": [
       "<div>\n",
       "<style scoped>\n",
       "    .dataframe tbody tr th:only-of-type {\n",
       "        vertical-align: middle;\n",
       "    }\n",
       "\n",
       "    .dataframe tbody tr th {\n",
       "        vertical-align: top;\n",
       "    }\n",
       "\n",
       "    .dataframe thead th {\n",
       "        text-align: right;\n",
       "    }\n",
       "</style>\n",
       "<table border=\"1\" class=\"dataframe\">\n",
       "  <thead>\n",
       "    <tr style=\"text-align: right;\">\n",
       "      <th></th>\n",
       "      <th>Col1</th>\n",
       "      <th>Col2</th>\n",
       "      <th>Col3</th>\n",
       "      <th>Col4</th>\n",
       "      <th>Col5</th>\n",
       "      <th>Col6</th>\n",
       "      <th>y</th>\n",
       "    </tr>\n",
       "  </thead>\n",
       "  <tbody>\n",
       "    <tr>\n",
       "      <th>0</th>\n",
       "      <td>0.230020</td>\n",
       "      <td>5.072578</td>\n",
       "      <td>-0.276061</td>\n",
       "      <td>0.832444</td>\n",
       "      <td>-0.377866</td>\n",
       "      <td>0.480322</td>\n",
       "      <td>0</td>\n",
       "    </tr>\n",
       "    <tr>\n",
       "      <th>1</th>\n",
       "      <td>0.155491</td>\n",
       "      <td>-0.169390</td>\n",
       "      <td>0.670652</td>\n",
       "      <td>-0.859553</td>\n",
       "      <td>-0.377866</td>\n",
       "      <td>-0.945723</td>\n",
       "      <td>0</td>\n",
       "    </tr>\n",
       "    <tr>\n",
       "      <th>2</th>\n",
       "      <td>-0.784415</td>\n",
       "      <td>-0.443654</td>\n",
       "      <td>5.674705</td>\n",
       "      <td>-0.859553</td>\n",
       "      <td>-0.377866</td>\n",
       "      <td>-0.945723</td>\n",
       "      <td>0</td>\n",
       "    </tr>\n",
       "    <tr>\n",
       "      <th>3</th>\n",
       "      <td>0.546088</td>\n",
       "      <td>0.131415</td>\n",
       "      <td>-0.456387</td>\n",
       "      <td>-0.859553</td>\n",
       "      <td>-0.377866</td>\n",
       "      <td>-0.945723</td>\n",
       "      <td>0</td>\n",
       "    </tr>\n",
       "    <tr>\n",
       "      <th>4</th>\n",
       "      <td>-0.102987</td>\n",
       "      <td>-0.394994</td>\n",
       "      <td>-0.140816</td>\n",
       "      <td>0.979703</td>\n",
       "      <td>-0.377866</td>\n",
       "      <td>1.013566</td>\n",
       "      <td>0</td>\n",
       "    </tr>\n",
       "  </tbody>\n",
       "</table>\n",
       "</div>"
      ],
      "text/plain": [
       "       Col1      Col2      Col3      Col4      Col5      Col6  y\n",
       "0  0.230020  5.072578 -0.276061  0.832444 -0.377866  0.480322  0\n",
       "1  0.155491 -0.169390  0.670652 -0.859553 -0.377866 -0.945723  0\n",
       "2 -0.784415 -0.443654  5.674705 -0.859553 -0.377866 -0.945723  0\n",
       "3  0.546088  0.131415 -0.456387 -0.859553 -0.377866 -0.945723  0\n",
       "4 -0.102987 -0.394994 -0.140816  0.979703 -0.377866  1.013566  0"
      ]
     },
     "execution_count": 67,
     "metadata": {},
     "output_type": "execute_result"
    }
   ],
   "source": [
    "data.head()"
   ]
  },
  {
   "cell_type": "code",
   "execution_count": 68,
   "id": "8e43cae7-bae2-4513-8a6b-1d1fc1767200",
   "metadata": {},
   "outputs": [
    {
     "data": {
      "text/html": [
       "<div>\n",
       "<style scoped>\n",
       "    .dataframe tbody tr th:only-of-type {\n",
       "        vertical-align: middle;\n",
       "    }\n",
       "\n",
       "    .dataframe tbody tr th {\n",
       "        vertical-align: top;\n",
       "    }\n",
       "\n",
       "    .dataframe thead th {\n",
       "        text-align: right;\n",
       "    }\n",
       "</style>\n",
       "<table border=\"1\" class=\"dataframe\">\n",
       "  <thead>\n",
       "    <tr style=\"text-align: right;\">\n",
       "      <th></th>\n",
       "      <th>Col1</th>\n",
       "    </tr>\n",
       "    <tr>\n",
       "      <th>y</th>\n",
       "      <th></th>\n",
       "    </tr>\n",
       "  </thead>\n",
       "  <tbody>\n",
       "    <tr>\n",
       "      <th>0</th>\n",
       "      <td>10923</td>\n",
       "    </tr>\n",
       "    <tr>\n",
       "      <th>1</th>\n",
       "      <td>260</td>\n",
       "    </tr>\n",
       "  </tbody>\n",
       "</table>\n",
       "</div>"
      ],
      "text/plain": [
       "    Col1\n",
       "y       \n",
       "0  10923\n",
       "1    260"
      ]
     },
     "execution_count": 68,
     "metadata": {},
     "output_type": "execute_result"
    }
   ],
   "source": [
    "pd.pivot_table(data,\n",
    "             values = 'Col1',\n",
    "               index = 'y', \n",
    "              aggfunc = 'count')"
   ]
  },
  {
   "cell_type": "code",
   "execution_count": 69,
   "id": "67a6e1ef",
   "metadata": {},
   "outputs": [
    {
     "data": {
      "text/plain": [
       "(11183, 7)"
      ]
     },
     "execution_count": 69,
     "metadata": {},
     "output_type": "execute_result"
    }
   ],
   "source": [
    "data.shape"
   ]
  },
  {
   "cell_type": "markdown",
   "id": "0cc4c398-7a31-495e-9ed5-23c628de1483",
   "metadata": {
    "jp-MarkdownHeadingCollapsed": true,
    "tags": []
   },
   "source": [
    "### One-Class SVM rbf"
   ]
  },
  {
   "cell_type": "code",
   "execution_count": 70,
   "id": "70f82409-e63b-485c-bc13-4a732e9f92cd",
   "metadata": {},
   "outputs": [],
   "source": [
    "features = data.drop(columns = ['y'])\n",
    "target = data['y']"
   ]
  },
  {
   "cell_type": "code",
   "execution_count": 71,
   "id": "0da98183-6b15-4de2-953c-8e90ad479a65",
   "metadata": {},
   "outputs": [],
   "source": [
    "min_max_scaler = MinMaxScaler(feature_range=(0, 1))\n",
    "x_train_scaled = min_max_scaler.fit_transform(features.copy())"
   ]
  },
  {
   "cell_type": "code",
   "execution_count": 72,
   "id": "c7530e0f-6ef8-4332-981f-4e17a17e8039",
   "metadata": {},
   "outputs": [
    {
     "name": "stdout",
     "output_type": "stream",
     "text": [
      "1.203125\n",
      "2.53125\n"
     ]
    }
   ],
   "source": [
    "start = time.process_time()\n",
    "\n",
    "model = OneClassSVM(gamma='scale', nu=0.1)\n",
    "model.fit(x_train_scaled)\n",
    "\n",
    "end = time.process_time()\n",
    "mammography_rbf_oc_svm_train_time = end - start\n",
    "print(end - start)\n",
    "\n",
    "start = time.process_time()\n",
    "\n",
    "yhat = model.predict(x_train_scaled)\n",
    "y_scores = -model.decision_function(x_train_scaled)\n",
    "\n",
    "end = time.process_time()\n",
    "mammography_rbf_oc_svm_test_time = end - start\n",
    "print(end - start)"
   ]
  },
  {
   "cell_type": "code",
   "execution_count": 73,
   "id": "034f9831-4ab3-4dd4-90f6-eb917275d44d",
   "metadata": {},
   "outputs": [],
   "source": [
    "predictions = pd.DataFrame(yhat, columns = ['y_pred']).apply(def_outlier, axis = 1)"
   ]
  },
  {
   "cell_type": "code",
   "execution_count": 74,
   "id": "633919c8-272e-4314-9a61-d18583577e9f",
   "metadata": {},
   "outputs": [
    {
     "data": {
      "text/plain": [
       "array([[10042,   881],\n",
       "       [  147,   113]], dtype=int64)"
      ]
     },
     "execution_count": 74,
     "metadata": {},
     "output_type": "execute_result"
    }
   ],
   "source": [
    "confusion_matrix(target, predictions)"
   ]
  },
  {
   "cell_type": "code",
   "execution_count": 75,
   "id": "da8861cb",
   "metadata": {},
   "outputs": [
    {
     "data": {
      "text/plain": [
       "0.6349551757406743"
      ]
     },
     "execution_count": 75,
     "metadata": {},
     "output_type": "execute_result"
    }
   ],
   "source": [
    "fpr, tpr, _ = metrics.roc_curve(target, y_scores)\n",
    "mammography_rbf_oc_svm_auc = metrics.auc(fpr, tpr)\n",
    "metrics.auc(fpr, tpr)"
   ]
  },
  {
   "cell_type": "code",
   "execution_count": 76,
   "id": "43cd82f8-de19-4d2d-8f79-9f23fc9bf429",
   "metadata": {},
   "outputs": [
    {
     "name": "stdout",
     "output_type": "stream",
     "text": [
      "              precision    recall  f1-score   support\n",
      "\n",
      "           0       0.99      0.92      0.95     10923\n",
      "           1       0.11      0.43      0.18       260\n",
      "\n",
      "    accuracy                           0.91     11183\n",
      "   macro avg       0.55      0.68      0.57     11183\n",
      "weighted avg       0.97      0.91      0.93     11183\n",
      "\n"
     ]
    }
   ],
   "source": [
    "mammography_rbf_oc_svm_report = classification_report(target, predictions, target_names = ['0','1'], output_dict = True)\n",
    "print(classification_report(target, predictions, target_names = ['0','1']))"
   ]
  },
  {
   "cell_type": "code",
   "execution_count": 77,
   "id": "b68d4c3c",
   "metadata": {},
   "outputs": [
    {
     "name": "stdout",
     "output_type": "stream",
     "text": [
      "0.11314186844336357\n"
     ]
    }
   ],
   "source": [
    "precision, recall, thresholds = precision_recall_curve(target, y_scores)\n",
    "mammography_ocsvm_rbf_auc_precision_recall = metrics.auc(recall, precision)\n",
    "print(mammography_ocsvm_rbf_auc_precision_recall)"
   ]
  },
  {
   "cell_type": "markdown",
   "id": "74377696-aba0-4a6a-b9f5-620f26843c9d",
   "metadata": {
    "jp-MarkdownHeadingCollapsed": true,
    "tags": []
   },
   "source": [
    "## Shuttle"
   ]
  },
  {
   "cell_type": "markdown",
   "id": "2732ed25",
   "metadata": {},
   "source": [
    "**Dataset source**: http://odds.cs.stonybrook.edu/shuttle-dataset/ (data is transformed from .mat to .csv format)\n",
    "\n",
    "Shebuti Rayana (2016). ODDS Library [http://odds.cs.stonybrook.edu]. Stony Brook, NY: Stony Brook University, Department of Computer Science.\n",
    "\n",
    "**Additional sources:**\n",
    "\n",
    "Abe, Naoki, Bianca Zadrozny, and John Langford. “Outlier detection by active learning.” Proceedings of the 12th ACM SIGKDD international conference on Knowledge discovery and data mining. ACM, 2006.\n",
    "\n",
    "Liu, Fei Tony, Kai Ming Ting, and Zhi-Hua Zhou. “Isolation forest.” 2008 Eighth IEEE International Conference on Data Mining. IEEE, 2008.\n",
    "\n",
    "K. M. Ting, J. T. S. Chuan, and F. T. Liu. “Mass: A New Ranking Measure for Anomaly Detection.“, IEEE Transactions on Knowledge and Data Engineering, 2009.\n",
    "\n",
    "Kai Ming Ting, Guang-Tong Zhou, Fei Tony Liu & Tan Swee Chuan. (2010). Mass Estimation and Its Applications. Proceedings of The 16th ACM SIGKDD Conference on Knowledge Discovery and Data Mining 2010. pp. 989-998.\n",
    "\n",
    "Swee Chuan Tan, Kai Ming Ting & Fei Tony Liu. (2011). Fast Anomaly Detection for Streaming Data. Proceedings of the International Joint Conference on Artificial Intelligence 2011. pp.1151-1156."
   ]
  },
  {
   "cell_type": "code",
   "execution_count": 78,
   "id": "a424b386-3e5e-49d5-bf08-d4da0ac643d7",
   "metadata": {},
   "outputs": [],
   "source": [
    "data = pd.read_csv('./shuttle.csv', sep = ',')"
   ]
  },
  {
   "cell_type": "code",
   "execution_count": 79,
   "id": "b4ecddb9-b1c1-4601-a92b-8219448586d9",
   "metadata": {},
   "outputs": [
    {
     "data": {
      "text/html": [
       "<div>\n",
       "<style scoped>\n",
       "    .dataframe tbody tr th:only-of-type {\n",
       "        vertical-align: middle;\n",
       "    }\n",
       "\n",
       "    .dataframe tbody tr th {\n",
       "        vertical-align: top;\n",
       "    }\n",
       "\n",
       "    .dataframe thead th {\n",
       "        text-align: right;\n",
       "    }\n",
       "</style>\n",
       "<table border=\"1\" class=\"dataframe\">\n",
       "  <thead>\n",
       "    <tr style=\"text-align: right;\">\n",
       "      <th></th>\n",
       "      <th>Col1</th>\n",
       "      <th>Col2</th>\n",
       "      <th>Col3</th>\n",
       "      <th>Col4</th>\n",
       "      <th>Col5</th>\n",
       "      <th>Col6</th>\n",
       "      <th>Col7</th>\n",
       "      <th>Col8</th>\n",
       "      <th>Col9</th>\n",
       "      <th>y</th>\n",
       "    </tr>\n",
       "  </thead>\n",
       "  <tbody>\n",
       "    <tr>\n",
       "      <th>0</th>\n",
       "      <td>50</td>\n",
       "      <td>21</td>\n",
       "      <td>77</td>\n",
       "      <td>0</td>\n",
       "      <td>28</td>\n",
       "      <td>0</td>\n",
       "      <td>27</td>\n",
       "      <td>48</td>\n",
       "      <td>22</td>\n",
       "      <td>1</td>\n",
       "    </tr>\n",
       "    <tr>\n",
       "      <th>1</th>\n",
       "      <td>53</td>\n",
       "      <td>0</td>\n",
       "      <td>82</td>\n",
       "      <td>0</td>\n",
       "      <td>52</td>\n",
       "      <td>-5</td>\n",
       "      <td>29</td>\n",
       "      <td>30</td>\n",
       "      <td>2</td>\n",
       "      <td>0</td>\n",
       "    </tr>\n",
       "    <tr>\n",
       "      <th>2</th>\n",
       "      <td>37</td>\n",
       "      <td>0</td>\n",
       "      <td>76</td>\n",
       "      <td>0</td>\n",
       "      <td>28</td>\n",
       "      <td>18</td>\n",
       "      <td>40</td>\n",
       "      <td>48</td>\n",
       "      <td>8</td>\n",
       "      <td>0</td>\n",
       "    </tr>\n",
       "    <tr>\n",
       "      <th>3</th>\n",
       "      <td>37</td>\n",
       "      <td>0</td>\n",
       "      <td>79</td>\n",
       "      <td>0</td>\n",
       "      <td>34</td>\n",
       "      <td>-26</td>\n",
       "      <td>43</td>\n",
       "      <td>46</td>\n",
       "      <td>2</td>\n",
       "      <td>0</td>\n",
       "    </tr>\n",
       "    <tr>\n",
       "      <th>4</th>\n",
       "      <td>85</td>\n",
       "      <td>0</td>\n",
       "      <td>88</td>\n",
       "      <td>-4</td>\n",
       "      <td>6</td>\n",
       "      <td>1</td>\n",
       "      <td>3</td>\n",
       "      <td>83</td>\n",
       "      <td>80</td>\n",
       "      <td>1</td>\n",
       "    </tr>\n",
       "  </tbody>\n",
       "</table>\n",
       "</div>"
      ],
      "text/plain": [
       "   Col1  Col2  Col3  Col4  Col5  Col6  Col7  Col8  Col9  y\n",
       "0    50    21    77     0    28     0    27    48    22  1\n",
       "1    53     0    82     0    52    -5    29    30     2  0\n",
       "2    37     0    76     0    28    18    40    48     8  0\n",
       "3    37     0    79     0    34   -26    43    46     2  0\n",
       "4    85     0    88    -4     6     1     3    83    80  1"
      ]
     },
     "execution_count": 79,
     "metadata": {},
     "output_type": "execute_result"
    }
   ],
   "source": [
    "data.head()"
   ]
  },
  {
   "cell_type": "code",
   "execution_count": 80,
   "id": "94d4c917",
   "metadata": {},
   "outputs": [
    {
     "data": {
      "text/plain": [
       "(49097, 10)"
      ]
     },
     "execution_count": 80,
     "metadata": {},
     "output_type": "execute_result"
    }
   ],
   "source": [
    "data.shape"
   ]
  },
  {
   "cell_type": "code",
   "execution_count": 81,
   "id": "f09c4dcc-609d-4c38-b7ae-69187b451e02",
   "metadata": {},
   "outputs": [
    {
     "data": {
      "text/html": [
       "<div>\n",
       "<style scoped>\n",
       "    .dataframe tbody tr th:only-of-type {\n",
       "        vertical-align: middle;\n",
       "    }\n",
       "\n",
       "    .dataframe tbody tr th {\n",
       "        vertical-align: top;\n",
       "    }\n",
       "\n",
       "    .dataframe thead th {\n",
       "        text-align: right;\n",
       "    }\n",
       "</style>\n",
       "<table border=\"1\" class=\"dataframe\">\n",
       "  <thead>\n",
       "    <tr style=\"text-align: right;\">\n",
       "      <th></th>\n",
       "      <th>Col1</th>\n",
       "    </tr>\n",
       "    <tr>\n",
       "      <th>y</th>\n",
       "      <th></th>\n",
       "    </tr>\n",
       "  </thead>\n",
       "  <tbody>\n",
       "    <tr>\n",
       "      <th>0</th>\n",
       "      <td>45586</td>\n",
       "    </tr>\n",
       "    <tr>\n",
       "      <th>1</th>\n",
       "      <td>3511</td>\n",
       "    </tr>\n",
       "  </tbody>\n",
       "</table>\n",
       "</div>"
      ],
      "text/plain": [
       "    Col1\n",
       "y       \n",
       "0  45586\n",
       "1   3511"
      ]
     },
     "execution_count": 81,
     "metadata": {},
     "output_type": "execute_result"
    }
   ],
   "source": [
    "pd.pivot_table(data,\n",
    "             values = 'Col1',\n",
    "               index = 'y', \n",
    "              aggfunc = 'count')"
   ]
  },
  {
   "cell_type": "markdown",
   "id": "5b82a11c-8da2-4a8c-87db-78e6466b8ea9",
   "metadata": {
    "jp-MarkdownHeadingCollapsed": true,
    "tags": []
   },
   "source": [
    "### One-Class SVM rbf"
   ]
  },
  {
   "cell_type": "code",
   "execution_count": 82,
   "id": "b120f48a-85bd-47e6-9d89-02142879b103",
   "metadata": {},
   "outputs": [],
   "source": [
    "features = data.drop(columns = ['y'])\n",
    "target = data['y']"
   ]
  },
  {
   "cell_type": "code",
   "execution_count": 83,
   "id": "27c77fa7-97d3-4230-a8be-87c1fb89c017",
   "metadata": {},
   "outputs": [],
   "source": [
    "min_max_scaler = MinMaxScaler(feature_range=(0, 1))\n",
    "x_train_scaled = min_max_scaler.fit_transform(features.copy())"
   ]
  },
  {
   "cell_type": "code",
   "execution_count": 84,
   "id": "53b2858a-a5a0-4751-824c-5b4882970195",
   "metadata": {},
   "outputs": [
    {
     "name": "stdout",
     "output_type": "stream",
     "text": [
      "31.578125\n",
      "47.859375\n"
     ]
    }
   ],
   "source": [
    "start = time.process_time()\n",
    "\n",
    "model = OneClassSVM(gamma='scale', nu=0.1)\n",
    "model.fit(x_train_scaled)\n",
    "\n",
    "end = time.process_time()\n",
    "shuttle_rbf_oc_svm_train_time = end - start\n",
    "print(end - start)\n",
    "\n",
    "start = time.process_time()\n",
    "\n",
    "yhat = model.predict(x_train_scaled)\n",
    "y_scores = -model.decision_function(x_train_scaled)\n",
    "\n",
    "end = time.process_time()\n",
    "shuttle_rbf_oc_svm_test_time = end - start\n",
    "print(end - start)"
   ]
  },
  {
   "cell_type": "code",
   "execution_count": 85,
   "id": "94d4e9b3-e11b-4aea-85f5-4cbac34f7d49",
   "metadata": {},
   "outputs": [],
   "source": [
    "predictions = pd.DataFrame(yhat, columns = ['y_pred']).apply(def_outlier, axis = 1)"
   ]
  },
  {
   "cell_type": "code",
   "execution_count": 86,
   "id": "2e26740b-b27a-403e-9bd8-2a1940bbfb5a",
   "metadata": {},
   "outputs": [
    {
     "data": {
      "text/plain": [
       "array([[42981,  2605],\n",
       "       [ 1214,  2297]], dtype=int64)"
      ]
     },
     "execution_count": 86,
     "metadata": {},
     "output_type": "execute_result"
    }
   ],
   "source": [
    "confusion_matrix(target, predictions)"
   ]
  },
  {
   "cell_type": "code",
   "execution_count": 87,
   "id": "42a66e48",
   "metadata": {},
   "outputs": [
    {
     "data": {
      "text/plain": [
       "0.9434906043235352"
      ]
     },
     "execution_count": 87,
     "metadata": {},
     "output_type": "execute_result"
    }
   ],
   "source": [
    "fpr, tpr, _ = metrics.roc_curve(target, y_scores)\n",
    "shuttle_rbf_oc_svm_auc = metrics.auc(fpr, tpr)\n",
    "metrics.auc(fpr, tpr)"
   ]
  },
  {
   "cell_type": "code",
   "execution_count": 88,
   "id": "46a414f0-1056-4432-809e-efc9d312010e",
   "metadata": {},
   "outputs": [
    {
     "name": "stdout",
     "output_type": "stream",
     "text": [
      "              precision    recall  f1-score   support\n",
      "\n",
      "           0       0.97      0.94      0.96     45586\n",
      "           1       0.47      0.65      0.55      3511\n",
      "\n",
      "    accuracy                           0.92     49097\n",
      "   macro avg       0.72      0.80      0.75     49097\n",
      "weighted avg       0.94      0.92      0.93     49097\n",
      "\n"
     ]
    }
   ],
   "source": [
    "shuttle_rbf_oc_svm_report = classification_report(target, predictions, target_names = ['0','1'], output_dict = True)\n",
    "print(classification_report(target, predictions, target_names = ['0','1']))"
   ]
  },
  {
   "cell_type": "code",
   "execution_count": 89,
   "id": "d620d020",
   "metadata": {},
   "outputs": [
    {
     "name": "stdout",
     "output_type": "stream",
     "text": [
      "0.6885763617839639\n"
     ]
    }
   ],
   "source": [
    "precision, recall, thresholds = precision_recall_curve(target, y_scores)\n",
    "shuttle_ocsvm_rbf_auc_precision_recall = metrics.auc(recall, precision)\n",
    "print(shuttle_ocsvm_rbf_auc_precision_recall)"
   ]
  },
  {
   "cell_type": "markdown",
   "id": "fe5ee8ce-7b98-40ba-935f-2a1f91d141c3",
   "metadata": {
    "jp-MarkdownHeadingCollapsed": true,
    "tags": []
   },
   "source": [
    "## mnist"
   ]
  },
  {
   "cell_type": "markdown",
   "id": "4fc1b1e6",
   "metadata": {},
   "source": [
    "**Dataset source**: http://odds.cs.stonybrook.edu/mnist-dataset/ (data is transformed from .mat to .csv format)\n",
    "\n",
    "Shebuti Rayana (2016). ODDS Library [http://odds.cs.stonybrook.edu]. Stony Brook, NY: Stony Brook University, Department of Computer Science.\n",
    "\n",
    "**Additional sources:**\n",
    "\n",
    "Bandaragoda, Tharindu R., et al. “Efficient Anomaly Detection by Isolation Using Nearest Neighbour Ensemble.” 2014 IEEE International Conference on Data Mining Workshop. IEEE, 2014."
   ]
  },
  {
   "cell_type": "code",
   "execution_count": 90,
   "id": "a092626d-fd14-4efd-848b-04c865df948b",
   "metadata": {},
   "outputs": [],
   "source": [
    "data = pd.read_csv('./mnist.csv')"
   ]
  },
  {
   "cell_type": "code",
   "execution_count": 91,
   "id": "dce30806-daa4-4424-9d34-5590b12cc572",
   "metadata": {},
   "outputs": [],
   "source": [
    "data = data.drop(columns = ['Col1','Col4', 'Col7', 'Col22', 'Col27', 'Col29', 'Col38', 'Col41', 'Col51', 'Col53', 'Col54', 'Col61', 'Col62', 'Col71', 'Col73', 'Col79', 'Col87', 'Col88', 'Col89', 'Col90',\n",
    "'Col92', 'Col100'])"
   ]
  },
  {
   "cell_type": "code",
   "execution_count": 92,
   "id": "a977b2ca-e0c7-4440-8019-ecccfafd0794",
   "metadata": {},
   "outputs": [
    {
     "data": {
      "text/html": [
       "<div>\n",
       "<style scoped>\n",
       "    .dataframe tbody tr th:only-of-type {\n",
       "        vertical-align: middle;\n",
       "    }\n",
       "\n",
       "    .dataframe tbody tr th {\n",
       "        vertical-align: top;\n",
       "    }\n",
       "\n",
       "    .dataframe thead th {\n",
       "        text-align: right;\n",
       "    }\n",
       "</style>\n",
       "<table border=\"1\" class=\"dataframe\">\n",
       "  <thead>\n",
       "    <tr style=\"text-align: right;\">\n",
       "      <th></th>\n",
       "      <th>Col2</th>\n",
       "    </tr>\n",
       "    <tr>\n",
       "      <th>y</th>\n",
       "      <th></th>\n",
       "    </tr>\n",
       "  </thead>\n",
       "  <tbody>\n",
       "    <tr>\n",
       "      <th>0</th>\n",
       "      <td>6903</td>\n",
       "    </tr>\n",
       "    <tr>\n",
       "      <th>1</th>\n",
       "      <td>700</td>\n",
       "    </tr>\n",
       "  </tbody>\n",
       "</table>\n",
       "</div>"
      ],
      "text/plain": [
       "   Col2\n",
       "y      \n",
       "0  6903\n",
       "1   700"
      ]
     },
     "execution_count": 92,
     "metadata": {},
     "output_type": "execute_result"
    }
   ],
   "source": [
    "pd.pivot_table(data,\n",
    "             values = 'Col2',\n",
    "               index = 'y', \n",
    "              aggfunc = 'count')"
   ]
  },
  {
   "cell_type": "code",
   "execution_count": 93,
   "id": "67c2f6ad-e7a7-41df-81e1-5baf06f853d9",
   "metadata": {},
   "outputs": [
    {
     "data": {
      "text/plain": [
       "(7603, 79)"
      ]
     },
     "execution_count": 93,
     "metadata": {},
     "output_type": "execute_result"
    }
   ],
   "source": [
    "data.shape"
   ]
  },
  {
   "cell_type": "code",
   "execution_count": 94,
   "id": "d6dc2a2e-c4ab-404c-bf0b-d549f2b7c4ee",
   "metadata": {},
   "outputs": [
    {
     "data": {
      "text/html": [
       "<div>\n",
       "<style scoped>\n",
       "    .dataframe tbody tr th:only-of-type {\n",
       "        vertical-align: middle;\n",
       "    }\n",
       "\n",
       "    .dataframe tbody tr th {\n",
       "        vertical-align: top;\n",
       "    }\n",
       "\n",
       "    .dataframe thead th {\n",
       "        text-align: right;\n",
       "    }\n",
       "</style>\n",
       "<table border=\"1\" class=\"dataframe\">\n",
       "  <thead>\n",
       "    <tr style=\"text-align: right;\">\n",
       "      <th></th>\n",
       "      <th>Col2</th>\n",
       "      <th>Col3</th>\n",
       "      <th>Col5</th>\n",
       "      <th>Col6</th>\n",
       "      <th>Col8</th>\n",
       "      <th>Col9</th>\n",
       "      <th>Col10</th>\n",
       "      <th>Col11</th>\n",
       "      <th>Col12</th>\n",
       "      <th>Col13</th>\n",
       "      <th>...</th>\n",
       "      <th>Col86</th>\n",
       "      <th>Col91</th>\n",
       "      <th>Col93</th>\n",
       "      <th>Col94</th>\n",
       "      <th>Col95</th>\n",
       "      <th>Col96</th>\n",
       "      <th>Col97</th>\n",
       "      <th>Col98</th>\n",
       "      <th>Col99</th>\n",
       "      <th>y</th>\n",
       "    </tr>\n",
       "  </thead>\n",
       "  <tbody>\n",
       "    <tr>\n",
       "      <th>0</th>\n",
       "      <td>-73.804153</td>\n",
       "      <td>198.205963</td>\n",
       "      <td>-13.124617</td>\n",
       "      <td>-1.1501</td>\n",
       "      <td>-0.141633</td>\n",
       "      <td>179.249390</td>\n",
       "      <td>114.661163</td>\n",
       "      <td>-80.736702</td>\n",
       "      <td>130.659348</td>\n",
       "      <td>162.649841</td>\n",
       "      <td>...</td>\n",
       "      <td>-15.392716</td>\n",
       "      <td>188.055649</td>\n",
       "      <td>-4.469967</td>\n",
       "      <td>158.381409</td>\n",
       "      <td>-137.100632</td>\n",
       "      <td>27.131416</td>\n",
       "      <td>-2.274633</td>\n",
       "      <td>-0.00065</td>\n",
       "      <td>-12.351267</td>\n",
       "      <td>0</td>\n",
       "    </tr>\n",
       "    <tr>\n",
       "      <th>1</th>\n",
       "      <td>-73.804153</td>\n",
       "      <td>197.205963</td>\n",
       "      <td>-13.124617</td>\n",
       "      <td>-1.1501</td>\n",
       "      <td>-0.141633</td>\n",
       "      <td>179.249390</td>\n",
       "      <td>-44.338833</td>\n",
       "      <td>-80.736702</td>\n",
       "      <td>128.659348</td>\n",
       "      <td>190.649841</td>\n",
       "      <td>...</td>\n",
       "      <td>-15.392716</td>\n",
       "      <td>186.055649</td>\n",
       "      <td>-4.469967</td>\n",
       "      <td>123.381416</td>\n",
       "      <td>-137.100632</td>\n",
       "      <td>157.131409</td>\n",
       "      <td>-2.274633</td>\n",
       "      <td>-0.00065</td>\n",
       "      <td>-12.351267</td>\n",
       "      <td>0</td>\n",
       "    </tr>\n",
       "    <tr>\n",
       "      <th>2</th>\n",
       "      <td>-73.804153</td>\n",
       "      <td>-53.794033</td>\n",
       "      <td>-13.124617</td>\n",
       "      <td>-1.1501</td>\n",
       "      <td>-0.141633</td>\n",
       "      <td>-73.750618</td>\n",
       "      <td>-44.338833</td>\n",
       "      <td>170.263306</td>\n",
       "      <td>130.659348</td>\n",
       "      <td>46.649849</td>\n",
       "      <td>...</td>\n",
       "      <td>-15.392716</td>\n",
       "      <td>188.055649</td>\n",
       "      <td>-4.469967</td>\n",
       "      <td>157.381409</td>\n",
       "      <td>-137.100632</td>\n",
       "      <td>-93.868584</td>\n",
       "      <td>-2.274633</td>\n",
       "      <td>-0.00065</td>\n",
       "      <td>-12.351267</td>\n",
       "      <td>0</td>\n",
       "    </tr>\n",
       "    <tr>\n",
       "      <th>3</th>\n",
       "      <td>-73.804153</td>\n",
       "      <td>86.205963</td>\n",
       "      <td>-13.124617</td>\n",
       "      <td>-1.1501</td>\n",
       "      <td>-0.141633</td>\n",
       "      <td>76.249382</td>\n",
       "      <td>208.661163</td>\n",
       "      <td>107.263298</td>\n",
       "      <td>130.659348</td>\n",
       "      <td>190.649841</td>\n",
       "      <td>...</td>\n",
       "      <td>-15.392716</td>\n",
       "      <td>188.055649</td>\n",
       "      <td>-4.469967</td>\n",
       "      <td>157.381409</td>\n",
       "      <td>-137.100632</td>\n",
       "      <td>74.131416</td>\n",
       "      <td>-2.274633</td>\n",
       "      <td>-0.00065</td>\n",
       "      <td>-12.351267</td>\n",
       "      <td>0</td>\n",
       "    </tr>\n",
       "    <tr>\n",
       "      <th>4</th>\n",
       "      <td>-27.804153</td>\n",
       "      <td>199.205963</td>\n",
       "      <td>-13.124617</td>\n",
       "      <td>-1.1501</td>\n",
       "      <td>-0.141633</td>\n",
       "      <td>179.249390</td>\n",
       "      <td>-44.338833</td>\n",
       "      <td>-80.736702</td>\n",
       "      <td>130.659348</td>\n",
       "      <td>91.649849</td>\n",
       "      <td>...</td>\n",
       "      <td>-15.392716</td>\n",
       "      <td>188.055649</td>\n",
       "      <td>-4.469967</td>\n",
       "      <td>22.381416</td>\n",
       "      <td>-137.100632</td>\n",
       "      <td>159.131409</td>\n",
       "      <td>-2.274633</td>\n",
       "      <td>-0.00065</td>\n",
       "      <td>-12.351267</td>\n",
       "      <td>0</td>\n",
       "    </tr>\n",
       "  </tbody>\n",
       "</table>\n",
       "<p>5 rows × 79 columns</p>\n",
       "</div>"
      ],
      "text/plain": [
       "        Col2        Col3       Col5    Col6      Col8        Col9       Col10  \\\n",
       "0 -73.804153  198.205963 -13.124617 -1.1501 -0.141633  179.249390  114.661163   \n",
       "1 -73.804153  197.205963 -13.124617 -1.1501 -0.141633  179.249390  -44.338833   \n",
       "2 -73.804153  -53.794033 -13.124617 -1.1501 -0.141633  -73.750618  -44.338833   \n",
       "3 -73.804153   86.205963 -13.124617 -1.1501 -0.141633   76.249382  208.661163   \n",
       "4 -27.804153  199.205963 -13.124617 -1.1501 -0.141633  179.249390  -44.338833   \n",
       "\n",
       "        Col11       Col12       Col13  ...      Col86       Col91     Col93  \\\n",
       "0  -80.736702  130.659348  162.649841  ... -15.392716  188.055649 -4.469967   \n",
       "1  -80.736702  128.659348  190.649841  ... -15.392716  186.055649 -4.469967   \n",
       "2  170.263306  130.659348   46.649849  ... -15.392716  188.055649 -4.469967   \n",
       "3  107.263298  130.659348  190.649841  ... -15.392716  188.055649 -4.469967   \n",
       "4  -80.736702  130.659348   91.649849  ... -15.392716  188.055649 -4.469967   \n",
       "\n",
       "        Col94       Col95       Col96     Col97    Col98      Col99  y  \n",
       "0  158.381409 -137.100632   27.131416 -2.274633 -0.00065 -12.351267  0  \n",
       "1  123.381416 -137.100632  157.131409 -2.274633 -0.00065 -12.351267  0  \n",
       "2  157.381409 -137.100632  -93.868584 -2.274633 -0.00065 -12.351267  0  \n",
       "3  157.381409 -137.100632   74.131416 -2.274633 -0.00065 -12.351267  0  \n",
       "4   22.381416 -137.100632  159.131409 -2.274633 -0.00065 -12.351267  0  \n",
       "\n",
       "[5 rows x 79 columns]"
      ]
     },
     "execution_count": 94,
     "metadata": {},
     "output_type": "execute_result"
    }
   ],
   "source": [
    "data.head()"
   ]
  },
  {
   "cell_type": "markdown",
   "id": "fe5f7ecd-3872-42e4-af41-055a0f581928",
   "metadata": {
    "jp-MarkdownHeadingCollapsed": true,
    "tags": []
   },
   "source": [
    "### One-Class SVM rbf"
   ]
  },
  {
   "cell_type": "code",
   "execution_count": 95,
   "id": "91bb7d1c-d5c9-4017-807d-1064ae6ef470",
   "metadata": {},
   "outputs": [],
   "source": [
    "features = data.drop(columns = ['y'])\n",
    "target = data['y']"
   ]
  },
  {
   "cell_type": "code",
   "execution_count": 96,
   "id": "6f5d2a48-3e14-495a-8911-e2c985f1f29c",
   "metadata": {},
   "outputs": [],
   "source": [
    "min_max_scaler = MinMaxScaler(feature_range=(0, 1))\n",
    "x_train_scaled = min_max_scaler.fit_transform(features.copy())"
   ]
  },
  {
   "cell_type": "code",
   "execution_count": 97,
   "id": "619a9f15-c7b8-477a-9aa9-0eacd74784a4",
   "metadata": {},
   "outputs": [
    {
     "name": "stdout",
     "output_type": "stream",
     "text": [
      "0.671875\n",
      "1.5625\n"
     ]
    }
   ],
   "source": [
    "start = time.process_time()\n",
    "\n",
    "model = OneClassSVM(gamma='scale', nu=0.1)\n",
    "model.fit(x_train_scaled)\n",
    "\n",
    "end = time.process_time()\n",
    "mnist_rbf_oc_svm_train_time = end - start\n",
    "print(end - start)\n",
    "\n",
    "start = time.process_time()\n",
    "\n",
    "yhat = model.predict(x_train_scaled)\n",
    "y_scores = -model.decision_function(x_train_scaled)\n",
    "\n",
    "end = time.process_time()\n",
    "mnist_rbf_oc_svm_test_time = end - start\n",
    "print(end - start)"
   ]
  },
  {
   "cell_type": "code",
   "execution_count": 98,
   "id": "377ead83-1f7b-4fe3-8c5d-075653cc3ff5",
   "metadata": {},
   "outputs": [],
   "source": [
    "predictions = pd.DataFrame(yhat, columns = ['y_pred']).apply(def_outlier, axis = 1)"
   ]
  },
  {
   "cell_type": "code",
   "execution_count": 99,
   "id": "b942b706-b62e-4f4e-9b9d-edb8f0bf5447",
   "metadata": {},
   "outputs": [
    {
     "data": {
      "text/plain": [
       "array([[6368,  535],\n",
       "       [ 470,  230]], dtype=int64)"
      ]
     },
     "execution_count": 99,
     "metadata": {},
     "output_type": "execute_result"
    }
   ],
   "source": [
    "confusion_matrix(target, predictions)"
   ]
  },
  {
   "cell_type": "code",
   "execution_count": 100,
   "id": "fddaa027",
   "metadata": {},
   "outputs": [
    {
     "data": {
      "text/plain": [
       "0.7594308892613977"
      ]
     },
     "execution_count": 100,
     "metadata": {},
     "output_type": "execute_result"
    }
   ],
   "source": [
    "fpr, tpr, _ = metrics.roc_curve(target, y_scores)\n",
    "mnist_rbf_oc_svm_auc = metrics.auc(fpr, tpr)\n",
    "metrics.auc(fpr, tpr)"
   ]
  },
  {
   "cell_type": "code",
   "execution_count": 101,
   "id": "35287fc9-1129-42b3-b33c-162ed143b530",
   "metadata": {},
   "outputs": [
    {
     "name": "stdout",
     "output_type": "stream",
     "text": [
      "              precision    recall  f1-score   support\n",
      "\n",
      "           0       0.93      0.92      0.93      6903\n",
      "           1       0.30      0.33      0.31       700\n",
      "\n",
      "    accuracy                           0.87      7603\n",
      "   macro avg       0.62      0.63      0.62      7603\n",
      "weighted avg       0.87      0.87      0.87      7603\n",
      "\n"
     ]
    }
   ],
   "source": [
    "mnist_rbf_oc_svm_report = classification_report(target, predictions, target_names = ['0','1'], output_dict = True)\n",
    "print(classification_report(target, predictions, target_names = ['0','1']))"
   ]
  },
  {
   "cell_type": "code",
   "execution_count": 102,
   "id": "61d9de4e",
   "metadata": {},
   "outputs": [
    {
     "name": "stdout",
     "output_type": "stream",
     "text": [
      "0.2613066133738081\n"
     ]
    }
   ],
   "source": [
    "precision, recall, thresholds = precision_recall_curve(target, y_scores)\n",
    "mnist_ocsvm_rbf_auc_precision_recall = metrics.auc(recall, precision)\n",
    "print(mnist_ocsvm_rbf_auc_precision_recall)"
   ]
  },
  {
   "cell_type": "markdown",
   "id": "64ec8246-a429-4e4e-b3af-68198a4ed70f",
   "metadata": {
    "jp-MarkdownHeadingCollapsed": true,
    "tags": []
   },
   "source": [
    "## vowels"
   ]
  },
  {
   "cell_type": "markdown",
   "id": "b2275b45",
   "metadata": {},
   "source": [
    "**Dataset source**: http://odds.cs.stonybrook.edu/japanese-vowels-data/\n",
    "\n",
    "Shebuti Rayana (2016). ODDS Library [http://odds.cs.stonybrook.edu]. Stony Brook, NY: Stony Brook University, Department of Computer Science.\n",
    "\n",
    "**Additional sources:**\n",
    "\n",
    "C. C. Aggarwal and S. Sathe, “Theoretical foundations and algorithms for outlier ensembles.” ACM SIGKDD Explorations Newsletter, vol. 17, no. 1, pp. 24–47, 2015.\n",
    "\n",
    "Saket Sathe and Charu C. Aggarwal. LODES: Local Density meets Spectral Outlier Detection. SIAM Conference on Data Mining, 2016."
   ]
  },
  {
   "cell_type": "code",
   "execution_count": 103,
   "id": "bc358b13-ecf1-4e7b-9c7b-84c08eacc450",
   "metadata": {},
   "outputs": [],
   "source": [
    "data = pd.read_csv('./vowels.csv')"
   ]
  },
  {
   "cell_type": "code",
   "execution_count": 104,
   "id": "4c61a6b6-97f1-4bee-8df8-c505f0bfc266",
   "metadata": {},
   "outputs": [
    {
     "data": {
      "text/html": [
       "<div>\n",
       "<style scoped>\n",
       "    .dataframe tbody tr th:only-of-type {\n",
       "        vertical-align: middle;\n",
       "    }\n",
       "\n",
       "    .dataframe tbody tr th {\n",
       "        vertical-align: top;\n",
       "    }\n",
       "\n",
       "    .dataframe thead th {\n",
       "        text-align: right;\n",
       "    }\n",
       "</style>\n",
       "<table border=\"1\" class=\"dataframe\">\n",
       "  <thead>\n",
       "    <tr style=\"text-align: right;\">\n",
       "      <th></th>\n",
       "      <th>Col1</th>\n",
       "    </tr>\n",
       "    <tr>\n",
       "      <th>y</th>\n",
       "      <th></th>\n",
       "    </tr>\n",
       "  </thead>\n",
       "  <tbody>\n",
       "    <tr>\n",
       "      <th>0.0</th>\n",
       "      <td>1406</td>\n",
       "    </tr>\n",
       "    <tr>\n",
       "      <th>1.0</th>\n",
       "      <td>50</td>\n",
       "    </tr>\n",
       "  </tbody>\n",
       "</table>\n",
       "</div>"
      ],
      "text/plain": [
       "     Col1\n",
       "y        \n",
       "0.0  1406\n",
       "1.0    50"
      ]
     },
     "execution_count": 104,
     "metadata": {},
     "output_type": "execute_result"
    }
   ],
   "source": [
    "pd.pivot_table(data,\n",
    "             values = 'Col1',\n",
    "               index = 'y', \n",
    "              aggfunc = 'count')"
   ]
  },
  {
   "cell_type": "code",
   "execution_count": 105,
   "id": "26c84d3e-0b54-474e-a4c1-a297b66a81bb",
   "metadata": {},
   "outputs": [
    {
     "data": {
      "text/plain": [
       "(1456, 13)"
      ]
     },
     "execution_count": 105,
     "metadata": {},
     "output_type": "execute_result"
    }
   ],
   "source": [
    "data.shape"
   ]
  },
  {
   "cell_type": "code",
   "execution_count": 106,
   "id": "257280ea-de3b-4e4e-aad9-3565b8a2a7a3",
   "metadata": {},
   "outputs": [
    {
     "data": {
      "text/html": [
       "<div>\n",
       "<style scoped>\n",
       "    .dataframe tbody tr th:only-of-type {\n",
       "        vertical-align: middle;\n",
       "    }\n",
       "\n",
       "    .dataframe tbody tr th {\n",
       "        vertical-align: top;\n",
       "    }\n",
       "\n",
       "    .dataframe thead th {\n",
       "        text-align: right;\n",
       "    }\n",
       "</style>\n",
       "<table border=\"1\" class=\"dataframe\">\n",
       "  <thead>\n",
       "    <tr style=\"text-align: right;\">\n",
       "      <th></th>\n",
       "      <th>Col1</th>\n",
       "      <th>Col2</th>\n",
       "      <th>Col3</th>\n",
       "      <th>Col4</th>\n",
       "      <th>Col5</th>\n",
       "      <th>Col6</th>\n",
       "      <th>Col7</th>\n",
       "      <th>Col8</th>\n",
       "      <th>Col9</th>\n",
       "      <th>Col10</th>\n",
       "      <th>Col11</th>\n",
       "      <th>Col12</th>\n",
       "      <th>y</th>\n",
       "    </tr>\n",
       "  </thead>\n",
       "  <tbody>\n",
       "    <tr>\n",
       "      <th>0</th>\n",
       "      <td>0.580469</td>\n",
       "      <td>-0.902534</td>\n",
       "      <td>0.617899</td>\n",
       "      <td>-0.997942</td>\n",
       "      <td>-2.463799</td>\n",
       "      <td>-0.846455</td>\n",
       "      <td>2.349849</td>\n",
       "      <td>0.375400</td>\n",
       "      <td>-0.649334</td>\n",
       "      <td>1.604637</td>\n",
       "      <td>-0.623060</td>\n",
       "      <td>-0.383125</td>\n",
       "      <td>0.0</td>\n",
       "    </tr>\n",
       "    <tr>\n",
       "      <th>1</th>\n",
       "      <td>0.784375</td>\n",
       "      <td>-1.077366</td>\n",
       "      <td>0.615781</td>\n",
       "      <td>-0.921911</td>\n",
       "      <td>-2.388553</td>\n",
       "      <td>-0.638047</td>\n",
       "      <td>2.106684</td>\n",
       "      <td>0.361018</td>\n",
       "      <td>-0.714317</td>\n",
       "      <td>1.260236</td>\n",
       "      <td>-0.423339</td>\n",
       "      <td>-0.287791</td>\n",
       "      <td>0.0</td>\n",
       "    </tr>\n",
       "    <tr>\n",
       "      <th>2</th>\n",
       "      <td>0.791292</td>\n",
       "      <td>-1.086242</td>\n",
       "      <td>0.669773</td>\n",
       "      <td>-0.806112</td>\n",
       "      <td>-2.260781</td>\n",
       "      <td>-0.538491</td>\n",
       "      <td>2.053282</td>\n",
       "      <td>0.266492</td>\n",
       "      <td>-0.842815</td>\n",
       "      <td>1.081797</td>\n",
       "      <td>-0.267201</td>\n",
       "      <td>-0.172203</td>\n",
       "      <td>0.0</td>\n",
       "    </tr>\n",
       "    <tr>\n",
       "      <th>3</th>\n",
       "      <td>1.217306</td>\n",
       "      <td>-1.083425</td>\n",
       "      <td>0.855483</td>\n",
       "      <td>-0.724879</td>\n",
       "      <td>-2.155552</td>\n",
       "      <td>-0.101879</td>\n",
       "      <td>1.768597</td>\n",
       "      <td>0.303151</td>\n",
       "      <td>-1.044710</td>\n",
       "      <td>0.655290</td>\n",
       "      <td>0.214298</td>\n",
       "      <td>-0.341840</td>\n",
       "      <td>0.0</td>\n",
       "    </tr>\n",
       "    <tr>\n",
       "      <th>4</th>\n",
       "      <td>1.065352</td>\n",
       "      <td>-1.030178</td>\n",
       "      <td>0.773297</td>\n",
       "      <td>-0.452289</td>\n",
       "      <td>-1.955907</td>\n",
       "      <td>0.248205</td>\n",
       "      <td>1.530474</td>\n",
       "      <td>0.253740</td>\n",
       "      <td>-0.968961</td>\n",
       "      <td>-0.208287</td>\n",
       "      <td>0.331578</td>\n",
       "      <td>0.007288</td>\n",
       "      <td>0.0</td>\n",
       "    </tr>\n",
       "  </tbody>\n",
       "</table>\n",
       "</div>"
      ],
      "text/plain": [
       "       Col1      Col2      Col3      Col4      Col5      Col6      Col7  \\\n",
       "0  0.580469 -0.902534  0.617899 -0.997942 -2.463799 -0.846455  2.349849   \n",
       "1  0.784375 -1.077366  0.615781 -0.921911 -2.388553 -0.638047  2.106684   \n",
       "2  0.791292 -1.086242  0.669773 -0.806112 -2.260781 -0.538491  2.053282   \n",
       "3  1.217306 -1.083425  0.855483 -0.724879 -2.155552 -0.101879  1.768597   \n",
       "4  1.065352 -1.030178  0.773297 -0.452289 -1.955907  0.248205  1.530474   \n",
       "\n",
       "       Col8      Col9     Col10     Col11     Col12    y  \n",
       "0  0.375400 -0.649334  1.604637 -0.623060 -0.383125  0.0  \n",
       "1  0.361018 -0.714317  1.260236 -0.423339 -0.287791  0.0  \n",
       "2  0.266492 -0.842815  1.081797 -0.267201 -0.172203  0.0  \n",
       "3  0.303151 -1.044710  0.655290  0.214298 -0.341840  0.0  \n",
       "4  0.253740 -0.968961 -0.208287  0.331578  0.007288  0.0  "
      ]
     },
     "execution_count": 106,
     "metadata": {},
     "output_type": "execute_result"
    }
   ],
   "source": [
    "data.head()"
   ]
  },
  {
   "cell_type": "markdown",
   "id": "1ed3def5-66f7-43e7-bd8e-f4d17c467f59",
   "metadata": {
    "jp-MarkdownHeadingCollapsed": true,
    "tags": []
   },
   "source": [
    "### One-Class SVM rbf"
   ]
  },
  {
   "cell_type": "code",
   "execution_count": 107,
   "id": "20068a07-2b38-48d7-880b-c693c9eedcff",
   "metadata": {},
   "outputs": [],
   "source": [
    "features = data.drop(columns = ['y'])\n",
    "target = data['y']"
   ]
  },
  {
   "cell_type": "code",
   "execution_count": 108,
   "id": "73a280c8-09ef-4c43-9223-3a5ebb668211",
   "metadata": {},
   "outputs": [],
   "source": [
    "min_max_scaler = MinMaxScaler(feature_range=(0, 1))\n",
    "x_train_scaled = min_max_scaler.fit_transform(features.copy())"
   ]
  },
  {
   "cell_type": "code",
   "execution_count": 109,
   "id": "6559d1b0-db43-4935-9ab5-61ee37b8a10e",
   "metadata": {},
   "outputs": [
    {
     "name": "stdout",
     "output_type": "stream",
     "text": [
      "0.015625\n",
      "0.046875\n"
     ]
    }
   ],
   "source": [
    "start = time.process_time()\n",
    "\n",
    "model = OneClassSVM(gamma='scale', nu=0.1)\n",
    "model.fit(x_train_scaled)\n",
    "\n",
    "end = time.process_time()\n",
    "vowels_rbf_oc_svm_train_time = end - start\n",
    "print(end - start)\n",
    "\n",
    "start = time.process_time()\n",
    "\n",
    "yhat = model.predict(x_train_scaled)\n",
    "y_scores = -model.decision_function(x_train_scaled)\n",
    "\n",
    "end = time.process_time()\n",
    "vowels_rbf_oc_svm_test_time = end - start\n",
    "print(end - start)"
   ]
  },
  {
   "cell_type": "code",
   "execution_count": 110,
   "id": "5a8c9c4a-9aea-4108-b209-23e1eefff61c",
   "metadata": {},
   "outputs": [],
   "source": [
    "predictions = pd.DataFrame(yhat, columns = ['y_pred']).apply(def_outlier, axis = 1)"
   ]
  },
  {
   "cell_type": "code",
   "execution_count": 111,
   "id": "5083274a-b6f6-4830-829c-ea1c1a6884e6",
   "metadata": {},
   "outputs": [
    {
     "data": {
      "text/plain": [
       "array([[1278,  128],\n",
       "       [  34,   16]], dtype=int64)"
      ]
     },
     "execution_count": 111,
     "metadata": {},
     "output_type": "execute_result"
    }
   ],
   "source": [
    "confusion_matrix(target, predictions)"
   ]
  },
  {
   "cell_type": "code",
   "execution_count": 112,
   "id": "9b6fda6e",
   "metadata": {},
   "outputs": [
    {
     "data": {
      "text/plain": [
       "0.704651493598862"
      ]
     },
     "execution_count": 112,
     "metadata": {},
     "output_type": "execute_result"
    }
   ],
   "source": [
    "fpr, tpr, _ = metrics.roc_curve(target, y_scores)\n",
    "vowels_rbf_oc_svm_auc = metrics.auc(fpr, tpr)\n",
    "metrics.auc(fpr, tpr)"
   ]
  },
  {
   "cell_type": "code",
   "execution_count": 113,
   "id": "0e9181b4-a82c-4f96-aa5b-d96f5a902e3a",
   "metadata": {},
   "outputs": [
    {
     "name": "stdout",
     "output_type": "stream",
     "text": [
      "              precision    recall  f1-score   support\n",
      "\n",
      "           0       0.97      0.91      0.94      1406\n",
      "           1       0.11      0.32      0.16        50\n",
      "\n",
      "    accuracy                           0.89      1456\n",
      "   macro avg       0.54      0.61      0.55      1456\n",
      "weighted avg       0.94      0.89      0.91      1456\n",
      "\n"
     ]
    }
   ],
   "source": [
    "vowels_rbf_oc_svm_report = classification_report(target, predictions, target_names = ['0','1'], output_dict = True)\n",
    "print(classification_report(target, predictions, target_names = ['0','1']))"
   ]
  },
  {
   "cell_type": "code",
   "execution_count": 114,
   "id": "f5ec7e06",
   "metadata": {},
   "outputs": [
    {
     "name": "stdout",
     "output_type": "stream",
     "text": [
      "0.1643184998493822\n"
     ]
    }
   ],
   "source": [
    "precision, recall, thresholds = precision_recall_curve(target, y_scores)\n",
    "vowels_ocsvm_rbf_auc_precision_recall = metrics.auc(recall, precision)\n",
    "print(vowels_ocsvm_rbf_auc_precision_recall)"
   ]
  },
  {
   "cell_type": "markdown",
   "id": "6e819820-662f-4b7a-95d1-c6eeb0e62876",
   "metadata": {
    "jp-MarkdownHeadingCollapsed": true,
    "tags": []
   },
   "source": [
    "## Seismic"
   ]
  },
  {
   "cell_type": "markdown",
   "id": "12be90e5",
   "metadata": {},
   "source": [
    "**Dataset source**: http://odds.cs.stonybrook.edu/seismic-dataset/ (data is transformed from .arff to .csv format)\n",
    "\n",
    "Shebuti Rayana (2016). ODDS Library [http://odds.cs.stonybrook.edu]. Stony Brook, NY: Stony Brook University, Department of Computer Science.\n",
    "\n",
    "**Additional sources:**\n",
    "\n",
    "Saket Sathe and Charu C. Aggarwal. LODES: Local Density meets Spectral Outlier Detection. SIAM Conference on Data Mining, 2016."
   ]
  },
  {
   "cell_type": "code",
   "execution_count": 115,
   "id": "9f7497cf-f25d-4d39-b778-abd020ebfa04",
   "metadata": {},
   "outputs": [],
   "source": [
    "data = pd.read_csv('./seismic.csv', sep = ',')"
   ]
  },
  {
   "cell_type": "code",
   "execution_count": 116,
   "id": "98583ea0-afb4-40a3-8bc3-1b96002de33a",
   "metadata": {},
   "outputs": [],
   "source": [
    "data = data.drop(columns = ['nbumps6','nbumps7','nbumps89'])"
   ]
  },
  {
   "cell_type": "code",
   "execution_count": 117,
   "id": "d87f1bdc-6c57-4601-8eeb-1bbbfa24a572",
   "metadata": {},
   "outputs": [
    {
     "data": {
      "text/plain": [
       "(2584, 16)"
      ]
     },
     "execution_count": 117,
     "metadata": {},
     "output_type": "execute_result"
    }
   ],
   "source": [
    "data.shape"
   ]
  },
  {
   "cell_type": "code",
   "execution_count": 118,
   "id": "efce2262",
   "metadata": {},
   "outputs": [],
   "source": [
    "drop_enc = OneHotEncoder(drop='first').fit_transform(data[['seismic','seismoacoustic','shift','ghazard']])"
   ]
  },
  {
   "cell_type": "code",
   "execution_count": 119,
   "id": "67579a8b",
   "metadata": {},
   "outputs": [],
   "source": [
    "cat_var = pd.DataFrame(drop_enc.toarray())\n",
    "cat_var.columns = ['seismic: b', 'seismoacoustic: b','seismoacoustic: c','shift: W','ghazard: b','ghazard: c']"
   ]
  },
  {
   "cell_type": "code",
   "execution_count": 120,
   "id": "b0932a73-7c0f-4a32-9573-d38a7034034e",
   "metadata": {},
   "outputs": [],
   "source": [
    "data = pd.concat([data, cat_var], axis = 1)"
   ]
  },
  {
   "cell_type": "code",
   "execution_count": 121,
   "id": "5bd4e951-5330-4c88-902f-1a2d184efb08",
   "metadata": {},
   "outputs": [],
   "source": [
    "data = data.drop(columns = ['seismic','seismoacoustic','shift','ghazard'])"
   ]
  },
  {
   "cell_type": "code",
   "execution_count": 122,
   "id": "45ef5b65",
   "metadata": {},
   "outputs": [
    {
     "data": {
      "text/html": [
       "<div>\n",
       "<style scoped>\n",
       "    .dataframe tbody tr th:only-of-type {\n",
       "        vertical-align: middle;\n",
       "    }\n",
       "\n",
       "    .dataframe tbody tr th {\n",
       "        vertical-align: top;\n",
       "    }\n",
       "\n",
       "    .dataframe thead th {\n",
       "        text-align: right;\n",
       "    }\n",
       "</style>\n",
       "<table border=\"1\" class=\"dataframe\">\n",
       "  <thead>\n",
       "    <tr style=\"text-align: right;\">\n",
       "      <th></th>\n",
       "      <th>genergy</th>\n",
       "      <th>gpuls</th>\n",
       "      <th>gdenergy</th>\n",
       "      <th>gdpuls</th>\n",
       "      <th>nbumps</th>\n",
       "      <th>nbumps2</th>\n",
       "      <th>nbumps3</th>\n",
       "      <th>nbumps4</th>\n",
       "      <th>nbumps5</th>\n",
       "      <th>energy</th>\n",
       "      <th>maxenergy</th>\n",
       "      <th>class</th>\n",
       "      <th>seismic: b</th>\n",
       "      <th>seismoacoustic: b</th>\n",
       "      <th>seismoacoustic: c</th>\n",
       "      <th>shift: W</th>\n",
       "      <th>ghazard: b</th>\n",
       "      <th>ghazard: c</th>\n",
       "    </tr>\n",
       "  </thead>\n",
       "  <tbody>\n",
       "    <tr>\n",
       "      <th>0</th>\n",
       "      <td>15180</td>\n",
       "      <td>48</td>\n",
       "      <td>-72</td>\n",
       "      <td>-72</td>\n",
       "      <td>0</td>\n",
       "      <td>0</td>\n",
       "      <td>0</td>\n",
       "      <td>0</td>\n",
       "      <td>0</td>\n",
       "      <td>0</td>\n",
       "      <td>0</td>\n",
       "      <td>0</td>\n",
       "      <td>0.0</td>\n",
       "      <td>0.0</td>\n",
       "      <td>0.0</td>\n",
       "      <td>0.0</td>\n",
       "      <td>0.0</td>\n",
       "      <td>0.0</td>\n",
       "    </tr>\n",
       "    <tr>\n",
       "      <th>1</th>\n",
       "      <td>14720</td>\n",
       "      <td>33</td>\n",
       "      <td>-70</td>\n",
       "      <td>-79</td>\n",
       "      <td>1</td>\n",
       "      <td>0</td>\n",
       "      <td>1</td>\n",
       "      <td>0</td>\n",
       "      <td>0</td>\n",
       "      <td>2000</td>\n",
       "      <td>2000</td>\n",
       "      <td>0</td>\n",
       "      <td>0.0</td>\n",
       "      <td>0.0</td>\n",
       "      <td>0.0</td>\n",
       "      <td>0.0</td>\n",
       "      <td>0.0</td>\n",
       "      <td>0.0</td>\n",
       "    </tr>\n",
       "    <tr>\n",
       "      <th>2</th>\n",
       "      <td>8050</td>\n",
       "      <td>30</td>\n",
       "      <td>-81</td>\n",
       "      <td>-78</td>\n",
       "      <td>0</td>\n",
       "      <td>0</td>\n",
       "      <td>0</td>\n",
       "      <td>0</td>\n",
       "      <td>0</td>\n",
       "      <td>0</td>\n",
       "      <td>0</td>\n",
       "      <td>0</td>\n",
       "      <td>0.0</td>\n",
       "      <td>0.0</td>\n",
       "      <td>0.0</td>\n",
       "      <td>0.0</td>\n",
       "      <td>0.0</td>\n",
       "      <td>0.0</td>\n",
       "    </tr>\n",
       "    <tr>\n",
       "      <th>3</th>\n",
       "      <td>28820</td>\n",
       "      <td>171</td>\n",
       "      <td>-23</td>\n",
       "      <td>40</td>\n",
       "      <td>1</td>\n",
       "      <td>0</td>\n",
       "      <td>1</td>\n",
       "      <td>0</td>\n",
       "      <td>0</td>\n",
       "      <td>3000</td>\n",
       "      <td>3000</td>\n",
       "      <td>0</td>\n",
       "      <td>0.0</td>\n",
       "      <td>0.0</td>\n",
       "      <td>0.0</td>\n",
       "      <td>0.0</td>\n",
       "      <td>0.0</td>\n",
       "      <td>0.0</td>\n",
       "    </tr>\n",
       "    <tr>\n",
       "      <th>4</th>\n",
       "      <td>12640</td>\n",
       "      <td>57</td>\n",
       "      <td>-63</td>\n",
       "      <td>-52</td>\n",
       "      <td>0</td>\n",
       "      <td>0</td>\n",
       "      <td>0</td>\n",
       "      <td>0</td>\n",
       "      <td>0</td>\n",
       "      <td>0</td>\n",
       "      <td>0</td>\n",
       "      <td>0</td>\n",
       "      <td>0.0</td>\n",
       "      <td>0.0</td>\n",
       "      <td>0.0</td>\n",
       "      <td>0.0</td>\n",
       "      <td>0.0</td>\n",
       "      <td>0.0</td>\n",
       "    </tr>\n",
       "  </tbody>\n",
       "</table>\n",
       "</div>"
      ],
      "text/plain": [
       "   genergy  gpuls  gdenergy  gdpuls  nbumps  nbumps2  nbumps3  nbumps4  \\\n",
       "0    15180     48       -72     -72       0        0        0        0   \n",
       "1    14720     33       -70     -79       1        0        1        0   \n",
       "2     8050     30       -81     -78       0        0        0        0   \n",
       "3    28820    171       -23      40       1        0        1        0   \n",
       "4    12640     57       -63     -52       0        0        0        0   \n",
       "\n",
       "   nbumps5  energy  maxenergy  class  seismic: b  seismoacoustic: b  \\\n",
       "0        0       0          0      0         0.0                0.0   \n",
       "1        0    2000       2000      0         0.0                0.0   \n",
       "2        0       0          0      0         0.0                0.0   \n",
       "3        0    3000       3000      0         0.0                0.0   \n",
       "4        0       0          0      0         0.0                0.0   \n",
       "\n",
       "   seismoacoustic: c  shift: W  ghazard: b  ghazard: c  \n",
       "0                0.0       0.0         0.0         0.0  \n",
       "1                0.0       0.0         0.0         0.0  \n",
       "2                0.0       0.0         0.0         0.0  \n",
       "3                0.0       0.0         0.0         0.0  \n",
       "4                0.0       0.0         0.0         0.0  "
      ]
     },
     "execution_count": 122,
     "metadata": {},
     "output_type": "execute_result"
    }
   ],
   "source": [
    "data.head()"
   ]
  },
  {
   "cell_type": "code",
   "execution_count": 123,
   "id": "18e0f2ec-0b7d-438f-855a-1ce74d7db590",
   "metadata": {},
   "outputs": [
    {
     "data": {
      "text/html": [
       "<div>\n",
       "<style scoped>\n",
       "    .dataframe tbody tr th:only-of-type {\n",
       "        vertical-align: middle;\n",
       "    }\n",
       "\n",
       "    .dataframe tbody tr th {\n",
       "        vertical-align: top;\n",
       "    }\n",
       "\n",
       "    .dataframe thead th {\n",
       "        text-align: right;\n",
       "    }\n",
       "</style>\n",
       "<table border=\"1\" class=\"dataframe\">\n",
       "  <thead>\n",
       "    <tr style=\"text-align: right;\">\n",
       "      <th></th>\n",
       "      <th>genergy</th>\n",
       "    </tr>\n",
       "    <tr>\n",
       "      <th>class</th>\n",
       "      <th></th>\n",
       "    </tr>\n",
       "  </thead>\n",
       "  <tbody>\n",
       "    <tr>\n",
       "      <th>0</th>\n",
       "      <td>2414</td>\n",
       "    </tr>\n",
       "    <tr>\n",
       "      <th>1</th>\n",
       "      <td>170</td>\n",
       "    </tr>\n",
       "  </tbody>\n",
       "</table>\n",
       "</div>"
      ],
      "text/plain": [
       "       genergy\n",
       "class         \n",
       "0         2414\n",
       "1          170"
      ]
     },
     "execution_count": 123,
     "metadata": {},
     "output_type": "execute_result"
    }
   ],
   "source": [
    "pd.pivot_table(data,\n",
    "             values = 'genergy',\n",
    "               index = 'class', \n",
    "              aggfunc = 'count')"
   ]
  },
  {
   "cell_type": "markdown",
   "id": "701234cc-a33d-4bea-90ae-a26231ce1453",
   "metadata": {
    "jp-MarkdownHeadingCollapsed": true,
    "tags": []
   },
   "source": [
    "### One-Class SVM rbf"
   ]
  },
  {
   "cell_type": "code",
   "execution_count": 124,
   "id": "1bc35df4-b062-4031-8904-cbe9db42b6e1",
   "metadata": {},
   "outputs": [],
   "source": [
    "features = data.drop(columns = ['class'])\n",
    "target = data['class']"
   ]
  },
  {
   "cell_type": "code",
   "execution_count": 125,
   "id": "04d3b8fa-3120-43c1-a381-7847f5c71c78",
   "metadata": {},
   "outputs": [],
   "source": [
    "min_max_scaler = MinMaxScaler(feature_range=(0, 1))\n",
    "x_train_scaled = min_max_scaler.fit_transform(features.copy())"
   ]
  },
  {
   "cell_type": "code",
   "execution_count": 126,
   "id": "d28646ba-c1c5-4b0d-937f-621f5855327d",
   "metadata": {},
   "outputs": [
    {
     "name": "stdout",
     "output_type": "stream",
     "text": [
      "0.0625\n",
      "0.140625\n"
     ]
    }
   ],
   "source": [
    "start = time.process_time()\n",
    "\n",
    "model = OneClassSVM(gamma='scale', nu=0.1)\n",
    "model.fit(x_train_scaled)\n",
    "\n",
    "end = time.process_time()\n",
    "seismic_rbf_oc_svm_train_time = end - start\n",
    "print(end - start)\n",
    "\n",
    "start = time.process_time()\n",
    "\n",
    "yhat = model.predict(x_train_scaled)\n",
    "y_scores = -model.decision_function(x_train_scaled)\n",
    "\n",
    "end = time.process_time()\n",
    "seismic_rbf_oc_svm_test_time = end - start\n",
    "print(end - start)"
   ]
  },
  {
   "cell_type": "code",
   "execution_count": 127,
   "id": "0f00b5ed-fdac-4f2e-b20c-3883a8798dbd",
   "metadata": {},
   "outputs": [],
   "source": [
    "predictions = pd.DataFrame(yhat, columns = ['y_pred']).apply(def_outlier, axis = 1)"
   ]
  },
  {
   "cell_type": "code",
   "execution_count": 128,
   "id": "2cecf915",
   "metadata": {},
   "outputs": [
    {
     "data": {
      "text/plain": [
       "0.4039621813928554"
      ]
     },
     "execution_count": 128,
     "metadata": {},
     "output_type": "execute_result"
    }
   ],
   "source": [
    "fpr, tpr, _ = metrics.roc_curve(target, y_scores)\n",
    "seismic_rbf_oc_svm_auc = metrics.auc(fpr, tpr)\n",
    "metrics.auc(fpr, tpr)"
   ]
  },
  {
   "cell_type": "code",
   "execution_count": 129,
   "id": "daba3e18-6855-4183-8fdd-d6b0d5522f36",
   "metadata": {},
   "outputs": [
    {
     "name": "stdout",
     "output_type": "stream",
     "text": [
      "              precision    recall  f1-score   support\n",
      "\n",
      "           0       0.94      0.91      0.92      2414\n",
      "           1       0.12      0.19      0.15       170\n",
      "\n",
      "    accuracy                           0.86      2584\n",
      "   macro avg       0.53      0.55      0.54      2584\n",
      "weighted avg       0.89      0.86      0.87      2584\n",
      "\n"
     ]
    }
   ],
   "source": [
    "seismic_rbf_oc_svm_report = classification_report(target, predictions, target_names = ['0','1'], output_dict = True)\n",
    "print(classification_report(target, predictions, target_names = ['0','1']))"
   ]
  },
  {
   "cell_type": "code",
   "execution_count": 130,
   "id": "f2d872e4",
   "metadata": {},
   "outputs": [
    {
     "name": "stdout",
     "output_type": "stream",
     "text": [
      "0.06450195977831653\n"
     ]
    }
   ],
   "source": [
    "precision, recall, thresholds = precision_recall_curve(target, y_scores)\n",
    "seismic_ocsvm_rbf_auc_precision_recall = metrics.auc(recall, precision)\n",
    "print(seismic_ocsvm_rbf_auc_precision_recall)"
   ]
  },
  {
   "cell_type": "markdown",
   "id": "2405a678-b7d5-4ce9-b156-3dd2331e33b7",
   "metadata": {
    "jp-MarkdownHeadingCollapsed": true,
    "tags": []
   },
   "source": [
    "## Musk"
   ]
  },
  {
   "cell_type": "markdown",
   "id": "280fc6b3",
   "metadata": {},
   "source": [
    "**Dataset source**: http://odds.cs.stonybrook.edu/musk-dataset/ (data is transformed from .mat to .csv format)\n",
    "\n",
    "Shebuti Rayana (2016). ODDS Library [http://odds.cs.stonybrook.edu]. Stony Brook, NY: Stony Brook University, Department of Computer Science.\n",
    "\n",
    "**Additional sources:**\n",
    "\n",
    "C. C. Aggarwal and S. Sathe, “Theoretical foundations and algorithms for outlier ensembles.” ACM SIGKDD Explorations Newsletter, vol. 17, no. 1, pp. 24–47, 2015."
   ]
  },
  {
   "cell_type": "code",
   "execution_count": 131,
   "id": "73a9a78a-1612-4d11-8630-d3cc0cf39955",
   "metadata": {},
   "outputs": [],
   "source": [
    "data = pd.read_csv('./musk.csv', sep = ',')"
   ]
  },
  {
   "cell_type": "code",
   "execution_count": 132,
   "id": "58a9917b",
   "metadata": {},
   "outputs": [
    {
     "data": {
      "text/html": [
       "<div>\n",
       "<style scoped>\n",
       "    .dataframe tbody tr th:only-of-type {\n",
       "        vertical-align: middle;\n",
       "    }\n",
       "\n",
       "    .dataframe tbody tr th {\n",
       "        vertical-align: top;\n",
       "    }\n",
       "\n",
       "    .dataframe thead th {\n",
       "        text-align: right;\n",
       "    }\n",
       "</style>\n",
       "<table border=\"1\" class=\"dataframe\">\n",
       "  <thead>\n",
       "    <tr style=\"text-align: right;\">\n",
       "      <th></th>\n",
       "      <th>Col1</th>\n",
       "      <th>Col2</th>\n",
       "      <th>Col3</th>\n",
       "      <th>Col4</th>\n",
       "      <th>Col5</th>\n",
       "      <th>Col6</th>\n",
       "      <th>Col7</th>\n",
       "      <th>Col8</th>\n",
       "      <th>Col9</th>\n",
       "      <th>Col10</th>\n",
       "      <th>...</th>\n",
       "      <th>Col158</th>\n",
       "      <th>Col159</th>\n",
       "      <th>Col160</th>\n",
       "      <th>Col161</th>\n",
       "      <th>Col162</th>\n",
       "      <th>Col163</th>\n",
       "      <th>Col164</th>\n",
       "      <th>Col165</th>\n",
       "      <th>Col166</th>\n",
       "      <th>y</th>\n",
       "    </tr>\n",
       "  </thead>\n",
       "  <tbody>\n",
       "    <tr>\n",
       "      <th>0</th>\n",
       "      <td>46.0</td>\n",
       "      <td>-108.0</td>\n",
       "      <td>-60.0</td>\n",
       "      <td>-69.0</td>\n",
       "      <td>-117.0</td>\n",
       "      <td>49.0</td>\n",
       "      <td>38.0</td>\n",
       "      <td>-161.0</td>\n",
       "      <td>-8.0</td>\n",
       "      <td>5.0</td>\n",
       "      <td>...</td>\n",
       "      <td>-308.0</td>\n",
       "      <td>52.0</td>\n",
       "      <td>-7.0</td>\n",
       "      <td>39.0</td>\n",
       "      <td>126.0</td>\n",
       "      <td>156.0</td>\n",
       "      <td>-50.0</td>\n",
       "      <td>-112.0</td>\n",
       "      <td>96.0</td>\n",
       "      <td>1.0</td>\n",
       "    </tr>\n",
       "    <tr>\n",
       "      <th>1</th>\n",
       "      <td>41.0</td>\n",
       "      <td>-188.0</td>\n",
       "      <td>-145.0</td>\n",
       "      <td>22.0</td>\n",
       "      <td>-117.0</td>\n",
       "      <td>-6.0</td>\n",
       "      <td>57.0</td>\n",
       "      <td>-171.0</td>\n",
       "      <td>-39.0</td>\n",
       "      <td>-100.0</td>\n",
       "      <td>...</td>\n",
       "      <td>-59.0</td>\n",
       "      <td>-2.0</td>\n",
       "      <td>52.0</td>\n",
       "      <td>103.0</td>\n",
       "      <td>136.0</td>\n",
       "      <td>169.0</td>\n",
       "      <td>-61.0</td>\n",
       "      <td>-136.0</td>\n",
       "      <td>79.0</td>\n",
       "      <td>1.0</td>\n",
       "    </tr>\n",
       "    <tr>\n",
       "      <th>2</th>\n",
       "      <td>46.0</td>\n",
       "      <td>-194.0</td>\n",
       "      <td>-145.0</td>\n",
       "      <td>28.0</td>\n",
       "      <td>-117.0</td>\n",
       "      <td>73.0</td>\n",
       "      <td>57.0</td>\n",
       "      <td>-168.0</td>\n",
       "      <td>-39.0</td>\n",
       "      <td>-22.0</td>\n",
       "      <td>...</td>\n",
       "      <td>-134.0</td>\n",
       "      <td>-154.0</td>\n",
       "      <td>57.0</td>\n",
       "      <td>143.0</td>\n",
       "      <td>142.0</td>\n",
       "      <td>165.0</td>\n",
       "      <td>-67.0</td>\n",
       "      <td>-145.0</td>\n",
       "      <td>39.0</td>\n",
       "      <td>1.0</td>\n",
       "    </tr>\n",
       "    <tr>\n",
       "      <th>3</th>\n",
       "      <td>41.0</td>\n",
       "      <td>-188.0</td>\n",
       "      <td>-145.0</td>\n",
       "      <td>22.0</td>\n",
       "      <td>-117.0</td>\n",
       "      <td>-7.0</td>\n",
       "      <td>57.0</td>\n",
       "      <td>-170.0</td>\n",
       "      <td>-39.0</td>\n",
       "      <td>-99.0</td>\n",
       "      <td>...</td>\n",
       "      <td>-60.0</td>\n",
       "      <td>-4.0</td>\n",
       "      <td>52.0</td>\n",
       "      <td>104.0</td>\n",
       "      <td>136.0</td>\n",
       "      <td>168.0</td>\n",
       "      <td>-60.0</td>\n",
       "      <td>-135.0</td>\n",
       "      <td>80.0</td>\n",
       "      <td>1.0</td>\n",
       "    </tr>\n",
       "    <tr>\n",
       "      <th>4</th>\n",
       "      <td>41.0</td>\n",
       "      <td>-188.0</td>\n",
       "      <td>-145.0</td>\n",
       "      <td>22.0</td>\n",
       "      <td>-117.0</td>\n",
       "      <td>-7.0</td>\n",
       "      <td>57.0</td>\n",
       "      <td>-170.0</td>\n",
       "      <td>-39.0</td>\n",
       "      <td>-99.0</td>\n",
       "      <td>...</td>\n",
       "      <td>-60.0</td>\n",
       "      <td>-4.0</td>\n",
       "      <td>52.0</td>\n",
       "      <td>104.0</td>\n",
       "      <td>137.0</td>\n",
       "      <td>168.0</td>\n",
       "      <td>-60.0</td>\n",
       "      <td>-135.0</td>\n",
       "      <td>80.0</td>\n",
       "      <td>1.0</td>\n",
       "    </tr>\n",
       "  </tbody>\n",
       "</table>\n",
       "<p>5 rows × 167 columns</p>\n",
       "</div>"
      ],
      "text/plain": [
       "   Col1   Col2   Col3  Col4   Col5  Col6  Col7   Col8  Col9  Col10  ...  \\\n",
       "0  46.0 -108.0  -60.0 -69.0 -117.0  49.0  38.0 -161.0  -8.0    5.0  ...   \n",
       "1  41.0 -188.0 -145.0  22.0 -117.0  -6.0  57.0 -171.0 -39.0 -100.0  ...   \n",
       "2  46.0 -194.0 -145.0  28.0 -117.0  73.0  57.0 -168.0 -39.0  -22.0  ...   \n",
       "3  41.0 -188.0 -145.0  22.0 -117.0  -7.0  57.0 -170.0 -39.0  -99.0  ...   \n",
       "4  41.0 -188.0 -145.0  22.0 -117.0  -7.0  57.0 -170.0 -39.0  -99.0  ...   \n",
       "\n",
       "   Col158  Col159  Col160  Col161  Col162  Col163  Col164  Col165  Col166    y  \n",
       "0  -308.0    52.0    -7.0    39.0   126.0   156.0   -50.0  -112.0    96.0  1.0  \n",
       "1   -59.0    -2.0    52.0   103.0   136.0   169.0   -61.0  -136.0    79.0  1.0  \n",
       "2  -134.0  -154.0    57.0   143.0   142.0   165.0   -67.0  -145.0    39.0  1.0  \n",
       "3   -60.0    -4.0    52.0   104.0   136.0   168.0   -60.0  -135.0    80.0  1.0  \n",
       "4   -60.0    -4.0    52.0   104.0   137.0   168.0   -60.0  -135.0    80.0  1.0  \n",
       "\n",
       "[5 rows x 167 columns]"
      ]
     },
     "execution_count": 132,
     "metadata": {},
     "output_type": "execute_result"
    }
   ],
   "source": [
    "data.head()"
   ]
  },
  {
   "cell_type": "code",
   "execution_count": 133,
   "id": "4d289c50-09ef-40a0-acd9-5103eaf401c1",
   "metadata": {},
   "outputs": [],
   "source": [
    "data['y'] = data['y'].astype(int)"
   ]
  },
  {
   "cell_type": "code",
   "execution_count": 134,
   "id": "87ef58f9-6a93-4346-8a63-4aeabf235578",
   "metadata": {},
   "outputs": [
    {
     "data": {
      "text/plain": [
       "(3062, 167)"
      ]
     },
     "execution_count": 134,
     "metadata": {},
     "output_type": "execute_result"
    }
   ],
   "source": [
    "data.shape"
   ]
  },
  {
   "cell_type": "code",
   "execution_count": 135,
   "id": "53716d75-2f1b-47c6-9f8a-6f79c81467bb",
   "metadata": {},
   "outputs": [
    {
     "data": {
      "text/html": [
       "<div>\n",
       "<style scoped>\n",
       "    .dataframe tbody tr th:only-of-type {\n",
       "        vertical-align: middle;\n",
       "    }\n",
       "\n",
       "    .dataframe tbody tr th {\n",
       "        vertical-align: top;\n",
       "    }\n",
       "\n",
       "    .dataframe thead th {\n",
       "        text-align: right;\n",
       "    }\n",
       "</style>\n",
       "<table border=\"1\" class=\"dataframe\">\n",
       "  <thead>\n",
       "    <tr style=\"text-align: right;\">\n",
       "      <th></th>\n",
       "      <th>Col1</th>\n",
       "    </tr>\n",
       "    <tr>\n",
       "      <th>y</th>\n",
       "      <th></th>\n",
       "    </tr>\n",
       "  </thead>\n",
       "  <tbody>\n",
       "    <tr>\n",
       "      <th>0</th>\n",
       "      <td>2965</td>\n",
       "    </tr>\n",
       "    <tr>\n",
       "      <th>1</th>\n",
       "      <td>97</td>\n",
       "    </tr>\n",
       "  </tbody>\n",
       "</table>\n",
       "</div>"
      ],
      "text/plain": [
       "   Col1\n",
       "y      \n",
       "0  2965\n",
       "1    97"
      ]
     },
     "execution_count": 135,
     "metadata": {},
     "output_type": "execute_result"
    }
   ],
   "source": [
    "pd.pivot_table(data,\n",
    "             values = 'Col1',\n",
    "               index = 'y', \n",
    "              aggfunc = 'count')"
   ]
  },
  {
   "cell_type": "markdown",
   "id": "2dc255c4-dc0d-4f1b-a777-0aeb0a6a557e",
   "metadata": {
    "jp-MarkdownHeadingCollapsed": true,
    "tags": []
   },
   "source": [
    "### One-Class SVM rbf"
   ]
  },
  {
   "cell_type": "code",
   "execution_count": 136,
   "id": "34fced93-0cc0-4756-96aa-f2f9f12820e4",
   "metadata": {},
   "outputs": [],
   "source": [
    "features = data.drop(columns = ['y'])\n",
    "target = data['y']"
   ]
  },
  {
   "cell_type": "code",
   "execution_count": 137,
   "id": "efc79c93-a592-4ee9-867a-b1f2db70bdec",
   "metadata": {},
   "outputs": [],
   "source": [
    "min_max_scaler = MinMaxScaler(feature_range=(0, 1))\n",
    "x_train_scaled = min_max_scaler.fit_transform(features.copy())"
   ]
  },
  {
   "cell_type": "code",
   "execution_count": 138,
   "id": "02ae3ff9-dced-4c55-a615-73cc916f1be2",
   "metadata": {},
   "outputs": [
    {
     "name": "stdout",
     "output_type": "stream",
     "text": [
      "0.140625\n",
      "0.375\n"
     ]
    }
   ],
   "source": [
    "start = time.process_time()\n",
    "\n",
    "model = OneClassSVM(gamma='scale', nu=0.1)\n",
    "model.fit(x_train_scaled)\n",
    "\n",
    "end = time.process_time()\n",
    "musk_rbf_oc_svm_train_time = end - start\n",
    "print(end - start)\n",
    "\n",
    "start = time.process_time()\n",
    "\n",
    "yhat = model.predict(x_train_scaled)\n",
    "y_scores = -model.decision_function(x_train_scaled)\n",
    "\n",
    "end = time.process_time()\n",
    "musk_rbf_oc_svm_test_time = end - start\n",
    "print(end - start)"
   ]
  },
  {
   "cell_type": "code",
   "execution_count": 139,
   "id": "981f5aa0-c56e-43f2-97bc-832d7810cd84",
   "metadata": {},
   "outputs": [],
   "source": [
    "predictions = pd.DataFrame(yhat, columns = ['y_pred']).apply(def_outlier, axis = 1)"
   ]
  },
  {
   "cell_type": "code",
   "execution_count": 140,
   "id": "a26d0f7b-0e6f-4d3f-9ce6-27349b833271",
   "metadata": {},
   "outputs": [
    {
     "data": {
      "text/plain": [
       "0.8548599641869925"
      ]
     },
     "execution_count": 140,
     "metadata": {},
     "output_type": "execute_result"
    }
   ],
   "source": [
    "fpr, tpr, _ = metrics.roc_curve(target, y_scores)\n",
    "musk_rbf_oc_svm_auc = metrics.auc(fpr, tpr)\n",
    "metrics.auc(fpr, tpr)"
   ]
  },
  {
   "cell_type": "code",
   "execution_count": 141,
   "id": "a4f408eb-3cf8-4245-acc2-dd532d33f0f1",
   "metadata": {},
   "outputs": [
    {
     "name": "stdout",
     "output_type": "stream",
     "text": [
      "              precision    recall  f1-score   support\n",
      "\n",
      "           0       0.98      0.91      0.95      2965\n",
      "           1       0.18      0.57      0.27        97\n",
      "\n",
      "    accuracy                           0.90      3062\n",
      "   macro avg       0.58      0.74      0.61      3062\n",
      "weighted avg       0.96      0.90      0.93      3062\n",
      "\n"
     ]
    }
   ],
   "source": [
    "musk_rbf_oc_svm_report = classification_report(target, predictions, target_names = ['0','1'], output_dict = True)\n",
    "print(classification_report(target, predictions, target_names = ['0','1']))"
   ]
  },
  {
   "cell_type": "code",
   "execution_count": 142,
   "id": "9bcdad5f",
   "metadata": {},
   "outputs": [
    {
     "name": "stdout",
     "output_type": "stream",
     "text": [
      "0.42561233559646655\n"
     ]
    }
   ],
   "source": [
    "precision, recall, thresholds = precision_recall_curve(target, y_scores)\n",
    "musk_ocsvm_rbf_auc_precision_recall = metrics.auc(recall, precision)\n",
    "print(musk_ocsvm_rbf_auc_precision_recall)"
   ]
  },
  {
   "cell_type": "markdown",
   "id": "c2dced57-748e-4374-b5f8-85488e5baf9d",
   "metadata": {
    "jp-MarkdownHeadingCollapsed": true,
    "tags": []
   },
   "source": [
    "## bank"
   ]
  },
  {
   "cell_type": "markdown",
   "id": "205ad58e",
   "metadata": {},
   "source": [
    "**Dataset source**: https://github.com/GuansongPang/ADRepository-Anomaly-detection-datasets/tree/main/categorical%20data\n",
    "\n",
    "Pang, G., Shen, C., Cao, L., & Hengel, A. V. D. (2021). Deep learning for anomaly detection: A review. ACM Computing Surveys (CSUR), 54(2), 1-38."
   ]
  },
  {
   "cell_type": "code",
   "execution_count": 143,
   "id": "45331943-15fa-4768-a7b0-de9de07366ca",
   "metadata": {},
   "outputs": [],
   "source": [
    "data = pd.read_csv('./bank.csv')"
   ]
  },
  {
   "cell_type": "code",
   "execution_count": 144,
   "id": "3d466cef-6b84-4710-bf4b-4f83fcfa54d7",
   "metadata": {
    "tags": []
   },
   "outputs": [
    {
     "data": {
      "text/html": [
       "<div>\n",
       "<style scoped>\n",
       "    .dataframe tbody tr th:only-of-type {\n",
       "        vertical-align: middle;\n",
       "    }\n",
       "\n",
       "    .dataframe tbody tr th {\n",
       "        vertical-align: top;\n",
       "    }\n",
       "\n",
       "    .dataframe thead th {\n",
       "        text-align: right;\n",
       "    }\n",
       "</style>\n",
       "<table border=\"1\" class=\"dataframe\">\n",
       "  <thead>\n",
       "    <tr style=\"text-align: right;\">\n",
       "      <th></th>\n",
       "      <th>age</th>\n",
       "      <th>job=housemaid</th>\n",
       "      <th>job=services</th>\n",
       "      <th>job=admin.</th>\n",
       "      <th>job=blue-collar</th>\n",
       "      <th>job=technician</th>\n",
       "      <th>job=retired</th>\n",
       "      <th>job=management</th>\n",
       "      <th>job=unemployed</th>\n",
       "      <th>job=self-employed</th>\n",
       "      <th>...</th>\n",
       "      <th>previous</th>\n",
       "      <th>poutcome=nonexistent</th>\n",
       "      <th>poutcome=failure</th>\n",
       "      <th>poutcome=success</th>\n",
       "      <th>emp.var.rate</th>\n",
       "      <th>cons.price.idx</th>\n",
       "      <th>cons.conf.idx</th>\n",
       "      <th>euribor3m</th>\n",
       "      <th>nr.employed</th>\n",
       "      <th>class</th>\n",
       "    </tr>\n",
       "  </thead>\n",
       "  <tbody>\n",
       "    <tr>\n",
       "      <th>0</th>\n",
       "      <td>0.209877</td>\n",
       "      <td>0</td>\n",
       "      <td>0</td>\n",
       "      <td>0</td>\n",
       "      <td>0</td>\n",
       "      <td>0</td>\n",
       "      <td>0</td>\n",
       "      <td>0</td>\n",
       "      <td>0</td>\n",
       "      <td>0</td>\n",
       "      <td>...</td>\n",
       "      <td>0.000000</td>\n",
       "      <td>1</td>\n",
       "      <td>0</td>\n",
       "      <td>0</td>\n",
       "      <td>1.000000</td>\n",
       "      <td>0.882307</td>\n",
       "      <td>0.376569</td>\n",
       "      <td>0.980730</td>\n",
       "      <td>1.000000</td>\n",
       "      <td>0</td>\n",
       "    </tr>\n",
       "    <tr>\n",
       "      <th>1</th>\n",
       "      <td>0.296296</td>\n",
       "      <td>0</td>\n",
       "      <td>0</td>\n",
       "      <td>1</td>\n",
       "      <td>0</td>\n",
       "      <td>0</td>\n",
       "      <td>0</td>\n",
       "      <td>0</td>\n",
       "      <td>0</td>\n",
       "      <td>0</td>\n",
       "      <td>...</td>\n",
       "      <td>0.000000</td>\n",
       "      <td>1</td>\n",
       "      <td>0</td>\n",
       "      <td>0</td>\n",
       "      <td>1.000000</td>\n",
       "      <td>0.484412</td>\n",
       "      <td>0.615063</td>\n",
       "      <td>0.981183</td>\n",
       "      <td>1.000000</td>\n",
       "      <td>0</td>\n",
       "    </tr>\n",
       "    <tr>\n",
       "      <th>2</th>\n",
       "      <td>0.246914</td>\n",
       "      <td>1</td>\n",
       "      <td>0</td>\n",
       "      <td>0</td>\n",
       "      <td>0</td>\n",
       "      <td>0</td>\n",
       "      <td>0</td>\n",
       "      <td>0</td>\n",
       "      <td>0</td>\n",
       "      <td>0</td>\n",
       "      <td>...</td>\n",
       "      <td>0.000000</td>\n",
       "      <td>1</td>\n",
       "      <td>0</td>\n",
       "      <td>0</td>\n",
       "      <td>0.937500</td>\n",
       "      <td>0.698753</td>\n",
       "      <td>0.602510</td>\n",
       "      <td>0.957379</td>\n",
       "      <td>0.859735</td>\n",
       "      <td>0</td>\n",
       "    </tr>\n",
       "    <tr>\n",
       "      <th>3</th>\n",
       "      <td>0.160494</td>\n",
       "      <td>0</td>\n",
       "      <td>1</td>\n",
       "      <td>0</td>\n",
       "      <td>0</td>\n",
       "      <td>0</td>\n",
       "      <td>0</td>\n",
       "      <td>0</td>\n",
       "      <td>0</td>\n",
       "      <td>0</td>\n",
       "      <td>...</td>\n",
       "      <td>0.142857</td>\n",
       "      <td>0</td>\n",
       "      <td>1</td>\n",
       "      <td>0</td>\n",
       "      <td>0.333333</td>\n",
       "      <td>0.269680</td>\n",
       "      <td>0.192469</td>\n",
       "      <td>0.150759</td>\n",
       "      <td>0.512287</td>\n",
       "      <td>0</td>\n",
       "    </tr>\n",
       "    <tr>\n",
       "      <th>4</th>\n",
       "      <td>0.530864</td>\n",
       "      <td>0</td>\n",
       "      <td>0</td>\n",
       "      <td>0</td>\n",
       "      <td>1</td>\n",
       "      <td>0</td>\n",
       "      <td>0</td>\n",
       "      <td>0</td>\n",
       "      <td>0</td>\n",
       "      <td>0</td>\n",
       "      <td>...</td>\n",
       "      <td>0.000000</td>\n",
       "      <td>1</td>\n",
       "      <td>0</td>\n",
       "      <td>0</td>\n",
       "      <td>0.333333</td>\n",
       "      <td>0.340608</td>\n",
       "      <td>0.154812</td>\n",
       "      <td>0.174790</td>\n",
       "      <td>0.512287</td>\n",
       "      <td>1</td>\n",
       "    </tr>\n",
       "  </tbody>\n",
       "</table>\n",
       "<p>5 rows × 63 columns</p>\n",
       "</div>"
      ],
      "text/plain": [
       "        age  job=housemaid  job=services  job=admin.  job=blue-collar  \\\n",
       "0  0.209877              0             0           0                0   \n",
       "1  0.296296              0             0           1                0   \n",
       "2  0.246914              1             0           0                0   \n",
       "3  0.160494              0             1           0                0   \n",
       "4  0.530864              0             0           0                1   \n",
       "\n",
       "   job=technician  job=retired  job=management  job=unemployed  \\\n",
       "0               0            0               0               0   \n",
       "1               0            0               0               0   \n",
       "2               0            0               0               0   \n",
       "3               0            0               0               0   \n",
       "4               0            0               0               0   \n",
       "\n",
       "   job=self-employed  ...  previous  poutcome=nonexistent  poutcome=failure  \\\n",
       "0                  0  ...  0.000000                     1                 0   \n",
       "1                  0  ...  0.000000                     1                 0   \n",
       "2                  0  ...  0.000000                     1                 0   \n",
       "3                  0  ...  0.142857                     0                 1   \n",
       "4                  0  ...  0.000000                     1                 0   \n",
       "\n",
       "   poutcome=success  emp.var.rate  cons.price.idx  cons.conf.idx  euribor3m  \\\n",
       "0                 0      1.000000        0.882307       0.376569   0.980730   \n",
       "1                 0      1.000000        0.484412       0.615063   0.981183   \n",
       "2                 0      0.937500        0.698753       0.602510   0.957379   \n",
       "3                 0      0.333333        0.269680       0.192469   0.150759   \n",
       "4                 0      0.333333        0.340608       0.154812   0.174790   \n",
       "\n",
       "   nr.employed  class  \n",
       "0     1.000000      0  \n",
       "1     1.000000      0  \n",
       "2     0.859735      0  \n",
       "3     0.512287      0  \n",
       "4     0.512287      1  \n",
       "\n",
       "[5 rows x 63 columns]"
      ]
     },
     "execution_count": 144,
     "metadata": {},
     "output_type": "execute_result"
    }
   ],
   "source": [
    "data.head()"
   ]
  },
  {
   "cell_type": "code",
   "execution_count": 145,
   "id": "199d3f42-c83b-405f-ad36-39998fd67eef",
   "metadata": {},
   "outputs": [
    {
     "data": {
      "text/html": [
       "<div>\n",
       "<style scoped>\n",
       "    .dataframe tbody tr th:only-of-type {\n",
       "        vertical-align: middle;\n",
       "    }\n",
       "\n",
       "    .dataframe tbody tr th {\n",
       "        vertical-align: top;\n",
       "    }\n",
       "\n",
       "    .dataframe thead th {\n",
       "        text-align: right;\n",
       "    }\n",
       "</style>\n",
       "<table border=\"1\" class=\"dataframe\">\n",
       "  <thead>\n",
       "    <tr style=\"text-align: right;\">\n",
       "      <th></th>\n",
       "      <th>age</th>\n",
       "    </tr>\n",
       "    <tr>\n",
       "      <th>class</th>\n",
       "      <th></th>\n",
       "    </tr>\n",
       "  </thead>\n",
       "  <tbody>\n",
       "    <tr>\n",
       "      <th>0</th>\n",
       "      <td>36548</td>\n",
       "    </tr>\n",
       "    <tr>\n",
       "      <th>1</th>\n",
       "      <td>4640</td>\n",
       "    </tr>\n",
       "  </tbody>\n",
       "</table>\n",
       "</div>"
      ],
      "text/plain": [
       "         age\n",
       "class       \n",
       "0      36548\n",
       "1       4640"
      ]
     },
     "execution_count": 145,
     "metadata": {},
     "output_type": "execute_result"
    }
   ],
   "source": [
    "pd.pivot_table(data,\n",
    "             values = 'age',\n",
    "               index = 'class', \n",
    "              aggfunc = 'count')"
   ]
  },
  {
   "cell_type": "markdown",
   "id": "0ba48594-1320-4c0c-91d4-782e36150f87",
   "metadata": {
    "jp-MarkdownHeadingCollapsed": true,
    "tags": []
   },
   "source": [
    "### One-Class SVM rbf"
   ]
  },
  {
   "cell_type": "code",
   "execution_count": 146,
   "id": "48316ad1-703d-4d2b-bc3b-d2f009dd4520",
   "metadata": {},
   "outputs": [],
   "source": [
    "features = data.drop(columns = ['class'])\n",
    "target = data['class']"
   ]
  },
  {
   "cell_type": "code",
   "execution_count": 147,
   "id": "d84ad500-0187-422b-927d-27119029cc74",
   "metadata": {},
   "outputs": [],
   "source": [
    "min_max_scaler = MinMaxScaler(feature_range=(0, 1))\n",
    "x_train_scaled = min_max_scaler.fit_transform(features.copy())"
   ]
  },
  {
   "cell_type": "code",
   "execution_count": 148,
   "id": "f7761037-9ffc-44da-9987-1fd2d9a0f98a",
   "metadata": {},
   "outputs": [
    {
     "name": "stdout",
     "output_type": "stream",
     "text": [
      "38.40625\n",
      "41.515625\n"
     ]
    }
   ],
   "source": [
    "start = time.process_time()\n",
    "\n",
    "model = OneClassSVM(gamma='scale', nu=0.1)\n",
    "model.fit(x_train_scaled)\n",
    "\n",
    "end = time.process_time()\n",
    "bank_rbf_oc_svm_train_time = end - start\n",
    "print(end - start)\n",
    "\n",
    "start = time.process_time()\n",
    "\n",
    "yhat = model.predict(x_train_scaled)\n",
    "y_scores = -model.decision_function(x_train_scaled)\n",
    "\n",
    "end = time.process_time()\n",
    "bank_rbf_oc_svm_test_time = end - start\n",
    "print(end - start)"
   ]
  },
  {
   "cell_type": "code",
   "execution_count": 149,
   "id": "48f48b9b-3286-462a-ae70-3719ad92d3cb",
   "metadata": {},
   "outputs": [],
   "source": [
    "predictions = pd.DataFrame(yhat, columns = ['y_pred']).apply(def_outlier, axis = 1)"
   ]
  },
  {
   "cell_type": "code",
   "execution_count": 150,
   "id": "69418350",
   "metadata": {},
   "outputs": [
    {
     "data": {
      "text/plain": [
       "0.5705781874474003"
      ]
     },
     "execution_count": 150,
     "metadata": {},
     "output_type": "execute_result"
    }
   ],
   "source": [
    "fpr, tpr, _ = metrics.roc_curve(target, y_scores)\n",
    "bank_rbf_oc_svm_auc = metrics.auc(fpr, tpr)\n",
    "metrics.auc(fpr, tpr)"
   ]
  },
  {
   "cell_type": "code",
   "execution_count": 151,
   "id": "18d3796a-9c2b-4380-9a8c-39a9052a6693",
   "metadata": {},
   "outputs": [
    {
     "name": "stdout",
     "output_type": "stream",
     "text": [
      "              precision    recall  f1-score   support\n",
      "\n",
      "           0       0.90      0.92      0.91     36548\n",
      "           1       0.26      0.23      0.25      4640\n",
      "\n",
      "    accuracy                           0.84     41188\n",
      "   macro avg       0.58      0.57      0.58     41188\n",
      "weighted avg       0.83      0.84      0.84     41188\n",
      "\n"
     ]
    }
   ],
   "source": [
    "bank_rbf_oc_svm_report = classification_report(target, predictions, target_names = ['0','1'], output_dict = True)\n",
    "print(classification_report(target, predictions, target_names = ['0','1']))"
   ]
  },
  {
   "cell_type": "code",
   "execution_count": 152,
   "id": "7340f520",
   "metadata": {},
   "outputs": [
    {
     "name": "stdout",
     "output_type": "stream",
     "text": [
      "0.19921512626272206\n"
     ]
    }
   ],
   "source": [
    "precision, recall, thresholds = precision_recall_curve(target, y_scores)\n",
    "bank_ocsvm_rbf_auc_precision_recall = metrics.auc(recall, precision)\n",
    "print(bank_ocsvm_rbf_auc_precision_recall)"
   ]
  },
  {
   "cell_type": "markdown",
   "id": "62d947a1",
   "metadata": {},
   "source": [
    "## Performance"
   ]
  },
  {
   "cell_type": "code",
   "execution_count": 153,
   "id": "adfea90c",
   "metadata": {},
   "outputs": [],
   "source": [
    "performance = pd.DataFrame(columns = ['F1 score', 'recall', 'precision', 'AUC', 'AUPRC', \n",
    "                                      'Training time','Inference time','Total time'])"
   ]
  },
  {
   "cell_type": "code",
   "execution_count": 154,
   "id": "65b9cf90",
   "metadata": {},
   "outputs": [],
   "source": [
    "f1_score_oc_svm_rbf = {'arrhythmia':arrhythmia_rbf_oc_svm_report['1']['f1-score'],\n",
    "                       'cardio':cardio_rbf_oc_svm_report['1']['f1-score'], \n",
    "                        'forestcover':forestcover_rbf_oc_svm_report['1']['f1-score'], \n",
    "                       'annthyroid':annthyroid_rbf_oc_svm_report['1']['f1-score'],       \n",
    "                        'creditcard':creditcard_rbf_oc_svm_report['1']['f1-score'], \n",
    "                       'mammography':mammography_rbf_oc_svm_report['1']['f1-score'], \n",
    "                        'shuttle':shuttle_rbf_oc_svm_report['1']['f1-score'], \n",
    "                      'mnist':mnist_rbf_oc_svm_report['1']['f1-score'], \n",
    "                  'vowels':vowels_rbf_oc_svm_report['1']['f1-score'], \n",
    "                  'seismic':seismic_rbf_oc_svm_report['1']['f1-score'], \n",
    "                  'musk':musk_rbf_oc_svm_report['1']['f1-score'], \n",
    "                  'bank':bank_rbf_oc_svm_report['1']['f1-score']}\n",
    "f1_score_oc_svm_rbf_df = pd.DataFrame.from_dict(f1_score_oc_svm_rbf, orient='index', columns = ['F1 score']).reset_index()"
   ]
  },
  {
   "cell_type": "code",
   "execution_count": 155,
   "id": "8fd3e6ba",
   "metadata": {},
   "outputs": [],
   "source": [
    "recall_oc_svm_rbf = {'arrhythmia':arrhythmia_rbf_oc_svm_report['1']['recall'],\n",
    "                       'cardio':cardio_rbf_oc_svm_report['1']['recall'], \n",
    "                        'forestcover':forestcover_rbf_oc_svm_report['1']['recall'], \n",
    "                       'annthyroid':annthyroid_rbf_oc_svm_report['1']['recall'],       \n",
    "                        'creditcard':creditcard_rbf_oc_svm_report['1']['recall'], \n",
    "                       'mammography':mammography_rbf_oc_svm_report['1']['recall'], \n",
    "                        'shuttle':shuttle_rbf_oc_svm_report['1']['recall'], \n",
    "                      'mnist':mnist_rbf_oc_svm_report['1']['recall'], \n",
    "                  'vowels':vowels_rbf_oc_svm_report['1']['recall'], \n",
    "                  'seismic':seismic_rbf_oc_svm_report['1']['recall'], \n",
    "                  'musk':musk_rbf_oc_svm_report['1']['recall'], \n",
    "                  'bank':bank_rbf_oc_svm_report['1']['recall'], }\n",
    "recall_oc_svm_rbf_df = pd.DataFrame.from_dict(recall_oc_svm_rbf, orient='index', columns = ['Recall']).reset_index()"
   ]
  },
  {
   "cell_type": "code",
   "execution_count": 156,
   "id": "a9671627",
   "metadata": {},
   "outputs": [],
   "source": [
    "precision_oc_svm_rbf = {'arrhythmia':arrhythmia_rbf_oc_svm_report['1']['precision'],\n",
    "                       'cardio':cardio_rbf_oc_svm_report['1']['precision'], \n",
    "                        'forestcover':forestcover_rbf_oc_svm_report['1']['precision'], \n",
    "                       'annthyroid':annthyroid_rbf_oc_svm_report['1']['precision'],       \n",
    "                        'creditcard':creditcard_rbf_oc_svm_report['1']['precision'], \n",
    "                       'mammography':mammography_rbf_oc_svm_report['1']['precision'], \n",
    "                        'shuttle':shuttle_rbf_oc_svm_report['1']['precision'], \n",
    "                      'mnist':mnist_rbf_oc_svm_report['1']['precision'], \n",
    "                  'vowels':vowels_rbf_oc_svm_report['1']['precision'], \n",
    "                  'seismic':seismic_rbf_oc_svm_report['1']['precision'], \n",
    "                  'musk':musk_rbf_oc_svm_report['1']['precision'], \n",
    "                  'bank':bank_rbf_oc_svm_report['1']['precision'], }\n",
    "precision_oc_svm_rbf_df = pd.DataFrame.from_dict(precision_oc_svm_rbf, orient='index', columns = ['Precision']).reset_index()"
   ]
  },
  {
   "cell_type": "code",
   "execution_count": 157,
   "id": "be0150e4",
   "metadata": {},
   "outputs": [],
   "source": [
    "auc_oc_svm_rbf = {'arrhythmia':arrhythmia_rbf_oc_svm_auc,\n",
    "                       'cardio':cardio_rbf_oc_svm_auc, \n",
    "                        'forestcover':forestcover_rbf_oc_svm_auc, \n",
    "                       'annthyroid':annthyroid_rbf_oc_svm_auc,       \n",
    "                        'creditcard':creditcard_rbf_oc_svm_auc, \n",
    "                       'mammography':mammography_rbf_oc_svm_auc, \n",
    "                        'shuttle':shuttle_rbf_oc_svm_auc, \n",
    "                      'mnist':mnist_rbf_oc_svm_auc, \n",
    "                  'vowels':vowels_rbf_oc_svm_auc, \n",
    "                  'seismic':seismic_rbf_oc_svm_auc, \n",
    "                  'musk':musk_rbf_oc_svm_auc, \n",
    "                  'bank':bank_rbf_oc_svm_auc}\n",
    "auc_oc_svm_rbf_df = pd.DataFrame.from_dict(auc_oc_svm_rbf, orient='index', columns = ['AUC']).reset_index()"
   ]
  },
  {
   "cell_type": "code",
   "execution_count": 158,
   "id": "63e3b1e9",
   "metadata": {},
   "outputs": [],
   "source": [
    "auprc_oc_svm_rbf = {'arrhythmia':arrhythmia_ocsvm_rbf_auc_precision_recall,\n",
    "                       'cardio':cardio_ocsvm_rbf_auc_precision_recall, \n",
    "                        'forestcover':forestcover_ocsvm_rbf_auc_precision_recall, \n",
    "                       'annthyroid':annthyroid_ocsvm_rbf_auc_precision_recall,       \n",
    "                        'creditcard':creditcard_ocsvm_rbf_auc_precision_recall, \n",
    "                       'mammography':mammography_ocsvm_rbf_auc_precision_recall, \n",
    "                        'shuttle':shuttle_ocsvm_rbf_auc_precision_recall, \n",
    "                      'mnist':mnist_ocsvm_rbf_auc_precision_recall, \n",
    "                  'vowels':vowels_ocsvm_rbf_auc_precision_recall, \n",
    "                  'seismic':seismic_ocsvm_rbf_auc_precision_recall, \n",
    "                  'musk':musk_ocsvm_rbf_auc_precision_recall, \n",
    "                  'bank':bank_ocsvm_rbf_auc_precision_recall}\n",
    "auprc_oc_svm_rbf_df = pd.DataFrame.from_dict(auprc_oc_svm_rbf, orient='index', columns = ['AUPRC']).reset_index()"
   ]
  },
  {
   "cell_type": "code",
   "execution_count": 159,
   "id": "d894b03b",
   "metadata": {},
   "outputs": [],
   "source": [
    "training_time_oc_svm_rbf = {'arrhythmia':arrhythmia_rbf_oc_svm_train_time,\n",
    "                       'cardio':cardio_rbf_oc_svm_train_time, \n",
    "                        'forestcover':forestcover_rbf_oc_svm_train_time, \n",
    "                       'annthyroid':annthyroid_rbf_oc_svm_train_time,       \n",
    "                        'creditcard': creditcard_rbf_oc_svm_train_time, \n",
    "                       'mammography':mammography_rbf_oc_svm_train_time, \n",
    "                        'shuttle':shuttle_rbf_oc_svm_train_time, \n",
    "                      'mnist':mnist_rbf_oc_svm_train_time, \n",
    "                  'vowels':vowels_rbf_oc_svm_train_time, \n",
    "                  'seismic':seismic_rbf_oc_svm_train_time, \n",
    "                  'musk':musk_rbf_oc_svm_train_time, \n",
    "                  'bank':bank_rbf_oc_svm_train_time}\n",
    "training_time_oc_svm_rbf_df = pd.DataFrame.from_dict(training_time_oc_svm_rbf, orient='index', columns = ['Training time']).reset_index()"
   ]
  },
  {
   "cell_type": "code",
   "execution_count": 160,
   "id": "de7018d0",
   "metadata": {},
   "outputs": [],
   "source": [
    "test_time_oc_svm_rbf = {'arrhythmia':arrhythmia_rbf_oc_svm_test_time,\n",
    "                       'cardio':cardio_rbf_oc_svm_test_time, \n",
    "                        'forestcover':forestcover_rbf_oc_svm_test_time, \n",
    "                       'annthyroid':annthyroid_rbf_oc_svm_test_time,       \n",
    "                        'creditcard':creditcard_rbf_oc_svm_test_time, \n",
    "                       'mammography':mammography_rbf_oc_svm_test_time, \n",
    "                        'shuttle':shuttle_rbf_oc_svm_test_time, \n",
    "                      'mnist':mnist_rbf_oc_svm_test_time, \n",
    "                  'vowels':vowels_rbf_oc_svm_test_time, \n",
    "                  'seismic':seismic_rbf_oc_svm_test_time, \n",
    "                  'musk':musk_rbf_oc_svm_test_time, \n",
    "                  'bank':bank_rbf_oc_svm_test_time}\n",
    "test_time_oc_svm_rbf_df = pd.DataFrame.from_dict(test_time_oc_svm_rbf, orient='index', columns = ['Testing time']).reset_index()"
   ]
  },
  {
   "cell_type": "code",
   "execution_count": 161,
   "id": "e35809e6",
   "metadata": {},
   "outputs": [],
   "source": [
    "total_time_oc_svm_rbf = {'arrhythmia':arrhythmia_rbf_oc_svm_train_time + arrhythmia_rbf_oc_svm_test_time,\n",
    "                       'cardio':cardio_rbf_oc_svm_train_time + cardio_rbf_oc_svm_test_time, \n",
    "                        'forestcover':forestcover_rbf_oc_svm_train_time + forestcover_rbf_oc_svm_test_time, \n",
    "                       'annthyroid':annthyroid_rbf_oc_svm_train_time + annthyroid_rbf_oc_svm_test_time,       \n",
    "                        'creditcard': creditcard_rbf_oc_svm_train_time + creditcard_rbf_oc_svm_test_time, \n",
    "                       'mammography':mammography_rbf_oc_svm_train_time + mammography_rbf_oc_svm_test_time, \n",
    "                        'shuttle':shuttle_rbf_oc_svm_train_time + shuttle_rbf_oc_svm_test_time, \n",
    "                      'mnist':mnist_rbf_oc_svm_train_time + mnist_rbf_oc_svm_test_time, \n",
    "                  'vowels':vowels_rbf_oc_svm_train_time + vowels_rbf_oc_svm_test_time, \n",
    "                  'seismic':seismic_rbf_oc_svm_train_time + seismic_rbf_oc_svm_test_time, \n",
    "                  'musk':musk_rbf_oc_svm_train_time + musk_rbf_oc_svm_test_time, \n",
    "                  'bank':bank_rbf_oc_svm_train_time + bank_rbf_oc_svm_test_time}\n",
    "total_time_oc_svm_rbf_df = pd.DataFrame.from_dict(total_time_oc_svm_rbf, orient='index', columns = ['Total time']).reset_index()"
   ]
  },
  {
   "cell_type": "code",
   "execution_count": 162,
   "id": "d7c5ec41",
   "metadata": {},
   "outputs": [
    {
     "data": {
      "text/html": [
       "<div>\n",
       "<style scoped>\n",
       "    .dataframe tbody tr th:only-of-type {\n",
       "        vertical-align: middle;\n",
       "    }\n",
       "\n",
       "    .dataframe tbody tr th {\n",
       "        vertical-align: top;\n",
       "    }\n",
       "\n",
       "    .dataframe thead th {\n",
       "        text-align: right;\n",
       "    }\n",
       "</style>\n",
       "<table border=\"1\" class=\"dataframe\">\n",
       "  <thead>\n",
       "    <tr style=\"text-align: right;\">\n",
       "      <th></th>\n",
       "      <th>index</th>\n",
       "      <th>F1 score</th>\n",
       "      <th>Recall</th>\n",
       "      <th>Precision</th>\n",
       "      <th>AUC</th>\n",
       "      <th>AUPRC</th>\n",
       "      <th>Training time</th>\n",
       "      <th>Testing time</th>\n",
       "      <th>Total time</th>\n",
       "    </tr>\n",
       "  </thead>\n",
       "  <tbody>\n",
       "    <tr>\n",
       "      <th>0</th>\n",
       "      <td>arrhythmia</td>\n",
       "      <td>0.407080</td>\n",
       "      <td>0.348485</td>\n",
       "      <td>0.489362</td>\n",
       "      <td>0.762600</td>\n",
       "      <td>0.408949</td>\n",
       "      <td>0.015625</td>\n",
       "      <td>0.015625</td>\n",
       "      <td>0.031250</td>\n",
       "    </tr>\n",
       "    <tr>\n",
       "      <th>1</th>\n",
       "      <td>cardio</td>\n",
       "      <td>0.422222</td>\n",
       "      <td>0.431818</td>\n",
       "      <td>0.413043</td>\n",
       "      <td>0.856053</td>\n",
       "      <td>0.413341</td>\n",
       "      <td>0.031250</td>\n",
       "      <td>0.062500</td>\n",
       "      <td>0.093750</td>\n",
       "    </tr>\n",
       "    <tr>\n",
       "      <th>2</th>\n",
       "      <td>forestcover</td>\n",
       "      <td>0.134596</td>\n",
       "      <td>0.768111</td>\n",
       "      <td>0.073761</td>\n",
       "      <td>0.931267</td>\n",
       "      <td>0.128591</td>\n",
       "      <td>1130.015625</td>\n",
       "      <td>1677.437500</td>\n",
       "      <td>2807.453125</td>\n",
       "    </tr>\n",
       "    <tr>\n",
       "      <th>3</th>\n",
       "      <td>annthyroid</td>\n",
       "      <td>0.193291</td>\n",
       "      <td>0.226592</td>\n",
       "      <td>0.168524</td>\n",
       "      <td>0.618189</td>\n",
       "      <td>0.144098</td>\n",
       "      <td>0.437500</td>\n",
       "      <td>1.046875</td>\n",
       "      <td>1.484375</td>\n",
       "    </tr>\n",
       "    <tr>\n",
       "      <th>4</th>\n",
       "      <td>creditcard</td>\n",
       "      <td>0.029823</td>\n",
       "      <td>0.878049</td>\n",
       "      <td>0.015169</td>\n",
       "      <td>0.945401</td>\n",
       "      <td>0.386689</td>\n",
       "      <td>1682.750000</td>\n",
       "      <td>1827.734375</td>\n",
       "      <td>3510.484375</td>\n",
       "    </tr>\n",
       "    <tr>\n",
       "      <th>5</th>\n",
       "      <td>mammography</td>\n",
       "      <td>0.180223</td>\n",
       "      <td>0.434615</td>\n",
       "      <td>0.113682</td>\n",
       "      <td>0.634955</td>\n",
       "      <td>0.113142</td>\n",
       "      <td>1.203125</td>\n",
       "      <td>2.531250</td>\n",
       "      <td>3.734375</td>\n",
       "    </tr>\n",
       "    <tr>\n",
       "      <th>6</th>\n",
       "      <td>shuttle</td>\n",
       "      <td>0.546060</td>\n",
       "      <td>0.654230</td>\n",
       "      <td>0.468584</td>\n",
       "      <td>0.943491</td>\n",
       "      <td>0.688576</td>\n",
       "      <td>31.578125</td>\n",
       "      <td>47.859375</td>\n",
       "      <td>79.437500</td>\n",
       "    </tr>\n",
       "    <tr>\n",
       "      <th>7</th>\n",
       "      <td>mnist</td>\n",
       "      <td>0.313993</td>\n",
       "      <td>0.328571</td>\n",
       "      <td>0.300654</td>\n",
       "      <td>0.759431</td>\n",
       "      <td>0.261307</td>\n",
       "      <td>0.671875</td>\n",
       "      <td>1.562500</td>\n",
       "      <td>2.234375</td>\n",
       "    </tr>\n",
       "    <tr>\n",
       "      <th>8</th>\n",
       "      <td>vowels</td>\n",
       "      <td>0.164948</td>\n",
       "      <td>0.320000</td>\n",
       "      <td>0.111111</td>\n",
       "      <td>0.704651</td>\n",
       "      <td>0.164318</td>\n",
       "      <td>0.015625</td>\n",
       "      <td>0.046875</td>\n",
       "      <td>0.062500</td>\n",
       "    </tr>\n",
       "    <tr>\n",
       "      <th>9</th>\n",
       "      <td>seismic</td>\n",
       "      <td>0.148837</td>\n",
       "      <td>0.188235</td>\n",
       "      <td>0.123077</td>\n",
       "      <td>0.403962</td>\n",
       "      <td>0.064502</td>\n",
       "      <td>0.062500</td>\n",
       "      <td>0.140625</td>\n",
       "      <td>0.203125</td>\n",
       "    </tr>\n",
       "    <tr>\n",
       "      <th>10</th>\n",
       "      <td>musk</td>\n",
       "      <td>0.270936</td>\n",
       "      <td>0.567010</td>\n",
       "      <td>0.177994</td>\n",
       "      <td>0.854860</td>\n",
       "      <td>0.425612</td>\n",
       "      <td>0.140625</td>\n",
       "      <td>0.375000</td>\n",
       "      <td>0.515625</td>\n",
       "    </tr>\n",
       "    <tr>\n",
       "      <th>11</th>\n",
       "      <td>bank</td>\n",
       "      <td>0.245890</td>\n",
       "      <td>0.232112</td>\n",
       "      <td>0.261408</td>\n",
       "      <td>0.570578</td>\n",
       "      <td>0.199215</td>\n",
       "      <td>38.406250</td>\n",
       "      <td>41.515625</td>\n",
       "      <td>79.921875</td>\n",
       "    </tr>\n",
       "  </tbody>\n",
       "</table>\n",
       "</div>"
      ],
      "text/plain": [
       "          index  F1 score    Recall  Precision       AUC     AUPRC  \\\n",
       "0    arrhythmia  0.407080  0.348485   0.489362  0.762600  0.408949   \n",
       "1        cardio  0.422222  0.431818   0.413043  0.856053  0.413341   \n",
       "2   forestcover  0.134596  0.768111   0.073761  0.931267  0.128591   \n",
       "3    annthyroid  0.193291  0.226592   0.168524  0.618189  0.144098   \n",
       "4    creditcard  0.029823  0.878049   0.015169  0.945401  0.386689   \n",
       "5   mammography  0.180223  0.434615   0.113682  0.634955  0.113142   \n",
       "6       shuttle  0.546060  0.654230   0.468584  0.943491  0.688576   \n",
       "7         mnist  0.313993  0.328571   0.300654  0.759431  0.261307   \n",
       "8        vowels  0.164948  0.320000   0.111111  0.704651  0.164318   \n",
       "9       seismic  0.148837  0.188235   0.123077  0.403962  0.064502   \n",
       "10         musk  0.270936  0.567010   0.177994  0.854860  0.425612   \n",
       "11         bank  0.245890  0.232112   0.261408  0.570578  0.199215   \n",
       "\n",
       "    Training time  Testing time   Total time  \n",
       "0        0.015625      0.015625     0.031250  \n",
       "1        0.031250      0.062500     0.093750  \n",
       "2     1130.015625   1677.437500  2807.453125  \n",
       "3        0.437500      1.046875     1.484375  \n",
       "4     1682.750000   1827.734375  3510.484375  \n",
       "5        1.203125      2.531250     3.734375  \n",
       "6       31.578125     47.859375    79.437500  \n",
       "7        0.671875      1.562500     2.234375  \n",
       "8        0.015625      0.046875     0.062500  \n",
       "9        0.062500      0.140625     0.203125  \n",
       "10       0.140625      0.375000     0.515625  \n",
       "11      38.406250     41.515625    79.921875  "
      ]
     },
     "execution_count": 162,
     "metadata": {},
     "output_type": "execute_result"
    }
   ],
   "source": [
    "pd.merge(pd.merge(pd.merge(pd.merge(pd.merge(pd.merge(pd.merge(f1_score_oc_svm_rbf_df, recall_oc_svm_rbf_df, how = 'inner'), \n",
    "                                    precision_oc_svm_rbf_df, how ='inner'),\n",
    "         auc_oc_svm_rbf_df, how = 'inner'), auprc_oc_svm_rbf_df, how = 'inner'), training_time_oc_svm_rbf_df, how = 'inner'), \n",
    "         test_time_oc_svm_rbf_df, how = 'inner'),total_time_oc_svm_rbf_df, how = 'inner')"
   ]
  },
  {
   "cell_type": "code",
   "execution_count": null,
   "id": "fbfefbfa",
   "metadata": {},
   "outputs": [],
   "source": []
  }
 ],
 "metadata": {
  "environment": {
   "name": "common-cpu.m80",
   "type": "gcloud",
   "uri": "gcr.io/deeplearning-platform-release/base-cpu:m80"
  },
  "kernelspec": {
   "display_name": "Python 3.10.2 ('env': venv)",
   "language": "python",
   "name": "python3"
  },
  "language_info": {
   "codemirror_mode": {
    "name": "ipython",
    "version": 3
   },
   "file_extension": ".py",
   "mimetype": "text/x-python",
   "name": "python",
   "nbconvert_exporter": "python",
   "pygments_lexer": "ipython3",
   "version": "3.10.2"
  },
  "vscode": {
   "interpreter": {
    "hash": "c7bb90c4ec68b2a8968b0075ab0b1cb7a78770acf7a7acf2e36e903fa05bac64"
   }
  }
 },
 "nbformat": 4,
 "nbformat_minor": 5
}
