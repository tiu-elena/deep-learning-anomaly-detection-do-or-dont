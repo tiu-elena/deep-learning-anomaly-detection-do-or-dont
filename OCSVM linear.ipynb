{
 "cells": [
  {
   "cell_type": "markdown",
   "id": "123c1709-aadd-4c93-a80a-0a0c44290983",
   "metadata": {},
   "source": [
    "# OCSVM linear"
   ]
  },
  {
   "cell_type": "code",
   "execution_count": 1,
   "id": "2520ef24",
   "metadata": {},
   "outputs": [],
   "source": [
    "import warnings\n",
    "warnings.filterwarnings('ignore')"
   ]
  },
  {
   "cell_type": "markdown",
   "id": "11e4854b-87bd-490e-88e4-9a64631dc5bb",
   "metadata": {
    "tags": []
   },
   "source": [
    "## Libraries import"
   ]
  },
  {
   "cell_type": "code",
   "execution_count": 1,
   "id": "feba20a1-5d20-4127-888b-b0e4c72f4757",
   "metadata": {},
   "outputs": [],
   "source": [
    "import pandas as pd\n",
    "import numpy as np\n",
    "from sklearn.metrics import confusion_matrix, classification_report, precision_recall_curve\n",
    "from sklearn import metrics\n",
    "from sklearn.preprocessing import MinMaxScaler, OneHotEncoder\n",
    "import time\n",
    "from sklearn.svm import OneClassSVM"
   ]
  },
  {
   "cell_type": "markdown",
   "id": "d159217a",
   "metadata": {},
   "source": [
    "## Prediction translation"
   ]
  },
  {
   "cell_type": "code",
   "execution_count": 4,
   "id": "b35bd585-3d7d-4fba-9687-81c7a9a37040",
   "metadata": {},
   "outputs": [],
   "source": [
    "def def_outlier(df):\n",
    "    if (df['y_pred'] in [-1]):\n",
    "        val = 1\n",
    "    else:\n",
    "        val = 0\n",
    "    return val"
   ]
  },
  {
   "cell_type": "markdown",
   "id": "b7db27ee-405e-4faa-a7e9-6b8cdf41d437",
   "metadata": {
    "jp-MarkdownHeadingCollapsed": true,
    "tags": []
   },
   "source": [
    "## Arrhythmia"
   ]
  },
  {
   "cell_type": "markdown",
   "id": "24b7e5ae",
   "metadata": {},
   "source": [
    "**Dataset source**: http://odds.cs.stonybrook.edu/arrhythmia-dataset/ (data is transformed from .mat to .csv format)\n",
    "\n",
    "Shebuti Rayana (2016). ODDS Library [http://odds.cs.stonybrook.edu]. Stony Brook, NY: Stony Brook University, Department of Computer Science.\n",
    "\n",
    "**Additional sources**:\n",
    "\n",
    "Liu, Fei Tony, Kai Ming Ting, and Zhi-Hua Zhou. “Isolation forest.” 2008 Eighth IEEE International Conference on Data Mining. IEEE, 2008.\n",
    "\n",
    "K. M. Ting, J. T. S. Chuan, and F. T. Liu. “Mass: A New Ranking Measure for Anomaly Detection.“, IEEE Transactions on Knowledge and Data Engineering, 2009.\n",
    "\n",
    "F. Keller, E. Muller, K. Bohm.“HiCS: High-contrast subspaces for density-based outlier ranking.” ICDE, 2012."
   ]
  },
  {
   "cell_type": "code",
   "execution_count": 5,
   "id": "a433c409-f51f-402b-8581-759c81670d7b",
   "metadata": {
    "scrolled": true
   },
   "outputs": [],
   "source": [
    "data = pd.read_csv('./arrhythmia.csv', sep = ',')"
   ]
  },
  {
   "cell_type": "code",
   "execution_count": 6,
   "id": "9f34ed3a-f570-4f95-b4f0-d1dfed0f46e3",
   "metadata": {},
   "outputs": [],
   "source": [
    "# dropping columns that consist only of 0's\n",
    "data = data.drop(columns = ['Col15', 'Col63', 'Col65', 'Col79', 'Col127', 'Col128','Col135', 'Col137', 'Col139','Col141',\n",
    "'Col147', 'Col152', 'Col153','Col160','Col200', 'Col260', 'Col270'])"
   ]
  },
  {
   "cell_type": "code",
   "execution_count": 7,
   "id": "a2922c1c-284f-420b-954d-ecf924697f54",
   "metadata": {},
   "outputs": [
    {
     "data": {
      "text/html": [
       "<div>\n",
       "<style scoped>\n",
       "    .dataframe tbody tr th:only-of-type {\n",
       "        vertical-align: middle;\n",
       "    }\n",
       "\n",
       "    .dataframe tbody tr th {\n",
       "        vertical-align: top;\n",
       "    }\n",
       "\n",
       "    .dataframe thead th {\n",
       "        text-align: right;\n",
       "    }\n",
       "</style>\n",
       "<table border=\"1\" class=\"dataframe\">\n",
       "  <thead>\n",
       "    <tr style=\"text-align: right;\">\n",
       "      <th></th>\n",
       "      <th>Col1</th>\n",
       "      <th>Col2</th>\n",
       "      <th>Col3</th>\n",
       "      <th>Col4</th>\n",
       "      <th>Col5</th>\n",
       "      <th>Col6</th>\n",
       "      <th>Col7</th>\n",
       "      <th>Col8</th>\n",
       "      <th>Col9</th>\n",
       "      <th>Col10</th>\n",
       "      <th>...</th>\n",
       "      <th>Col265</th>\n",
       "      <th>Col266</th>\n",
       "      <th>Col267</th>\n",
       "      <th>Col268</th>\n",
       "      <th>Col269</th>\n",
       "      <th>Col271</th>\n",
       "      <th>Col272</th>\n",
       "      <th>Col273</th>\n",
       "      <th>Col274</th>\n",
       "      <th>y</th>\n",
       "    </tr>\n",
       "  </thead>\n",
       "  <tbody>\n",
       "    <tr>\n",
       "      <th>0</th>\n",
       "      <td>75.0</td>\n",
       "      <td>0.0</td>\n",
       "      <td>190.0</td>\n",
       "      <td>80.0</td>\n",
       "      <td>91.0</td>\n",
       "      <td>193.0</td>\n",
       "      <td>371.0</td>\n",
       "      <td>174.0</td>\n",
       "      <td>121.0</td>\n",
       "      <td>-16.0</td>\n",
       "      <td>...</td>\n",
       "      <td>-0.3</td>\n",
       "      <td>0.0</td>\n",
       "      <td>9.0</td>\n",
       "      <td>-0.9</td>\n",
       "      <td>0.0</td>\n",
       "      <td>0.9</td>\n",
       "      <td>2.9</td>\n",
       "      <td>23.3</td>\n",
       "      <td>49.4</td>\n",
       "      <td>1</td>\n",
       "    </tr>\n",
       "    <tr>\n",
       "      <th>1</th>\n",
       "      <td>56.0</td>\n",
       "      <td>1.0</td>\n",
       "      <td>165.0</td>\n",
       "      <td>64.0</td>\n",
       "      <td>81.0</td>\n",
       "      <td>174.0</td>\n",
       "      <td>401.0</td>\n",
       "      <td>149.0</td>\n",
       "      <td>39.0</td>\n",
       "      <td>25.0</td>\n",
       "      <td>...</td>\n",
       "      <td>-0.5</td>\n",
       "      <td>0.0</td>\n",
       "      <td>8.5</td>\n",
       "      <td>0.0</td>\n",
       "      <td>0.0</td>\n",
       "      <td>0.2</td>\n",
       "      <td>2.1</td>\n",
       "      <td>20.4</td>\n",
       "      <td>38.8</td>\n",
       "      <td>0</td>\n",
       "    </tr>\n",
       "    <tr>\n",
       "      <th>2</th>\n",
       "      <td>54.0</td>\n",
       "      <td>0.0</td>\n",
       "      <td>172.0</td>\n",
       "      <td>95.0</td>\n",
       "      <td>138.0</td>\n",
       "      <td>163.0</td>\n",
       "      <td>386.0</td>\n",
       "      <td>185.0</td>\n",
       "      <td>102.0</td>\n",
       "      <td>96.0</td>\n",
       "      <td>...</td>\n",
       "      <td>0.9</td>\n",
       "      <td>0.0</td>\n",
       "      <td>9.5</td>\n",
       "      <td>-2.4</td>\n",
       "      <td>0.0</td>\n",
       "      <td>0.3</td>\n",
       "      <td>3.4</td>\n",
       "      <td>12.3</td>\n",
       "      <td>49.0</td>\n",
       "      <td>0</td>\n",
       "    </tr>\n",
       "    <tr>\n",
       "      <th>3</th>\n",
       "      <td>55.0</td>\n",
       "      <td>0.0</td>\n",
       "      <td>175.0</td>\n",
       "      <td>94.0</td>\n",
       "      <td>100.0</td>\n",
       "      <td>202.0</td>\n",
       "      <td>380.0</td>\n",
       "      <td>179.0</td>\n",
       "      <td>143.0</td>\n",
       "      <td>28.0</td>\n",
       "      <td>...</td>\n",
       "      <td>0.1</td>\n",
       "      <td>0.0</td>\n",
       "      <td>12.2</td>\n",
       "      <td>-2.2</td>\n",
       "      <td>0.0</td>\n",
       "      <td>0.4</td>\n",
       "      <td>2.6</td>\n",
       "      <td>34.6</td>\n",
       "      <td>61.6</td>\n",
       "      <td>0</td>\n",
       "    </tr>\n",
       "    <tr>\n",
       "      <th>4</th>\n",
       "      <td>75.0</td>\n",
       "      <td>0.0</td>\n",
       "      <td>190.0</td>\n",
       "      <td>80.0</td>\n",
       "      <td>88.0</td>\n",
       "      <td>181.0</td>\n",
       "      <td>360.0</td>\n",
       "      <td>177.0</td>\n",
       "      <td>103.0</td>\n",
       "      <td>-16.0</td>\n",
       "      <td>...</td>\n",
       "      <td>-0.4</td>\n",
       "      <td>0.0</td>\n",
       "      <td>13.1</td>\n",
       "      <td>-3.6</td>\n",
       "      <td>0.0</td>\n",
       "      <td>-0.1</td>\n",
       "      <td>3.9</td>\n",
       "      <td>25.4</td>\n",
       "      <td>62.8</td>\n",
       "      <td>1</td>\n",
       "    </tr>\n",
       "  </tbody>\n",
       "</table>\n",
       "<p>5 rows × 258 columns</p>\n",
       "</div>"
      ],
      "text/plain": [
       "   Col1  Col2   Col3  Col4   Col5   Col6   Col7   Col8   Col9  Col10  ...  \\\n",
       "0  75.0   0.0  190.0  80.0   91.0  193.0  371.0  174.0  121.0  -16.0  ...   \n",
       "1  56.0   1.0  165.0  64.0   81.0  174.0  401.0  149.0   39.0   25.0  ...   \n",
       "2  54.0   0.0  172.0  95.0  138.0  163.0  386.0  185.0  102.0   96.0  ...   \n",
       "3  55.0   0.0  175.0  94.0  100.0  202.0  380.0  179.0  143.0   28.0  ...   \n",
       "4  75.0   0.0  190.0  80.0   88.0  181.0  360.0  177.0  103.0  -16.0  ...   \n",
       "\n",
       "   Col265  Col266  Col267  Col268  Col269  Col271  Col272  Col273  Col274  y  \n",
       "0    -0.3     0.0     9.0    -0.9     0.0     0.9     2.9    23.3    49.4  1  \n",
       "1    -0.5     0.0     8.5     0.0     0.0     0.2     2.1    20.4    38.8  0  \n",
       "2     0.9     0.0     9.5    -2.4     0.0     0.3     3.4    12.3    49.0  0  \n",
       "3     0.1     0.0    12.2    -2.2     0.0     0.4     2.6    34.6    61.6  0  \n",
       "4    -0.4     0.0    13.1    -3.6     0.0    -0.1     3.9    25.4    62.8  1  \n",
       "\n",
       "[5 rows x 258 columns]"
      ]
     },
     "execution_count": 7,
     "metadata": {},
     "output_type": "execute_result"
    }
   ],
   "source": [
    "data.head()"
   ]
  },
  {
   "cell_type": "code",
   "execution_count": 8,
   "id": "7a470d6c-c28d-4798-aec0-2361530d8bf8",
   "metadata": {},
   "outputs": [
    {
     "data": {
      "text/plain": [
       "(452, 258)"
      ]
     },
     "execution_count": 8,
     "metadata": {},
     "output_type": "execute_result"
    }
   ],
   "source": [
    "data.shape"
   ]
  },
  {
   "cell_type": "code",
   "execution_count": 9,
   "id": "937686a7-6d97-4ed0-890a-4575bd4403f9",
   "metadata": {},
   "outputs": [
    {
     "data": {
      "text/html": [
       "<div>\n",
       "<style scoped>\n",
       "    .dataframe tbody tr th:only-of-type {\n",
       "        vertical-align: middle;\n",
       "    }\n",
       "\n",
       "    .dataframe tbody tr th {\n",
       "        vertical-align: top;\n",
       "    }\n",
       "\n",
       "    .dataframe thead th {\n",
       "        text-align: right;\n",
       "    }\n",
       "</style>\n",
       "<table border=\"1\" class=\"dataframe\">\n",
       "  <thead>\n",
       "    <tr style=\"text-align: right;\">\n",
       "      <th></th>\n",
       "      <th>Col1</th>\n",
       "    </tr>\n",
       "    <tr>\n",
       "      <th>y</th>\n",
       "      <th></th>\n",
       "    </tr>\n",
       "  </thead>\n",
       "  <tbody>\n",
       "    <tr>\n",
       "      <th>0</th>\n",
       "      <td>386</td>\n",
       "    </tr>\n",
       "    <tr>\n",
       "      <th>1</th>\n",
       "      <td>66</td>\n",
       "    </tr>\n",
       "  </tbody>\n",
       "</table>\n",
       "</div>"
      ],
      "text/plain": [
       "   Col1\n",
       "y      \n",
       "0   386\n",
       "1    66"
      ]
     },
     "execution_count": 9,
     "metadata": {},
     "output_type": "execute_result"
    }
   ],
   "source": [
    "pd.pivot_table(data,\n",
    "             values = 'Col1',\n",
    "               index = 'y', \n",
    "              aggfunc = 'count')"
   ]
  },
  {
   "cell_type": "markdown",
   "id": "a0bf2e03-649f-49d6-92ba-1fce55145a08",
   "metadata": {
    "jp-MarkdownHeadingCollapsed": true,
    "tags": []
   },
   "source": [
    "### One-Class SVM linear kernel"
   ]
  },
  {
   "cell_type": "code",
   "execution_count": 10,
   "id": "ad07452f-9b3c-4a97-8f61-6abb3bece87c",
   "metadata": {},
   "outputs": [],
   "source": [
    "features = data.drop(columns = ['y'])\n",
    "target = data['y']"
   ]
  },
  {
   "cell_type": "code",
   "execution_count": 11,
   "id": "43863d30-c43f-46d5-ad3f-437b30be405f",
   "metadata": {},
   "outputs": [],
   "source": [
    "min_max_scaler = MinMaxScaler(feature_range=(0, 1))\n",
    "x_train_scaled = min_max_scaler.fit_transform(features.copy())"
   ]
  },
  {
   "cell_type": "code",
   "execution_count": 12,
   "id": "b5342480-fdaa-45db-a83a-cb0b60f9147a",
   "metadata": {},
   "outputs": [
    {
     "name": "stdout",
     "output_type": "stream",
     "text": [
      "0.03125\n",
      "0.0\n"
     ]
    }
   ],
   "source": [
    "start = time.process_time()\n",
    "\n",
    "model = OneClassSVM(kernel = 'linear', nu=0.1)\n",
    "model.fit(x_train_scaled)\n",
    "\n",
    "end = time.process_time()\n",
    "arrhythmia_lin_oc_svm_train_time = end - start\n",
    "print(end - start)\n",
    "\n",
    "start = time.process_time()\n",
    "yhat = model.predict(x_train_scaled)\n",
    "y_scores = -model.decision_function(x_train_scaled)\n",
    "\n",
    "end = time.process_time()\n",
    "arrhythmia_lin_oc_svm_test_time = end - start\n",
    "print(end - start)"
   ]
  },
  {
   "cell_type": "code",
   "execution_count": 13,
   "id": "d49117d9-535c-4e6c-bac5-6280436c48ec",
   "metadata": {},
   "outputs": [],
   "source": [
    "predictions = pd.DataFrame(yhat, columns = ['y_pred']).apply(def_outlier, axis = 1)"
   ]
  },
  {
   "cell_type": "code",
   "execution_count": 14,
   "id": "97ae67d7",
   "metadata": {},
   "outputs": [
    {
     "data": {
      "text/plain": [
       "0.7441513581409954"
      ]
     },
     "execution_count": 14,
     "metadata": {},
     "output_type": "execute_result"
    }
   ],
   "source": [
    "fpr, tpr, _ = metrics.roc_curve(target, y_scores)\n",
    "arrhythmia_lin_oc_svm_auc = metrics.auc(fpr, tpr)\n",
    "metrics.auc(fpr, tpr)"
   ]
  },
  {
   "cell_type": "code",
   "execution_count": 15,
   "id": "1d11502b-8272-4cd0-b8c3-05fa41f62eec",
   "metadata": {},
   "outputs": [
    {
     "name": "stdout",
     "output_type": "stream",
     "text": [
      "              precision    recall  f1-score   support\n",
      "\n",
      "           0       0.89      0.93      0.91       386\n",
      "           1       0.44      0.32      0.37        66\n",
      "\n",
      "    accuracy                           0.84       452\n",
      "   macro avg       0.66      0.62      0.64       452\n",
      "weighted avg       0.82      0.84      0.83       452\n",
      "\n"
     ]
    }
   ],
   "source": [
    "arrhythmia_lin_oc_svm_report = classification_report(target, predictions, target_names = ['0','1'], output_dict = True)\n",
    "print(classification_report(target, predictions, target_names = ['0','1']))"
   ]
  },
  {
   "cell_type": "code",
   "execution_count": 16,
   "id": "6b65b010",
   "metadata": {},
   "outputs": [
    {
     "name": "stdout",
     "output_type": "stream",
     "text": [
      "0.3632367767499827\n"
     ]
    }
   ],
   "source": [
    "precision, recall, thresholds = precision_recall_curve(target, y_scores)\n",
    "arrhythmia_ocsvm_lin_auc_precision_recall = metrics.auc(recall, precision)\n",
    "print(arrhythmia_ocsvm_lin_auc_precision_recall)"
   ]
  },
  {
   "cell_type": "markdown",
   "id": "f718677d-53c1-46f9-9efc-346cdacdb947",
   "metadata": {
    "jp-MarkdownHeadingCollapsed": true,
    "tags": []
   },
   "source": [
    "## Cardiotocography"
   ]
  },
  {
   "cell_type": "markdown",
   "id": "107bd396",
   "metadata": {},
   "source": [
    "**Dataset source**: http://odds.cs.stonybrook.edu/cardiotocogrpahy-dataset/ (data is transformed from .mat to .csv format)\n",
    "\n",
    "Shebuti Rayana (2016). ODDS Library [http://odds.cs.stonybrook.edu]. Stony Brook, NY: Stony Brook University, Department of Computer Science.\n",
    "\n",
    "**Additional sources:**\n",
    "\n",
    "C. C. Aggarwal and S. Sathe, “Theoretical foundations and algorithms for outlier ensembles.” ACM SIGKDD Explorations Newsletter, vol. 17, no. 1, pp. 24–47, 2015.\n",
    "\n",
    "Saket Sathe and Charu C. Aggarwal. LODES: Local Density meets Spectral Outlier Detection. SIAM Conference on Data Mining, 2016."
   ]
  },
  {
   "cell_type": "code",
   "execution_count": 17,
   "id": "1f2814fa-e915-4614-9e0a-8d54d4e7fbad",
   "metadata": {},
   "outputs": [],
   "source": [
    "data = pd.read_csv('./Cardiotocography.csv')"
   ]
  },
  {
   "cell_type": "code",
   "execution_count": 18,
   "id": "b9687121-a76a-4e0b-83da-42725fddaeb7",
   "metadata": {},
   "outputs": [
    {
     "data": {
      "text/plain": [
       "(1831, 22)"
      ]
     },
     "execution_count": 18,
     "metadata": {},
     "output_type": "execute_result"
    }
   ],
   "source": [
    "data.shape"
   ]
  },
  {
   "cell_type": "code",
   "execution_count": 19,
   "id": "d07338e9-ea55-4352-b6ab-960b2f4ab6d4",
   "metadata": {},
   "outputs": [],
   "source": [
    "data['y'] = data['y'].astype(int)"
   ]
  },
  {
   "cell_type": "code",
   "execution_count": 20,
   "id": "cf4c6400-faca-46d0-bfe4-1736250774f1",
   "metadata": {},
   "outputs": [
    {
     "data": {
      "text/html": [
       "<div>\n",
       "<style scoped>\n",
       "    .dataframe tbody tr th:only-of-type {\n",
       "        vertical-align: middle;\n",
       "    }\n",
       "\n",
       "    .dataframe tbody tr th {\n",
       "        vertical-align: top;\n",
       "    }\n",
       "\n",
       "    .dataframe thead th {\n",
       "        text-align: right;\n",
       "    }\n",
       "</style>\n",
       "<table border=\"1\" class=\"dataframe\">\n",
       "  <thead>\n",
       "    <tr style=\"text-align: right;\">\n",
       "      <th></th>\n",
       "      <th>Col1</th>\n",
       "    </tr>\n",
       "    <tr>\n",
       "      <th>y</th>\n",
       "      <th></th>\n",
       "    </tr>\n",
       "  </thead>\n",
       "  <tbody>\n",
       "    <tr>\n",
       "      <th>0</th>\n",
       "      <td>1655</td>\n",
       "    </tr>\n",
       "    <tr>\n",
       "      <th>1</th>\n",
       "      <td>176</td>\n",
       "    </tr>\n",
       "  </tbody>\n",
       "</table>\n",
       "</div>"
      ],
      "text/plain": [
       "   Col1\n",
       "y      \n",
       "0  1655\n",
       "1   176"
      ]
     },
     "execution_count": 20,
     "metadata": {},
     "output_type": "execute_result"
    }
   ],
   "source": [
    "pd.pivot_table(data,\n",
    "             values = 'Col1',\n",
    "               index = 'y', \n",
    "              aggfunc = 'count')"
   ]
  },
  {
   "cell_type": "code",
   "execution_count": 21,
   "id": "f0a69a5f-f775-4f9f-a759-5e071ad45d35",
   "metadata": {},
   "outputs": [
    {
     "data": {
      "text/html": [
       "<div>\n",
       "<style scoped>\n",
       "    .dataframe tbody tr th:only-of-type {\n",
       "        vertical-align: middle;\n",
       "    }\n",
       "\n",
       "    .dataframe tbody tr th {\n",
       "        vertical-align: top;\n",
       "    }\n",
       "\n",
       "    .dataframe thead th {\n",
       "        text-align: right;\n",
       "    }\n",
       "</style>\n",
       "<table border=\"1\" class=\"dataframe\">\n",
       "  <thead>\n",
       "    <tr style=\"text-align: right;\">\n",
       "      <th></th>\n",
       "      <th>Col1</th>\n",
       "      <th>Col2</th>\n",
       "      <th>Col3</th>\n",
       "      <th>Col4</th>\n",
       "      <th>Col5</th>\n",
       "      <th>Col6</th>\n",
       "      <th>Col7</th>\n",
       "      <th>Col8</th>\n",
       "      <th>Col9</th>\n",
       "      <th>Col10</th>\n",
       "      <th>...</th>\n",
       "      <th>Col13</th>\n",
       "      <th>Col14</th>\n",
       "      <th>Col15</th>\n",
       "      <th>Col16</th>\n",
       "      <th>Col17</th>\n",
       "      <th>Col18</th>\n",
       "      <th>Col19</th>\n",
       "      <th>Col20</th>\n",
       "      <th>Col21</th>\n",
       "      <th>y</th>\n",
       "    </tr>\n",
       "  </thead>\n",
       "  <tbody>\n",
       "    <tr>\n",
       "      <th>0</th>\n",
       "      <td>0.004912</td>\n",
       "      <td>0.693191</td>\n",
       "      <td>-0.203640</td>\n",
       "      <td>0.595322</td>\n",
       "      <td>0.353190</td>\n",
       "      <td>-0.061401</td>\n",
       "      <td>-0.278295</td>\n",
       "      <td>-1.650444</td>\n",
       "      <td>0.759072</td>\n",
       "      <td>-0.420487</td>\n",
       "      <td>...</td>\n",
       "      <td>-0.798376</td>\n",
       "      <td>1.854728</td>\n",
       "      <td>0.622631</td>\n",
       "      <td>0.963083</td>\n",
       "      <td>0.301464</td>\n",
       "      <td>0.193113</td>\n",
       "      <td>0.231498</td>\n",
       "      <td>-0.289786</td>\n",
       "      <td>-0.493294</td>\n",
       "      <td>0</td>\n",
       "    </tr>\n",
       "    <tr>\n",
       "      <th>1</th>\n",
       "      <td>0.110729</td>\n",
       "      <td>-0.079903</td>\n",
       "      <td>-0.203640</td>\n",
       "      <td>1.268942</td>\n",
       "      <td>0.396246</td>\n",
       "      <td>-0.061401</td>\n",
       "      <td>-0.278295</td>\n",
       "      <td>-1.710270</td>\n",
       "      <td>0.759072</td>\n",
       "      <td>-0.420487</td>\n",
       "      <td>...</td>\n",
       "      <td>-0.798376</td>\n",
       "      <td>1.854728</td>\n",
       "      <td>0.278625</td>\n",
       "      <td>0.963083</td>\n",
       "      <td>0.301464</td>\n",
       "      <td>0.129265</td>\n",
       "      <td>0.093563</td>\n",
       "      <td>-0.256385</td>\n",
       "      <td>-0.493294</td>\n",
       "      <td>0</td>\n",
       "    </tr>\n",
       "    <tr>\n",
       "      <th>2</th>\n",
       "      <td>0.216546</td>\n",
       "      <td>-0.272445</td>\n",
       "      <td>-0.203640</td>\n",
       "      <td>1.050988</td>\n",
       "      <td>0.148753</td>\n",
       "      <td>-0.061401</td>\n",
       "      <td>-0.278295</td>\n",
       "      <td>-1.710270</td>\n",
       "      <td>1.106509</td>\n",
       "      <td>-0.420487</td>\n",
       "      <td>...</td>\n",
       "      <td>-1.332931</td>\n",
       "      <td>0.314688</td>\n",
       "      <td>2.342663</td>\n",
       "      <td>-0.488279</td>\n",
       "      <td>0.061002</td>\n",
       "      <td>0.065417</td>\n",
       "      <td>0.024596</td>\n",
       "      <td>-0.256385</td>\n",
       "      <td>1.140018</td>\n",
       "      <td>0</td>\n",
       "    </tr>\n",
       "    <tr>\n",
       "      <th>3</th>\n",
       "      <td>0.004912</td>\n",
       "      <td>0.727346</td>\n",
       "      <td>-0.203640</td>\n",
       "      <td>1.212171</td>\n",
       "      <td>-0.683598</td>\n",
       "      <td>-0.061401</td>\n",
       "      <td>-0.278295</td>\n",
       "      <td>-1.710270</td>\n",
       "      <td>1.106509</td>\n",
       "      <td>-0.420487</td>\n",
       "      <td>...</td>\n",
       "      <td>-1.332931</td>\n",
       "      <td>0.314688</td>\n",
       "      <td>1.654650</td>\n",
       "      <td>-0.488279</td>\n",
       "      <td>0.061002</td>\n",
       "      <td>0.193113</td>\n",
       "      <td>0.093563</td>\n",
       "      <td>-0.323186</td>\n",
       "      <td>1.140018</td>\n",
       "      <td>0</td>\n",
       "    </tr>\n",
       "    <tr>\n",
       "      <th>4</th>\n",
       "      <td>-0.100905</td>\n",
       "      <td>0.363595</td>\n",
       "      <td>1.321366</td>\n",
       "      <td>1.027120</td>\n",
       "      <td>0.141359</td>\n",
       "      <td>-0.061401</td>\n",
       "      <td>-0.278295</td>\n",
       "      <td>-0.992364</td>\n",
       "      <td>-0.051613</td>\n",
       "      <td>-0.420487</td>\n",
       "      <td>...</td>\n",
       "      <td>-0.085638</td>\n",
       "      <td>-0.565334</td>\n",
       "      <td>0.278625</td>\n",
       "      <td>-0.488279</td>\n",
       "      <td>-0.059229</td>\n",
       "      <td>0.065417</td>\n",
       "      <td>0.024596</td>\n",
       "      <td>-0.456787</td>\n",
       "      <td>1.140018</td>\n",
       "      <td>0</td>\n",
       "    </tr>\n",
       "  </tbody>\n",
       "</table>\n",
       "<p>5 rows × 22 columns</p>\n",
       "</div>"
      ],
      "text/plain": [
       "       Col1      Col2      Col3      Col4      Col5      Col6      Col7  \\\n",
       "0  0.004912  0.693191 -0.203640  0.595322  0.353190 -0.061401 -0.278295   \n",
       "1  0.110729 -0.079903 -0.203640  1.268942  0.396246 -0.061401 -0.278295   \n",
       "2  0.216546 -0.272445 -0.203640  1.050988  0.148753 -0.061401 -0.278295   \n",
       "3  0.004912  0.727346 -0.203640  1.212171 -0.683598 -0.061401 -0.278295   \n",
       "4 -0.100905  0.363595  1.321366  1.027120  0.141359 -0.061401 -0.278295   \n",
       "\n",
       "       Col8      Col9     Col10  ...     Col13     Col14     Col15     Col16  \\\n",
       "0 -1.650444  0.759072 -0.420487  ... -0.798376  1.854728  0.622631  0.963083   \n",
       "1 -1.710270  0.759072 -0.420487  ... -0.798376  1.854728  0.278625  0.963083   \n",
       "2 -1.710270  1.106509 -0.420487  ... -1.332931  0.314688  2.342663 -0.488279   \n",
       "3 -1.710270  1.106509 -0.420487  ... -1.332931  0.314688  1.654650 -0.488279   \n",
       "4 -0.992364 -0.051613 -0.420487  ... -0.085638 -0.565334  0.278625 -0.488279   \n",
       "\n",
       "      Col17     Col18     Col19     Col20     Col21  y  \n",
       "0  0.301464  0.193113  0.231498 -0.289786 -0.493294  0  \n",
       "1  0.301464  0.129265  0.093563 -0.256385 -0.493294  0  \n",
       "2  0.061002  0.065417  0.024596 -0.256385  1.140018  0  \n",
       "3  0.061002  0.193113  0.093563 -0.323186  1.140018  0  \n",
       "4 -0.059229  0.065417  0.024596 -0.456787  1.140018  0  \n",
       "\n",
       "[5 rows x 22 columns]"
      ]
     },
     "execution_count": 21,
     "metadata": {},
     "output_type": "execute_result"
    }
   ],
   "source": [
    "data.head()"
   ]
  },
  {
   "cell_type": "markdown",
   "id": "80a012d0-fd8a-49e4-b739-dffa62841604",
   "metadata": {
    "jp-MarkdownHeadingCollapsed": true,
    "tags": []
   },
   "source": [
    "### One-Class SVM linear"
   ]
  },
  {
   "cell_type": "code",
   "execution_count": 22,
   "id": "a0e573da-98f7-41b7-b27f-f0c28788e084",
   "metadata": {},
   "outputs": [],
   "source": [
    "features = data.drop(columns = ['y'])\n",
    "target = data['y']"
   ]
  },
  {
   "cell_type": "code",
   "execution_count": 23,
   "id": "9a190797-48ca-4c10-becf-58d90832aa20",
   "metadata": {},
   "outputs": [],
   "source": [
    "min_max_scaler = MinMaxScaler(feature_range=(0, 1))\n",
    "x_train_scaled = min_max_scaler.fit_transform(features.copy())"
   ]
  },
  {
   "cell_type": "code",
   "execution_count": 24,
   "id": "ad66126c-0675-4d19-95cb-efe0955ce7c5",
   "metadata": {},
   "outputs": [
    {
     "name": "stdout",
     "output_type": "stream",
     "text": [
      "0.03125\n",
      "0.046875\n"
     ]
    }
   ],
   "source": [
    "start = time.process_time()\n",
    "\n",
    "model = OneClassSVM(kernel = 'linear', nu=0.1)\n",
    "model.fit(x_train_scaled)\n",
    "\n",
    "end = time.process_time()\n",
    "cardio_lin_oc_svm_train_time = end - start\n",
    "print(end - start)\n",
    "\n",
    "start = time.process_time()\n",
    "\n",
    "yhat = model.predict(x_train_scaled)\n",
    "y_scores = -model.decision_function(x_train_scaled)\n",
    "\n",
    "end = time.process_time()\n",
    "cardio_lin_oc_svm_test_time = end - start\n",
    "print(end - start)"
   ]
  },
  {
   "cell_type": "code",
   "execution_count": 25,
   "id": "7f5956b5-8090-416f-9176-e0ee97b41e47",
   "metadata": {},
   "outputs": [],
   "source": [
    "predictions = pd.DataFrame(yhat, columns = ['y_pred']).apply(def_outlier, axis = 1)"
   ]
  },
  {
   "cell_type": "code",
   "execution_count": 26,
   "id": "a835bbdf-bef6-4fcc-b023-5136896f26f4",
   "metadata": {},
   "outputs": [
    {
     "data": {
      "text/plain": [
       "array([[1510,  145],\n",
       "       [ 138,   38]], dtype=int64)"
      ]
     },
     "execution_count": 26,
     "metadata": {},
     "output_type": "execute_result"
    }
   ],
   "source": [
    "confusion_matrix(target, predictions)"
   ]
  },
  {
   "cell_type": "code",
   "execution_count": 27,
   "id": "d1813bf1",
   "metadata": {},
   "outputs": [
    {
     "data": {
      "text/plain": [
       "0.6868580060422961"
      ]
     },
     "execution_count": 27,
     "metadata": {},
     "output_type": "execute_result"
    }
   ],
   "source": [
    "fpr, tpr, _ = metrics.roc_curve(target, y_scores)\n",
    "cardio_lin_oc_svm_auc = metrics.auc(fpr, tpr)\n",
    "metrics.auc(fpr, tpr)"
   ]
  },
  {
   "cell_type": "code",
   "execution_count": 28,
   "id": "8f1460cb-7f0d-46f3-a020-edc4121653d8",
   "metadata": {},
   "outputs": [
    {
     "name": "stdout",
     "output_type": "stream",
     "text": [
      "              precision    recall  f1-score   support\n",
      "\n",
      "           0       0.92      0.91      0.91      1655\n",
      "           1       0.21      0.22      0.21       176\n",
      "\n",
      "    accuracy                           0.85      1831\n",
      "   macro avg       0.56      0.56      0.56      1831\n",
      "weighted avg       0.85      0.85      0.85      1831\n",
      "\n"
     ]
    }
   ],
   "source": [
    "cardio_lin_oc_svm_report = classification_report(target, predictions, target_names = ['0','1'], output_dict = True)\n",
    "print(classification_report(target, predictions, target_names = ['0','1']))"
   ]
  },
  {
   "cell_type": "code",
   "execution_count": 29,
   "id": "cad94556",
   "metadata": {},
   "outputs": [
    {
     "name": "stdout",
     "output_type": "stream",
     "text": [
      "0.2144353932629828\n"
     ]
    }
   ],
   "source": [
    "precision, recall, thresholds = precision_recall_curve(target, y_scores)\n",
    "cardio_ocsvm_lin_auc_precision_recall = metrics.auc(recall, precision)\n",
    "print(cardio_ocsvm_lin_auc_precision_recall)"
   ]
  },
  {
   "cell_type": "markdown",
   "id": "1563ee67-06dc-4374-b602-f4d623f6ac25",
   "metadata": {
    "tags": []
   },
   "source": [
    "## ForestCover"
   ]
  },
  {
   "cell_type": "markdown",
   "id": "11f1743c",
   "metadata": {},
   "source": [
    "**Dataset source**: http://odds.cs.stonybrook.edu/forestcovercovertype-dataset/ (data is transformed from .mat to .csv format)\n",
    "\n",
    "Shebuti Rayana (2016). ODDS Library [http://odds.cs.stonybrook.edu]. Stony Brook, NY: Stony Brook University, Department of Computer Science.\n",
    "\n",
    "**Additional sources:**\n",
    "\n",
    "Liu, Fei Tony, Kai Ming Ting, and Zhi-Hua Zhou. “Isolation forest.” 2008 Eighth IEEE International Conference on Data Mining. IEEE, 2008.\n",
    "\n",
    "K. M. Ting, J. T. S. Chuan, and F. T. Liu. “Mass: A New Ranking Measure for Anomaly Detection.“, IEEE Transactions on Knowledge and Data Engineering, 2009.\n",
    "\n",
    "Kai Ming Ting, Guang-Tong Zhou, Fei Tony Liu & Tan Swee Chuan. (2010). Mass Estimation and Its Applications. Proceedings of The 16th ACM SIGKDD Conference on Knowledge Discovery and Data Mining 2010. pp. 989-998.\n",
    "\n",
    "Swee Chuan Tan, Kai Ming Ting & Fei Tony Liu. (2011). Fast Anomaly Detection for Streaming Data. Proceedings of the International Joint Conference on Artificial Intelligence 2011. pp.1151-1156."
   ]
  },
  {
   "cell_type": "code",
   "execution_count": 30,
   "id": "bff11aeb-e777-439f-a989-dbdd142d1027",
   "metadata": {},
   "outputs": [],
   "source": [
    "data = pd.read_csv('./ForestCover.csv')"
   ]
  },
  {
   "cell_type": "code",
   "execution_count": 31,
   "id": "bc232f7a-8630-46bf-b1a0-b8b8dbee4688",
   "metadata": {},
   "outputs": [
    {
     "data": {
      "text/plain": [
       "(286048, 11)"
      ]
     },
     "execution_count": 31,
     "metadata": {},
     "output_type": "execute_result"
    }
   ],
   "source": [
    "data.shape"
   ]
  },
  {
   "cell_type": "code",
   "execution_count": 32,
   "id": "725ab3d0-b18f-4f66-8201-4d1cd3423964",
   "metadata": {},
   "outputs": [
    {
     "data": {
      "text/html": [
       "<div>\n",
       "<style scoped>\n",
       "    .dataframe tbody tr th:only-of-type {\n",
       "        vertical-align: middle;\n",
       "    }\n",
       "\n",
       "    .dataframe tbody tr th {\n",
       "        vertical-align: top;\n",
       "    }\n",
       "\n",
       "    .dataframe thead th {\n",
       "        text-align: right;\n",
       "    }\n",
       "</style>\n",
       "<table border=\"1\" class=\"dataframe\">\n",
       "  <thead>\n",
       "    <tr style=\"text-align: right;\">\n",
       "      <th></th>\n",
       "      <th>Col2</th>\n",
       "    </tr>\n",
       "    <tr>\n",
       "      <th>y</th>\n",
       "      <th></th>\n",
       "    </tr>\n",
       "  </thead>\n",
       "  <tbody>\n",
       "    <tr>\n",
       "      <th>0</th>\n",
       "      <td>283301</td>\n",
       "    </tr>\n",
       "    <tr>\n",
       "      <th>1</th>\n",
       "      <td>2747</td>\n",
       "    </tr>\n",
       "  </tbody>\n",
       "</table>\n",
       "</div>"
      ],
      "text/plain": [
       "     Col2\n",
       "y        \n",
       "0  283301\n",
       "1    2747"
      ]
     },
     "execution_count": 32,
     "metadata": {},
     "output_type": "execute_result"
    }
   ],
   "source": [
    "pd.pivot_table(data,\n",
    "             values = 'Col2',\n",
    "               index = 'y', \n",
    "              aggfunc = 'count')"
   ]
  },
  {
   "cell_type": "code",
   "execution_count": 33,
   "id": "ba2e2eaf-a650-494b-ba31-fe2afc4c7d42",
   "metadata": {},
   "outputs": [
    {
     "data": {
      "text/html": [
       "<div>\n",
       "<style scoped>\n",
       "    .dataframe tbody tr th:only-of-type {\n",
       "        vertical-align: middle;\n",
       "    }\n",
       "\n",
       "    .dataframe tbody tr th {\n",
       "        vertical-align: top;\n",
       "    }\n",
       "\n",
       "    .dataframe thead th {\n",
       "        text-align: right;\n",
       "    }\n",
       "</style>\n",
       "<table border=\"1\" class=\"dataframe\">\n",
       "  <thead>\n",
       "    <tr style=\"text-align: right;\">\n",
       "      <th></th>\n",
       "      <th>Col1</th>\n",
       "      <th>Col2</th>\n",
       "      <th>Col3</th>\n",
       "      <th>Col4</th>\n",
       "      <th>Col5</th>\n",
       "      <th>Col6</th>\n",
       "      <th>Col7</th>\n",
       "      <th>Col8</th>\n",
       "      <th>Col9</th>\n",
       "      <th>Col10</th>\n",
       "      <th>y</th>\n",
       "    </tr>\n",
       "  </thead>\n",
       "  <tbody>\n",
       "    <tr>\n",
       "      <th>0</th>\n",
       "      <td>2804</td>\n",
       "      <td>139</td>\n",
       "      <td>9</td>\n",
       "      <td>268</td>\n",
       "      <td>65</td>\n",
       "      <td>3180</td>\n",
       "      <td>234</td>\n",
       "      <td>238</td>\n",
       "      <td>135</td>\n",
       "      <td>6121</td>\n",
       "      <td>0</td>\n",
       "    </tr>\n",
       "    <tr>\n",
       "      <th>1</th>\n",
       "      <td>2785</td>\n",
       "      <td>155</td>\n",
       "      <td>18</td>\n",
       "      <td>242</td>\n",
       "      <td>118</td>\n",
       "      <td>3090</td>\n",
       "      <td>238</td>\n",
       "      <td>238</td>\n",
       "      <td>122</td>\n",
       "      <td>6211</td>\n",
       "      <td>0</td>\n",
       "    </tr>\n",
       "    <tr>\n",
       "      <th>2</th>\n",
       "      <td>2579</td>\n",
       "      <td>132</td>\n",
       "      <td>6</td>\n",
       "      <td>300</td>\n",
       "      <td>-15</td>\n",
       "      <td>67</td>\n",
       "      <td>230</td>\n",
       "      <td>237</td>\n",
       "      <td>140</td>\n",
       "      <td>6031</td>\n",
       "      <td>0</td>\n",
       "    </tr>\n",
       "    <tr>\n",
       "      <th>3</th>\n",
       "      <td>2886</td>\n",
       "      <td>151</td>\n",
       "      <td>11</td>\n",
       "      <td>371</td>\n",
       "      <td>26</td>\n",
       "      <td>5253</td>\n",
       "      <td>234</td>\n",
       "      <td>240</td>\n",
       "      <td>136</td>\n",
       "      <td>4051</td>\n",
       "      <td>0</td>\n",
       "    </tr>\n",
       "    <tr>\n",
       "      <th>4</th>\n",
       "      <td>2742</td>\n",
       "      <td>134</td>\n",
       "      <td>22</td>\n",
       "      <td>150</td>\n",
       "      <td>69</td>\n",
       "      <td>3215</td>\n",
       "      <td>248</td>\n",
       "      <td>224</td>\n",
       "      <td>92</td>\n",
       "      <td>6091</td>\n",
       "      <td>0</td>\n",
       "    </tr>\n",
       "  </tbody>\n",
       "</table>\n",
       "</div>"
      ],
      "text/plain": [
       "   Col1  Col2  Col3  Col4  Col5  Col6  Col7  Col8  Col9  Col10  y\n",
       "0  2804   139     9   268    65  3180   234   238   135   6121  0\n",
       "1  2785   155    18   242   118  3090   238   238   122   6211  0\n",
       "2  2579   132     6   300   -15    67   230   237   140   6031  0\n",
       "3  2886   151    11   371    26  5253   234   240   136   4051  0\n",
       "4  2742   134    22   150    69  3215   248   224    92   6091  0"
      ]
     },
     "execution_count": 33,
     "metadata": {},
     "output_type": "execute_result"
    }
   ],
   "source": [
    "data.head()"
   ]
  },
  {
   "cell_type": "markdown",
   "id": "70ae90c5-33f0-4673-af1c-8eeb6ee00cb1",
   "metadata": {
    "jp-MarkdownHeadingCollapsed": true,
    "tags": []
   },
   "source": [
    "### One-Class SVM linear"
   ]
  },
  {
   "cell_type": "code",
   "execution_count": 34,
   "id": "4f668119-9912-4fb9-8bf7-d89c5e136088",
   "metadata": {},
   "outputs": [],
   "source": [
    "features = data.drop(columns = ['y'])\n",
    "target = data['y']"
   ]
  },
  {
   "cell_type": "code",
   "execution_count": 35,
   "id": "781898ac-bd91-4b7c-9392-e73b0c49a287",
   "metadata": {},
   "outputs": [],
   "source": [
    "min_max_scaler = MinMaxScaler(feature_range=(0, 1))\n",
    "x_train_scaled = min_max_scaler.fit_transform(features.copy())"
   ]
  },
  {
   "cell_type": "code",
   "execution_count": 36,
   "id": "3801e253-50f9-44dd-a079-0fd1af534ba7",
   "metadata": {},
   "outputs": [
    {
     "name": "stdout",
     "output_type": "stream",
     "text": [
      "781.953125\n",
      "453.65625\n"
     ]
    }
   ],
   "source": [
    "start = time.process_time()\n",
    "\n",
    "model = OneClassSVM(kernel = 'linear', nu=0.1)\n",
    "model.fit(x_train_scaled)\n",
    "\n",
    "end = time.process_time()\n",
    "forestcover_lin_oc_svm_train_time = end - start\n",
    "print(end - start)\n",
    "\n",
    "start = time.process_time()\n",
    "\n",
    "yhat = model.predict(x_train_scaled)\n",
    "y_scores = -model.decision_function(x_train_scaled)\n",
    "\n",
    "end = time.process_time()\n",
    "forestcover_lin_oc_svm_test_time = end - start\n",
    "print(end - start)"
   ]
  },
  {
   "cell_type": "code",
   "execution_count": 37,
   "id": "734b6203-cb16-4f75-a326-d96481b43212",
   "metadata": {},
   "outputs": [],
   "source": [
    "predictions = pd.DataFrame(yhat, columns = ['y_pred']).apply(def_outlier, axis = 1)"
   ]
  },
  {
   "cell_type": "code",
   "execution_count": 38,
   "id": "e80371fa-e762-495d-b4ee-dc2e28276409",
   "metadata": {},
   "outputs": [
    {
     "data": {
      "text/plain": [
       "array([[256925,  26376],\n",
       "       [   519,   2228]], dtype=int64)"
      ]
     },
     "execution_count": 38,
     "metadata": {},
     "output_type": "execute_result"
    }
   ],
   "source": [
    "confusion_matrix(target, predictions)"
   ]
  },
  {
   "cell_type": "code",
   "execution_count": 39,
   "id": "d962f013",
   "metadata": {},
   "outputs": [
    {
     "data": {
      "text/plain": [
       "0.9430147595322428"
      ]
     },
     "execution_count": 39,
     "metadata": {},
     "output_type": "execute_result"
    }
   ],
   "source": [
    "fpr, tpr, _ = metrics.roc_curve(target, y_scores)\n",
    "forestcover_lin_oc_svm_auc = metrics.auc(fpr, tpr)\n",
    "metrics.auc(fpr, tpr)"
   ]
  },
  {
   "cell_type": "code",
   "execution_count": 40,
   "id": "41991eb1-3077-4000-92b6-07f912dd2bed",
   "metadata": {},
   "outputs": [
    {
     "name": "stdout",
     "output_type": "stream",
     "text": [
      "              precision    recall  f1-score   support\n",
      "\n",
      "           0       1.00      0.91      0.95    283301\n",
      "           1       0.08      0.81      0.14      2747\n",
      "\n",
      "    accuracy                           0.91    286048\n",
      "   macro avg       0.54      0.86      0.55    286048\n",
      "weighted avg       0.99      0.91      0.94    286048\n",
      "\n"
     ]
    }
   ],
   "source": [
    "forestcover_lin_oc_svm_report = classification_report(target, predictions, target_names = ['0','1'], output_dict = True)\n",
    "print(classification_report(target, predictions, target_names = ['0','1']))"
   ]
  },
  {
   "cell_type": "code",
   "execution_count": 41,
   "id": "5a700f19",
   "metadata": {},
   "outputs": [
    {
     "name": "stdout",
     "output_type": "stream",
     "text": [
      "0.1447110737294749\n"
     ]
    }
   ],
   "source": [
    "precision, recall, thresholds = precision_recall_curve(target, y_scores)\n",
    "forestcover_ocsvm_lin_auc_precision_recall = metrics.auc(recall, precision)\n",
    "print(forestcover_ocsvm_lin_auc_precision_recall)"
   ]
  },
  {
   "cell_type": "markdown",
   "id": "96e7ab52-cd86-4205-829f-82354fd330c0",
   "metadata": {
    "jp-MarkdownHeadingCollapsed": true,
    "tags": []
   },
   "source": [
    "## Annthyroid"
   ]
  },
  {
   "cell_type": "markdown",
   "id": "304278d1",
   "metadata": {},
   "source": [
    "**Dataset source**: http://odds.cs.stonybrook.edu/annthyroid-dataset/ (data is transformed from .mat to .csv format)\n",
    "\n",
    "Shebuti Rayana (2016). ODDS Library [http://odds.cs.stonybrook.edu]. Stony Brook, NY: Stony Brook University, Department of Computer Science.\n",
    "\n",
    "**Aditional sources:**\n",
    "\n",
    "Abe, Naoki, Bianca Zadrozny, and John Langford. “Outlier detection by active learning.” Proceedings of the 12th ACM SIGKDD international conference on Knowledge discovery and data mining. ACM, 2006.\n",
    "\n",
    "Liu, Fei Tony, Kai Ming Ting, and Zhi-Hua Zhou. “Isolation forest.” 2008 Eighth IEEE International Conference on Data Mining. IEEE, 2008.\n",
    "\n",
    "K. M. Ting, J. T. S. Chuan, and F. T. Liu. “Mass: A New Ranking Measure for Anomaly Detection.“, IEEE Transactions on Knowledge and Data Engineering, 2009."
   ]
  },
  {
   "cell_type": "code",
   "execution_count": 42,
   "id": "74880b01-a430-41cc-988f-647cb4ca4ff3",
   "metadata": {},
   "outputs": [],
   "source": [
    "data = pd.read_csv('./annthyroid.csv')"
   ]
  },
  {
   "cell_type": "code",
   "execution_count": 43,
   "id": "be075faf-1275-4bc7-bffb-874175a5fb4c",
   "metadata": {},
   "outputs": [
    {
     "data": {
      "text/html": [
       "<div>\n",
       "<style scoped>\n",
       "    .dataframe tbody tr th:only-of-type {\n",
       "        vertical-align: middle;\n",
       "    }\n",
       "\n",
       "    .dataframe tbody tr th {\n",
       "        vertical-align: top;\n",
       "    }\n",
       "\n",
       "    .dataframe thead th {\n",
       "        text-align: right;\n",
       "    }\n",
       "</style>\n",
       "<table border=\"1\" class=\"dataframe\">\n",
       "  <thead>\n",
       "    <tr style=\"text-align: right;\">\n",
       "      <th></th>\n",
       "      <th>Col1</th>\n",
       "      <th>Col2</th>\n",
       "      <th>Col3</th>\n",
       "      <th>Col4</th>\n",
       "      <th>Col5</th>\n",
       "      <th>Col6</th>\n",
       "      <th>y</th>\n",
       "    </tr>\n",
       "  </thead>\n",
       "  <tbody>\n",
       "    <tr>\n",
       "      <th>0</th>\n",
       "      <td>0.73</td>\n",
       "      <td>0.00060</td>\n",
       "      <td>0.015</td>\n",
       "      <td>0.120</td>\n",
       "      <td>0.082</td>\n",
       "      <td>0.146</td>\n",
       "      <td>0</td>\n",
       "    </tr>\n",
       "    <tr>\n",
       "      <th>1</th>\n",
       "      <td>0.24</td>\n",
       "      <td>0.00025</td>\n",
       "      <td>0.030</td>\n",
       "      <td>0.143</td>\n",
       "      <td>0.133</td>\n",
       "      <td>0.108</td>\n",
       "      <td>0</td>\n",
       "    </tr>\n",
       "    <tr>\n",
       "      <th>2</th>\n",
       "      <td>0.47</td>\n",
       "      <td>0.00190</td>\n",
       "      <td>0.024</td>\n",
       "      <td>0.102</td>\n",
       "      <td>0.131</td>\n",
       "      <td>0.078</td>\n",
       "      <td>0</td>\n",
       "    </tr>\n",
       "    <tr>\n",
       "      <th>3</th>\n",
       "      <td>0.64</td>\n",
       "      <td>0.00090</td>\n",
       "      <td>0.017</td>\n",
       "      <td>0.077</td>\n",
       "      <td>0.090</td>\n",
       "      <td>0.085</td>\n",
       "      <td>0</td>\n",
       "    </tr>\n",
       "    <tr>\n",
       "      <th>4</th>\n",
       "      <td>0.23</td>\n",
       "      <td>0.00025</td>\n",
       "      <td>0.026</td>\n",
       "      <td>0.139</td>\n",
       "      <td>0.090</td>\n",
       "      <td>0.153</td>\n",
       "      <td>0</td>\n",
       "    </tr>\n",
       "  </tbody>\n",
       "</table>\n",
       "</div>"
      ],
      "text/plain": [
       "   Col1     Col2   Col3   Col4   Col5   Col6  y\n",
       "0  0.73  0.00060  0.015  0.120  0.082  0.146  0\n",
       "1  0.24  0.00025  0.030  0.143  0.133  0.108  0\n",
       "2  0.47  0.00190  0.024  0.102  0.131  0.078  0\n",
       "3  0.64  0.00090  0.017  0.077  0.090  0.085  0\n",
       "4  0.23  0.00025  0.026  0.139  0.090  0.153  0"
      ]
     },
     "execution_count": 43,
     "metadata": {},
     "output_type": "execute_result"
    }
   ],
   "source": [
    "data.head()"
   ]
  },
  {
   "cell_type": "code",
   "execution_count": 44,
   "id": "f83c1dd7-907d-4135-a293-180dd4327d11",
   "metadata": {},
   "outputs": [
    {
     "data": {
      "text/plain": [
       "(7200, 7)"
      ]
     },
     "execution_count": 44,
     "metadata": {},
     "output_type": "execute_result"
    }
   ],
   "source": [
    "data.shape"
   ]
  },
  {
   "cell_type": "code",
   "execution_count": 45,
   "id": "1d67fa9a-8257-4681-8366-9a701af73c7a",
   "metadata": {},
   "outputs": [
    {
     "data": {
      "text/html": [
       "<div>\n",
       "<style scoped>\n",
       "    .dataframe tbody tr th:only-of-type {\n",
       "        vertical-align: middle;\n",
       "    }\n",
       "\n",
       "    .dataframe tbody tr th {\n",
       "        vertical-align: top;\n",
       "    }\n",
       "\n",
       "    .dataframe thead th {\n",
       "        text-align: right;\n",
       "    }\n",
       "</style>\n",
       "<table border=\"1\" class=\"dataframe\">\n",
       "  <thead>\n",
       "    <tr style=\"text-align: right;\">\n",
       "      <th></th>\n",
       "      <th>Col1</th>\n",
       "    </tr>\n",
       "    <tr>\n",
       "      <th>y</th>\n",
       "      <th></th>\n",
       "    </tr>\n",
       "  </thead>\n",
       "  <tbody>\n",
       "    <tr>\n",
       "      <th>0</th>\n",
       "      <td>6666</td>\n",
       "    </tr>\n",
       "    <tr>\n",
       "      <th>1</th>\n",
       "      <td>534</td>\n",
       "    </tr>\n",
       "  </tbody>\n",
       "</table>\n",
       "</div>"
      ],
      "text/plain": [
       "   Col1\n",
       "y      \n",
       "0  6666\n",
       "1   534"
      ]
     },
     "execution_count": 45,
     "metadata": {},
     "output_type": "execute_result"
    }
   ],
   "source": [
    "pd.pivot_table(data,\n",
    "             values = 'Col1',\n",
    "               index = 'y', \n",
    "              aggfunc = 'count')"
   ]
  },
  {
   "cell_type": "markdown",
   "id": "8dae84df-f5c7-43c5-afff-d1e601610a79",
   "metadata": {
    "jp-MarkdownHeadingCollapsed": true,
    "tags": []
   },
   "source": [
    "### One-Class SVM linear"
   ]
  },
  {
   "cell_type": "code",
   "execution_count": 46,
   "id": "4669671f-b3db-4bc4-8097-2f92c0b4a542",
   "metadata": {},
   "outputs": [],
   "source": [
    "features = data.drop(columns = ['y'])\n",
    "target = data['y']"
   ]
  },
  {
   "cell_type": "code",
   "execution_count": 47,
   "id": "2cc0ec54-49f4-455d-a571-66e855c349f4",
   "metadata": {},
   "outputs": [],
   "source": [
    "min_max_scaler = MinMaxScaler(feature_range=(0, 1))\n",
    "x_train_scaled = min_max_scaler.fit_transform(features.copy())"
   ]
  },
  {
   "cell_type": "code",
   "execution_count": 48,
   "id": "9a7fae86-5ec6-4443-b03c-81337a1b1c8e",
   "metadata": {},
   "outputs": [
    {
     "name": "stdout",
     "output_type": "stream",
     "text": [
      "0.265625\n",
      "0.234375\n"
     ]
    }
   ],
   "source": [
    "start = time.process_time()\n",
    "\n",
    "model = OneClassSVM(kernel = 'linear', nu=0.1)\n",
    "model.fit(x_train_scaled)\n",
    "\n",
    "end = time.process_time()\n",
    "annthyroid_lin_oc_svm_train_time = end - start\n",
    "print(end - start)\n",
    "\n",
    "start = time.process_time()\n",
    "\n",
    "yhat = model.predict(x_train_scaled)\n",
    "y_scores = -model.decision_function(x_train_scaled)\n",
    "\n",
    "end = time.process_time()\n",
    "annthyroid_lin_oc_svm_test_time = end - start\n",
    "print(end - start)"
   ]
  },
  {
   "cell_type": "code",
   "execution_count": 49,
   "id": "b8d4f2e2-86d0-45cc-93a5-c243fd5ac388",
   "metadata": {},
   "outputs": [],
   "source": [
    "predictions = pd.DataFrame(yhat, columns = ['y_pred']).apply(def_outlier, axis = 1)"
   ]
  },
  {
   "cell_type": "code",
   "execution_count": 50,
   "id": "af4dabce",
   "metadata": {},
   "outputs": [
    {
     "data": {
      "text/plain": [
       "0.5538615659318742"
      ]
     },
     "execution_count": 50,
     "metadata": {},
     "output_type": "execute_result"
    }
   ],
   "source": [
    "fpr, tpr, _ = metrics.roc_curve(target, y_scores)\n",
    "annthyroid_lin_oc_svm_auc = metrics.auc(fpr, tpr)\n",
    "metrics.auc(fpr, tpr)"
   ]
  },
  {
   "cell_type": "code",
   "execution_count": 51,
   "id": "43f6988c-619d-4491-a6d5-4c1cf8dcadfc",
   "metadata": {},
   "outputs": [
    {
     "name": "stdout",
     "output_type": "stream",
     "text": [
      "              precision    recall  f1-score   support\n",
      "\n",
      "           0       0.93      0.90      0.91      6666\n",
      "           1       0.08      0.11      0.10       534\n",
      "\n",
      "    accuracy                           0.84      7200\n",
      "   macro avg       0.51      0.51      0.50      7200\n",
      "weighted avg       0.86      0.84      0.85      7200\n",
      "\n"
     ]
    }
   ],
   "source": [
    "annthyroid_lin_oc_svm_report = classification_report(target, predictions, target_names = ['0','1'], output_dict = True)\n",
    "print(classification_report(target, predictions, target_names = ['0','1']))"
   ]
  },
  {
   "cell_type": "code",
   "execution_count": 52,
   "id": "45e4eb5d",
   "metadata": {},
   "outputs": [
    {
     "name": "stdout",
     "output_type": "stream",
     "text": [
      "0.08631701063163859\n"
     ]
    }
   ],
   "source": [
    "precision, recall, thresholds = precision_recall_curve(target, y_scores)\n",
    "annthyroid_ocsvm_lin_auc_precision_recall = metrics.auc(recall, precision)\n",
    "print(annthyroid_ocsvm_lin_auc_precision_recall)"
   ]
  },
  {
   "cell_type": "markdown",
   "id": "8c02c6cb-54b6-4c76-af0d-27bdcdfe0c35",
   "metadata": {
    "tags": []
   },
   "source": [
    "## Credit card"
   ]
  },
  {
   "cell_type": "markdown",
   "id": "1e089b86",
   "metadata": {},
   "source": [
    "**Dataset source**: https://www.kaggle.com/mlg-ulb/creditcardfraud\n",
    "\n",
    "**Additional sources:**\n",
    "\n",
    "Andrea Dal Pozzolo, Olivier Caelen, Reid A. Johnson and Gianluca Bontempi. Calibrating Probability with Undersampling for Unbalanced Classification. In Symposium on Computational Intelligence and Data Mining (CIDM), IEEE, 2015\n",
    "\n",
    "Dal Pozzolo, Andrea; Caelen, Olivier; Le Borgne, Yann-Ael; Waterschoot, Serge; Bontempi, Gianluca. Learned lessons in credit card fraud detection from a practitioner perspective, Expert systems with applications,41,10,4915-4928,2014, Pergamon\n",
    "\n",
    "Dal Pozzolo, Andrea; Boracchi, Giacomo; Caelen, Olivier; Alippi, Cesare; Bontempi, Gianluca. Credit card fraud detection: a realistic modeling and a novel learning strategy, IEEE transactions on neural networks and learning systems,29,8,3784-3797,2018,IEEE\n",
    "\n",
    "Dal Pozzolo, Andrea Adaptive Machine learning for credit card fraud detection ULB MLG PhD thesis (supervised by G. Bontempi)\n",
    "\n",
    "Carcillo, Fabrizio; Dal Pozzolo, Andrea; Le Borgne, Yann-Aël; Caelen, Olivier; Mazzer, Yannis; Bontempi, Gianluca. Scarff: a scalable framework for streaming credit card fraud detection with Spark, Information fusion,41, 182-194,2018,Elsevier\n",
    "\n",
    "Carcillo, Fabrizio; Le Borgne, Yann-Aël; Caelen, Olivier; Bontempi, Gianluca. Streaming active learning strategies for real-life credit card fraud detection: assessment and visualization, International Journal of Data Science and Analytics, 5,4,285-300,2018,Springer International Publishing\n",
    "\n",
    "Bertrand Lebichot, Yann-Aël Le Borgne, Liyun He, Frederic Oblé, Gianluca Bontempi Deep-Learning Domain Adaptation Techniques for Credit Cards Fraud Detection, INNSBDDL 2019: Recent Advances in Big Data and Deep Learning, pp 78-88, 2019\n",
    "\n",
    "Fabrizio Carcillo, Yann-Aël Le Borgne, Olivier Caelen, Frederic Oblé, Gianluca Bontempi Combining Unsupervised and Supervised Learning in Credit Card Fraud Detection Information Sciences, 2019\n",
    "\n",
    "Yann-Aël Le Borgne, Gianluca Bontempi Machine Learning for Credit Card Fraud Detection - Practical Handbook"
   ]
  },
  {
   "cell_type": "code",
   "execution_count": 53,
   "id": "abaad9a8-e22d-40a5-9e2b-1611697c48c8",
   "metadata": {},
   "outputs": [],
   "source": [
    "data = pd.read_csv('./creditcard.csv')"
   ]
  },
  {
   "cell_type": "code",
   "execution_count": 54,
   "id": "f805c4b2-f0cf-4b91-bd69-60bb6acf57d6",
   "metadata": {},
   "outputs": [],
   "source": [
    "data = data.drop(columns = ['Time'])"
   ]
  },
  {
   "cell_type": "code",
   "execution_count": 55,
   "id": "c53f52a7-5385-452d-b93e-0526c104f5c4",
   "metadata": {},
   "outputs": [
    {
     "data": {
      "text/plain": [
       "(284807, 30)"
      ]
     },
     "execution_count": 55,
     "metadata": {},
     "output_type": "execute_result"
    }
   ],
   "source": [
    "data.shape"
   ]
  },
  {
   "cell_type": "code",
   "execution_count": 56,
   "id": "64fd85a8",
   "metadata": {},
   "outputs": [
    {
     "data": {
      "text/html": [
       "<div>\n",
       "<style scoped>\n",
       "    .dataframe tbody tr th:only-of-type {\n",
       "        vertical-align: middle;\n",
       "    }\n",
       "\n",
       "    .dataframe tbody tr th {\n",
       "        vertical-align: top;\n",
       "    }\n",
       "\n",
       "    .dataframe thead th {\n",
       "        text-align: right;\n",
       "    }\n",
       "</style>\n",
       "<table border=\"1\" class=\"dataframe\">\n",
       "  <thead>\n",
       "    <tr style=\"text-align: right;\">\n",
       "      <th></th>\n",
       "      <th>V1</th>\n",
       "      <th>V2</th>\n",
       "      <th>V3</th>\n",
       "      <th>V4</th>\n",
       "      <th>V5</th>\n",
       "      <th>V6</th>\n",
       "      <th>V7</th>\n",
       "      <th>V8</th>\n",
       "      <th>V9</th>\n",
       "      <th>V10</th>\n",
       "      <th>...</th>\n",
       "      <th>V21</th>\n",
       "      <th>V22</th>\n",
       "      <th>V23</th>\n",
       "      <th>V24</th>\n",
       "      <th>V25</th>\n",
       "      <th>V26</th>\n",
       "      <th>V27</th>\n",
       "      <th>V28</th>\n",
       "      <th>Amount</th>\n",
       "      <th>Class</th>\n",
       "    </tr>\n",
       "  </thead>\n",
       "  <tbody>\n",
       "    <tr>\n",
       "      <th>0</th>\n",
       "      <td>-1.359807</td>\n",
       "      <td>-0.072781</td>\n",
       "      <td>2.536347</td>\n",
       "      <td>1.378155</td>\n",
       "      <td>-0.338321</td>\n",
       "      <td>0.462388</td>\n",
       "      <td>0.239599</td>\n",
       "      <td>0.098698</td>\n",
       "      <td>0.363787</td>\n",
       "      <td>0.090794</td>\n",
       "      <td>...</td>\n",
       "      <td>-0.018307</td>\n",
       "      <td>0.277838</td>\n",
       "      <td>-0.110474</td>\n",
       "      <td>0.066928</td>\n",
       "      <td>0.128539</td>\n",
       "      <td>-0.189115</td>\n",
       "      <td>0.133558</td>\n",
       "      <td>-0.021053</td>\n",
       "      <td>149.62</td>\n",
       "      <td>0</td>\n",
       "    </tr>\n",
       "    <tr>\n",
       "      <th>1</th>\n",
       "      <td>1.191857</td>\n",
       "      <td>0.266151</td>\n",
       "      <td>0.166480</td>\n",
       "      <td>0.448154</td>\n",
       "      <td>0.060018</td>\n",
       "      <td>-0.082361</td>\n",
       "      <td>-0.078803</td>\n",
       "      <td>0.085102</td>\n",
       "      <td>-0.255425</td>\n",
       "      <td>-0.166974</td>\n",
       "      <td>...</td>\n",
       "      <td>-0.225775</td>\n",
       "      <td>-0.638672</td>\n",
       "      <td>0.101288</td>\n",
       "      <td>-0.339846</td>\n",
       "      <td>0.167170</td>\n",
       "      <td>0.125895</td>\n",
       "      <td>-0.008983</td>\n",
       "      <td>0.014724</td>\n",
       "      <td>2.69</td>\n",
       "      <td>0</td>\n",
       "    </tr>\n",
       "    <tr>\n",
       "      <th>2</th>\n",
       "      <td>-1.358354</td>\n",
       "      <td>-1.340163</td>\n",
       "      <td>1.773209</td>\n",
       "      <td>0.379780</td>\n",
       "      <td>-0.503198</td>\n",
       "      <td>1.800499</td>\n",
       "      <td>0.791461</td>\n",
       "      <td>0.247676</td>\n",
       "      <td>-1.514654</td>\n",
       "      <td>0.207643</td>\n",
       "      <td>...</td>\n",
       "      <td>0.247998</td>\n",
       "      <td>0.771679</td>\n",
       "      <td>0.909412</td>\n",
       "      <td>-0.689281</td>\n",
       "      <td>-0.327642</td>\n",
       "      <td>-0.139097</td>\n",
       "      <td>-0.055353</td>\n",
       "      <td>-0.059752</td>\n",
       "      <td>378.66</td>\n",
       "      <td>0</td>\n",
       "    </tr>\n",
       "    <tr>\n",
       "      <th>3</th>\n",
       "      <td>-0.966272</td>\n",
       "      <td>-0.185226</td>\n",
       "      <td>1.792993</td>\n",
       "      <td>-0.863291</td>\n",
       "      <td>-0.010309</td>\n",
       "      <td>1.247203</td>\n",
       "      <td>0.237609</td>\n",
       "      <td>0.377436</td>\n",
       "      <td>-1.387024</td>\n",
       "      <td>-0.054952</td>\n",
       "      <td>...</td>\n",
       "      <td>-0.108300</td>\n",
       "      <td>0.005274</td>\n",
       "      <td>-0.190321</td>\n",
       "      <td>-1.175575</td>\n",
       "      <td>0.647376</td>\n",
       "      <td>-0.221929</td>\n",
       "      <td>0.062723</td>\n",
       "      <td>0.061458</td>\n",
       "      <td>123.50</td>\n",
       "      <td>0</td>\n",
       "    </tr>\n",
       "    <tr>\n",
       "      <th>4</th>\n",
       "      <td>-1.158233</td>\n",
       "      <td>0.877737</td>\n",
       "      <td>1.548718</td>\n",
       "      <td>0.403034</td>\n",
       "      <td>-0.407193</td>\n",
       "      <td>0.095921</td>\n",
       "      <td>0.592941</td>\n",
       "      <td>-0.270533</td>\n",
       "      <td>0.817739</td>\n",
       "      <td>0.753074</td>\n",
       "      <td>...</td>\n",
       "      <td>-0.009431</td>\n",
       "      <td>0.798278</td>\n",
       "      <td>-0.137458</td>\n",
       "      <td>0.141267</td>\n",
       "      <td>-0.206010</td>\n",
       "      <td>0.502292</td>\n",
       "      <td>0.219422</td>\n",
       "      <td>0.215153</td>\n",
       "      <td>69.99</td>\n",
       "      <td>0</td>\n",
       "    </tr>\n",
       "  </tbody>\n",
       "</table>\n",
       "<p>5 rows × 30 columns</p>\n",
       "</div>"
      ],
      "text/plain": [
       "         V1        V2        V3        V4        V5        V6        V7  \\\n",
       "0 -1.359807 -0.072781  2.536347  1.378155 -0.338321  0.462388  0.239599   \n",
       "1  1.191857  0.266151  0.166480  0.448154  0.060018 -0.082361 -0.078803   \n",
       "2 -1.358354 -1.340163  1.773209  0.379780 -0.503198  1.800499  0.791461   \n",
       "3 -0.966272 -0.185226  1.792993 -0.863291 -0.010309  1.247203  0.237609   \n",
       "4 -1.158233  0.877737  1.548718  0.403034 -0.407193  0.095921  0.592941   \n",
       "\n",
       "         V8        V9       V10  ...       V21       V22       V23       V24  \\\n",
       "0  0.098698  0.363787  0.090794  ... -0.018307  0.277838 -0.110474  0.066928   \n",
       "1  0.085102 -0.255425 -0.166974  ... -0.225775 -0.638672  0.101288 -0.339846   \n",
       "2  0.247676 -1.514654  0.207643  ...  0.247998  0.771679  0.909412 -0.689281   \n",
       "3  0.377436 -1.387024 -0.054952  ... -0.108300  0.005274 -0.190321 -1.175575   \n",
       "4 -0.270533  0.817739  0.753074  ... -0.009431  0.798278 -0.137458  0.141267   \n",
       "\n",
       "        V25       V26       V27       V28  Amount  Class  \n",
       "0  0.128539 -0.189115  0.133558 -0.021053  149.62      0  \n",
       "1  0.167170  0.125895 -0.008983  0.014724    2.69      0  \n",
       "2 -0.327642 -0.139097 -0.055353 -0.059752  378.66      0  \n",
       "3  0.647376 -0.221929  0.062723  0.061458  123.50      0  \n",
       "4 -0.206010  0.502292  0.219422  0.215153   69.99      0  \n",
       "\n",
       "[5 rows x 30 columns]"
      ]
     },
     "execution_count": 56,
     "metadata": {},
     "output_type": "execute_result"
    }
   ],
   "source": [
    "data.head()"
   ]
  },
  {
   "cell_type": "code",
   "execution_count": 57,
   "id": "ff70cce9",
   "metadata": {},
   "outputs": [
    {
     "data": {
      "text/html": [
       "<div>\n",
       "<style scoped>\n",
       "    .dataframe tbody tr th:only-of-type {\n",
       "        vertical-align: middle;\n",
       "    }\n",
       "\n",
       "    .dataframe tbody tr th {\n",
       "        vertical-align: top;\n",
       "    }\n",
       "\n",
       "    .dataframe thead th {\n",
       "        text-align: right;\n",
       "    }\n",
       "</style>\n",
       "<table border=\"1\" class=\"dataframe\">\n",
       "  <thead>\n",
       "    <tr style=\"text-align: right;\">\n",
       "      <th></th>\n",
       "      <th>V1</th>\n",
       "    </tr>\n",
       "    <tr>\n",
       "      <th>Class</th>\n",
       "      <th></th>\n",
       "    </tr>\n",
       "  </thead>\n",
       "  <tbody>\n",
       "    <tr>\n",
       "      <th>0</th>\n",
       "      <td>284315</td>\n",
       "    </tr>\n",
       "    <tr>\n",
       "      <th>1</th>\n",
       "      <td>492</td>\n",
       "    </tr>\n",
       "  </tbody>\n",
       "</table>\n",
       "</div>"
      ],
      "text/plain": [
       "           V1\n",
       "Class        \n",
       "0      284315\n",
       "1         492"
      ]
     },
     "execution_count": 57,
     "metadata": {},
     "output_type": "execute_result"
    }
   ],
   "source": [
    "pd.pivot_table(data,\n",
    "             values = 'V1',\n",
    "               index = 'Class', \n",
    "              aggfunc = 'count')"
   ]
  },
  {
   "cell_type": "markdown",
   "id": "65445d89-5c59-45fd-bcd6-a638925e1dda",
   "metadata": {
    "jp-MarkdownHeadingCollapsed": true,
    "tags": []
   },
   "source": [
    "### One-Class SVM linear"
   ]
  },
  {
   "cell_type": "code",
   "execution_count": 58,
   "id": "8a15ea99-2a9b-491e-a1c5-7e8e180263cf",
   "metadata": {},
   "outputs": [],
   "source": [
    "features = data.drop(columns = ['Class'])\n",
    "target = data['Class']"
   ]
  },
  {
   "cell_type": "code",
   "execution_count": 59,
   "id": "61815c77-661c-4567-bc6c-134e6b137c02",
   "metadata": {},
   "outputs": [],
   "source": [
    "min_max_scaler = MinMaxScaler(feature_range=(0, 1))\n",
    "x_train_scaled = min_max_scaler.fit_transform(features.copy())"
   ]
  },
  {
   "cell_type": "code",
   "execution_count": 60,
   "id": "5efb870d-303e-4e63-8022-93e81f98af7d",
   "metadata": {},
   "outputs": [
    {
     "name": "stdout",
     "output_type": "stream",
     "text": [
      "1044.046875\n",
      "518.890625\n"
     ]
    }
   ],
   "source": [
    "start = time.process_time()\n",
    "\n",
    "model = OneClassSVM(kernel = 'linear', nu=0.1)\n",
    "model.fit(x_train_scaled)\n",
    "\n",
    "end = time.process_time()\n",
    "creditcard_lin_oc_svm_train_time = end - start\n",
    "print(end - start)\n",
    "\n",
    "start = time.process_time()\n",
    "\n",
    "yhat = model.predict(x_train_scaled)\n",
    "y_scores = -model.decision_function(x_train_scaled)\n",
    "\n",
    "end = time.process_time()\n",
    "creditcard_lin_oc_svm_test_time = end - start\n",
    "print(end - start)"
   ]
  },
  {
   "cell_type": "code",
   "execution_count": 61,
   "id": "20610611-0c31-4c4a-a07e-145c39f3de3d",
   "metadata": {},
   "outputs": [],
   "source": [
    "predictions = pd.DataFrame(yhat, columns = ['y_pred']).apply(def_outlier, axis = 1)"
   ]
  },
  {
   "cell_type": "code",
   "execution_count": 62,
   "id": "305498fd",
   "metadata": {},
   "outputs": [
    {
     "data": {
      "text/plain": [
       "0.9102854114203172"
      ]
     },
     "execution_count": 62,
     "metadata": {},
     "output_type": "execute_result"
    }
   ],
   "source": [
    "fpr, tpr, _ = metrics.roc_curve(target, y_scores)\n",
    "creditcard_lin_oc_svm_auc = metrics.auc(fpr, tpr)\n",
    "metrics.auc(fpr, tpr)"
   ]
  },
  {
   "cell_type": "code",
   "execution_count": 63,
   "id": "6a0f2854-d5a4-4806-be84-525b07c946cf",
   "metadata": {},
   "outputs": [
    {
     "name": "stdout",
     "output_type": "stream",
     "text": [
      "              precision    recall  f1-score   support\n",
      "\n",
      "           0       1.00      0.90      0.95    284315\n",
      "           1       0.01      0.83      0.03       492\n",
      "\n",
      "    accuracy                           0.90    284807\n",
      "   macro avg       0.51      0.87      0.49    284807\n",
      "weighted avg       1.00      0.90      0.95    284807\n",
      "\n"
     ]
    }
   ],
   "source": [
    "creditcard_lin_oc_svm_report = classification_report(target, predictions, target_names = ['0','1'], output_dict = True)\n",
    "print(classification_report(target, predictions, target_names = ['0','1']))"
   ]
  },
  {
   "cell_type": "code",
   "execution_count": 64,
   "id": "21fcefe3",
   "metadata": {},
   "outputs": [
    {
     "name": "stdout",
     "output_type": "stream",
     "text": [
      "0.5491265151292718\n"
     ]
    }
   ],
   "source": [
    "precision, recall, thresholds = precision_recall_curve(target, y_scores)\n",
    "creditcard_ocsvm_lin_auc_precision_recall = metrics.auc(recall, precision)\n",
    "print(creditcard_ocsvm_lin_auc_precision_recall)"
   ]
  },
  {
   "cell_type": "markdown",
   "id": "03cd6004",
   "metadata": {
    "jp-MarkdownHeadingCollapsed": true,
    "tags": []
   },
   "source": [
    "## Mammography"
   ]
  },
  {
   "cell_type": "markdown",
   "id": "574140d5",
   "metadata": {},
   "source": [
    "**Dataset source**: http://odds.cs.stonybrook.edu/mammography-dataset/ (data is transformed from .mat to .csv format)\n",
    "\n",
    "Shebuti Rayana (2016). ODDS Library [http://odds.cs.stonybrook.edu]. Stony Brook, NY: Stony Brook University, Department of Computer Science.\n",
    "\n",
    "**Additional sources:**\n",
    "\n",
    "Abe, Naoki, Bianca Zadrozny, and John Langford. “Outlier detection by active learning.” Proceedings of the 12th ACM SIGKDD international conference on Knowledge discovery and data mining. ACM, 2006.\n",
    "\n",
    "Liu, Fei Tony, Kai Ming Ting, and Zhi-Hua Zhou. “Isolation forest.” 2008 Eighth IEEE International Conference on Data Mining. IEEE, 2008.\n",
    "\n",
    "K. M. Ting, J. T. S. Chuan, and F. T. Liu. “Mass: A New Ranking Measure for Anomaly Detection.“, IEEE Transactions on Knowledge and Data Engineering, 2009."
   ]
  },
  {
   "cell_type": "code",
   "execution_count": 65,
   "id": "2fa86495-b3c3-420b-9869-e218b46ddddd",
   "metadata": {},
   "outputs": [],
   "source": [
    "data = pd.read_csv('./mammography.csv')"
   ]
  },
  {
   "cell_type": "code",
   "execution_count": 66,
   "id": "9903d321-6749-4ad3-a74f-5a36ad1922ac",
   "metadata": {},
   "outputs": [
    {
     "data": {
      "text/html": [
       "<div>\n",
       "<style scoped>\n",
       "    .dataframe tbody tr th:only-of-type {\n",
       "        vertical-align: middle;\n",
       "    }\n",
       "\n",
       "    .dataframe tbody tr th {\n",
       "        vertical-align: top;\n",
       "    }\n",
       "\n",
       "    .dataframe thead th {\n",
       "        text-align: right;\n",
       "    }\n",
       "</style>\n",
       "<table border=\"1\" class=\"dataframe\">\n",
       "  <thead>\n",
       "    <tr style=\"text-align: right;\">\n",
       "      <th></th>\n",
       "      <th>Col1</th>\n",
       "      <th>Col2</th>\n",
       "      <th>Col3</th>\n",
       "      <th>Col4</th>\n",
       "      <th>Col5</th>\n",
       "      <th>Col6</th>\n",
       "      <th>y</th>\n",
       "    </tr>\n",
       "  </thead>\n",
       "  <tbody>\n",
       "    <tr>\n",
       "      <th>0</th>\n",
       "      <td>0.230020</td>\n",
       "      <td>5.072578</td>\n",
       "      <td>-0.276061</td>\n",
       "      <td>0.832444</td>\n",
       "      <td>-0.377866</td>\n",
       "      <td>0.480322</td>\n",
       "      <td>0</td>\n",
       "    </tr>\n",
       "    <tr>\n",
       "      <th>1</th>\n",
       "      <td>0.155491</td>\n",
       "      <td>-0.169390</td>\n",
       "      <td>0.670652</td>\n",
       "      <td>-0.859553</td>\n",
       "      <td>-0.377866</td>\n",
       "      <td>-0.945723</td>\n",
       "      <td>0</td>\n",
       "    </tr>\n",
       "    <tr>\n",
       "      <th>2</th>\n",
       "      <td>-0.784415</td>\n",
       "      <td>-0.443654</td>\n",
       "      <td>5.674705</td>\n",
       "      <td>-0.859553</td>\n",
       "      <td>-0.377866</td>\n",
       "      <td>-0.945723</td>\n",
       "      <td>0</td>\n",
       "    </tr>\n",
       "    <tr>\n",
       "      <th>3</th>\n",
       "      <td>0.546088</td>\n",
       "      <td>0.131415</td>\n",
       "      <td>-0.456387</td>\n",
       "      <td>-0.859553</td>\n",
       "      <td>-0.377866</td>\n",
       "      <td>-0.945723</td>\n",
       "      <td>0</td>\n",
       "    </tr>\n",
       "    <tr>\n",
       "      <th>4</th>\n",
       "      <td>-0.102987</td>\n",
       "      <td>-0.394994</td>\n",
       "      <td>-0.140816</td>\n",
       "      <td>0.979703</td>\n",
       "      <td>-0.377866</td>\n",
       "      <td>1.013566</td>\n",
       "      <td>0</td>\n",
       "    </tr>\n",
       "  </tbody>\n",
       "</table>\n",
       "</div>"
      ],
      "text/plain": [
       "       Col1      Col2      Col3      Col4      Col5      Col6  y\n",
       "0  0.230020  5.072578 -0.276061  0.832444 -0.377866  0.480322  0\n",
       "1  0.155491 -0.169390  0.670652 -0.859553 -0.377866 -0.945723  0\n",
       "2 -0.784415 -0.443654  5.674705 -0.859553 -0.377866 -0.945723  0\n",
       "3  0.546088  0.131415 -0.456387 -0.859553 -0.377866 -0.945723  0\n",
       "4 -0.102987 -0.394994 -0.140816  0.979703 -0.377866  1.013566  0"
      ]
     },
     "execution_count": 66,
     "metadata": {},
     "output_type": "execute_result"
    }
   ],
   "source": [
    "data.head()"
   ]
  },
  {
   "cell_type": "code",
   "execution_count": 67,
   "id": "8e43cae7-bae2-4513-8a6b-1d1fc1767200",
   "metadata": {},
   "outputs": [
    {
     "data": {
      "text/html": [
       "<div>\n",
       "<style scoped>\n",
       "    .dataframe tbody tr th:only-of-type {\n",
       "        vertical-align: middle;\n",
       "    }\n",
       "\n",
       "    .dataframe tbody tr th {\n",
       "        vertical-align: top;\n",
       "    }\n",
       "\n",
       "    .dataframe thead th {\n",
       "        text-align: right;\n",
       "    }\n",
       "</style>\n",
       "<table border=\"1\" class=\"dataframe\">\n",
       "  <thead>\n",
       "    <tr style=\"text-align: right;\">\n",
       "      <th></th>\n",
       "      <th>Col1</th>\n",
       "    </tr>\n",
       "    <tr>\n",
       "      <th>y</th>\n",
       "      <th></th>\n",
       "    </tr>\n",
       "  </thead>\n",
       "  <tbody>\n",
       "    <tr>\n",
       "      <th>0</th>\n",
       "      <td>10923</td>\n",
       "    </tr>\n",
       "    <tr>\n",
       "      <th>1</th>\n",
       "      <td>260</td>\n",
       "    </tr>\n",
       "  </tbody>\n",
       "</table>\n",
       "</div>"
      ],
      "text/plain": [
       "    Col1\n",
       "y       \n",
       "0  10923\n",
       "1    260"
      ]
     },
     "execution_count": 67,
     "metadata": {},
     "output_type": "execute_result"
    }
   ],
   "source": [
    "pd.pivot_table(data,\n",
    "             values = 'Col1',\n",
    "               index = 'y', \n",
    "              aggfunc = 'count')"
   ]
  },
  {
   "cell_type": "code",
   "execution_count": 68,
   "id": "67a6e1ef",
   "metadata": {},
   "outputs": [
    {
     "data": {
      "text/plain": [
       "(11183, 7)"
      ]
     },
     "execution_count": 68,
     "metadata": {},
     "output_type": "execute_result"
    }
   ],
   "source": [
    "data.shape"
   ]
  },
  {
   "cell_type": "markdown",
   "id": "3b46b74b-0c47-4f07-8281-04bd97f17ad5",
   "metadata": {
    "jp-MarkdownHeadingCollapsed": true,
    "tags": []
   },
   "source": [
    "### One-Class SVM linear"
   ]
  },
  {
   "cell_type": "code",
   "execution_count": 69,
   "id": "6c071ca8-e7ae-4f49-accc-84d61d9545b0",
   "metadata": {},
   "outputs": [],
   "source": [
    "features = data.drop(columns = ['y'])\n",
    "target = data['y']"
   ]
  },
  {
   "cell_type": "code",
   "execution_count": 70,
   "id": "2e769118-5fe8-4f6d-866d-6a9a4c903161",
   "metadata": {},
   "outputs": [],
   "source": [
    "min_max_scaler = MinMaxScaler(feature_range=(0, 1))\n",
    "x_train_scaled = min_max_scaler.fit_transform(features.copy())"
   ]
  },
  {
   "cell_type": "code",
   "execution_count": 71,
   "id": "d7f507b1-088a-413e-9e12-7aaf0d65415b",
   "metadata": {},
   "outputs": [
    {
     "name": "stdout",
     "output_type": "stream",
     "text": [
      "0.703125\n",
      "0.65625\n"
     ]
    }
   ],
   "source": [
    "start = time.process_time()\n",
    "\n",
    "model = OneClassSVM(kernel = 'linear', nu=0.1)\n",
    "model.fit(x_train_scaled)\n",
    "\n",
    "end = time.process_time()\n",
    "mammography_lin_oc_svm_train_time = end - start\n",
    "print(end - start)\n",
    "\n",
    "start = time.process_time()\n",
    "\n",
    "yhat = model.predict(x_train_scaled)\n",
    "y_scores = -model.decision_function(x_train_scaled)\n",
    "\n",
    "end = time.process_time()\n",
    "mammography_lin_oc_svm_test_time = end - start\n",
    "print(end - start)"
   ]
  },
  {
   "cell_type": "code",
   "execution_count": 72,
   "id": "c01123b2-9e1b-4645-8a18-38b1769a0586",
   "metadata": {},
   "outputs": [],
   "source": [
    "predictions = pd.DataFrame(yhat, columns = ['y_pred']).apply(def_outlier, axis = 1)"
   ]
  },
  {
   "cell_type": "code",
   "execution_count": 73,
   "id": "09500a4f-442d-4077-a064-03c0a19edb8a",
   "metadata": {},
   "outputs": [
    {
     "data": {
      "text/plain": [
       "array([[7601, 3322],\n",
       "       [ 253,    7]], dtype=int64)"
      ]
     },
     "execution_count": 73,
     "metadata": {},
     "output_type": "execute_result"
    }
   ],
   "source": [
    "confusion_matrix(target, predictions)"
   ]
  },
  {
   "cell_type": "code",
   "execution_count": 74,
   "id": "52215a67",
   "metadata": {},
   "outputs": [
    {
     "data": {
      "text/plain": [
       "0.36879361826491736"
      ]
     },
     "execution_count": 74,
     "metadata": {},
     "output_type": "execute_result"
    }
   ],
   "source": [
    "fpr, tpr, _ = metrics.roc_curve(target, y_scores)\n",
    "mammography_lin_oc_svm_auc = metrics.auc(fpr, tpr)\n",
    "metrics.auc(fpr, tpr)"
   ]
  },
  {
   "cell_type": "code",
   "execution_count": 75,
   "id": "6dbe7fc1-3429-43bb-b35c-c56eae3efce6",
   "metadata": {},
   "outputs": [
    {
     "name": "stdout",
     "output_type": "stream",
     "text": [
      "              precision    recall  f1-score   support\n",
      "\n",
      "           0       0.97      0.70      0.81     10923\n",
      "           1       0.00      0.03      0.00       260\n",
      "\n",
      "    accuracy                           0.68     11183\n",
      "   macro avg       0.48      0.36      0.41     11183\n",
      "weighted avg       0.95      0.68      0.79     11183\n",
      "\n"
     ]
    }
   ],
   "source": [
    "mammography_lin_oc_svm_report = classification_report(target, predictions, target_names = ['0','1'], output_dict = True)\n",
    "print(classification_report(target, predictions, target_names = ['0','1']))"
   ]
  },
  {
   "cell_type": "code",
   "execution_count": 76,
   "id": "66bae87d",
   "metadata": {},
   "outputs": [],
   "source": [
    "y_scores = np.nan_to_num(y_scores,posinf=1000000)"
   ]
  },
  {
   "cell_type": "code",
   "execution_count": 77,
   "id": "75ff76c6",
   "metadata": {},
   "outputs": [
    {
     "name": "stdout",
     "output_type": "stream",
     "text": [
      "0.030144151986319527\n"
     ]
    }
   ],
   "source": [
    "precision, recall, thresholds = precision_recall_curve(target, y_scores)\n",
    "mammography_ocsvm_lin_auc_precision_recall = metrics.auc(recall, precision)\n",
    "print(mammography_ocsvm_lin_auc_precision_recall)"
   ]
  },
  {
   "cell_type": "markdown",
   "id": "74377696-aba0-4a6a-b9f5-620f26843c9d",
   "metadata": {
    "jp-MarkdownHeadingCollapsed": true,
    "tags": []
   },
   "source": [
    "## Shuttle"
   ]
  },
  {
   "cell_type": "markdown",
   "id": "4ec1048a",
   "metadata": {},
   "source": [
    "**Dataset source**: http://odds.cs.stonybrook.edu/shuttle-dataset/ (data is transformed from .mat to .csv format)\n",
    "\n",
    "Shebuti Rayana (2016). ODDS Library [http://odds.cs.stonybrook.edu]. Stony Brook, NY: Stony Brook University, Department of Computer Science.\n",
    "\n",
    "**Additional sources:**\n",
    "\n",
    "Abe, Naoki, Bianca Zadrozny, and John Langford. “Outlier detection by active learning.” Proceedings of the 12th ACM SIGKDD international conference on Knowledge discovery and data mining. ACM, 2006.\n",
    "\n",
    "Liu, Fei Tony, Kai Ming Ting, and Zhi-Hua Zhou. “Isolation forest.” 2008 Eighth IEEE International Conference on Data Mining. IEEE, 2008.\n",
    "\n",
    "K. M. Ting, J. T. S. Chuan, and F. T. Liu. “Mass: A New Ranking Measure for Anomaly Detection.“, IEEE Transactions on Knowledge and Data Engineering, 2009.\n",
    "\n",
    "Kai Ming Ting, Guang-Tong Zhou, Fei Tony Liu & Tan Swee Chuan. (2010). Mass Estimation and Its Applications. Proceedings of The 16th ACM SIGKDD Conference on Knowledge Discovery and Data Mining 2010. pp. 989-998.\n",
    "\n",
    "Swee Chuan Tan, Kai Ming Ting & Fei Tony Liu. (2011). Fast Anomaly Detection for Streaming Data. Proceedings of the International Joint Conference on Artificial Intelligence 2011. pp.1151-1156."
   ]
  },
  {
   "cell_type": "code",
   "execution_count": 78,
   "id": "a424b386-3e5e-49d5-bf08-d4da0ac643d7",
   "metadata": {},
   "outputs": [],
   "source": [
    "data = pd.read_csv('./shuttle.csv', sep = ',')"
   ]
  },
  {
   "cell_type": "code",
   "execution_count": 79,
   "id": "b4ecddb9-b1c1-4601-a92b-8219448586d9",
   "metadata": {},
   "outputs": [
    {
     "data": {
      "text/html": [
       "<div>\n",
       "<style scoped>\n",
       "    .dataframe tbody tr th:only-of-type {\n",
       "        vertical-align: middle;\n",
       "    }\n",
       "\n",
       "    .dataframe tbody tr th {\n",
       "        vertical-align: top;\n",
       "    }\n",
       "\n",
       "    .dataframe thead th {\n",
       "        text-align: right;\n",
       "    }\n",
       "</style>\n",
       "<table border=\"1\" class=\"dataframe\">\n",
       "  <thead>\n",
       "    <tr style=\"text-align: right;\">\n",
       "      <th></th>\n",
       "      <th>Col1</th>\n",
       "      <th>Col2</th>\n",
       "      <th>Col3</th>\n",
       "      <th>Col4</th>\n",
       "      <th>Col5</th>\n",
       "      <th>Col6</th>\n",
       "      <th>Col7</th>\n",
       "      <th>Col8</th>\n",
       "      <th>Col9</th>\n",
       "      <th>y</th>\n",
       "    </tr>\n",
       "  </thead>\n",
       "  <tbody>\n",
       "    <tr>\n",
       "      <th>0</th>\n",
       "      <td>50</td>\n",
       "      <td>21</td>\n",
       "      <td>77</td>\n",
       "      <td>0</td>\n",
       "      <td>28</td>\n",
       "      <td>0</td>\n",
       "      <td>27</td>\n",
       "      <td>48</td>\n",
       "      <td>22</td>\n",
       "      <td>1</td>\n",
       "    </tr>\n",
       "    <tr>\n",
       "      <th>1</th>\n",
       "      <td>53</td>\n",
       "      <td>0</td>\n",
       "      <td>82</td>\n",
       "      <td>0</td>\n",
       "      <td>52</td>\n",
       "      <td>-5</td>\n",
       "      <td>29</td>\n",
       "      <td>30</td>\n",
       "      <td>2</td>\n",
       "      <td>0</td>\n",
       "    </tr>\n",
       "    <tr>\n",
       "      <th>2</th>\n",
       "      <td>37</td>\n",
       "      <td>0</td>\n",
       "      <td>76</td>\n",
       "      <td>0</td>\n",
       "      <td>28</td>\n",
       "      <td>18</td>\n",
       "      <td>40</td>\n",
       "      <td>48</td>\n",
       "      <td>8</td>\n",
       "      <td>0</td>\n",
       "    </tr>\n",
       "    <tr>\n",
       "      <th>3</th>\n",
       "      <td>37</td>\n",
       "      <td>0</td>\n",
       "      <td>79</td>\n",
       "      <td>0</td>\n",
       "      <td>34</td>\n",
       "      <td>-26</td>\n",
       "      <td>43</td>\n",
       "      <td>46</td>\n",
       "      <td>2</td>\n",
       "      <td>0</td>\n",
       "    </tr>\n",
       "    <tr>\n",
       "      <th>4</th>\n",
       "      <td>85</td>\n",
       "      <td>0</td>\n",
       "      <td>88</td>\n",
       "      <td>-4</td>\n",
       "      <td>6</td>\n",
       "      <td>1</td>\n",
       "      <td>3</td>\n",
       "      <td>83</td>\n",
       "      <td>80</td>\n",
       "      <td>1</td>\n",
       "    </tr>\n",
       "  </tbody>\n",
       "</table>\n",
       "</div>"
      ],
      "text/plain": [
       "   Col1  Col2  Col3  Col4  Col5  Col6  Col7  Col8  Col9  y\n",
       "0    50    21    77     0    28     0    27    48    22  1\n",
       "1    53     0    82     0    52    -5    29    30     2  0\n",
       "2    37     0    76     0    28    18    40    48     8  0\n",
       "3    37     0    79     0    34   -26    43    46     2  0\n",
       "4    85     0    88    -4     6     1     3    83    80  1"
      ]
     },
     "execution_count": 79,
     "metadata": {},
     "output_type": "execute_result"
    }
   ],
   "source": [
    "data.head()"
   ]
  },
  {
   "cell_type": "code",
   "execution_count": 80,
   "id": "94d4c917",
   "metadata": {},
   "outputs": [
    {
     "data": {
      "text/plain": [
       "(49097, 10)"
      ]
     },
     "execution_count": 80,
     "metadata": {},
     "output_type": "execute_result"
    }
   ],
   "source": [
    "data.shape"
   ]
  },
  {
   "cell_type": "code",
   "execution_count": 81,
   "id": "f09c4dcc-609d-4c38-b7ae-69187b451e02",
   "metadata": {},
   "outputs": [
    {
     "data": {
      "text/html": [
       "<div>\n",
       "<style scoped>\n",
       "    .dataframe tbody tr th:only-of-type {\n",
       "        vertical-align: middle;\n",
       "    }\n",
       "\n",
       "    .dataframe tbody tr th {\n",
       "        vertical-align: top;\n",
       "    }\n",
       "\n",
       "    .dataframe thead th {\n",
       "        text-align: right;\n",
       "    }\n",
       "</style>\n",
       "<table border=\"1\" class=\"dataframe\">\n",
       "  <thead>\n",
       "    <tr style=\"text-align: right;\">\n",
       "      <th></th>\n",
       "      <th>Col1</th>\n",
       "    </tr>\n",
       "    <tr>\n",
       "      <th>y</th>\n",
       "      <th></th>\n",
       "    </tr>\n",
       "  </thead>\n",
       "  <tbody>\n",
       "    <tr>\n",
       "      <th>0</th>\n",
       "      <td>45586</td>\n",
       "    </tr>\n",
       "    <tr>\n",
       "      <th>1</th>\n",
       "      <td>3511</td>\n",
       "    </tr>\n",
       "  </tbody>\n",
       "</table>\n",
       "</div>"
      ],
      "text/plain": [
       "    Col1\n",
       "y       \n",
       "0  45586\n",
       "1   3511"
      ]
     },
     "execution_count": 81,
     "metadata": {},
     "output_type": "execute_result"
    }
   ],
   "source": [
    "pd.pivot_table(data,\n",
    "             values = 'Col1',\n",
    "               index = 'y', \n",
    "              aggfunc = 'count')"
   ]
  },
  {
   "cell_type": "markdown",
   "id": "98f170f0-7a70-494f-8bb2-b438a506e70e",
   "metadata": {
    "jp-MarkdownHeadingCollapsed": true,
    "tags": []
   },
   "source": [
    "### One-Class SVM linear"
   ]
  },
  {
   "cell_type": "code",
   "execution_count": 82,
   "id": "ecb7a231-438f-4260-a756-3cde56011283",
   "metadata": {},
   "outputs": [],
   "source": [
    "features = data.drop(columns = ['y'])\n",
    "target = data['y']"
   ]
  },
  {
   "cell_type": "code",
   "execution_count": 83,
   "id": "79be65b9-9eac-45fc-a02c-6e74a43bbb1e",
   "metadata": {},
   "outputs": [],
   "source": [
    "min_max_scaler = MinMaxScaler(feature_range=(0, 1))\n",
    "x_train_scaled = min_max_scaler.fit_transform(features.copy())"
   ]
  },
  {
   "cell_type": "code",
   "execution_count": 84,
   "id": "f36eaaa1-be27-470d-a45b-5462d0c08e36",
   "metadata": {},
   "outputs": [
    {
     "name": "stdout",
     "output_type": "stream",
     "text": [
      "21.75\n",
      "12.578125\n"
     ]
    }
   ],
   "source": [
    "start = time.process_time()\n",
    "\n",
    "model = OneClassSVM(kernel = 'linear', nu=0.1)\n",
    "model.fit(x_train_scaled)\n",
    "\n",
    "end = time.process_time()\n",
    "shuttle_lin_oc_svm_train_time = end - start\n",
    "print(end - start)\n",
    "\n",
    "start = time.process_time()\n",
    "\n",
    "yhat = model.predict(x_train_scaled)\n",
    "y_scores = -model.decision_function(x_train_scaled)\n",
    "\n",
    "end = time.process_time()\n",
    "shuttle_lin_oc_svm_test_time = end - start\n",
    "print(end - start)"
   ]
  },
  {
   "cell_type": "code",
   "execution_count": 85,
   "id": "b4cee2b8-6ed7-44cc-ae0a-ee193ef8b502",
   "metadata": {},
   "outputs": [],
   "source": [
    "predictions = pd.DataFrame(yhat, columns = ['y_pred']).apply(def_outlier, axis = 1)"
   ]
  },
  {
   "cell_type": "code",
   "execution_count": 86,
   "id": "46881355-347d-4762-9e02-03e45b5a4c5a",
   "metadata": {},
   "outputs": [
    {
     "data": {
      "text/plain": [
       "array([[40699,  4887],\n",
       "       [ 3489,    22]], dtype=int64)"
      ]
     },
     "execution_count": 86,
     "metadata": {},
     "output_type": "execute_result"
    }
   ],
   "source": [
    "confusion_matrix(target, predictions)"
   ]
  },
  {
   "cell_type": "code",
   "execution_count": 87,
   "id": "1a2ebcd7",
   "metadata": {},
   "outputs": [
    {
     "data": {
      "text/plain": [
       "0.16521689396736866"
      ]
     },
     "execution_count": 87,
     "metadata": {},
     "output_type": "execute_result"
    }
   ],
   "source": [
    "fpr, tpr, _ = metrics.roc_curve(target, y_scores)\n",
    "shuttle_lin_oc_svm_auc = metrics.auc(fpr, tpr)\n",
    "metrics.auc(fpr, tpr)"
   ]
  },
  {
   "cell_type": "code",
   "execution_count": 88,
   "id": "144e7542-16aa-4aeb-a23e-bbafb48310b1",
   "metadata": {},
   "outputs": [
    {
     "name": "stdout",
     "output_type": "stream",
     "text": [
      "              precision    recall  f1-score   support\n",
      "\n",
      "           0       0.92      0.89      0.91     45586\n",
      "           1       0.00      0.01      0.01      3511\n",
      "\n",
      "    accuracy                           0.83     49097\n",
      "   macro avg       0.46      0.45      0.46     49097\n",
      "weighted avg       0.86      0.83      0.84     49097\n",
      "\n"
     ]
    }
   ],
   "source": [
    "shuttle_lin_oc_svm_report = classification_report(target, predictions, target_names = ['0','1'], output_dict = True)\n",
    "print(classification_report(target, predictions, target_names = ['0','1']))"
   ]
  },
  {
   "cell_type": "code",
   "execution_count": 89,
   "id": "a1ada634",
   "metadata": {},
   "outputs": [
    {
     "name": "stdout",
     "output_type": "stream",
     "text": [
      "0.043863083381330895\n"
     ]
    }
   ],
   "source": [
    "precision, recall, thresholds = precision_recall_curve(target, y_scores)\n",
    "shuttle_ocsvm_lin_auc_precision_recall = metrics.auc(recall, precision)\n",
    "print(shuttle_ocsvm_lin_auc_precision_recall)"
   ]
  },
  {
   "cell_type": "markdown",
   "id": "fe5ee8ce-7b98-40ba-935f-2a1f91d141c3",
   "metadata": {
    "jp-MarkdownHeadingCollapsed": true,
    "tags": []
   },
   "source": [
    "## mnist"
   ]
  },
  {
   "cell_type": "markdown",
   "id": "42b1ce28",
   "metadata": {},
   "source": [
    "**Dataset source**: http://odds.cs.stonybrook.edu/mnist-dataset/ (data is transformed from .mat to .csv format)\n",
    "\n",
    "Shebuti Rayana (2016). ODDS Library [http://odds.cs.stonybrook.edu]. Stony Brook, NY: Stony Brook University, Department of Computer Science.\n",
    "\n",
    "**Additional sources:**\n",
    "\n",
    "Bandaragoda, Tharindu R., et al. “Efficient Anomaly Detection by Isolation Using Nearest Neighbour Ensemble.” 2014 IEEE International Conference on Data Mining Workshop. IEEE, 2014."
   ]
  },
  {
   "cell_type": "code",
   "execution_count": 90,
   "id": "a092626d-fd14-4efd-848b-04c865df948b",
   "metadata": {},
   "outputs": [],
   "source": [
    "data = pd.read_csv('./mnist.csv')"
   ]
  },
  {
   "cell_type": "code",
   "execution_count": 91,
   "id": "dce30806-daa4-4424-9d34-5590b12cc572",
   "metadata": {},
   "outputs": [],
   "source": [
    "data = data.drop(columns = ['Col1','Col4', 'Col7', 'Col22', 'Col27', 'Col29', 'Col38', 'Col41', 'Col51', 'Col53', 'Col54', 'Col61', 'Col62', 'Col71', 'Col73', 'Col79', 'Col87', 'Col88', 'Col89', 'Col90',\n",
    "'Col92', 'Col100'])"
   ]
  },
  {
   "cell_type": "code",
   "execution_count": 92,
   "id": "a977b2ca-e0c7-4440-8019-ecccfafd0794",
   "metadata": {},
   "outputs": [
    {
     "data": {
      "text/html": [
       "<div>\n",
       "<style scoped>\n",
       "    .dataframe tbody tr th:only-of-type {\n",
       "        vertical-align: middle;\n",
       "    }\n",
       "\n",
       "    .dataframe tbody tr th {\n",
       "        vertical-align: top;\n",
       "    }\n",
       "\n",
       "    .dataframe thead th {\n",
       "        text-align: right;\n",
       "    }\n",
       "</style>\n",
       "<table border=\"1\" class=\"dataframe\">\n",
       "  <thead>\n",
       "    <tr style=\"text-align: right;\">\n",
       "      <th></th>\n",
       "      <th>Col2</th>\n",
       "    </tr>\n",
       "    <tr>\n",
       "      <th>y</th>\n",
       "      <th></th>\n",
       "    </tr>\n",
       "  </thead>\n",
       "  <tbody>\n",
       "    <tr>\n",
       "      <th>0</th>\n",
       "      <td>6903</td>\n",
       "    </tr>\n",
       "    <tr>\n",
       "      <th>1</th>\n",
       "      <td>700</td>\n",
       "    </tr>\n",
       "  </tbody>\n",
       "</table>\n",
       "</div>"
      ],
      "text/plain": [
       "   Col2\n",
       "y      \n",
       "0  6903\n",
       "1   700"
      ]
     },
     "execution_count": 92,
     "metadata": {},
     "output_type": "execute_result"
    }
   ],
   "source": [
    "pd.pivot_table(data,\n",
    "             values = 'Col2',\n",
    "               index = 'y', \n",
    "              aggfunc = 'count')"
   ]
  },
  {
   "cell_type": "code",
   "execution_count": 93,
   "id": "67c2f6ad-e7a7-41df-81e1-5baf06f853d9",
   "metadata": {},
   "outputs": [
    {
     "data": {
      "text/plain": [
       "(7603, 79)"
      ]
     },
     "execution_count": 93,
     "metadata": {},
     "output_type": "execute_result"
    }
   ],
   "source": [
    "data.shape"
   ]
  },
  {
   "cell_type": "code",
   "execution_count": 94,
   "id": "d6dc2a2e-c4ab-404c-bf0b-d549f2b7c4ee",
   "metadata": {},
   "outputs": [
    {
     "data": {
      "text/html": [
       "<div>\n",
       "<style scoped>\n",
       "    .dataframe tbody tr th:only-of-type {\n",
       "        vertical-align: middle;\n",
       "    }\n",
       "\n",
       "    .dataframe tbody tr th {\n",
       "        vertical-align: top;\n",
       "    }\n",
       "\n",
       "    .dataframe thead th {\n",
       "        text-align: right;\n",
       "    }\n",
       "</style>\n",
       "<table border=\"1\" class=\"dataframe\">\n",
       "  <thead>\n",
       "    <tr style=\"text-align: right;\">\n",
       "      <th></th>\n",
       "      <th>Col2</th>\n",
       "      <th>Col3</th>\n",
       "      <th>Col5</th>\n",
       "      <th>Col6</th>\n",
       "      <th>Col8</th>\n",
       "      <th>Col9</th>\n",
       "      <th>Col10</th>\n",
       "      <th>Col11</th>\n",
       "      <th>Col12</th>\n",
       "      <th>Col13</th>\n",
       "      <th>...</th>\n",
       "      <th>Col86</th>\n",
       "      <th>Col91</th>\n",
       "      <th>Col93</th>\n",
       "      <th>Col94</th>\n",
       "      <th>Col95</th>\n",
       "      <th>Col96</th>\n",
       "      <th>Col97</th>\n",
       "      <th>Col98</th>\n",
       "      <th>Col99</th>\n",
       "      <th>y</th>\n",
       "    </tr>\n",
       "  </thead>\n",
       "  <tbody>\n",
       "    <tr>\n",
       "      <th>0</th>\n",
       "      <td>-73.804153</td>\n",
       "      <td>198.205963</td>\n",
       "      <td>-13.124617</td>\n",
       "      <td>-1.1501</td>\n",
       "      <td>-0.141633</td>\n",
       "      <td>179.249390</td>\n",
       "      <td>114.661163</td>\n",
       "      <td>-80.736702</td>\n",
       "      <td>130.659348</td>\n",
       "      <td>162.649841</td>\n",
       "      <td>...</td>\n",
       "      <td>-15.392716</td>\n",
       "      <td>188.055649</td>\n",
       "      <td>-4.469967</td>\n",
       "      <td>158.381409</td>\n",
       "      <td>-137.100632</td>\n",
       "      <td>27.131416</td>\n",
       "      <td>-2.274633</td>\n",
       "      <td>-0.00065</td>\n",
       "      <td>-12.351267</td>\n",
       "      <td>0</td>\n",
       "    </tr>\n",
       "    <tr>\n",
       "      <th>1</th>\n",
       "      <td>-73.804153</td>\n",
       "      <td>197.205963</td>\n",
       "      <td>-13.124617</td>\n",
       "      <td>-1.1501</td>\n",
       "      <td>-0.141633</td>\n",
       "      <td>179.249390</td>\n",
       "      <td>-44.338833</td>\n",
       "      <td>-80.736702</td>\n",
       "      <td>128.659348</td>\n",
       "      <td>190.649841</td>\n",
       "      <td>...</td>\n",
       "      <td>-15.392716</td>\n",
       "      <td>186.055649</td>\n",
       "      <td>-4.469967</td>\n",
       "      <td>123.381416</td>\n",
       "      <td>-137.100632</td>\n",
       "      <td>157.131409</td>\n",
       "      <td>-2.274633</td>\n",
       "      <td>-0.00065</td>\n",
       "      <td>-12.351267</td>\n",
       "      <td>0</td>\n",
       "    </tr>\n",
       "    <tr>\n",
       "      <th>2</th>\n",
       "      <td>-73.804153</td>\n",
       "      <td>-53.794033</td>\n",
       "      <td>-13.124617</td>\n",
       "      <td>-1.1501</td>\n",
       "      <td>-0.141633</td>\n",
       "      <td>-73.750618</td>\n",
       "      <td>-44.338833</td>\n",
       "      <td>170.263306</td>\n",
       "      <td>130.659348</td>\n",
       "      <td>46.649849</td>\n",
       "      <td>...</td>\n",
       "      <td>-15.392716</td>\n",
       "      <td>188.055649</td>\n",
       "      <td>-4.469967</td>\n",
       "      <td>157.381409</td>\n",
       "      <td>-137.100632</td>\n",
       "      <td>-93.868584</td>\n",
       "      <td>-2.274633</td>\n",
       "      <td>-0.00065</td>\n",
       "      <td>-12.351267</td>\n",
       "      <td>0</td>\n",
       "    </tr>\n",
       "    <tr>\n",
       "      <th>3</th>\n",
       "      <td>-73.804153</td>\n",
       "      <td>86.205963</td>\n",
       "      <td>-13.124617</td>\n",
       "      <td>-1.1501</td>\n",
       "      <td>-0.141633</td>\n",
       "      <td>76.249382</td>\n",
       "      <td>208.661163</td>\n",
       "      <td>107.263298</td>\n",
       "      <td>130.659348</td>\n",
       "      <td>190.649841</td>\n",
       "      <td>...</td>\n",
       "      <td>-15.392716</td>\n",
       "      <td>188.055649</td>\n",
       "      <td>-4.469967</td>\n",
       "      <td>157.381409</td>\n",
       "      <td>-137.100632</td>\n",
       "      <td>74.131416</td>\n",
       "      <td>-2.274633</td>\n",
       "      <td>-0.00065</td>\n",
       "      <td>-12.351267</td>\n",
       "      <td>0</td>\n",
       "    </tr>\n",
       "    <tr>\n",
       "      <th>4</th>\n",
       "      <td>-27.804153</td>\n",
       "      <td>199.205963</td>\n",
       "      <td>-13.124617</td>\n",
       "      <td>-1.1501</td>\n",
       "      <td>-0.141633</td>\n",
       "      <td>179.249390</td>\n",
       "      <td>-44.338833</td>\n",
       "      <td>-80.736702</td>\n",
       "      <td>130.659348</td>\n",
       "      <td>91.649849</td>\n",
       "      <td>...</td>\n",
       "      <td>-15.392716</td>\n",
       "      <td>188.055649</td>\n",
       "      <td>-4.469967</td>\n",
       "      <td>22.381416</td>\n",
       "      <td>-137.100632</td>\n",
       "      <td>159.131409</td>\n",
       "      <td>-2.274633</td>\n",
       "      <td>-0.00065</td>\n",
       "      <td>-12.351267</td>\n",
       "      <td>0</td>\n",
       "    </tr>\n",
       "  </tbody>\n",
       "</table>\n",
       "<p>5 rows × 79 columns</p>\n",
       "</div>"
      ],
      "text/plain": [
       "        Col2        Col3       Col5    Col6      Col8        Col9       Col10  \\\n",
       "0 -73.804153  198.205963 -13.124617 -1.1501 -0.141633  179.249390  114.661163   \n",
       "1 -73.804153  197.205963 -13.124617 -1.1501 -0.141633  179.249390  -44.338833   \n",
       "2 -73.804153  -53.794033 -13.124617 -1.1501 -0.141633  -73.750618  -44.338833   \n",
       "3 -73.804153   86.205963 -13.124617 -1.1501 -0.141633   76.249382  208.661163   \n",
       "4 -27.804153  199.205963 -13.124617 -1.1501 -0.141633  179.249390  -44.338833   \n",
       "\n",
       "        Col11       Col12       Col13  ...      Col86       Col91     Col93  \\\n",
       "0  -80.736702  130.659348  162.649841  ... -15.392716  188.055649 -4.469967   \n",
       "1  -80.736702  128.659348  190.649841  ... -15.392716  186.055649 -4.469967   \n",
       "2  170.263306  130.659348   46.649849  ... -15.392716  188.055649 -4.469967   \n",
       "3  107.263298  130.659348  190.649841  ... -15.392716  188.055649 -4.469967   \n",
       "4  -80.736702  130.659348   91.649849  ... -15.392716  188.055649 -4.469967   \n",
       "\n",
       "        Col94       Col95       Col96     Col97    Col98      Col99  y  \n",
       "0  158.381409 -137.100632   27.131416 -2.274633 -0.00065 -12.351267  0  \n",
       "1  123.381416 -137.100632  157.131409 -2.274633 -0.00065 -12.351267  0  \n",
       "2  157.381409 -137.100632  -93.868584 -2.274633 -0.00065 -12.351267  0  \n",
       "3  157.381409 -137.100632   74.131416 -2.274633 -0.00065 -12.351267  0  \n",
       "4   22.381416 -137.100632  159.131409 -2.274633 -0.00065 -12.351267  0  \n",
       "\n",
       "[5 rows x 79 columns]"
      ]
     },
     "execution_count": 94,
     "metadata": {},
     "output_type": "execute_result"
    }
   ],
   "source": [
    "data.head()"
   ]
  },
  {
   "cell_type": "markdown",
   "id": "606d9770-cfe7-4733-b064-20af37de9c0a",
   "metadata": {
    "jp-MarkdownHeadingCollapsed": true,
    "tags": []
   },
   "source": [
    "### One-Class SVM linear"
   ]
  },
  {
   "cell_type": "code",
   "execution_count": 95,
   "id": "2442917a-8557-4a6e-a4cb-c1f1a15baf9d",
   "metadata": {},
   "outputs": [],
   "source": [
    "features = data.drop(columns = ['y'])\n",
    "target = data['y']"
   ]
  },
  {
   "cell_type": "code",
   "execution_count": 96,
   "id": "f0ebb461-7830-4ba6-842a-f1077cec511f",
   "metadata": {},
   "outputs": [],
   "source": [
    "min_max_scaler = MinMaxScaler(feature_range=(0, 1))\n",
    "x_train_scaled = min_max_scaler.fit_transform(features.copy())"
   ]
  },
  {
   "cell_type": "code",
   "execution_count": 97,
   "id": "99af3e46-c32a-40e2-be69-0bc15d29adea",
   "metadata": {},
   "outputs": [
    {
     "name": "stdout",
     "output_type": "stream",
     "text": [
      "0.53125\n",
      "0.484375\n"
     ]
    }
   ],
   "source": [
    "start = time.process_time()\n",
    "\n",
    "model = OneClassSVM(kernel = 'linear', nu=0.1)\n",
    "model.fit(x_train_scaled)\n",
    "\n",
    "end = time.process_time()\n",
    "mnist_lin_oc_svm_train_time = end - start\n",
    "print(end - start)\n",
    "\n",
    "start = time.process_time()\n",
    "\n",
    "yhat = model.predict(x_train_scaled)\n",
    "y_scores = -model.decision_function(x_train_scaled)\n",
    "\n",
    "end = time.process_time()\n",
    "mnist_lin_oc_svm_test_time = end - start\n",
    "print(end - start)"
   ]
  },
  {
   "cell_type": "code",
   "execution_count": 98,
   "id": "92d02716-00a9-4b0f-b1a3-8b7b28337e37",
   "metadata": {},
   "outputs": [],
   "source": [
    "predictions = pd.DataFrame(yhat, columns = ['y_pred']).apply(def_outlier, axis = 1)"
   ]
  },
  {
   "cell_type": "code",
   "execution_count": 99,
   "id": "72f25245-675d-40c7-94ac-47e657a93f02",
   "metadata": {},
   "outputs": [
    {
     "data": {
      "text/plain": [
       "array([[6409,  494],\n",
       "       [ 434,  266]], dtype=int64)"
      ]
     },
     "execution_count": 99,
     "metadata": {},
     "output_type": "execute_result"
    }
   ],
   "source": [
    "confusion_matrix(target, predictions)"
   ]
  },
  {
   "cell_type": "code",
   "execution_count": 100,
   "id": "f7358678",
   "metadata": {},
   "outputs": [
    {
     "data": {
      "text/plain": [
       "0.8008114484385672"
      ]
     },
     "execution_count": 100,
     "metadata": {},
     "output_type": "execute_result"
    }
   ],
   "source": [
    "fpr, tpr, _ = metrics.roc_curve(target, y_scores)\n",
    "mnist_lin_oc_svm_auc = metrics.auc(fpr, tpr)\n",
    "metrics.auc(fpr, tpr)"
   ]
  },
  {
   "cell_type": "code",
   "execution_count": 101,
   "id": "b0b91eb6-bca7-4b19-a769-08f1ff35f3d2",
   "metadata": {},
   "outputs": [
    {
     "name": "stdout",
     "output_type": "stream",
     "text": [
      "              precision    recall  f1-score   support\n",
      "\n",
      "           0       0.94      0.93      0.93      6903\n",
      "           1       0.35      0.38      0.36       700\n",
      "\n",
      "    accuracy                           0.88      7603\n",
      "   macro avg       0.64      0.65      0.65      7603\n",
      "weighted avg       0.88      0.88      0.88      7603\n",
      "\n"
     ]
    }
   ],
   "source": [
    "mnist_lin_oc_svm_report = classification_report(target, predictions, target_names = ['0','1'], output_dict = True)\n",
    "print(classification_report(target, predictions, target_names = ['0','1']))"
   ]
  },
  {
   "cell_type": "code",
   "execution_count": 102,
   "id": "c63dc7b9",
   "metadata": {},
   "outputs": [
    {
     "name": "stdout",
     "output_type": "stream",
     "text": [
      "0.32738039362316806\n"
     ]
    }
   ],
   "source": [
    "precision, recall, thresholds = precision_recall_curve(target, y_scores)\n",
    "mnist_ocsvm_lin_auc_precision_recall = metrics.auc(recall, precision)\n",
    "print(mnist_ocsvm_lin_auc_precision_recall)"
   ]
  },
  {
   "cell_type": "markdown",
   "id": "64ec8246-a429-4e4e-b3af-68198a4ed70f",
   "metadata": {
    "jp-MarkdownHeadingCollapsed": true,
    "tags": []
   },
   "source": [
    "## vowels"
   ]
  },
  {
   "cell_type": "markdown",
   "id": "fbe072f6",
   "metadata": {},
   "source": [
    "**Dataset source**: http://odds.cs.stonybrook.edu/japanese-vowels-data/\n",
    "\n",
    "Shebuti Rayana (2016). ODDS Library [http://odds.cs.stonybrook.edu]. Stony Brook, NY: Stony Brook University, Department of Computer Science.\n",
    "\n",
    "**Additional sources:**\n",
    "\n",
    "C. C. Aggarwal and S. Sathe, “Theoretical foundations and algorithms for outlier ensembles.” ACM SIGKDD Explorations Newsletter, vol. 17, no. 1, pp. 24–47, 2015.\n",
    "\n",
    "Saket Sathe and Charu C. Aggarwal. LODES: Local Density meets Spectral Outlier Detection. SIAM Conference on Data Mining, 2016."
   ]
  },
  {
   "cell_type": "code",
   "execution_count": 103,
   "id": "bc358b13-ecf1-4e7b-9c7b-84c08eacc450",
   "metadata": {},
   "outputs": [],
   "source": [
    "data = pd.read_csv('./vowels.csv')"
   ]
  },
  {
   "cell_type": "code",
   "execution_count": 104,
   "id": "4c61a6b6-97f1-4bee-8df8-c505f0bfc266",
   "metadata": {},
   "outputs": [
    {
     "data": {
      "text/html": [
       "<div>\n",
       "<style scoped>\n",
       "    .dataframe tbody tr th:only-of-type {\n",
       "        vertical-align: middle;\n",
       "    }\n",
       "\n",
       "    .dataframe tbody tr th {\n",
       "        vertical-align: top;\n",
       "    }\n",
       "\n",
       "    .dataframe thead th {\n",
       "        text-align: right;\n",
       "    }\n",
       "</style>\n",
       "<table border=\"1\" class=\"dataframe\">\n",
       "  <thead>\n",
       "    <tr style=\"text-align: right;\">\n",
       "      <th></th>\n",
       "      <th>Col1</th>\n",
       "    </tr>\n",
       "    <tr>\n",
       "      <th>y</th>\n",
       "      <th></th>\n",
       "    </tr>\n",
       "  </thead>\n",
       "  <tbody>\n",
       "    <tr>\n",
       "      <th>0.0</th>\n",
       "      <td>1406</td>\n",
       "    </tr>\n",
       "    <tr>\n",
       "      <th>1.0</th>\n",
       "      <td>50</td>\n",
       "    </tr>\n",
       "  </tbody>\n",
       "</table>\n",
       "</div>"
      ],
      "text/plain": [
       "     Col1\n",
       "y        \n",
       "0.0  1406\n",
       "1.0    50"
      ]
     },
     "execution_count": 104,
     "metadata": {},
     "output_type": "execute_result"
    }
   ],
   "source": [
    "pd.pivot_table(data,\n",
    "             values = 'Col1',\n",
    "               index = 'y', \n",
    "              aggfunc = 'count')"
   ]
  },
  {
   "cell_type": "code",
   "execution_count": 105,
   "id": "26c84d3e-0b54-474e-a4c1-a297b66a81bb",
   "metadata": {},
   "outputs": [
    {
     "data": {
      "text/plain": [
       "(1456, 13)"
      ]
     },
     "execution_count": 105,
     "metadata": {},
     "output_type": "execute_result"
    }
   ],
   "source": [
    "data.shape"
   ]
  },
  {
   "cell_type": "code",
   "execution_count": 106,
   "id": "257280ea-de3b-4e4e-aad9-3565b8a2a7a3",
   "metadata": {},
   "outputs": [
    {
     "data": {
      "text/html": [
       "<div>\n",
       "<style scoped>\n",
       "    .dataframe tbody tr th:only-of-type {\n",
       "        vertical-align: middle;\n",
       "    }\n",
       "\n",
       "    .dataframe tbody tr th {\n",
       "        vertical-align: top;\n",
       "    }\n",
       "\n",
       "    .dataframe thead th {\n",
       "        text-align: right;\n",
       "    }\n",
       "</style>\n",
       "<table border=\"1\" class=\"dataframe\">\n",
       "  <thead>\n",
       "    <tr style=\"text-align: right;\">\n",
       "      <th></th>\n",
       "      <th>Col1</th>\n",
       "      <th>Col2</th>\n",
       "      <th>Col3</th>\n",
       "      <th>Col4</th>\n",
       "      <th>Col5</th>\n",
       "      <th>Col6</th>\n",
       "      <th>Col7</th>\n",
       "      <th>Col8</th>\n",
       "      <th>Col9</th>\n",
       "      <th>Col10</th>\n",
       "      <th>Col11</th>\n",
       "      <th>Col12</th>\n",
       "      <th>y</th>\n",
       "    </tr>\n",
       "  </thead>\n",
       "  <tbody>\n",
       "    <tr>\n",
       "      <th>0</th>\n",
       "      <td>0.580469</td>\n",
       "      <td>-0.902534</td>\n",
       "      <td>0.617899</td>\n",
       "      <td>-0.997942</td>\n",
       "      <td>-2.463799</td>\n",
       "      <td>-0.846455</td>\n",
       "      <td>2.349849</td>\n",
       "      <td>0.375400</td>\n",
       "      <td>-0.649334</td>\n",
       "      <td>1.604637</td>\n",
       "      <td>-0.623060</td>\n",
       "      <td>-0.383125</td>\n",
       "      <td>0.0</td>\n",
       "    </tr>\n",
       "    <tr>\n",
       "      <th>1</th>\n",
       "      <td>0.784375</td>\n",
       "      <td>-1.077366</td>\n",
       "      <td>0.615781</td>\n",
       "      <td>-0.921911</td>\n",
       "      <td>-2.388553</td>\n",
       "      <td>-0.638047</td>\n",
       "      <td>2.106684</td>\n",
       "      <td>0.361018</td>\n",
       "      <td>-0.714317</td>\n",
       "      <td>1.260236</td>\n",
       "      <td>-0.423339</td>\n",
       "      <td>-0.287791</td>\n",
       "      <td>0.0</td>\n",
       "    </tr>\n",
       "    <tr>\n",
       "      <th>2</th>\n",
       "      <td>0.791292</td>\n",
       "      <td>-1.086242</td>\n",
       "      <td>0.669773</td>\n",
       "      <td>-0.806112</td>\n",
       "      <td>-2.260781</td>\n",
       "      <td>-0.538491</td>\n",
       "      <td>2.053282</td>\n",
       "      <td>0.266492</td>\n",
       "      <td>-0.842815</td>\n",
       "      <td>1.081797</td>\n",
       "      <td>-0.267201</td>\n",
       "      <td>-0.172203</td>\n",
       "      <td>0.0</td>\n",
       "    </tr>\n",
       "    <tr>\n",
       "      <th>3</th>\n",
       "      <td>1.217306</td>\n",
       "      <td>-1.083425</td>\n",
       "      <td>0.855483</td>\n",
       "      <td>-0.724879</td>\n",
       "      <td>-2.155552</td>\n",
       "      <td>-0.101879</td>\n",
       "      <td>1.768597</td>\n",
       "      <td>0.303151</td>\n",
       "      <td>-1.044710</td>\n",
       "      <td>0.655290</td>\n",
       "      <td>0.214298</td>\n",
       "      <td>-0.341840</td>\n",
       "      <td>0.0</td>\n",
       "    </tr>\n",
       "    <tr>\n",
       "      <th>4</th>\n",
       "      <td>1.065352</td>\n",
       "      <td>-1.030178</td>\n",
       "      <td>0.773297</td>\n",
       "      <td>-0.452289</td>\n",
       "      <td>-1.955907</td>\n",
       "      <td>0.248205</td>\n",
       "      <td>1.530474</td>\n",
       "      <td>0.253740</td>\n",
       "      <td>-0.968961</td>\n",
       "      <td>-0.208287</td>\n",
       "      <td>0.331578</td>\n",
       "      <td>0.007288</td>\n",
       "      <td>0.0</td>\n",
       "    </tr>\n",
       "  </tbody>\n",
       "</table>\n",
       "</div>"
      ],
      "text/plain": [
       "       Col1      Col2      Col3      Col4      Col5      Col6      Col7  \\\n",
       "0  0.580469 -0.902534  0.617899 -0.997942 -2.463799 -0.846455  2.349849   \n",
       "1  0.784375 -1.077366  0.615781 -0.921911 -2.388553 -0.638047  2.106684   \n",
       "2  0.791292 -1.086242  0.669773 -0.806112 -2.260781 -0.538491  2.053282   \n",
       "3  1.217306 -1.083425  0.855483 -0.724879 -2.155552 -0.101879  1.768597   \n",
       "4  1.065352 -1.030178  0.773297 -0.452289 -1.955907  0.248205  1.530474   \n",
       "\n",
       "       Col8      Col9     Col10     Col11     Col12    y  \n",
       "0  0.375400 -0.649334  1.604637 -0.623060 -0.383125  0.0  \n",
       "1  0.361018 -0.714317  1.260236 -0.423339 -0.287791  0.0  \n",
       "2  0.266492 -0.842815  1.081797 -0.267201 -0.172203  0.0  \n",
       "3  0.303151 -1.044710  0.655290  0.214298 -0.341840  0.0  \n",
       "4  0.253740 -0.968961 -0.208287  0.331578  0.007288  0.0  "
      ]
     },
     "execution_count": 106,
     "metadata": {},
     "output_type": "execute_result"
    }
   ],
   "source": [
    "data.head()"
   ]
  },
  {
   "cell_type": "markdown",
   "id": "e18b02a5-b837-421b-8f49-6ba0982fe2e7",
   "metadata": {
    "jp-MarkdownHeadingCollapsed": true,
    "tags": []
   },
   "source": [
    "### One-Class SVM linear"
   ]
  },
  {
   "cell_type": "code",
   "execution_count": 107,
   "id": "90adbe47-7738-482e-a64b-5af1d6b40b13",
   "metadata": {},
   "outputs": [],
   "source": [
    "features = data.drop(columns = ['y'])\n",
    "target = data['y']"
   ]
  },
  {
   "cell_type": "code",
   "execution_count": 108,
   "id": "7f4396ad-4bae-49c1-87ac-7f7c0120b394",
   "metadata": {},
   "outputs": [],
   "source": [
    "min_max_scaler = MinMaxScaler(feature_range=(0, 1))\n",
    "x_train_scaled = min_max_scaler.fit_transform(features.copy())"
   ]
  },
  {
   "cell_type": "code",
   "execution_count": 109,
   "id": "64b4c769-7244-4038-8a8e-98f42c2988e9",
   "metadata": {},
   "outputs": [
    {
     "name": "stdout",
     "output_type": "stream",
     "text": [
      "0.015625\n",
      "0.015625\n"
     ]
    }
   ],
   "source": [
    "start = time.process_time()\n",
    "\n",
    "model = OneClassSVM(kernel = 'linear', nu=0.1)\n",
    "model.fit(x_train_scaled)\n",
    "\n",
    "end = time.process_time()\n",
    "vowels_lin_oc_svm_train_time = end - start\n",
    "print(end - start)\n",
    "\n",
    "start = time.process_time()\n",
    "\n",
    "yhat = model.predict(x_train_scaled)\n",
    "y_scores = -model.decision_function(x_train_scaled)\n",
    "\n",
    "end = time.process_time()\n",
    "vowels_lin_oc_svm_test_time = end - start\n",
    "print(end - start)"
   ]
  },
  {
   "cell_type": "code",
   "execution_count": 110,
   "id": "191f5c0e-a5cf-49d0-9a05-a28e7c74e012",
   "metadata": {},
   "outputs": [],
   "source": [
    "predictions = pd.DataFrame(yhat, columns = ['y_pred']).apply(def_outlier, axis = 1)"
   ]
  },
  {
   "cell_type": "code",
   "execution_count": 111,
   "id": "1e3c9ce7-0c48-4797-a4b8-8f9ea43737ec",
   "metadata": {},
   "outputs": [
    {
     "data": {
      "text/plain": [
       "array([[1260,  146],\n",
       "       [  50,    0]], dtype=int64)"
      ]
     },
     "execution_count": 111,
     "metadata": {},
     "output_type": "execute_result"
    }
   ],
   "source": [
    "confusion_matrix(target, predictions)"
   ]
  },
  {
   "cell_type": "code",
   "execution_count": 112,
   "id": "0c45a1b8",
   "metadata": {},
   "outputs": [
    {
     "data": {
      "text/plain": [
       "0.1109388335704125"
      ]
     },
     "execution_count": 112,
     "metadata": {},
     "output_type": "execute_result"
    }
   ],
   "source": [
    "fpr, tpr, _ = metrics.roc_curve(target, y_scores)\n",
    "vowels_lin_oc_svm_auc = metrics.auc(fpr, tpr)\n",
    "metrics.auc(fpr, tpr)"
   ]
  },
  {
   "cell_type": "code",
   "execution_count": 113,
   "id": "1dd0fba5-f010-435f-99b6-6a9d397e807b",
   "metadata": {},
   "outputs": [
    {
     "name": "stdout",
     "output_type": "stream",
     "text": [
      "              precision    recall  f1-score   support\n",
      "\n",
      "           0       0.96      0.90      0.93      1406\n",
      "           1       0.00      0.00      0.00        50\n",
      "\n",
      "    accuracy                           0.87      1456\n",
      "   macro avg       0.48      0.45      0.46      1456\n",
      "weighted avg       0.93      0.87      0.90      1456\n",
      "\n"
     ]
    }
   ],
   "source": [
    "vowels_lin_oc_svm_report = classification_report(target, predictions, target_names = ['0','1'], output_dict = True)\n",
    "print(classification_report(target, predictions, target_names = ['0','1']))"
   ]
  },
  {
   "cell_type": "code",
   "execution_count": 114,
   "id": "f7f79eca",
   "metadata": {},
   "outputs": [
    {
     "name": "stdout",
     "output_type": "stream",
     "text": [
      "0.018212789105834154\n"
     ]
    }
   ],
   "source": [
    "precision, recall, thresholds = precision_recall_curve(target, y_scores)\n",
    "vowels_ocsvm_lin_auc_precision_recall = metrics.auc(recall, precision)\n",
    "print(vowels_ocsvm_lin_auc_precision_recall)"
   ]
  },
  {
   "cell_type": "markdown",
   "id": "6e819820-662f-4b7a-95d1-c6eeb0e62876",
   "metadata": {
    "jp-MarkdownHeadingCollapsed": true,
    "tags": []
   },
   "source": [
    "## Seismic"
   ]
  },
  {
   "cell_type": "markdown",
   "id": "84883476",
   "metadata": {},
   "source": [
    "**Dataset source**: http://odds.cs.stonybrook.edu/seismic-dataset/ (data is transformed from .arff to .csv format)\n",
    "\n",
    "Shebuti Rayana (2016). ODDS Library [http://odds.cs.stonybrook.edu]. Stony Brook, NY: Stony Brook University, Department of Computer Science.\n",
    "\n",
    "**Additional sources:**\n",
    "\n",
    "Saket Sathe and Charu C. Aggarwal. LODES: Local Density meets Spectral Outlier Detection. SIAM Conference on Data Mining, 2016."
   ]
  },
  {
   "cell_type": "code",
   "execution_count": 115,
   "id": "9f7497cf-f25d-4d39-b778-abd020ebfa04",
   "metadata": {},
   "outputs": [],
   "source": [
    "data = pd.read_csv('./seismic.csv', sep = ',')"
   ]
  },
  {
   "cell_type": "code",
   "execution_count": 116,
   "id": "98583ea0-afb4-40a3-8bc3-1b96002de33a",
   "metadata": {},
   "outputs": [],
   "source": [
    "data = data.drop(columns = ['nbumps6','nbumps7','nbumps89'])"
   ]
  },
  {
   "cell_type": "code",
   "execution_count": 117,
   "id": "d87f1bdc-6c57-4601-8eeb-1bbbfa24a572",
   "metadata": {},
   "outputs": [
    {
     "data": {
      "text/plain": [
       "(2584, 16)"
      ]
     },
     "execution_count": 117,
     "metadata": {},
     "output_type": "execute_result"
    }
   ],
   "source": [
    "data.shape"
   ]
  },
  {
   "cell_type": "code",
   "execution_count": 118,
   "id": "efce2262",
   "metadata": {},
   "outputs": [],
   "source": [
    "drop_enc = OneHotEncoder(drop='first').fit_transform(data[['seismic','seismoacoustic','shift','ghazard']])"
   ]
  },
  {
   "cell_type": "code",
   "execution_count": 119,
   "id": "67579a8b",
   "metadata": {},
   "outputs": [],
   "source": [
    "cat_var = pd.DataFrame(drop_enc.toarray())\n",
    "cat_var.columns = ['seismic: b', 'seismoacoustic: b','seismoacoustic: c','shift: W','ghazard: b','ghazard: c']"
   ]
  },
  {
   "cell_type": "code",
   "execution_count": 120,
   "id": "b0932a73-7c0f-4a32-9573-d38a7034034e",
   "metadata": {},
   "outputs": [],
   "source": [
    "data = pd.concat([data, cat_var], axis = 1)"
   ]
  },
  {
   "cell_type": "code",
   "execution_count": 121,
   "id": "5bd4e951-5330-4c88-902f-1a2d184efb08",
   "metadata": {},
   "outputs": [],
   "source": [
    "data = data.drop(columns = ['seismic','seismoacoustic','shift','ghazard'])"
   ]
  },
  {
   "cell_type": "code",
   "execution_count": 122,
   "id": "45ef5b65",
   "metadata": {},
   "outputs": [
    {
     "data": {
      "text/html": [
       "<div>\n",
       "<style scoped>\n",
       "    .dataframe tbody tr th:only-of-type {\n",
       "        vertical-align: middle;\n",
       "    }\n",
       "\n",
       "    .dataframe tbody tr th {\n",
       "        vertical-align: top;\n",
       "    }\n",
       "\n",
       "    .dataframe thead th {\n",
       "        text-align: right;\n",
       "    }\n",
       "</style>\n",
       "<table border=\"1\" class=\"dataframe\">\n",
       "  <thead>\n",
       "    <tr style=\"text-align: right;\">\n",
       "      <th></th>\n",
       "      <th>genergy</th>\n",
       "      <th>gpuls</th>\n",
       "      <th>gdenergy</th>\n",
       "      <th>gdpuls</th>\n",
       "      <th>nbumps</th>\n",
       "      <th>nbumps2</th>\n",
       "      <th>nbumps3</th>\n",
       "      <th>nbumps4</th>\n",
       "      <th>nbumps5</th>\n",
       "      <th>energy</th>\n",
       "      <th>maxenergy</th>\n",
       "      <th>class</th>\n",
       "      <th>seismic: b</th>\n",
       "      <th>seismoacoustic: b</th>\n",
       "      <th>seismoacoustic: c</th>\n",
       "      <th>shift: W</th>\n",
       "      <th>ghazard: b</th>\n",
       "      <th>ghazard: c</th>\n",
       "    </tr>\n",
       "  </thead>\n",
       "  <tbody>\n",
       "    <tr>\n",
       "      <th>0</th>\n",
       "      <td>15180</td>\n",
       "      <td>48</td>\n",
       "      <td>-72</td>\n",
       "      <td>-72</td>\n",
       "      <td>0</td>\n",
       "      <td>0</td>\n",
       "      <td>0</td>\n",
       "      <td>0</td>\n",
       "      <td>0</td>\n",
       "      <td>0</td>\n",
       "      <td>0</td>\n",
       "      <td>0</td>\n",
       "      <td>0.0</td>\n",
       "      <td>0.0</td>\n",
       "      <td>0.0</td>\n",
       "      <td>0.0</td>\n",
       "      <td>0.0</td>\n",
       "      <td>0.0</td>\n",
       "    </tr>\n",
       "    <tr>\n",
       "      <th>1</th>\n",
       "      <td>14720</td>\n",
       "      <td>33</td>\n",
       "      <td>-70</td>\n",
       "      <td>-79</td>\n",
       "      <td>1</td>\n",
       "      <td>0</td>\n",
       "      <td>1</td>\n",
       "      <td>0</td>\n",
       "      <td>0</td>\n",
       "      <td>2000</td>\n",
       "      <td>2000</td>\n",
       "      <td>0</td>\n",
       "      <td>0.0</td>\n",
       "      <td>0.0</td>\n",
       "      <td>0.0</td>\n",
       "      <td>0.0</td>\n",
       "      <td>0.0</td>\n",
       "      <td>0.0</td>\n",
       "    </tr>\n",
       "    <tr>\n",
       "      <th>2</th>\n",
       "      <td>8050</td>\n",
       "      <td>30</td>\n",
       "      <td>-81</td>\n",
       "      <td>-78</td>\n",
       "      <td>0</td>\n",
       "      <td>0</td>\n",
       "      <td>0</td>\n",
       "      <td>0</td>\n",
       "      <td>0</td>\n",
       "      <td>0</td>\n",
       "      <td>0</td>\n",
       "      <td>0</td>\n",
       "      <td>0.0</td>\n",
       "      <td>0.0</td>\n",
       "      <td>0.0</td>\n",
       "      <td>0.0</td>\n",
       "      <td>0.0</td>\n",
       "      <td>0.0</td>\n",
       "    </tr>\n",
       "    <tr>\n",
       "      <th>3</th>\n",
       "      <td>28820</td>\n",
       "      <td>171</td>\n",
       "      <td>-23</td>\n",
       "      <td>40</td>\n",
       "      <td>1</td>\n",
       "      <td>0</td>\n",
       "      <td>1</td>\n",
       "      <td>0</td>\n",
       "      <td>0</td>\n",
       "      <td>3000</td>\n",
       "      <td>3000</td>\n",
       "      <td>0</td>\n",
       "      <td>0.0</td>\n",
       "      <td>0.0</td>\n",
       "      <td>0.0</td>\n",
       "      <td>0.0</td>\n",
       "      <td>0.0</td>\n",
       "      <td>0.0</td>\n",
       "    </tr>\n",
       "    <tr>\n",
       "      <th>4</th>\n",
       "      <td>12640</td>\n",
       "      <td>57</td>\n",
       "      <td>-63</td>\n",
       "      <td>-52</td>\n",
       "      <td>0</td>\n",
       "      <td>0</td>\n",
       "      <td>0</td>\n",
       "      <td>0</td>\n",
       "      <td>0</td>\n",
       "      <td>0</td>\n",
       "      <td>0</td>\n",
       "      <td>0</td>\n",
       "      <td>0.0</td>\n",
       "      <td>0.0</td>\n",
       "      <td>0.0</td>\n",
       "      <td>0.0</td>\n",
       "      <td>0.0</td>\n",
       "      <td>0.0</td>\n",
       "    </tr>\n",
       "  </tbody>\n",
       "</table>\n",
       "</div>"
      ],
      "text/plain": [
       "   genergy  gpuls  gdenergy  gdpuls  nbumps  nbumps2  nbumps3  nbumps4  \\\n",
       "0    15180     48       -72     -72       0        0        0        0   \n",
       "1    14720     33       -70     -79       1        0        1        0   \n",
       "2     8050     30       -81     -78       0        0        0        0   \n",
       "3    28820    171       -23      40       1        0        1        0   \n",
       "4    12640     57       -63     -52       0        0        0        0   \n",
       "\n",
       "   nbumps5  energy  maxenergy  class  seismic: b  seismoacoustic: b  \\\n",
       "0        0       0          0      0         0.0                0.0   \n",
       "1        0    2000       2000      0         0.0                0.0   \n",
       "2        0       0          0      0         0.0                0.0   \n",
       "3        0    3000       3000      0         0.0                0.0   \n",
       "4        0       0          0      0         0.0                0.0   \n",
       "\n",
       "   seismoacoustic: c  shift: W  ghazard: b  ghazard: c  \n",
       "0                0.0       0.0         0.0         0.0  \n",
       "1                0.0       0.0         0.0         0.0  \n",
       "2                0.0       0.0         0.0         0.0  \n",
       "3                0.0       0.0         0.0         0.0  \n",
       "4                0.0       0.0         0.0         0.0  "
      ]
     },
     "execution_count": 122,
     "metadata": {},
     "output_type": "execute_result"
    }
   ],
   "source": [
    "data.head()"
   ]
  },
  {
   "cell_type": "code",
   "execution_count": 123,
   "id": "18e0f2ec-0b7d-438f-855a-1ce74d7db590",
   "metadata": {},
   "outputs": [
    {
     "data": {
      "text/html": [
       "<div>\n",
       "<style scoped>\n",
       "    .dataframe tbody tr th:only-of-type {\n",
       "        vertical-align: middle;\n",
       "    }\n",
       "\n",
       "    .dataframe tbody tr th {\n",
       "        vertical-align: top;\n",
       "    }\n",
       "\n",
       "    .dataframe thead th {\n",
       "        text-align: right;\n",
       "    }\n",
       "</style>\n",
       "<table border=\"1\" class=\"dataframe\">\n",
       "  <thead>\n",
       "    <tr style=\"text-align: right;\">\n",
       "      <th></th>\n",
       "      <th>genergy</th>\n",
       "    </tr>\n",
       "    <tr>\n",
       "      <th>class</th>\n",
       "      <th></th>\n",
       "    </tr>\n",
       "  </thead>\n",
       "  <tbody>\n",
       "    <tr>\n",
       "      <th>0</th>\n",
       "      <td>2414</td>\n",
       "    </tr>\n",
       "    <tr>\n",
       "      <th>1</th>\n",
       "      <td>170</td>\n",
       "    </tr>\n",
       "  </tbody>\n",
       "</table>\n",
       "</div>"
      ],
      "text/plain": [
       "       genergy\n",
       "class         \n",
       "0         2414\n",
       "1          170"
      ]
     },
     "execution_count": 123,
     "metadata": {},
     "output_type": "execute_result"
    }
   ],
   "source": [
    "pd.pivot_table(data,\n",
    "             values = 'genergy',\n",
    "               index = 'class', \n",
    "              aggfunc = 'count')"
   ]
  },
  {
   "cell_type": "markdown",
   "id": "0ec44485-9e2a-4769-add9-138bc82928e9",
   "metadata": {
    "jp-MarkdownHeadingCollapsed": true,
    "tags": []
   },
   "source": [
    "### One-Class SVM linear"
   ]
  },
  {
   "cell_type": "code",
   "execution_count": 124,
   "id": "ee579ea5-6cc5-4206-a9bb-9a3ba9ed2adb",
   "metadata": {},
   "outputs": [],
   "source": [
    "features = data.drop(columns = ['class'])\n",
    "target = data['class']"
   ]
  },
  {
   "cell_type": "code",
   "execution_count": 125,
   "id": "93b9ea9b-a0ef-4674-a571-101240dd7b54",
   "metadata": {},
   "outputs": [],
   "source": [
    "min_max_scaler = MinMaxScaler(feature_range=(0, 1))\n",
    "x_train_scaled = min_max_scaler.fit_transform(features.copy())"
   ]
  },
  {
   "cell_type": "code",
   "execution_count": 126,
   "id": "3d0df6ab-0583-4549-b9e1-5a4330c43d1f",
   "metadata": {},
   "outputs": [
    {
     "name": "stdout",
     "output_type": "stream",
     "text": [
      "0.046875\n",
      "0.03125\n"
     ]
    }
   ],
   "source": [
    "start = time.process_time()\n",
    "\n",
    "model = OneClassSVM(kernel = 'linear', nu=0.1)\n",
    "model.fit(x_train_scaled)\n",
    "\n",
    "end = time.process_time()\n",
    "seismic_lin_oc_svm_train_time = end - start\n",
    "print(end - start)\n",
    "\n",
    "start = time.process_time()\n",
    "\n",
    "yhat = model.predict(x_train_scaled)\n",
    "y_scores = -model.decision_function(x_train_scaled)\n",
    "\n",
    "end = time.process_time()\n",
    "seismic_lin_oc_svm_test_time = end - start\n",
    "print(end - start)"
   ]
  },
  {
   "cell_type": "code",
   "execution_count": 127,
   "id": "59a689ee-9d8c-4ad6-9573-9f9f231b5047",
   "metadata": {},
   "outputs": [],
   "source": [
    "predictions = pd.DataFrame(yhat, columns = ['y_pred']).apply(def_outlier, axis = 1)"
   ]
  },
  {
   "cell_type": "code",
   "execution_count": 128,
   "id": "eea71bbd",
   "metadata": {},
   "outputs": [
    {
     "data": {
      "text/plain": [
       "0.28220429845509043"
      ]
     },
     "execution_count": 128,
     "metadata": {},
     "output_type": "execute_result"
    }
   ],
   "source": [
    "fpr, tpr, _ = metrics.roc_curve(target, y_scores)\n",
    "seismic_lin_oc_svm_auc = metrics.auc(fpr, tpr)\n",
    "metrics.auc(fpr, tpr)"
   ]
  },
  {
   "cell_type": "code",
   "execution_count": 129,
   "id": "84366d32-874d-4711-bca9-a84f7657f0da",
   "metadata": {},
   "outputs": [
    {
     "name": "stdout",
     "output_type": "stream",
     "text": [
      "              precision    recall  f1-score   support\n",
      "\n",
      "           0       0.93      0.89      0.91      2414\n",
      "           1       0.02      0.02      0.02       170\n",
      "\n",
      "    accuracy                           0.84      2584\n",
      "   macro avg       0.47      0.46      0.47      2584\n",
      "weighted avg       0.87      0.84      0.85      2584\n",
      "\n"
     ]
    }
   ],
   "source": [
    "seismic_lin_oc_svm_report = classification_report(target, predictions, target_names = ['0','1'], output_dict = True)\n",
    "print(classification_report(target, predictions, target_names = ['0','1']))"
   ]
  },
  {
   "cell_type": "code",
   "execution_count": 130,
   "id": "35ac2872",
   "metadata": {},
   "outputs": [
    {
     "name": "stdout",
     "output_type": "stream",
     "text": [
      "0.04174730313769426\n"
     ]
    }
   ],
   "source": [
    "precision, recall, thresholds = precision_recall_curve(target, y_scores)\n",
    "seismic_ocsvm_lin_auc_precision_recall = metrics.auc(recall, precision)\n",
    "print(seismic_ocsvm_lin_auc_precision_recall)"
   ]
  },
  {
   "cell_type": "markdown",
   "id": "2405a678-b7d5-4ce9-b156-3dd2331e33b7",
   "metadata": {
    "jp-MarkdownHeadingCollapsed": true,
    "tags": []
   },
   "source": [
    "## Musk"
   ]
  },
  {
   "cell_type": "markdown",
   "id": "635ab0e5",
   "metadata": {},
   "source": [
    "**Dataset source**: http://odds.cs.stonybrook.edu/musk-dataset/ (data is transformed from .mat to .csv format)\n",
    "\n",
    "Shebuti Rayana (2016). ODDS Library [http://odds.cs.stonybrook.edu]. Stony Brook, NY: Stony Brook University, Department of Computer Science.\n",
    "\n",
    "**Additional sources:**\n",
    "\n",
    "C. C. Aggarwal and S. Sathe, “Theoretical foundations and algorithms for outlier ensembles.” ACM SIGKDD Explorations Newsletter, vol. 17, no. 1, pp. 24–47, 2015."
   ]
  },
  {
   "cell_type": "code",
   "execution_count": 131,
   "id": "73a9a78a-1612-4d11-8630-d3cc0cf39955",
   "metadata": {},
   "outputs": [],
   "source": [
    "data = pd.read_csv('./musk.csv', sep = ',')"
   ]
  },
  {
   "cell_type": "code",
   "execution_count": 132,
   "id": "58a9917b",
   "metadata": {},
   "outputs": [
    {
     "data": {
      "text/html": [
       "<div>\n",
       "<style scoped>\n",
       "    .dataframe tbody tr th:only-of-type {\n",
       "        vertical-align: middle;\n",
       "    }\n",
       "\n",
       "    .dataframe tbody tr th {\n",
       "        vertical-align: top;\n",
       "    }\n",
       "\n",
       "    .dataframe thead th {\n",
       "        text-align: right;\n",
       "    }\n",
       "</style>\n",
       "<table border=\"1\" class=\"dataframe\">\n",
       "  <thead>\n",
       "    <tr style=\"text-align: right;\">\n",
       "      <th></th>\n",
       "      <th>Col1</th>\n",
       "      <th>Col2</th>\n",
       "      <th>Col3</th>\n",
       "      <th>Col4</th>\n",
       "      <th>Col5</th>\n",
       "      <th>Col6</th>\n",
       "      <th>Col7</th>\n",
       "      <th>Col8</th>\n",
       "      <th>Col9</th>\n",
       "      <th>Col10</th>\n",
       "      <th>...</th>\n",
       "      <th>Col158</th>\n",
       "      <th>Col159</th>\n",
       "      <th>Col160</th>\n",
       "      <th>Col161</th>\n",
       "      <th>Col162</th>\n",
       "      <th>Col163</th>\n",
       "      <th>Col164</th>\n",
       "      <th>Col165</th>\n",
       "      <th>Col166</th>\n",
       "      <th>y</th>\n",
       "    </tr>\n",
       "  </thead>\n",
       "  <tbody>\n",
       "    <tr>\n",
       "      <th>0</th>\n",
       "      <td>46.0</td>\n",
       "      <td>-108.0</td>\n",
       "      <td>-60.0</td>\n",
       "      <td>-69.0</td>\n",
       "      <td>-117.0</td>\n",
       "      <td>49.0</td>\n",
       "      <td>38.0</td>\n",
       "      <td>-161.0</td>\n",
       "      <td>-8.0</td>\n",
       "      <td>5.0</td>\n",
       "      <td>...</td>\n",
       "      <td>-308.0</td>\n",
       "      <td>52.0</td>\n",
       "      <td>-7.0</td>\n",
       "      <td>39.0</td>\n",
       "      <td>126.0</td>\n",
       "      <td>156.0</td>\n",
       "      <td>-50.0</td>\n",
       "      <td>-112.0</td>\n",
       "      <td>96.0</td>\n",
       "      <td>1.0</td>\n",
       "    </tr>\n",
       "    <tr>\n",
       "      <th>1</th>\n",
       "      <td>41.0</td>\n",
       "      <td>-188.0</td>\n",
       "      <td>-145.0</td>\n",
       "      <td>22.0</td>\n",
       "      <td>-117.0</td>\n",
       "      <td>-6.0</td>\n",
       "      <td>57.0</td>\n",
       "      <td>-171.0</td>\n",
       "      <td>-39.0</td>\n",
       "      <td>-100.0</td>\n",
       "      <td>...</td>\n",
       "      <td>-59.0</td>\n",
       "      <td>-2.0</td>\n",
       "      <td>52.0</td>\n",
       "      <td>103.0</td>\n",
       "      <td>136.0</td>\n",
       "      <td>169.0</td>\n",
       "      <td>-61.0</td>\n",
       "      <td>-136.0</td>\n",
       "      <td>79.0</td>\n",
       "      <td>1.0</td>\n",
       "    </tr>\n",
       "    <tr>\n",
       "      <th>2</th>\n",
       "      <td>46.0</td>\n",
       "      <td>-194.0</td>\n",
       "      <td>-145.0</td>\n",
       "      <td>28.0</td>\n",
       "      <td>-117.0</td>\n",
       "      <td>73.0</td>\n",
       "      <td>57.0</td>\n",
       "      <td>-168.0</td>\n",
       "      <td>-39.0</td>\n",
       "      <td>-22.0</td>\n",
       "      <td>...</td>\n",
       "      <td>-134.0</td>\n",
       "      <td>-154.0</td>\n",
       "      <td>57.0</td>\n",
       "      <td>143.0</td>\n",
       "      <td>142.0</td>\n",
       "      <td>165.0</td>\n",
       "      <td>-67.0</td>\n",
       "      <td>-145.0</td>\n",
       "      <td>39.0</td>\n",
       "      <td>1.0</td>\n",
       "    </tr>\n",
       "    <tr>\n",
       "      <th>3</th>\n",
       "      <td>41.0</td>\n",
       "      <td>-188.0</td>\n",
       "      <td>-145.0</td>\n",
       "      <td>22.0</td>\n",
       "      <td>-117.0</td>\n",
       "      <td>-7.0</td>\n",
       "      <td>57.0</td>\n",
       "      <td>-170.0</td>\n",
       "      <td>-39.0</td>\n",
       "      <td>-99.0</td>\n",
       "      <td>...</td>\n",
       "      <td>-60.0</td>\n",
       "      <td>-4.0</td>\n",
       "      <td>52.0</td>\n",
       "      <td>104.0</td>\n",
       "      <td>136.0</td>\n",
       "      <td>168.0</td>\n",
       "      <td>-60.0</td>\n",
       "      <td>-135.0</td>\n",
       "      <td>80.0</td>\n",
       "      <td>1.0</td>\n",
       "    </tr>\n",
       "    <tr>\n",
       "      <th>4</th>\n",
       "      <td>41.0</td>\n",
       "      <td>-188.0</td>\n",
       "      <td>-145.0</td>\n",
       "      <td>22.0</td>\n",
       "      <td>-117.0</td>\n",
       "      <td>-7.0</td>\n",
       "      <td>57.0</td>\n",
       "      <td>-170.0</td>\n",
       "      <td>-39.0</td>\n",
       "      <td>-99.0</td>\n",
       "      <td>...</td>\n",
       "      <td>-60.0</td>\n",
       "      <td>-4.0</td>\n",
       "      <td>52.0</td>\n",
       "      <td>104.0</td>\n",
       "      <td>137.0</td>\n",
       "      <td>168.0</td>\n",
       "      <td>-60.0</td>\n",
       "      <td>-135.0</td>\n",
       "      <td>80.0</td>\n",
       "      <td>1.0</td>\n",
       "    </tr>\n",
       "  </tbody>\n",
       "</table>\n",
       "<p>5 rows × 167 columns</p>\n",
       "</div>"
      ],
      "text/plain": [
       "   Col1   Col2   Col3  Col4   Col5  Col6  Col7   Col8  Col9  Col10  ...  \\\n",
       "0  46.0 -108.0  -60.0 -69.0 -117.0  49.0  38.0 -161.0  -8.0    5.0  ...   \n",
       "1  41.0 -188.0 -145.0  22.0 -117.0  -6.0  57.0 -171.0 -39.0 -100.0  ...   \n",
       "2  46.0 -194.0 -145.0  28.0 -117.0  73.0  57.0 -168.0 -39.0  -22.0  ...   \n",
       "3  41.0 -188.0 -145.0  22.0 -117.0  -7.0  57.0 -170.0 -39.0  -99.0  ...   \n",
       "4  41.0 -188.0 -145.0  22.0 -117.0  -7.0  57.0 -170.0 -39.0  -99.0  ...   \n",
       "\n",
       "   Col158  Col159  Col160  Col161  Col162  Col163  Col164  Col165  Col166    y  \n",
       "0  -308.0    52.0    -7.0    39.0   126.0   156.0   -50.0  -112.0    96.0  1.0  \n",
       "1   -59.0    -2.0    52.0   103.0   136.0   169.0   -61.0  -136.0    79.0  1.0  \n",
       "2  -134.0  -154.0    57.0   143.0   142.0   165.0   -67.0  -145.0    39.0  1.0  \n",
       "3   -60.0    -4.0    52.0   104.0   136.0   168.0   -60.0  -135.0    80.0  1.0  \n",
       "4   -60.0    -4.0    52.0   104.0   137.0   168.0   -60.0  -135.0    80.0  1.0  \n",
       "\n",
       "[5 rows x 167 columns]"
      ]
     },
     "execution_count": 132,
     "metadata": {},
     "output_type": "execute_result"
    }
   ],
   "source": [
    "data.head()"
   ]
  },
  {
   "cell_type": "code",
   "execution_count": 133,
   "id": "4d289c50-09ef-40a0-acd9-5103eaf401c1",
   "metadata": {},
   "outputs": [],
   "source": [
    "data['y'] = data['y'].astype(int)"
   ]
  },
  {
   "cell_type": "code",
   "execution_count": 134,
   "id": "87ef58f9-6a93-4346-8a63-4aeabf235578",
   "metadata": {},
   "outputs": [
    {
     "data": {
      "text/plain": [
       "(3062, 167)"
      ]
     },
     "execution_count": 134,
     "metadata": {},
     "output_type": "execute_result"
    }
   ],
   "source": [
    "data.shape"
   ]
  },
  {
   "cell_type": "code",
   "execution_count": 135,
   "id": "53716d75-2f1b-47c6-9f8a-6f79c81467bb",
   "metadata": {},
   "outputs": [
    {
     "data": {
      "text/html": [
       "<div>\n",
       "<style scoped>\n",
       "    .dataframe tbody tr th:only-of-type {\n",
       "        vertical-align: middle;\n",
       "    }\n",
       "\n",
       "    .dataframe tbody tr th {\n",
       "        vertical-align: top;\n",
       "    }\n",
       "\n",
       "    .dataframe thead th {\n",
       "        text-align: right;\n",
       "    }\n",
       "</style>\n",
       "<table border=\"1\" class=\"dataframe\">\n",
       "  <thead>\n",
       "    <tr style=\"text-align: right;\">\n",
       "      <th></th>\n",
       "      <th>Col1</th>\n",
       "    </tr>\n",
       "    <tr>\n",
       "      <th>y</th>\n",
       "      <th></th>\n",
       "    </tr>\n",
       "  </thead>\n",
       "  <tbody>\n",
       "    <tr>\n",
       "      <th>0</th>\n",
       "      <td>2965</td>\n",
       "    </tr>\n",
       "    <tr>\n",
       "      <th>1</th>\n",
       "      <td>97</td>\n",
       "    </tr>\n",
       "  </tbody>\n",
       "</table>\n",
       "</div>"
      ],
      "text/plain": [
       "   Col1\n",
       "y      \n",
       "0  2965\n",
       "1    97"
      ]
     },
     "execution_count": 135,
     "metadata": {},
     "output_type": "execute_result"
    }
   ],
   "source": [
    "pd.pivot_table(data,\n",
    "             values = 'Col1',\n",
    "               index = 'y', \n",
    "              aggfunc = 'count')"
   ]
  },
  {
   "cell_type": "markdown",
   "id": "d88afcdb-10ef-4719-bc71-1eb3b6f709d5",
   "metadata": {
    "jp-MarkdownHeadingCollapsed": true,
    "tags": []
   },
   "source": [
    "### One-Class SVM linear"
   ]
  },
  {
   "cell_type": "code",
   "execution_count": 136,
   "id": "681c446d-e35a-40b2-9e64-23c7f837166b",
   "metadata": {},
   "outputs": [],
   "source": [
    "features = data.drop(columns = ['y'])\n",
    "target = data['y']"
   ]
  },
  {
   "cell_type": "code",
   "execution_count": 137,
   "id": "d6ee016c-410f-471c-b77a-a35c7a52e589",
   "metadata": {},
   "outputs": [],
   "source": [
    "min_max_scaler = MinMaxScaler(feature_range=(0, 1))\n",
    "x_train_scaled = min_max_scaler.fit_transform(features.copy())"
   ]
  },
  {
   "cell_type": "code",
   "execution_count": 138,
   "id": "753f1cd8-697c-474f-ab7c-3b81859f4eef",
   "metadata": {},
   "outputs": [
    {
     "name": "stdout",
     "output_type": "stream",
     "text": [
      "0.078125\n",
      "0.140625\n"
     ]
    }
   ],
   "source": [
    "start = time.process_time()\n",
    "\n",
    "model = OneClassSVM(kernel = 'linear', nu=0.1)\n",
    "model.fit(x_train_scaled)\n",
    "\n",
    "end = time.process_time()\n",
    "musk_lin_oc_svm_train_time = end - start\n",
    "print(end - start)\n",
    "\n",
    "start = time.process_time()\n",
    "\n",
    "yhat = model.predict(x_train_scaled)\n",
    "y_scores = -model.decision_function(x_train_scaled)\n",
    "\n",
    "end = time.process_time()\n",
    "musk_lin_oc_svm_test_time = end - start\n",
    "print(end - start)"
   ]
  },
  {
   "cell_type": "code",
   "execution_count": 139,
   "id": "403c30bb-e08d-4f80-b988-0766c7b9660e",
   "metadata": {},
   "outputs": [],
   "source": [
    "predictions = pd.DataFrame(yhat, columns = ['y_pred']).apply(def_outlier, axis = 1)"
   ]
  },
  {
   "cell_type": "code",
   "execution_count": 140,
   "id": "827cc7cb",
   "metadata": {},
   "outputs": [
    {
     "data": {
      "text/plain": [
       "0.9791102380000347"
      ]
     },
     "execution_count": 140,
     "metadata": {},
     "output_type": "execute_result"
    }
   ],
   "source": [
    "fpr, tpr, _ = metrics.roc_curve(target, y_scores)\n",
    "musk_lin_oc_svm_auc = metrics.auc(fpr, tpr)\n",
    "metrics.auc(fpr, tpr)"
   ]
  },
  {
   "cell_type": "code",
   "execution_count": 141,
   "id": "dce5ad0f-8937-475f-82a3-8415859e7306",
   "metadata": {},
   "outputs": [
    {
     "name": "stdout",
     "output_type": "stream",
     "text": [
      "              precision    recall  f1-score   support\n",
      "\n",
      "           0       1.00      0.93      0.96      2965\n",
      "           1       0.30      0.95      0.46        97\n",
      "\n",
      "    accuracy                           0.93      3062\n",
      "   macro avg       0.65      0.94      0.71      3062\n",
      "weighted avg       0.98      0.93      0.95      3062\n",
      "\n"
     ]
    }
   ],
   "source": [
    "musk_lin_oc_svm_report = classification_report(target, predictions, target_names = ['0','1'], output_dict = True)\n",
    "print(classification_report(target, predictions, target_names = ['0','1']))"
   ]
  },
  {
   "cell_type": "code",
   "execution_count": 142,
   "id": "bf23bb28",
   "metadata": {},
   "outputs": [
    {
     "name": "stdout",
     "output_type": "stream",
     "text": [
      "0.606378267901016\n"
     ]
    }
   ],
   "source": [
    "precision, recall, thresholds = precision_recall_curve(target, y_scores)\n",
    "musk_ocsvm_lin_auc_precision_recall = metrics.auc(recall, precision)\n",
    "print(musk_ocsvm_lin_auc_precision_recall)"
   ]
  },
  {
   "cell_type": "markdown",
   "id": "c2dced57-748e-4374-b5f8-85488e5baf9d",
   "metadata": {
    "jp-MarkdownHeadingCollapsed": true,
    "tags": []
   },
   "source": [
    "## bank"
   ]
  },
  {
   "cell_type": "markdown",
   "id": "830c3728",
   "metadata": {},
   "source": [
    "**Dataset source**: https://github.com/GuansongPang/ADRepository-Anomaly-detection-datasets/tree/main/categorical%20data\n",
    "\n",
    "Pang, G., Shen, C., Cao, L., & Hengel, A. V. D. (2021). Deep learning for anomaly detection: A review. ACM Computing Surveys (CSUR), 54(2), 1-38."
   ]
  },
  {
   "cell_type": "code",
   "execution_count": 143,
   "id": "45331943-15fa-4768-a7b0-de9de07366ca",
   "metadata": {},
   "outputs": [],
   "source": [
    "data = pd.read_csv('./bank.csv')"
   ]
  },
  {
   "cell_type": "code",
   "execution_count": 144,
   "id": "3d466cef-6b84-4710-bf4b-4f83fcfa54d7",
   "metadata": {
    "tags": []
   },
   "outputs": [
    {
     "data": {
      "text/html": [
       "<div>\n",
       "<style scoped>\n",
       "    .dataframe tbody tr th:only-of-type {\n",
       "        vertical-align: middle;\n",
       "    }\n",
       "\n",
       "    .dataframe tbody tr th {\n",
       "        vertical-align: top;\n",
       "    }\n",
       "\n",
       "    .dataframe thead th {\n",
       "        text-align: right;\n",
       "    }\n",
       "</style>\n",
       "<table border=\"1\" class=\"dataframe\">\n",
       "  <thead>\n",
       "    <tr style=\"text-align: right;\">\n",
       "      <th></th>\n",
       "      <th>age</th>\n",
       "      <th>job=housemaid</th>\n",
       "      <th>job=services</th>\n",
       "      <th>job=admin.</th>\n",
       "      <th>job=blue-collar</th>\n",
       "      <th>job=technician</th>\n",
       "      <th>job=retired</th>\n",
       "      <th>job=management</th>\n",
       "      <th>job=unemployed</th>\n",
       "      <th>job=self-employed</th>\n",
       "      <th>...</th>\n",
       "      <th>previous</th>\n",
       "      <th>poutcome=nonexistent</th>\n",
       "      <th>poutcome=failure</th>\n",
       "      <th>poutcome=success</th>\n",
       "      <th>emp.var.rate</th>\n",
       "      <th>cons.price.idx</th>\n",
       "      <th>cons.conf.idx</th>\n",
       "      <th>euribor3m</th>\n",
       "      <th>nr.employed</th>\n",
       "      <th>class</th>\n",
       "    </tr>\n",
       "  </thead>\n",
       "  <tbody>\n",
       "    <tr>\n",
       "      <th>0</th>\n",
       "      <td>0.209877</td>\n",
       "      <td>0</td>\n",
       "      <td>0</td>\n",
       "      <td>0</td>\n",
       "      <td>0</td>\n",
       "      <td>0</td>\n",
       "      <td>0</td>\n",
       "      <td>0</td>\n",
       "      <td>0</td>\n",
       "      <td>0</td>\n",
       "      <td>...</td>\n",
       "      <td>0.000000</td>\n",
       "      <td>1</td>\n",
       "      <td>0</td>\n",
       "      <td>0</td>\n",
       "      <td>1.000000</td>\n",
       "      <td>0.882307</td>\n",
       "      <td>0.376569</td>\n",
       "      <td>0.980730</td>\n",
       "      <td>1.000000</td>\n",
       "      <td>0</td>\n",
       "    </tr>\n",
       "    <tr>\n",
       "      <th>1</th>\n",
       "      <td>0.296296</td>\n",
       "      <td>0</td>\n",
       "      <td>0</td>\n",
       "      <td>1</td>\n",
       "      <td>0</td>\n",
       "      <td>0</td>\n",
       "      <td>0</td>\n",
       "      <td>0</td>\n",
       "      <td>0</td>\n",
       "      <td>0</td>\n",
       "      <td>...</td>\n",
       "      <td>0.000000</td>\n",
       "      <td>1</td>\n",
       "      <td>0</td>\n",
       "      <td>0</td>\n",
       "      <td>1.000000</td>\n",
       "      <td>0.484412</td>\n",
       "      <td>0.615063</td>\n",
       "      <td>0.981183</td>\n",
       "      <td>1.000000</td>\n",
       "      <td>0</td>\n",
       "    </tr>\n",
       "    <tr>\n",
       "      <th>2</th>\n",
       "      <td>0.246914</td>\n",
       "      <td>1</td>\n",
       "      <td>0</td>\n",
       "      <td>0</td>\n",
       "      <td>0</td>\n",
       "      <td>0</td>\n",
       "      <td>0</td>\n",
       "      <td>0</td>\n",
       "      <td>0</td>\n",
       "      <td>0</td>\n",
       "      <td>...</td>\n",
       "      <td>0.000000</td>\n",
       "      <td>1</td>\n",
       "      <td>0</td>\n",
       "      <td>0</td>\n",
       "      <td>0.937500</td>\n",
       "      <td>0.698753</td>\n",
       "      <td>0.602510</td>\n",
       "      <td>0.957379</td>\n",
       "      <td>0.859735</td>\n",
       "      <td>0</td>\n",
       "    </tr>\n",
       "    <tr>\n",
       "      <th>3</th>\n",
       "      <td>0.160494</td>\n",
       "      <td>0</td>\n",
       "      <td>1</td>\n",
       "      <td>0</td>\n",
       "      <td>0</td>\n",
       "      <td>0</td>\n",
       "      <td>0</td>\n",
       "      <td>0</td>\n",
       "      <td>0</td>\n",
       "      <td>0</td>\n",
       "      <td>...</td>\n",
       "      <td>0.142857</td>\n",
       "      <td>0</td>\n",
       "      <td>1</td>\n",
       "      <td>0</td>\n",
       "      <td>0.333333</td>\n",
       "      <td>0.269680</td>\n",
       "      <td>0.192469</td>\n",
       "      <td>0.150759</td>\n",
       "      <td>0.512287</td>\n",
       "      <td>0</td>\n",
       "    </tr>\n",
       "    <tr>\n",
       "      <th>4</th>\n",
       "      <td>0.530864</td>\n",
       "      <td>0</td>\n",
       "      <td>0</td>\n",
       "      <td>0</td>\n",
       "      <td>1</td>\n",
       "      <td>0</td>\n",
       "      <td>0</td>\n",
       "      <td>0</td>\n",
       "      <td>0</td>\n",
       "      <td>0</td>\n",
       "      <td>...</td>\n",
       "      <td>0.000000</td>\n",
       "      <td>1</td>\n",
       "      <td>0</td>\n",
       "      <td>0</td>\n",
       "      <td>0.333333</td>\n",
       "      <td>0.340608</td>\n",
       "      <td>0.154812</td>\n",
       "      <td>0.174790</td>\n",
       "      <td>0.512287</td>\n",
       "      <td>1</td>\n",
       "    </tr>\n",
       "  </tbody>\n",
       "</table>\n",
       "<p>5 rows × 63 columns</p>\n",
       "</div>"
      ],
      "text/plain": [
       "        age  job=housemaid  job=services  job=admin.  job=blue-collar  \\\n",
       "0  0.209877              0             0           0                0   \n",
       "1  0.296296              0             0           1                0   \n",
       "2  0.246914              1             0           0                0   \n",
       "3  0.160494              0             1           0                0   \n",
       "4  0.530864              0             0           0                1   \n",
       "\n",
       "   job=technician  job=retired  job=management  job=unemployed  \\\n",
       "0               0            0               0               0   \n",
       "1               0            0               0               0   \n",
       "2               0            0               0               0   \n",
       "3               0            0               0               0   \n",
       "4               0            0               0               0   \n",
       "\n",
       "   job=self-employed  ...  previous  poutcome=nonexistent  poutcome=failure  \\\n",
       "0                  0  ...  0.000000                     1                 0   \n",
       "1                  0  ...  0.000000                     1                 0   \n",
       "2                  0  ...  0.000000                     1                 0   \n",
       "3                  0  ...  0.142857                     0                 1   \n",
       "4                  0  ...  0.000000                     1                 0   \n",
       "\n",
       "   poutcome=success  emp.var.rate  cons.price.idx  cons.conf.idx  euribor3m  \\\n",
       "0                 0      1.000000        0.882307       0.376569   0.980730   \n",
       "1                 0      1.000000        0.484412       0.615063   0.981183   \n",
       "2                 0      0.937500        0.698753       0.602510   0.957379   \n",
       "3                 0      0.333333        0.269680       0.192469   0.150759   \n",
       "4                 0      0.333333        0.340608       0.154812   0.174790   \n",
       "\n",
       "   nr.employed  class  \n",
       "0     1.000000      0  \n",
       "1     1.000000      0  \n",
       "2     0.859735      0  \n",
       "3     0.512287      0  \n",
       "4     0.512287      1  \n",
       "\n",
       "[5 rows x 63 columns]"
      ]
     },
     "execution_count": 144,
     "metadata": {},
     "output_type": "execute_result"
    }
   ],
   "source": [
    "data.head()"
   ]
  },
  {
   "cell_type": "code",
   "execution_count": 145,
   "id": "199d3f42-c83b-405f-ad36-39998fd67eef",
   "metadata": {},
   "outputs": [
    {
     "data": {
      "text/html": [
       "<div>\n",
       "<style scoped>\n",
       "    .dataframe tbody tr th:only-of-type {\n",
       "        vertical-align: middle;\n",
       "    }\n",
       "\n",
       "    .dataframe tbody tr th {\n",
       "        vertical-align: top;\n",
       "    }\n",
       "\n",
       "    .dataframe thead th {\n",
       "        text-align: right;\n",
       "    }\n",
       "</style>\n",
       "<table border=\"1\" class=\"dataframe\">\n",
       "  <thead>\n",
       "    <tr style=\"text-align: right;\">\n",
       "      <th></th>\n",
       "      <th>age</th>\n",
       "    </tr>\n",
       "    <tr>\n",
       "      <th>class</th>\n",
       "      <th></th>\n",
       "    </tr>\n",
       "  </thead>\n",
       "  <tbody>\n",
       "    <tr>\n",
       "      <th>0</th>\n",
       "      <td>36548</td>\n",
       "    </tr>\n",
       "    <tr>\n",
       "      <th>1</th>\n",
       "      <td>4640</td>\n",
       "    </tr>\n",
       "  </tbody>\n",
       "</table>\n",
       "</div>"
      ],
      "text/plain": [
       "         age\n",
       "class       \n",
       "0      36548\n",
       "1       4640"
      ]
     },
     "execution_count": 145,
     "metadata": {},
     "output_type": "execute_result"
    }
   ],
   "source": [
    "pd.pivot_table(data,\n",
    "             values = 'age',\n",
    "               index = 'class', \n",
    "              aggfunc = 'count')"
   ]
  },
  {
   "cell_type": "markdown",
   "id": "e97644b1-9fe0-4fdb-9c2f-331592bf6b2a",
   "metadata": {
    "jp-MarkdownHeadingCollapsed": true,
    "tags": []
   },
   "source": [
    "### One-Class SVM linear"
   ]
  },
  {
   "cell_type": "code",
   "execution_count": 146,
   "id": "22748558-ec87-4e76-b0e6-701afe1d9a06",
   "metadata": {},
   "outputs": [],
   "source": [
    "features = data.drop(columns = ['class'])\n",
    "target = data['class']"
   ]
  },
  {
   "cell_type": "code",
   "execution_count": 147,
   "id": "42d5fe6b-5247-417e-8e68-29e04bfdf765",
   "metadata": {},
   "outputs": [],
   "source": [
    "min_max_scaler = MinMaxScaler(feature_range=(0, 1))\n",
    "x_train_scaled = min_max_scaler.fit_transform(features.copy())"
   ]
  },
  {
   "cell_type": "code",
   "execution_count": 148,
   "id": "14f031a8-c6fc-4e78-b739-28ed73a4fc2b",
   "metadata": {},
   "outputs": [
    {
     "name": "stdout",
     "output_type": "stream",
     "text": [
      "34.453125\n",
      "12.125\n"
     ]
    }
   ],
   "source": [
    "start = time.process_time()\n",
    "\n",
    "model = OneClassSVM(kernel = 'linear', nu=0.1)\n",
    "model.fit(x_train_scaled)\n",
    "\n",
    "end = time.process_time()\n",
    "bank_lin_oc_svm_train_time = end - start\n",
    "print(end - start)\n",
    "\n",
    "start = time.process_time()\n",
    "\n",
    "yhat = model.predict(x_train_scaled)\n",
    "y_scores = -model.decision_function(x_train_scaled)\n",
    "\n",
    "end = time.process_time()\n",
    "bank_lin_oc_svm_test_time = end - start\n",
    "print(end - start)"
   ]
  },
  {
   "cell_type": "code",
   "execution_count": 149,
   "id": "09c92c11-a63f-4622-adea-5d0216efd6ef",
   "metadata": {},
   "outputs": [],
   "source": [
    "predictions = pd.DataFrame(yhat, columns = ['y_pred']).apply(def_outlier, axis = 1)"
   ]
  },
  {
   "cell_type": "code",
   "execution_count": 150,
   "id": "b6c4646e",
   "metadata": {},
   "outputs": [
    {
     "data": {
      "text/plain": [
       "0.6812781455563397"
      ]
     },
     "execution_count": 150,
     "metadata": {},
     "output_type": "execute_result"
    }
   ],
   "source": [
    "fpr, tpr, _ = metrics.roc_curve(target, y_scores)\n",
    "bank_lin_oc_svm_auc = metrics.auc(fpr, tpr)\n",
    "metrics.auc(fpr, tpr)"
   ]
  },
  {
   "cell_type": "code",
   "execution_count": 151,
   "id": "325af7bb-483c-4676-b635-1cd22b72b310",
   "metadata": {},
   "outputs": [
    {
     "name": "stdout",
     "output_type": "stream",
     "text": [
      "              precision    recall  f1-score   support\n",
      "\n",
      "           0       0.91      0.92      0.92     36548\n",
      "           1       0.31      0.27      0.29      4640\n",
      "\n",
      "    accuracy                           0.85     41188\n",
      "   macro avg       0.61      0.60      0.60     41188\n",
      "weighted avg       0.84      0.85      0.84     41188\n",
      "\n"
     ]
    }
   ],
   "source": [
    "bank_lin_oc_svm_report = classification_report(target, predictions, target_names = ['0','1'], output_dict = True)\n",
    "print(classification_report(target, predictions, target_names = ['0','1']))"
   ]
  },
  {
   "cell_type": "code",
   "execution_count": 152,
   "id": "6a1e5be0",
   "metadata": {},
   "outputs": [
    {
     "name": "stdout",
     "output_type": "stream",
     "text": [
      "0.24555551489901745\n"
     ]
    }
   ],
   "source": [
    "precision, recall, thresholds = precision_recall_curve(target, y_scores)\n",
    "bank_ocsvm_lin_auc_precision_recall = metrics.auc(recall, precision)\n",
    "print(bank_ocsvm_lin_auc_precision_recall)"
   ]
  },
  {
   "cell_type": "markdown",
   "id": "bf1f4758",
   "metadata": {},
   "source": [
    "## Performance"
   ]
  },
  {
   "cell_type": "code",
   "execution_count": 159,
   "id": "2f7a3c45",
   "metadata": {},
   "outputs": [],
   "source": [
    "performance = pd.DataFrame(columns = ['F1 score', 'recall', 'precision', 'AUC', 'AUPRC', \n",
    "                                      'Training time','Inference time','Total time'])"
   ]
  },
  {
   "cell_type": "code",
   "execution_count": 160,
   "id": "b679a5b9",
   "metadata": {},
   "outputs": [],
   "source": [
    "f1_score_oc_svm_lin = {'arrhythmia':arrhythmia_lin_oc_svm_report['1']['f1-score'],\n",
    "                       'cardio':cardio_lin_oc_svm_report['1']['f1-score'], \n",
    "                        'forestcover':forestcover_lin_oc_svm_report['1']['f1-score'], \n",
    "                       'annthyroid':annthyroid_lin_oc_svm_report['1']['f1-score'],       \n",
    "                        'creditcard':creditcard_lin_oc_svm_report['1']['f1-score'], \n",
    "                       'mammography':mammography_lin_oc_svm_report['1']['f1-score'], \n",
    "                        'shuttle':shuttle_lin_oc_svm_report['1']['f1-score'], \n",
    "                      'mnist':mnist_lin_oc_svm_report['1']['f1-score'], \n",
    "                  'vowels':vowels_lin_oc_svm_report['1']['f1-score'], \n",
    "                  'seismic':seismic_lin_oc_svm_report['1']['f1-score'], \n",
    "                  'musk':musk_lin_oc_svm_report['1']['f1-score'], \n",
    "                  'bank':bank_lin_oc_svm_report['1']['f1-score']}\n",
    "f1_score_oc_svm_lin_df = pd.DataFrame.from_dict(f1_score_oc_svm_lin, orient='index', columns = ['F1 score']).reset_index()"
   ]
  },
  {
   "cell_type": "code",
   "execution_count": 161,
   "id": "fb1390f3",
   "metadata": {},
   "outputs": [],
   "source": [
    "recall_oc_svm_lin = {'arrhythmia':arrhythmia_lin_oc_svm_report['1']['recall'],\n",
    "                       'cardio':cardio_lin_oc_svm_report['1']['recall'], \n",
    "                        'forestcover':forestcover_lin_oc_svm_report['1']['recall'], \n",
    "                       'annthyroid':annthyroid_lin_oc_svm_report['1']['recall'],       \n",
    "                        'creditcard':creditcard_lin_oc_svm_report['1']['recall'], \n",
    "                       'mammography':mammography_lin_oc_svm_report['1']['recall'], \n",
    "                        'shuttle':shuttle_lin_oc_svm_report['1']['recall'], \n",
    "                      'mnist':mnist_lin_oc_svm_report['1']['recall'], \n",
    "                  'vowels':vowels_lin_oc_svm_report['1']['recall'], \n",
    "                  'seismic':seismic_lin_oc_svm_report['1']['recall'], \n",
    "                  'musk':musk_lin_oc_svm_report['1']['recall'], \n",
    "                  'bank':bank_lin_oc_svm_report['1']['recall'], }\n",
    "recall_oc_svm_lin_df = pd.DataFrame.from_dict(recall_oc_svm_lin, orient='index', columns = ['Recall']).reset_index()"
   ]
  },
  {
   "cell_type": "code",
   "execution_count": 162,
   "id": "d39748b4",
   "metadata": {},
   "outputs": [],
   "source": [
    "precision_oc_svm_lin = {'arrhythmia':arrhythmia_lin_oc_svm_report['1']['precision'],\n",
    "                       'cardio':cardio_lin_oc_svm_report['1']['precision'], \n",
    "                        'forestcover':forestcover_lin_oc_svm_report['1']['precision'], \n",
    "                       'annthyroid':annthyroid_lin_oc_svm_report['1']['precision'],       \n",
    "                        'creditcard':creditcard_lin_oc_svm_report['1']['precision'], \n",
    "                       'mammography':mammography_lin_oc_svm_report['1']['precision'], \n",
    "                        'shuttle':shuttle_lin_oc_svm_report['1']['precision'], \n",
    "                      'mnist':mnist_lin_oc_svm_report['1']['precision'], \n",
    "                  'vowels':vowels_lin_oc_svm_report['1']['precision'], \n",
    "                  'seismic':seismic_lin_oc_svm_report['1']['precision'], \n",
    "                  'musk':musk_lin_oc_svm_report['1']['precision'], \n",
    "                  'bank':bank_lin_oc_svm_report['1']['precision'], }\n",
    "precision_oc_svm_lin_df = pd.DataFrame.from_dict(precision_oc_svm_lin, orient='index', columns = ['Precision']).reset_index()"
   ]
  },
  {
   "cell_type": "code",
   "execution_count": 163,
   "id": "cc28c80c",
   "metadata": {},
   "outputs": [],
   "source": [
    "auc_oc_svm_lin = {'arrhythmia':arrhythmia_lin_oc_svm_auc,\n",
    "                       'cardio':cardio_lin_oc_svm_auc, \n",
    "                        'forestcover':forestcover_lin_oc_svm_auc, \n",
    "                       'annthyroid':annthyroid_lin_oc_svm_auc,       \n",
    "                        'creditcard':creditcard_lin_oc_svm_auc, \n",
    "                       'mammography':mammography_lin_oc_svm_auc, \n",
    "                        'shuttle':shuttle_lin_oc_svm_auc, \n",
    "                      'mnist':mnist_lin_oc_svm_auc, \n",
    "                  'vowels':vowels_lin_oc_svm_auc, \n",
    "                  'seismic':seismic_lin_oc_svm_auc, \n",
    "                  'musk':musk_lin_oc_svm_auc, \n",
    "                  'bank':bank_lin_oc_svm_auc}\n",
    "auc_oc_svm_lin_df = pd.DataFrame.from_dict(auc_oc_svm_lin, orient='index', columns = ['AUC']).reset_index()"
   ]
  },
  {
   "cell_type": "code",
   "execution_count": 165,
   "id": "21f7713f",
   "metadata": {},
   "outputs": [],
   "source": [
    "auprc_oc_svm_lin = {'arrhythmia':arrhythmia_ocsvm_lin_auc_precision_recall,\n",
    "                       'cardio':cardio_ocsvm_lin_auc_precision_recall, \n",
    "                        'forestcover':forestcover_ocsvm_lin_auc_precision_recall, \n",
    "                       'annthyroid':annthyroid_ocsvm_lin_auc_precision_recall,       \n",
    "                        'creditcard':creditcard_ocsvm_lin_auc_precision_recall, \n",
    "                       'mammography':mammography_ocsvm_lin_auc_precision_recall, \n",
    "                        'shuttle':shuttle_ocsvm_lin_auc_precision_recall, \n",
    "                      'mnist':mnist_ocsvm_lin_auc_precision_recall, \n",
    "                  'vowels':vowels_ocsvm_lin_auc_precision_recall, \n",
    "                  'seismic':seismic_ocsvm_lin_auc_precision_recall, \n",
    "                  'musk':musk_ocsvm_lin_auc_precision_recall, \n",
    "                  'bank':bank_ocsvm_lin_auc_precision_recall}\n",
    "auprc_oc_svm_lin_df = pd.DataFrame.from_dict(auprc_oc_svm_lin, orient='index', columns = ['AUPRC']).reset_index()"
   ]
  },
  {
   "cell_type": "code",
   "execution_count": 166,
   "id": "046a6fb0",
   "metadata": {},
   "outputs": [],
   "source": [
    "training_time_oc_svm_lin = {'arrhythmia':arrhythmia_lin_oc_svm_train_time,\n",
    "                       'cardio':cardio_lin_oc_svm_train_time, \n",
    "                        'forestcover':forestcover_lin_oc_svm_train_time, \n",
    "                       'annthyroid':annthyroid_lin_oc_svm_train_time,       \n",
    "                        'creditcard': creditcard_lin_oc_svm_train_time, \n",
    "                       'mammography':mammography_lin_oc_svm_train_time, \n",
    "                        'shuttle':shuttle_lin_oc_svm_train_time, \n",
    "                      'mnist':mnist_lin_oc_svm_train_time, \n",
    "                  'vowels':vowels_lin_oc_svm_train_time, \n",
    "                  'seismic':seismic_lin_oc_svm_train_time, \n",
    "                  'musk':musk_lin_oc_svm_train_time, \n",
    "                  'bank':bank_lin_oc_svm_train_time}\n",
    "training_time_oc_svm_lin_df = pd.DataFrame.from_dict(training_time_oc_svm_lin, orient='index', columns = ['Training time']).reset_index()"
   ]
  },
  {
   "cell_type": "code",
   "execution_count": 167,
   "id": "ef2a52d5",
   "metadata": {},
   "outputs": [],
   "source": [
    "test_time_oc_svm_lin = {'arrhythmia':arrhythmia_lin_oc_svm_test_time,\n",
    "                       'cardio':cardio_lin_oc_svm_test_time, \n",
    "                        'forestcover':forestcover_lin_oc_svm_test_time, \n",
    "                       'annthyroid':annthyroid_lin_oc_svm_test_time,       \n",
    "                        'creditcard':creditcard_lin_oc_svm_test_time, \n",
    "                       'mammography':mammography_lin_oc_svm_test_time, \n",
    "                        'shuttle':shuttle_lin_oc_svm_test_time, \n",
    "                      'mnist':mnist_lin_oc_svm_test_time, \n",
    "                  'vowels':vowels_lin_oc_svm_test_time, \n",
    "                  'seismic':seismic_lin_oc_svm_test_time, \n",
    "                  'musk':musk_lin_oc_svm_test_time, \n",
    "                  'bank':bank_lin_oc_svm_test_time}\n",
    "test_time_oc_svm_lin_df = pd.DataFrame.from_dict(test_time_oc_svm_lin, orient='index', columns = ['Testing time']).reset_index()"
   ]
  },
  {
   "cell_type": "code",
   "execution_count": 168,
   "id": "aa1a8360",
   "metadata": {},
   "outputs": [],
   "source": [
    "total_time_oc_svm_lin = {'arrhythmia':arrhythmia_lin_oc_svm_train_time + arrhythmia_lin_oc_svm_test_time,\n",
    "                       'cardio':cardio_lin_oc_svm_train_time + cardio_lin_oc_svm_test_time, \n",
    "                        'forestcover':forestcover_lin_oc_svm_train_time + forestcover_lin_oc_svm_test_time, \n",
    "                       'annthyroid':annthyroid_lin_oc_svm_train_time + annthyroid_lin_oc_svm_test_time,       \n",
    "                        'creditcard': creditcard_lin_oc_svm_train_time + creditcard_lin_oc_svm_test_time, \n",
    "                       'mammography':mammography_lin_oc_svm_train_time + mammography_lin_oc_svm_test_time, \n",
    "                        'shuttle':shuttle_lin_oc_svm_train_time + shuttle_lin_oc_svm_test_time, \n",
    "                      'mnist':mnist_lin_oc_svm_train_time + mnist_lin_oc_svm_test_time, \n",
    "                  'vowels':vowels_lin_oc_svm_train_time + vowels_lin_oc_svm_test_time, \n",
    "                  'seismic':seismic_lin_oc_svm_train_time + seismic_lin_oc_svm_test_time, \n",
    "                  'musk':musk_lin_oc_svm_train_time + musk_lin_oc_svm_test_time, \n",
    "                  'bank':bank_lin_oc_svm_train_time + bank_lin_oc_svm_test_time}\n",
    "total_time_oc_svm_lin_df = pd.DataFrame.from_dict(total_time_oc_svm_lin, orient='index', columns = ['Total time']).reset_index()"
   ]
  },
  {
   "cell_type": "code",
   "execution_count": 170,
   "id": "599cde62",
   "metadata": {},
   "outputs": [
    {
     "data": {
      "text/html": [
       "<div>\n",
       "<style scoped>\n",
       "    .dataframe tbody tr th:only-of-type {\n",
       "        vertical-align: middle;\n",
       "    }\n",
       "\n",
       "    .dataframe tbody tr th {\n",
       "        vertical-align: top;\n",
       "    }\n",
       "\n",
       "    .dataframe thead th {\n",
       "        text-align: right;\n",
       "    }\n",
       "</style>\n",
       "<table border=\"1\" class=\"dataframe\">\n",
       "  <thead>\n",
       "    <tr style=\"text-align: right;\">\n",
       "      <th></th>\n",
       "      <th>index</th>\n",
       "      <th>F1 score</th>\n",
       "      <th>Recall</th>\n",
       "      <th>Precision</th>\n",
       "      <th>AUC</th>\n",
       "      <th>AUPRC</th>\n",
       "      <th>Training time</th>\n",
       "      <th>Testing time</th>\n",
       "      <th>Total time</th>\n",
       "    </tr>\n",
       "  </thead>\n",
       "  <tbody>\n",
       "    <tr>\n",
       "      <th>0</th>\n",
       "      <td>arrhythmia</td>\n",
       "      <td>0.368421</td>\n",
       "      <td>0.318182</td>\n",
       "      <td>0.437500</td>\n",
       "      <td>0.744151</td>\n",
       "      <td>0.363237</td>\n",
       "      <td>0.031250</td>\n",
       "      <td>0.000000</td>\n",
       "      <td>0.031250</td>\n",
       "    </tr>\n",
       "    <tr>\n",
       "      <th>1</th>\n",
       "      <td>cardio</td>\n",
       "      <td>0.211699</td>\n",
       "      <td>0.215909</td>\n",
       "      <td>0.207650</td>\n",
       "      <td>0.686858</td>\n",
       "      <td>0.214435</td>\n",
       "      <td>0.031250</td>\n",
       "      <td>0.046875</td>\n",
       "      <td>0.078125</td>\n",
       "    </tr>\n",
       "    <tr>\n",
       "      <th>2</th>\n",
       "      <td>forestcover</td>\n",
       "      <td>0.142133</td>\n",
       "      <td>0.811067</td>\n",
       "      <td>0.077891</td>\n",
       "      <td>0.943015</td>\n",
       "      <td>0.144711</td>\n",
       "      <td>781.953125</td>\n",
       "      <td>453.656250</td>\n",
       "      <td>1235.609375</td>\n",
       "    </tr>\n",
       "    <tr>\n",
       "      <th>3</th>\n",
       "      <td>annthyroid</td>\n",
       "      <td>0.095694</td>\n",
       "      <td>0.112360</td>\n",
       "      <td>0.083333</td>\n",
       "      <td>0.553862</td>\n",
       "      <td>0.086317</td>\n",
       "      <td>0.265625</td>\n",
       "      <td>0.234375</td>\n",
       "      <td>0.500000</td>\n",
       "    </tr>\n",
       "    <tr>\n",
       "      <th>4</th>\n",
       "      <td>creditcard</td>\n",
       "      <td>0.028304</td>\n",
       "      <td>0.833333</td>\n",
       "      <td>0.014397</td>\n",
       "      <td>0.910285</td>\n",
       "      <td>0.549127</td>\n",
       "      <td>1044.046875</td>\n",
       "      <td>518.890625</td>\n",
       "      <td>1562.937500</td>\n",
       "    </tr>\n",
       "    <tr>\n",
       "      <th>5</th>\n",
       "      <td>mammography</td>\n",
       "      <td>0.003901</td>\n",
       "      <td>0.026923</td>\n",
       "      <td>0.002103</td>\n",
       "      <td>0.368794</td>\n",
       "      <td>0.030144</td>\n",
       "      <td>0.703125</td>\n",
       "      <td>0.656250</td>\n",
       "      <td>1.359375</td>\n",
       "    </tr>\n",
       "    <tr>\n",
       "      <th>6</th>\n",
       "      <td>shuttle</td>\n",
       "      <td>0.005226</td>\n",
       "      <td>0.006266</td>\n",
       "      <td>0.004482</td>\n",
       "      <td>0.165217</td>\n",
       "      <td>0.043863</td>\n",
       "      <td>21.750000</td>\n",
       "      <td>12.578125</td>\n",
       "      <td>34.328125</td>\n",
       "    </tr>\n",
       "    <tr>\n",
       "      <th>7</th>\n",
       "      <td>mnist</td>\n",
       "      <td>0.364384</td>\n",
       "      <td>0.380000</td>\n",
       "      <td>0.350000</td>\n",
       "      <td>0.800811</td>\n",
       "      <td>0.327380</td>\n",
       "      <td>0.531250</td>\n",
       "      <td>0.484375</td>\n",
       "      <td>1.015625</td>\n",
       "    </tr>\n",
       "    <tr>\n",
       "      <th>8</th>\n",
       "      <td>vowels</td>\n",
       "      <td>0.000000</td>\n",
       "      <td>0.000000</td>\n",
       "      <td>0.000000</td>\n",
       "      <td>0.110939</td>\n",
       "      <td>0.018213</td>\n",
       "      <td>0.015625</td>\n",
       "      <td>0.015625</td>\n",
       "      <td>0.031250</td>\n",
       "    </tr>\n",
       "    <tr>\n",
       "      <th>9</th>\n",
       "      <td>seismic</td>\n",
       "      <td>0.018692</td>\n",
       "      <td>0.023529</td>\n",
       "      <td>0.015504</td>\n",
       "      <td>0.282204</td>\n",
       "      <td>0.041747</td>\n",
       "      <td>0.046875</td>\n",
       "      <td>0.031250</td>\n",
       "      <td>0.078125</td>\n",
       "    </tr>\n",
       "    <tr>\n",
       "      <th>10</th>\n",
       "      <td>musk</td>\n",
       "      <td>0.455446</td>\n",
       "      <td>0.948454</td>\n",
       "      <td>0.299674</td>\n",
       "      <td>0.979110</td>\n",
       "      <td>0.606378</td>\n",
       "      <td>0.078125</td>\n",
       "      <td>0.140625</td>\n",
       "      <td>0.218750</td>\n",
       "    </tr>\n",
       "    <tr>\n",
       "      <th>11</th>\n",
       "      <td>bank</td>\n",
       "      <td>0.289008</td>\n",
       "      <td>0.272845</td>\n",
       "      <td>0.307207</td>\n",
       "      <td>0.681278</td>\n",
       "      <td>0.245556</td>\n",
       "      <td>34.453125</td>\n",
       "      <td>12.125000</td>\n",
       "      <td>46.578125</td>\n",
       "    </tr>\n",
       "  </tbody>\n",
       "</table>\n",
       "</div>"
      ],
      "text/plain": [
       "          index  F1 score    Recall  Precision       AUC     AUPRC  \\\n",
       "0    arrhythmia  0.368421  0.318182   0.437500  0.744151  0.363237   \n",
       "1        cardio  0.211699  0.215909   0.207650  0.686858  0.214435   \n",
       "2   forestcover  0.142133  0.811067   0.077891  0.943015  0.144711   \n",
       "3    annthyroid  0.095694  0.112360   0.083333  0.553862  0.086317   \n",
       "4    creditcard  0.028304  0.833333   0.014397  0.910285  0.549127   \n",
       "5   mammography  0.003901  0.026923   0.002103  0.368794  0.030144   \n",
       "6       shuttle  0.005226  0.006266   0.004482  0.165217  0.043863   \n",
       "7         mnist  0.364384  0.380000   0.350000  0.800811  0.327380   \n",
       "8        vowels  0.000000  0.000000   0.000000  0.110939  0.018213   \n",
       "9       seismic  0.018692  0.023529   0.015504  0.282204  0.041747   \n",
       "10         musk  0.455446  0.948454   0.299674  0.979110  0.606378   \n",
       "11         bank  0.289008  0.272845   0.307207  0.681278  0.245556   \n",
       "\n",
       "    Training time  Testing time   Total time  \n",
       "0        0.031250      0.000000     0.031250  \n",
       "1        0.031250      0.046875     0.078125  \n",
       "2      781.953125    453.656250  1235.609375  \n",
       "3        0.265625      0.234375     0.500000  \n",
       "4     1044.046875    518.890625  1562.937500  \n",
       "5        0.703125      0.656250     1.359375  \n",
       "6       21.750000     12.578125    34.328125  \n",
       "7        0.531250      0.484375     1.015625  \n",
       "8        0.015625      0.015625     0.031250  \n",
       "9        0.046875      0.031250     0.078125  \n",
       "10       0.078125      0.140625     0.218750  \n",
       "11      34.453125     12.125000    46.578125  "
      ]
     },
     "execution_count": 170,
     "metadata": {},
     "output_type": "execute_result"
    }
   ],
   "source": [
    "pd.merge(pd.merge(pd.merge(pd.merge(pd.merge(pd.merge(pd.merge(f1_score_oc_svm_lin_df, recall_oc_svm_lin_df, how = 'inner'), \n",
    "                                    precision_oc_svm_lin_df, how ='inner'),\n",
    "         auc_oc_svm_lin_df, how = 'inner'), auprc_oc_svm_lin_df, how = 'inner'), training_time_oc_svm_lin_df, how = 'inner'), \n",
    "         test_time_oc_svm_lin_df, how = 'inner'),total_time_oc_svm_lin_df, how = 'inner')"
   ]
  },
  {
   "cell_type": "code",
   "execution_count": null,
   "id": "0aec86b8",
   "metadata": {},
   "outputs": [],
   "source": []
  }
 ],
 "metadata": {
  "environment": {
   "name": "common-cpu.m80",
   "type": "gcloud",
   "uri": "gcr.io/deeplearning-platform-release/base-cpu:m80"
  },
  "kernelspec": {
   "display_name": "Python 3.10.2 ('env': venv)",
   "language": "python",
   "name": "python3"
  },
  "language_info": {
   "codemirror_mode": {
    "name": "ipython",
    "version": 3
   },
   "file_extension": ".py",
   "mimetype": "text/x-python",
   "name": "python",
   "nbconvert_exporter": "python",
   "pygments_lexer": "ipython3",
   "version": "3.10.2"
  },
  "vscode": {
   "interpreter": {
    "hash": "c7bb90c4ec68b2a8968b0075ab0b1cb7a78770acf7a7acf2e36e903fa05bac64"
   }
  }
 },
 "nbformat": 4,
 "nbformat_minor": 5
}
